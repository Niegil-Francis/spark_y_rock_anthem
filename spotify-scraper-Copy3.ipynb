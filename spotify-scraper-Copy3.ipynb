{
 "cells": [
  {
   "cell_type": "code",
   "execution_count": 13,
   "id": "66ac76f1",
   "metadata": {},
   "outputs": [],
   "source": [
    "import pandas as pd\n",
    "import spotipy\n",
    "from spotipy.oauth2 import SpotifyClientCredentials\n",
    "from bs4 import BeautifulSoup\n",
    "import requests\n",
    "import glob\n",
    "import json\n",
    "import copy\n",
    "import tqdm\n",
    "import time\n",
    "import base64\n",
    "from requests import post, get\n",
    "from collections import defaultdict"
   ]
  },
  {
   "cell_type": "code",
   "execution_count": 14,
   "id": "cabab0cf",
   "metadata": {},
   "outputs": [],
   "source": [
    "# Client ID\n",
    "cid = ''\n",
    "\n",
    "# Client secret\n",
    "secret = ''"
   ]
  },
  {
   "cell_type": "code",
   "execution_count": 15,
   "metadata": {},
   "outputs": [],
   "source": [
    "# Getting all the file names scraped from rate your music\n",
    "rating = ['top','bottom','popular','esoteric','diverse']\n",
    "path = \"data/rate_your_music_data/{}/\"\n",
    "all_paths = {}\n",
    "for order in rating:\n",
    "    temp = path.format(order)\n",
    "    all_paths[order] = []\n",
    "    for file in glob.glob(temp+\"*.json\"):\n",
    "        all_paths[order].append(file)"
   ]
  },
  {
   "cell_type": "code",
   "execution_count": 16,
   "metadata": {},
   "outputs": [],
   "source": [
    "# Getting the authorization token\n",
    "def get_token():\n",
    "    auth_string = cid + \":\" + secret\n",
    "    auth_bytes = auth_string.encode(\"utf-8\")\n",
    "    auth_base64 = str(base64.b64encode(auth_bytes),\"utf-8\")\n",
    "    \n",
    "    url = \"https://accounts.spotify.com/api/token\"\n",
    "    \n",
    "    headers = {\n",
    "        \"Authorization\": \"Basic \" + auth_base64,\n",
    "        \"Content-Type\": \"application/x-www-form-urlencoded\"\n",
    "    }\n",
    "    data = {\"grant_type\":\"client_credentials\"}\n",
    "    \n",
    "    result = post(url, headers = headers, data = data)\n",
    "    res = json.loads(result.content)\n",
    "    token = res[\"access_token\"]\n",
    "    return token"
   ]
  },
  {
   "cell_type": "code",
   "execution_count": 17,
   "metadata": {},
   "outputs": [],
   "source": [
    "# Storing the token\n",
    "token = get_token()"
   ]
  },
  {
   "cell_type": "code",
   "execution_count": 18,
   "metadata": {},
   "outputs": [],
   "source": [
    "# Function to get the authentication headers\n",
    "def get_auth_header(token):\n",
    "    return {\"Authorization\":\"Bearer \"+ token}"
   ]
  },
  {
   "cell_type": "code",
   "execution_count": 19,
   "metadata": {},
   "outputs": [],
   "source": [
    "# Function to get uri's of album and artist\n",
    "def api_get_uri(album,artist):\n",
    "    url = \"https://api.spotify.com/v1/search?\"\n",
    "    headers = get_auth_header(token)\n",
    "    query = f\"q=album:{album} artist:{artist}&type=album&limit=1\"\n",
    "    result = get(url+query, headers = headers)\n",
    "    \n",
    "    # Returns -1 if rate limit of spotify is hit\n",
    "    if result.status_code == 429:\n",
    "        print(\"Limit Reached\")\n",
    "        return -1, -1\n",
    "    else:\n",
    "        result = json.loads(result.content)\n",
    "        if result['albums']['items']:\n",
    "            album_uri = result['albums']['items'][0]['uri']\n",
    "            artist_uri = result['albums']['items'][0]['artists'][0]['uri']\n",
    "            return album_uri, artist_uri\n",
    "        else:\n",
    "            return None, None\n",
    "    \n",
    "    \n",
    "    "
   ]
  },
  {
   "cell_type": "code",
   "execution_count": 20,
   "metadata": {},
   "outputs": [],
   "source": [
    "# Function to get artist data\n",
    "def api_get_artist_data(uri):\n",
    "    id_ = uri.split(\":\")[-1]\n",
    "    url = f\"https://api.spotify.com/v1/artists/{id_}\"\n",
    "    headers = get_auth_header(token)\n",
    "    result = get(url, headers = headers)\n",
    "    \n",
    "    if result.status_code == 429:\n",
    "        print(\"Limit Reached\")\n",
    "        return -1\n",
    "    else:\n",
    "        one = json.loads(result.content)\n",
    "        return one\n",
    "\n",
    "    "
   ]
  },
  {
   "cell_type": "code",
   "execution_count": 21,
   "metadata": {},
   "outputs": [],
   "source": [
    "# Function to get track features\n",
    "def api_get_audio_feat(uri):\n",
    "    id_ = uri.split(\":\")[-1]\n",
    "    url = f\"https://api.spotify.com/v1/audio-features/{id_}\"\n",
    "    headers = get_auth_header(token)\n",
    "    \n",
    "    time.sleep(sleeper['feat'])\n",
    "    result = get(url, headers = headers)\n",
    "    if result.status_code == 429:\n",
    "        print(\"Limit Reached\")\n",
    "        sleeper['feat']+=0.5\n",
    "        return -1\n",
    "    else:\n",
    "        one = json.loads(result.content)\n",
    "        return one"
   ]
  },
  {
   "cell_type": "code",
   "execution_count": 22,
   "metadata": {},
   "outputs": [],
   "source": [
    "# Function to get track data\n",
    "def api_get_track_data(uri):\n",
    "    id_ = uri.split(\":\")[-1]\n",
    "    \n",
    "    url = f\"https://api.spotify.com/v1/tracks/{id_}\"\n",
    "    headers = get_auth_header(token)\n",
    "    \n",
    "    time.sleep(sleeper['tracks'])\n",
    "    result = get(url, headers = headers)\n",
    "    \n",
    "    if result.status_code == 429:\n",
    "        print(\"Limit Reached\")\n",
    "        sleeper['tracks']+=0.5\n",
    "        return -1\n",
    "    else:\n",
    "        one = json.loads(result.content)\n",
    "        return one"
   ]
  },
  {
   "cell_type": "code",
   "execution_count": 23,
   "metadata": {},
   "outputs": [],
   "source": [
    "# Function to get tracks of each album and its features\n",
    "def api_get_album_tracks(uri):\n",
    "    url = \"https://api.spotify.com/v1\"\n",
    "    \n",
    "    headers = get_auth_header(token)\n",
    "    id_ = uri.split(\":\")[-1]\n",
    "    query = \"/albums/{}/tracks?offset=0&limit=50\".format(id_)\n",
    "    result = get(url+query,headers = headers)\n",
    "    \n",
    "    if result.status_code == 429:\n",
    "        print(\"Limit Reached\")\n",
    "        return -1\n",
    "    else:\n",
    "        one = json.loads(result.content)\n",
    "        data = pd.DataFrame(one)\n",
    "        tracks = []\n",
    "        for i, x in data['items'].items():\n",
    "            track = {}\n",
    "            track['spotify track uri'] = x['uri']\n",
    "            track['spotify track name'] = x['name']\n",
    "            track['spotify track number'] = x['track_number']\n",
    "            track['spotify disc number'] = x['disc_number']\n",
    "            \n",
    "            \n",
    "            track_data = api_get_track_data(x['uri'])\n",
    "            if track_data == -1:\n",
    "                track['spotify track popularity'] = None\n",
    "                track['spotify track duration'] = None\n",
    "            else:\n",
    "                track['spotify track popularity'] = track_data['popularity']\n",
    "                track['spotify track duration'] = track_data['duration_ms']\n",
    "            \n",
    "            features = api_get_audio_feat(x['uri'])\n",
    "            if features != None and features != -1:\n",
    "                 track['spotify track features'] = {\n",
    "                'acousticness': features['acousticness'],\n",
    "                'danceability': features['danceability'],\n",
    "                'energy': features['energy'],\n",
    "                'instrumentalness': features['instrumentalness'],\n",
    "                'liveness': features['liveness'],\n",
    "                'loudness': features['loudness'],\n",
    "                'speechiness': features['speechiness'],\n",
    "                'tempo': features['tempo'],\n",
    "                'valence': features['valence']}\n",
    "            else:\n",
    "                track['spotify track features'] = None\n",
    "\n",
    "\n",
    "\n",
    "\n",
    "            tracks.append(track)\n",
    "        return tracks\n",
    "    \n",
    "    "
   ]
  },
  {
   "cell_type": "code",
   "execution_count": 24,
   "metadata": {},
   "outputs": [
    {
     "name": "stderr",
     "output_type": "stream",
     "text": [
      " 83%|███████████████████████████████████████████████████████████████▋             | 860/1040 [3:47:49<58:03, 19.35s/it]"
     ]
    },
    {
     "name": "stdout",
     "output_type": "stream",
     "text": [
      "Limit Reached\n",
      "Limit Reached\n"
     ]
    },
    {
     "name": "stderr",
     "output_type": "stream",
     "text": [
      "\r",
      " 83%|███████████████████████████████████████████████████████████████▋             | 861/1040 [3:47:51<42:39, 14.30s/it]"
     ]
    },
    {
     "name": "stdout",
     "output_type": "stream",
     "text": [
      "Limit Reached\n",
      "Limit Reached\n"
     ]
    },
    {
     "name": "stderr",
     "output_type": "stream",
     "text": [
      "\r",
      " 83%|███████████████████████████████████████████████████████████████▊             | 862/1040 [3:47:55<32:47, 11.05s/it]"
     ]
    },
    {
     "name": "stdout",
     "output_type": "stream",
     "text": [
      "Limit Reached\n",
      "Limit Reached\n"
     ]
    },
    {
     "name": "stderr",
     "output_type": "stream",
     "text": [
      "\r",
      " 83%|███████████████████████████████████████████████████████████████▉             | 863/1040 [3:47:59<26:46,  9.08s/it]"
     ]
    },
    {
     "name": "stdout",
     "output_type": "stream",
     "text": [
      "Limit Reached\n",
      "Limit Reached\n"
     ]
    },
    {
     "name": "stderr",
     "output_type": "stream",
     "text": [
      "\r",
      " 83%|███████████████████████████████████████████████████████████████▉             | 864/1040 [3:48:05<23:28,  8.00s/it]"
     ]
    },
    {
     "name": "stdout",
     "output_type": "stream",
     "text": [
      "Limit Reached\n",
      "Limit Reached\n"
     ]
    },
    {
     "name": "stderr",
     "output_type": "stream",
     "text": [
      "\r",
      " 83%|████████████████████████████████████████████████████████████████             | 865/1040 [3:48:11<22:01,  7.55s/it]"
     ]
    },
    {
     "name": "stdout",
     "output_type": "stream",
     "text": [
      "Limit Reached\n",
      "Limit Reached\n"
     ]
    },
    {
     "name": "stderr",
     "output_type": "stream",
     "text": [
      "\r",
      " 83%|████████████████████████████████████████████████████████████████             | 866/1040 [3:48:19<21:56,  7.57s/it]"
     ]
    },
    {
     "name": "stdout",
     "output_type": "stream",
     "text": [
      "Limit Reached\n",
      "Limit Reached\n"
     ]
    },
    {
     "name": "stderr",
     "output_type": "stream",
     "text": [
      "\r",
      " 83%|████████████████████████████████████████████████████████████████▏            | 867/1040 [3:48:27<22:40,  7.87s/it]"
     ]
    },
    {
     "name": "stdout",
     "output_type": "stream",
     "text": [
      "Limit Reached\n"
     ]
    },
    {
     "name": "stderr",
     "output_type": "stream",
     "text": [
      " 84%|████████████████████████████████████████████████████████████████▎            | 869/1040 [3:48:29<11:57,  4.20s/it]"
     ]
    },
    {
     "name": "stdout",
     "output_type": "stream",
     "text": [
      "Limit Reached\n"
     ]
    },
    {
     "name": "stderr",
     "output_type": "stream",
     "text": [
      "\r",
      " 84%|████████████████████████████████████████████████████████████████▍            | 870/1040 [3:48:38<16:23,  5.79s/it]"
     ]
    },
    {
     "name": "stdout",
     "output_type": "stream",
     "text": [
      "Limit Reached\n",
      "Limit Reached\n"
     ]
    },
    {
     "name": "stderr",
     "output_type": "stream",
     "text": [
      "\r",
      " 84%|████████████████████████████████████████████████████████████████▍            | 871/1040 [3:48:49<20:15,  7.19s/it]"
     ]
    },
    {
     "name": "stdout",
     "output_type": "stream",
     "text": [
      "Limit Reached\n"
     ]
    },
    {
     "name": "stderr",
     "output_type": "stream",
     "text": [
      "\r",
      " 84%|████████████████████████████████████████████████████████████████▌            | 872/1040 [3:48:49<14:38,  5.23s/it]"
     ]
    },
    {
     "name": "stdout",
     "output_type": "stream",
     "text": [
      "Limit Reached\n"
     ]
    },
    {
     "name": "stderr",
     "output_type": "stream",
     "text": [
      "\r",
      " 84%|████████████████████████████████████████████████████████████████▋            | 873/1040 [3:49:01<19:45,  7.10s/it]"
     ]
    },
    {
     "name": "stdout",
     "output_type": "stream",
     "text": [
      "Limit Reached\n",
      "Limit Reached\n"
     ]
    },
    {
     "name": "stderr",
     "output_type": "stream",
     "text": [
      "\r",
      " 84%|████████████████████████████████████████████████████████████████▋            | 874/1040 [3:49:13<24:08,  8.72s/it]"
     ]
    },
    {
     "name": "stdout",
     "output_type": "stream",
     "text": [
      "Limit Reached\n",
      "Limit Reached\n"
     ]
    },
    {
     "name": "stderr",
     "output_type": "stream",
     "text": [
      "\r",
      " 84%|████████████████████████████████████████████████████████████████▊            | 875/1040 [3:49:27<27:59, 10.18s/it]"
     ]
    },
    {
     "name": "stdout",
     "output_type": "stream",
     "text": [
      "Limit Reached\n",
      "Limit Reached\n"
     ]
    },
    {
     "name": "stderr",
     "output_type": "stream",
     "text": [
      "\r",
      " 84%|████████████████████████████████████████████████████████████████▊            | 876/1040 [3:49:41<31:23, 11.48s/it]"
     ]
    },
    {
     "name": "stdout",
     "output_type": "stream",
     "text": [
      "Limit Reached\n",
      "Limit Reached\n"
     ]
    },
    {
     "name": "stderr",
     "output_type": "stream",
     "text": [
      "\r",
      " 84%|████████████████████████████████████████████████████████████████▉            | 877/1040 [3:49:57<34:32, 12.72s/it]"
     ]
    },
    {
     "name": "stdout",
     "output_type": "stream",
     "text": [
      "Limit Reached\n",
      "Limit Reached\n"
     ]
    },
    {
     "name": "stderr",
     "output_type": "stream",
     "text": [
      "\r",
      " 84%|█████████████████████████████████████████████████████████████████            | 878/1040 [3:50:14<37:24, 13.86s/it]"
     ]
    },
    {
     "name": "stdout",
     "output_type": "stream",
     "text": [
      "Limit Reached\n"
     ]
    },
    {
     "name": "stderr",
     "output_type": "stream",
     "text": [
      "\r",
      " 85%|█████████████████████████████████████████████████████████████████            | 879/1040 [3:50:14<26:33,  9.89s/it]"
     ]
    },
    {
     "name": "stdout",
     "output_type": "stream",
     "text": [
      "Limit Reached\n"
     ]
    },
    {
     "name": "stderr",
     "output_type": "stream",
     "text": [
      "\r",
      " 85%|█████████████████████████████████████████████████████████████████▏           | 880/1040 [3:50:32<32:27, 12.17s/it]"
     ]
    },
    {
     "name": "stdout",
     "output_type": "stream",
     "text": [
      "Limit Reached\n",
      "Limit Reached\n"
     ]
    },
    {
     "name": "stderr",
     "output_type": "stream",
     "text": [
      "\r",
      " 85%|█████████████████████████████████████████████████████████████████▏           | 881/1040 [3:50:50<37:21, 14.10s/it]"
     ]
    },
    {
     "name": "stdout",
     "output_type": "stream",
     "text": [
      "Limit Reached\n"
     ]
    },
    {
     "name": "stderr",
     "output_type": "stream",
     "text": [
      "\r",
      " 85%|█████████████████████████████████████████████████████████████████▎           | 882/1040 [3:50:51<26:31, 10.07s/it]"
     ]
    },
    {
     "name": "stdout",
     "output_type": "stream",
     "text": [
      "Limit Reached\n"
     ]
    },
    {
     "name": "stderr",
     "output_type": "stream",
     "text": [
      "\r",
      " 85%|█████████████████████████████████████████████████████████████████▍           | 883/1040 [3:51:10<33:45, 12.90s/it]"
     ]
    },
    {
     "name": "stdout",
     "output_type": "stream",
     "text": [
      "Limit Reached\n",
      "Limit Reached\n"
     ]
    },
    {
     "name": "stderr",
     "output_type": "stream",
     "text": [
      "\r",
      " 85%|█████████████████████████████████████████████████████████████████▍           | 884/1040 [3:51:31<39:26, 15.17s/it]"
     ]
    },
    {
     "name": "stdout",
     "output_type": "stream",
     "text": [
      "Limit Reached\n",
      "Limit Reached\n"
     ]
    },
    {
     "name": "stderr",
     "output_type": "stream",
     "text": [
      "\r",
      " 85%|█████████████████████████████████████████████████████████████████▌           | 885/1040 [3:51:52<44:08, 17.09s/it]"
     ]
    },
    {
     "name": "stdout",
     "output_type": "stream",
     "text": [
      "Limit Reached\n",
      "Limit Reached\n"
     ]
    },
    {
     "name": "stderr",
     "output_type": "stream",
     "text": [
      "\r",
      " 85%|█████████████████████████████████████████████████████████████████▌           | 886/1040 [3:52:15<48:03, 18.72s/it]"
     ]
    },
    {
     "name": "stdout",
     "output_type": "stream",
     "text": [
      "Limit Reached\n"
     ]
    },
    {
     "name": "stderr",
     "output_type": "stream",
     "text": [
      " 85%|█████████████████████████████████████████████████████████████████▋           | 888/1040 [3:52:16<24:06,  9.52s/it]"
     ]
    },
    {
     "name": "stdout",
     "output_type": "stream",
     "text": [
      "Limit Reached\n"
     ]
    },
    {
     "name": "stderr",
     "output_type": "stream",
     "text": [
      "\r",
      " 85%|█████████████████████████████████████████████████████████████████▊           | 889/1040 [3:52:40<34:30, 13.71s/it]"
     ]
    },
    {
     "name": "stdout",
     "output_type": "stream",
     "text": [
      "Limit Reached\n",
      "Limit Reached\n"
     ]
    },
    {
     "name": "stderr",
     "output_type": "stream",
     "text": [
      "\r",
      " 86%|█████████████████████████████████████████████████████████████████▉           | 890/1040 [3:53:04<42:25, 16.97s/it]"
     ]
    },
    {
     "name": "stdout",
     "output_type": "stream",
     "text": [
      "Limit Reached\n"
     ]
    },
    {
     "name": "stderr",
     "output_type": "stream",
     "text": [
      " 86%|██████████████████████████████████████████████████████████████████▏          | 894/1040 [3:53:07<11:06,  4.56s/it]"
     ]
    },
    {
     "name": "stdout",
     "output_type": "stream",
     "text": [
      "Limit Reached\n"
     ]
    },
    {
     "name": "stderr",
     "output_type": "stream",
     "text": [
      "\r",
      " 86%|██████████████████████████████████████████████████████████████████▎          | 895/1040 [3:53:33<26:16, 10.87s/it]"
     ]
    },
    {
     "name": "stdout",
     "output_type": "stream",
     "text": [
      "Limit Reached\n",
      "Limit Reached\n"
     ]
    },
    {
     "name": "stderr",
     "output_type": "stream",
     "text": [
      "\r",
      " 86%|██████████████████████████████████████████████████████████████████▎          | 896/1040 [3:53:59<37:25, 15.59s/it]"
     ]
    },
    {
     "name": "stdout",
     "output_type": "stream",
     "text": [
      "Limit Reached\n",
      "Limit Reached\n"
     ]
    },
    {
     "name": "stderr",
     "output_type": "stream",
     "text": [
      "\r",
      " 86%|██████████████████████████████████████████████████████████████████▍          | 897/1040 [3:54:27<45:43, 19.19s/it]"
     ]
    },
    {
     "name": "stdout",
     "output_type": "stream",
     "text": [
      "Limit Reached\n",
      "Limit Reached\n"
     ]
    },
    {
     "name": "stderr",
     "output_type": "stream",
     "text": [
      "\r",
      " 86%|██████████████████████████████████████████████████████████████████▍          | 898/1040 [3:54:55<52:00, 21.98s/it]"
     ]
    },
    {
     "name": "stdout",
     "output_type": "stream",
     "text": [
      "Limit Reached\n"
     ]
    },
    {
     "name": "stderr",
     "output_type": "stream",
     "text": [
      "\r",
      " 86%|██████████████████████████████████████████████████████████████████▌          | 899/1040 [3:54:56<36:35, 15.57s/it]"
     ]
    },
    {
     "name": "stdout",
     "output_type": "stream",
     "text": [
      "Limit Reached\n"
     ]
    },
    {
     "name": "stderr",
     "output_type": "stream",
     "text": [
      "\r",
      " 87%|██████████████████████████████████████████████████████████████████▋          | 900/1040 [3:55:25<46:08, 19.77s/it]"
     ]
    },
    {
     "name": "stdout",
     "output_type": "stream",
     "text": [
      "Limit Reached\n",
      "Limit Reached\n"
     ]
    },
    {
     "name": "stderr",
     "output_type": "stream",
     "text": [
      "\r",
      " 87%|██████████████████████████████████████████████████████████████████▋          | 901/1040 [3:55:56<53:18, 23.01s/it]"
     ]
    },
    {
     "name": "stdout",
     "output_type": "stream",
     "text": [
      "Limit Reached\n",
      "Limit Reached\n"
     ]
    },
    {
     "name": "stderr",
     "output_type": "stream",
     "text": [
      "\r",
      " 87%|██████████████████████████████████████████████████████████████████▊          | 902/1040 [3:56:28<58:55, 25.62s/it]"
     ]
    },
    {
     "name": "stdout",
     "output_type": "stream",
     "text": [
      "Limit Reached\n"
     ]
    },
    {
     "name": "stderr",
     "output_type": "stream",
     "text": [
      "\r",
      " 87%|██████████████████████████████████████████████████████████████████▊          | 903/1040 [3:56:28<41:22, 18.12s/it]"
     ]
    },
    {
     "name": "stdout",
     "output_type": "stream",
     "text": [
      "Limit Reached\n"
     ]
    },
    {
     "name": "stderr",
     "output_type": "stream",
     "text": [
      "\r",
      " 87%|██████████████████████████████████████████████████████████████████▉          | 904/1040 [3:57:01<50:49, 22.43s/it]"
     ]
    },
    {
     "name": "stdout",
     "output_type": "stream",
     "text": [
      "Limit Reached\n"
     ]
    },
    {
     "name": "stderr",
     "output_type": "stream",
     "text": [
      " 87%|███████████████████████████████████████████████████████████████████          | 906/1040 [3:57:02<25:18, 11.33s/it]"
     ]
    },
    {
     "name": "stdout",
     "output_type": "stream",
     "text": [
      "Limit Reached\n"
     ]
    },
    {
     "name": "stderr",
     "output_type": "stream",
     "text": [
      "\r",
      " 87%|███████████████████████████████████████████████████████████████████▏         | 907/1040 [3:57:36<39:52, 17.99s/it]"
     ]
    },
    {
     "name": "stdout",
     "output_type": "stream",
     "text": [
      "Limit Reached\n",
      "Limit Reached\n"
     ]
    },
    {
     "name": "stderr",
     "output_type": "stream",
     "text": [
      "\r",
      " 87%|███████████████████████████████████████████████████████████████████▏         | 908/1040 [3:58:11<50:43, 23.05s/it]"
     ]
    },
    {
     "name": "stdout",
     "output_type": "stream",
     "text": [
      "Limit Reached\n"
     ]
    },
    {
     "name": "stderr",
     "output_type": "stream",
     "text": [
      "\r",
      " 87%|███████████████████████████████████████████████████████████████████▎         | 909/1040 [3:58:11<35:39, 16.33s/it]"
     ]
    },
    {
     "name": "stdout",
     "output_type": "stream",
     "text": [
      "Limit Reached\n"
     ]
    },
    {
     "name": "stderr",
     "output_type": "stream",
     "text": [
      "\r",
      " 88%|███████████████████████████████████████████████████████████████████▍         | 910/1040 [3:58:47<47:50, 22.08s/it]"
     ]
    },
    {
     "name": "stdout",
     "output_type": "stream",
     "text": [
      "Limit Reached\n"
     ]
    },
    {
     "name": "stderr",
     "output_type": "stream",
     "text": [
      "\r",
      " 88%|███████████████████████████████████████████████████████████████████▍         | 911/1040 [3:58:47<33:39, 15.65s/it]"
     ]
    },
    {
     "name": "stdout",
     "output_type": "stream",
     "text": [
      "Limit Reached\n"
     ]
    },
    {
     "name": "stderr",
     "output_type": "stream",
     "text": [
      "\r",
      " 88%|███████████████████████████████████████████████████████████████████▌         | 912/1040 [3:59:24<46:43, 21.90s/it]"
     ]
    },
    {
     "name": "stdout",
     "output_type": "stream",
     "text": [
      "Limit Reached\n"
     ]
    },
    {
     "name": "stderr",
     "output_type": "stream",
     "text": [
      "\r",
      " 88%|███████████████████████████████████████████████████████████████████▌         | 913/1040 [3:59:24<32:52, 15.53s/it]"
     ]
    },
    {
     "name": "stdout",
     "output_type": "stream",
     "text": [
      "Limit Reached\n"
     ]
    },
    {
     "name": "stderr",
     "output_type": "stream",
     "text": [
      "\r",
      " 88%|███████████████████████████████████████████████████████████████████▋         | 914/1040 [4:00:02<46:31, 22.16s/it]"
     ]
    },
    {
     "name": "stdout",
     "output_type": "stream",
     "text": [
      "Limit Reached\n"
     ]
    },
    {
     "name": "stderr",
     "output_type": "stream",
     "text": [
      " 88%|███████████████████████████████████████████████████████████████████▊         | 916/1040 [4:00:03<23:06, 11.18s/it]"
     ]
    },
    {
     "name": "stdout",
     "output_type": "stream",
     "text": [
      "Limit Reached\n"
     ]
    },
    {
     "name": "stderr",
     "output_type": "stream",
     "text": [
      "\r",
      " 88%|███████████████████████████████████████████████████████████████████▉         | 917/1040 [4:00:42<39:43, 19.38s/it]"
     ]
    },
    {
     "name": "stdout",
     "output_type": "stream",
     "text": [
      "Limit Reached\n",
      "Limit Reached\n"
     ]
    },
    {
     "name": "stderr",
     "output_type": "stream",
     "text": [
      "\r",
      " 88%|███████████████████████████████████████████████████████████████████▉         | 918/1040 [4:01:21<51:42, 25.43s/it]"
     ]
    },
    {
     "name": "stdout",
     "output_type": "stream",
     "text": [
      "Limit Reached\n",
      "Limit Reached\n"
     ]
    },
    {
     "name": "stderr",
     "output_type": "stream",
     "text": [
      "\r",
      " 88%|██████████████████████████████████████████████████████████████████▎        | 919/1040 [4:02:02<1:00:32, 30.02s/it]"
     ]
    },
    {
     "name": "stdout",
     "output_type": "stream",
     "text": [
      "Limit Reached\n",
      "Limit Reached\n"
     ]
    },
    {
     "name": "stderr",
     "output_type": "stream",
     "text": [
      "\r",
      " 88%|██████████████████████████████████████████████████████████████████▎        | 920/1040 [4:02:44<1:06:55, 33.46s/it]"
     ]
    },
    {
     "name": "stdout",
     "output_type": "stream",
     "text": [
      "Limit Reached\n",
      "Limit Reached\n"
     ]
    },
    {
     "name": "stderr",
     "output_type": "stream",
     "text": [
      "\r",
      " 89%|██████████████████████████████████████████████████████████████████▍        | 921/1040 [4:03:26<1:11:48, 36.20s/it]"
     ]
    },
    {
     "name": "stdout",
     "output_type": "stream",
     "text": [
      "Limit Reached\n"
     ]
    },
    {
     "name": "stderr",
     "output_type": "stream",
     "text": [
      "\r",
      " 89%|██████████████████████████████████████████████████████████████████▍        | 922/1040 [4:04:10<1:15:28, 38.38s/it]"
     ]
    },
    {
     "name": "stdout",
     "output_type": "stream",
     "text": [
      "Limit Reached\n",
      "Limit Reached\n"
     ]
    },
    {
     "name": "stderr",
     "output_type": "stream",
     "text": [
      "\r",
      " 89%|██████████████████████████████████████████████████████████████████▌        | 923/1040 [4:04:54<1:18:09, 40.08s/it]"
     ]
    },
    {
     "name": "stdout",
     "output_type": "stream",
     "text": [
      "Limit Reached\n",
      "Limit Reached\n"
     ]
    },
    {
     "name": "stderr",
     "output_type": "stream",
     "text": [
      "\r",
      " 89%|██████████████████████████████████████████████████████████████████▋        | 924/1040 [4:05:39<1:20:19, 41.55s/it]"
     ]
    },
    {
     "name": "stdout",
     "output_type": "stream",
     "text": [
      "Limit Reached\n",
      "Limit Reached\n"
     ]
    },
    {
     "name": "stderr",
     "output_type": "stream",
     "text": [
      "\r",
      " 89%|██████████████████████████████████████████████████████████████████▋        | 925/1040 [4:06:25<1:22:16, 42.93s/it]"
     ]
    },
    {
     "name": "stdout",
     "output_type": "stream",
     "text": [
      "Limit Reached\n"
     ]
    },
    {
     "name": "stderr",
     "output_type": "stream",
     "text": [
      "\r",
      " 89%|████████████████████████████████████████████████████████████████████▌        | 926/1040 [4:06:26<57:27, 30.24s/it]"
     ]
    },
    {
     "name": "stdout",
     "output_type": "stream",
     "text": [
      "Limit Reached\n"
     ]
    },
    {
     "name": "stderr",
     "output_type": "stream",
     "text": [
      "\r",
      " 89%|██████████████████████████████████████████████████████████████████▊        | 927/1040 [4:07:13<1:06:25, 35.27s/it]"
     ]
    },
    {
     "name": "stdout",
     "output_type": "stream",
     "text": [
      "Limit Reached\n",
      "Limit Reached\n"
     ]
    },
    {
     "name": "stderr",
     "output_type": "stream",
     "text": [
      "\r",
      " 89%|██████████████████████████████████████████████████████████████████▉        | 928/1040 [4:08:01<1:12:59, 39.10s/it]"
     ]
    },
    {
     "name": "stdout",
     "output_type": "stream",
     "text": [
      "Limit Reached\n",
      "Limit Reached\n"
     ]
    },
    {
     "name": "stderr",
     "output_type": "stream",
     "text": [
      "\r",
      " 89%|██████████████████████████████████████████████████████████████████▉        | 929/1040 [4:08:50<1:17:49, 42.07s/it]"
     ]
    },
    {
     "name": "stdout",
     "output_type": "stream",
     "text": [
      "Limit Reached\n",
      "Limit Reached\n"
     ]
    },
    {
     "name": "stderr",
     "output_type": "stream",
     "text": [
      "\r",
      " 89%|███████████████████████████████████████████████████████████████████        | 930/1040 [4:09:40<1:21:30, 44.46s/it]"
     ]
    },
    {
     "name": "stdout",
     "output_type": "stream",
     "text": [
      "Limit Reached\n",
      "Limit Reached\n"
     ]
    },
    {
     "name": "stderr",
     "output_type": "stream",
     "text": [
      "\r",
      " 90%|███████████████████████████████████████████████████████████████████▏       | 931/1040 [4:10:31<1:24:21, 46.43s/it]"
     ]
    },
    {
     "name": "stdout",
     "output_type": "stream",
     "text": [
      "Limit Reached\n",
      "Limit Reached\n"
     ]
    },
    {
     "name": "stderr",
     "output_type": "stream",
     "text": [
      "\r",
      " 90%|███████████████████████████████████████████████████████████████████▏       | 932/1040 [4:11:23<1:26:35, 48.11s/it]"
     ]
    },
    {
     "name": "stdout",
     "output_type": "stream",
     "text": [
      "Limit Reached\n",
      "Limit Reached\n"
     ]
    },
    {
     "name": "stderr",
     "output_type": "stream",
     "text": [
      "\r",
      " 90%|███████████████████████████████████████████████████████████████████▎       | 933/1040 [4:12:16<1:28:24, 49.57s/it]"
     ]
    },
    {
     "name": "stdout",
     "output_type": "stream",
     "text": [
      "Limit Reached\n"
     ]
    },
    {
     "name": "stderr",
     "output_type": "stream",
     "text": [
      "\r",
      " 90%|███████████████████████████████████████████████████████████████████▎       | 934/1040 [4:12:16<1:01:38, 34.90s/it]"
     ]
    },
    {
     "name": "stdout",
     "output_type": "stream",
     "text": [
      "Limit Reached\n"
     ]
    },
    {
     "name": "stderr",
     "output_type": "stream",
     "text": [
      "\r",
      " 90%|███████████████████████████████████████████████████████████████████▍       | 935/1040 [4:13:10<1:11:04, 40.62s/it]"
     ]
    },
    {
     "name": "stdout",
     "output_type": "stream",
     "text": [
      "Limit Reached\n",
      "Limit Reached\n"
     ]
    },
    {
     "name": "stderr",
     "output_type": "stream",
     "text": [
      "\r",
      " 90%|███████████████████████████████████████████████████████████████████▌       | 936/1040 [4:14:05<1:17:52, 44.93s/it]"
     ]
    },
    {
     "name": "stdout",
     "output_type": "stream",
     "text": [
      "Limit Reached\n",
      "Limit Reached\n"
     ]
    },
    {
     "name": "stderr",
     "output_type": "stream",
     "text": [
      "\r",
      " 90%|███████████████████████████████████████████████████████████████████▌       | 937/1040 [4:15:01<1:22:51, 48.27s/it]"
     ]
    },
    {
     "name": "stdout",
     "output_type": "stream",
     "text": [
      "Limit Reached\n",
      "Limit Reached\n"
     ]
    },
    {
     "name": "stderr",
     "output_type": "stream",
     "text": [
      "\r",
      " 90%|███████████████████████████████████████████████████████████████████▋       | 938/1040 [4:15:58<1:26:31, 50.90s/it]"
     ]
    },
    {
     "name": "stdout",
     "output_type": "stream",
     "text": [
      "Limit Reached\n",
      "Limit Reached\n"
     ]
    },
    {
     "name": "stderr",
     "output_type": "stream",
     "text": [
      "\r",
      " 90%|███████████████████████████████████████████████████████████████████▋       | 939/1040 [4:16:56<1:29:15, 53.03s/it]"
     ]
    },
    {
     "name": "stdout",
     "output_type": "stream",
     "text": [
      "Limit Reached\n",
      "Limit Reached\n"
     ]
    },
    {
     "name": "stderr",
     "output_type": "stream",
     "text": [
      "\r",
      " 90%|███████████████████████████████████████████████████████████████████▊       | 940/1040 [4:17:55<1:31:21, 54.81s/it]"
     ]
    },
    {
     "name": "stdout",
     "output_type": "stream",
     "text": [
      "Limit Reached\n"
     ]
    },
    {
     "name": "stderr",
     "output_type": "stream",
     "text": [
      "\r",
      " 90%|███████████████████████████████████████████████████████████████████▊       | 941/1040 [4:17:56<1:03:38, 38.57s/it]"
     ]
    },
    {
     "name": "stdout",
     "output_type": "stream",
     "text": [
      "Limit Reached\n"
     ]
    },
    {
     "name": "stderr",
     "output_type": "stream",
     "text": [
      "\r",
      " 91%|███████████████████████████████████████████████████████████████████▉       | 942/1040 [4:18:56<1:13:30, 45.00s/it]"
     ]
    },
    {
     "name": "stdout",
     "output_type": "stream",
     "text": [
      "Limit Reached\n",
      "Limit Reached\n"
     ]
    },
    {
     "name": "stderr",
     "output_type": "stream",
     "text": [
      "\r",
      " 91%|████████████████████████████████████████████████████████████████████       | 943/1040 [4:19:57<1:20:30, 49.80s/it]"
     ]
    },
    {
     "name": "stdout",
     "output_type": "stream",
     "text": [
      "Limit Reached\n",
      "Limit Reached\n"
     ]
    },
    {
     "name": "stderr",
     "output_type": "stream",
     "text": [
      "\r",
      " 91%|████████████████████████████████████████████████████████████████████       | 944/1040 [4:20:59<1:25:33, 53.47s/it]"
     ]
    },
    {
     "name": "stdout",
     "output_type": "stream",
     "text": [
      "Limit Reached\n",
      "Limit Reached\n"
     ]
    },
    {
     "name": "stderr",
     "output_type": "stream",
     "text": [
      "\r",
      " 91%|████████████████████████████████████████████████████████████████████▏      | 945/1040 [4:22:02<1:29:11, 56.33s/it]"
     ]
    },
    {
     "name": "stdout",
     "output_type": "stream",
     "text": [
      "Limit Reached\n"
     ]
    },
    {
     "name": "stderr",
     "output_type": "stream",
     "text": [
      " 91%|██████████████████████████████████████████████████████████████████████       | 947/1040 [4:22:03<43:17, 27.93s/it]"
     ]
    },
    {
     "name": "stdout",
     "output_type": "stream",
     "text": [
      "Limit Reached\n"
     ]
    },
    {
     "name": "stderr",
     "output_type": "stream",
     "text": [
      "\r",
      " 91%|██████████████████████████████████████████████████████████████████████▏      | 948/1040 [4:23:07<59:25, 38.76s/it]"
     ]
    },
    {
     "name": "stdout",
     "output_type": "stream",
     "text": [
      "Limit Reached\n",
      "Limit Reached\n"
     ]
    },
    {
     "name": "stderr",
     "output_type": "stream",
     "text": [
      "\r",
      " 91%|████████████████████████████████████████████████████████████████████▍      | 949/1040 [4:24:12<1:10:43, 46.63s/it]"
     ]
    },
    {
     "name": "stdout",
     "output_type": "stream",
     "text": [
      "Limit Reached\n",
      "Limit Reached\n"
     ]
    },
    {
     "name": "stderr",
     "output_type": "stream",
     "text": [
      "\r",
      " 91%|████████████████████████████████████████████████████████████████████▌      | 950/1040 [4:25:18<1:18:40, 52.45s/it]"
     ]
    },
    {
     "name": "stdout",
     "output_type": "stream",
     "text": [
      "Limit Reached\n",
      "Limit Reached\n"
     ]
    },
    {
     "name": "stderr",
     "output_type": "stream",
     "text": [
      "\r",
      " 91%|████████████████████████████████████████████████████████████████████▌      | 951/1040 [4:26:25<1:24:16, 56.82s/it]"
     ]
    },
    {
     "name": "stdout",
     "output_type": "stream",
     "text": [
      "Limit Reached\n",
      "Limit Reached\n"
     ]
    },
    {
     "name": "stderr",
     "output_type": "stream",
     "text": [
      "\r",
      " 92%|████████████████████████████████████████████████████████████████████▋      | 952/1040 [4:27:33<1:28:14, 60.17s/it]"
     ]
    },
    {
     "name": "stdout",
     "output_type": "stream",
     "text": [
      "Limit Reached\n",
      "Limit Reached\n"
     ]
    },
    {
     "name": "stderr",
     "output_type": "stream",
     "text": [
      "\r",
      " 92%|████████████████████████████████████████████████████████████████████▋      | 953/1040 [4:28:42<1:31:04, 62.81s/it]"
     ]
    },
    {
     "name": "stdout",
     "output_type": "stream",
     "text": [
      "Limit Reached\n",
      "Limit Reached\n"
     ]
    },
    {
     "name": "stderr",
     "output_type": "stream",
     "text": [
      "\r",
      " 92%|████████████████████████████████████████████████████████████████████▊      | 954/1040 [4:29:52<1:33:08, 64.98s/it]"
     ]
    },
    {
     "name": "stdout",
     "output_type": "stream",
     "text": [
      "Limit Reached\n",
      "Limit Reached\n"
     ]
    },
    {
     "name": "stderr",
     "output_type": "stream",
     "text": [
      "\r",
      " 92%|████████████████████████████████████████████████████████████████████▊      | 955/1040 [4:31:03<1:34:36, 66.78s/it]"
     ]
    },
    {
     "name": "stdout",
     "output_type": "stream",
     "text": [
      "Limit Reached\n",
      "Limit Reached\n"
     ]
    },
    {
     "name": "stderr",
     "output_type": "stream",
     "text": [
      "\r",
      " 92%|████████████████████████████████████████████████████████████████████▉      | 956/1040 [4:32:15<1:35:43, 68.37s/it]"
     ]
    },
    {
     "name": "stdout",
     "output_type": "stream",
     "text": [
      "Limit Reached\n"
     ]
    },
    {
     "name": "stderr",
     "output_type": "stream",
     "text": [
      "\r",
      " 92%|█████████████████████████████████████████████████████████████████████      | 957/1040 [4:32:16<1:06:28, 48.06s/it]"
     ]
    },
    {
     "name": "stdout",
     "output_type": "stream",
     "text": [
      "Limit Reached\n"
     ]
    },
    {
     "name": "stderr",
     "output_type": "stream",
     "text": [
      "\r",
      " 92%|█████████████████████████████████████████████████████████████████████      | 958/1040 [4:33:29<1:15:52, 55.52s/it]"
     ]
    },
    {
     "name": "stdout",
     "output_type": "stream",
     "text": [
      "Limit Reached\n",
      "Limit Reached\n"
     ]
    },
    {
     "name": "stderr",
     "output_type": "stream",
     "text": [
      "\r",
      " 92%|█████████████████████████████████████████████████████████████████████▏     | 959/1040 [4:34:43<1:22:26, 61.06s/it]"
     ]
    },
    {
     "name": "stdout",
     "output_type": "stream",
     "text": [
      "Limit Reached\n",
      "Limit Reached\n"
     ]
    },
    {
     "name": "stderr",
     "output_type": "stream",
     "text": [
      "\r",
      " 92%|█████████████████████████████████████████████████████████████████████▏     | 960/1040 [4:35:58<1:26:59, 65.24s/it]"
     ]
    },
    {
     "name": "stdout",
     "output_type": "stream",
     "text": [
      "Limit Reached\n",
      "Limit Reached\n"
     ]
    },
    {
     "name": "stderr",
     "output_type": "stream",
     "text": [
      "\r",
      " 92%|█████████████████████████████████████████████████████████████████████▎     | 961/1040 [4:37:14<1:30:08, 68.46s/it]"
     ]
    },
    {
     "name": "stdout",
     "output_type": "stream",
     "text": [
      "Limit Reached\n"
     ]
    },
    {
     "name": "stderr",
     "output_type": "stream",
     "text": [
      " 93%|███████████████████████████████████████████████████████████████████████▎     | 963/1040 [4:37:15<43:28, 33.88s/it]"
     ]
    },
    {
     "name": "stdout",
     "output_type": "stream",
     "text": [
      "Limit Reached\n"
     ]
    },
    {
     "name": "stderr",
     "output_type": "stream",
     "text": [
      "\r",
      " 93%|███████████████████████████████████████████████████████████████████████▎     | 964/1040 [4:38:32<59:17, 46.81s/it]"
     ]
    },
    {
     "name": "stdout",
     "output_type": "stream",
     "text": [
      "Limit Reached\n",
      "Limit Reached\n"
     ]
    },
    {
     "name": "stderr",
     "output_type": "stream",
     "text": [
      "\r",
      " 93%|█████████████████████████████████████████████████████████████████████▌     | 965/1040 [4:39:50<1:10:12, 56.16s/it]"
     ]
    },
    {
     "name": "stdout",
     "output_type": "stream",
     "text": [
      "Limit Reached\n",
      "Limit Reached\n"
     ]
    },
    {
     "name": "stderr",
     "output_type": "stream",
     "text": [
      "100%|████████████████████████████████████████████████████████████████████████████| 1040/1040 [4:41:56<00:00, 16.27s/it]\n"
     ]
    }
   ],
   "source": [
    "# Loading Data and adding tracks for each album\n",
    "# Counter to slow down the API calls\n",
    "sleeper = defaultdict(lambda: 0.5)\n",
    "# Path to store file names, album and artist if the data was not pulled\n",
    "t = int(time.time()*100)\n",
    "path_for_no_data = f\"data/spotify_song_data/no_data/no_data_{t}.json\"\n",
    "\n",
    "# Counter used to store data\n",
    "counter = 1\n",
    "\n",
    "# Storing the API calls that did not work\n",
    "not_work = []\n",
    "\n",
    "for order in all_paths.keys():\n",
    "    \n",
    "    # Search for a specific category\n",
    "    if order != 'top':\n",
    "        continue\n",
    "    \n",
    "    # Iterating through all the file paths in that category\n",
    "    for j_file in all_paths[order]:\n",
    "        \n",
    "        # Getting the year from the file path\n",
    "        year = j_file[-9:-5]\n",
    "        \n",
    "        # Look for a specific year\n",
    "        if int(year) not in [1995]:\n",
    "            continue\n",
    "        \n",
    "        # Opening a file \n",
    "        with open(j_file) as f:\n",
    "            data_dict = json.load(f)\n",
    "        \n",
    "        # Appending the new dictionaries with added information into new_vals\n",
    "        new_vals = []\n",
    "        \n",
    "        # Iterating through each entry in the original dictionary\n",
    "        for entry in tqdm.tqdm(data_dict):\n",
    "            \n",
    "            # Sleeper to reduce timeout\n",
    "            time.sleep(sleeper['search'])\n",
    "            \n",
    "            # Checking for errors other than the limit reached\n",
    "            try:\n",
    "                # Getting the URI's of the album and artist\n",
    "                entry[\"spotify album uri\"],entry[\"spotify artist uri\"] =  api_get_uri(entry['Album'],entry['Artist Name'])\n",
    "            except:\n",
    "                \n",
    "                # If the info is not retrieved save the file name, album name and artist name to a file\n",
    "                not_work.append({\"file\":j_file,\"album\":entry['Album'],\"artist\":entry['Artist Name']})\n",
    "                with open(path_for_no_data, 'w') as file:\n",
    "                    json.dump(not_work, file)\n",
    "                continue\n",
    "                \n",
    "            \n",
    "            # Checking to see whether limit has reached (if limit has reached all functions return -1)\n",
    "            if entry[\"spotify album uri\"] == -1:\n",
    "                \n",
    "                # Increase the sleep time if limit has reached\n",
    "                sleeper['search']+=0.5\n",
    "                \n",
    "                # Appending the file name, album and artist since the data retrieval did not work\n",
    "                not_work.append({\"file\":j_file,\"album\":entry['Album'],\"artist\":entry['Artist Name']})\n",
    "                with open(path_for_no_data, 'w') as file:\n",
    "                    json.dump(not_work, file)\n",
    "                continue\n",
    "            \n",
    "            # To store artist data - we run through the same steps as for uri retrieval\n",
    "            artist_data = {}\n",
    "            if entry['spotify artist uri'] != None:\n",
    "                \n",
    "                time.sleep(sleeper['artist'])\n",
    "                \n",
    "                try:\n",
    "                    artist = api_get_artist_data(entry['spotify artist uri'])\n",
    "                    if artist == -1:\n",
    "                        sleeper['artist']+=0.5\n",
    "                    else:\n",
    "                        artist_data = {\n",
    "                        'spotify artist name': artist['name'],\n",
    "                        'spotify artist popularity': artist['popularity'],\n",
    "                        'spotify artist followers': artist['followers']['total'],\n",
    "                        'spotify artist genres': artist['genres']}\n",
    "                except:\n",
    "                    not_work.append({\"file\":j_file,\"album\":entry['Album'],\"artist\":entry['Artist Name']})\n",
    "                    with open(path_for_no_data, 'w') as file:\n",
    "                        json.dump(not_work, file)\n",
    "                \n",
    "\n",
    "            # To get album track data - we run through the same steps as for uri retrieval\n",
    "            if entry['spotify album uri'] != None:\n",
    "                \n",
    "                time.sleep(sleeper['album'])\n",
    "                try:\n",
    "                    # Getting the tracks, track data and features\n",
    "                    result = api_get_album_tracks(entry['spotify album uri'])\n",
    "\n",
    "                    if result == -1:\n",
    "                        sleeper['album']+=0.5\n",
    "                        not_work.append({\"file\":j_file,\"album\":entry['Album'],\"artist\":entry['Artist Name']})\n",
    "                        with open(path_for_no_data, 'w') as file:\n",
    "                            json.dump(not_work, file)\n",
    "                        continue\n",
    "                        \n",
    "                    # Checkin to see if the number of tracks returned is not 0\n",
    "                    if len(result)!=0:\n",
    "                        for res in result:\n",
    "                            # Creating a new dictionary with added information\n",
    "                            dup_entry = copy.deepcopy(entry)\n",
    "                            dup_entry.update(res)\n",
    "                            dup_entry.update(artist_data)\n",
    "                            \n",
    "                            # Appending to the main list\n",
    "                            new_vals.append(dup_entry) \n",
    "                    else:\n",
    "                        not_work.append({\"file\":j_file,\"album\":entry['Album'],\"artist\":entry['Artist Name']})\n",
    "                        with open(path_for_no_data, 'w') as file:\n",
    "                            json.dump(not_work, file)\n",
    "                except:\n",
    "                    not_work.append({\"file\":j_file,\"album\":entry['Album'],\"artist\":entry['Artist Name']})\n",
    "                    with open(path_for_no_data, 'w') as file:\n",
    "                        json.dump(not_work, file)\n",
    "                    \n",
    "                # For every 10 counts we save the data - to prevent losing all information in case of rate limit reached\n",
    "                if counter%10 == 0:\n",
    "                    store_path = \"data/spotify_song_data/{}/{}\".format(order,year+\".json\")\n",
    "                    with open(store_path, 'w') as file:\n",
    "                            json.dump(new_vals, file)\n",
    "                            \n",
    "                # Getting a new token every 40 iterations\n",
    "                if counter%40 == 0:\n",
    "                    token = get_token()\n",
    "                counter+=1\n",
    "            else:\n",
    "                not_work.append({\"file\":j_file,\"album\":entry['Album'],\"artist\":entry['Artist Name']})\n",
    "                with open(path_for_no_data, 'w') as file:\n",
    "                    json.dump(not_work, file)\n",
    "                    \n",
    "        # Store all the data into the year for the particular chart if all iterations are completed\n",
    "        store_path = \"data/spotify_song_data/{}/{}\".format(order,year+\".json\")            \n",
    "        with open(store_path, 'w') as file:\n",
    "            json.dump(new_vals, file)\n",
    "                "
   ]
  },
  {
   "cell_type": "code",
   "execution_count": null,
   "metadata": {},
   "outputs": [],
   "source": []
  }
 ],
 "metadata": {
  "kernelspec": {
   "display_name": "Python 3",
   "language": "python",
   "name": "python3"
  },
  "language_info": {
   "codemirror_mode": {
    "name": "ipython",
    "version": 3
   },
   "file_extension": ".py",
   "mimetype": "text/x-python",
   "name": "python",
   "nbconvert_exporter": "python",
   "pygments_lexer": "ipython3",
   "version": "3.8.5"
  }
 },
 "nbformat": 4,
 "nbformat_minor": 5
}

{
 "cells": [
  {
   "cell_type": "code",
   "execution_count": 13,
   "id": "66ac76f1",
   "metadata": {},
   "outputs": [],
   "source": [
    "import pandas as pd\n",
    "import spotipy\n",
    "from spotipy.oauth2 import SpotifyClientCredentials\n",
    "from bs4 import BeautifulSoup\n",
    "import requests\n",
    "import glob\n",
    "import json\n",
    "import copy\n",
    "import tqdm\n",
    "import time\n",
    "import base64\n",
    "from requests import post, get\n",
    "from collections import defaultdict"
   ]
  },
  {
   "cell_type": "code",
   "execution_count": 14,
   "id": "cabab0cf",
   "metadata": {},
   "outputs": [],
   "source": [
    "# Client ID\n",
    "cid = ''\n",
    "\n",
    "# Client secret\n",
    "secret = ''"
   ]
  },
  {
   "cell_type": "code",
   "execution_count": 15,
   "metadata": {},
   "outputs": [],
   "source": [
    "# Getting all the file names scraped from rate your music\n",
    "rating = ['top','bottom','popular','esoteric','diverse']\n",
    "path = \"data/rate_your_music_data/{}/\"\n",
    "all_paths = {}\n",
    "for order in rating:\n",
    "    temp = path.format(order)\n",
    "    all_paths[order] = []\n",
    "    for file in glob.glob(temp+\"*.json\"):\n",
    "        all_paths[order].append(file)"
   ]
  },
  {
   "cell_type": "code",
   "execution_count": 16,
   "metadata": {},
   "outputs": [],
   "source": [
    "# Getting the authorization token\n",
    "def get_token():\n",
    "    auth_string = cid + \":\" + secret\n",
    "    auth_bytes = auth_string.encode(\"utf-8\")\n",
    "    auth_base64 = str(base64.b64encode(auth_bytes),\"utf-8\")\n",
    "    \n",
    "    url = \"https://accounts.spotify.com/api/token\"\n",
    "    \n",
    "    headers = {\n",
    "        \"Authorization\": \"Basic \" + auth_base64,\n",
    "        \"Content-Type\": \"application/x-www-form-urlencoded\"\n",
    "    }\n",
    "    data = {\"grant_type\":\"client_credentials\"}\n",
    "    \n",
    "    result = post(url, headers = headers, data = data)\n",
    "    res = json.loads(result.content)\n",
    "    token = res[\"access_token\"]\n",
    "    return token"
   ]
  },
  {
   "cell_type": "code",
   "execution_count": 17,
   "metadata": {},
   "outputs": [],
   "source": [
    "# Storing the token\n",
    "token = get_token()"
   ]
  },
  {
   "cell_type": "code",
   "execution_count": 18,
   "metadata": {},
   "outputs": [],
   "source": [
    "# Function to get the authentication headers\n",
    "def get_auth_header(token):\n",
    "    return {\"Authorization\":\"Bearer \"+ token}"
   ]
  },
  {
   "cell_type": "code",
   "execution_count": 19,
   "metadata": {},
   "outputs": [],
   "source": [
    "# Function to get uri's of album and artist\n",
    "def api_get_uri(album,artist):\n",
    "    url = \"https://api.spotify.com/v1/search?\"\n",
    "    headers = get_auth_header(token)\n",
    "    query = f\"q=album:{album} artist:{artist}&type=album&limit=1\"\n",
    "    result = get(url+query, headers = headers)\n",
    "    \n",
    "    # Returns -1 if rate limit of spotify is hit\n",
    "    if result.status_code == 429:\n",
    "        print(\"Limit Reached\")\n",
    "        return -1, -1\n",
    "    else:\n",
    "        result = json.loads(result.content)\n",
    "        if result['albums']['items']:\n",
    "            album_uri = result['albums']['items'][0]['uri']\n",
    "            artist_uri = result['albums']['items'][0]['artists'][0]['uri']\n",
    "            return album_uri, artist_uri\n",
    "        else:\n",
    "            return None, None\n",
    "    \n",
    "    \n",
    "    "
   ]
  },
  {
   "cell_type": "code",
   "execution_count": 20,
   "metadata": {},
   "outputs": [],
   "source": [
    "# Function to get artist data\n",
    "def api_get_artist_data(uri):\n",
    "    id_ = uri.split(\":\")[-1]\n",
    "    url = f\"https://api.spotify.com/v1/artists/{id_}\"\n",
    "    headers = get_auth_header(token)\n",
    "    result = get(url, headers = headers)\n",
    "    \n",
    "    if result.status_code == 429:\n",
    "        print(\"Limit Reached\")\n",
    "        return -1\n",
    "    else:\n",
    "        one = json.loads(result.content)\n",
    "        return one\n",
    "\n",
    "    "
   ]
  },
  {
   "cell_type": "code",
   "execution_count": 21,
   "metadata": {},
   "outputs": [],
   "source": [
    "# Function to get track features\n",
    "def api_get_audio_feat(uri):\n",
    "    id_ = uri.split(\":\")[-1]\n",
    "    url = f\"https://api.spotify.com/v1/audio-features/{id_}\"\n",
    "    headers = get_auth_header(token)\n",
    "    \n",
    "    time.sleep(sleeper['feat'])\n",
    "    result = get(url, headers = headers)\n",
    "    if result.status_code == 429:\n",
    "        print(\"Limit Reached\")\n",
    "        sleeper['feat']+=0.5\n",
    "        return -1\n",
    "    else:\n",
    "        one = json.loads(result.content)\n",
    "        return one"
   ]
  },
  {
   "cell_type": "code",
   "execution_count": 22,
   "metadata": {},
   "outputs": [],
   "source": [
    "# Function to get track data\n",
    "def api_get_track_data(uri):\n",
    "    id_ = uri.split(\":\")[-1]\n",
    "    \n",
    "    url = f\"https://api.spotify.com/v1/tracks/{id_}\"\n",
    "    headers = get_auth_header(token)\n",
    "    \n",
    "    time.sleep(sleeper['tracks'])\n",
    "    result = get(url, headers = headers)\n",
    "    \n",
    "    if result.status_code == 429:\n",
    "        print(\"Limit Reached\")\n",
    "        sleeper['tracks']+=0.5\n",
    "        return -1\n",
    "    else:\n",
    "        one = json.loads(result.content)\n",
    "        return one"
   ]
  },
  {
   "cell_type": "code",
   "execution_count": 23,
   "metadata": {},
   "outputs": [],
   "source": [
    "# Function to get tracks of each album and its features\n",
    "def api_get_album_tracks(uri):\n",
    "    url = \"https://api.spotify.com/v1\"\n",
    "    \n",
    "    headers = get_auth_header(token)\n",
    "    id_ = uri.split(\":\")[-1]\n",
    "    query = \"/albums/{}/tracks?offset=0&limit=50\".format(id_)\n",
    "    result = get(url+query,headers = headers)\n",
    "    \n",
    "    if result.status_code == 429:\n",
    "        print(\"Limit Reached\")\n",
    "        return -1\n",
    "    else:\n",
    "        one = json.loads(result.content)\n",
    "        data = pd.DataFrame(one)\n",
    "        tracks = []\n",
    "        for i, x in data['items'].items():\n",
    "            track = {}\n",
    "            track['spotify track uri'] = x['uri']\n",
    "            track['spotify track name'] = x['name']\n",
    "            track['spotify track number'] = x['track_number']\n",
    "            track['spotify disc number'] = x['disc_number']\n",
    "            \n",
    "            \n",
    "            track_data = api_get_track_data(x['uri'])\n",
    "            if track_data == -1:\n",
    "                track['spotify track popularity'] = None\n",
    "                track['spotify track duration'] = None\n",
    "            else:\n",
    "                track['spotify track popularity'] = track_data['popularity']\n",
    "                track['spotify track duration'] = track_data['duration_ms']\n",
    "            \n",
    "            features = api_get_audio_feat(x['uri'])\n",
    "            if features != None and features != -1:\n",
    "                 track['spotify track features'] = {\n",
    "                'acousticness': features['acousticness'],\n",
    "                'danceability': features['danceability'],\n",
    "                'energy': features['energy'],\n",
    "                'instrumentalness': features['instrumentalness'],\n",
    "                'liveness': features['liveness'],\n",
    "                'loudness': features['loudness'],\n",
    "                'speechiness': features['speechiness'],\n",
    "                'tempo': features['tempo'],\n",
    "                'valence': features['valence']}\n",
    "            else:\n",
    "                track['spotify track features'] = None\n",
    "\n",
    "\n",
    "\n",
    "\n",
    "            tracks.append(track)\n",
    "        return tracks\n",
    "    \n",
    "    "
   ]
  },
  {
   "cell_type": "code",
   "execution_count": 24,
   "metadata": {},
   "outputs": [
    {
     "name": "stderr",
     "output_type": "stream",
     "text": [
      " 80%|█████████████████████████████████████████████████████████████▉               | 836/1040 [3:46:59<42:59, 12.64s/it]"
     ]
    },
    {
     "name": "stdout",
     "output_type": "stream",
     "text": [
      "Limit Reached\n",
      "Limit Reached\n",
      "Limit Reached\n",
      "Limit Reached\n",
      "Limit Reached\n",
      "Limit Reached\n",
      "Limit Reached\n",
      "Limit Reached\n",
      "Limit Reached\n"
     ]
    },
    {
     "name": "stderr",
     "output_type": "stream",
     "text": [
      " 81%|██████████████████████████████████████████████████████████████               | 838/1040 [3:47:34<45:13, 13.43s/it]"
     ]
    },
    {
     "name": "stdout",
     "output_type": "stream",
     "text": [
      "Limit Reached\n"
     ]
    },
    {
     "name": "stderr",
     "output_type": "stream",
     "text": [
      "\r",
      " 81%|██████████████████████████████████████████████████████████████               | 839/1040 [3:47:36<33:35, 10.03s/it]"
     ]
    },
    {
     "name": "stdout",
     "output_type": "stream",
     "text": [
      "Limit Reached\n",
      "Limit Reached\n"
     ]
    },
    {
     "name": "stderr",
     "output_type": "stream",
     "text": [
      "\r",
      " 81%|██████████████████████████████████████████████████████████████▏              | 840/1040 [3:47:39<26:22,  7.91s/it]"
     ]
    },
    {
     "name": "stdout",
     "output_type": "stream",
     "text": [
      "Limit Reached\n",
      "Limit Reached\n"
     ]
    },
    {
     "name": "stderr",
     "output_type": "stream",
     "text": [
      "\r",
      " 81%|██████████████████████████████████████████████████████████████▎              | 841/1040 [3:47:43<22:20,  6.74s/it]"
     ]
    },
    {
     "name": "stdout",
     "output_type": "stream",
     "text": [
      "Limit Reached\n",
      "Limit Reached\n"
     ]
    },
    {
     "name": "stderr",
     "output_type": "stream",
     "text": [
      "\r",
      " 81%|██████████████████████████████████████████████████████████████▎              | 842/1040 [3:47:48<20:30,  6.21s/it]"
     ]
    },
    {
     "name": "stdout",
     "output_type": "stream",
     "text": [
      "Limit Reached\n"
     ]
    },
    {
     "name": "stderr",
     "output_type": "stream",
     "text": [
      " 81%|██████████████████████████████████████████████████████████████▌              | 845/1040 [3:47:50<08:23,  2.58s/it]"
     ]
    },
    {
     "name": "stdout",
     "output_type": "stream",
     "text": [
      "Limit Reached\n"
     ]
    },
    {
     "name": "stderr",
     "output_type": "stream",
     "text": [
      "\r",
      " 81%|██████████████████████████████████████████████████████████████▋              | 846/1040 [3:47:56<11:40,  3.61s/it]"
     ]
    },
    {
     "name": "stdout",
     "output_type": "stream",
     "text": [
      "Limit Reached\n",
      "Limit Reached\n"
     ]
    },
    {
     "name": "stderr",
     "output_type": "stream",
     "text": [
      "\r",
      " 81%|██████████████████████████████████████████████████████████████▋              | 847/1040 [3:48:03<14:53,  4.63s/it]"
     ]
    },
    {
     "name": "stdout",
     "output_type": "stream",
     "text": [
      "Limit Reached\n"
     ]
    },
    {
     "name": "stderr",
     "output_type": "stream",
     "text": [
      "\r",
      " 82%|██████████████████████████████████████████████████████████████▊              | 848/1040 [3:48:03<10:59,  3.43s/it]"
     ]
    },
    {
     "name": "stdout",
     "output_type": "stream",
     "text": [
      "Limit Reached\n"
     ]
    },
    {
     "name": "stderr",
     "output_type": "stream",
     "text": [
      "\r",
      " 82%|██████████████████████████████████████████████████████████████▊              | 849/1040 [3:48:11<15:21,  4.83s/it]"
     ]
    },
    {
     "name": "stdout",
     "output_type": "stream",
     "text": [
      "Limit Reached\n"
     ]
    },
    {
     "name": "stderr",
     "output_type": "stream",
     "text": [
      "\r",
      " 82%|██████████████████████████████████████████████████████████████▉              | 850/1040 [3:48:12<11:24,  3.60s/it]"
     ]
    },
    {
     "name": "stdout",
     "output_type": "stream",
     "text": [
      "Limit Reached\n"
     ]
    },
    {
     "name": "stderr",
     "output_type": "stream",
     "text": [
      "\r",
      " 82%|███████████████████████████████████████████████████████████████              | 851/1040 [3:48:21<16:27,  5.23s/it]"
     ]
    },
    {
     "name": "stdout",
     "output_type": "stream",
     "text": [
      "Limit Reached\n",
      "Limit Reached\n"
     ]
    },
    {
     "name": "stderr",
     "output_type": "stream",
     "text": [
      "\r",
      " 82%|███████████████████████████████████████████████████████████████              | 852/1040 [3:48:31<20:49,  6.65s/it]"
     ]
    },
    {
     "name": "stdout",
     "output_type": "stream",
     "text": [
      "Limit Reached\n",
      "Limit Reached\n"
     ]
    },
    {
     "name": "stderr",
     "output_type": "stream",
     "text": [
      "\r",
      " 82%|███████████████████████████████████████████████████████████████▏             | 853/1040 [3:48:42<24:48,  7.96s/it]"
     ]
    },
    {
     "name": "stdout",
     "output_type": "stream",
     "text": [
      "Limit Reached\n",
      "Limit Reached\n"
     ]
    },
    {
     "name": "stderr",
     "output_type": "stream",
     "text": [
      "\r",
      " 82%|███████████████████████████████████████████████████████████████▏             | 854/1040 [3:48:54<28:25,  9.17s/it]"
     ]
    },
    {
     "name": "stdout",
     "output_type": "stream",
     "text": [
      "Limit Reached\n",
      "Limit Reached\n"
     ]
    },
    {
     "name": "stderr",
     "output_type": "stream",
     "text": [
      "\r",
      " 82%|███████████████████████████████████████████████████████████████▎             | 855/1040 [3:49:07<31:48, 10.31s/it]"
     ]
    },
    {
     "name": "stdout",
     "output_type": "stream",
     "text": [
      "Limit Reached\n"
     ]
    },
    {
     "name": "stderr",
     "output_type": "stream",
     "text": [
      "\r",
      " 82%|███████████████████████████████████████████████████████████████▍             | 856/1040 [3:49:08<22:44,  7.42s/it]"
     ]
    },
    {
     "name": "stdout",
     "output_type": "stream",
     "text": [
      "Limit Reached\n"
     ]
    },
    {
     "name": "stderr",
     "output_type": "stream",
     "text": [
      "\r",
      " 82%|███████████████████████████████████████████████████████████████▍             | 857/1040 [3:49:22<28:40,  9.40s/it]"
     ]
    },
    {
     "name": "stdout",
     "output_type": "stream",
     "text": [
      "Limit Reached\n"
     ]
    },
    {
     "name": "stderr",
     "output_type": "stream",
     "text": [
      "\r",
      " 82%|███████████████████████████████████████████████████████████████▌             | 858/1040 [3:49:23<20:33,  6.78s/it]"
     ]
    },
    {
     "name": "stdout",
     "output_type": "stream",
     "text": [
      "Limit Reached\n"
     ]
    },
    {
     "name": "stderr",
     "output_type": "stream",
     "text": [
      "\r",
      " 83%|███████████████████████████████████████████████████████████████▌             | 859/1040 [3:49:38<27:53,  9.25s/it]"
     ]
    },
    {
     "name": "stdout",
     "output_type": "stream",
     "text": [
      "Limit Reached\n",
      "Limit Reached\n"
     ]
    },
    {
     "name": "stderr",
     "output_type": "stream",
     "text": [
      "\r",
      " 83%|███████████████████████████████████████████████████████████████▋             | 860/1040 [3:49:54<34:04, 11.36s/it]"
     ]
    },
    {
     "name": "stdout",
     "output_type": "stream",
     "text": [
      "Limit Reached\n",
      "Limit Reached\n"
     ]
    },
    {
     "name": "stderr",
     "output_type": "stream",
     "text": [
      "\r",
      " 83%|███████████████████████████████████████████████████████████████▋             | 861/1040 [3:50:11<38:54, 13.04s/it]"
     ]
    },
    {
     "name": "stdout",
     "output_type": "stream",
     "text": [
      "Limit Reached\n",
      "Limit Reached\n"
     ]
    },
    {
     "name": "stderr",
     "output_type": "stream",
     "text": [
      "\r",
      " 83%|███████████████████████████████████████████████████████████████▊             | 862/1040 [3:50:29<43:04, 14.52s/it]"
     ]
    },
    {
     "name": "stdout",
     "output_type": "stream",
     "text": [
      "Limit Reached\n",
      "Limit Reached\n"
     ]
    },
    {
     "name": "stderr",
     "output_type": "stream",
     "text": [
      "\r",
      " 83%|███████████████████████████████████████████████████████████████▉             | 863/1040 [3:50:48<47:01, 15.94s/it]"
     ]
    },
    {
     "name": "stdout",
     "output_type": "stream",
     "text": [
      "Limit Reached\n",
      "Limit Reached\n"
     ]
    },
    {
     "name": "stderr",
     "output_type": "stream",
     "text": [
      "\r",
      " 83%|███████████████████████████████████████████████████████████████▉             | 864/1040 [3:51:08<50:20, 17.16s/it]"
     ]
    },
    {
     "name": "stdout",
     "output_type": "stream",
     "text": [
      "Limit Reached\n"
     ]
    },
    {
     "name": "stderr",
     "output_type": "stream",
     "text": [
      "\r",
      " 83%|████████████████████████████████████████████████████████████████             | 865/1040 [3:51:09<35:35, 12.21s/it]"
     ]
    },
    {
     "name": "stdout",
     "output_type": "stream",
     "text": [
      "Limit Reached\n"
     ]
    },
    {
     "name": "stderr",
     "output_type": "stream",
     "text": [
      "\r",
      " 83%|████████████████████████████████████████████████████████████████             | 866/1040 [3:51:30<43:06, 14.86s/it]"
     ]
    },
    {
     "name": "stdout",
     "output_type": "stream",
     "text": [
      "Limit Reached\n",
      "Limit Reached\n"
     ]
    },
    {
     "name": "stderr",
     "output_type": "stream",
     "text": [
      "\r",
      " 83%|████████████████████████████████████████████████████████████████▏            | 867/1040 [3:51:52<49:03, 17.02s/it]"
     ]
    },
    {
     "name": "stdout",
     "output_type": "stream",
     "text": [
      "Limit Reached\n",
      "Limit Reached\n"
     ]
    },
    {
     "name": "stderr",
     "output_type": "stream",
     "text": [
      "\r",
      " 83%|████████████████████████████████████████████████████████████████▎            | 868/1040 [3:52:15<54:01, 18.84s/it]"
     ]
    },
    {
     "name": "stdout",
     "output_type": "stream",
     "text": [
      "Limit Reached\n",
      "Limit Reached\n"
     ]
    },
    {
     "name": "stderr",
     "output_type": "stream",
     "text": [
      "\r",
      " 84%|████████████████████████████████████████████████████████████████▎            | 869/1040 [3:52:39<58:06, 20.39s/it]"
     ]
    },
    {
     "name": "stdout",
     "output_type": "stream",
     "text": [
      "Limit Reached\n",
      "Limit Reached\n"
     ]
    },
    {
     "name": "stderr",
     "output_type": "stream",
     "text": [
      "\r",
      " 84%|██████████████████████████████████████████████████████████████▋            | 870/1040 [3:53:04<1:01:41, 21.77s/it]"
     ]
    },
    {
     "name": "stdout",
     "output_type": "stream",
     "text": [
      "Limit Reached\n",
      "Limit Reached\n"
     ]
    },
    {
     "name": "stderr",
     "output_type": "stream",
     "text": [
      "\r",
      " 84%|██████████████████████████████████████████████████████████████▊            | 871/1040 [3:53:30<1:04:53, 23.04s/it]"
     ]
    },
    {
     "name": "stdout",
     "output_type": "stream",
     "text": [
      "Limit Reached\n",
      "Limit Reached\n"
     ]
    },
    {
     "name": "stderr",
     "output_type": "stream",
     "text": [
      "\r",
      " 84%|██████████████████████████████████████████████████████████████▉            | 872/1040 [3:53:57<1:07:49, 24.22s/it]"
     ]
    },
    {
     "name": "stdout",
     "output_type": "stream",
     "text": [
      "Limit Reached\n",
      "Limit Reached\n"
     ]
    },
    {
     "name": "stderr",
     "output_type": "stream",
     "text": [
      "\r",
      " 84%|██████████████████████████████████████████████████████████████▉            | 873/1040 [3:54:25<1:10:35, 25.36s/it]"
     ]
    },
    {
     "name": "stdout",
     "output_type": "stream",
     "text": [
      "Limit Reached\n"
     ]
    },
    {
     "name": "stderr",
     "output_type": "stream",
     "text": [
      "\r",
      " 84%|████████████████████████████████████████████████████████████████▋            | 874/1040 [3:54:26<49:40, 17.95s/it]"
     ]
    },
    {
     "name": "stdout",
     "output_type": "stream",
     "text": [
      "Limit Reached\n"
     ]
    },
    {
     "name": "stderr",
     "output_type": "stream",
     "text": [
      "\r",
      " 84%|████████████████████████████████████████████████████████████████▊            | 875/1040 [3:54:55<58:30, 21.27s/it]"
     ]
    },
    {
     "name": "stdout",
     "output_type": "stream",
     "text": [
      "Limit Reached\n"
     ]
    },
    {
     "name": "stderr",
     "output_type": "stream",
     "text": [
      "\r",
      " 84%|████████████████████████████████████████████████████████████████▊            | 876/1040 [3:54:55<41:15, 15.09s/it]"
     ]
    },
    {
     "name": "stdout",
     "output_type": "stream",
     "text": [
      "Limit Reached\n"
     ]
    },
    {
     "name": "stderr",
     "output_type": "stream",
     "text": [
      "\r",
      " 84%|████████████████████████████████████████████████████████████████▉            | 877/1040 [3:55:25<53:13, 19.59s/it]"
     ]
    },
    {
     "name": "stdout",
     "output_type": "stream",
     "text": [
      "Limit Reached\n",
      "Limit Reached\n"
     ]
    },
    {
     "name": "stderr",
     "output_type": "stream",
     "text": [
      "\r",
      " 84%|███████████████████████████████████████████████████████████████▎           | 878/1040 [3:55:56<1:02:09, 23.02s/it]"
     ]
    },
    {
     "name": "stdout",
     "output_type": "stream",
     "text": [
      "Limit Reached\n",
      "Limit Reached\n"
     ]
    },
    {
     "name": "stderr",
     "output_type": "stream",
     "text": [
      "\r",
      " 85%|███████████████████████████████████████████████████████████████▍           | 879/1040 [3:56:28<1:09:02, 25.73s/it]"
     ]
    },
    {
     "name": "stdout",
     "output_type": "stream",
     "text": [
      "Limit Reached\n",
      "Limit Reached\n"
     ]
    },
    {
     "name": "stderr",
     "output_type": "stream",
     "text": [
      "\r",
      " 85%|███████████████████████████████████████████████████████████████▍           | 880/1040 [3:57:01<1:14:25, 27.91s/it]"
     ]
    },
    {
     "name": "stdout",
     "output_type": "stream",
     "text": [
      "Limit Reached\n"
     ]
    },
    {
     "name": "stderr",
     "output_type": "stream",
     "text": [
      "\r",
      " 85%|█████████████████████████████████████████████████████████████████▏           | 881/1040 [3:57:02<52:16, 19.73s/it]"
     ]
    },
    {
     "name": "stdout",
     "output_type": "stream",
     "text": [
      "Limit Reached\n"
     ]
    },
    {
     "name": "stderr",
     "output_type": "stream",
     "text": [
      "\r",
      " 85%|███████████████████████████████████████████████████████████████▌           | 882/1040 [3:57:36<1:03:19, 24.05s/it]"
     ]
    },
    {
     "name": "stdout",
     "output_type": "stream",
     "text": [
      "Limit Reached\n",
      "Limit Reached\n"
     ]
    },
    {
     "name": "stderr",
     "output_type": "stream",
     "text": [
      "\r",
      " 85%|███████████████████████████████████████████████████████████████▋           | 883/1040 [3:58:11<1:11:34, 27.35s/it]"
     ]
    },
    {
     "name": "stdout",
     "output_type": "stream",
     "text": [
      "Limit Reached\n",
      "Limit Reached\n"
     ]
    },
    {
     "name": "stderr",
     "output_type": "stream",
     "text": [
      "\r",
      " 85%|███████████████████████████████████████████████████████████████▊           | 884/1040 [3:58:47<1:17:51, 29.94s/it]"
     ]
    },
    {
     "name": "stdout",
     "output_type": "stream",
     "text": [
      "Limit Reached\n",
      "Limit Reached\n"
     ]
    },
    {
     "name": "stderr",
     "output_type": "stream",
     "text": [
      "\r",
      " 85%|███████████████████████████████████████████████████████████████▊           | 885/1040 [3:59:24<1:22:48, 32.05s/it]"
     ]
    },
    {
     "name": "stdout",
     "output_type": "stream",
     "text": [
      "Limit Reached\n",
      "Limit Reached\n"
     ]
    },
    {
     "name": "stderr",
     "output_type": "stream",
     "text": [
      "\r",
      " 85%|███████████████████████████████████████████████████████████████▉           | 886/1040 [4:00:02<1:26:49, 33.83s/it]"
     ]
    },
    {
     "name": "stdout",
     "output_type": "stream",
     "text": [
      "Limit Reached\n",
      "Limit Reached\n"
     ]
    },
    {
     "name": "stderr",
     "output_type": "stream",
     "text": [
      "\r",
      " 85%|███████████████████████████████████████████████████████████████▉           | 887/1040 [4:00:41<1:30:11, 35.37s/it]"
     ]
    },
    {
     "name": "stdout",
     "output_type": "stream",
     "text": [
      "Limit Reached\n",
      "Limit Reached\n"
     ]
    },
    {
     "name": "stderr",
     "output_type": "stream",
     "text": [
      "\r",
      " 85%|████████████████████████████████████████████████████████████████           | 888/1040 [4:01:21<1:33:06, 36.76s/it]"
     ]
    },
    {
     "name": "stdout",
     "output_type": "stream",
     "text": [
      "Limit Reached\n",
      "Limit Reached\n"
     ]
    },
    {
     "name": "stderr",
     "output_type": "stream",
     "text": [
      "\r",
      " 85%|████████████████████████████████████████████████████████████████           | 889/1040 [4:02:02<1:35:42, 38.03s/it]"
     ]
    },
    {
     "name": "stdout",
     "output_type": "stream",
     "text": [
      "Limit Reached\n"
     ]
    },
    {
     "name": "stderr",
     "output_type": "stream",
     "text": [
      "\r",
      " 86%|████████████████████████████████████████████████████████████████▏          | 890/1040 [4:02:03<1:07:04, 26.83s/it]"
     ]
    },
    {
     "name": "stdout",
     "output_type": "stream",
     "text": [
      "Limit Reached\n"
     ]
    },
    {
     "name": "stderr",
     "output_type": "stream",
     "text": [
      "\r",
      " 86%|████████████████████████████████████████████████████████████████▎          | 891/1040 [4:02:45<1:17:54, 31.37s/it]"
     ]
    },
    {
     "name": "stdout",
     "output_type": "stream",
     "text": [
      "Limit Reached\n"
     ]
    },
    {
     "name": "stderr",
     "output_type": "stream",
     "text": [
      "\r",
      " 86%|██████████████████████████████████████████████████████████████████           | 892/1040 [4:02:45<54:39, 22.16s/it]"
     ]
    },
    {
     "name": "stdout",
     "output_type": "stream",
     "text": [
      "Limit Reached\n"
     ]
    },
    {
     "name": "stderr",
     "output_type": "stream",
     "text": [
      "\r",
      " 86%|████████████████████████████████████████████████████████████████▍          | 893/1040 [4:03:29<1:09:42, 28.45s/it]"
     ]
    },
    {
     "name": "stdout",
     "output_type": "stream",
     "text": [
      "Limit Reached\n"
     ]
    },
    {
     "name": "stderr",
     "output_type": "stream",
     "text": [
      "\r",
      " 86%|██████████████████████████████████████████████████████████████████▏          | 894/1040 [4:03:29<48:59, 20.14s/it]"
     ]
    },
    {
     "name": "stdout",
     "output_type": "stream",
     "text": [
      "Limit Reached\n"
     ]
    },
    {
     "name": "stderr",
     "output_type": "stream",
     "text": [
      "\r",
      " 86%|████████████████████████████████████████████████████████████████▌          | 895/1040 [4:04:13<1:06:00, 27.31s/it]"
     ]
    },
    {
     "name": "stdout",
     "output_type": "stream",
     "text": [
      "Limit Reached\n",
      "Limit Reached\n"
     ]
    },
    {
     "name": "stderr",
     "output_type": "stream",
     "text": [
      "\r",
      " 86%|████████████████████████████████████████████████████████████████▌          | 896/1040 [4:04:58<1:18:19, 32.63s/it]"
     ]
    },
    {
     "name": "stdout",
     "output_type": "stream",
     "text": [
      "Limit Reached\n",
      "Limit Reached\n"
     ]
    },
    {
     "name": "stderr",
     "output_type": "stream",
     "text": [
      "\r",
      " 86%|████████████████████████████████████████████████████████████████▋          | 897/1040 [4:05:44<1:27:22, 36.66s/it]"
     ]
    },
    {
     "name": "stdout",
     "output_type": "stream",
     "text": [
      "Limit Reached\n",
      "Limit Reached\n"
     ]
    },
    {
     "name": "stderr",
     "output_type": "stream",
     "text": [
      "\r",
      " 86%|████████████████████████████████████████████████████████████████▊          | 898/1040 [4:06:32<1:34:10, 39.79s/it]"
     ]
    },
    {
     "name": "stdout",
     "output_type": "stream",
     "text": [
      "Limit Reached\n"
     ]
    },
    {
     "name": "stderr",
     "output_type": "stream",
     "text": [
      " 87%|██████████████████████████████████████████████████████████████████▋          | 901/1040 [4:06:34<32:45, 14.14s/it]"
     ]
    },
    {
     "name": "stdout",
     "output_type": "stream",
     "text": [
      "Limit Reached\n"
     ]
    },
    {
     "name": "stderr",
     "output_type": "stream",
     "text": [
      "\r",
      " 87%|██████████████████████████████████████████████████████████████████▊          | 902/1040 [4:07:22<55:52, 24.29s/it]"
     ]
    },
    {
     "name": "stdout",
     "output_type": "stream",
     "text": [
      "Limit Reached\n"
     ]
    },
    {
     "name": "stderr",
     "output_type": "stream",
     "text": [
      " 87%|██████████████████████████████████████████████████████████████████▉          | 904/1040 [4:07:23<27:44, 12.24s/it]"
     ]
    },
    {
     "name": "stdout",
     "output_type": "stream",
     "text": [
      "Limit Reached\n"
     ]
    },
    {
     "name": "stderr",
     "output_type": "stream",
     "text": [
      "\r",
      " 87%|███████████████████████████████████████████████████████████████████          | 905/1040 [4:08:12<52:20, 23.27s/it]"
     ]
    },
    {
     "name": "stdout",
     "output_type": "stream",
     "text": [
      "Limit Reached\n"
     ]
    },
    {
     "name": "stderr",
     "output_type": "stream",
     "text": [
      "\r",
      " 87%|███████████████████████████████████████████████████████████████████          | 906/1040 [4:08:13<36:48, 16.48s/it]"
     ]
    },
    {
     "name": "stdout",
     "output_type": "stream",
     "text": [
      "Limit Reached\n"
     ]
    },
    {
     "name": "stderr",
     "output_type": "stream",
     "text": [
      "\r",
      " 87%|███████████████████████████████████████████████████████████████████▏         | 907/1040 [4:09:03<58:58, 26.61s/it]"
     ]
    },
    {
     "name": "stdout",
     "output_type": "stream",
     "text": [
      "Limit Reached\n",
      "Limit Reached\n"
     ]
    },
    {
     "name": "stderr",
     "output_type": "stream",
     "text": [
      "\r",
      " 87%|█████████████████████████████████████████████████████████████████▍         | 908/1040 [4:09:54<1:14:37, 33.92s/it]"
     ]
    },
    {
     "name": "stdout",
     "output_type": "stream",
     "text": [
      "Limit Reached\n",
      "Limit Reached\n"
     ]
    },
    {
     "name": "stderr",
     "output_type": "stream",
     "text": [
      "\r",
      " 87%|█████████████████████████████████████████████████████████████████▌         | 909/1040 [4:10:46<1:25:52, 39.33s/it]"
     ]
    },
    {
     "name": "stdout",
     "output_type": "stream",
     "text": [
      "Limit Reached\n",
      "Limit Reached\n"
     ]
    },
    {
     "name": "stderr",
     "output_type": "stream",
     "text": [
      "\r",
      " 88%|█████████████████████████████████████████████████████████████████▋         | 910/1040 [4:11:39<1:34:04, 43.42s/it]"
     ]
    },
    {
     "name": "stdout",
     "output_type": "stream",
     "text": [
      "Limit Reached\n"
     ]
    },
    {
     "name": "stderr",
     "output_type": "stream",
     "text": [
      " 88%|███████████████████████████████████████████████████████████████████▌         | 912/1040 [4:11:40<46:06, 21.61s/it]"
     ]
    },
    {
     "name": "stdout",
     "output_type": "stream",
     "text": [
      "Limit Reached\n"
     ]
    },
    {
     "name": "stderr",
     "output_type": "stream",
     "text": [
      "\r",
      " 88%|█████████████████████████████████████████████████████████████████▊         | 913/1040 [4:12:34<1:06:17, 31.32s/it]"
     ]
    },
    {
     "name": "stdout",
     "output_type": "stream",
     "text": [
      "Limit Reached\n",
      "Limit Reached\n"
     ]
    },
    {
     "name": "stderr",
     "output_type": "stream",
     "text": [
      "\r",
      " 88%|█████████████████████████████████████████████████████████████████▉         | 914/1040 [4:13:29<1:20:42, 38.43s/it]"
     ]
    },
    {
     "name": "stdout",
     "output_type": "stream",
     "text": [
      "Limit Reached\n"
     ]
    },
    {
     "name": "stderr",
     "output_type": "stream",
     "text": [
      "\r",
      " 88%|███████████████████████████████████████████████████████████████████▋         | 915/1040 [4:13:30<56:26, 27.09s/it]"
     ]
    },
    {
     "name": "stdout",
     "output_type": "stream",
     "text": [
      "Limit Reached\n"
     ]
    },
    {
     "name": "stderr",
     "output_type": "stream",
     "text": [
      "\r",
      " 88%|██████████████████████████████████████████████████████████████████         | 916/1040 [4:14:26<1:13:56, 35.78s/it]"
     ]
    },
    {
     "name": "stdout",
     "output_type": "stream",
     "text": [
      "Limit Reached\n",
      "Limit Reached\n"
     ]
    },
    {
     "name": "stderr",
     "output_type": "stream",
     "text": [
      "\r",
      " 88%|██████████████████████████████████████████████████████████████████▏        | 917/1040 [4:15:23<1:26:24, 42.15s/it]"
     ]
    },
    {
     "name": "stdout",
     "output_type": "stream",
     "text": [
      "Limit Reached\n",
      "Limit Reached\n"
     ]
    },
    {
     "name": "stderr",
     "output_type": "stream",
     "text": [
      "\r",
      " 88%|██████████████████████████████████████████████████████████████████▏        | 918/1040 [4:16:21<1:35:23, 46.91s/it]"
     ]
    },
    {
     "name": "stdout",
     "output_type": "stream",
     "text": [
      "Limit Reached\n",
      "Limit Reached\n"
     ]
    },
    {
     "name": "stderr",
     "output_type": "stream",
     "text": [
      "\r",
      " 88%|██████████████████████████████████████████████████████████████████▎        | 919/1040 [4:17:20<1:41:53, 50.52s/it]"
     ]
    },
    {
     "name": "stdout",
     "output_type": "stream",
     "text": [
      "Limit Reached\n",
      "Limit Reached\n"
     ]
    },
    {
     "name": "stderr",
     "output_type": "stream",
     "text": [
      "\r",
      " 88%|██████████████████████████████████████████████████████████████████▎        | 920/1040 [4:18:20<1:46:43, 53.36s/it]"
     ]
    },
    {
     "name": "stdout",
     "output_type": "stream",
     "text": [
      "Limit Reached\n",
      "Limit Reached\n"
     ]
    },
    {
     "name": "stderr",
     "output_type": "stream",
     "text": [
      "\r",
      " 89%|██████████████████████████████████████████████████████████████████▍        | 921/1040 [4:19:21<1:50:21, 55.64s/it]"
     ]
    },
    {
     "name": "stdout",
     "output_type": "stream",
     "text": [
      "Limit Reached\n"
     ]
    },
    {
     "name": "stderr",
     "output_type": "stream",
     "text": [
      "\r",
      " 89%|██████████████████████████████████████████████████████████████████▍        | 922/1040 [4:19:21<1:16:58, 39.14s/it]"
     ]
    },
    {
     "name": "stdout",
     "output_type": "stream",
     "text": [
      "Limit Reached\n"
     ]
    },
    {
     "name": "stderr",
     "output_type": "stream",
     "text": [
      "\r",
      " 89%|██████████████████████████████████████████████████████████████████▌        | 923/1040 [4:20:23<1:29:42, 46.01s/it]"
     ]
    },
    {
     "name": "stdout",
     "output_type": "stream",
     "text": [
      "Limit Reached\n",
      "Limit Reached\n"
     ]
    },
    {
     "name": "stderr",
     "output_type": "stream",
     "text": [
      "\r",
      " 89%|██████████████████████████████████████████████████████████████████▋        | 924/1040 [4:21:27<1:38:56, 51.18s/it]"
     ]
    },
    {
     "name": "stdout",
     "output_type": "stream",
     "text": [
      "Limit Reached\n"
     ]
    },
    {
     "name": "stderr",
     "output_type": "stream",
     "text": [
      "\r",
      " 89%|██████████████████████████████████████████████████████████████████▋        | 925/1040 [4:21:27<1:09:01, 36.02s/it]"
     ]
    },
    {
     "name": "stdout",
     "output_type": "stream",
     "text": [
      "Limit Reached\n"
     ]
    },
    {
     "name": "stderr",
     "output_type": "stream",
     "text": [
      "\r",
      " 89%|██████████████████████████████████████████████████████████████████▊        | 926/1040 [4:22:31<1:24:22, 44.41s/it]"
     ]
    },
    {
     "name": "stdout",
     "output_type": "stream",
     "text": [
      "Limit Reached\n",
      "Limit Reached\n"
     ]
    },
    {
     "name": "stderr",
     "output_type": "stream",
     "text": [
      "\r",
      " 89%|██████████████████████████████████████████████████████████████████▊        | 927/1040 [4:23:36<1:35:17, 50.59s/it]"
     ]
    },
    {
     "name": "stdout",
     "output_type": "stream",
     "text": [
      "Limit Reached\n",
      "Limit Reached\n"
     ]
    },
    {
     "name": "stderr",
     "output_type": "stream",
     "text": [
      "\r",
      " 89%|██████████████████████████████████████████████████████████████████▉        | 928/1040 [4:24:42<1:43:04, 55.22s/it]"
     ]
    },
    {
     "name": "stdout",
     "output_type": "stream",
     "text": [
      "Limit Reached\n",
      "Limit Reached\n"
     ]
    },
    {
     "name": "stderr",
     "output_type": "stream",
     "text": [
      "\r",
      " 89%|██████████████████████████████████████████████████████████████████▉        | 929/1040 [4:25:49<1:48:41, 58.75s/it]"
     ]
    },
    {
     "name": "stdout",
     "output_type": "stream",
     "text": [
      "Limit Reached\n",
      "Limit Reached\n"
     ]
    },
    {
     "name": "stderr",
     "output_type": "stream",
     "text": [
      "\r",
      " 89%|███████████████████████████████████████████████████████████████████        | 930/1040 [4:26:57<1:52:49, 61.54s/it]"
     ]
    },
    {
     "name": "stdout",
     "output_type": "stream",
     "text": [
      "Limit Reached\n",
      "Limit Reached\n"
     ]
    },
    {
     "name": "stderr",
     "output_type": "stream",
     "text": [
      "\r",
      " 90%|███████████████████████████████████████████████████████████████████▏       | 931/1040 [4:28:06<1:55:50, 63.77s/it]"
     ]
    },
    {
     "name": "stdout",
     "output_type": "stream",
     "text": [
      "Limit Reached\n",
      "Limit Reached\n"
     ]
    },
    {
     "name": "stderr",
     "output_type": "stream",
     "text": [
      "\r",
      " 90%|███████████████████████████████████████████████████████████████████▏       | 932/1040 [4:29:16<1:58:07, 65.63s/it]"
     ]
    },
    {
     "name": "stdout",
     "output_type": "stream",
     "text": [
      "Limit Reached\n",
      "Limit Reached\n"
     ]
    },
    {
     "name": "stderr",
     "output_type": "stream",
     "text": [
      "\r",
      " 90%|███████████████████████████████████████████████████████████████████▎       | 933/1040 [4:30:27<1:59:55, 67.25s/it]"
     ]
    },
    {
     "name": "stdout",
     "output_type": "stream",
     "text": [
      "Limit Reached\n"
     ]
    },
    {
     "name": "stderr",
     "output_type": "stream",
     "text": [
      "\r",
      " 90%|███████████████████████████████████████████████████████████████████▎       | 934/1040 [4:30:28<1:23:30, 47.27s/it]"
     ]
    },
    {
     "name": "stdout",
     "output_type": "stream",
     "text": [
      "Limit Reached\n"
     ]
    },
    {
     "name": "stderr",
     "output_type": "stream",
     "text": [
      "\r",
      " 90%|███████████████████████████████████████████████████████████████████▍       | 935/1040 [4:31:40<1:35:43, 54.70s/it]"
     ]
    },
    {
     "name": "stdout",
     "output_type": "stream",
     "text": [
      "Limit Reached\n"
     ]
    },
    {
     "name": "stderr",
     "output_type": "stream",
     "text": [
      "\r",
      " 90%|███████████████████████████████████████████████████████████████████▌       | 936/1040 [4:31:41<1:06:43, 38.49s/it]"
     ]
    },
    {
     "name": "stdout",
     "output_type": "stream",
     "text": [
      "Limit Reached\n"
     ]
    },
    {
     "name": "stderr",
     "output_type": "stream",
     "text": [
      "\r",
      " 90%|███████████████████████████████████████████████████████████████████▌       | 937/1040 [4:32:54<1:23:53, 48.86s/it]"
     ]
    },
    {
     "name": "stdout",
     "output_type": "stream",
     "text": [
      "Limit Reached\n",
      "Limit Reached\n"
     ]
    },
    {
     "name": "stderr",
     "output_type": "stream",
     "text": [
      "\r",
      " 90%|███████████████████████████████████████████████████████████████████▋       | 938/1040 [4:34:08<1:35:52, 56.40s/it]"
     ]
    },
    {
     "name": "stdout",
     "output_type": "stream",
     "text": [
      "Limit Reached\n",
      "Limit Reached\n"
     ]
    },
    {
     "name": "stderr",
     "output_type": "stream",
     "text": [
      "\r",
      " 90%|███████████████████████████████████████████████████████████████████▋       | 939/1040 [4:35:23<1:44:20, 61.99s/it]"
     ]
    },
    {
     "name": "stdout",
     "output_type": "stream",
     "text": [
      "Limit Reached\n"
     ]
    },
    {
     "name": "stderr",
     "output_type": "stream",
     "text": [
      " 91%|█████████████████████████████████████████████████████████████████████▋       | 942/1040 [4:35:25<35:25, 21.68s/it]"
     ]
    },
    {
     "name": "stdout",
     "output_type": "stream",
     "text": [
      "Limit Reached\n"
     ]
    },
    {
     "name": "stderr",
     "output_type": "stream",
     "text": [
      "\r",
      " 91%|████████████████████████████████████████████████████████████████████       | 943/1040 [4:36:41<1:01:27, 38.02s/it]"
     ]
    },
    {
     "name": "stdout",
     "output_type": "stream",
     "text": [
      "Limit Reached\n",
      "Limit Reached\n"
     ]
    },
    {
     "name": "stderr",
     "output_type": "stream",
     "text": [
      "100%|████████████████████████████████████████████████████████████████████████████| 1040/1040 [4:38:58<00:00, 16.09s/it]\n"
     ]
    }
   ],
   "source": [
    "# Loading Data and adding tracks for each album\n",
    "# Counter to slow down the API calls\n",
    "sleeper = defaultdict(lambda: 0.5)\n",
    "# Path to store file names, album and artist if the data was not pulled\n",
    "t = int(time.time()*100)\n",
    "path_for_no_data = f\"data/spotify_song_data/no_data/no_data_{t}.json\"\n",
    "\n",
    "# Counter used to store data\n",
    "counter = 1\n",
    "\n",
    "# Storing the API calls that did not work\n",
    "not_work = []\n",
    "\n",
    "for order in all_paths.keys():\n",
    "    \n",
    "    # Search for a specific category\n",
    "    if order != 'top':\n",
    "        continue\n",
    "    \n",
    "    # Iterating through all the file paths in that category\n",
    "    for j_file in all_paths[order]:\n",
    "        \n",
    "        # Getting the year from the file path\n",
    "        year = j_file[-9:-5]\n",
    "        \n",
    "        # Look for a specific year\n",
    "        if int(year) not in [1996]:\n",
    "            continue\n",
    "        \n",
    "        # Opening a file \n",
    "        with open(j_file) as f:\n",
    "            data_dict = json.load(f)\n",
    "        \n",
    "        # Appending the new dictionaries with added information into new_vals\n",
    "        new_vals = []\n",
    "        \n",
    "        # Iterating through each entry in the original dictionary\n",
    "        for entry in tqdm.tqdm(data_dict):\n",
    "            \n",
    "            # Sleeper to reduce timeout\n",
    "            time.sleep(sleeper['search'])\n",
    "            \n",
    "            # Checking for errors other than the limit reached\n",
    "            try:\n",
    "                # Getting the URI's of the album and artist\n",
    "                entry[\"spotify album uri\"],entry[\"spotify artist uri\"] =  api_get_uri(entry['Album'],entry['Artist Name'])\n",
    "            except:\n",
    "                \n",
    "                # If the info is not retrieved save the file name, album name and artist name to a file\n",
    "                not_work.append({\"file\":j_file,\"album\":entry['Album'],\"artist\":entry['Artist Name']})\n",
    "                with open(path_for_no_data, 'w') as file:\n",
    "                    json.dump(not_work, file)\n",
    "                continue\n",
    "                \n",
    "            \n",
    "            # Checking to see whether limit has reached (if limit has reached all functions return -1)\n",
    "            if entry[\"spotify album uri\"] == -1:\n",
    "                \n",
    "                # Increase the sleep time if limit has reached\n",
    "                sleeper['search']+=0.5\n",
    "                \n",
    "                # Appending the file name, album and artist since the data retrieval did not work\n",
    "                not_work.append({\"file\":j_file,\"album\":entry['Album'],\"artist\":entry['Artist Name']})\n",
    "                with open(path_for_no_data, 'w') as file:\n",
    "                    json.dump(not_work, file)\n",
    "                continue\n",
    "            \n",
    "            # To store artist data - we run through the same steps as for uri retrieval\n",
    "            artist_data = {}\n",
    "            if entry['spotify artist uri'] != None:\n",
    "                \n",
    "                time.sleep(sleeper['artist'])\n",
    "                \n",
    "                try:\n",
    "                    artist = api_get_artist_data(entry['spotify artist uri'])\n",
    "                    if artist == -1:\n",
    "                        sleeper['artist']+=0.5\n",
    "                    else:\n",
    "                        artist_data = {\n",
    "                        'spotify artist name': artist['name'],\n",
    "                        'spotify artist popularity': artist['popularity'],\n",
    "                        'spotify artist followers': artist['followers']['total'],\n",
    "                        'spotify artist genres': artist['genres']}\n",
    "                except:\n",
    "                    not_work.append({\"file\":j_file,\"album\":entry['Album'],\"artist\":entry['Artist Name']})\n",
    "                    with open(path_for_no_data, 'w') as file:\n",
    "                        json.dump(not_work, file)\n",
    "                \n",
    "\n",
    "            # To get album track data - we run through the same steps as for uri retrieval\n",
    "            if entry['spotify album uri'] != None:\n",
    "                \n",
    "                time.sleep(sleeper['album'])\n",
    "                try:\n",
    "                    # Getting the tracks, track data and features\n",
    "                    result = api_get_album_tracks(entry['spotify album uri'])\n",
    "\n",
    "                    if result == -1:\n",
    "                        sleeper['album']+=0.5\n",
    "                        not_work.append({\"file\":j_file,\"album\":entry['Album'],\"artist\":entry['Artist Name']})\n",
    "                        with open(path_for_no_data, 'w') as file:\n",
    "                            json.dump(not_work, file)\n",
    "                        continue\n",
    "                        \n",
    "                    # Checkin to see if the number of tracks returned is not 0\n",
    "                    if len(result)!=0:\n",
    "                        for res in result:\n",
    "                            # Creating a new dictionary with added information\n",
    "                            dup_entry = copy.deepcopy(entry)\n",
    "                            dup_entry.update(res)\n",
    "                            dup_entry.update(artist_data)\n",
    "                            \n",
    "                            # Appending to the main list\n",
    "                            new_vals.append(dup_entry) \n",
    "                    else:\n",
    "                        not_work.append({\"file\":j_file,\"album\":entry['Album'],\"artist\":entry['Artist Name']})\n",
    "                        with open(path_for_no_data, 'w') as file:\n",
    "                            json.dump(not_work, file)\n",
    "                except:\n",
    "                    not_work.append({\"file\":j_file,\"album\":entry['Album'],\"artist\":entry['Artist Name']})\n",
    "                    with open(path_for_no_data, 'w') as file:\n",
    "                        json.dump(not_work, file)\n",
    "                    \n",
    "                # For every 10 counts we save the data - to prevent losing all information in case of rate limit reached\n",
    "                if counter%10 == 0:\n",
    "                    store_path = \"data/spotify_song_data/{}/{}\".format(order,year+\".json\")\n",
    "                    with open(store_path, 'w') as file:\n",
    "                            json.dump(new_vals, file)\n",
    "                            \n",
    "                # Getting a new token every 40 iterations\n",
    "                if counter%40 == 0:\n",
    "                    token = get_token()\n",
    "                counter+=1\n",
    "            else:\n",
    "                not_work.append({\"file\":j_file,\"album\":entry['Album'],\"artist\":entry['Artist Name']})\n",
    "                with open(path_for_no_data, 'w') as file:\n",
    "                    json.dump(not_work, file)\n",
    "                    \n",
    "        # Store all the data into the year for the particular chart if all iterations are completed\n",
    "        store_path = \"data/spotify_song_data/{}/{}\".format(order,year+\".json\")            \n",
    "        with open(store_path, 'w') as file:\n",
    "            json.dump(new_vals, file)\n",
    "                "
   ]
  },
  {
   "cell_type": "code",
   "execution_count": null,
   "metadata": {},
   "outputs": [],
   "source": []
  }
 ],
 "metadata": {
  "kernelspec": {
   "display_name": "Python 3",
   "language": "python",
   "name": "python3"
  },
  "language_info": {
   "codemirror_mode": {
    "name": "ipython",
    "version": 3
   },
   "file_extension": ".py",
   "mimetype": "text/x-python",
   "name": "python",
   "nbconvert_exporter": "python",
   "pygments_lexer": "ipython3",
   "version": "3.8.5"
  }
 },
 "nbformat": 4,
 "nbformat_minor": 5
}

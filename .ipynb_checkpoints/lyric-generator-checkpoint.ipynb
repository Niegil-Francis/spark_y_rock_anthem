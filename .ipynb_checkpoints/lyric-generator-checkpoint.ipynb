{
 "cells": [
  {
   "cell_type": "code",
   "execution_count": 1,
   "metadata": {},
   "outputs": [],
   "source": [
    "import pyspark\n",
    "import tqdm\n",
    "import os\n",
    "from glob import glob\n",
    "from pyspark.sql.functions import *\n",
    "import pandas as pd\n",
    "import numpy as np\n",
    "from pyspark.sql import functions as func\n",
    "from pyspark.sql.types import *\n",
    "import warnings\n",
    "import json\n",
    "warnings.filterwarnings(\"ignore\")\n",
    "pd.set_option('display.max_rows', None)"
   ]
  },
  {
   "cell_type": "code",
   "execution_count": 5,
   "metadata": {},
   "outputs": [
    {
     "data": {
      "text/html": [
       "\n",
       "            <div>\n",
       "                <p><b>SparkSession - in-memory</b></p>\n",
       "                \n",
       "        <div>\n",
       "            <p><b>SparkContext</b></p>\n",
       "\n",
       "            <p><a href=\"http://Niegil-PC:4040\">Spark UI</a></p>\n",
       "\n",
       "            <dl>\n",
       "              <dt>Version</dt>\n",
       "                <dd><code>v3.3.1</code></dd>\n",
       "              <dt>Master</dt>\n",
       "                <dd><code>local[*]</code></dd>\n",
       "              <dt>AppName</dt>\n",
       "                <dd><code>pyspark-shell</code></dd>\n",
       "            </dl>\n",
       "        </div>\n",
       "        \n",
       "            </div>\n",
       "        "
      ],
      "text/plain": [
       "<pyspark.sql.session.SparkSession at 0x157a82ecc40>"
      ]
     },
     "execution_count": 5,
     "metadata": {},
     "output_type": "execute_result"
    }
   ],
   "source": [
    "conf = pyspark.SparkConf()\n",
    "sc = pyspark.SparkContext(conf=conf)\n",
    "config = pyspark.SparkConf().setAll([('spark.executor.memory', '10g'), ('spark.executor.cores', '3'), ('spark.cores.max', '3'), ('spark.driver.memory','10g')])\n",
    "sc.stop()\n",
    "\n",
    "\n",
    "sc = pyspark.SparkContext(conf=config)\n",
    "spark = pyspark.sql.SparkSession(sc)\n",
    "sc.setLogLevel(\"ERROR\")\n",
    "spark"
   ]
  },
  {
   "cell_type": "code",
   "execution_count": 6,
   "metadata": {},
   "outputs": [],
   "source": [
    "# Getting all the file names scraped from rate your music\n",
    "rating = ['top','bottom','popular','esoteric','diverse']\n",
    "path = \"data/genius_lyrics/{}/\"\n",
    "all_paths = {}\n",
    "for order in rating:\n",
    "    temp = path.format(order)\n",
    "    all_paths[order] = []\n",
    "    for file in glob(temp+\"*.json\"):\n",
    "        all_paths[order].append(file)"
   ]
  },
  {
   "cell_type": "code",
   "execution_count": 7,
   "metadata": {},
   "outputs": [],
   "source": [
    "# Writing the schema for read\n",
    "schema = StructType([\n",
    "            StructField('Ranking', IntegerType()),\n",
    "            StructField('Album', StringType()),\n",
    "            StructField('Artist Name', StringType()),\n",
    "            StructField('Release Date', StringType()),\n",
    "            StructField('Genres', StringType()),\n",
    "            StructField('Descriptors', StringType()),\n",
    "            StructField('Average Rating', StringType()),\n",
    "            StructField('spotify album uri', StringType()),\n",
    "            StructField('spotify artist uri', StringType()),\n",
    "            StructField('spotify track uri', StringType()),\n",
    "            StructField('spotify track name', StringType()),\n",
    "            StructField('spotify track number', IntegerType()),\n",
    "            StructField('spotify disc number', IntegerType()),\n",
    "            StructField('spotify track popularity', IntegerType()),\n",
    "            StructField('spotify track duration', IntegerType()),\n",
    "            StructField('spotify track features', MapType(StringType(), StringType())),\n",
    "            StructField('spotify artist name', StringType()),\n",
    "            StructField('spotify artist popularity', IntegerType()),\n",
    "            StructField('spotify artist followers', IntegerType()),\n",
    "            StructField('spotify artist genres', ArrayType(StringType())),\n",
    "            StructField('lyrics', StringType())\n",
    "            ])"
   ]
  },
  {
   "cell_type": "code",
   "execution_count": 8,
   "metadata": {},
   "outputs": [
    {
     "name": "stderr",
     "output_type": "stream",
     "text": [
      "100%|██████████████████████████████████████████████████████████████████████████████████| 25/25 [00:10<00:00,  2.37it/s]\n"
     ]
    }
   ],
   "source": [
    "# Reading the dataframe\n",
    "counter = 0\n",
    "for order in all_paths.keys():\n",
    "    \n",
    "    # Search for a specific category - comment the next two lines if you want to include all categories\n",
    "    if order != 'top':\n",
    "        continue\n",
    "    \n",
    "    # Iterating through all the file paths in that category\n",
    "    for j_file in tqdm.tqdm(all_paths[order]):\n",
    "        \n",
    "        # Getting the year from the file path\n",
    "        year = j_file[-9:-5]\n",
    "        \n",
    "        # Look for a specific year -  comment the next two lines if you want to include all years+\n",
    "        if int(year) < 2022:\n",
    "            continue\n",
    "        \n",
    "        counter+=1\n",
    "\n",
    "        # Opening a file \n",
    "        with open(j_file) as f:\n",
    "            data_dict = json.load(f)\n",
    "\n",
    "        if counter == 1:\n",
    "            # creating a dataframe\n",
    "            df = spark.createDataFrame(data_dict, schema = schema)\n",
    "        else:\n",
    "            df = df.unionAll(spark.createDataFrame(data_dict, schema = schema))\n"
   ]
  },
  {
   "cell_type": "code",
   "execution_count": null,
   "metadata": {},
   "outputs": [],
   "source": [
    "df.where(\"lyrics != 'None'\").count()"
   ]
  },
  {
   "cell_type": "code",
   "execution_count": null,
   "metadata": {},
   "outputs": [],
   "source": [
    "@udf(returnType=StringType())\n",
    "def clean_lyrics(data):\n",
    "    res = data.split(\"Lyrics\",1)[1]\n",
    "    return res"
   ]
  },
  {
   "cell_type": "code",
   "execution_count": 103,
   "metadata": {},
   "outputs": [
    {
     "data": {
      "text/html": [
       "<div>\n",
       "<style scoped>\n",
       "    .dataframe tbody tr th:only-of-type {\n",
       "        vertical-align: middle;\n",
       "    }\n",
       "\n",
       "    .dataframe tbody tr th {\n",
       "        vertical-align: top;\n",
       "    }\n",
       "\n",
       "    .dataframe thead th {\n",
       "        text-align: right;\n",
       "    }\n",
       "</style>\n",
       "<table border=\"1\" class=\"dataframe\">\n",
       "  <thead>\n",
       "    <tr style=\"text-align: right;\">\n",
       "      <th></th>\n",
       "      <th>clean_lyrics(lyrics)</th>\n",
       "    </tr>\n",
       "  </thead>\n",
       "  <tbody>\n",
       "    <tr>\n",
       "      <th>0</th>\n",
       "      <td>\\nAin't enough to say that I think of you\\nWor...</td>\n",
       "    </tr>\n",
       "    <tr>\n",
       "      <th>1</th>\n",
       "      <td>\\nOoh-ooh\\nOoh-ooh\\nOoh-ooh\\n\\nI can tell we'v...</td>\n",
       "    </tr>\n",
       "    <tr>\n",
       "      <th>2</th>\n",
       "      <td>\\nEvery day, every day, every day, I look\\nFor...</td>\n",
       "    </tr>\n",
       "    <tr>\n",
       "      <th>3</th>\n",
       "      <td>\\nCan't take my eyes off of you tonight\\nYou'r...</td>\n",
       "    </tr>\n",
       "    <tr>\n",
       "      <th>4</th>\n",
       "      <td>\\nHigh anticipation, it's an emotional trap\\nD...</td>\n",
       "    </tr>\n",
       "  </tbody>\n",
       "</table>\n",
       "</div>"
      ],
      "text/plain": [
       "                                clean_lyrics(lyrics)\n",
       "0  \\nAin't enough to say that I think of you\\nWor...\n",
       "1  \\nOoh-ooh\\nOoh-ooh\\nOoh-ooh\\n\\nI can tell we'v...\n",
       "2  \\nEvery day, every day, every day, I look\\nFor...\n",
       "3  \\nCan't take my eyes off of you tonight\\nYou'r...\n",
       "4  \\nHigh anticipation, it's an emotional trap\\nD..."
      ]
     },
     "execution_count": 103,
     "metadata": {},
     "output_type": "execute_result"
    }
   ],
   "source": [
    "temp = df.where(\"lyrics != 'None'\").limit(5)\n",
    "temp.select(clean_lyrics(\"lyrics\")).toPandas()"
   ]
  },
  {
   "cell_type": "code",
   "execution_count": null,
   "metadata": {},
   "outputs": [],
   "source": [
    "df.filter(col(\"name\").contains(\"mes\")).show()"
   ]
  }
 ],
 "metadata": {
  "kernelspec": {
   "display_name": "Python 3 (ipykernel)",
   "language": "python",
   "name": "python3"
  },
  "language_info": {
   "codemirror_mode": {
    "name": "ipython",
    "version": 3
   },
   "file_extension": ".py",
   "mimetype": "text/x-python",
   "name": "python",
   "nbconvert_exporter": "python",
   "pygments_lexer": "ipython3",
   "version": "3.10.9"
  }
 },
 "nbformat": 4,
 "nbformat_minor": 4
}

{
 "cells": [
  {
   "cell_type": "code",
   "execution_count": 1,
   "metadata": {
    "colab": {
     "base_uri": "https://localhost:8080/"
    },
    "id": "Qszt70V5d3D2",
    "outputId": "82bc811a-b6a8-4365-d09c-64a429946480"
   },
   "outputs": [],
   "source": [
    "# pip install lyricsgenius"
   ]
  },
  {
   "cell_type": "code",
   "execution_count": 2,
   "metadata": {
    "id": "iL-sF7K_d9yR"
   },
   "outputs": [],
   "source": [
    "import lyricsgenius as lg"
   ]
  },
  {
   "cell_type": "code",
   "execution_count": 4,
   "metadata": {
    "colab": {
     "base_uri": "https://localhost:8080/"
    },
    "id": "6AfLor_Jf5JB",
    "outputId": "abd65f1f-2899-4cd2-f7bb-801e09d914d6"
   },
   "outputs": [
    {
     "name": "stdout",
     "output_type": "stream",
     "text": [
      "Mounted at /content/drive\n"
     ]
    },
    {
     "data": {
      "text/plain": [
       "['Robot Perception - Project Proposal Poster.gslides',\n",
       " 'Homework (4).zip',\n",
       " 'Homework (3).zip',\n",
       " 'Homework (2).zip',\n",
       " 'Homework (1).zip',\n",
       " 'Niegil_ROB_GY_6203_HW1_.pdf',\n",
       " 'Niegil_ROB_GY_6203_HW1_ (1).pdf',\n",
       " 'Niegil_ROB_GY_6203_HW1_ (2).pdf',\n",
       " 'Niegil_ROB_GY_6203_HW1_ (3).pdf',\n",
       " 'Niegil_ROB_GY_6203_HW1_ (4).pdf',\n",
       " 'Homework.zip',\n",
       " 'at4760_nm4075_sd5023 (2).pdf',\n",
       " 'at4760_nm4075_sd5023 (1).pdf',\n",
       " 'at4760_nm4075_sd5023.pdf',\n",
       " 'Mihika Instagram Project',\n",
       " 'Colab Notebooks',\n",
       " 'Niegil_ROB_GY_6203_HW2.pdf',\n",
       " 'Submission.zip',\n",
       " 'Reinforcement Learning',\n",
       " 'Robot perception ',\n",
       " 'Robot Perception HW',\n",
       " 'Project Proposal Presentation 2 (1).mp4',\n",
       " 'at4760+nm4075+sd5023 (1).mp4',\n",
       " 'at4760+nm4075+sd5023.pdf',\n",
       " 'at4760+nm4075+sd5023.mp4',\n",
       " 'robot_percp.zip',\n",
       " 'nm4075.pdf',\n",
       " 'CSE Cross Registration Form - 2023-01-11T231133.810.pdf',\n",
       " 'Niegil_Resume.pdf',\n",
       " 'Animatronic.mp4',\n",
       " 'Big Data Project']"
      ]
     },
     "execution_count": 4,
     "metadata": {},
     "output_type": "execute_result"
    }
   ],
   "source": [
    "# import os\n",
    "# from google.colab import drive\n",
    "\n",
    "# # Mount Google Drive\n",
    "# drive.mount('/content/drive')\n",
    "\n",
    "# # List directories in the root of the Google Drive\n",
    "# os.listdir('/content/drive/MyDrive')\n"
   ]
  },
  {
   "cell_type": "code",
   "execution_count": 5,
   "metadata": {
    "id": "TOa0tjHYgIw1"
   },
   "outputs": [],
   "source": [
    "# !mkdir /content/drive/MyDrive/Big-Data\n"
   ]
  },
  {
   "cell_type": "code",
   "execution_count": 6,
   "metadata": {
    "colab": {
     "base_uri": "https://localhost:8080/"
    },
    "id": "x6-Wp_L6gLfr",
    "outputId": "c6aff8f5-9e51-4153-8909-b9e2d236d7ce"
   },
   "outputs": [
    {
     "name": "stdout",
     "output_type": "stream",
     "text": [
      "Drive already mounted at /content/drive; to attempt to forcibly remount, call drive.mount(\"/content/drive\", force_remount=True).\n"
     ]
    }
   ],
   "source": [
    "# import os\n",
    "# from google.colab import drive\n",
    "\n",
    "# # Mount Google Drive\n",
    "# drive.mount('/content/drive')\n",
    "\n",
    "# # Navigate to the correct directory\n",
    "# os.chdir('/content/drive/MyDrive/Big-Data')\n",
    "\n"
   ]
  },
  {
   "cell_type": "code",
   "execution_count": 4,
   "metadata": {
    "colab": {
     "base_uri": "https://localhost:8080/"
    },
    "id": "H64f2YvFvaL9",
    "outputId": "1b8ec2b8-09e7-4add-b2a1-bf6f7b58d754"
   },
   "outputs": [],
   "source": [
    "# !pwd"
   ]
  },
  {
   "cell_type": "code",
   "execution_count": 9,
   "metadata": {
    "id": "qjBu8Y4PxvIO"
   },
   "outputs": [],
   "source": [
    "# Create or open the file\n",
    "f = open('data/genius_lyrics/auto_.txt', 'w')"
   ]
  },
  {
   "cell_type": "code",
   "execution_count": 10,
   "metadata": {
    "id": "xkRkh-PXgPZT"
   },
   "outputs": [],
   "source": [
    "genius = lg.Genius('dr9AIkEJTZUG-ZwCXB4GRZ5Ns9WhHrvTdVobwkus-9xNTvkxhClixI2p5zhRacuV', skip_non_songs=True, excluded_terms=[\"(Remix)\", \"(Live)\"], remove_section_headers=True)"
   ]
  },
  {
   "cell_type": "code",
   "execution_count": 11,
   "metadata": {
    "id": "kv3E2IthhSUB"
   },
   "outputs": [],
   "source": [
    "artists = ['Logic', 'Rihanna', 'Frank Sinatra']"
   ]
  },
  {
   "cell_type": "code",
   "execution_count": 12,
   "metadata": {
    "id": "CUcydIpWgnA0"
   },
   "outputs": [],
   "source": [
    "def get_lyrics(arr, k):\n",
    "    c = 0\n",
    "    for name in arr:\n",
    "        try:\n",
    "            songs = (genius.search_artist(name, max_songs=k, sort='popularity')).songs\n",
    "            s = [song.lyrics for song in songs]\n",
    "            f.write(\"\\n \\n   <|endoftext|>   \\n \\n\".join(s))\n",
    "            c += 1\n",
    "            print(f\"Songs grabbed:{len(s)}\")\n",
    "        except Exception as e:\n",
    "            print(e)\n",
    "            # print(f\"some exception at {name}: {c}\")"
   ]
  },
  {
   "cell_type": "code",
   "execution_count": 13,
   "metadata": {
    "colab": {
     "base_uri": "https://localhost:8080/"
    },
    "id": "O535qoKthTqC",
    "outputId": "23f71fcb-b445-4043-d0cc-9888c9eac8a8"
   },
   "outputs": [
    {
     "name": "stdout",
     "output_type": "stream",
     "text": [
      "Searching for songs by Logic...\n",
      "\n",
      "Song 1: \"1-800-273-8255\"\n",
      "Song 2: \"Homicide\"\n",
      "Song 3: \"Gang Related\"\n",
      "\n",
      "Reached user-specified song limit (3).\n",
      "Done. Found 3 songs.\n",
      "Songs grabbed:3\n",
      "Searching for songs by Frank Sinatra...\n",
      "\n",
      "Song 1: \"Fly Me to the Moon\"\n",
      "Song 2: \"My Way\"\n",
      "Song 3: \"That’s Life\"\n",
      "\n",
      "Reached user-specified song limit (3).\n",
      "Done. Found 3 songs.\n",
      "Songs grabbed:3\n",
      "Searching for songs by Rihanna...\n",
      "\n",
      "Request timed out:\n",
      "HTTPSConnectionPool(host='genius.com', port=443): Read timed out. (read timeout=5)\n"
     ]
    }
   ],
   "source": [
    "get_lyrics(['Logic', 'Frank Sinatra', 'Rihanna'], 3)\n"
   ]
  },
  {
   "cell_type": "code",
   "execution_count": null,
   "metadata": {
    "id": "sbN8A7DryxdH"
   },
   "outputs": [],
   "source": []
  }
 ],
 "metadata": {
  "colab": {
   "provenance": []
  },
  "kernelspec": {
   "display_name": "Python 3",
   "language": "python",
   "name": "python3"
  },
  "language_info": {
   "codemirror_mode": {
    "name": "ipython",
    "version": 3
   },
   "file_extension": ".py",
   "mimetype": "text/x-python",
   "name": "python",
   "nbconvert_exporter": "python",
   "pygments_lexer": "ipython3",
   "version": "3.8.5"
  }
 },
 "nbformat": 4,
 "nbformat_minor": 1
}

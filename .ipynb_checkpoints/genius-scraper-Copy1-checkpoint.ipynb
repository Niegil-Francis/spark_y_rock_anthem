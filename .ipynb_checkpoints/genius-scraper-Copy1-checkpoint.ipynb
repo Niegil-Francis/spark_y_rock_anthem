{
 "cells": [
  {
   "cell_type": "code",
   "execution_count": 1,
   "metadata": {
    "id": "27vpd1k8BUkS"
   },
   "outputs": [],
   "source": [
    "import lyricsgenius as lg\n",
    "import glob\n",
    "from collections import defaultdict\n",
    "import json\n",
    "import tqdm\n",
    "import time\n",
    "import copy"
   ]
  },
  {
   "cell_type": "code",
   "execution_count": 2,
   "metadata": {
    "id": "3YI-LKj9BmpV"
   },
   "outputs": [],
   "source": [
    "genius = lg.Genius('djCmQDwr8sSuxfhKFALcC_ZjVBVpSd2h1I34sS-JJK7a3z_vFFYZoUS_Tb1T7aw5X', skip_non_songs=True, excluded_terms=[\"(Remix)\", \"(Live)\"], remove_section_headers=True, timeout = 20)"
   ]
  },
  {
   "cell_type": "code",
   "execution_count": 3,
   "metadata": {},
   "outputs": [],
   "source": [
    "# Loading the spotify data\n",
    "# Getting all the file names scraped from rate your music\n",
    "rating = ['top','bottom','popular','esoteric','diverse']\n",
    "path = \"data/spotify_song_data/{}/\"\n",
    "all_paths = {}\n",
    "for order in rating:\n",
    "    temp = path.format(order)\n",
    "    all_paths[order] = []\n",
    "    for file in glob.glob(temp+\"*.json\"):\n",
    "        all_paths[order].append(file)"
   ]
  },
  {
   "cell_type": "code",
   "execution_count": null,
   "metadata": {},
   "outputs": [
    {
     "name": "stderr",
     "output_type": "stream",
     "text": [
      "\r",
      "  0%|                                                                                         | 0/8465 [00:00<?, ?it/s]"
     ]
    },
    {
     "name": "stdout",
     "output_type": "stream",
     "text": [
      "Searching for \"Conservation of Two - 2021 Remaster\" by Sweet Trip...\n"
     ]
    },
    {
     "name": "stderr",
     "output_type": "stream",
     "text": [
      "\r",
      "  0%|                                                                               | 1/8465 [00:00<1:39:47,  1.41it/s]"
     ]
    },
    {
     "name": "stdout",
     "output_type": "stream",
     "text": [
      "Done.\n",
      "Lyrics grabbed for Conservation of Two - 2021 Remaster by Sweet Trip\n",
      "Searching for \"Air Supply - 2021 Remaster\" by Sweet Trip...\n"
     ]
    },
    {
     "name": "stderr",
     "output_type": "stream",
     "text": [
      "\r",
      "  0%|                                                                               | 2/8465 [00:01<1:35:25,  1.48it/s]"
     ]
    },
    {
     "name": "stdout",
     "output_type": "stream",
     "text": [
      "Done.\n",
      "Lyrics grabbed for Air Supply - 2021 Remaster by Sweet Trip\n",
      "Searching for \"Forever - 2021 Remaster\" by Sweet Trip...\n"
     ]
    },
    {
     "name": "stderr",
     "output_type": "stream",
     "text": [
      "\r",
      "  0%|                                                                               | 3/8465 [00:01<1:28:07,  1.60it/s]"
     ]
    },
    {
     "name": "stdout",
     "output_type": "stream",
     "text": [
      "Done.\n",
      "Lyrics grabbed for Forever - 2021 Remaster by Sweet Trip\n",
      "Searching for \"Acting - 2021 Remaster\" by Sweet Trip...\n"
     ]
    },
    {
     "name": "stderr",
     "output_type": "stream",
     "text": [
      "\r",
      "  0%|                                                                               | 4/8465 [00:02<1:29:07,  1.58it/s]"
     ]
    },
    {
     "name": "stdout",
     "output_type": "stream",
     "text": [
      "Done.\n",
      "Lyrics grabbed for Acting - 2021 Remaster by Sweet Trip\n",
      "Searching for \"Milk - 2021 Remaster\" by Sweet Trip...\n"
     ]
    },
    {
     "name": "stderr",
     "output_type": "stream",
     "text": [
      "\r",
      "  0%|                                                                               | 5/8465 [00:03<1:23:03,  1.70it/s]"
     ]
    },
    {
     "name": "stdout",
     "output_type": "stream",
     "text": [
      "Done.\n",
      "Lyrics grabbed for Milk - 2021 Remaster by Sweet Trip\n",
      "Searching for \"Darkness - 2021 Remaster\" by Sweet Trip...\n"
     ]
    },
    {
     "name": "stderr",
     "output_type": "stream",
     "text": [
      "\r",
      "  0%|                                                                               | 6/8465 [00:03<1:20:24,  1.75it/s]"
     ]
    },
    {
     "name": "stdout",
     "output_type": "stream",
     "text": [
      "Done.\n",
      "Lyrics grabbed for Darkness - 2021 Remaster by Sweet Trip\n",
      "Searching for \"To the Moon - 2021 Remaster\" by Sweet Trip...\n"
     ]
    },
    {
     "name": "stderr",
     "output_type": "stream",
     "text": [
      "\r",
      "  0%|                                                                               | 7/8465 [00:04<1:20:06,  1.76it/s]"
     ]
    },
    {
     "name": "stdout",
     "output_type": "stream",
     "text": [
      "Done.\n",
      "Lyrics grabbed for To the Moon - 2021 Remaster by Sweet Trip\n",
      "Searching for \"Song About a Sea - 2021 Remaster\" by Sweet Trip...\n"
     ]
    },
    {
     "name": "stderr",
     "output_type": "stream",
     "text": [
      "\r",
      "  0%|                                                                               | 8/8465 [00:04<1:21:55,  1.72it/s]"
     ]
    },
    {
     "name": "stdout",
     "output_type": "stream",
     "text": [
      "Done.\n",
      "Lyrics grabbed for Song About a Sea - 2021 Remaster by Sweet Trip\n",
      "Searching for \"Song About a Sun - 2021 Remaster\" by Sweet Trip...\n"
     ]
    },
    {
     "name": "stderr",
     "output_type": "stream",
     "text": [
      "\r",
      "  0%|                                                                               | 9/8465 [00:05<1:22:27,  1.71it/s]"
     ]
    },
    {
     "name": "stdout",
     "output_type": "stream",
     "text": [
      "Done.\n",
      "Lyrics grabbed for Song About a Sun - 2021 Remaster by Sweet Trip\n",
      "Searching for \"No Words to Be Found - 2021 Remaster\" by Sweet Trip...\n"
     ]
    },
    {
     "name": "stderr",
     "output_type": "stream",
     "text": [
      "\r",
      "  0%|                                                                              | 10/8465 [00:05<1:23:04,  1.70it/s]"
     ]
    },
    {
     "name": "stdout",
     "output_type": "stream",
     "text": [
      "Done.\n",
      "Lyrics grabbed for No Words to Be Found - 2021 Remaster by Sweet Trip\n",
      "Searching for \"Pretending - 2021 Remaster\" by Sweet Trip...\n"
     ]
    },
    {
     "name": "stderr",
     "output_type": "stream",
     "text": [
      "\r",
      "  0%|                                                                              | 11/8465 [00:06<1:24:54,  1.66it/s]"
     ]
    },
    {
     "name": "stdout",
     "output_type": "stream",
     "text": [
      "Done.\n",
      "Lyrics grabbed for Pretending - 2021 Remaster by Sweet Trip\n",
      "Searching for \"Misfortunes Are Cruel - 2021 Remaster\" by Sweet Trip...\n"
     ]
    },
    {
     "name": "stderr",
     "output_type": "stream",
     "text": [
      "\r",
      "  0%|                                                                              | 12/8465 [00:07<1:29:25,  1.58it/s]"
     ]
    },
    {
     "name": "stdout",
     "output_type": "stream",
     "text": [
      "Done.\n",
      "Lyrics grabbed for Misfortunes Are Cruel - 2021 Remaster by Sweet Trip\n",
      "Searching for \"Your World is Eternally Complete - 2021 Remaster\" by Sweet Trip...\n"
     ]
    },
    {
     "name": "stderr",
     "output_type": "stream",
     "text": [
      "\r",
      "  0%|                                                                              | 13/8465 [00:07<1:26:18,  1.63it/s]"
     ]
    },
    {
     "name": "stdout",
     "output_type": "stream",
     "text": [
      "Done.\n",
      "Lyrics grabbed for Your World is Eternally Complete - 2021 Remaster by Sweet Trip\n",
      "Searching for \"Female Lover - 2021 Remaster\" by Sweet Trip...\n"
     ]
    },
    {
     "name": "stderr",
     "output_type": "stream",
     "text": [
      "\r",
      "  0%|▏                                                                             | 14/8465 [00:08<1:30:01,  1.56it/s]"
     ]
    },
    {
     "name": "stdout",
     "output_type": "stream",
     "text": [
      "Done.\n",
      "Lyrics grabbed for Female Lover - 2021 Remaster by Sweet Trip\n",
      "Searching for \"Silence - 2021 Remaster\" by Sweet Trip...\n"
     ]
    },
    {
     "name": "stderr",
     "output_type": "stream",
     "text": [
      "\r",
      "  0%|▏                                                                             | 15/8465 [00:09<1:24:54,  1.66it/s]"
     ]
    },
    {
     "name": "stdout",
     "output_type": "stream",
     "text": [
      "Done.\n",
      "Lyrics grabbed for Silence - 2021 Remaster by Sweet Trip\n",
      "Searching for \"Where the Sunrise Dies, So Does the Echo of Your Voice - 2021 Remaster\" by Sweet Trip...\n"
     ]
    },
    {
     "name": "stderr",
     "output_type": "stream",
     "text": [
      "\r",
      "  0%|▏                                                                             | 16/8465 [00:09<1:09:53,  2.01it/s]"
     ]
    },
    {
     "name": "stdout",
     "output_type": "stream",
     "text": [
      "No results found for: 'Where the Sunrise Dies, So Does the Echo of Your Voice - 2021 Remaster Sweet Trip'\n",
      "Could not find Where the Sunrise Dies, So Does the Echo of Your Voice - 2021 Remaster by Sweet Trip\n",
      "Searching for \"Things to Ponder While Falling - 2021 Re-Record\" by Sweet Trip...\n"
     ]
    },
    {
     "name": "stderr",
     "output_type": "stream",
     "text": [
      "\r",
      "  0%|▏                                                                               | 17/8465 [00:09<58:56,  2.39it/s]"
     ]
    },
    {
     "name": "stdout",
     "output_type": "stream",
     "text": [
      "No results found for: 'Things to Ponder While Falling - 2021 Re-Record Sweet Trip'\n",
      "Could not find Things to Ponder While Falling - 2021 Re-Record by Sweet Trip\n",
      "Searching for \"Daughters of Darkness\" by Natural Snow Buildings...\n"
     ]
    },
    {
     "name": "stderr",
     "output_type": "stream",
     "text": [
      "\r",
      "  0%|▏                                                                               | 18/8465 [00:09<51:14,  2.75it/s]"
     ]
    },
    {
     "name": "stdout",
     "output_type": "stream",
     "text": [
      "Specified song does not contain lyrics. Rejecting.\n",
      "Could not find Daughters of Darkness by Natural Snow Buildings\n",
      "Searching for \"Satanic Demona, Pt. 1\" by Natural Snow Buildings...\n"
     ]
    },
    {
     "name": "stderr",
     "output_type": "stream",
     "text": [
      "\r",
      "  0%|▏                                                                               | 19/8465 [00:10<45:52,  3.07it/s]"
     ]
    },
    {
     "name": "stdout",
     "output_type": "stream",
     "text": [
      "Specified song does not contain lyrics. Rejecting.\n",
      "Could not find Satanic Demona, Pt. 1 by Natural Snow Buildings\n",
      "Searching for \"Satanic Demona, Pt. 2\" by Natural Snow Buildings...\n"
     ]
    },
    {
     "name": "stderr",
     "output_type": "stream",
     "text": [
      "\r",
      "  0%|▏                                                                               | 20/8465 [00:10<43:33,  3.23it/s]"
     ]
    },
    {
     "name": "stdout",
     "output_type": "stream",
     "text": [
      "Specified song does not contain lyrics. Rejecting.\n",
      "Could not find Satanic Demona, Pt. 2 by Natural Snow Buildings\n",
      "Searching for \"Curare\" by Natural Snow Buildings...\n"
     ]
    },
    {
     "name": "stderr",
     "output_type": "stream",
     "text": [
      "\r",
      "  0%|▏                                                                               | 21/8465 [00:10<40:27,  3.48it/s]"
     ]
    },
    {
     "name": "stdout",
     "output_type": "stream",
     "text": [
      "Specified song does not contain lyrics. Rejecting.\n",
      "Could not find Curare by Natural Snow Buildings\n",
      "Searching for \"Carnal Flowers\" by Natural Snow Buildings...\n"
     ]
    },
    {
     "name": "stderr",
     "output_type": "stream",
     "text": [
      "\r",
      "  0%|▏                                                                               | 22/8465 [00:10<38:17,  3.67it/s]"
     ]
    },
    {
     "name": "stdout",
     "output_type": "stream",
     "text": [
      "Specified song does not contain lyrics. Rejecting.\n",
      "Could not find Carnal Flowers by Natural Snow Buildings\n",
      "Searching for \"Her Face is Not Her Real Face\" by Natural Snow Buildings...\n"
     ]
    },
    {
     "name": "stderr",
     "output_type": "stream",
     "text": [
      "\r",
      "  0%|▏                                                                               | 23/8465 [00:11<37:26,  3.76it/s]"
     ]
    },
    {
     "name": "stdout",
     "output_type": "stream",
     "text": [
      "Specified song does not contain lyrics. Rejecting.\n",
      "Could not find Her Face is Not Her Real Face by Natural Snow Buildings\n",
      "Searching for \"Body Double\" by Natural Snow Buildings...\n"
     ]
    },
    {
     "name": "stderr",
     "output_type": "stream",
     "text": [
      "\r",
      "  0%|▏                                                                               | 24/8465 [00:11<36:17,  3.88it/s]"
     ]
    },
    {
     "name": "stdout",
     "output_type": "stream",
     "text": [
      "Specified song does not contain lyrics. Rejecting.\n",
      "Could not find Body Double by Natural Snow Buildings\n",
      "Searching for \"The Source\" by Natural Snow Buildings...\n"
     ]
    },
    {
     "name": "stderr",
     "output_type": "stream",
     "text": [
      "\r",
      "  0%|▏                                                                               | 25/8465 [00:11<35:20,  3.98it/s]"
     ]
    },
    {
     "name": "stdout",
     "output_type": "stream",
     "text": [
      "Specified song does not contain lyrics. Rejecting.\n",
      "Could not find The Source by Natural Snow Buildings\n",
      "Searching for \"Santa Sangre, Pt. 1\" by Natural Snow Buildings...\n"
     ]
    },
    {
     "name": "stderr",
     "output_type": "stream",
     "text": [
      "\r",
      "  0%|▏                                                                               | 26/8465 [00:11<35:24,  3.97it/s]"
     ]
    },
    {
     "name": "stdout",
     "output_type": "stream",
     "text": [
      "Specified song does not contain lyrics. Rejecting.\n",
      "Could not find Santa Sangre, Pt. 1 by Natural Snow Buildings\n",
      "Searching for \"Santa Sangre, Pt. 2\" by Natural Snow Buildings...\n"
     ]
    },
    {
     "name": "stderr",
     "output_type": "stream",
     "text": [
      "\r",
      "  0%|▎                                                                               | 27/8465 [00:12<34:34,  4.07it/s]"
     ]
    },
    {
     "name": "stdout",
     "output_type": "stream",
     "text": [
      "Specified song does not contain lyrics. Rejecting.\n",
      "Could not find Santa Sangre, Pt. 2 by Natural Snow Buildings\n",
      "Searching for \"A Thousand Demons Invocation\" by Natural Snow Buildings...\n"
     ]
    },
    {
     "name": "stderr",
     "output_type": "stream",
     "text": [
      "\r",
      "  0%|▎                                                                               | 28/8465 [00:12<34:10,  4.12it/s]"
     ]
    },
    {
     "name": "stdout",
     "output_type": "stream",
     "text": [
      "Specified song does not contain lyrics. Rejecting.\n",
      "Could not find A Thousand Demons Invocation by Natural Snow Buildings\n",
      "Searching for \"Slaves for the Afterlife\" by Natural Snow Buildings...\n"
     ]
    },
    {
     "name": "stderr",
     "output_type": "stream",
     "text": [
      "\r",
      "  0%|▎                                                                               | 29/8465 [00:12<34:37,  4.06it/s]"
     ]
    },
    {
     "name": "stdout",
     "output_type": "stream",
     "text": [
      "Specified song does not contain lyrics. Rejecting.\n",
      "Could not find Slaves for the Afterlife by Natural Snow Buildings\n",
      "Searching for \"Black Pastures\" by Natural Snow Buildings...\n"
     ]
    },
    {
     "name": "stderr",
     "output_type": "stream",
     "text": [
      "\r",
      "  0%|▎                                                                               | 30/8465 [00:12<35:04,  4.01it/s]"
     ]
    },
    {
     "name": "stdout",
     "output_type": "stream",
     "text": [
      "Specified song does not contain lyrics. Rejecting.\n",
      "Could not find Black Pastures by Natural Snow Buildings\n",
      "Searching for \"Will You Die for Me?\" by Natural Snow Buildings...\n"
     ]
    },
    {
     "name": "stderr",
     "output_type": "stream",
     "text": [
      "\r",
      "  0%|▎                                                                               | 31/8465 [00:13<34:59,  4.02it/s]"
     ]
    },
    {
     "name": "stdout",
     "output_type": "stream",
     "text": [
      "Specified song does not contain lyrics. Rejecting.\n",
      "Could not find Will You Die for Me? by Natural Snow Buildings\n",
      "Searching for \"Devil's Fork\" by Natural Snow Buildings...\n"
     ]
    },
    {
     "name": "stderr",
     "output_type": "stream",
     "text": [
      "\r",
      "  0%|▎                                                                               | 32/8465 [00:13<34:24,  4.09it/s]"
     ]
    },
    {
     "name": "stdout",
     "output_type": "stream",
     "text": [
      "Specified song does not contain lyrics. Rejecting.\n",
      "Could not find Devil's Fork by Natural Snow Buildings\n",
      "Searching for \"Blood in the Ground Linking Us All\" by Natural Snow Buildings...\n"
     ]
    },
    {
     "name": "stderr",
     "output_type": "stream",
     "text": [
      "\r",
      "  0%|▎                                                                               | 33/8465 [00:13<34:42,  4.05it/s]"
     ]
    },
    {
     "name": "stdout",
     "output_type": "stream",
     "text": [
      "Specified song does not contain lyrics. Rejecting.\n",
      "Could not find Blood in the Ground Linking Us All by Natural Snow Buildings\n",
      "Searching for \"The Invisibles\" by Natural Snow Buildings...\n"
     ]
    },
    {
     "name": "stderr",
     "output_type": "stream",
     "text": [
      "\r",
      "  0%|▎                                                                               | 34/8465 [00:13<34:20,  4.09it/s]"
     ]
    },
    {
     "name": "stdout",
     "output_type": "stream",
     "text": [
      "Specified song does not contain lyrics. Rejecting.\n",
      "Could not find The Invisibles by Natural Snow Buildings\n",
      "Searching for \"Psychic Navigation\" by Natural Snow Buildings...\n"
     ]
    },
    {
     "name": "stderr",
     "output_type": "stream",
     "text": [
      "\r",
      "  0%|▎                                                                               | 35/8465 [00:14<35:20,  3.98it/s]"
     ]
    },
    {
     "name": "stdout",
     "output_type": "stream",
     "text": [
      "Specified song does not contain lyrics. Rejecting.\n",
      "Could not find Psychic Navigation by Natural Snow Buildings\n",
      "Searching for \"Oblivion\" by Mastodon...\n"
     ]
    },
    {
     "name": "stderr",
     "output_type": "stream",
     "text": [
      "\r",
      "  0%|▎                                                                               | 36/8465 [00:14<50:18,  2.79it/s]"
     ]
    },
    {
     "name": "stdout",
     "output_type": "stream",
     "text": [
      "Done.\n",
      "Lyrics grabbed for Oblivion by Mastodon\n",
      "Searching for \"Divinations\" by Mastodon...\n"
     ]
    },
    {
     "name": "stderr",
     "output_type": "stream",
     "text": [
      "\r",
      "  0%|▎                                                                             | 37/8465 [00:15<1:02:45,  2.24it/s]"
     ]
    },
    {
     "name": "stdout",
     "output_type": "stream",
     "text": [
      "Done.\n",
      "Lyrics grabbed for Divinations by Mastodon\n",
      "Searching for \"Quintessence\" by Mastodon...\n"
     ]
    },
    {
     "name": "stderr",
     "output_type": "stream",
     "text": [
      "\r",
      "  0%|▎                                                                             | 38/8465 [00:15<1:08:33,  2.05it/s]"
     ]
    },
    {
     "name": "stdout",
     "output_type": "stream",
     "text": [
      "Done.\n",
      "Lyrics grabbed for Quintessence by Mastodon\n",
      "Searching for \"The Czar: Usurper / Escape / Martyr / Spiral\" by Mastodon...\n"
     ]
    },
    {
     "name": "stderr",
     "output_type": "stream",
     "text": [
      "\r",
      "  0%|▎                                                                               | 39/8465 [00:16<59:36,  2.36it/s]"
     ]
    },
    {
     "name": "stdout",
     "output_type": "stream",
     "text": [
      "Specified song does not contain lyrics. Rejecting.\n",
      "Could not find The Czar: Usurper / Escape / Martyr / Spiral by Mastodon\n",
      "Searching for \"Ghost of Karelia\" by Mastodon...\n"
     ]
    },
    {
     "name": "stderr",
     "output_type": "stream",
     "text": [
      "\r",
      "  0%|▎                                                                             | 40/8465 [00:16<1:07:31,  2.08it/s]"
     ]
    },
    {
     "name": "stdout",
     "output_type": "stream",
     "text": [
      "Done.\n",
      "Lyrics grabbed for Ghost of Karelia by Mastodon\n",
      "Searching for \"Crack the Skye\" by Mastodon...\n"
     ]
    },
    {
     "name": "stderr",
     "output_type": "stream",
     "text": [
      "\r",
      "  0%|▍                                                                             | 41/8465 [00:17<1:12:56,  1.92it/s]"
     ]
    },
    {
     "name": "stdout",
     "output_type": "stream",
     "text": [
      "Done.\n",
      "Lyrics grabbed for Crack the Skye by Mastodon\n",
      "Searching for \"The Last Baron\" by Mastodon...\n"
     ]
    },
    {
     "name": "stderr",
     "output_type": "stream",
     "text": [
      "\r",
      "  0%|▍                                                                             | 42/8465 [00:17<1:16:25,  1.84it/s]"
     ]
    },
    {
     "name": "stdout",
     "output_type": "stream",
     "text": [
      "Done.\n",
      "Lyrics grabbed for The Last Baron by Mastodon\n",
      "Searching for \"In The Flowers\" by Animal Collective...\n"
     ]
    },
    {
     "name": "stderr",
     "output_type": "stream",
     "text": [
      "\r",
      "  1%|▍                                                                             | 43/8465 [00:18<1:20:30,  1.74it/s]"
     ]
    },
    {
     "name": "stdout",
     "output_type": "stream",
     "text": [
      "Done.\n",
      "Lyrics grabbed for In The Flowers by Animal Collective\n",
      "Searching for \"My Girls\" by Animal Collective...\n"
     ]
    },
    {
     "name": "stderr",
     "output_type": "stream",
     "text": [
      "\r",
      "  1%|▍                                                                             | 44/8465 [00:19<1:23:27,  1.68it/s]"
     ]
    },
    {
     "name": "stdout",
     "output_type": "stream",
     "text": [
      "Done.\n",
      "Lyrics grabbed for My Girls by Animal Collective\n",
      "Searching for \"Also Frightened\" by Animal Collective...\n"
     ]
    },
    {
     "name": "stderr",
     "output_type": "stream",
     "text": [
      "\r",
      "  1%|▍                                                                             | 45/8465 [00:19<1:23:41,  1.68it/s]"
     ]
    },
    {
     "name": "stdout",
     "output_type": "stream",
     "text": [
      "Done.\n",
      "Lyrics grabbed for Also Frightened by Animal Collective\n",
      "Searching for \"Summertime Clothes\" by Animal Collective...\n"
     ]
    },
    {
     "name": "stderr",
     "output_type": "stream",
     "text": [
      "\r",
      "  1%|▍                                                                             | 46/8465 [00:20<1:24:46,  1.66it/s]"
     ]
    },
    {
     "name": "stdout",
     "output_type": "stream",
     "text": [
      "Done.\n",
      "Lyrics grabbed for Summertime Clothes by Animal Collective\n",
      "Searching for \"Daily Routine\" by Animal Collective...\n"
     ]
    },
    {
     "name": "stderr",
     "output_type": "stream",
     "text": [
      "\r",
      "  1%|▍                                                                             | 47/8465 [00:21<1:25:04,  1.65it/s]"
     ]
    },
    {
     "name": "stdout",
     "output_type": "stream",
     "text": [
      "Done.\n",
      "Lyrics grabbed for Daily Routine by Animal Collective\n",
      "Searching for \"Bluish\" by Animal Collective...\n"
     ]
    },
    {
     "name": "stderr",
     "output_type": "stream",
     "text": [
      "\r",
      "  1%|▍                                                                             | 48/8465 [00:21<1:24:15,  1.66it/s]"
     ]
    },
    {
     "name": "stdout",
     "output_type": "stream",
     "text": [
      "Done.\n",
      "Lyrics grabbed for Bluish by Animal Collective\n",
      "Searching for \"Guys Eyes\" by Animal Collective...\n"
     ]
    },
    {
     "name": "stderr",
     "output_type": "stream",
     "text": [
      "\r",
      "  1%|▍                                                                             | 49/8465 [00:22<1:23:43,  1.68it/s]"
     ]
    },
    {
     "name": "stdout",
     "output_type": "stream",
     "text": [
      "Done.\n",
      "Lyrics grabbed for Guys Eyes by Animal Collective\n",
      "Searching for \"Taste\" by Animal Collective...\n"
     ]
    },
    {
     "name": "stderr",
     "output_type": "stream",
     "text": [
      "\r",
      "  1%|▍                                                                             | 50/8465 [00:22<1:24:19,  1.66it/s]"
     ]
    },
    {
     "name": "stdout",
     "output_type": "stream",
     "text": [
      "Done.\n",
      "Lyrics grabbed for Taste by Animal Collective\n",
      "Searching for \"Lion In A Coma\" by Animal Collective...\n"
     ]
    },
    {
     "name": "stderr",
     "output_type": "stream",
     "text": [
      "\r",
      "  1%|▍                                                                             | 51/8465 [00:23<1:25:15,  1.64it/s]"
     ]
    },
    {
     "name": "stdout",
     "output_type": "stream",
     "text": [
      "Done.\n",
      "Lyrics grabbed for Lion In A Coma by Animal Collective\n",
      "Searching for \"No More Runnin\" by Animal Collective...\n"
     ]
    },
    {
     "name": "stderr",
     "output_type": "stream",
     "text": [
      "\r",
      "  1%|▍                                                                             | 52/8465 [00:24<1:25:24,  1.64it/s]"
     ]
    },
    {
     "name": "stdout",
     "output_type": "stream",
     "text": [
      "Done.\n",
      "Lyrics grabbed for No More Runnin by Animal Collective\n",
      "Searching for \"Brother Sport\" by Animal Collective...\n"
     ]
    },
    {
     "name": "stderr",
     "output_type": "stream",
     "text": [
      "\r",
      "  1%|▍                                                                             | 53/8465 [00:24<1:25:32,  1.64it/s]"
     ]
    },
    {
     "name": "stdout",
     "output_type": "stream",
     "text": [
      "Done.\n",
      "Lyrics grabbed for Brother Sport by Animal Collective\n",
      "Searching for \"Black Future\" by Vektor...\n"
     ]
    },
    {
     "name": "stderr",
     "output_type": "stream",
     "text": [
      "\r",
      "  1%|▍                                                                             | 54/8465 [00:25<1:26:06,  1.63it/s]"
     ]
    },
    {
     "name": "stdout",
     "output_type": "stream",
     "text": [
      "Done.\n",
      "Lyrics grabbed for Black Future by Vektor\n",
      "Searching for \"Oblivion\" by Vektor...\n"
     ]
    },
    {
     "name": "stderr",
     "output_type": "stream",
     "text": [
      "\r",
      "  1%|▌                                                                             | 55/8465 [00:25<1:24:18,  1.66it/s]"
     ]
    },
    {
     "name": "stdout",
     "output_type": "stream",
     "text": [
      "Done.\n",
      "Lyrics grabbed for Oblivion by Vektor\n",
      "Searching for \"Destroying the Cosmos\" by Vektor...\n"
     ]
    },
    {
     "name": "stderr",
     "output_type": "stream",
     "text": [
      "\r",
      "  1%|▌                                                                             | 56/8465 [00:26<1:23:40,  1.67it/s]"
     ]
    },
    {
     "name": "stdout",
     "output_type": "stream",
     "text": [
      "Done.\n",
      "Lyrics grabbed for Destroying the Cosmos by Vektor\n",
      "Searching for \"Forests of Legend\" by Vektor...\n"
     ]
    },
    {
     "name": "stderr",
     "output_type": "stream",
     "text": [
      "\r",
      "  1%|▌                                                                             | 57/8465 [00:27<1:24:15,  1.66it/s]"
     ]
    },
    {
     "name": "stdout",
     "output_type": "stream",
     "text": [
      "Done.\n",
      "Lyrics grabbed for Forests of Legend by Vektor\n",
      "Searching for \"Hunger for Violence\" by Vektor...\n"
     ]
    },
    {
     "name": "stderr",
     "output_type": "stream",
     "text": [
      "\r",
      "  1%|▌                                                                             | 58/8465 [00:27<1:24:33,  1.66it/s]"
     ]
    },
    {
     "name": "stdout",
     "output_type": "stream",
     "text": [
      "Done.\n",
      "Lyrics grabbed for Hunger for Violence by Vektor\n",
      "Searching for \"Deoxyribonucleic Acid\" by Vektor...\n"
     ]
    },
    {
     "name": "stderr",
     "output_type": "stream",
     "text": [
      "\r",
      "  1%|▌                                                                             | 59/8465 [00:28<1:25:28,  1.64it/s]"
     ]
    },
    {
     "name": "stdout",
     "output_type": "stream",
     "text": [
      "Done.\n",
      "Lyrics grabbed for Deoxyribonucleic Acid by Vektor\n",
      "Searching for \"Asteroid\" by Vektor...\n"
     ]
    },
    {
     "name": "stderr",
     "output_type": "stream",
     "text": [
      "\r",
      "  1%|▌                                                                             | 60/8465 [00:28<1:26:30,  1.62it/s]"
     ]
    },
    {
     "name": "stdout",
     "output_type": "stream",
     "text": [
      "Done.\n",
      "Lyrics grabbed for Asteroid by Vektor\n",
      "Searching for \"Dark Nebula\" by Vektor...\n"
     ]
    },
    {
     "name": "stderr",
     "output_type": "stream",
     "text": [
      "\r",
      "  1%|▌                                                                             | 61/8465 [00:29<1:26:40,  1.62it/s]"
     ]
    },
    {
     "name": "stdout",
     "output_type": "stream",
     "text": [
      "Done.\n",
      "Lyrics grabbed for Dark Nebula by Vektor\n",
      "Searching for \"Accelerating Universe\" by Vektor...\n"
     ]
    },
    {
     "name": "stderr",
     "output_type": "stream",
     "text": [
      "\r",
      "  1%|▌                                                                             | 62/8465 [00:30<1:26:37,  1.62it/s]"
     ]
    },
    {
     "name": "stdout",
     "output_type": "stream",
     "text": [
      "Done.\n",
      "Lyrics grabbed for Accelerating Universe by Vektor\n",
      "Searching for \"Dark Horse\" by Converge...\n"
     ]
    },
    {
     "name": "stderr",
     "output_type": "stream",
     "text": [
      "\r",
      "  1%|▌                                                                             | 63/8465 [00:30<1:30:42,  1.54it/s]"
     ]
    },
    {
     "name": "stdout",
     "output_type": "stream",
     "text": [
      "Done.\n",
      "Lyrics grabbed for Dark Horse by Converge\n",
      "Searching for \"Reap What You Sow\" by Converge...\n"
     ]
    },
    {
     "name": "stderr",
     "output_type": "stream",
     "text": [
      "\r",
      "  1%|▌                                                                             | 64/8465 [00:31<1:28:48,  1.58it/s]"
     ]
    },
    {
     "name": "stdout",
     "output_type": "stream",
     "text": [
      "Done.\n",
      "Lyrics grabbed for Reap What You Sow by Converge\n",
      "Searching for \"Axe To Fall\" by Converge...\n"
     ]
    },
    {
     "name": "stderr",
     "output_type": "stream",
     "text": [
      "\r",
      "  1%|▌                                                                             | 65/8465 [00:32<1:27:10,  1.61it/s]"
     ]
    },
    {
     "name": "stdout",
     "output_type": "stream",
     "text": [
      "Done.\n",
      "Lyrics grabbed for Axe To Fall by Converge\n",
      "Searching for \"Effigy\" by Converge...\n"
     ]
    },
    {
     "name": "stderr",
     "output_type": "stream",
     "text": [
      "\r",
      "  1%|▌                                                                             | 66/8465 [00:32<1:28:26,  1.58it/s]"
     ]
    },
    {
     "name": "stdout",
     "output_type": "stream",
     "text": [
      "Done.\n",
      "Lyrics grabbed for Effigy by Converge\n",
      "Searching for \"Worms Will Feed / Rats Will Feast\" by Converge...\n"
     ]
    },
    {
     "name": "stderr",
     "output_type": "stream",
     "text": [
      "\r",
      "  1%|▌                                                                             | 67/8465 [00:33<1:28:00,  1.59it/s]"
     ]
    },
    {
     "name": "stdout",
     "output_type": "stream",
     "text": [
      "Done.\n",
      "Lyrics grabbed for Worms Will Feed / Rats Will Feast by Converge\n",
      "Searching for \"Wishing Well\" by Converge...\n"
     ]
    },
    {
     "name": "stderr",
     "output_type": "stream",
     "text": [
      "\r",
      "  1%|▋                                                                             | 68/8465 [00:34<1:28:33,  1.58it/s]"
     ]
    },
    {
     "name": "stdout",
     "output_type": "stream",
     "text": [
      "Done.\n",
      "Lyrics grabbed for Wishing Well by Converge\n",
      "Searching for \"Damages\" by Converge...\n"
     ]
    },
    {
     "name": "stderr",
     "output_type": "stream",
     "text": [
      "\r",
      "  1%|▋                                                                             | 69/8465 [00:34<1:27:32,  1.60it/s]"
     ]
    },
    {
     "name": "stdout",
     "output_type": "stream",
     "text": [
      "Done.\n",
      "Lyrics grabbed for Damages by Converge\n",
      "Searching for \"Losing Battle\" by Converge...\n"
     ]
    }
   ],
   "source": [
    "# Loading Data and adding lyrics for each track\n",
    "\n",
    "# Counter to slow down the API calls\n",
    "sleeper = defaultdict(lambda: 0.5)\n",
    "\n",
    "\n",
    "for order in all_paths.keys():\n",
    "    \n",
    "    # Search for a specific category\n",
    "    if order != 'top':\n",
    "        continue\n",
    "    \n",
    "    # Iterating through all the file paths in that category\n",
    "    for j_file in all_paths[order][::-1]:\n",
    "        counter = 0\n",
    "        \n",
    "        # Getting the year from the file path\n",
    "        year = j_file[-9:-5]\n",
    "        \n",
    "        # Look for a specific year\n",
    "        if int(year) not in [2023,2022]:\n",
    "            continue\n",
    "        \n",
    "        # Opening a file \n",
    "        with open(j_file) as f:\n",
    "            data_dict = json.load(f)\n",
    "            \n",
    "        # Appending the new dictionaries with added information into new_vals\n",
    "        new_vals = []\n",
    "\n",
    "        # Iterating through each entry in the original dictionary\n",
    "        for entry in tqdm.tqdm(data_dict):\n",
    "            counter +=1 \n",
    "\n",
    "            # Sleeper to reduce timeout\n",
    "#                 time.sleep(sleeper['search'])\n",
    "\n",
    "            # Getting the track lyrics\n",
    "            try:\n",
    "                song = {}\n",
    "                song['lyrics'] = genius.search_song(title = entry['spotify track name'], artist = entry['Artist Name'])\n",
    "                if song['lyrics'] == None:\n",
    "                    print(f\"Could not find {entry['spotify track name']} by {entry['Artist Name']}\")\n",
    "                else:\n",
    "                    print(f\"Lyrics grabbed for {entry['spotify track name']} by {entry['Artist Name']}\")\n",
    "            except Exception as e:\n",
    "                print(e)\n",
    "                song['lyrics'] = None\n",
    "                print(f\"Exception for {entry['spotify track name']} by {entry['Artist Name']}\")\n",
    "\n",
    "            if song['lyrics'] and not(isinstance(song['lyrics'],str)):\n",
    "                song['lyrics'] = song['lyrics'].lyrics\n",
    "            # Creating a new dictionary with added information\n",
    "            dup_entry = copy.deepcopy(entry)\n",
    "            dup_entry.update(song)\n",
    "            new_vals.append(dup_entry)\n",
    "            \n",
    "            if counter%10 == 0:\n",
    "                path = f\"data/genius_lyrics/{order}/{year}.json\"\n",
    "                # File to write to       \n",
    "                with open(path, 'w') as file:\n",
    "                    json.dump(new_vals, file)\n",
    "\n",
    "        path = f\"data/genius_lyrics/{order}/{year}.json\"\n",
    "        # File to write to       \n",
    "        with open(path, 'w') as file:\n",
    "            json.dump(new_vals, file)"
   ]
  },
  {
   "cell_type": "code",
   "execution_count": null,
   "metadata": {},
   "outputs": [],
   "source": []
  }
 ],
 "metadata": {
  "colab": {
   "provenance": []
  },
  "kernelspec": {
   "display_name": "Python 3",
   "language": "python",
   "name": "python3"
  },
  "language_info": {
   "codemirror_mode": {
    "name": "ipython",
    "version": 3
   },
   "file_extension": ".py",
   "mimetype": "text/x-python",
   "name": "python",
   "nbconvert_exporter": "python",
   "pygments_lexer": "ipython3",
   "version": "3.8.5"
  }
 },
 "nbformat": 4,
 "nbformat_minor": 1
}

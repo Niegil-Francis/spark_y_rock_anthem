{
 "cells": [
  {
   "cell_type": "code",
   "execution_count": 1,
   "metadata": {
    "id": "27vpd1k8BUkS"
   },
   "outputs": [],
   "source": [
    "import lyricsgenius as lg\n",
    "import glob\n",
    "from collections import defaultdict\n",
    "import json\n",
    "import tqdm\n",
    "import time\n",
    "import copy"
   ]
  },
  {
   "cell_type": "code",
   "execution_count": 2,
   "metadata": {
    "id": "3YI-LKj9BmpV"
   },
   "outputs": [],
   "source": [
    "genius = lg.Genius('1apXPizx_eazq4icz0z6GslDOlS5TN6Md2DZWmirAOa8xLRlaNGqoHiFd5jSQVy9', skip_non_songs=True, excluded_terms=[\"(Remix)\", \"(Live)\"], remove_section_headers=True, timeout = 20)"
   ]
  },
  {
   "cell_type": "code",
   "execution_count": 3,
   "metadata": {},
   "outputs": [],
   "source": [
    "# Loading the spotify data\n",
    "# Getting all the file names scraped from rate your music\n",
    "rating = ['top','bottom','popular','esoteric','diverse']\n",
    "path = \"data/spotify_song_data/{}/\"\n",
    "all_paths = {}\n",
    "for order in rating:\n",
    "    temp = path.format(order)\n",
    "    all_paths[order] = []\n",
    "    for file in glob.glob(temp+\"*.json\"):\n",
    "        all_paths[order].append(file)"
   ]
  },
  {
   "cell_type": "code",
   "execution_count": null,
   "metadata": {},
   "outputs": [
    {
     "name": "stderr",
     "output_type": "stream",
     "text": [
      "\r",
      "  0%|                                                                                         | 0/8465 [00:00<?, ?it/s]"
     ]
    },
    {
     "name": "stdout",
     "output_type": "stream",
     "text": [
      "Searching for \"Conservation of Two - 2021 Remaster\" by Sweet Trip...\n"
     ]
    },
    {
     "name": "stderr",
     "output_type": "stream",
     "text": [
      "\r",
      "  0%|                                                                               | 1/8465 [00:00<1:39:47,  1.41it/s]"
     ]
    },
    {
     "name": "stdout",
     "output_type": "stream",
     "text": [
      "Done.\n",
      "Lyrics grabbed for Conservation of Two - 2021 Remaster by Sweet Trip\n",
      "Searching for \"Air Supply - 2021 Remaster\" by Sweet Trip...\n"
     ]
    },
    {
     "name": "stderr",
     "output_type": "stream",
     "text": [
      "\r",
      "  0%|                                                                               | 2/8465 [00:01<1:35:25,  1.48it/s]"
     ]
    },
    {
     "name": "stdout",
     "output_type": "stream",
     "text": [
      "Done.\n",
      "Lyrics grabbed for Air Supply - 2021 Remaster by Sweet Trip\n",
      "Searching for \"Forever - 2021 Remaster\" by Sweet Trip...\n"
     ]
    },
    {
     "name": "stderr",
     "output_type": "stream",
     "text": [
      "\r",
      "  0%|                                                                               | 3/8465 [00:01<1:28:07,  1.60it/s]"
     ]
    },
    {
     "name": "stdout",
     "output_type": "stream",
     "text": [
      "Done.\n",
      "Lyrics grabbed for Forever - 2021 Remaster by Sweet Trip\n",
      "Searching for \"Acting - 2021 Remaster\" by Sweet Trip...\n"
     ]
    },
    {
     "name": "stderr",
     "output_type": "stream",
     "text": [
      "\r",
      "  0%|                                                                               | 4/8465 [00:02<1:29:07,  1.58it/s]"
     ]
    },
    {
     "name": "stdout",
     "output_type": "stream",
     "text": [
      "Done.\n",
      "Lyrics grabbed for Acting - 2021 Remaster by Sweet Trip\n",
      "Searching for \"Milk - 2021 Remaster\" by Sweet Trip...\n"
     ]
    },
    {
     "name": "stderr",
     "output_type": "stream",
     "text": [
      "\r",
      "  0%|                                                                               | 5/8465 [00:03<1:23:03,  1.70it/s]"
     ]
    },
    {
     "name": "stdout",
     "output_type": "stream",
     "text": [
      "Done.\n",
      "Lyrics grabbed for Milk - 2021 Remaster by Sweet Trip\n",
      "Searching for \"Darkness - 2021 Remaster\" by Sweet Trip...\n"
     ]
    },
    {
     "name": "stderr",
     "output_type": "stream",
     "text": [
      "\r",
      "  0%|                                                                               | 6/8465 [00:03<1:20:24,  1.75it/s]"
     ]
    },
    {
     "name": "stdout",
     "output_type": "stream",
     "text": [
      "Done.\n",
      "Lyrics grabbed for Darkness - 2021 Remaster by Sweet Trip\n",
      "Searching for \"To the Moon - 2021 Remaster\" by Sweet Trip...\n"
     ]
    },
    {
     "name": "stderr",
     "output_type": "stream",
     "text": [
      "\r",
      "  0%|                                                                               | 7/8465 [00:04<1:20:06,  1.76it/s]"
     ]
    },
    {
     "name": "stdout",
     "output_type": "stream",
     "text": [
      "Done.\n",
      "Lyrics grabbed for To the Moon - 2021 Remaster by Sweet Trip\n",
      "Searching for \"Song About a Sea - 2021 Remaster\" by Sweet Trip...\n"
     ]
    },
    {
     "name": "stderr",
     "output_type": "stream",
     "text": [
      "\r",
      "  0%|                                                                               | 8/8465 [00:04<1:21:55,  1.72it/s]"
     ]
    },
    {
     "name": "stdout",
     "output_type": "stream",
     "text": [
      "Done.\n",
      "Lyrics grabbed for Song About a Sea - 2021 Remaster by Sweet Trip\n",
      "Searching for \"Song About a Sun - 2021 Remaster\" by Sweet Trip...\n"
     ]
    },
    {
     "name": "stderr",
     "output_type": "stream",
     "text": [
      "\r",
      "  0%|                                                                               | 9/8465 [00:05<1:22:27,  1.71it/s]"
     ]
    },
    {
     "name": "stdout",
     "output_type": "stream",
     "text": [
      "Done.\n",
      "Lyrics grabbed for Song About a Sun - 2021 Remaster by Sweet Trip\n",
      "Searching for \"No Words to Be Found - 2021 Remaster\" by Sweet Trip...\n"
     ]
    },
    {
     "name": "stderr",
     "output_type": "stream",
     "text": [
      "\r",
      "  0%|                                                                              | 10/8465 [00:05<1:23:04,  1.70it/s]"
     ]
    },
    {
     "name": "stdout",
     "output_type": "stream",
     "text": [
      "Done.\n",
      "Lyrics grabbed for No Words to Be Found - 2021 Remaster by Sweet Trip\n",
      "Searching for \"Pretending - 2021 Remaster\" by Sweet Trip...\n"
     ]
    },
    {
     "name": "stderr",
     "output_type": "stream",
     "text": [
      "\r",
      "  0%|                                                                              | 11/8465 [00:06<1:24:54,  1.66it/s]"
     ]
    },
    {
     "name": "stdout",
     "output_type": "stream",
     "text": [
      "Done.\n",
      "Lyrics grabbed for Pretending - 2021 Remaster by Sweet Trip\n",
      "Searching for \"Misfortunes Are Cruel - 2021 Remaster\" by Sweet Trip...\n"
     ]
    },
    {
     "name": "stderr",
     "output_type": "stream",
     "text": [
      "\r",
      "  0%|                                                                              | 12/8465 [00:07<1:29:25,  1.58it/s]"
     ]
    },
    {
     "name": "stdout",
     "output_type": "stream",
     "text": [
      "Done.\n",
      "Lyrics grabbed for Misfortunes Are Cruel - 2021 Remaster by Sweet Trip\n",
      "Searching for \"Your World is Eternally Complete - 2021 Remaster\" by Sweet Trip...\n"
     ]
    },
    {
     "name": "stderr",
     "output_type": "stream",
     "text": [
      "\r",
      "  0%|                                                                              | 13/8465 [00:07<1:26:18,  1.63it/s]"
     ]
    },
    {
     "name": "stdout",
     "output_type": "stream",
     "text": [
      "Done.\n",
      "Lyrics grabbed for Your World is Eternally Complete - 2021 Remaster by Sweet Trip\n",
      "Searching for \"Female Lover - 2021 Remaster\" by Sweet Trip...\n"
     ]
    },
    {
     "name": "stderr",
     "output_type": "stream",
     "text": [
      "\r",
      "  0%|▏                                                                             | 14/8465 [00:08<1:30:01,  1.56it/s]"
     ]
    },
    {
     "name": "stdout",
     "output_type": "stream",
     "text": [
      "Done.\n",
      "Lyrics grabbed for Female Lover - 2021 Remaster by Sweet Trip\n",
      "Searching for \"Silence - 2021 Remaster\" by Sweet Trip...\n"
     ]
    },
    {
     "name": "stderr",
     "output_type": "stream",
     "text": [
      "\r",
      "  0%|▏                                                                             | 15/8465 [00:09<1:24:54,  1.66it/s]"
     ]
    },
    {
     "name": "stdout",
     "output_type": "stream",
     "text": [
      "Done.\n",
      "Lyrics grabbed for Silence - 2021 Remaster by Sweet Trip\n",
      "Searching for \"Where the Sunrise Dies, So Does the Echo of Your Voice - 2021 Remaster\" by Sweet Trip...\n"
     ]
    },
    {
     "name": "stderr",
     "output_type": "stream",
     "text": [
      "\r",
      "  0%|▏                                                                             | 16/8465 [00:09<1:09:53,  2.01it/s]"
     ]
    },
    {
     "name": "stdout",
     "output_type": "stream",
     "text": [
      "No results found for: 'Where the Sunrise Dies, So Does the Echo of Your Voice - 2021 Remaster Sweet Trip'\n",
      "Could not find Where the Sunrise Dies, So Does the Echo of Your Voice - 2021 Remaster by Sweet Trip\n",
      "Searching for \"Things to Ponder While Falling - 2021 Re-Record\" by Sweet Trip...\n"
     ]
    },
    {
     "name": "stderr",
     "output_type": "stream",
     "text": [
      "\r",
      "  0%|▏                                                                               | 17/8465 [00:09<58:56,  2.39it/s]"
     ]
    },
    {
     "name": "stdout",
     "output_type": "stream",
     "text": [
      "No results found for: 'Things to Ponder While Falling - 2021 Re-Record Sweet Trip'\n",
      "Could not find Things to Ponder While Falling - 2021 Re-Record by Sweet Trip\n",
      "Searching for \"Daughters of Darkness\" by Natural Snow Buildings...\n"
     ]
    },
    {
     "name": "stderr",
     "output_type": "stream",
     "text": [
      "\r",
      "  0%|▏                                                                               | 18/8465 [00:09<51:14,  2.75it/s]"
     ]
    },
    {
     "name": "stdout",
     "output_type": "stream",
     "text": [
      "Specified song does not contain lyrics. Rejecting.\n",
      "Could not find Daughters of Darkness by Natural Snow Buildings\n",
      "Searching for \"Satanic Demona, Pt. 1\" by Natural Snow Buildings...\n"
     ]
    },
    {
     "name": "stderr",
     "output_type": "stream",
     "text": [
      "\r",
      "  0%|▏                                                                               | 19/8465 [00:10<45:52,  3.07it/s]"
     ]
    },
    {
     "name": "stdout",
     "output_type": "stream",
     "text": [
      "Specified song does not contain lyrics. Rejecting.\n",
      "Could not find Satanic Demona, Pt. 1 by Natural Snow Buildings\n",
      "Searching for \"Satanic Demona, Pt. 2\" by Natural Snow Buildings...\n"
     ]
    },
    {
     "name": "stderr",
     "output_type": "stream",
     "text": [
      "\r",
      "  0%|▏                                                                               | 20/8465 [00:10<43:33,  3.23it/s]"
     ]
    },
    {
     "name": "stdout",
     "output_type": "stream",
     "text": [
      "Specified song does not contain lyrics. Rejecting.\n",
      "Could not find Satanic Demona, Pt. 2 by Natural Snow Buildings\n",
      "Searching for \"Curare\" by Natural Snow Buildings...\n"
     ]
    },
    {
     "name": "stderr",
     "output_type": "stream",
     "text": [
      "\r",
      "  0%|▏                                                                               | 21/8465 [00:10<40:27,  3.48it/s]"
     ]
    },
    {
     "name": "stdout",
     "output_type": "stream",
     "text": [
      "Specified song does not contain lyrics. Rejecting.\n",
      "Could not find Curare by Natural Snow Buildings\n",
      "Searching for \"Carnal Flowers\" by Natural Snow Buildings...\n"
     ]
    },
    {
     "name": "stderr",
     "output_type": "stream",
     "text": [
      "\r",
      "  0%|▏                                                                               | 22/8465 [00:10<38:17,  3.67it/s]"
     ]
    },
    {
     "name": "stdout",
     "output_type": "stream",
     "text": [
      "Specified song does not contain lyrics. Rejecting.\n",
      "Could not find Carnal Flowers by Natural Snow Buildings\n",
      "Searching for \"Her Face is Not Her Real Face\" by Natural Snow Buildings...\n"
     ]
    },
    {
     "name": "stderr",
     "output_type": "stream",
     "text": [
      "\r",
      "  0%|▏                                                                               | 23/8465 [00:11<37:26,  3.76it/s]"
     ]
    },
    {
     "name": "stdout",
     "output_type": "stream",
     "text": [
      "Specified song does not contain lyrics. Rejecting.\n",
      "Could not find Her Face is Not Her Real Face by Natural Snow Buildings\n",
      "Searching for \"Body Double\" by Natural Snow Buildings...\n"
     ]
    },
    {
     "name": "stderr",
     "output_type": "stream",
     "text": [
      "\r",
      "  0%|▏                                                                               | 24/8465 [00:11<36:17,  3.88it/s]"
     ]
    },
    {
     "name": "stdout",
     "output_type": "stream",
     "text": [
      "Specified song does not contain lyrics. Rejecting.\n",
      "Could not find Body Double by Natural Snow Buildings\n",
      "Searching for \"The Source\" by Natural Snow Buildings...\n"
     ]
    },
    {
     "name": "stderr",
     "output_type": "stream",
     "text": [
      "\r",
      "  0%|▏                                                                               | 25/8465 [00:11<35:20,  3.98it/s]"
     ]
    },
    {
     "name": "stdout",
     "output_type": "stream",
     "text": [
      "Specified song does not contain lyrics. Rejecting.\n",
      "Could not find The Source by Natural Snow Buildings\n",
      "Searching for \"Santa Sangre, Pt. 1\" by Natural Snow Buildings...\n"
     ]
    },
    {
     "name": "stderr",
     "output_type": "stream",
     "text": [
      "\r",
      "  0%|▏                                                                               | 26/8465 [00:11<35:24,  3.97it/s]"
     ]
    },
    {
     "name": "stdout",
     "output_type": "stream",
     "text": [
      "Specified song does not contain lyrics. Rejecting.\n",
      "Could not find Santa Sangre, Pt. 1 by Natural Snow Buildings\n",
      "Searching for \"Santa Sangre, Pt. 2\" by Natural Snow Buildings...\n"
     ]
    },
    {
     "name": "stderr",
     "output_type": "stream",
     "text": [
      "\r",
      "  0%|▎                                                                               | 27/8465 [00:12<34:34,  4.07it/s]"
     ]
    },
    {
     "name": "stdout",
     "output_type": "stream",
     "text": [
      "Specified song does not contain lyrics. Rejecting.\n",
      "Could not find Santa Sangre, Pt. 2 by Natural Snow Buildings\n",
      "Searching for \"A Thousand Demons Invocation\" by Natural Snow Buildings...\n"
     ]
    },
    {
     "name": "stderr",
     "output_type": "stream",
     "text": [
      "\r",
      "  0%|▎                                                                               | 28/8465 [00:12<34:10,  4.12it/s]"
     ]
    },
    {
     "name": "stdout",
     "output_type": "stream",
     "text": [
      "Specified song does not contain lyrics. Rejecting.\n",
      "Could not find A Thousand Demons Invocation by Natural Snow Buildings\n",
      "Searching for \"Slaves for the Afterlife\" by Natural Snow Buildings...\n"
     ]
    },
    {
     "name": "stderr",
     "output_type": "stream",
     "text": [
      "\r",
      "  0%|▎                                                                               | 29/8465 [00:12<34:37,  4.06it/s]"
     ]
    },
    {
     "name": "stdout",
     "output_type": "stream",
     "text": [
      "Specified song does not contain lyrics. Rejecting.\n",
      "Could not find Slaves for the Afterlife by Natural Snow Buildings\n",
      "Searching for \"Black Pastures\" by Natural Snow Buildings...\n"
     ]
    },
    {
     "name": "stderr",
     "output_type": "stream",
     "text": [
      "\r",
      "  0%|▎                                                                               | 30/8465 [00:12<35:04,  4.01it/s]"
     ]
    },
    {
     "name": "stdout",
     "output_type": "stream",
     "text": [
      "Specified song does not contain lyrics. Rejecting.\n",
      "Could not find Black Pastures by Natural Snow Buildings\n",
      "Searching for \"Will You Die for Me?\" by Natural Snow Buildings...\n"
     ]
    },
    {
     "name": "stderr",
     "output_type": "stream",
     "text": [
      "\r",
      "  0%|▎                                                                               | 31/8465 [00:13<34:59,  4.02it/s]"
     ]
    },
    {
     "name": "stdout",
     "output_type": "stream",
     "text": [
      "Specified song does not contain lyrics. Rejecting.\n",
      "Could not find Will You Die for Me? by Natural Snow Buildings\n",
      "Searching for \"Devil's Fork\" by Natural Snow Buildings...\n"
     ]
    },
    {
     "name": "stderr",
     "output_type": "stream",
     "text": [
      "\r",
      "  0%|▎                                                                               | 32/8465 [00:13<34:24,  4.09it/s]"
     ]
    },
    {
     "name": "stdout",
     "output_type": "stream",
     "text": [
      "Specified song does not contain lyrics. Rejecting.\n",
      "Could not find Devil's Fork by Natural Snow Buildings\n",
      "Searching for \"Blood in the Ground Linking Us All\" by Natural Snow Buildings...\n"
     ]
    },
    {
     "name": "stderr",
     "output_type": "stream",
     "text": [
      "\r",
      "  0%|▎                                                                               | 33/8465 [00:13<34:42,  4.05it/s]"
     ]
    },
    {
     "name": "stdout",
     "output_type": "stream",
     "text": [
      "Specified song does not contain lyrics. Rejecting.\n",
      "Could not find Blood in the Ground Linking Us All by Natural Snow Buildings\n",
      "Searching for \"The Invisibles\" by Natural Snow Buildings...\n"
     ]
    },
    {
     "name": "stderr",
     "output_type": "stream",
     "text": [
      "\r",
      "  0%|▎                                                                               | 34/8465 [00:13<34:20,  4.09it/s]"
     ]
    },
    {
     "name": "stdout",
     "output_type": "stream",
     "text": [
      "Specified song does not contain lyrics. Rejecting.\n",
      "Could not find The Invisibles by Natural Snow Buildings\n",
      "Searching for \"Psychic Navigation\" by Natural Snow Buildings...\n"
     ]
    },
    {
     "name": "stderr",
     "output_type": "stream",
     "text": [
      "\r",
      "  0%|▎                                                                               | 35/8465 [00:14<35:20,  3.98it/s]"
     ]
    },
    {
     "name": "stdout",
     "output_type": "stream",
     "text": [
      "Specified song does not contain lyrics. Rejecting.\n",
      "Could not find Psychic Navigation by Natural Snow Buildings\n",
      "Searching for \"Oblivion\" by Mastodon...\n"
     ]
    },
    {
     "name": "stderr",
     "output_type": "stream",
     "text": [
      "\r",
      "  0%|▎                                                                               | 36/8465 [00:14<50:18,  2.79it/s]"
     ]
    },
    {
     "name": "stdout",
     "output_type": "stream",
     "text": [
      "Done.\n",
      "Lyrics grabbed for Oblivion by Mastodon\n",
      "Searching for \"Divinations\" by Mastodon...\n"
     ]
    },
    {
     "name": "stderr",
     "output_type": "stream",
     "text": [
      "\r",
      "  0%|▎                                                                             | 37/8465 [00:15<1:02:45,  2.24it/s]"
     ]
    },
    {
     "name": "stdout",
     "output_type": "stream",
     "text": [
      "Done.\n",
      "Lyrics grabbed for Divinations by Mastodon\n",
      "Searching for \"Quintessence\" by Mastodon...\n"
     ]
    },
    {
     "name": "stderr",
     "output_type": "stream",
     "text": [
      "\r",
      "  0%|▎                                                                             | 38/8465 [00:15<1:08:33,  2.05it/s]"
     ]
    },
    {
     "name": "stdout",
     "output_type": "stream",
     "text": [
      "Done.\n",
      "Lyrics grabbed for Quintessence by Mastodon\n",
      "Searching for \"The Czar: Usurper / Escape / Martyr / Spiral\" by Mastodon...\n"
     ]
    },
    {
     "name": "stderr",
     "output_type": "stream",
     "text": [
      "\r",
      "  0%|▎                                                                               | 39/8465 [00:16<59:36,  2.36it/s]"
     ]
    },
    {
     "name": "stdout",
     "output_type": "stream",
     "text": [
      "Specified song does not contain lyrics. Rejecting.\n",
      "Could not find The Czar: Usurper / Escape / Martyr / Spiral by Mastodon\n",
      "Searching for \"Ghost of Karelia\" by Mastodon...\n"
     ]
    },
    {
     "name": "stderr",
     "output_type": "stream",
     "text": [
      "\r",
      "  0%|▎                                                                             | 40/8465 [00:16<1:07:31,  2.08it/s]"
     ]
    },
    {
     "name": "stdout",
     "output_type": "stream",
     "text": [
      "Done.\n",
      "Lyrics grabbed for Ghost of Karelia by Mastodon\n",
      "Searching for \"Crack the Skye\" by Mastodon...\n"
     ]
    },
    {
     "name": "stderr",
     "output_type": "stream",
     "text": [
      "\r",
      "  0%|▍                                                                             | 41/8465 [00:17<1:12:56,  1.92it/s]"
     ]
    },
    {
     "name": "stdout",
     "output_type": "stream",
     "text": [
      "Done.\n",
      "Lyrics grabbed for Crack the Skye by Mastodon\n",
      "Searching for \"The Last Baron\" by Mastodon...\n"
     ]
    },
    {
     "name": "stderr",
     "output_type": "stream",
     "text": [
      "\r",
      "  0%|▍                                                                             | 42/8465 [00:17<1:16:25,  1.84it/s]"
     ]
    },
    {
     "name": "stdout",
     "output_type": "stream",
     "text": [
      "Done.\n",
      "Lyrics grabbed for The Last Baron by Mastodon\n",
      "Searching for \"In The Flowers\" by Animal Collective...\n"
     ]
    },
    {
     "name": "stderr",
     "output_type": "stream",
     "text": [
      "\r",
      "  1%|▍                                                                             | 43/8465 [00:18<1:20:30,  1.74it/s]"
     ]
    },
    {
     "name": "stdout",
     "output_type": "stream",
     "text": [
      "Done.\n",
      "Lyrics grabbed for In The Flowers by Animal Collective\n",
      "Searching for \"My Girls\" by Animal Collective...\n"
     ]
    },
    {
     "name": "stderr",
     "output_type": "stream",
     "text": [
      "\r",
      "  1%|▍                                                                             | 44/8465 [00:19<1:23:27,  1.68it/s]"
     ]
    },
    {
     "name": "stdout",
     "output_type": "stream",
     "text": [
      "Done.\n",
      "Lyrics grabbed for My Girls by Animal Collective\n",
      "Searching for \"Also Frightened\" by Animal Collective...\n"
     ]
    },
    {
     "name": "stderr",
     "output_type": "stream",
     "text": [
      "\r",
      "  1%|▍                                                                             | 45/8465 [00:19<1:23:41,  1.68it/s]"
     ]
    },
    {
     "name": "stdout",
     "output_type": "stream",
     "text": [
      "Done.\n",
      "Lyrics grabbed for Also Frightened by Animal Collective\n",
      "Searching for \"Summertime Clothes\" by Animal Collective...\n"
     ]
    },
    {
     "name": "stderr",
     "output_type": "stream",
     "text": [
      "\r",
      "  1%|▍                                                                             | 46/8465 [00:20<1:24:46,  1.66it/s]"
     ]
    },
    {
     "name": "stdout",
     "output_type": "stream",
     "text": [
      "Done.\n",
      "Lyrics grabbed for Summertime Clothes by Animal Collective\n",
      "Searching for \"Daily Routine\" by Animal Collective...\n"
     ]
    },
    {
     "name": "stderr",
     "output_type": "stream",
     "text": [
      "\r",
      "  1%|▍                                                                             | 47/8465 [00:21<1:25:04,  1.65it/s]"
     ]
    },
    {
     "name": "stdout",
     "output_type": "stream",
     "text": [
      "Done.\n",
      "Lyrics grabbed for Daily Routine by Animal Collective\n",
      "Searching for \"Bluish\" by Animal Collective...\n"
     ]
    },
    {
     "name": "stderr",
     "output_type": "stream",
     "text": [
      "\r",
      "  1%|▍                                                                             | 48/8465 [00:21<1:24:15,  1.66it/s]"
     ]
    },
    {
     "name": "stdout",
     "output_type": "stream",
     "text": [
      "Done.\n",
      "Lyrics grabbed for Bluish by Animal Collective\n",
      "Searching for \"Guys Eyes\" by Animal Collective...\n"
     ]
    },
    {
     "name": "stderr",
     "output_type": "stream",
     "text": [
      "\r",
      "  1%|▍                                                                             | 49/8465 [00:22<1:23:43,  1.68it/s]"
     ]
    },
    {
     "name": "stdout",
     "output_type": "stream",
     "text": [
      "Done.\n",
      "Lyrics grabbed for Guys Eyes by Animal Collective\n",
      "Searching for \"Taste\" by Animal Collective...\n"
     ]
    },
    {
     "name": "stderr",
     "output_type": "stream",
     "text": [
      "\r",
      "  1%|▍                                                                             | 50/8465 [00:22<1:24:19,  1.66it/s]"
     ]
    },
    {
     "name": "stdout",
     "output_type": "stream",
     "text": [
      "Done.\n",
      "Lyrics grabbed for Taste by Animal Collective\n",
      "Searching for \"Lion In A Coma\" by Animal Collective...\n"
     ]
    },
    {
     "name": "stderr",
     "output_type": "stream",
     "text": [
      "\r",
      "  1%|▍                                                                             | 51/8465 [00:23<1:25:15,  1.64it/s]"
     ]
    },
    {
     "name": "stdout",
     "output_type": "stream",
     "text": [
      "Done.\n",
      "Lyrics grabbed for Lion In A Coma by Animal Collective\n",
      "Searching for \"No More Runnin\" by Animal Collective...\n"
     ]
    },
    {
     "name": "stderr",
     "output_type": "stream",
     "text": [
      "\r",
      "  1%|▍                                                                             | 52/8465 [00:24<1:25:24,  1.64it/s]"
     ]
    },
    {
     "name": "stdout",
     "output_type": "stream",
     "text": [
      "Done.\n",
      "Lyrics grabbed for No More Runnin by Animal Collective\n",
      "Searching for \"Brother Sport\" by Animal Collective...\n"
     ]
    },
    {
     "name": "stderr",
     "output_type": "stream",
     "text": [
      "\r",
      "  1%|▍                                                                             | 53/8465 [00:24<1:25:32,  1.64it/s]"
     ]
    },
    {
     "name": "stdout",
     "output_type": "stream",
     "text": [
      "Done.\n",
      "Lyrics grabbed for Brother Sport by Animal Collective\n",
      "Searching for \"Black Future\" by Vektor...\n"
     ]
    },
    {
     "name": "stderr",
     "output_type": "stream",
     "text": [
      "\r",
      "  1%|▍                                                                             | 54/8465 [00:25<1:26:06,  1.63it/s]"
     ]
    },
    {
     "name": "stdout",
     "output_type": "stream",
     "text": [
      "Done.\n",
      "Lyrics grabbed for Black Future by Vektor\n",
      "Searching for \"Oblivion\" by Vektor...\n"
     ]
    },
    {
     "name": "stderr",
     "output_type": "stream",
     "text": [
      "\r",
      "  1%|▌                                                                             | 55/8465 [00:25<1:24:18,  1.66it/s]"
     ]
    },
    {
     "name": "stdout",
     "output_type": "stream",
     "text": [
      "Done.\n",
      "Lyrics grabbed for Oblivion by Vektor\n",
      "Searching for \"Destroying the Cosmos\" by Vektor...\n"
     ]
    },
    {
     "name": "stderr",
     "output_type": "stream",
     "text": [
      "\r",
      "  1%|▌                                                                             | 56/8465 [00:26<1:23:40,  1.67it/s]"
     ]
    },
    {
     "name": "stdout",
     "output_type": "stream",
     "text": [
      "Done.\n",
      "Lyrics grabbed for Destroying the Cosmos by Vektor\n",
      "Searching for \"Forests of Legend\" by Vektor...\n"
     ]
    },
    {
     "name": "stderr",
     "output_type": "stream",
     "text": [
      "\r",
      "  1%|▌                                                                             | 57/8465 [00:27<1:24:15,  1.66it/s]"
     ]
    },
    {
     "name": "stdout",
     "output_type": "stream",
     "text": [
      "Done.\n",
      "Lyrics grabbed for Forests of Legend by Vektor\n",
      "Searching for \"Hunger for Violence\" by Vektor...\n"
     ]
    },
    {
     "name": "stderr",
     "output_type": "stream",
     "text": [
      "\r",
      "  1%|▌                                                                             | 58/8465 [00:27<1:24:33,  1.66it/s]"
     ]
    },
    {
     "name": "stdout",
     "output_type": "stream",
     "text": [
      "Done.\n",
      "Lyrics grabbed for Hunger for Violence by Vektor\n",
      "Searching for \"Deoxyribonucleic Acid\" by Vektor...\n"
     ]
    },
    {
     "name": "stderr",
     "output_type": "stream",
     "text": [
      "\r",
      "  1%|▌                                                                             | 59/8465 [00:28<1:25:28,  1.64it/s]"
     ]
    },
    {
     "name": "stdout",
     "output_type": "stream",
     "text": [
      "Done.\n",
      "Lyrics grabbed for Deoxyribonucleic Acid by Vektor\n",
      "Searching for \"Asteroid\" by Vektor...\n"
     ]
    },
    {
     "name": "stderr",
     "output_type": "stream",
     "text": [
      "\r",
      "  1%|▌                                                                             | 60/8465 [00:28<1:26:30,  1.62it/s]"
     ]
    },
    {
     "name": "stdout",
     "output_type": "stream",
     "text": [
      "Done.\n",
      "Lyrics grabbed for Asteroid by Vektor\n",
      "Searching for \"Dark Nebula\" by Vektor...\n"
     ]
    },
    {
     "name": "stderr",
     "output_type": "stream",
     "text": [
      "\r",
      "  1%|▌                                                                             | 61/8465 [00:29<1:26:40,  1.62it/s]"
     ]
    },
    {
     "name": "stdout",
     "output_type": "stream",
     "text": [
      "Done.\n",
      "Lyrics grabbed for Dark Nebula by Vektor\n",
      "Searching for \"Accelerating Universe\" by Vektor...\n"
     ]
    },
    {
     "name": "stderr",
     "output_type": "stream",
     "text": [
      "\r",
      "  1%|▌                                                                             | 62/8465 [00:30<1:26:37,  1.62it/s]"
     ]
    },
    {
     "name": "stdout",
     "output_type": "stream",
     "text": [
      "Done.\n",
      "Lyrics grabbed for Accelerating Universe by Vektor\n",
      "Searching for \"Dark Horse\" by Converge...\n"
     ]
    },
    {
     "name": "stderr",
     "output_type": "stream",
     "text": [
      "\r",
      "  1%|▌                                                                             | 63/8465 [00:30<1:30:42,  1.54it/s]"
     ]
    },
    {
     "name": "stdout",
     "output_type": "stream",
     "text": [
      "Done.\n",
      "Lyrics grabbed for Dark Horse by Converge\n",
      "Searching for \"Reap What You Sow\" by Converge...\n"
     ]
    },
    {
     "name": "stderr",
     "output_type": "stream",
     "text": [
      "\r",
      "  1%|▌                                                                             | 64/8465 [00:31<1:28:48,  1.58it/s]"
     ]
    },
    {
     "name": "stdout",
     "output_type": "stream",
     "text": [
      "Done.\n",
      "Lyrics grabbed for Reap What You Sow by Converge\n",
      "Searching for \"Axe To Fall\" by Converge...\n"
     ]
    },
    {
     "name": "stderr",
     "output_type": "stream",
     "text": [
      "\r",
      "  1%|▌                                                                             | 65/8465 [00:32<1:27:10,  1.61it/s]"
     ]
    },
    {
     "name": "stdout",
     "output_type": "stream",
     "text": [
      "Done.\n",
      "Lyrics grabbed for Axe To Fall by Converge\n",
      "Searching for \"Effigy\" by Converge...\n"
     ]
    },
    {
     "name": "stderr",
     "output_type": "stream",
     "text": [
      "\r",
      "  1%|▌                                                                             | 66/8465 [00:32<1:28:26,  1.58it/s]"
     ]
    },
    {
     "name": "stdout",
     "output_type": "stream",
     "text": [
      "Done.\n",
      "Lyrics grabbed for Effigy by Converge\n",
      "Searching for \"Worms Will Feed / Rats Will Feast\" by Converge...\n"
     ]
    },
    {
     "name": "stderr",
     "output_type": "stream",
     "text": [
      "\r",
      "  1%|▌                                                                             | 67/8465 [00:33<1:28:00,  1.59it/s]"
     ]
    },
    {
     "name": "stdout",
     "output_type": "stream",
     "text": [
      "Done.\n",
      "Lyrics grabbed for Worms Will Feed / Rats Will Feast by Converge\n",
      "Searching for \"Wishing Well\" by Converge...\n"
     ]
    },
    {
     "name": "stderr",
     "output_type": "stream",
     "text": [
      "\r",
      "  1%|▋                                                                             | 68/8465 [00:34<1:28:33,  1.58it/s]"
     ]
    },
    {
     "name": "stdout",
     "output_type": "stream",
     "text": [
      "Done.\n",
      "Lyrics grabbed for Wishing Well by Converge\n",
      "Searching for \"Damages\" by Converge...\n"
     ]
    },
    {
     "name": "stderr",
     "output_type": "stream",
     "text": [
      "\r",
      "  1%|▋                                                                             | 69/8465 [00:34<1:27:32,  1.60it/s]"
     ]
    },
    {
     "name": "stdout",
     "output_type": "stream",
     "text": [
      "Done.\n",
      "Lyrics grabbed for Damages by Converge\n",
      "Searching for \"Losing Battle\" by Converge...\n"
     ]
    },
    {
     "name": "stderr",
     "output_type": "stream",
     "text": [
      "\r",
      "  1%|▋                                                                             | 70/8465 [00:35<1:29:48,  1.56it/s]"
     ]
    },
    {
     "name": "stdout",
     "output_type": "stream",
     "text": [
      "Done.\n",
      "Lyrics grabbed for Losing Battle by Converge\n",
      "Searching for \"Dead Beat\" by Converge...\n"
     ]
    },
    {
     "name": "stderr",
     "output_type": "stream",
     "text": [
      "\r",
      "  1%|▋                                                                             | 71/8465 [00:35<1:29:03,  1.57it/s]"
     ]
    },
    {
     "name": "stdout",
     "output_type": "stream",
     "text": [
      "Done.\n",
      "Lyrics grabbed for Dead Beat by Converge\n",
      "Searching for \"Cutter\" by Converge...\n"
     ]
    },
    {
     "name": "stderr",
     "output_type": "stream",
     "text": [
      "\r",
      "  1%|▋                                                                             | 72/8465 [00:36<1:29:08,  1.57it/s]"
     ]
    },
    {
     "name": "stdout",
     "output_type": "stream",
     "text": [
      "Done.\n",
      "Lyrics grabbed for Cutter by Converge\n",
      "Searching for \"Slave Driver\" by Converge...\n"
     ]
    },
    {
     "name": "stderr",
     "output_type": "stream",
     "text": [
      "\r",
      "  1%|▋                                                                             | 73/8465 [00:37<1:27:55,  1.59it/s]"
     ]
    },
    {
     "name": "stdout",
     "output_type": "stream",
     "text": [
      "Done.\n",
      "Lyrics grabbed for Slave Driver by Converge\n",
      "Searching for \"Cruel Bloom\" by Converge...\n"
     ]
    },
    {
     "name": "stderr",
     "output_type": "stream",
     "text": [
      "\r",
      "  1%|▋                                                                             | 74/8465 [00:37<1:28:19,  1.58it/s]"
     ]
    },
    {
     "name": "stdout",
     "output_type": "stream",
     "text": [
      "Done.\n",
      "Lyrics grabbed for Cruel Bloom by Converge\n",
      "Searching for \"Wretched World\" by Converge...\n"
     ]
    },
    {
     "name": "stderr",
     "output_type": "stream",
     "text": [
      "\r",
      "  1%|▋                                                                             | 75/8465 [00:38<1:26:47,  1.61it/s]"
     ]
    },
    {
     "name": "stdout",
     "output_type": "stream",
     "text": [
      "Done.\n",
      "Lyrics grabbed for Wretched World by Converge\n",
      "Searching for \"Drown Within\" by Ulcerate...\n"
     ]
    },
    {
     "name": "stderr",
     "output_type": "stream",
     "text": [
      "\r",
      "  1%|▋                                                                             | 76/8465 [00:39<1:26:06,  1.62it/s]"
     ]
    },
    {
     "name": "stdout",
     "output_type": "stream",
     "text": [
      "Done.\n",
      "Lyrics grabbed for Drown Within by Ulcerate\n",
      "Searching for \"We Are Nil\" by Ulcerate...\n"
     ]
    },
    {
     "name": "stderr",
     "output_type": "stream",
     "text": [
      "\r",
      "  1%|▋                                                                             | 77/8465 [00:39<1:24:55,  1.65it/s]"
     ]
    },
    {
     "name": "stdout",
     "output_type": "stream",
     "text": [
      "Done.\n",
      "Lyrics grabbed for We Are Nil by Ulcerate\n",
      "Searching for \"Withered And Obsolete\" by Ulcerate...\n"
     ]
    },
    {
     "name": "stderr",
     "output_type": "stream",
     "text": [
      "\r",
      "  1%|▋                                                                             | 78/8465 [00:40<1:25:56,  1.63it/s]"
     ]
    },
    {
     "name": "stdout",
     "output_type": "stream",
     "text": [
      "Done.\n",
      "Lyrics grabbed for Withered And Obsolete by Ulcerate\n",
      "Searching for \"Caecus\" by Ulcerate...\n"
     ]
    },
    {
     "name": "stderr",
     "output_type": "stream",
     "text": [
      "\r",
      "  1%|▋                                                                             | 79/8465 [00:40<1:25:55,  1.63it/s]"
     ]
    },
    {
     "name": "stdout",
     "output_type": "stream",
     "text": [
      "Done.\n",
      "Lyrics grabbed for Caecus by Ulcerate\n",
      "Searching for \"Tyranny\" by Ulcerate...\n"
     ]
    },
    {
     "name": "stderr",
     "output_type": "stream",
     "text": [
      "\r",
      "  1%|▋                                                                             | 80/8465 [00:41<1:25:56,  1.63it/s]"
     ]
    },
    {
     "name": "stdout",
     "output_type": "stream",
     "text": [
      "Done.\n",
      "Lyrics grabbed for Tyranny by Ulcerate\n",
      "Searching for \"The Earth At Its Knees\" by Ulcerate...\n"
     ]
    },
    {
     "name": "stderr",
     "output_type": "stream",
     "text": [
      "\r",
      "  1%|▋                                                                             | 81/8465 [00:42<1:25:29,  1.63it/s]"
     ]
    },
    {
     "name": "stdout",
     "output_type": "stream",
     "text": [
      "Done.\n",
      "Lyrics grabbed for The Earth At Its Knees by Ulcerate\n",
      "Searching for \"Soullessness Embraced\" by Ulcerate...\n"
     ]
    },
    {
     "name": "stderr",
     "output_type": "stream",
     "text": [
      "\r",
      "  1%|▊                                                                             | 82/8465 [00:42<1:25:11,  1.64it/s]"
     ]
    },
    {
     "name": "stdout",
     "output_type": "stream",
     "text": [
      "Done.\n",
      "Lyrics grabbed for Soullessness Embraced by Ulcerate\n",
      "Searching for \"Everything Is Fire\" by Ulcerate...\n"
     ]
    },
    {
     "name": "stderr",
     "output_type": "stream",
     "text": [
      "\r",
      "  1%|▊                                                                             | 83/8465 [00:43<1:25:45,  1.63it/s]"
     ]
    },
    {
     "name": "stdout",
     "output_type": "stream",
     "text": [
      "Done.\n",
      "Lyrics grabbed for Everything Is Fire by Ulcerate\n",
      "Searching for \"Boiled Angel\" by Dragged Into Sunlight...\n"
     ]
    },
    {
     "name": "stderr",
     "output_type": "stream",
     "text": [
      "\r",
      "  1%|▊                                                                             | 84/8465 [00:44<1:28:48,  1.57it/s]"
     ]
    },
    {
     "name": "stdout",
     "output_type": "stream",
     "text": [
      "Done.\n",
      "Lyrics grabbed for Boiled Angel by Dragged Into Sunlight\n",
      "Searching for \"Buried With Leeches\" by Dragged Into Sunlight...\n"
     ]
    },
    {
     "name": "stderr",
     "output_type": "stream",
     "text": [
      "\r",
      "  1%|▊                                                                             | 85/8465 [00:44<1:27:28,  1.60it/s]"
     ]
    },
    {
     "name": "stdout",
     "output_type": "stream",
     "text": [
      "Done.\n",
      "Lyrics grabbed for Buried With Leeches by Dragged Into Sunlight\n",
      "Searching for \"Volcanic Birth\" by Dragged Into Sunlight...\n"
     ]
    },
    {
     "name": "stderr",
     "output_type": "stream",
     "text": [
      "\r",
      "  1%|▊                                                                             | 86/8465 [00:45<1:27:14,  1.60it/s]"
     ]
    },
    {
     "name": "stdout",
     "output_type": "stream",
     "text": [
      "Done.\n",
      "Lyrics grabbed for Volcanic Birth by Dragged Into Sunlight\n",
      "Searching for \"To Hieron\" by Dragged Into Sunlight...\n"
     ]
    },
    {
     "name": "stderr",
     "output_type": "stream",
     "text": [
      "\r",
      "  1%|▊                                                                             | 87/8465 [00:45<1:25:45,  1.63it/s]"
     ]
    },
    {
     "name": "stdout",
     "output_type": "stream",
     "text": [
      "Done.\n",
      "Lyrics grabbed for To Hieron by Dragged Into Sunlight\n",
      "Searching for \"Lashed to the Grinder and Stoned to Death\" by Dragged Into Sunlight...\n"
     ]
    },
    {
     "name": "stderr",
     "output_type": "stream",
     "text": [
      "\r",
      "  1%|▊                                                                             | 88/8465 [00:46<1:24:54,  1.64it/s]"
     ]
    },
    {
     "name": "stdout",
     "output_type": "stream",
     "text": [
      "Done.\n",
      "Lyrics grabbed for Lashed to the Grinder and Stoned to Death by Dragged Into Sunlight\n",
      "Searching for \"I, Aurora\" by Dragged Into Sunlight...\n"
     ]
    },
    {
     "name": "stderr",
     "output_type": "stream",
     "text": [
      "\r",
      "  1%|▊                                                                             | 89/8465 [00:47<1:24:17,  1.66it/s]"
     ]
    },
    {
     "name": "stdout",
     "output_type": "stream",
     "text": [
      "Done.\n",
      "Lyrics grabbed for I, Aurora by Dragged Into Sunlight\n",
      "Searching for \"Totem of Skulls\" by Dragged Into Sunlight...\n"
     ]
    },
    {
     "name": "stderr",
     "output_type": "stream",
     "text": [
      "\r",
      "  1%|▊                                                                             | 90/8465 [00:47<1:11:37,  1.95it/s]"
     ]
    },
    {
     "name": "stdout",
     "output_type": "stream",
     "text": [
      "Specified song does not contain lyrics. Rejecting.\n",
      "Could not find Totem of Skulls by Dragged Into Sunlight\n",
      "Searching for \"ハカイヨノユメ\" by Ling Tosite Sigure 凛として時雨...\n"
     ]
    },
    {
     "name": "stderr",
     "output_type": "stream",
     "text": [
      "\r",
      "  1%|▊                                                                             | 91/8465 [00:47<1:15:36,  1.85it/s]"
     ]
    },
    {
     "name": "stdout",
     "output_type": "stream",
     "text": [
      "Done.\n",
      "Lyrics grabbed for ハカイヨノユメ by Ling Tosite Sigure 凛として時雨\n",
      "Searching for \"Hysteric phase show\" by Ling Tosite Sigure 凛として時雨...\n"
     ]
    },
    {
     "name": "stderr",
     "output_type": "stream",
     "text": [
      "\r",
      "  1%|▊                                                                             | 92/8465 [00:48<1:17:35,  1.80it/s]"
     ]
    },
    {
     "name": "stdout",
     "output_type": "stream",
     "text": [
      "Done.\n",
      "Lyrics grabbed for Hysteric phase show by Ling Tosite Sigure 凛として時雨\n",
      "Searching for \"Tremolo+A\" by Ling Tosite Sigure 凛として時雨...\n"
     ]
    },
    {
     "name": "stderr",
     "output_type": "stream",
     "text": [
      "\r",
      "  1%|▊                                                                             | 93/8465 [00:49<1:22:11,  1.70it/s]"
     ]
    },
    {
     "name": "stdout",
     "output_type": "stream",
     "text": [
      "Done.\n",
      "Lyrics grabbed for Tremolo+A by Ling Tosite Sigure 凛として時雨\n",
      "Searching for \"JPOP Xfile\" by Ling Tosite Sigure 凛として時雨...\n"
     ]
    },
    {
     "name": "stderr",
     "output_type": "stream",
     "text": [
      "\r",
      "  1%|▊                                                                             | 94/8465 [00:49<1:23:06,  1.68it/s]"
     ]
    },
    {
     "name": "stdout",
     "output_type": "stream",
     "text": [
      "Done.\n",
      "Lyrics grabbed for JPOP Xfile by Ling Tosite Sigure 凛として時雨\n",
      "Searching for \"a 7days wonder\" by Ling Tosite Sigure 凛として時雨...\n"
     ]
    },
    {
     "name": "stderr",
     "output_type": "stream",
     "text": [
      "\r",
      "  1%|▉                                                                             | 95/8465 [00:50<1:23:28,  1.67it/s]"
     ]
    },
    {
     "name": "stdout",
     "output_type": "stream",
     "text": [
      "Done.\n",
      "Lyrics grabbed for a 7days wonder by Ling Tosite Sigure 凛として時雨\n",
      "Searching for \"a over die\" by Ling Tosite Sigure 凛として時雨...\n"
     ]
    },
    {
     "name": "stderr",
     "output_type": "stream",
     "text": [
      "\r",
      "  1%|▉                                                                             | 96/8465 [00:50<1:22:23,  1.69it/s]"
     ]
    },
    {
     "name": "stdout",
     "output_type": "stream",
     "text": [
      "Done.\n",
      "Lyrics grabbed for a over die by Ling Tosite Sigure 凛として時雨\n",
      "Searching for \"Telecastic fake show\" by Ling Tosite Sigure 凛として時雨...\n"
     ]
    },
    {
     "name": "stderr",
     "output_type": "stream",
     "text": [
      "\r",
      "  1%|▉                                                                             | 97/8465 [00:51<1:23:47,  1.66it/s]"
     ]
    },
    {
     "name": "stdout",
     "output_type": "stream",
     "text": [
      "Done.\n",
      "Lyrics grabbed for Telecastic fake show by Ling Tosite Sigure 凛として時雨\n",
      "Searching for \"seacret cm\" by Ling Tosite Sigure 凛として時雨...\n"
     ]
    },
    {
     "name": "stderr",
     "output_type": "stream",
     "text": [
      "\r",
      "  1%|▉                                                                             | 98/8465 [00:52<1:25:17,  1.63it/s]"
     ]
    },
    {
     "name": "stdout",
     "output_type": "stream",
     "text": [
      "Done.\n",
      "Lyrics grabbed for seacret cm by Ling Tosite Sigure 凛として時雨\n",
      "Searching for \"moment A rhythm (short ver. / remastered at METROPOLIS)\" by Ling Tosite Sigure 凛として時雨...\n"
     ]
    },
    {
     "name": "stderr",
     "output_type": "stream",
     "text": [
      "\r",
      "  1%|▉                                                                             | 99/8465 [00:52<1:10:48,  1.97it/s]"
     ]
    },
    {
     "name": "stdout",
     "output_type": "stream",
     "text": [
      "No results found for: 'moment A rhythm (short ver. / remastered at METROPOLIS) Ling Tosite Sigure 凛として時雨'\n",
      "Could not find moment A rhythm (short ver. / remastered at METROPOLIS) by Ling Tosite Sigure 凛として時雨\n",
      "Searching for \"mib126\" by Ling Tosite Sigure 凛として時雨...\n"
     ]
    },
    {
     "name": "stderr",
     "output_type": "stream",
     "text": [
      "\r",
      "  1%|▉                                                                            | 100/8465 [00:53<1:16:51,  1.81it/s]"
     ]
    },
    {
     "name": "stdout",
     "output_type": "stream",
     "text": [
      "Done.\n",
      "Lyrics grabbed for mib126 by Ling Tosite Sigure 凛として時雨\n",
      "Searching for \"ここには何もかもがあるし、何もかもがない\" by toe...\n"
     ]
    },
    {
     "name": "stderr",
     "output_type": "stream",
     "text": [
      "\r",
      "  1%|▉                                                                            | 101/8465 [00:53<1:05:38,  2.12it/s]"
     ]
    },
    {
     "name": "stdout",
     "output_type": "stream",
     "text": [
      "No results found for: 'ここには何もかもがあるし、何もかもがない toe'\n",
      "Could not find ここには何もかもがあるし、何もかもがない by toe\n",
      "Searching for \"ショウシツ点よ笛\" by toe...\n"
     ]
    },
    {
     "name": "stderr",
     "output_type": "stream",
     "text": [
      "\r",
      "  1%|▉                                                                              | 102/8465 [00:53<59:38,  2.34it/s]"
     ]
    },
    {
     "name": "stdout",
     "output_type": "stream",
     "text": [
      "Specified song does not contain lyrics. Rejecting.\n",
      "Could not find ショウシツ点よ笛 by toe\n",
      "Searching for \"after image\" by toe...\n"
     ]
    },
    {
     "name": "stderr",
     "output_type": "stream",
     "text": [
      "\r",
      "  1%|▉                                                                            | 103/8465 [00:54<1:07:06,  2.08it/s]"
     ]
    },
    {
     "name": "stdout",
     "output_type": "stream",
     "text": [
      "Done.\n",
      "Lyrics grabbed for after image by toe\n",
      "Searching for \"エソテリック\" by toe...\n"
     ]
    },
    {
     "name": "stderr",
     "output_type": "stream",
     "text": [
      "\r",
      "  1%|▉                                                                              | 104/8465 [00:54<58:34,  2.38it/s]"
     ]
    },
    {
     "name": "stdout",
     "output_type": "stream",
     "text": [
      "Specified song does not contain lyrics. Rejecting.\n",
      "Could not find エソテリック by toe\n",
      "Searching for \"say it ain't so\" by toe...\n"
     ]
    },
    {
     "name": "stderr",
     "output_type": "stream",
     "text": [
      "\r",
      "  1%|▉                                                                            | 105/8465 [00:55<1:06:06,  2.11it/s]"
     ]
    },
    {
     "name": "stdout",
     "output_type": "stream",
     "text": [
      "Done.\n",
      "Lyrics grabbed for say it ain't so by toe\n",
      "Searching for \"two moons\" by toe...\n"
     ]
    },
    {
     "name": "stderr",
     "output_type": "stream",
     "text": [
      "\r",
      "  1%|▉                                                                              | 106/8465 [00:55<57:39,  2.42it/s]"
     ]
    },
    {
     "name": "stdout",
     "output_type": "stream",
     "text": [
      "Specified song does not contain lyrics. Rejecting.\n",
      "Could not find two moons by toe\n",
      "Searching for \"モスキートンはもう聞こえない#1\" by toe...\n"
     ]
    },
    {
     "name": "stderr",
     "output_type": "stream",
     "text": [
      "\r",
      "  1%|▉                                                                              | 107/8465 [00:55<51:56,  2.68it/s]"
     ]
    },
    {
     "name": "stdout",
     "output_type": "stream",
     "text": [
      "Specified song does not contain lyrics. Rejecting.\n",
      "Could not find モスキートンはもう聞こえない#1 by toe\n",
      "Searching for \"モスキートンはもう聞こえない#2\" by toe...\n"
     ]
    },
    {
     "name": "stderr",
     "output_type": "stream",
     "text": [
      "\r",
      "  1%|█                                                                              | 108/8465 [00:56<48:06,  2.90it/s]"
     ]
    },
    {
     "name": "stdout",
     "output_type": "stream",
     "text": [
      "Specified song does not contain lyrics. Rejecting.\n",
      "Could not find モスキートンはもう聞こえない#2 by toe\n",
      "Searching for \"ラストナイト -album version-\" by toe...\n"
     ]
    },
    {
     "name": "stderr",
     "output_type": "stream",
     "text": [
      "\r",
      "  1%|█                                                                              | 109/8465 [00:56<45:59,  3.03it/s]"
     ]
    },
    {
     "name": "stdout",
     "output_type": "stream",
     "text": [
      "No results found for: 'ラストナイト -album version- toe'\n",
      "Could not find ラストナイト -album version- by toe\n",
      "Searching for \"グッドバイ -album version-\" by toe...\n"
     ]
    },
    {
     "name": "stderr",
     "output_type": "stream",
     "text": [
      "\r",
      "  1%|█                                                                              | 110/8465 [00:56<45:09,  3.08it/s]"
     ]
    },
    {
     "name": "stdout",
     "output_type": "stream",
     "text": [
      "No results found for: 'グッドバイ -album version- toe'\n",
      "Could not find グッドバイ -album version- by toe\n",
      "Searching for \"you go\" by toe...\n"
     ]
    },
    {
     "name": "stderr",
     "output_type": "stream",
     "text": [
      "\r",
      "  1%|█                                                                              | 111/8465 [00:56<43:29,  3.20it/s]"
     ]
    },
    {
     "name": "stdout",
     "output_type": "stream",
     "text": [
      "Specified song does not contain lyrics. Rejecting.\n",
      "Could not find you go by toe\n",
      "Searching for \"our next movement\" by toe...\n"
     ]
    },
    {
     "name": "stderr",
     "output_type": "stream",
     "text": [
      "\r",
      "  1%|█                                                                              | 112/8465 [00:57<42:06,  3.31it/s]"
     ]
    },
    {
     "name": "stdout",
     "output_type": "stream",
     "text": [
      "Specified song does not contain lyrics. Rejecting.\n",
      "Could not find our next movement by toe\n",
      "Searching for \"long tomorrow\" by toe...\n"
     ]
    },
    {
     "name": "stderr",
     "output_type": "stream",
     "text": [
      "\r",
      "  1%|█                                                                              | 113/8465 [00:57<41:06,  3.39it/s]"
     ]
    },
    {
     "name": "stdout",
     "output_type": "stream",
     "text": [
      "Specified song does not contain lyrics. Rejecting.\n",
      "Could not find long tomorrow by toe\n",
      "Searching for \"Ëmëhntëhtt-Ré I\" by Magma...\n"
     ]
    },
    {
     "name": "stderr",
     "output_type": "stream",
     "text": [
      "\r",
      "  1%|█                                                                              | 114/8465 [00:58<54:45,  2.54it/s]"
     ]
    },
    {
     "name": "stdout",
     "output_type": "stream",
     "text": [
      "Done.\n",
      "Lyrics grabbed for Ëmëhntëhtt-Ré I by Magma\n",
      "Searching for \"Ëmëhntëhtt-Ré II\" by Magma...\n"
     ]
    },
    {
     "name": "stderr",
     "output_type": "stream",
     "text": [
      "\r",
      "  1%|█                                                                            | 115/8465 [00:58<1:04:02,  2.17it/s]"
     ]
    },
    {
     "name": "stdout",
     "output_type": "stream",
     "text": [
      "Done.\n",
      "Lyrics grabbed for Ëmëhntëhtt-Ré II by Magma\n",
      "Searching for \"Emëhntëhtt-Ré III\" by Magma...\n"
     ]
    },
    {
     "name": "stderr",
     "output_type": "stream",
     "text": [
      "\r",
      "  1%|█                                                                              | 116/8465 [00:59<56:20,  2.47it/s]"
     ]
    },
    {
     "name": "stdout",
     "output_type": "stream",
     "text": [
      "No results found for: 'Emëhntëhtt-Ré III Magma'\n",
      "Could not find Emëhntëhtt-Ré III by Magma\n",
      "Searching for \"Emëhntëhtt-Ré IV\" by Magma...\n"
     ]
    },
    {
     "name": "stderr",
     "output_type": "stream",
     "text": [
      "\r",
      "  1%|█                                                                              | 117/8465 [00:59<50:29,  2.76it/s]"
     ]
    },
    {
     "name": "stdout",
     "output_type": "stream",
     "text": [
      "No results found for: 'Emëhntëhtt-Ré IV Magma'\n",
      "Could not find Emëhntëhtt-Ré IV by Magma\n",
      "Searching for \"Funëhrarïum Kanht\" by Magma...\n"
     ]
    },
    {
     "name": "stderr",
     "output_type": "stream",
     "text": [
      "\r",
      "  1%|█                                                                            | 118/8465 [00:59<1:02:37,  2.22it/s]"
     ]
    },
    {
     "name": "stdout",
     "output_type": "stream",
     "text": [
      "Done.\n",
      "Lyrics grabbed for Funëhrarïum Kanht by Magma\n",
      "Searching for \"Sêhë\" by Magma...\n"
     ]
    },
    {
     "name": "stderr",
     "output_type": "stream",
     "text": [
      "\r",
      "  1%|█                                                                            | 119/8465 [01:00<1:10:14,  1.98it/s]"
     ]
    },
    {
     "name": "stdout",
     "output_type": "stream",
     "text": [
      "Done.\n",
      "Lyrics grabbed for Sêhë by Magma\n",
      "Searching for \"Jim Cain\" by Bill Callahan...\n"
     ]
    },
    {
     "name": "stderr",
     "output_type": "stream",
     "text": [
      "\r",
      "  1%|█                                                                            | 120/8465 [01:01<1:16:38,  1.81it/s]"
     ]
    },
    {
     "name": "stdout",
     "output_type": "stream",
     "text": [
      "Done.\n",
      "Lyrics grabbed for Jim Cain by Bill Callahan\n",
      "Searching for \"Eid Ma Clack Shaw\" by Bill Callahan...\n"
     ]
    },
    {
     "name": "stderr",
     "output_type": "stream",
     "text": [
      "\r",
      "  1%|█                                                                            | 121/8465 [01:01<1:20:14,  1.73it/s]"
     ]
    },
    {
     "name": "stdout",
     "output_type": "stream",
     "text": [
      "Done.\n",
      "Lyrics grabbed for Eid Ma Clack Shaw by Bill Callahan\n",
      "Searching for \"The Wind and The Dove\" by Bill Callahan...\n"
     ]
    },
    {
     "name": "stderr",
     "output_type": "stream",
     "text": [
      "\r",
      "  1%|█                                                                            | 122/8465 [01:02<1:21:20,  1.71it/s]"
     ]
    },
    {
     "name": "stdout",
     "output_type": "stream",
     "text": [
      "Done.\n",
      "Lyrics grabbed for The Wind and The Dove by Bill Callahan\n",
      "Searching for \"Rococo Zephyr\" by Bill Callahan...\n"
     ]
    },
    {
     "name": "stderr",
     "output_type": "stream",
     "text": [
      "\r",
      "  1%|█                                                                            | 123/8465 [01:03<1:21:04,  1.71it/s]"
     ]
    },
    {
     "name": "stdout",
     "output_type": "stream",
     "text": [
      "Done.\n",
      "Lyrics grabbed for Rococo Zephyr by Bill Callahan\n",
      "Searching for \"Too Many Birds\" by Bill Callahan...\n"
     ]
    },
    {
     "name": "stderr",
     "output_type": "stream",
     "text": [
      "\r",
      "  1%|█▏                                                                           | 124/8465 [01:03<1:22:09,  1.69it/s]"
     ]
    },
    {
     "name": "stdout",
     "output_type": "stream",
     "text": [
      "Done.\n",
      "Lyrics grabbed for Too Many Birds by Bill Callahan\n",
      "Searching for \"My Friend\" by Bill Callahan...\n"
     ]
    },
    {
     "name": "stderr",
     "output_type": "stream",
     "text": [
      "\r",
      "  1%|█▏                                                                           | 125/8465 [01:04<1:23:22,  1.67it/s]"
     ]
    },
    {
     "name": "stdout",
     "output_type": "stream",
     "text": [
      "Done.\n",
      "Lyrics grabbed for My Friend by Bill Callahan\n",
      "Searching for \"All Thoughts Are Prey To Some Beast\" by Bill Callahan...\n"
     ]
    },
    {
     "name": "stderr",
     "output_type": "stream",
     "text": [
      "\r",
      "  1%|█▏                                                                           | 126/8465 [01:04<1:23:12,  1.67it/s]"
     ]
    },
    {
     "name": "stdout",
     "output_type": "stream",
     "text": [
      "Done.\n",
      "Lyrics grabbed for All Thoughts Are Prey To Some Beast by Bill Callahan\n",
      "Searching for \"Invocation of Ratiocination\" by Bill Callahan...\n"
     ]
    },
    {
     "name": "stderr",
     "output_type": "stream",
     "text": [
      "\r",
      "  2%|█▏                                                                           | 127/8465 [01:05<1:09:15,  2.01it/s]"
     ]
    },
    {
     "name": "stdout",
     "output_type": "stream",
     "text": [
      "Specified song does not contain lyrics. Rejecting.\n",
      "Could not find Invocation of Ratiocination by Bill Callahan\n",
      "Searching for \"Faith/Void\" by Bill Callahan...\n"
     ]
    },
    {
     "name": "stderr",
     "output_type": "stream",
     "text": [
      "\r",
      "  2%|█▏                                                                           | 128/8465 [01:05<1:15:04,  1.85it/s]"
     ]
    },
    {
     "name": "stdout",
     "output_type": "stream",
     "text": [
      "Done.\n",
      "Lyrics grabbed for Faith/Void by Bill Callahan\n",
      "Searching for \"Cold Chillin' Cold Chillin'\" by Bomb the Music Industry!...\n"
     ]
    },
    {
     "name": "stderr",
     "output_type": "stream",
     "text": [
      "\r",
      "  2%|█▏                                                                           | 129/8465 [01:06<1:19:54,  1.74it/s]"
     ]
    },
    {
     "name": "stdout",
     "output_type": "stream",
     "text": [
      "Done.\n",
      "Lyrics grabbed for Cold Chillin' Cold Chillin' by Bomb the Music Industry!\n",
      "Searching for \"Stuff That I Like\" by Bomb the Music Industry!...\n"
     ]
    },
    {
     "name": "stderr",
     "output_type": "stream",
     "text": [
      "\r",
      "  2%|█▏                                                                           | 130/8465 [01:07<1:25:35,  1.62it/s]"
     ]
    },
    {
     "name": "stdout",
     "output_type": "stream",
     "text": [
      "Done.\n",
      "Lyrics grabbed for Stuff That I Like by Bomb the Music Industry!\n",
      "Searching for \"It Shits!!!\" by Bomb the Music Industry!...\n"
     ]
    },
    {
     "name": "stderr",
     "output_type": "stream",
     "text": [
      "\r",
      "  2%|█▏                                                                           | 131/8465 [01:07<1:24:30,  1.64it/s]"
     ]
    },
    {
     "name": "stdout",
     "output_type": "stream",
     "text": [
      "Done.\n",
      "Lyrics grabbed for It Shits!!! by Bomb the Music Industry!\n",
      "Searching for \"Fresh Attitude, Young Body\" by Bomb the Music Industry!...\n"
     ]
    },
    {
     "name": "stderr",
     "output_type": "stream",
     "text": [
      "\r",
      "  2%|█▏                                                                           | 132/8465 [01:08<1:24:26,  1.64it/s]"
     ]
    },
    {
     "name": "stdout",
     "output_type": "stream",
     "text": [
      "Done.\n",
      "Lyrics grabbed for Fresh Attitude, Young Body by Bomb the Music Industry!\n",
      "Searching for \"Wednesday Night Drinkball\" by Bomb the Music Industry!...\n"
     ]
    },
    {
     "name": "stderr",
     "output_type": "stream",
     "text": [
      "\r",
      "  2%|█▏                                                                           | 133/8465 [01:09<1:27:30,  1.59it/s]"
     ]
    },
    {
     "name": "stdout",
     "output_type": "stream",
     "text": [
      "Done.\n",
      "Lyrics grabbed for Wednesday Night Drinkball by Bomb the Music Industry!\n",
      "Searching for \"25!\" by Bomb the Music Industry!...\n"
     ]
    },
    {
     "name": "stderr",
     "output_type": "stream",
     "text": [
      "\r",
      "  2%|█▏                                                                           | 134/8465 [01:09<1:26:05,  1.61it/s]"
     ]
    },
    {
     "name": "stdout",
     "output_type": "stream",
     "text": [
      "Done.\n",
      "Lyrics grabbed for 25! by Bomb the Music Industry!\n",
      "Searching for \"$2,400,000\" by Bomb the Music Industry!...\n"
     ]
    },
    {
     "name": "stderr",
     "output_type": "stream",
     "text": [
      "\r",
      "  2%|█▏                                                                           | 135/8465 [01:10<1:23:51,  1.66it/s]"
     ]
    },
    {
     "name": "stdout",
     "output_type": "stream",
     "text": [
      "Done.\n",
      "Lyrics grabbed for $2,400,000 by Bomb the Music Industry!\n",
      "Searching for \"Gang of Four Meets the Stooges (But Boring)\" by Bomb the Music Industry!...\n"
     ]
    },
    {
     "name": "stderr",
     "output_type": "stream",
     "text": [
      "\r",
      "  2%|█▏                                                                           | 136/8465 [01:10<1:23:59,  1.65it/s]"
     ]
    },
    {
     "name": "stdout",
     "output_type": "stream",
     "text": [
      "Done.\n",
      "Lyrics grabbed for Gang of Four Meets the Stooges (But Boring) by Bomb the Music Industry!\n",
      "Searching for \"9/11 Fever!!!\" by Bomb the Music Industry!...\n"
     ]
    },
    {
     "name": "stderr",
     "output_type": "stream",
     "text": [
      "\r",
      "  2%|█▏                                                                           | 137/8465 [01:11<1:26:22,  1.61it/s]"
     ]
    },
    {
     "name": "stdout",
     "output_type": "stream",
     "text": [
      "Done.\n",
      "Lyrics grabbed for 9/11 Fever!!! by Bomb the Music Industry!\n",
      "Searching for \"(Shut) Up the Punx!!!\" by Bomb the Music Industry!...\n"
     ]
    },
    {
     "name": "stderr",
     "output_type": "stream",
     "text": [
      "\r",
      "  2%|█▎                                                                           | 138/8465 [01:12<1:27:56,  1.58it/s]"
     ]
    },
    {
     "name": "stdout",
     "output_type": "stream",
     "text": [
      "Done.\n",
      "Lyrics grabbed for (Shut) Up the Punx!!! by Bomb the Music Industry!\n",
      "Searching for \"Can I Pay My Rent in Fun?\" by Bomb the Music Industry!...\n"
     ]
    },
    {
     "name": "stderr",
     "output_type": "stream",
     "text": [
      "\r",
      "  2%|█▎                                                                           | 139/8465 [01:12<1:26:55,  1.60it/s]"
     ]
    },
    {
     "name": "stdout",
     "output_type": "stream",
     "text": [
      "Done.\n",
      "Lyrics grabbed for Can I Pay My Rent in Fun? by Bomb the Music Industry!\n",
      "Searching for \"Saddr Weirdr\" by Bomb the Music Industry!...\n"
     ]
    },
    {
     "name": "stderr",
     "output_type": "stream",
     "text": [
      "\r",
      "  2%|█▎                                                                           | 140/8465 [01:13<1:28:28,  1.57it/s]"
     ]
    },
    {
     "name": "stdout",
     "output_type": "stream",
     "text": [
      "Done.\n",
      "Lyrics grabbed for Saddr Weirdr by Bomb the Music Industry!\n",
      "Searching for \"Sort of Like Being Pumped\" by Bomb the Music Industry!...\n"
     ]
    },
    {
     "name": "stderr",
     "output_type": "stream",
     "text": [
      "\r",
      "  2%|█▎                                                                           | 141/8465 [01:14<1:27:56,  1.58it/s]"
     ]
    },
    {
     "name": "stdout",
     "output_type": "stream",
     "text": [
      "Done.\n",
      "Lyrics grabbed for Sort of Like Being Pumped by Bomb the Music Industry!\n",
      "Searching for \"Entering a Superior Dimension\" by The Chasm...\n"
     ]
    },
    {
     "name": "stderr",
     "output_type": "stream",
     "text": [
      "\r",
      "  2%|█▎                                                                           | 142/8465 [01:14<1:26:22,  1.61it/s]"
     ]
    },
    {
     "name": "stdout",
     "output_type": "stream",
     "text": [
      "Done.\n",
      "Lyrics grabbed for Entering a Superior Dimension by The Chasm\n",
      "Searching for \"Callous Spectre/Vehement Opposition\" by The Chasm...\n"
     ]
    },
    {
     "name": "stderr",
     "output_type": "stream",
     "text": [
      "\r",
      "  2%|█▎                                                                           | 143/8465 [01:14<1:12:20,  1.92it/s]"
     ]
    },
    {
     "name": "stdout",
     "output_type": "stream",
     "text": [
      "No results found for: 'Callous Spectre/Vehement Opposition The Chasm'\n",
      "Could not find Callous Spectre/Vehement Opposition by The Chasm\n",
      "Searching for \"Fiery Rebirth\" by The Chasm...\n"
     ]
    },
    {
     "name": "stderr",
     "output_type": "stream",
     "text": [
      "\r",
      "  2%|█▎                                                                           | 144/8465 [01:15<1:16:39,  1.81it/s]"
     ]
    },
    {
     "name": "stdout",
     "output_type": "stream",
     "text": [
      "Done.\n",
      "Lyrics grabbed for Fiery Rebirth by The Chasm\n",
      "Searching for \"Farseeing\" by The Chasm...\n"
     ]
    },
    {
     "name": "stderr",
     "output_type": "stream",
     "text": [
      "\r",
      "  2%|█▎                                                                           | 145/8465 [01:16<1:23:30,  1.66it/s]"
     ]
    },
    {
     "name": "stdout",
     "output_type": "stream",
     "text": [
      "Done.\n",
      "Lyrics grabbed for Farseeing by The Chasm\n",
      "Searching for \"Structure of the Seance\" by The Chasm...\n"
     ]
    },
    {
     "name": "stderr",
     "output_type": "stream",
     "text": [
      "\r",
      "  2%|█▎                                                                           | 146/8465 [01:16<1:25:34,  1.62it/s]"
     ]
    },
    {
     "name": "stdout",
     "output_type": "stream",
     "text": [
      "Done.\n",
      "Lyrics grabbed for Structure of the Seance by The Chasm\n",
      "Searching for \"Vault to the Voyage\" by The Chasm...\n"
     ]
    },
    {
     "name": "stderr",
     "output_type": "stream",
     "text": [
      "\r",
      "  2%|█▎                                                                           | 147/8465 [01:17<1:27:47,  1.58it/s]"
     ]
    },
    {
     "name": "stdout",
     "output_type": "stream",
     "text": [
      "Done.\n",
      "Lyrics grabbed for Vault to the Voyage by The Chasm\n",
      "Searching for \"The Promised Ravage\" by The Chasm...\n"
     ]
    },
    {
     "name": "stderr",
     "output_type": "stream",
     "text": [
      "\r",
      "  2%|█▎                                                                           | 148/8465 [01:18<1:26:17,  1.61it/s]"
     ]
    },
    {
     "name": "stdout",
     "output_type": "stream",
     "text": [
      "Done.\n",
      "Lyrics grabbed for The Promised Ravage by The Chasm\n",
      "Searching for \"The Mission/Arrival to Hopeless Shores (Calling the Paranormal Abysm)\" by The Chasm...\n"
     ]
    },
    {
     "name": "stderr",
     "output_type": "stream",
     "text": [
      "\r",
      "  2%|█▎                                                                           | 149/8465 [01:18<1:25:43,  1.62it/s]"
     ]
    },
    {
     "name": "stdout",
     "output_type": "stream",
     "text": [
      "Done.\n",
      "Lyrics grabbed for The Mission/Arrival to Hopeless Shores (Calling the Paranormal Abysm) by The Chasm\n",
      "Searching for \"Perish Beneath\" by Funebrarum...\n"
     ]
    },
    {
     "name": "stderr",
     "output_type": "stream",
     "text": [
      "\r",
      "  2%|█▎                                                                           | 150/8465 [01:19<1:13:03,  1.90it/s]"
     ]
    },
    {
     "name": "stdout",
     "output_type": "stream",
     "text": [
      "No results found for: 'Perish Beneath Funebrarum'\n",
      "Could not find Perish Beneath by Funebrarum\n",
      "Searching for \"Grave Reaper\" by Funebrarum...\n"
     ]
    },
    {
     "name": "stderr",
     "output_type": "stream",
     "text": [
      "\r",
      "  2%|█▎                                                                           | 151/8465 [01:19<1:03:22,  2.19it/s]"
     ]
    },
    {
     "name": "stdout",
     "output_type": "stream",
     "text": [
      "No results found for: 'Grave Reaper Funebrarum'\n",
      "Could not find Grave Reaper by Funebrarum\n",
      "Searching for \". Beyond Recognition\" by Funebrarum...\n"
     ]
    },
    {
     "name": "stderr",
     "output_type": "stream",
     "text": [
      "\r",
      "  2%|█▍                                                                             | 152/8465 [01:19<56:02,  2.47it/s]"
     ]
    },
    {
     "name": "stdout",
     "output_type": "stream",
     "text": [
      "No results found for: '. Beyond Recognition Funebrarum'\n",
      "Could not find . Beyond Recognition by Funebrarum\n",
      "Searching for \"Cursed Eternity\" by Funebrarum...\n"
     ]
    },
    {
     "name": "stderr",
     "output_type": "stream",
     "text": [
      "\r",
      "  2%|█▍                                                                             | 153/8465 [01:19<51:37,  2.68it/s]"
     ]
    },
    {
     "name": "stdout",
     "output_type": "stream",
     "text": [
      "No results found for: 'Cursed Eternity Funebrarum'\n",
      "Could not find Cursed Eternity by Funebrarum\n",
      "Searching for \"Incineration of Mortal Flesh\" by Funebrarum...\n"
     ]
    },
    {
     "name": "stderr",
     "output_type": "stream",
     "text": [
      "\r",
      "  2%|█▍                                                                             | 154/8465 [01:20<47:41,  2.90it/s]"
     ]
    },
    {
     "name": "stdout",
     "output_type": "stream",
     "text": [
      "No results found for: 'Incineration of Mortal Flesh Funebrarum'\n",
      "Could not find Incineration of Mortal Flesh by Funebrarum\n",
      "Searching for \". Nex Monumentum\" by Funebrarum...\n"
     ]
    },
    {
     "name": "stderr",
     "output_type": "stream",
     "text": [
      "\r",
      "  2%|█▍                                                                             | 155/8465 [01:20<45:00,  3.08it/s]"
     ]
    },
    {
     "name": "stdout",
     "output_type": "stream",
     "text": [
      "No results found for: '. Nex Monumentum Funebrarum'\n",
      "Could not find . Nex Monumentum by Funebrarum\n",
      "Searching for \"Among The Exiled\" by Funebrarum...\n"
     ]
    },
    {
     "name": "stderr",
     "output_type": "stream",
     "text": [
      "\r",
      "  2%|█▍                                                                             | 156/8465 [01:20<42:35,  3.25it/s]"
     ]
    },
    {
     "name": "stdout",
     "output_type": "stream",
     "text": [
      "No results found for: 'Among The Exiled Funebrarum'\n",
      "Could not find Among The Exiled by Funebrarum\n",
      "Searching for \"Mirrors\" by Between the Buried and Me...\n"
     ]
    },
    {
     "name": "stderr",
     "output_type": "stream",
     "text": [
      "\r",
      "  2%|█▍                                                                             | 157/8465 [01:21<55:04,  2.51it/s]"
     ]
    },
    {
     "name": "stdout",
     "output_type": "stream",
     "text": [
      "Done.\n",
      "Lyrics grabbed for Mirrors by Between the Buried and Me\n",
      "Searching for \"Obfuscation\" by Between the Buried and Me...\n"
     ]
    },
    {
     "name": "stderr",
     "output_type": "stream",
     "text": [
      "\r",
      "  2%|█▍                                                                           | 158/8465 [01:22<1:03:15,  2.19it/s]"
     ]
    },
    {
     "name": "stdout",
     "output_type": "stream",
     "text": [
      "Done.\n",
      "Lyrics grabbed for Obfuscation by Between the Buried and Me\n",
      "Searching for \"Disease, Injury, Madness\" by Between the Buried and Me...\n"
     ]
    },
    {
     "name": "stderr",
     "output_type": "stream",
     "text": [
      "\r",
      "  2%|█▍                                                                           | 159/8465 [01:22<1:10:35,  1.96it/s]"
     ]
    },
    {
     "name": "stdout",
     "output_type": "stream",
     "text": [
      "Done.\n",
      "Lyrics grabbed for Disease, Injury, Madness by Between the Buried and Me\n",
      "Searching for \"Fossil Genera (A Feed From Cloud Mountain)\" by Between the Buried and Me...\n"
     ]
    },
    {
     "name": "stderr",
     "output_type": "stream",
     "text": [
      "\r",
      "  2%|█▍                                                                           | 160/8465 [01:23<1:16:00,  1.82it/s]"
     ]
    },
    {
     "name": "stdout",
     "output_type": "stream",
     "text": [
      "Done.\n",
      "Lyrics grabbed for Fossil Genera (A Feed From Cloud Mountain) by Between the Buried and Me\n",
      "Searching for \"Desert Of Song\" by Between the Buried and Me...\n"
     ]
    },
    {
     "name": "stderr",
     "output_type": "stream",
     "text": [
      "\r",
      "  2%|█▍                                                                           | 161/8465 [01:23<1:18:47,  1.76it/s]"
     ]
    },
    {
     "name": "stdout",
     "output_type": "stream",
     "text": [
      "Done.\n",
      "Lyrics grabbed for Desert Of Song by Between the Buried and Me\n",
      "Searching for \"Swim To The Moon\" by Between the Buried and Me...\n"
     ]
    },
    {
     "name": "stderr",
     "output_type": "stream",
     "text": [
      "\r",
      "  2%|█▍                                                                           | 162/8465 [01:24<1:20:37,  1.72it/s]"
     ]
    },
    {
     "name": "stdout",
     "output_type": "stream",
     "text": [
      "Done.\n",
      "Lyrics grabbed for Swim To The Moon by Between the Buried and Me\n",
      "Searching for \"Acceptance - Aske\" by Blut aus Nord...\n"
     ]
    },
    {
     "name": "stderr",
     "output_type": "stream",
     "text": [
      "\r",
      "  2%|█▍                                                                           | 163/8465 [01:25<1:34:11,  1.47it/s]"
     ]
    },
    {
     "name": "stdout",
     "output_type": "stream",
     "text": [
      "Done.\n",
      "Lyrics grabbed for Acceptance - Aske by Blut aus Nord\n",
      "Searching for \"Disciple's Libration - Lost in the Nine Worlds\" by Blut aus Nord...\n"
     ]
    },
    {
     "name": "stderr",
     "output_type": "stream",
     "text": [
      "\r",
      "  2%|█▍                                                                           | 164/8465 [01:26<1:32:29,  1.50it/s]"
     ]
    },
    {
     "name": "stdout",
     "output_type": "stream",
     "text": [
      "Done.\n",
      "Lyrics grabbed for Disciple's Libration - Lost in the Nine Worlds by Blut aus Nord\n",
      "Searching for \"The Cosmic Echoes of Non-Matter - Immaterial Voices of the Fathers\" by Blut aus Nord...\n"
     ]
    },
    {
     "name": "stderr",
     "output_type": "stream",
     "text": [
      "\r",
      "  2%|█▌                                                                           | 165/8465 [01:26<1:16:02,  1.82it/s]"
     ]
    },
    {
     "name": "stdout",
     "output_type": "stream",
     "text": [
      "No results found for: 'The Cosmic Echoes of Non-Matter - Immaterial Voices of the Fathers Blut aus Nord'\n",
      "Could not find The Cosmic Echoes of Non-Matter - Immaterial Voices of the Fathers by Blut aus Nord\n",
      "Searching for \"Translucent Body of Air - Sutta Anapanasati\" by Blut aus Nord...\n"
     ]
    },
    {
     "name": "stderr",
     "output_type": "stream",
     "text": [
      "\r",
      "  2%|█▌                                                                           | 166/8465 [01:26<1:04:59,  2.13it/s]"
     ]
    },
    {
     "name": "stdout",
     "output_type": "stream",
     "text": [
      "No results found for: 'Translucent Body of Air - Sutta Anapanasati Blut aus Nord'\n",
      "Could not find Translucent Body of Air - Sutta Anapanasati by Blut aus Nord\n",
      "Searching for \"The Formless Sphere - Beyond the Reason\" by Blut aus Nord...\n"
     ]
    },
    {
     "name": "stderr",
     "output_type": "stream",
     "text": [
      "\r",
      "  2%|█▌                                                                           | 167/8465 [01:27<1:23:50,  1.65it/s]"
     ]
    },
    {
     "name": "stdout",
     "output_type": "stream",
     "text": [
      "Done.\n",
      "Lyrics grabbed for The Formless Sphere - Beyond the Reason by Blut aus Nord\n",
      "Searching for \"...the Meditant - Dialogue with the Stars\" by Blut aus Nord...\n"
     ]
    },
    {
     "name": "stderr",
     "output_type": "stream",
     "text": [
      "\r",
      "  2%|█▌                                                                           | 168/8465 [01:28<1:26:59,  1.59it/s]"
     ]
    },
    {
     "name": "stdout",
     "output_type": "stream",
     "text": [
      "Done.\n",
      "Lyrics grabbed for ...the Meditant - Dialogue with the Stars by Blut aus Nord\n",
      "Searching for \"The Alcove of Angels - Vipassana\" by Blut aus Nord...\n"
     ]
    },
    {
     "name": "stderr",
     "output_type": "stream",
     "text": [
      "\r",
      "  2%|█▌                                                                           | 169/8465 [01:28<1:12:33,  1.91it/s]"
     ]
    },
    {
     "name": "stdout",
     "output_type": "stream",
     "text": [
      "No results found for: 'The Alcove of Angels - Vipassana Blut aus Nord'\n",
      "Could not find The Alcove of Angels - Vipassana by Blut aus Nord\n",
      "Searching for \"Antithesis of the Flesh - ...and Then Arises a New Essence\" by Blut aus Nord...\n"
     ]
    },
    {
     "name": "stderr",
     "output_type": "stream",
     "text": [
      "\r",
      "  2%|█▌                                                                           | 170/8465 [01:28<1:04:10,  2.15it/s]"
     ]
    },
    {
     "name": "stdout",
     "output_type": "stream",
     "text": [
      "No results found for: 'Antithesis of the Flesh - ...and Then Arises a New Essence Blut aus Nord'\n",
      "Could not find Antithesis of the Flesh - ...and Then Arises a New Essence by Blut aus Nord\n",
      "Searching for \"Elevation\" by Blut aus Nord...\n"
     ]
    },
    {
     "name": "stderr",
     "output_type": "stream",
     "text": [
      "\r",
      "  2%|█▌                                                                           | 171/8465 [01:29<1:10:46,  1.95it/s]"
     ]
    },
    {
     "name": "stdout",
     "output_type": "stream",
     "text": [
      "Done.\n",
      "Lyrics grabbed for Elevation by Blut aus Nord\n",
      "Searching for \"To a Generation of Destroyers\" by ROME...\n"
     ]
    },
    {
     "name": "stderr",
     "output_type": "stream",
     "text": [
      "\r",
      "  2%|█▌                                                                           | 172/8465 [01:30<1:15:21,  1.83it/s]"
     ]
    },
    {
     "name": "stdout",
     "output_type": "stream",
     "text": [
      "Done.\n",
      "Lyrics grabbed for To a Generation of Destroyers by ROME\n",
      "Searching for \"The Accidents of Gesture\" by ROME...\n"
     ]
    },
    {
     "name": "stderr",
     "output_type": "stream",
     "text": [
      "\r",
      "  2%|█▌                                                                           | 173/8465 [01:30<1:18:51,  1.75it/s]"
     ]
    },
    {
     "name": "stdout",
     "output_type": "stream",
     "text": [
      "Done.\n",
      "Lyrics grabbed for The Accidents of Gesture by ROME\n",
      "Searching for \"Odessa\" by ROME...\n"
     ]
    },
    {
     "name": "stderr",
     "output_type": "stream",
     "text": [
      "\r",
      "  2%|█▌                                                                           | 174/8465 [01:31<1:18:33,  1.76it/s]"
     ]
    },
    {
     "name": "stdout",
     "output_type": "stream",
     "text": [
      "Done.\n",
      "Lyrics grabbed for Odessa by ROME\n",
      "Searching for \"The Secret Sons of Europe\" by ROME...\n"
     ]
    },
    {
     "name": "stderr",
     "output_type": "stream",
     "text": [
      "\r",
      "  2%|█▌                                                                           | 175/8465 [01:31<1:19:57,  1.73it/s]"
     ]
    },
    {
     "name": "stdout",
     "output_type": "stream",
     "text": [
      "Done.\n",
      "Lyrics grabbed for The Secret Sons of Europe by ROME\n",
      "Searching for \"The Hollow Self\" by ROME...\n"
     ]
    },
    {
     "name": "stderr",
     "output_type": "stream",
     "text": [
      "\r",
      "  2%|█▌                                                                           | 176/8465 [01:32<1:20:19,  1.72it/s]"
     ]
    },
    {
     "name": "stdout",
     "output_type": "stream",
     "text": [
      "Done.\n",
      "Lyrics grabbed for The Hollow Self by ROME\n",
      "Searching for \"A Legacy of Unrest\" by ROME...\n"
     ]
    },
    {
     "name": "stderr",
     "output_type": "stream",
     "text": [
      "\r",
      "  2%|█▌                                                                           | 177/8465 [01:33<1:27:24,  1.58it/s]"
     ]
    },
    {
     "name": "stdout",
     "output_type": "stream",
     "text": [
      "Done.\n",
      "Lyrics grabbed for A Legacy of Unrest by ROME\n",
      "Searching for \"To Die Among Strangers\" by ROME...\n"
     ]
    },
    {
     "name": "stderr",
     "output_type": "stream",
     "text": [
      "\r",
      "  2%|█▌                                                                           | 178/8465 [01:33<1:26:09,  1.60it/s]"
     ]
    },
    {
     "name": "stdout",
     "output_type": "stream",
     "text": [
      "Done.\n",
      "Lyrics grabbed for To Die Among Strangers by ROME\n",
      "Searching for \"A Culture of Fragments\" by ROME...\n"
     ]
    },
    {
     "name": "stderr",
     "output_type": "stream",
     "text": [
      "\r",
      "  2%|█▋                                                                           | 179/8465 [01:34<1:25:53,  1.61it/s]"
     ]
    },
    {
     "name": "stdout",
     "output_type": "stream",
     "text": [
      "Done.\n",
      "Lyrics grabbed for A Culture of Fragments by ROME\n",
      "Searching for \"We Who Fell in Love with the Sea\" by ROME...\n"
     ]
    },
    {
     "name": "stderr",
     "output_type": "stream",
     "text": [
      "\r",
      "  2%|█▋                                                                           | 180/8465 [01:35<1:27:11,  1.58it/s]"
     ]
    },
    {
     "name": "stdout",
     "output_type": "stream",
     "text": [
      "Done.\n",
      "Lyrics grabbed for We Who Fell in Love with the Sea by ROME\n",
      "Searching for \"Swords to Rust - Hearts to Dust\" by ROME...\n"
     ]
    },
    {
     "name": "stderr",
     "output_type": "stream",
     "text": [
      "\r",
      "  2%|█▋                                                                           | 181/8465 [01:35<1:26:10,  1.60it/s]"
     ]
    },
    {
     "name": "stdout",
     "output_type": "stream",
     "text": [
      "Done.\n",
      "Lyrics grabbed for Swords to Rust - Hearts to Dust by ROME\n",
      "Searching for \"Flowers from Exile\" by ROME...\n"
     ]
    },
    {
     "name": "stderr",
     "output_type": "stream",
     "text": [
      "\r",
      "  2%|█▋                                                                           | 182/8465 [01:36<1:28:56,  1.55it/s]"
     ]
    },
    {
     "name": "stdout",
     "output_type": "stream",
     "text": [
      "Done.\n",
      "Lyrics grabbed for Flowers from Exile by ROME\n",
      "Searching for \"Flight in Formation\" by ROME...\n"
     ]
    },
    {
     "name": "stderr",
     "output_type": "stream",
     "text": [
      "\r",
      "  2%|█▋                                                                           | 183/8465 [01:36<1:27:56,  1.57it/s]"
     ]
    },
    {
     "name": "stdout",
     "output_type": "stream",
     "text": [
      "Done.\n",
      "Lyrics grabbed for Flight in Formation by ROME\n",
      "Searching for \"(I Know) A Girl Called Jonny\" by Rowland S. Howard...\n"
     ]
    },
    {
     "name": "stderr",
     "output_type": "stream",
     "text": [
      "\r",
      "  2%|█▋                                                                           | 184/8465 [01:37<1:27:05,  1.58it/s]"
     ]
    },
    {
     "name": "stdout",
     "output_type": "stream",
     "text": [
      "Done.\n",
      "Lyrics grabbed for (I Know) A Girl Called Jonny by Rowland S. Howard\n",
      "Searching for \"Shut Me Down\" by Rowland S. Howard...\n"
     ]
    },
    {
     "name": "stderr",
     "output_type": "stream",
     "text": [
      "\r",
      "  2%|█▋                                                                           | 185/8465 [01:38<1:26:15,  1.60it/s]"
     ]
    },
    {
     "name": "stdout",
     "output_type": "stream",
     "text": [
      "Done.\n",
      "Lyrics grabbed for Shut Me Down by Rowland S. Howard\n",
      "Searching for \"Life's What You Make It\" by Rowland S. Howard...\n"
     ]
    },
    {
     "name": "stderr",
     "output_type": "stream",
     "text": [
      "\r",
      "  2%|█▋                                                                           | 186/8465 [01:38<1:25:23,  1.62it/s]"
     ]
    },
    {
     "name": "stdout",
     "output_type": "stream",
     "text": [
      "Done.\n",
      "Lyrics grabbed for Life's What You Make It by Rowland S. Howard\n",
      "Searching for \"Pop Crimes\" by Rowland S. Howard...\n"
     ]
    },
    {
     "name": "stderr",
     "output_type": "stream",
     "text": [
      "\r",
      "  2%|█▋                                                                           | 187/8465 [01:39<1:25:17,  1.62it/s]"
     ]
    },
    {
     "name": "stdout",
     "output_type": "stream",
     "text": [
      "Done.\n",
      "Lyrics grabbed for Pop Crimes by Rowland S. Howard\n",
      "Searching for \"Nothin'\" by Rowland S. Howard...\n"
     ]
    },
    {
     "name": "stderr",
     "output_type": "stream",
     "text": [
      "\r",
      "  2%|█▋                                                                           | 188/8465 [01:40<1:26:23,  1.60it/s]"
     ]
    },
    {
     "name": "stdout",
     "output_type": "stream",
     "text": [
      "Done.\n",
      "Lyrics grabbed for Nothin' by Rowland S. Howard\n",
      "Searching for \"Wayward Man\" by Rowland S. Howard...\n"
     ]
    },
    {
     "name": "stderr",
     "output_type": "stream",
     "text": [
      "\r",
      "  2%|█▋                                                                           | 189/8465 [01:40<1:25:53,  1.61it/s]"
     ]
    },
    {
     "name": "stdout",
     "output_type": "stream",
     "text": [
      "Done.\n",
      "Lyrics grabbed for Wayward Man by Rowland S. Howard\n",
      "Searching for \"Ava Maria\" by Rowland S. Howard...\n"
     ]
    },
    {
     "name": "stderr",
     "output_type": "stream",
     "text": [
      "\r",
      "  2%|█▋                                                                           | 190/8465 [01:41<1:13:33,  1.87it/s]"
     ]
    },
    {
     "name": "stdout",
     "output_type": "stream",
     "text": [
      "No results found for: 'Ava Maria Rowland S. Howard'\n",
      "Could not find Ava Maria by Rowland S. Howard\n",
      "Searching for \"The Golden Age of Bloodshed\" by Rowland S. Howard...\n"
     ]
    },
    {
     "name": "stderr",
     "output_type": "stream",
     "text": [
      "\r",
      "  2%|█▋                                                                           | 191/8465 [01:41<1:16:42,  1.80it/s]"
     ]
    },
    {
     "name": "stdout",
     "output_type": "stream",
     "text": [
      "Done.\n",
      "Lyrics grabbed for The Golden Age of Bloodshed by Rowland S. Howard\n",
      "Searching for \"The Protocols Of Anti-Sound\" by Magrudergrind...\n"
     ]
    },
    {
     "name": "stderr",
     "output_type": "stream",
     "text": [
      "\r",
      "  2%|█▋                                                                           | 192/8465 [01:42<1:19:17,  1.74it/s]"
     ]
    },
    {
     "name": "stdout",
     "output_type": "stream",
     "text": [
      "Done.\n",
      "Lyrics grabbed for The Protocols Of Anti-Sound by Magrudergrind\n",
      "Searching for \"Pulverizing Hate Mongers\" by Magrudergrind...\n"
     ]
    },
    {
     "name": "stderr",
     "output_type": "stream",
     "text": [
      "\r",
      "  2%|█▊                                                                           | 193/8465 [01:42<1:20:06,  1.72it/s]"
     ]
    },
    {
     "name": "stdout",
     "output_type": "stream",
     "text": [
      "Done.\n",
      "Lyrics grabbed for Pulverizing Hate Mongers by Magrudergrind\n",
      "Searching for \"Rejecting The Militant Promise\" by Magrudergrind...\n"
     ]
    },
    {
     "name": "stderr",
     "output_type": "stream",
     "text": [
      "\r",
      "  2%|█▊                                                                           | 194/8465 [01:43<1:22:30,  1.67it/s]"
     ]
    },
    {
     "name": "stdout",
     "output_type": "stream",
     "text": [
      "Done.\n",
      "Lyrics grabbed for Rejecting The Militant Promise by Magrudergrind\n",
      "Searching for \"Assimilated Pollutants\" by Magrudergrind...\n"
     ]
    },
    {
     "name": "stderr",
     "output_type": "stream",
     "text": [
      "\r",
      "  2%|█▊                                                                           | 195/8465 [01:44<1:23:37,  1.65it/s]"
     ]
    },
    {
     "name": "stdout",
     "output_type": "stream",
     "text": [
      "Done.\n",
      "Lyrics grabbed for Assimilated Pollutants by Magrudergrind\n",
      "Searching for \"Abuse Of Philanthropic Self Gain\" by Magrudergrind...\n"
     ]
    },
    {
     "name": "stderr",
     "output_type": "stream",
     "text": [
      "\r",
      "  2%|█▊                                                                           | 196/8465 [01:44<1:22:50,  1.66it/s]"
     ]
    },
    {
     "name": "stdout",
     "output_type": "stream",
     "text": [
      "Done.\n",
      "Lyrics grabbed for Abuse Of Philanthropic Self Gain by Magrudergrind\n",
      "Searching for \"Fools Of Contradiction\" by Magrudergrind...\n"
     ]
    },
    {
     "name": "stderr",
     "output_type": "stream",
     "text": [
      "\r",
      "  2%|█▊                                                                           | 197/8465 [01:45<1:22:50,  1.66it/s]"
     ]
    },
    {
     "name": "stdout",
     "output_type": "stream",
     "text": [
      "Done.\n",
      "Lyrics grabbed for Fools Of Contradiction by Magrudergrind\n",
      "Searching for \"Heretics\" by Magrudergrind...\n"
     ]
    },
    {
     "name": "stderr",
     "output_type": "stream",
     "text": [
      "\r",
      "  2%|█▊                                                                           | 198/8465 [01:45<1:21:58,  1.68it/s]"
     ]
    },
    {
     "name": "stdout",
     "output_type": "stream",
     "text": [
      "Done.\n",
      "Lyrics grabbed for Heretics by Magrudergrind\n",
      "Searching for \"Bridge Burner\" by Magrudergrind...\n"
     ]
    },
    {
     "name": "stderr",
     "output_type": "stream",
     "text": [
      "\r",
      "  2%|█▊                                                                           | 199/8465 [01:46<1:30:24,  1.52it/s]"
     ]
    },
    {
     "name": "stdout",
     "output_type": "stream",
     "text": [
      "Done.\n",
      "Lyrics grabbed for Bridge Burner by Magrudergrind\n",
      "Searching for \"Cranial Media Parasite\" by Magrudergrind...\n"
     ]
    },
    {
     "name": "stderr",
     "output_type": "stream",
     "text": [
      "\r",
      "  2%|█▊                                                                           | 200/8465 [01:47<1:32:55,  1.48it/s]"
     ]
    },
    {
     "name": "stdout",
     "output_type": "stream",
     "text": [
      "Done.\n",
      "Lyrics grabbed for Cranial Media Parasite by Magrudergrind\n",
      "Searching for \"Excommunicated\" by Magrudergrind...\n"
     ]
    },
    {
     "name": "stderr",
     "output_type": "stream",
     "text": [
      "\r",
      "  2%|█▊                                                                           | 201/8465 [01:48<1:37:17,  1.42it/s]"
     ]
    },
    {
     "name": "stdout",
     "output_type": "stream",
     "text": [
      "Done.\n",
      "Lyrics grabbed for Excommunicated by Magrudergrind\n",
      "Searching for \"The Price Of Living By Delinquent Ideals\" by Magrudergrind...\n"
     ]
    },
    {
     "name": "stderr",
     "output_type": "stream",
     "text": [
      "\r",
      "  2%|█▊                                                                           | 202/8465 [01:48<1:33:09,  1.48it/s]"
     ]
    },
    {
     "name": "stdout",
     "output_type": "stream",
     "text": [
      "Done.\n",
      "Lyrics grabbed for The Price Of Living By Delinquent Ideals by Magrudergrind\n",
      "Searching for \"Built To Blast\" by Magrudergrind...\n"
     ]
    },
    {
     "name": "stderr",
     "output_type": "stream",
     "text": [
      "\r",
      "  2%|█▊                                                                           | 203/8465 [01:49<1:30:09,  1.53it/s]"
     ]
    },
    {
     "name": "stdout",
     "output_type": "stream",
     "text": [
      "Done.\n",
      "Lyrics grabbed for Built To Blast by Magrudergrind\n",
      "Searching for \"Lyrical Ammunition For Scene Warfare\" by Magrudergrind...\n"
     ]
    },
    {
     "name": "stderr",
     "output_type": "stream",
     "text": [
      "\r",
      "  2%|█▊                                                                           | 204/8465 [01:50<1:28:02,  1.56it/s]"
     ]
    },
    {
     "name": "stdout",
     "output_type": "stream",
     "text": [
      "Done.\n",
      "Lyrics grabbed for Lyrical Ammunition For Scene Warfare by Magrudergrind\n",
      "Searching for \"Rise And Fall Of Empires Past\" by Magrudergrind...\n"
     ]
    },
    {
     "name": "stderr",
     "output_type": "stream",
     "text": [
      "\r",
      "  2%|█▊                                                                           | 205/8465 [01:50<1:26:04,  1.60it/s]"
     ]
    },
    {
     "name": "stdout",
     "output_type": "stream",
     "text": [
      "Done.\n",
      "Lyrics grabbed for Rise And Fall Of Empires Past by Magrudergrind\n",
      "Searching for \"Heavier Bombing\" by Magrudergrind...\n"
     ]
    },
    {
     "name": "stderr",
     "output_type": "stream",
     "text": [
      "\r",
      "  2%|█▊                                                                           | 206/8465 [01:51<1:26:24,  1.59it/s]"
     ]
    },
    {
     "name": "stdout",
     "output_type": "stream",
     "text": [
      "Done.\n",
      "Lyrics grabbed for Heavier Bombing by Magrudergrind\n",
      "Searching for \"Martyrs Of The Shoah\" by Magrudergrind...\n"
     ]
    },
    {
     "name": "stderr",
     "output_type": "stream",
     "text": [
      "\r",
      "  2%|█▉                                                                           | 207/8465 [01:51<1:28:12,  1.56it/s]"
     ]
    },
    {
     "name": "stdout",
     "output_type": "stream",
     "text": [
      "Done.\n",
      "Lyrics grabbed for Martyrs Of The Shoah by Magrudergrind\n",
      "Searching for \"Untitled\" by Magrudergrind...\n"
     ]
    },
    {
     "name": "stderr",
     "output_type": "stream",
     "text": [
      "\r",
      "  2%|█▉                                                                           | 208/8465 [01:52<1:12:42,  1.89it/s]"
     ]
    },
    {
     "name": "stdout",
     "output_type": "stream",
     "text": [
      "No results found for: 'Untitled Magrudergrind'\n",
      "Could not find Untitled by Magrudergrind\n",
      "Searching for \"As the Dawn Breaks\" by Richard Hawley...\n"
     ]
    },
    {
     "name": "stderr",
     "output_type": "stream",
     "text": [
      "\r",
      "  2%|█▉                                                                           | 209/8465 [01:52<1:15:56,  1.81it/s]"
     ]
    },
    {
     "name": "stdout",
     "output_type": "stream",
     "text": [
      "Done.\n",
      "Lyrics grabbed for As the Dawn Breaks by Richard Hawley\n",
      "Searching for \"Open up Your Door\" by Richard Hawley...\n"
     ]
    },
    {
     "name": "stderr",
     "output_type": "stream",
     "text": [
      "\r",
      "  2%|█▉                                                                           | 210/8465 [01:53<1:21:05,  1.70it/s]"
     ]
    },
    {
     "name": "stdout",
     "output_type": "stream",
     "text": [
      "Done.\n",
      "Lyrics grabbed for Open up Your Door by Richard Hawley\n",
      "Searching for \"Ashes on the Fire\" by Richard Hawley...\n"
     ]
    },
    {
     "name": "stderr",
     "output_type": "stream",
     "text": [
      "\r",
      "  2%|█▉                                                                           | 211/8465 [01:54<1:22:48,  1.66it/s]"
     ]
    },
    {
     "name": "stdout",
     "output_type": "stream",
     "text": [
      "Done.\n",
      "Lyrics grabbed for Ashes on the Fire by Richard Hawley\n",
      "Searching for \"Remorse Code\" by Richard Hawley...\n"
     ]
    },
    {
     "name": "stderr",
     "output_type": "stream",
     "text": [
      "\r",
      "  3%|█▉                                                                           | 212/8465 [01:54<1:23:32,  1.65it/s]"
     ]
    },
    {
     "name": "stdout",
     "output_type": "stream",
     "text": [
      "Done.\n",
      "Lyrics grabbed for Remorse Code by Richard Hawley\n",
      "Searching for \"Don't Get Hung up in Your Soul\" by Richard Hawley...\n"
     ]
    },
    {
     "name": "stderr",
     "output_type": "stream",
     "text": [
      "\r",
      "  3%|█▉                                                                           | 213/8465 [01:55<1:23:23,  1.65it/s]"
     ]
    },
    {
     "name": "stdout",
     "output_type": "stream",
     "text": [
      "Done.\n",
      "Lyrics grabbed for Don't Get Hung up in Your Soul by Richard Hawley\n",
      "Searching for \"Soldier On\" by Richard Hawley...\n"
     ]
    },
    {
     "name": "stderr",
     "output_type": "stream",
     "text": [
      "\r",
      "  3%|█▉                                                                           | 214/8465 [01:55<1:23:05,  1.65it/s]"
     ]
    },
    {
     "name": "stdout",
     "output_type": "stream",
     "text": [
      "Done.\n",
      "Lyrics grabbed for Soldier On by Richard Hawley\n",
      "Searching for \"For Your Lover Give Some Time\" by Richard Hawley...\n"
     ]
    },
    {
     "name": "stderr",
     "output_type": "stream",
     "text": [
      "\r",
      "  3%|█▉                                                                           | 215/8465 [01:56<1:23:46,  1.64it/s]"
     ]
    },
    {
     "name": "stdout",
     "output_type": "stream",
     "text": [
      "Done.\n",
      "Lyrics grabbed for For Your Lover Give Some Time by Richard Hawley\n",
      "Searching for \"Don't You Cry\" by Richard Hawley...\n"
     ]
    },
    {
     "name": "stderr",
     "output_type": "stream",
     "text": [
      "\r",
      "  3%|█▉                                                                           | 216/8465 [01:57<1:23:15,  1.65it/s]"
     ]
    },
    {
     "name": "stdout",
     "output_type": "stream",
     "text": [
      "Done.\n",
      "Lyrics grabbed for Don't You Cry by Richard Hawley\n",
      "Searching for \"Bird's Nest\" by Jordaan Mason & The Horse Museum...\n"
     ]
    },
    {
     "name": "stderr",
     "output_type": "stream",
     "text": [
      "\r",
      "  3%|█▉                                                                           | 217/8465 [01:57<1:24:12,  1.63it/s]"
     ]
    },
    {
     "name": "stdout",
     "output_type": "stream",
     "text": [
      "Done.\n",
      "Lyrics grabbed for Bird's Nest by Jordaan Mason & The Horse Museum\n",
      "Searching for \"Organs For Oceans\" by Jordaan Mason & The Horse Museum...\n"
     ]
    },
    {
     "name": "stderr",
     "output_type": "stream",
     "text": [
      "\r",
      "  3%|█▉                                                                           | 218/8465 [01:58<1:26:11,  1.59it/s]"
     ]
    },
    {
     "name": "stdout",
     "output_type": "stream",
     "text": [
      "Done.\n",
      "Lyrics grabbed for Organs For Oceans by Jordaan Mason & The Horse Museum\n",
      "Searching for \"Avalanches\" by Jordaan Mason & The Horse Museum...\n"
     ]
    },
    {
     "name": "stderr",
     "output_type": "stream",
     "text": [
      "\r",
      "  3%|█▉                                                                           | 219/8465 [01:58<1:24:24,  1.63it/s]"
     ]
    },
    {
     "name": "stdout",
     "output_type": "stream",
     "text": [
      "Done.\n",
      "Lyrics grabbed for Avalanches by Jordaan Mason & The Horse Museum\n",
      "Searching for \"Racehorse: Get Married!\" by Jordaan Mason & The Horse Museum...\n"
     ]
    },
    {
     "name": "stderr",
     "output_type": "stream",
     "text": [
      "\r",
      "  3%|██                                                                           | 220/8465 [01:59<1:25:59,  1.60it/s]"
     ]
    },
    {
     "name": "stdout",
     "output_type": "stream",
     "text": [
      "Done.\n",
      "Lyrics grabbed for Racehorse: Get Married! by Jordaan Mason & The Horse Museum\n",
      "Searching for \"The Wrong Parts (Vivian Sisters Singing)\" by Jordaan Mason & The Horse Museum...\n"
     ]
    },
    {
     "name": "stderr",
     "output_type": "stream",
     "text": [
      "\r",
      "  3%|██                                                                           | 221/8465 [02:00<1:24:59,  1.62it/s]"
     ]
    },
    {
     "name": "stdout",
     "output_type": "stream",
     "text": [
      "Done.\n",
      "Lyrics grabbed for The Wrong Parts (Vivian Sisters Singing) by Jordaan Mason & The Horse Museum\n",
      "Searching for \"Prayer\" by Jordaan Mason & The Horse Museum...\n"
     ]
    },
    {
     "name": "stderr",
     "output_type": "stream",
     "text": [
      "\r",
      "  3%|██                                                                           | 222/8465 [02:00<1:27:15,  1.57it/s]"
     ]
    },
    {
     "name": "stdout",
     "output_type": "stream",
     "text": [
      "Done.\n",
      "Lyrics grabbed for Prayer by Jordaan Mason & The Horse Museum\n",
      "Searching for \"O Jarhead! O Wife!\" by Jordaan Mason & The Horse Museum...\n"
     ]
    },
    {
     "name": "stderr",
     "output_type": "stream",
     "text": [
      "\r",
      "  3%|██                                                                           | 223/8465 [02:01<1:26:44,  1.58it/s]"
     ]
    },
    {
     "name": "stdout",
     "output_type": "stream",
     "text": [
      "Done.\n",
      "Lyrics grabbed for O Jarhead! O Wife! by Jordaan Mason & The Horse Museum\n",
      "Searching for \"Hymn / Her\" by Jordaan Mason & The Horse Museum...\n"
     ]
    },
    {
     "name": "stderr",
     "output_type": "stream",
     "text": [
      "\r",
      "  3%|██                                                                           | 224/8465 [02:02<1:26:57,  1.58it/s]"
     ]
    },
    {
     "name": "stdout",
     "output_type": "stream",
     "text": [
      "Done.\n",
      "Lyrics grabbed for Hymn / Her by Jordaan Mason & The Horse Museum\n",
      "Searching for \"____ Is Water\" by Jordaan Mason & The Horse Museum...\n"
     ]
    },
    {
     "name": "stderr",
     "output_type": "stream",
     "text": [
      "\r",
      "  3%|██                                                                           | 225/8465 [02:02<1:23:24,  1.65it/s]"
     ]
    },
    {
     "name": "stdout",
     "output_type": "stream",
     "text": [
      "Done.\n",
      "Lyrics grabbed for ____ Is Water by Jordaan Mason & The Horse Museum\n",
      "Searching for \"(s)mother\" by Jordaan Mason & The Horse Museum...\n"
     ]
    },
    {
     "name": "stderr",
     "output_type": "stream",
     "text": [
      "\r",
      "  3%|██                                                                           | 226/8465 [02:03<1:21:36,  1.68it/s]"
     ]
    },
    {
     "name": "stdout",
     "output_type": "stream",
     "text": [
      "Done.\n",
      "Lyrics grabbed for (s)mother by Jordaan Mason & The Horse Museum\n",
      "Searching for \"Wild Dogs: Divorce!\" by Jordaan Mason & The Horse Museum...\n"
     ]
    },
    {
     "name": "stderr",
     "output_type": "stream",
     "text": [
      "\r",
      "  3%|██                                                                           | 227/8465 [02:03<1:19:48,  1.72it/s]"
     ]
    },
    {
     "name": "stdout",
     "output_type": "stream",
     "text": [
      "Done.\n",
      "Lyrics grabbed for Wild Dogs: Divorce! by Jordaan Mason & The Horse Museum\n",
      "Searching for \"After The Glandolinian War\" by Jordaan Mason & The Horse Museum...\n"
     ]
    },
    {
     "name": "stderr",
     "output_type": "stream",
     "text": [
      "\r",
      "  3%|██                                                                           | 228/8465 [02:04<1:07:10,  2.04it/s]"
     ]
    },
    {
     "name": "stdout",
     "output_type": "stream",
     "text": [
      "Specified song does not contain lyrics. Rejecting.\n",
      "Could not find After The Glandolinian War by Jordaan Mason & The Horse Museum\n",
      "Searching for \"Carpenter / Rebuild The Body Out Of Birds\" by Jordaan Mason & The Horse Museum...\n"
     ]
    },
    {
     "name": "stderr",
     "output_type": "stream",
     "text": [
      "\r",
      "  3%|██                                                                           | 229/8465 [02:04<1:11:12,  1.93it/s]"
     ]
    },
    {
     "name": "stdout",
     "output_type": "stream",
     "text": [
      "Done.\n",
      "Lyrics grabbed for Carpenter / Rebuild The Body Out Of Birds by Jordaan Mason & The Horse Museum\n",
      "Searching for \"1990 Was A Long Year And We Are All Out Of Hot Water\" by Jordaan Mason & The Horse Museum...\n"
     ]
    },
    {
     "name": "stderr",
     "output_type": "stream",
     "text": [
      "\r",
      "  3%|██                                                                           | 230/8465 [02:05<1:21:30,  1.68it/s]"
     ]
    },
    {
     "name": "stdout",
     "output_type": "stream",
     "text": [
      "Done.\n",
      "Lyrics grabbed for 1990 Was A Long Year And We Are All Out Of Hot Water by Jordaan Mason & The Horse Museum\n",
      "Searching for \"Forget And Not Slow Down\" by Relient K...\n"
     ]
    },
    {
     "name": "stderr",
     "output_type": "stream",
     "text": [
      "\r",
      "  3%|██                                                                           | 231/8465 [02:06<1:21:55,  1.67it/s]"
     ]
    },
    {
     "name": "stdout",
     "output_type": "stream",
     "text": [
      "Done.\n",
      "Lyrics grabbed for Forget And Not Slow Down by Relient K\n",
      "Searching for \"I Don't Need A Soul\" by Relient K...\n"
     ]
    },
    {
     "name": "stderr",
     "output_type": "stream",
     "text": [
      "\r",
      "  3%|██                                                                           | 232/8465 [02:07<1:40:16,  1.37it/s]"
     ]
    },
    {
     "name": "stdout",
     "output_type": "stream",
     "text": [
      "Done.\n",
      "Lyrics grabbed for I Don't Need A Soul by Relient K\n",
      "Searching for \"Candlelight\" by Relient K...\n"
     ]
    },
    {
     "name": "stderr",
     "output_type": "stream",
     "text": [
      "\r",
      "  3%|██                                                                           | 233/8465 [02:07<1:37:40,  1.40it/s]"
     ]
    },
    {
     "name": "stdout",
     "output_type": "stream",
     "text": [
      "Done.\n",
      "Lyrics grabbed for Candlelight by Relient K\n",
      "Searching for \"Flare\" by Relient K...\n"
     ]
    },
    {
     "name": "stderr",
     "output_type": "stream",
     "text": [
      "\r",
      "  3%|██▏                                                                          | 234/8465 [02:08<1:35:14,  1.44it/s]"
     ]
    },
    {
     "name": "stdout",
     "output_type": "stream",
     "text": [
      "Done.\n",
      "Lyrics grabbed for Flare by Relient K\n",
      "Searching for \"Part Of It\" by Relient K...\n"
     ]
    },
    {
     "name": "stderr",
     "output_type": "stream",
     "text": [
      "\r",
      "  3%|██▏                                                                          | 235/8465 [02:09<1:31:20,  1.50it/s]"
     ]
    },
    {
     "name": "stdout",
     "output_type": "stream",
     "text": [
      "Done.\n",
      "Lyrics grabbed for Part Of It by Relient K\n",
      "Searching for \"Outro\" by Relient K...\n"
     ]
    },
    {
     "name": "stderr",
     "output_type": "stream",
     "text": [
      "\r",
      "  3%|██▏                                                                          | 236/8465 [02:09<1:30:21,  1.52it/s]"
     ]
    },
    {
     "name": "stdout",
     "output_type": "stream",
     "text": [
      "Done.\n",
      "Lyrics grabbed for Outro by Relient K\n",
      "Searching for \"Therapy\" by Relient K...\n"
     ]
    },
    {
     "name": "stderr",
     "output_type": "stream",
     "text": [
      "\r",
      "  3%|██▏                                                                          | 237/8465 [02:10<1:29:35,  1.53it/s]"
     ]
    },
    {
     "name": "stdout",
     "output_type": "stream",
     "text": [
      "Done.\n",
      "Lyrics grabbed for Therapy by Relient K\n",
      "Searching for \"Over It\" by Relient K...\n"
     ]
    },
    {
     "name": "stderr",
     "output_type": "stream",
     "text": [
      "\r",
      "  3%|██▏                                                                          | 238/8465 [02:10<1:29:51,  1.53it/s]"
     ]
    },
    {
     "name": "stdout",
     "output_type": "stream",
     "text": [
      "Done.\n",
      "Lyrics grabbed for Over It by Relient K\n",
      "Searching for \"Sahara\" by Relient K...\n"
     ]
    },
    {
     "name": "stderr",
     "output_type": "stream",
     "text": [
      "\r",
      "  3%|██▏                                                                          | 239/8465 [02:11<1:28:58,  1.54it/s]"
     ]
    },
    {
     "name": "stdout",
     "output_type": "stream",
     "text": [
      "Done.\n",
      "Lyrics grabbed for Sahara by Relient K\n",
      "Searching for \"Oasis\" by Relient K...\n"
     ]
    },
    {
     "name": "stderr",
     "output_type": "stream",
     "text": [
      "\r",
      "  3%|██▏                                                                          | 240/8465 [02:12<1:30:40,  1.51it/s]"
     ]
    },
    {
     "name": "stdout",
     "output_type": "stream",
     "text": [
      "Done.\n",
      "Lyrics grabbed for Oasis by Relient K\n",
      "Searching for \"Savannah\" by Relient K...\n"
     ]
    },
    {
     "name": "stderr",
     "output_type": "stream",
     "text": [
      "\r",
      "  3%|██▏                                                                          | 241/8465 [02:12<1:28:32,  1.55it/s]"
     ]
    },
    {
     "name": "stdout",
     "output_type": "stream",
     "text": [
      "Done.\n",
      "Lyrics grabbed for Savannah by Relient K\n",
      "Searching for \"Baby\" by Relient K...\n"
     ]
    },
    {
     "name": "stderr",
     "output_type": "stream",
     "text": [
      "\r",
      "  3%|██▏                                                                          | 242/8465 [02:13<1:27:40,  1.56it/s]"
     ]
    },
    {
     "name": "stdout",
     "output_type": "stream",
     "text": [
      "Done.\n",
      "Lyrics grabbed for Baby by Relient K\n",
      "Searching for \"If You Believe Me\" by Relient K...\n"
     ]
    },
    {
     "name": "stderr",
     "output_type": "stream",
     "text": [
      "\r",
      "  3%|██▏                                                                          | 243/8465 [02:14<1:28:16,  1.55it/s]"
     ]
    },
    {
     "name": "stdout",
     "output_type": "stream",
     "text": [
      "Done.\n",
      "Lyrics grabbed for If You Believe Me by Relient K\n",
      "Searching for \"This Is The End\" by Relient K...\n"
     ]
    },
    {
     "name": "stderr",
     "output_type": "stream",
     "text": [
      "\r",
      "  3%|██▏                                                                          | 244/8465 [02:14<1:27:49,  1.56it/s]"
     ]
    },
    {
     "name": "stdout",
     "output_type": "stream",
     "text": [
      "Done.\n",
      "Lyrics grabbed for This Is The End by Relient K\n",
      "Searching for \"(If You Want It)\" by Relient K...\n"
     ]
    },
    {
     "name": "stderr",
     "output_type": "stream",
     "text": [
      "\r",
      "  3%|██▏                                                                          | 245/8465 [02:15<1:26:41,  1.58it/s]"
     ]
    },
    {
     "name": "stdout",
     "output_type": "stream",
     "text": [
      "Done.\n",
      "Lyrics grabbed for (If You Want It) by Relient K\n",
      "Searching for \"Sex With a Stranger\" by Admiral Angry...\n"
     ]
    },
    {
     "name": "stderr",
     "output_type": "stream",
     "text": [
      "\r",
      "  3%|██▏                                                                          | 246/8465 [02:16<1:26:12,  1.59it/s]"
     ]
    },
    {
     "name": "stdout",
     "output_type": "stream",
     "text": [
      "Done.\n",
      "Lyrics grabbed for Sex With a Stranger by Admiral Angry\n",
      "Searching for \"Circling the Drain\" by Admiral Angry...\n"
     ]
    },
    {
     "name": "stderr",
     "output_type": "stream",
     "text": [
      "\r",
      "  3%|██▏                                                                          | 247/8465 [02:16<1:24:27,  1.62it/s]"
     ]
    },
    {
     "name": "stdout",
     "output_type": "stream",
     "text": [
      "Done.\n",
      "Lyrics grabbed for Circling the Drain by Admiral Angry\n",
      "Searching for \"Kill Yourself\" by Admiral Angry...\n"
     ]
    },
    {
     "name": "stderr",
     "output_type": "stream",
     "text": [
      "\r",
      "  3%|██▎                                                                          | 248/8465 [02:17<1:24:59,  1.61it/s]"
     ]
    },
    {
     "name": "stdout",
     "output_type": "stream",
     "text": [
      "Done.\n",
      "Lyrics grabbed for Kill Yourself by Admiral Angry\n",
      "Searching for \"Plastic Bath\" by Admiral Angry...\n"
     ]
    },
    {
     "name": "stderr",
     "output_type": "stream",
     "text": [
      "\r",
      "  3%|██▎                                                                          | 249/8465 [02:17<1:24:21,  1.62it/s]"
     ]
    },
    {
     "name": "stdout",
     "output_type": "stream",
     "text": [
      "Done.\n",
      "Lyrics grabbed for Plastic Bath by Admiral Angry\n",
      "Searching for \"Blow Down\" by Admiral Angry...\n"
     ]
    },
    {
     "name": "stderr",
     "output_type": "stream",
     "text": [
      "\r",
      "  3%|██▎                                                                          | 250/8465 [02:18<1:30:04,  1.52it/s]"
     ]
    },
    {
     "name": "stdout",
     "output_type": "stream",
     "text": [
      "Done.\n",
      "Lyrics grabbed for Blow Down by Admiral Angry\n",
      "Searching for \"Android\" by Admiral Angry...\n"
     ]
    },
    {
     "name": "stderr",
     "output_type": "stream",
     "text": [
      "\r",
      "  3%|██▎                                                                          | 251/8465 [02:19<1:28:48,  1.54it/s]"
     ]
    },
    {
     "name": "stdout",
     "output_type": "stream",
     "text": [
      "Done.\n",
      "Lyrics grabbed for Android by Admiral Angry\n",
      "Searching for \"Specimen On\" by Admiral Angry...\n"
     ]
    },
    {
     "name": "stderr",
     "output_type": "stream",
     "text": [
      "\r",
      "  3%|██▎                                                                          | 252/8465 [02:19<1:27:01,  1.57it/s]"
     ]
    },
    {
     "name": "stdout",
     "output_type": "stream",
     "text": [
      "Done.\n",
      "Lyrics grabbed for Specimen On by Admiral Angry\n",
      "Searching for \"Bug Vomit\" by Admiral Angry...\n"
     ]
    },
    {
     "name": "stderr",
     "output_type": "stream",
     "text": [
      "\r",
      "  3%|██▎                                                                          | 253/8465 [02:20<1:24:37,  1.62it/s]"
     ]
    },
    {
     "name": "stdout",
     "output_type": "stream",
     "text": [
      "Done.\n",
      "Lyrics grabbed for Bug Vomit by Admiral Angry\n",
      "Searching for \"The Illusion of Strength\" by Admiral Angry...\n"
     ]
    },
    {
     "name": "stderr",
     "output_type": "stream",
     "text": [
      "\r",
      "  3%|██▎                                                                          | 254/8465 [02:21<1:25:38,  1.60it/s]"
     ]
    },
    {
     "name": "stdout",
     "output_type": "stream",
     "text": [
      "Done.\n",
      "Lyrics grabbed for The Illusion of Strength by Admiral Angry\n",
      "Searching for \"Hyperactive\" by Riverside...\n"
     ]
    },
    {
     "name": "stderr",
     "output_type": "stream",
     "text": [
      "\r",
      "  3%|██▎                                                                          | 255/8465 [02:21<1:27:23,  1.57it/s]"
     ]
    },
    {
     "name": "stdout",
     "output_type": "stream",
     "text": [
      "Done.\n",
      "Lyrics grabbed for Hyperactive by Riverside\n",
      "Searching for \"Driven to Destruction\" by Riverside...\n"
     ]
    },
    {
     "name": "stderr",
     "output_type": "stream",
     "text": [
      "\r",
      "  3%|██▎                                                                          | 256/8465 [02:22<1:25:26,  1.60it/s]"
     ]
    },
    {
     "name": "stdout",
     "output_type": "stream",
     "text": [
      "Done.\n",
      "Lyrics grabbed for Driven to Destruction by Riverside\n",
      "Searching for \"Egoist Hedonist\" by Riverside...\n"
     ]
    },
    {
     "name": "stderr",
     "output_type": "stream",
     "text": [
      "\r",
      "  3%|██▎                                                                          | 257/8465 [02:22<1:24:14,  1.62it/s]"
     ]
    },
    {
     "name": "stdout",
     "output_type": "stream",
     "text": [
      "Done.\n",
      "Lyrics grabbed for Egoist Hedonist by Riverside\n",
      "Searching for \"Left Out\" by Riverside...\n"
     ]
    },
    {
     "name": "stderr",
     "output_type": "stream",
     "text": [
      "\r",
      "  3%|██▎                                                                          | 258/8465 [02:23<1:24:41,  1.62it/s]"
     ]
    },
    {
     "name": "stdout",
     "output_type": "stream",
     "text": [
      "Done.\n",
      "Lyrics grabbed for Left Out by Riverside\n",
      "Searching for \"Hybrid Times\" by Riverside...\n"
     ]
    },
    {
     "name": "stderr",
     "output_type": "stream",
     "text": [
      "\r",
      "  3%|██▎                                                                          | 259/8465 [02:24<1:23:54,  1.63it/s]"
     ]
    },
    {
     "name": "stdout",
     "output_type": "stream",
     "text": [
      "Done.\n",
      "Lyrics grabbed for Hybrid Times by Riverside\n",
      "Searching for \"Evening Star\" by Big Big Train...\n"
     ]
    },
    {
     "name": "stderr",
     "output_type": "stream",
     "text": [
      "\r",
      "  3%|██▎                                                                          | 260/8465 [02:24<1:12:05,  1.90it/s]"
     ]
    },
    {
     "name": "stdout",
     "output_type": "stream",
     "text": [
      "Specified song does not contain lyrics. Rejecting.\n",
      "Could not find Evening Star by Big Big Train\n",
      "Searching for \"Master James of St George\" by Big Big Train...\n"
     ]
    },
    {
     "name": "stderr",
     "output_type": "stream",
     "text": [
      "\r",
      "  3%|██▎                                                                          | 261/8465 [02:25<1:16:18,  1.79it/s]"
     ]
    },
    {
     "name": "stdout",
     "output_type": "stream",
     "text": [
      "Done.\n",
      "Lyrics grabbed for Master James of St George by Big Big Train\n",
      "Searching for \"Victorian Brickwork\" by Big Big Train...\n"
     ]
    },
    {
     "name": "stderr",
     "output_type": "stream",
     "text": [
      "\r",
      "  3%|██▍                                                                          | 262/8465 [02:25<1:21:19,  1.68it/s]"
     ]
    },
    {
     "name": "stdout",
     "output_type": "stream",
     "text": [
      "Done.\n",
      "Lyrics grabbed for Victorian Brickwork by Big Big Train\n",
      "Searching for \"Last Train\" by Big Big Train...\n"
     ]
    },
    {
     "name": "stderr",
     "output_type": "stream",
     "text": [
      "\r",
      "  3%|██▍                                                                          | 263/8465 [02:26<1:22:08,  1.66it/s]"
     ]
    },
    {
     "name": "stdout",
     "output_type": "stream",
     "text": [
      "Done.\n",
      "Lyrics grabbed for Last Train by Big Big Train\n",
      "Searching for \"Winchester Diver\" by Big Big Train...\n"
     ]
    },
    {
     "name": "stderr",
     "output_type": "stream",
     "text": [
      "\r",
      "  3%|██▍                                                                          | 264/8465 [02:27<1:22:08,  1.66it/s]"
     ]
    },
    {
     "name": "stdout",
     "output_type": "stream",
     "text": [
      "Done.\n",
      "Lyrics grabbed for Winchester Diver by Big Big Train\n",
      "Searching for \"The Underfall Yard\" by Big Big Train...\n"
     ]
    },
    {
     "name": "stderr",
     "output_type": "stream",
     "text": [
      "\r",
      "  3%|██▍                                                                          | 265/8465 [02:27<1:24:00,  1.63it/s]"
     ]
    },
    {
     "name": "stdout",
     "output_type": "stream",
     "text": [
      "Done.\n",
      "Lyrics grabbed for The Underfall Yard by Big Big Train\n",
      "Searching for \"Songs from the Shoreline\" by Big Big Train...\n"
     ]
    },
    {
     "name": "stderr",
     "output_type": "stream",
     "text": [
      "\r",
      "  3%|██▍                                                                          | 266/8465 [02:28<1:23:08,  1.64it/s]"
     ]
    },
    {
     "name": "stdout",
     "output_type": "stream",
     "text": [
      "Done.\n",
      "Lyrics grabbed for Songs from the Shoreline by Big Big Train\n",
      "Searching for \"Prelude to the Underfall Yard\" by Big Big Train...\n"
     ]
    },
    {
     "name": "stderr",
     "output_type": "stream",
     "text": [
      "\r",
      "  3%|██▍                                                                          | 267/8465 [02:28<1:09:41,  1.96it/s]"
     ]
    },
    {
     "name": "stdout",
     "output_type": "stream",
     "text": [
      "Specified song does not contain lyrics. Rejecting.\n",
      "Could not find Prelude to the Underfall Yard by Big Big Train\n",
      "Searching for \"The Underfall Yard (2020)\" by Big Big Train...\n"
     ]
    },
    {
     "name": "stderr",
     "output_type": "stream",
     "text": [
      "\r",
      "  3%|██▍                                                                          | 268/8465 [02:29<1:13:14,  1.87it/s]"
     ]
    },
    {
     "name": "stdout",
     "output_type": "stream",
     "text": [
      "Done.\n",
      "Lyrics grabbed for The Underfall Yard (2020) by Big Big Train\n",
      "Searching for \"Brew and Burgh\" by Big Big Train...\n"
     ]
    },
    {
     "name": "stderr",
     "output_type": "stream",
     "text": [
      "\r",
      "  3%|██▍                                                                          | 269/8465 [02:29<1:16:03,  1.80it/s]"
     ]
    },
    {
     "name": "stdout",
     "output_type": "stream",
     "text": [
      "Done.\n",
      "Lyrics grabbed for Brew and Burgh by Big Big Train\n",
      "Searching for \"Passing\" by Leprous...\n"
     ]
    },
    {
     "name": "stderr",
     "output_type": "stream",
     "text": [
      "\r",
      "  3%|██▍                                                                          | 270/8465 [02:30<1:22:08,  1.66it/s]"
     ]
    },
    {
     "name": "stdout",
     "output_type": "stream",
     "text": [
      "Done.\n",
      "Lyrics grabbed for Passing by Leprous\n",
      "Searching for \"Phantom Pain\" by Leprous...\n"
     ]
    },
    {
     "name": "stderr",
     "output_type": "stream",
     "text": [
      "\r",
      "  3%|██▍                                                                          | 271/8465 [02:31<1:23:42,  1.63it/s]"
     ]
    },
    {
     "name": "stdout",
     "output_type": "stream",
     "text": [
      "Done.\n",
      "Lyrics grabbed for Phantom Pain by Leprous\n",
      "Searching for \"Dare You\" by Leprous...\n"
     ]
    },
    {
     "name": "stderr",
     "output_type": "stream",
     "text": [
      "\r",
      "  3%|██▍                                                                          | 272/8465 [02:31<1:22:21,  1.66it/s]"
     ]
    },
    {
     "name": "stdout",
     "output_type": "stream",
     "text": [
      "Done.\n",
      "Lyrics grabbed for Dare You by Leprous\n",
      "Searching for \"Fate\" by Leprous...\n"
     ]
    },
    {
     "name": "stderr",
     "output_type": "stream",
     "text": [
      "\r",
      "  3%|██▍                                                                          | 273/8465 [02:32<1:35:36,  1.43it/s]"
     ]
    },
    {
     "name": "stdout",
     "output_type": "stream",
     "text": [
      "Done.\n",
      "Lyrics grabbed for Fate by Leprous\n",
      "Searching for \"He Will Kill Again\" by Leprous...\n"
     ]
    },
    {
     "name": "stderr",
     "output_type": "stream",
     "text": [
      "\r",
      "  3%|██▍                                                                          | 274/8465 [02:33<1:31:50,  1.49it/s]"
     ]
    },
    {
     "name": "stdout",
     "output_type": "stream",
     "text": [
      "Done.\n",
      "Lyrics grabbed for He Will Kill Again by Leprous\n",
      "Searching for \"Not Even A Name\" by Leprous...\n"
     ]
    },
    {
     "name": "stderr",
     "output_type": "stream",
     "text": [
      "\r",
      "  3%|██▌                                                                          | 275/8465 [02:33<1:29:38,  1.52it/s]"
     ]
    },
    {
     "name": "stdout",
     "output_type": "stream",
     "text": [
      "Done.\n",
      "Lyrics grabbed for Not Even A Name by Leprous\n",
      "Searching for \"Tall Poppy Syndrome\" by Leprous...\n"
     ]
    },
    {
     "name": "stderr",
     "output_type": "stream",
     "text": [
      "\r",
      "  3%|██▌                                                                          | 276/8465 [02:34<1:29:37,  1.52it/s]"
     ]
    },
    {
     "name": "stdout",
     "output_type": "stream",
     "text": [
      "Done.\n",
      "Lyrics grabbed for Tall Poppy Syndrome by Leprous\n",
      "Searching for \"White\" by Leprous...\n"
     ]
    },
    {
     "name": "stderr",
     "output_type": "stream",
     "text": [
      "\r",
      "  3%|██▌                                                                          | 277/8465 [02:35<1:29:40,  1.52it/s]"
     ]
    },
    {
     "name": "stdout",
     "output_type": "stream",
     "text": [
      "Done.\n",
      "Lyrics grabbed for White by Leprous\n",
      "Searching for \"In My Dreams (Cudder Anthem)\" by Kid Cudi...\n"
     ]
    },
    {
     "name": "stderr",
     "output_type": "stream",
     "text": [
      "\r",
      "  3%|██▌                                                                          | 278/8465 [02:35<1:29:47,  1.52it/s]"
     ]
    },
    {
     "name": "stdout",
     "output_type": "stream",
     "text": [
      "Done.\n",
      "Lyrics grabbed for In My Dreams (Cudder Anthem) by Kid Cudi\n",
      "Searching for \"Soundtrack 2 My Life\" by Kid Cudi...\n"
     ]
    },
    {
     "name": "stderr",
     "output_type": "stream",
     "text": [
      "\r",
      "  3%|██▌                                                                          | 279/8465 [02:36<1:31:12,  1.50it/s]"
     ]
    },
    {
     "name": "stdout",
     "output_type": "stream",
     "text": [
      "Done.\n",
      "Lyrics grabbed for Soundtrack 2 My Life by Kid Cudi\n",
      "Searching for \"Simple As...\" by Kid Cudi...\n"
     ]
    },
    {
     "name": "stderr",
     "output_type": "stream",
     "text": [
      "\r",
      "  3%|██▌                                                                          | 280/8465 [02:37<1:29:48,  1.52it/s]"
     ]
    },
    {
     "name": "stdout",
     "output_type": "stream",
     "text": [
      "Done.\n",
      "Lyrics grabbed for Simple As... by Kid Cudi\n",
      "Searching for \"Solo Dolo (Nightmare)\" by Kid Cudi...\n"
     ]
    },
    {
     "name": "stderr",
     "output_type": "stream",
     "text": [
      "\r",
      "  3%|██▌                                                                          | 281/8465 [02:39<2:38:38,  1.16s/it]"
     ]
    },
    {
     "name": "stdout",
     "output_type": "stream",
     "text": [
      "Done.\n",
      "Lyrics grabbed for Solo Dolo (Nightmare) by Kid Cudi\n",
      "Searching for \"Heart Of A Lion (Kid Cudi Theme Music)\" by Kid Cudi...\n"
     ]
    },
    {
     "name": "stderr",
     "output_type": "stream",
     "text": [
      "\r",
      "  3%|██▌                                                                          | 282/8465 [02:40<2:15:58,  1.00it/s]"
     ]
    },
    {
     "name": "stdout",
     "output_type": "stream",
     "text": [
      "Done.\n",
      "Lyrics grabbed for Heart Of A Lion (Kid Cudi Theme Music) by Kid Cudi\n",
      "Searching for \"My World\" by Kid Cudi...\n"
     ]
    },
    {
     "name": "stderr",
     "output_type": "stream",
     "text": [
      "\r",
      "  3%|██▌                                                                          | 283/8465 [02:40<2:01:47,  1.12it/s]"
     ]
    },
    {
     "name": "stdout",
     "output_type": "stream",
     "text": [
      "Done.\n",
      "Lyrics grabbed for My World by Kid Cudi\n",
      "Searching for \"Day 'N' Nite (nightmare)\" by Kid Cudi...\n"
     ]
    },
    {
     "name": "stderr",
     "output_type": "stream",
     "text": [
      "\r",
      "  3%|██▌                                                                          | 284/8465 [02:44<4:08:57,  1.83s/it]"
     ]
    },
    {
     "name": "stdout",
     "output_type": "stream",
     "text": [
      "Done.\n",
      "Lyrics grabbed for Day 'N' Nite (nightmare) by Kid Cudi\n",
      "Searching for \"Sky Might Fall\" by Kid Cudi...\n"
     ]
    },
    {
     "name": "stderr",
     "output_type": "stream",
     "text": [
      "\r",
      "  3%|██▌                                                                          | 285/8465 [02:45<3:20:03,  1.47s/it]"
     ]
    },
    {
     "name": "stdout",
     "output_type": "stream",
     "text": [
      "Done.\n",
      "Lyrics grabbed for Sky Might Fall by Kid Cudi\n",
      "Searching for \"Enter Galactic (Love Connection Part I)\" by Kid Cudi...\n"
     ]
    },
    {
     "name": "stderr",
     "output_type": "stream",
     "text": [
      "\r",
      "  3%|██▌                                                                          | 286/8465 [02:46<2:52:06,  1.26s/it]"
     ]
    },
    {
     "name": "stdout",
     "output_type": "stream",
     "text": [
      "Done.\n",
      "Lyrics grabbed for Enter Galactic (Love Connection Part I) by Kid Cudi\n",
      "Searching for \"Alive (Nightmare)\" by Kid Cudi...\n"
     ]
    },
    {
     "name": "stderr",
     "output_type": "stream",
     "text": [
      "\r",
      "  3%|██▌                                                                          | 287/8465 [02:46<2:11:32,  1.04it/s]"
     ]
    },
    {
     "name": "stdout",
     "output_type": "stream",
     "text": [
      "Specified song does not contain lyrics. Rejecting.\n",
      "Could not find Alive (Nightmare) by Kid Cudi\n",
      "Searching for \"Cudi Zone\" by Kid Cudi...\n"
     ]
    },
    {
     "name": "stderr",
     "output_type": "stream",
     "text": [
      "\r",
      "  3%|██▌                                                                          | 288/8465 [02:47<1:58:09,  1.15it/s]"
     ]
    },
    {
     "name": "stdout",
     "output_type": "stream",
     "text": [
      "Done.\n",
      "Lyrics grabbed for Cudi Zone by Kid Cudi\n",
      "Searching for \"Make Her Say\" by Kid Cudi...\n"
     ]
    },
    {
     "name": "stderr",
     "output_type": "stream",
     "text": [
      "\r",
      "  3%|██▋                                                                          | 289/8465 [02:47<1:48:54,  1.25it/s]"
     ]
    },
    {
     "name": "stdout",
     "output_type": "stream",
     "text": [
      "Done.\n",
      "Lyrics grabbed for Make Her Say by Kid Cudi\n",
      "Searching for \"Pursuit Of Happiness (Nightmare)\" by Kid Cudi...\n"
     ]
    },
    {
     "name": "stderr",
     "output_type": "stream",
     "text": [
      "\r",
      "  3%|██▋                                                                          | 290/8465 [02:48<1:46:57,  1.27it/s]"
     ]
    },
    {
     "name": "stdout",
     "output_type": "stream",
     "text": [
      "Done.\n",
      "Lyrics grabbed for Pursuit Of Happiness (Nightmare) by Kid Cudi\n",
      "Searching for \"Hyyerr\" by Kid Cudi...\n"
     ]
    },
    {
     "name": "stderr",
     "output_type": "stream",
     "text": [
      "\r",
      "  3%|██▋                                                                          | 291/8465 [02:49<1:41:53,  1.34it/s]"
     ]
    },
    {
     "name": "stdout",
     "output_type": "stream",
     "text": [
      "Done.\n",
      "Lyrics grabbed for Hyyerr by Kid Cudi\n",
      "Searching for \"Up Up & Away\" by Kid Cudi...\n"
     ]
    },
    {
     "name": "stderr",
     "output_type": "stream",
     "text": [
      "\r",
      "  3%|██▋                                                                          | 292/8465 [02:49<1:38:26,  1.38it/s]"
     ]
    },
    {
     "name": "stdout",
     "output_type": "stream",
     "text": [
      "Done.\n",
      "Lyrics grabbed for Up Up & Away by Kid Cudi\n",
      "Searching for \"Man On The Moon\" by Kid Cudi...\n"
     ]
    },
    {
     "name": "stderr",
     "output_type": "stream",
     "text": [
      "\r",
      "  3%|██▋                                                                          | 293/8465 [02:50<1:33:56,  1.45it/s]"
     ]
    },
    {
     "name": "stdout",
     "output_type": "stream",
     "text": [
      "Done.\n",
      "Lyrics grabbed for Man On The Moon by Kid Cudi\n",
      "Searching for \"T.G.I.F.\" by Kid Cudi...\n"
     ]
    },
    {
     "name": "stderr",
     "output_type": "stream",
     "text": [
      "\r",
      "  3%|██▋                                                                          | 294/8465 [02:51<1:32:02,  1.48it/s]"
     ]
    },
    {
     "name": "stdout",
     "output_type": "stream",
     "text": [
      "Done.\n",
      "Lyrics grabbed for T.G.I.F. by Kid Cudi\n",
      "Searching for \"Is There Any Love\" by Kid Cudi...\n"
     ]
    },
    {
     "name": "stderr",
     "output_type": "stream",
     "text": [
      "\r",
      "  3%|██▋                                                                          | 295/8465 [02:51<1:30:24,  1.51it/s]"
     ]
    },
    {
     "name": "stdout",
     "output_type": "stream",
     "text": [
      "Done.\n",
      "Lyrics grabbed for Is There Any Love by Kid Cudi\n",
      "Searching for \"Simple Boy\" by Karnivool...\n"
     ]
    },
    {
     "name": "stderr",
     "output_type": "stream",
     "text": [
      "\r",
      "  3%|██▋                                                                          | 296/8465 [02:52<1:29:49,  1.52it/s]"
     ]
    },
    {
     "name": "stdout",
     "output_type": "stream",
     "text": [
      "Done.\n",
      "Lyrics grabbed for Simple Boy by Karnivool\n",
      "Searching for \"Goliath\" by Karnivool...\n"
     ]
    },
    {
     "name": "stderr",
     "output_type": "stream",
     "text": [
      "\r",
      "  4%|██▋                                                                          | 297/8465 [02:52<1:28:56,  1.53it/s]"
     ]
    },
    {
     "name": "stdout",
     "output_type": "stream",
     "text": [
      "Done.\n",
      "Lyrics grabbed for Goliath by Karnivool\n",
      "Searching for \"New Day\" by Karnivool...\n"
     ]
    },
    {
     "name": "stderr",
     "output_type": "stream",
     "text": [
      "\r",
      "  4%|██▋                                                                          | 298/8465 [02:53<1:26:42,  1.57it/s]"
     ]
    },
    {
     "name": "stdout",
     "output_type": "stream",
     "text": [
      "Done.\n",
      "Lyrics grabbed for New Day by Karnivool\n",
      "Searching for \"Set Fire to the Hive\" by Karnivool...\n"
     ]
    },
    {
     "name": "stderr",
     "output_type": "stream",
     "text": [
      "\r",
      "  4%|██▋                                                                          | 299/8465 [02:54<1:25:20,  1.59it/s]"
     ]
    },
    {
     "name": "stdout",
     "output_type": "stream",
     "text": [
      "Done.\n",
      "Lyrics grabbed for Set Fire to the Hive by Karnivool\n",
      "Searching for \"Umbra\" by Karnivool...\n"
     ]
    },
    {
     "name": "stderr",
     "output_type": "stream",
     "text": [
      "\r",
      "  4%|██▋                                                                          | 300/8465 [02:54<1:26:49,  1.57it/s]"
     ]
    },
    {
     "name": "stdout",
     "output_type": "stream",
     "text": [
      "Done.\n",
      "Lyrics grabbed for Umbra by Karnivool\n",
      "Searching for \"All I Know\" by Karnivool...\n"
     ]
    },
    {
     "name": "stderr",
     "output_type": "stream",
     "text": [
      "\r",
      "  4%|██▋                                                                          | 301/8465 [02:55<1:26:19,  1.58it/s]"
     ]
    },
    {
     "name": "stdout",
     "output_type": "stream",
     "text": [
      "Done.\n",
      "Lyrics grabbed for All I Know by Karnivool\n",
      "Searching for \"The Medicine Wears Off\" by Karnivool...\n"
     ]
    },
    {
     "name": "stderr",
     "output_type": "stream",
     "text": [
      "\r",
      "  4%|██▋                                                                          | 302/8465 [02:56<1:25:09,  1.60it/s]"
     ]
    },
    {
     "name": "stdout",
     "output_type": "stream",
     "text": [
      "Done.\n",
      "Lyrics grabbed for The Medicine Wears Off by Karnivool\n",
      "Searching for \"The Caudal Lure\" by Karnivool...\n"
     ]
    },
    {
     "name": "stderr",
     "output_type": "stream",
     "text": [
      "\r",
      "  4%|██▊                                                                          | 303/8465 [02:56<1:26:15,  1.58it/s]"
     ]
    },
    {
     "name": "stdout",
     "output_type": "stream",
     "text": [
      "Done.\n",
      "Lyrics grabbed for The Caudal Lure by Karnivool\n",
      "Searching for \"Illumine\" by Karnivool...\n"
     ]
    },
    {
     "name": "stderr",
     "output_type": "stream",
     "text": [
      "\r",
      "  4%|██▊                                                                          | 304/8465 [02:57<1:26:36,  1.57it/s]"
     ]
    },
    {
     "name": "stdout",
     "output_type": "stream",
     "text": [
      "Done.\n",
      "Lyrics grabbed for Illumine by Karnivool\n",
      "Searching for \"Deadman\" by Karnivool...\n"
     ]
    },
    {
     "name": "stderr",
     "output_type": "stream",
     "text": [
      "\r",
      "  4%|██▊                                                                          | 305/8465 [02:58<1:26:52,  1.57it/s]"
     ]
    },
    {
     "name": "stdout",
     "output_type": "stream",
     "text": [
      "Done.\n",
      "Lyrics grabbed for Deadman by Karnivool\n",
      "Searching for \"Change\" by Karnivool...\n"
     ]
    },
    {
     "name": "stderr",
     "output_type": "stream",
     "text": [
      "\r",
      "  4%|██▊                                                                          | 306/8465 [02:58<1:26:04,  1.58it/s]"
     ]
    },
    {
     "name": "stdout",
     "output_type": "stream",
     "text": [
      "Done.\n",
      "Lyrics grabbed for Change by Karnivool\n",
      "Searching for \"Roquefort (with Empire Horns)\" by Karnivool...\n"
     ]
    },
    {
     "name": "stderr",
     "output_type": "stream",
     "text": [
      "\r",
      "  4%|██▊                                                                          | 307/8465 [02:59<1:24:51,  1.60it/s]"
     ]
    },
    {
     "name": "stdout",
     "output_type": "stream",
     "text": [
      "Done.\n",
      "Lyrics grabbed for Roquefort (with Empire Horns) by Karnivool\n",
      "Searching for \"Szervetlen\" by Thy Catafalque...\n"
     ]
    },
    {
     "name": "stderr",
     "output_type": "stream",
     "text": [
      "\r",
      "  4%|██▊                                                                          | 308/8465 [02:59<1:25:18,  1.59it/s]"
     ]
    },
    {
     "name": "stdout",
     "output_type": "stream",
     "text": [
      "Done.\n",
      "Lyrics grabbed for Szervetlen by Thy Catafalque\n",
      "Searching for \"Molekuláris Gépezetek\" by Thy Catafalque...\n"
     ]
    },
    {
     "name": "stderr",
     "output_type": "stream",
     "text": [
      "\r",
      "  4%|██▊                                                                          | 309/8465 [03:00<1:25:20,  1.59it/s]"
     ]
    },
    {
     "name": "stdout",
     "output_type": "stream",
     "text": [
      "Done.\n",
      "Lyrics grabbed for Molekuláris Gépezetek by Thy Catafalque\n",
      "Searching for \"Köd Utánam\" by Thy Catafalque...\n"
     ]
    },
    {
     "name": "stderr",
     "output_type": "stream",
     "text": [
      "\r",
      "  4%|██▊                                                                          | 310/8465 [03:01<1:27:04,  1.56it/s]"
     ]
    },
    {
     "name": "stdout",
     "output_type": "stream",
     "text": [
      "Done.\n",
      "Lyrics grabbed for Köd Utánam by Thy Catafalque\n",
      "Searching for \"Űrhajók Makón\" by Thy Catafalque...\n"
     ]
    },
    {
     "name": "stderr",
     "output_type": "stream",
     "text": [
      "\r",
      "  4%|██▊                                                                          | 311/8465 [03:01<1:24:44,  1.60it/s]"
     ]
    },
    {
     "name": "stdout",
     "output_type": "stream",
     "text": [
      "Done.\n",
      "Lyrics grabbed for Űrhajók Makón by Thy Catafalque\n",
      "Searching for \"Piroshátú\" by Thy Catafalque...\n"
     ]
    },
    {
     "name": "stderr",
     "output_type": "stream",
     "text": [
      "\r",
      "  4%|██▊                                                                          | 312/8465 [03:02<1:10:08,  1.94it/s]"
     ]
    },
    {
     "name": "stdout",
     "output_type": "stream",
     "text": [
      "Specified song does not contain lyrics. Rejecting.\n",
      "Could not find Piroshátú by Thy Catafalque\n",
      "Searching for \"Esőlámpás\" by Thy Catafalque...\n"
     ]
    },
    {
     "name": "stderr",
     "output_type": "stream",
     "text": [
      "\r",
      "  4%|██▊                                                                          | 313/8465 [03:02<1:14:43,  1.82it/s]"
     ]
    },
    {
     "name": "stdout",
     "output_type": "stream",
     "text": [
      "Done.\n",
      "Lyrics grabbed for Esőlámpás by Thy Catafalque\n",
      "Searching for \"Kabócák, Bodobácsok\" by Thy Catafalque...\n"
     ]
    },
    {
     "name": "stderr",
     "output_type": "stream",
     "text": [
      "\r",
      "  4%|██▊                                                                          | 314/8465 [03:03<1:17:32,  1.75it/s]"
     ]
    },
    {
     "name": "stdout",
     "output_type": "stream",
     "text": [
      "Done.\n",
      "Lyrics grabbed for Kabócák, Bodobácsok by Thy Catafalque\n",
      "Searching for \"Őszi Varázslók\" by Thy Catafalque...\n"
     ]
    },
    {
     "name": "stderr",
     "output_type": "stream",
     "text": [
      "\r",
      "  4%|██▊                                                                          | 315/8465 [03:03<1:21:07,  1.67it/s]"
     ]
    },
    {
     "name": "stdout",
     "output_type": "stream",
     "text": [
      "Done.\n",
      "Lyrics grabbed for Őszi Varázslók by Thy Catafalque\n",
      "Searching for \"Fehér Berek\" by Thy Catafalque...\n"
     ]
    },
    {
     "name": "stderr",
     "output_type": "stream",
     "text": [
      "\r",
      "  4%|██▊                                                                          | 316/8465 [03:04<1:21:23,  1.67it/s]"
     ]
    },
    {
     "name": "stdout",
     "output_type": "stream",
     "text": [
      "Done.\n",
      "Lyrics grabbed for Fehér Berek by Thy Catafalque\n",
      "Searching for \"Sampo\" by Amorphis...\n"
     ]
    },
    {
     "name": "stderr",
     "output_type": "stream",
     "text": [
      "\r",
      "  4%|██▉                                                                          | 317/8465 [03:05<1:24:31,  1.61it/s]"
     ]
    },
    {
     "name": "stdout",
     "output_type": "stream",
     "text": [
      "Done.\n",
      "Lyrics grabbed for Sampo by Amorphis\n",
      "Searching for \"Silver Bride\" by Amorphis...\n"
     ]
    },
    {
     "name": "stderr",
     "output_type": "stream",
     "text": [
      "\r",
      "  4%|██▉                                                                          | 318/8465 [03:05<1:25:04,  1.60it/s]"
     ]
    },
    {
     "name": "stdout",
     "output_type": "stream",
     "text": [
      "Done.\n",
      "Lyrics grabbed for Silver Bride by Amorphis\n",
      "Searching for \"From The Heaven Of My Heart\" by Amorphis...\n"
     ]
    },
    {
     "name": "stderr",
     "output_type": "stream",
     "text": [
      "\r",
      "  4%|██▉                                                                          | 319/8465 [03:06<1:24:25,  1.61it/s]"
     ]
    },
    {
     "name": "stdout",
     "output_type": "stream",
     "text": [
      "Done.\n",
      "Lyrics grabbed for From The Heaven Of My Heart by Amorphis\n",
      "Searching for \"Sky Is Mine\" by Amorphis...\n"
     ]
    },
    {
     "name": "stderr",
     "output_type": "stream",
     "text": [
      "\r",
      "  4%|██▉                                                                          | 320/8465 [03:07<1:26:09,  1.58it/s]"
     ]
    },
    {
     "name": "stdout",
     "output_type": "stream",
     "text": [
      "Done.\n",
      "Lyrics grabbed for Sky Is Mine by Amorphis\n",
      "Searching for \"Majestic Beast\" by Amorphis...\n"
     ]
    },
    {
     "name": "stderr",
     "output_type": "stream",
     "text": [
      "\r",
      "  4%|██▉                                                                          | 321/8465 [03:07<1:26:04,  1.58it/s]"
     ]
    },
    {
     "name": "stdout",
     "output_type": "stream",
     "text": [
      "Done.\n",
      "Lyrics grabbed for Majestic Beast by Amorphis\n",
      "Searching for \"My Sun\" by Amorphis...\n"
     ]
    },
    {
     "name": "stderr",
     "output_type": "stream",
     "text": [
      "\r",
      "  4%|██▉                                                                          | 322/8465 [03:08<1:25:24,  1.59it/s]"
     ]
    },
    {
     "name": "stdout",
     "output_type": "stream",
     "text": [
      "Done.\n",
      "Lyrics grabbed for My Sun by Amorphis\n",
      "Searching for \"Highest Star\" by Amorphis...\n"
     ]
    },
    {
     "name": "stderr",
     "output_type": "stream",
     "text": [
      "\r",
      "  4%|██▉                                                                          | 323/8465 [03:09<1:26:18,  1.57it/s]"
     ]
    },
    {
     "name": "stdout",
     "output_type": "stream",
     "text": [
      "Done.\n",
      "Lyrics grabbed for Highest Star by Amorphis\n",
      "Searching for \"Skyforger\" by Amorphis...\n"
     ]
    },
    {
     "name": "stderr",
     "output_type": "stream",
     "text": [
      "\r",
      "  4%|██▉                                                                          | 324/8465 [03:09<1:26:23,  1.57it/s]"
     ]
    },
    {
     "name": "stdout",
     "output_type": "stream",
     "text": [
      "Done.\n",
      "Lyrics grabbed for Skyforger by Amorphis\n",
      "Searching for \"Course Of Fate\" by Amorphis...\n"
     ]
    },
    {
     "name": "stderr",
     "output_type": "stream",
     "text": [
      "\r",
      "  4%|██▉                                                                          | 325/8465 [03:10<1:26:28,  1.57it/s]"
     ]
    },
    {
     "name": "stdout",
     "output_type": "stream",
     "text": [
      "Done.\n",
      "Lyrics grabbed for Course Of Fate by Amorphis\n",
      "Searching for \"From Earth I Rose\" by Amorphis...\n"
     ]
    },
    {
     "name": "stderr",
     "output_type": "stream",
     "text": [
      "\r",
      "  4%|██▉                                                                          | 326/8465 [03:10<1:26:26,  1.57it/s]"
     ]
    },
    {
     "name": "stdout",
     "output_type": "stream",
     "text": [
      "Done.\n",
      "Lyrics grabbed for From Earth I Rose by Amorphis\n",
      "Searching for \"So Nice\" by Tomasz Stanko Quintet...\n"
     ]
    },
    {
     "name": "stderr",
     "output_type": "stream",
     "text": [
      "\r",
      "  4%|██▉                                                                          | 327/8465 [03:11<1:11:53,  1.89it/s]"
     ]
    },
    {
     "name": "stdout",
     "output_type": "stream",
     "text": [
      "No results found for: 'So Nice Tomasz Stanko Quintet'\n",
      "Could not find So Nice by Tomasz Stanko Quintet\n",
      "Searching for \"Terminal 7\" by Tomasz Stanko Quintet...\n"
     ]
    },
    {
     "name": "stderr",
     "output_type": "stream",
     "text": [
      "\r",
      "  4%|██▉                                                                          | 328/8465 [03:11<1:01:44,  2.20it/s]"
     ]
    },
    {
     "name": "stdout",
     "output_type": "stream",
     "text": [
      "No results found for: 'Terminal 7 Tomasz Stanko Quintet'\n",
      "Could not find Terminal 7 by Tomasz Stanko Quintet\n",
      "Searching for \"The Dark Eyes Of Martha Hirsch\" by Tomasz Stanko Quintet...\n"
     ]
    },
    {
     "name": "stderr",
     "output_type": "stream",
     "text": [
      "\r",
      "  4%|███                                                                            | 329/8465 [03:11<54:40,  2.48it/s]"
     ]
    },
    {
     "name": "stdout",
     "output_type": "stream",
     "text": [
      "No results found for: 'The Dark Eyes Of Martha Hirsch Tomasz Stanko Quintet'\n",
      "Could not find The Dark Eyes Of Martha Hirsch by Tomasz Stanko Quintet\n",
      "Searching for \"Grand Central\" by Tomasz Stanko Quintet...\n"
     ]
    },
    {
     "name": "stderr",
     "output_type": "stream",
     "text": [
      "\r",
      "  4%|███                                                                            | 330/8465 [03:12<52:13,  2.60it/s]"
     ]
    },
    {
     "name": "stdout",
     "output_type": "stream",
     "text": [
      "No results found for: 'Grand Central Tomasz Stanko Quintet'\n",
      "Could not find Grand Central by Tomasz Stanko Quintet\n",
      "Searching for \"Amsterdam Avenue\" by Tomasz Stanko Quintet...\n"
     ]
    },
    {
     "name": "stderr",
     "output_type": "stream",
     "text": [
      "\r",
      "  4%|███                                                                            | 331/8465 [03:12<47:19,  2.86it/s]"
     ]
    },
    {
     "name": "stdout",
     "output_type": "stream",
     "text": [
      "No results found for: 'Amsterdam Avenue Tomasz Stanko Quintet'\n",
      "Could not find Amsterdam Avenue by Tomasz Stanko Quintet\n",
      "Searching for \"Samba Nova\" by Tomasz Stanko Quintet...\n"
     ]
    },
    {
     "name": "stderr",
     "output_type": "stream",
     "text": [
      "\r",
      "  4%|███                                                                            | 332/8465 [03:12<44:33,  3.04it/s]"
     ]
    },
    {
     "name": "stdout",
     "output_type": "stream",
     "text": [
      "No results found for: 'Samba Nova Tomasz Stanko Quintet'\n",
      "Could not find Samba Nova by Tomasz Stanko Quintet\n",
      "Searching for \"Dirge For Europe\" by Tomasz Stanko Quintet...\n"
     ]
    },
    {
     "name": "stderr",
     "output_type": "stream",
     "text": [
      "\r",
      "  4%|███                                                                            | 333/8465 [03:12<42:31,  3.19it/s]"
     ]
    },
    {
     "name": "stdout",
     "output_type": "stream",
     "text": [
      "No results found for: 'Dirge For Europe Tomasz Stanko Quintet'\n",
      "Could not find Dirge For Europe by Tomasz Stanko Quintet\n",
      "Searching for \"May Sun\" by Tomasz Stanko Quintet...\n"
     ]
    },
    {
     "name": "stderr",
     "output_type": "stream",
     "text": [
      "\r",
      "  4%|███                                                                            | 334/8465 [03:13<41:02,  3.30it/s]"
     ]
    },
    {
     "name": "stdout",
     "output_type": "stream",
     "text": [
      "No results found for: 'May Sun Tomasz Stanko Quintet'\n",
      "Could not find May Sun by Tomasz Stanko Quintet\n",
      "Searching for \"Last Song\" by Tomasz Stanko Quintet...\n"
     ]
    },
    {
     "name": "stderr",
     "output_type": "stream",
     "text": [
      "\r",
      "  4%|███▏                                                                           | 335/8465 [03:13<39:33,  3.42it/s]"
     ]
    },
    {
     "name": "stdout",
     "output_type": "stream",
     "text": [
      "No results found for: 'Last Song Tomasz Stanko Quintet'\n",
      "Could not find Last Song by Tomasz Stanko Quintet\n",
      "Searching for \"Etiuda Baletowa No. 3\" by Tomasz Stanko Quintet...\n"
     ]
    },
    {
     "name": "stderr",
     "output_type": "stream",
     "text": [
      "\r",
      "  4%|███▏                                                                           | 336/8465 [03:13<38:28,  3.52it/s]"
     ]
    },
    {
     "name": "stdout",
     "output_type": "stream",
     "text": [
      "No results found for: 'Etiuda Baletowa No. 3 Tomasz Stanko Quintet'\n",
      "Could not find Etiuda Baletowa No. 3 by Tomasz Stanko Quintet\n",
      "Searching for \"The Strangers\" by St. Vincent...\n"
     ]
    },
    {
     "name": "stderr",
     "output_type": "stream",
     "text": [
      "\r",
      "  4%|███▏                                                                           | 337/8465 [03:14<52:01,  2.60it/s]"
     ]
    },
    {
     "name": "stdout",
     "output_type": "stream",
     "text": [
      "Done.\n",
      "Lyrics grabbed for The Strangers by St. Vincent\n",
      "Searching for \"Save Me from What I Want\" by St. Vincent...\n"
     ]
    },
    {
     "name": "stderr",
     "output_type": "stream",
     "text": [
      "\r",
      "  4%|███                                                                          | 338/8465 [03:15<1:02:18,  2.17it/s]"
     ]
    },
    {
     "name": "stdout",
     "output_type": "stream",
     "text": [
      "Done.\n",
      "Lyrics grabbed for Save Me from What I Want by St. Vincent\n",
      "Searching for \"The Neighbors\" by St. Vincent...\n"
     ]
    },
    {
     "name": "stderr",
     "output_type": "stream",
     "text": [
      "\r",
      "  4%|███                                                                          | 339/8465 [03:15<1:08:56,  1.96it/s]"
     ]
    },
    {
     "name": "stdout",
     "output_type": "stream",
     "text": [
      "Done.\n",
      "Lyrics grabbed for The Neighbors by St. Vincent\n",
      "Searching for \"Actor Out of Work\" by St. Vincent...\n"
     ]
    },
    {
     "name": "stderr",
     "output_type": "stream",
     "text": [
      "\r",
      "  4%|███                                                                          | 340/8465 [03:16<1:16:42,  1.77it/s]"
     ]
    },
    {
     "name": "stdout",
     "output_type": "stream",
     "text": [
      "Done.\n",
      "Lyrics grabbed for Actor Out of Work by St. Vincent\n",
      "Searching for \"Black Rainbow\" by St. Vincent...\n"
     ]
    },
    {
     "name": "stderr",
     "output_type": "stream",
     "text": [
      "\r",
      "  4%|███                                                                          | 341/8465 [03:16<1:20:25,  1.68it/s]"
     ]
    },
    {
     "name": "stdout",
     "output_type": "stream",
     "text": [
      "Done.\n",
      "Lyrics grabbed for Black Rainbow by St. Vincent\n",
      "Searching for \"Laughing with a Mouth of Blood\" by St. Vincent...\n"
     ]
    },
    {
     "name": "stderr",
     "output_type": "stream",
     "text": [
      "\r",
      "  4%|███                                                                          | 342/8465 [03:17<1:22:18,  1.64it/s]"
     ]
    },
    {
     "name": "stdout",
     "output_type": "stream",
     "text": [
      "Done.\n",
      "Lyrics grabbed for Laughing with a Mouth of Blood by St. Vincent\n",
      "Searching for \"Marrow\" by St. Vincent...\n"
     ]
    },
    {
     "name": "stderr",
     "output_type": "stream",
     "text": [
      "\r",
      "  4%|███                                                                          | 343/8465 [03:18<1:25:40,  1.58it/s]"
     ]
    },
    {
     "name": "stdout",
     "output_type": "stream",
     "text": [
      "Done.\n",
      "Lyrics grabbed for Marrow by St. Vincent\n",
      "Searching for \"The Bed\" by St. Vincent...\n"
     ]
    },
    {
     "name": "stderr",
     "output_type": "stream",
     "text": [
      "\r",
      "  4%|███▏                                                                         | 344/8465 [03:18<1:24:33,  1.60it/s]"
     ]
    },
    {
     "name": "stdout",
     "output_type": "stream",
     "text": [
      "Done.\n",
      "Lyrics grabbed for The Bed by St. Vincent\n",
      "Searching for \"The Party\" by St. Vincent...\n"
     ]
    },
    {
     "name": "stderr",
     "output_type": "stream",
     "text": [
      "\r",
      "  4%|███▏                                                                         | 345/8465 [03:19<1:23:49,  1.61it/s]"
     ]
    },
    {
     "name": "stdout",
     "output_type": "stream",
     "text": [
      "Done.\n",
      "Lyrics grabbed for The Party by St. Vincent\n",
      "Searching for \"Just the Same But Brand New\" by St. Vincent...\n"
     ]
    },
    {
     "name": "stderr",
     "output_type": "stream",
     "text": [
      "\r",
      "  4%|███▏                                                                         | 346/8465 [03:20<1:23:25,  1.62it/s]"
     ]
    },
    {
     "name": "stdout",
     "output_type": "stream",
     "text": [
      "Done.\n",
      "Lyrics grabbed for Just the Same But Brand New by St. Vincent\n",
      "Searching for \"The Sequel\" by St. Vincent...\n"
     ]
    },
    {
     "name": "stderr",
     "output_type": "stream",
     "text": [
      "\r",
      "  4%|███▏                                                                         | 347/8465 [03:20<1:24:02,  1.61it/s]"
     ]
    },
    {
     "name": "stdout",
     "output_type": "stream",
     "text": [
      "Done.\n",
      "Lyrics grabbed for The Sequel by St. Vincent\n",
      "Searching for \"Take off\" by Perfume...\n"
     ]
    },
    {
     "name": "stderr",
     "output_type": "stream",
     "text": [
      "\r",
      "  4%|███▏                                                                         | 348/8465 [03:21<1:23:37,  1.62it/s]"
     ]
    },
    {
     "name": "stdout",
     "output_type": "stream",
     "text": [
      "Done.\n",
      "Lyrics grabbed for Take off by Perfume\n",
      "Searching for \"love the world\" by Perfume...\n"
     ]
    },
    {
     "name": "stderr",
     "output_type": "stream",
     "text": [
      "\r",
      "  4%|███▏                                                                         | 349/8465 [03:22<1:24:00,  1.61it/s]"
     ]
    },
    {
     "name": "stdout",
     "output_type": "stream",
     "text": [
      "Done.\n",
      "Lyrics grabbed for love the world by Perfume\n",
      "Searching for \"Dream Fighter\" by Perfume...\n"
     ]
    },
    {
     "name": "stderr",
     "output_type": "stream",
     "text": [
      "\r",
      "  4%|███▏                                                                         | 350/8465 [03:22<1:26:21,  1.57it/s]"
     ]
    },
    {
     "name": "stdout",
     "output_type": "stream",
     "text": [
      "Done.\n",
      "Lyrics grabbed for Dream Fighter by Perfume\n",
      "Searching for \"edge - Triangle-mix\" by Perfume...\n"
     ]
    },
    {
     "name": "stderr",
     "output_type": "stream",
     "text": [
      "\r",
      "  4%|███▏                                                                         | 351/8465 [03:22<1:11:42,  1.89it/s]"
     ]
    },
    {
     "name": "stdout",
     "output_type": "stream",
     "text": [
      "No results found for: 'edge - Triangle-mix Perfume'\n",
      "Could not find edge - Triangle-mix by Perfume\n",
      "Searching for \"NIGHT FLIGHT\" by Perfume...\n"
     ]
    },
    {
     "name": "stderr",
     "output_type": "stream",
     "text": [
      "\r",
      "  4%|███▏                                                                         | 352/8465 [03:23<1:16:47,  1.76it/s]"
     ]
    },
    {
     "name": "stdout",
     "output_type": "stream",
     "text": [
      "Done.\n",
      "Lyrics grabbed for NIGHT FLIGHT by Perfume\n",
      "Searching for \"Kiss and Music\" by Perfume...\n"
     ]
    },
    {
     "name": "stderr",
     "output_type": "stream",
     "text": [
      "\r",
      "  4%|███▏                                                                         | 353/8465 [03:24<1:19:28,  1.70it/s]"
     ]
    },
    {
     "name": "stdout",
     "output_type": "stream",
     "text": [
      "Done.\n",
      "Lyrics grabbed for Kiss and Music by Perfume\n",
      "Searching for \"Zero Gravity\" by Perfume...\n"
     ]
    },
    {
     "name": "stderr",
     "output_type": "stream",
     "text": [
      "\r",
      "  4%|███▏                                                                         | 354/8465 [03:24<1:19:57,  1.69it/s]"
     ]
    },
    {
     "name": "stdout",
     "output_type": "stream",
     "text": [
      "Done.\n",
      "Lyrics grabbed for Zero Gravity by Perfume\n",
      "Searching for \"I still love U\" by Perfume...\n"
     ]
    },
    {
     "name": "stderr",
     "output_type": "stream",
     "text": [
      "\r",
      "  4%|███▏                                                                         | 355/8465 [03:25<1:21:27,  1.66it/s]"
     ]
    },
    {
     "name": "stdout",
     "output_type": "stream",
     "text": [
      "Done.\n",
      "Lyrics grabbed for I still love U by Perfume\n",
      "Searching for \"The best thing\" by Perfume...\n"
     ]
    },
    {
     "name": "stderr",
     "output_type": "stream",
     "text": [
      "\r",
      "  4%|███▏                                                                         | 356/8465 [03:26<1:21:16,  1.66it/s]"
     ]
    },
    {
     "name": "stdout",
     "output_type": "stream",
     "text": [
      "Done.\n",
      "Lyrics grabbed for The best thing by Perfume\n",
      "Searching for \"Speed of Sound\" by Perfume...\n"
     ]
    },
    {
     "name": "stderr",
     "output_type": "stream",
     "text": [
      "\r",
      "  4%|███▏                                                                         | 357/8465 [03:26<1:22:32,  1.64it/s]"
     ]
    },
    {
     "name": "stdout",
     "output_type": "stream",
     "text": [
      "Done.\n",
      "Lyrics grabbed for Speed of Sound by Perfume\n",
      "Searching for \"ワンルーム・ディスコ\" by Perfume...\n"
     ]
    },
    {
     "name": "stderr",
     "output_type": "stream",
     "text": [
      "\r",
      "  4%|███▎                                                                         | 358/8465 [03:27<1:21:15,  1.66it/s]"
     ]
    },
    {
     "name": "stdout",
     "output_type": "stream",
     "text": [
      "Done.\n",
      "Lyrics grabbed for ワンルーム・ディスコ by Perfume\n",
      "Searching for \"願い - Album-mix\" by Perfume...\n"
     ]
    },
    {
     "name": "stderr",
     "output_type": "stream",
     "text": [
      "\r",
      "  4%|███▎                                                                         | 359/8465 [03:27<1:08:14,  1.98it/s]"
     ]
    },
    {
     "name": "stdout",
     "output_type": "stream",
     "text": [
      "No results found for: '願い - Album-mix Perfume'\n",
      "Could not find 願い - Album-mix by Perfume\n",
      "Searching for \"Intermission\" by The Protomen...\n"
     ]
    },
    {
     "name": "stderr",
     "output_type": "stream",
     "text": [
      "\r",
      "  4%|███▎                                                                         | 360/8465 [03:28<1:14:17,  1.82it/s]"
     ]
    },
    {
     "name": "stdout",
     "output_type": "stream",
     "text": [
      "Done.\n",
      "Lyrics grabbed for Intermission by The Protomen\n",
      "Searching for \"The Good Doctor\" by The Protomen...\n"
     ]
    },
    {
     "name": "stderr",
     "output_type": "stream",
     "text": [
      "\r",
      "  4%|███▎                                                                         | 361/8465 [03:29<1:53:09,  1.19it/s]"
     ]
    },
    {
     "name": "stdout",
     "output_type": "stream",
     "text": [
      "Done.\n",
      "Lyrics grabbed for The Good Doctor by The Protomen\n",
      "Searching for \"Father Of Death\" by The Protomen...\n"
     ]
    },
    {
     "name": "stderr",
     "output_type": "stream",
     "text": [
      "\r",
      "  4%|███▎                                                                         | 362/8465 [03:31<2:20:10,  1.04s/it]"
     ]
    },
    {
     "name": "stdout",
     "output_type": "stream",
     "text": [
      "Done.\n",
      "Lyrics grabbed for Father Of Death by The Protomen\n",
      "Searching for \"The Hounds\" by The Protomen...\n"
     ]
    },
    {
     "name": "stderr",
     "output_type": "stream",
     "text": [
      "\r",
      "  4%|███▎                                                                         | 363/8465 [03:31<2:04:06,  1.09it/s]"
     ]
    },
    {
     "name": "stdout",
     "output_type": "stream",
     "text": [
      "Done.\n",
      "Lyrics grabbed for The Hounds by The Protomen\n",
      "Searching for \"The State Vs. Thomas Light\" by The Protomen...\n"
     ]
    },
    {
     "name": "stderr",
     "output_type": "stream",
     "text": [
      "\r",
      "  4%|███▎                                                                         | 364/8465 [03:33<2:23:03,  1.06s/it]"
     ]
    },
    {
     "name": "stdout",
     "output_type": "stream",
     "text": [
      "Done.\n",
      "Lyrics grabbed for The State Vs. Thomas Light by The Protomen\n",
      "Searching for \"Give Us The Rope\" by The Protomen...\n"
     ]
    },
    {
     "name": "stderr",
     "output_type": "stream",
     "text": [
      "\r",
      "  4%|███▎                                                                         | 365/8465 [03:33<2:04:47,  1.08it/s]"
     ]
    },
    {
     "name": "stdout",
     "output_type": "stream",
     "text": [
      "Done.\n",
      "Lyrics grabbed for Give Us The Rope by The Protomen\n",
      "Searching for \"How The World Fell Under Darkness\" by The Protomen...\n"
     ]
    },
    {
     "name": "stderr",
     "output_type": "stream",
     "text": [
      "\r",
      "  4%|███▎                                                                         | 366/8465 [03:34<1:53:09,  1.19it/s]"
     ]
    },
    {
     "name": "stdout",
     "output_type": "stream",
     "text": [
      "Done.\n",
      "Lyrics grabbed for How The World Fell Under Darkness by The Protomen\n",
      "Searching for \"Breaking Out\" by The Protomen...\n"
     ]
    },
    {
     "name": "stderr",
     "output_type": "stream",
     "text": [
      "\r",
      "  4%|███▎                                                                         | 367/8465 [03:35<1:44:44,  1.29it/s]"
     ]
    },
    {
     "name": "stdout",
     "output_type": "stream",
     "text": [
      "Done.\n",
      "Lyrics grabbed for Breaking Out by The Protomen\n",
      "Searching for \"Keep Quiet\" by The Protomen...\n"
     ]
    },
    {
     "name": "stderr",
     "output_type": "stream",
     "text": [
      "\r",
      "  4%|███▎                                                                         | 368/8465 [03:35<1:38:37,  1.37it/s]"
     ]
    },
    {
     "name": "stdout",
     "output_type": "stream",
     "text": [
      "Done.\n",
      "Lyrics grabbed for Keep Quiet by The Protomen\n",
      "Searching for \"Light Up The Night\" by The Protomen...\n"
     ]
    },
    {
     "name": "stderr",
     "output_type": "stream",
     "text": [
      "\r",
      "  4%|███▎                                                                         | 369/8465 [03:36<1:34:12,  1.43it/s]"
     ]
    },
    {
     "name": "stdout",
     "output_type": "stream",
     "text": [
      "Done.\n",
      "Lyrics grabbed for Light Up The Night by The Protomen\n",
      "Searching for \"The Fall\" by The Protomen...\n"
     ]
    },
    {
     "name": "stderr",
     "output_type": "stream",
     "text": [
      "\r",
      "  4%|███▎                                                                         | 370/8465 [03:37<1:32:53,  1.45it/s]"
     ]
    },
    {
     "name": "stdout",
     "output_type": "stream",
     "text": [
      "Done.\n",
      "Lyrics grabbed for The Fall by The Protomen\n",
      "Searching for \"Here Comes The Arm\" by The Protomen...\n"
     ]
    },
    {
     "name": "stderr",
     "output_type": "stream",
     "text": [
      "\r",
      "  4%|███▎                                                                         | 371/8465 [03:38<2:02:28,  1.10it/s]"
     ]
    },
    {
     "name": "stdout",
     "output_type": "stream",
     "text": [
      "Done.\n",
      "Lyrics grabbed for Here Comes The Arm by The Protomen\n",
      "Searching for \"Colour Yes - Special Edition\" by Matthew Halsall...\n"
     ]
    },
    {
     "name": "stderr",
     "output_type": "stream",
     "text": [
      "\r",
      "  4%|███▍                                                                         | 372/8465 [03:38<1:36:48,  1.39it/s]"
     ]
    },
    {
     "name": "stdout",
     "output_type": "stream",
     "text": [
      "No results found for: 'Colour Yes - Special Edition Matthew Halsall'\n",
      "Could not find Colour Yes - Special Edition by Matthew Halsall\n",
      "Searching for \"Together - Special Edition\" by Matthew Halsall...\n"
     ]
    },
    {
     "name": "stderr",
     "output_type": "stream",
     "text": [
      "\r",
      "  4%|███▍                                                                         | 373/8465 [03:39<1:19:08,  1.70it/s]"
     ]
    },
    {
     "name": "stdout",
     "output_type": "stream",
     "text": [
      "No results found for: 'Together - Special Edition Matthew Halsall'\n",
      "Could not find Together - Special Edition by Matthew Halsall\n",
      "Searching for \"I've Found Joy - Special Edition\" by Matthew Halsall...\n"
     ]
    },
    {
     "name": "stderr",
     "output_type": "stream",
     "text": [
      "\r",
      "  4%|███▍                                                                         | 374/8465 [03:39<1:06:52,  2.02it/s]"
     ]
    },
    {
     "name": "stdout",
     "output_type": "stream",
     "text": [
      "No results found for: 'I've Found Joy - Special Edition Matthew Halsall'\n",
      "Could not find I've Found Joy - Special Edition by Matthew Halsall\n",
      "Searching for \"Mudita - Special Edition\" by Matthew Halsall...\n"
     ]
    },
    {
     "name": "stderr",
     "output_type": "stream",
     "text": [
      "\r",
      "  4%|███▍                                                                           | 375/8465 [03:39<57:32,  2.34it/s]"
     ]
    },
    {
     "name": "stdout",
     "output_type": "stream",
     "text": [
      "No results found for: 'Mudita - Special Edition Matthew Halsall'\n",
      "Could not find Mudita - Special Edition by Matthew Halsall\n",
      "Searching for \"I've Been Here Before - Special Edition\" by Matthew Halsall...\n"
     ]
    },
    {
     "name": "stderr",
     "output_type": "stream",
     "text": [
      "\r",
      "  4%|███▌                                                                           | 376/8465 [03:39<51:42,  2.61it/s]"
     ]
    },
    {
     "name": "stdout",
     "output_type": "stream",
     "text": [
      "No results found for: 'I've Been Here Before - Special Edition Matthew Halsall'\n",
      "Could not find I've Been Here Before - Special Edition by Matthew Halsall\n",
      "Searching for \"Me and You - Special Edition\" by Matthew Halsall...\n"
     ]
    },
    {
     "name": "stderr",
     "output_type": "stream",
     "text": [
      "\r",
      "  4%|███▌                                                                           | 377/8465 [03:40<47:33,  2.83it/s]"
     ]
    },
    {
     "name": "stdout",
     "output_type": "stream",
     "text": [
      "No results found for: 'Me and You - Special Edition Matthew Halsall'\n",
      "Could not find Me and You - Special Edition by Matthew Halsall\n",
      "Searching for \"It's What We Do (Bonus Track) - Special Edition\" by Matthew Halsall...\n"
     ]
    },
    {
     "name": "stderr",
     "output_type": "stream",
     "text": [
      "\r",
      "  4%|███▌                                                                           | 378/8465 [03:40<44:33,  3.02it/s]"
     ]
    },
    {
     "name": "stdout",
     "output_type": "stream",
     "text": [
      "No results found for: 'It's What We Do (Bonus Track) - Special Edition Matthew Halsall'\n",
      "Could not find It's What We Do (Bonus Track) - Special Edition by Matthew Halsall\n",
      "Searching for \"Ai (Bonus Track) - Special Edition\" by Matthew Halsall...\n"
     ]
    },
    {
     "name": "stderr",
     "output_type": "stream",
     "text": [
      "\r",
      "  4%|███▌                                                                           | 379/8465 [03:40<42:35,  3.16it/s]"
     ]
    },
    {
     "name": "stdout",
     "output_type": "stream",
     "text": [
      "No results found for: 'Ai (Bonus Track) - Special Edition Matthew Halsall'\n",
      "Could not find Ai (Bonus Track) - Special Edition by Matthew Halsall\n",
      "Searching for \"Kontrast\" by Gösta Berlings Saga...\n"
     ]
    },
    {
     "name": "stderr",
     "output_type": "stream",
     "text": [
      "\r",
      "  4%|███▌                                                                           | 380/8465 [03:41<59:06,  2.28it/s]"
     ]
    },
    {
     "name": "stdout",
     "output_type": "stream",
     "text": [
      "Done.\n",
      "Lyrics grabbed for Kontrast by Gösta Berlings Saga\n",
      "Searching for \"Sorterargatan 3\" by Gösta Berlings Saga...\n"
     ]
    },
    {
     "name": "stderr",
     "output_type": "stream",
     "text": [
      "\r",
      "  5%|███▌                                                                           | 381/8465 [03:41<53:44,  2.51it/s]"
     ]
    },
    {
     "name": "stdout",
     "output_type": "stream",
     "text": [
      "No results found for: 'Sorterargatan 3 Gösta Berlings Saga'\n",
      "Could not find Sorterargatan 3 by Gösta Berlings Saga\n",
      "Searching for \"Svenska hjärtan\" by Gösta Berlings Saga...\n"
     ]
    },
    {
     "name": "stderr",
     "output_type": "stream",
     "text": [
      "\r",
      "  5%|███▌                                                                           | 382/8465 [03:42<49:04,  2.74it/s]"
     ]
    },
    {
     "name": "stdout",
     "output_type": "stream",
     "text": [
      "No results found for: 'Svenska hjärtan Gösta Berlings Saga'\n",
      "Could not find Svenska hjärtan by Gösta Berlings Saga\n",
      "Searching for \"Fem trappor\" by Gösta Berlings Saga...\n"
     ]
    },
    {
     "name": "stderr",
     "output_type": "stream",
     "text": [
      "\r",
      "  5%|███▌                                                                           | 383/8465 [03:42<46:14,  2.91it/s]"
     ]
    },
    {
     "name": "stdout",
     "output_type": "stream",
     "text": [
      "No results found for: 'Fem trappor Gösta Berlings Saga'\n",
      "Could not find Fem trappor by Gösta Berlings Saga\n",
      "Searching for \"Nattskift\" by Gösta Berlings Saga...\n"
     ]
    },
    {
     "name": "stderr",
     "output_type": "stream",
     "text": [
      "\r",
      "  5%|███▌                                                                           | 384/8465 [03:42<43:43,  3.08it/s]"
     ]
    },
    {
     "name": "stdout",
     "output_type": "stream",
     "text": [
      "No results found for: 'Nattskift Gösta Berlings Saga'\n",
      "Could not find Nattskift by Gösta Berlings Saga\n",
      "Searching for \"Bergslagen\" by Gösta Berlings Saga...\n"
     ]
    },
    {
     "name": "stderr",
     "output_type": "stream",
     "text": [
      "\r",
      "  5%|███▌                                                                           | 385/8465 [03:42<42:33,  3.16it/s]"
     ]
    },
    {
     "name": "stdout",
     "output_type": "stream",
     "text": [
      "No results found for: 'Bergslagen Gösta Berlings Saga'\n",
      "Could not find Bergslagen by Gösta Berlings Saga\n",
      "Searching for \"Innilegur?\" by Gösta Berlings Saga...\n"
     ]
    },
    {
     "name": "stderr",
     "output_type": "stream",
     "text": [
      "\r",
      "  5%|███▌                                                                           | 386/8465 [03:43<41:07,  3.27it/s]"
     ]
    },
    {
     "name": "stdout",
     "output_type": "stream",
     "text": [
      "No results found for: 'Innilegur? Gösta Berlings Saga'\n",
      "Could not find Innilegur? by Gösta Berlings Saga\n",
      "Searching for \"Västerbron 05:30\" by Gösta Berlings Saga...\n"
     ]
    },
    {
     "name": "stderr",
     "output_type": "stream",
     "text": [
      "\r",
      "  5%|███▌                                                                           | 387/8465 [03:43<40:07,  3.35it/s]"
     ]
    },
    {
     "name": "stdout",
     "output_type": "stream",
     "text": [
      "No results found for: 'Västerbron 05:30 Gösta Berlings Saga'\n",
      "Could not find Västerbron 05:30 by Gösta Berlings Saga\n",
      "Searching for \"Wind's Dark Poem\" by Mount Eerie...\n"
     ]
    },
    {
     "name": "stderr",
     "output_type": "stream",
     "text": [
      "\r",
      "  5%|███▌                                                                           | 388/8465 [03:44<53:13,  2.53it/s]"
     ]
    },
    {
     "name": "stdout",
     "output_type": "stream",
     "text": [
      "Done.\n",
      "Lyrics grabbed for Wind's Dark Poem by Mount Eerie\n",
      "Searching for \"Through the Trees\" by Mount Eerie...\n"
     ]
    },
    {
     "name": "stderr",
     "output_type": "stream",
     "text": [
      "\r",
      "  5%|███▌                                                                         | 389/8465 [03:44<1:01:42,  2.18it/s]"
     ]
    },
    {
     "name": "stdout",
     "output_type": "stream",
     "text": [
      "Done.\n",
      "Lyrics grabbed for Through the Trees by Mount Eerie\n",
      "Searching for \"My Heart Is Not at Peace\" by Mount Eerie...\n"
     ]
    },
    {
     "name": "stderr",
     "output_type": "stream",
     "text": [
      "\r",
      "  5%|███▌                                                                         | 390/8465 [03:45<1:10:54,  1.90it/s]"
     ]
    },
    {
     "name": "stdout",
     "output_type": "stream",
     "text": [
      "Done.\n",
      "Lyrics grabbed for My Heart Is Not at Peace by Mount Eerie\n",
      "Searching for \"The Hidden Stone\" by Mount Eerie...\n"
     ]
    },
    {
     "name": "stderr",
     "output_type": "stream",
     "text": [
      "\r",
      "  5%|███▌                                                                         | 391/8465 [03:46<1:14:41,  1.80it/s]"
     ]
    },
    {
     "name": "stdout",
     "output_type": "stream",
     "text": [
      "Done.\n",
      "Lyrics grabbed for The Hidden Stone by Mount Eerie\n",
      "Searching for \"Wind Speaks\" by Mount Eerie...\n"
     ]
    },
    {
     "name": "stderr",
     "output_type": "stream",
     "text": [
      "\r",
      "  5%|███▌                                                                         | 392/8465 [03:46<1:17:24,  1.74it/s]"
     ]
    },
    {
     "name": "stdout",
     "output_type": "stream",
     "text": [
      "Done.\n",
      "Lyrics grabbed for Wind Speaks by Mount Eerie\n",
      "Searching for \"Summons\" by Mount Eerie...\n"
     ]
    },
    {
     "name": "stderr",
     "output_type": "stream",
     "text": [
      "\r",
      "  5%|███▌                                                                         | 393/8465 [03:47<1:21:01,  1.66it/s]"
     ]
    },
    {
     "name": "stdout",
     "output_type": "stream",
     "text": [
      "Done.\n",
      "Lyrics grabbed for Summons by Mount Eerie\n",
      "Searching for \"Mouth of Sky\" by Mount Eerie...\n"
     ]
    },
    {
     "name": "stderr",
     "output_type": "stream",
     "text": [
      "\r",
      "  5%|███▌                                                                         | 394/8465 [03:47<1:23:25,  1.61it/s]"
     ]
    },
    {
     "name": "stdout",
     "output_type": "stream",
     "text": [
      "Done.\n",
      "Lyrics grabbed for Mouth of Sky by Mount Eerie\n",
      "Searching for \"Between Two Mysteries\" by Mount Eerie...\n"
     ]
    },
    {
     "name": "stderr",
     "output_type": "stream",
     "text": [
      "\r",
      "  5%|███▌                                                                         | 395/8465 [03:48<1:23:28,  1.61it/s]"
     ]
    },
    {
     "name": "stdout",
     "output_type": "stream",
     "text": [
      "Done.\n",
      "Lyrics grabbed for Between Two Mysteries by Mount Eerie\n",
      "Searching for \"Ancient Questions\" by Mount Eerie...\n"
     ]
    },
    {
     "name": "stderr",
     "output_type": "stream",
     "text": [
      "\r",
      "  5%|███▌                                                                         | 396/8465 [03:49<1:23:04,  1.62it/s]"
     ]
    },
    {
     "name": "stdout",
     "output_type": "stream",
     "text": [
      "Done.\n",
      "Lyrics grabbed for Ancient Questions by Mount Eerie\n",
      "Searching for \"(Something)\" by Mount Eerie...\n"
     ]
    },
    {
     "name": "stderr",
     "output_type": "stream",
     "text": [
      "\r",
      "  5%|███▌                                                                         | 397/8465 [03:49<1:23:26,  1.61it/s]"
     ]
    },
    {
     "name": "stdout",
     "output_type": "stream",
     "text": [
      "Done.\n",
      "Lyrics grabbed for (Something) by Mount Eerie\n",
      "Searching for \"Lost Wisdom Pt. 2\" by Mount Eerie...\n"
     ]
    },
    {
     "name": "stderr",
     "output_type": "stream",
     "text": [
      "\r",
      "  5%|███▌                                                                         | 398/8465 [03:50<1:24:30,  1.59it/s]"
     ]
    },
    {
     "name": "stdout",
     "output_type": "stream",
     "text": [
      "Done.\n",
      "Lyrics grabbed for Lost Wisdom Pt. 2 by Mount Eerie\n",
      "Searching for \"Stone's Ode\" by Mount Eerie...\n"
     ]
    },
    {
     "name": "stderr",
     "output_type": "stream",
     "text": [
      "\r",
      "  5%|███▋                                                                         | 399/8465 [03:51<1:26:11,  1.56it/s]"
     ]
    },
    {
     "name": "stdout",
     "output_type": "stream",
     "text": [
      "Done.\n",
      "Lyrics grabbed for Stone's Ode by Mount Eerie\n",
      "Searching for \"Aghartha\" by Sunn O)))...\n"
     ]
    },
    {
     "name": "stderr",
     "output_type": "stream",
     "text": [
      "\r",
      "  5%|███▋                                                                         | 400/8465 [03:51<1:27:47,  1.53it/s]"
     ]
    },
    {
     "name": "stdout",
     "output_type": "stream",
     "text": [
      "Done.\n",
      "Lyrics grabbed for Aghartha by Sunn O)))\n",
      "Searching for \"Big Church [megszentségteleníthetetlenségeskedéseitekért]\" by Sunn O)))...\n"
     ]
    },
    {
     "name": "stderr",
     "output_type": "stream",
     "text": [
      "\r",
      "  5%|███▋                                                                         | 401/8465 [03:52<1:27:26,  1.54it/s]"
     ]
    },
    {
     "name": "stdout",
     "output_type": "stream",
     "text": [
      "Done.\n",
      "Lyrics grabbed for Big Church [megszentségteleníthetetlenségeskedéseitekért] by Sunn O)))\n",
      "Searching for \"Hunting & Gathering (Cydonia)\" by Sunn O)))...\n"
     ]
    },
    {
     "name": "stderr",
     "output_type": "stream",
     "text": [
      "\r",
      "  5%|███▋                                                                         | 402/8465 [03:53<1:26:55,  1.55it/s]"
     ]
    },
    {
     "name": "stdout",
     "output_type": "stream",
     "text": [
      "Done.\n",
      "Lyrics grabbed for Hunting & Gathering (Cydonia) by Sunn O)))\n",
      "Searching for \"Alice\" by Sunn O)))...\n"
     ]
    },
    {
     "name": "stderr",
     "output_type": "stream",
     "text": [
      "\r",
      "  5%|███▋                                                                         | 403/8465 [03:53<1:12:24,  1.86it/s]"
     ]
    },
    {
     "name": "stdout",
     "output_type": "stream",
     "text": [
      "Specified song does not contain lyrics. Rejecting.\n",
      "Could not find Alice by Sunn O)))\n",
      "Searching for \"Proudhon in Manhattan\" by Wingnut Dishwashers Union...\n"
     ]
    },
    {
     "name": "stderr",
     "output_type": "stream",
     "text": [
      "\r",
      "  5%|███▋                                                                         | 404/8465 [03:54<1:16:41,  1.75it/s]"
     ]
    },
    {
     "name": "stdout",
     "output_type": "stream",
     "text": [
      "Done.\n",
      "Lyrics grabbed for Proudhon in Manhattan by Wingnut Dishwashers Union\n",
      "Searching for \"Never Trust a Man (Who Plays Guitar)\" by Wingnut Dishwashers Union...\n"
     ]
    },
    {
     "name": "stderr",
     "output_type": "stream",
     "text": [
      "\r",
      "  5%|███▋                                                                         | 405/8465 [03:54<1:19:18,  1.69it/s]"
     ]
    },
    {
     "name": "stdout",
     "output_type": "stream",
     "text": [
      "Done.\n",
      "Lyrics grabbed for Never Trust a Man (Who Plays Guitar) by Wingnut Dishwashers Union\n",
      "Searching for \"Fuck Shit Up (Whanana)\" by Wingnut Dishwashers Union...\n"
     ]
    },
    {
     "name": "stderr",
     "output_type": "stream",
     "text": [
      "\r",
      "  5%|███▋                                                                         | 406/8465 [03:54<1:06:41,  2.01it/s]"
     ]
    },
    {
     "name": "stdout",
     "output_type": "stream",
     "text": [
      "No results found for: 'Fuck Shit Up (Whanana) Wingnut Dishwashers Union'\n",
      "Could not find Fuck Shit Up (Whanana) by Wingnut Dishwashers Union\n",
      "Searching for \"Fuck Every Cop (Who Ever Did His Job)\" by Wingnut Dishwashers Union...\n"
     ]
    },
    {
     "name": "stderr",
     "output_type": "stream",
     "text": [
      "\r",
      "  5%|███▋                                                                         | 407/8465 [03:55<1:11:26,  1.88it/s]"
     ]
    },
    {
     "name": "stdout",
     "output_type": "stream",
     "text": [
      "Done.\n",
      "Lyrics grabbed for Fuck Every Cop (Who Ever Did His Job) by Wingnut Dishwashers Union\n",
      "Searching for \"Urine Speaks Louder Than Words\" by Wingnut Dishwashers Union...\n"
     ]
    },
    {
     "name": "stderr",
     "output_type": "stream",
     "text": [
      "\r",
      "  5%|███▋                                                                         | 408/8465 [03:56<1:12:34,  1.85it/s]"
     ]
    },
    {
     "name": "stdout",
     "output_type": "stream",
     "text": [
      "Done.\n",
      "Lyrics grabbed for Urine Speaks Louder Than Words by Wingnut Dishwashers Union\n",
      "Searching for \"Picking Sides\" by Wingnut Dishwashers Union...\n"
     ]
    },
    {
     "name": "stderr",
     "output_type": "stream",
     "text": [
      "\r",
      "  5%|███▋                                                                         | 409/8465 [03:56<1:17:13,  1.74it/s]"
     ]
    },
    {
     "name": "stdout",
     "output_type": "stream",
     "text": [
      "Done.\n",
      "Lyrics grabbed for Picking Sides by Wingnut Dishwashers Union\n",
      "Searching for \"Jesus Does the Dishes\" by Wingnut Dishwashers Union...\n"
     ]
    },
    {
     "name": "stderr",
     "output_type": "stream",
     "text": [
      "\r",
      "  5%|███▋                                                                         | 410/8465 [03:57<1:30:02,  1.49it/s]"
     ]
    },
    {
     "name": "stdout",
     "output_type": "stream",
     "text": [
      "Done.\n",
      "Lyrics grabbed for Jesus Does the Dishes by Wingnut Dishwashers Union\n",
      "Searching for \"Just Because I Don't Say Anything (Doesn't Mean I've Got Nothing to Say)\" by Wingnut Dishwashers Union...\n"
     ]
    },
    {
     "name": "stderr",
     "output_type": "stream",
     "text": [
      "\r",
      "  5%|███▋                                                                         | 411/8465 [03:59<2:08:14,  1.05it/s]"
     ]
    },
    {
     "name": "stdout",
     "output_type": "stream",
     "text": [
      "Done.\n",
      "Lyrics grabbed for Just Because I Don't Say Anything (Doesn't Mean I've Got Nothing to Say) by Wingnut Dishwashers Union\n",
      "Searching for \"For a Girl in Rhinelander, WI\" by Wingnut Dishwashers Union...\n"
     ]
    },
    {
     "name": "stderr",
     "output_type": "stream",
     "text": [
      "\r",
      "  5%|███▋                                                                         | 412/8465 [04:00<2:38:37,  1.18s/it]"
     ]
    },
    {
     "name": "stdout",
     "output_type": "stream",
     "text": [
      "Done.\n",
      "Lyrics grabbed for For a Girl in Rhinelander, WI by Wingnut Dishwashers Union\n",
      "Searching for \"My Idea of Fun\" by Wingnut Dishwashers Union...\n"
     ]
    },
    {
     "name": "stderr",
     "output_type": "stream",
     "text": [
      "\r",
      "  5%|███▊                                                                         | 413/8465 [04:01<2:22:26,  1.06s/it]"
     ]
    },
    {
     "name": "stdout",
     "output_type": "stream",
     "text": [
      "Done.\n",
      "Lyrics grabbed for My Idea of Fun by Wingnut Dishwashers Union\n",
      "Searching for \"If I Had a Heart\" by Fever Ray...\n"
     ]
    },
    {
     "name": "stderr",
     "output_type": "stream",
     "text": [
      "\r",
      "  5%|███▊                                                                         | 414/8465 [04:04<3:41:29,  1.65s/it]"
     ]
    },
    {
     "name": "stdout",
     "output_type": "stream",
     "text": [
      "Done.\n",
      "Lyrics grabbed for If I Had a Heart by Fever Ray\n",
      "Searching for \"When I Grow Up\" by Fever Ray...\n"
     ]
    },
    {
     "name": "stderr",
     "output_type": "stream",
     "text": [
      "\r",
      "  5%|███▊                                                                         | 415/8465 [04:05<3:15:06,  1.45s/it]"
     ]
    },
    {
     "name": "stdout",
     "output_type": "stream",
     "text": [
      "Done.\n",
      "Lyrics grabbed for When I Grow Up by Fever Ray\n",
      "Searching for \"Dry and Dusty\" by Fever Ray...\n"
     ]
    },
    {
     "name": "stderr",
     "output_type": "stream",
     "text": [
      "\r",
      "  5%|███▊                                                                         | 416/8465 [04:06<2:57:48,  1.33s/it]"
     ]
    },
    {
     "name": "stdout",
     "output_type": "stream",
     "text": [
      "Done.\n",
      "Lyrics grabbed for Dry and Dusty by Fever Ray\n",
      "Searching for \"Seven\" by Fever Ray...\n"
     ]
    },
    {
     "name": "stderr",
     "output_type": "stream",
     "text": [
      "\r",
      "  5%|███▊                                                                         | 417/8465 [04:07<2:46:06,  1.24s/it]"
     ]
    },
    {
     "name": "stdout",
     "output_type": "stream",
     "text": [
      "Done.\n",
      "Lyrics grabbed for Seven by Fever Ray\n",
      "Searching for \"Triangle Walks\" by Fever Ray...\n"
     ]
    },
    {
     "name": "stderr",
     "output_type": "stream",
     "text": [
      "\r",
      "  5%|███▊                                                                         | 418/8465 [04:08<2:36:09,  1.16s/it]"
     ]
    },
    {
     "name": "stdout",
     "output_type": "stream",
     "text": [
      "Done.\n",
      "Lyrics grabbed for Triangle Walks by Fever Ray\n",
      "Searching for \"Concrete Walls\" by Fever Ray...\n"
     ]
    },
    {
     "name": "stderr",
     "output_type": "stream",
     "text": [
      "\r",
      "  5%|███▊                                                                         | 419/8465 [04:10<2:57:39,  1.32s/it]"
     ]
    },
    {
     "name": "stdout",
     "output_type": "stream",
     "text": [
      "Done.\n",
      "Lyrics grabbed for Concrete Walls by Fever Ray\n",
      "Searching for \"Now's the Only Time I Know\" by Fever Ray...\n"
     ]
    },
    {
     "name": "stderr",
     "output_type": "stream",
     "text": [
      "\r",
      "  5%|███▊                                                                         | 420/8465 [04:11<2:44:03,  1.22s/it]"
     ]
    },
    {
     "name": "stdout",
     "output_type": "stream",
     "text": [
      "Done.\n",
      "Lyrics grabbed for Now's the Only Time I Know by Fever Ray\n",
      "Searching for \"I'm Not Done\" by Fever Ray...\n"
     ]
    },
    {
     "name": "stderr",
     "output_type": "stream",
     "text": [
      "\r",
      "  5%|███▊                                                                         | 421/8465 [04:13<3:24:20,  1.52s/it]"
     ]
    },
    {
     "name": "stdout",
     "output_type": "stream",
     "text": [
      "Done.\n",
      "Lyrics grabbed for I'm Not Done by Fever Ray\n",
      "Searching for \"Keep the Streets Empty for Me\" by Fever Ray...\n"
     ]
    },
    {
     "name": "stderr",
     "output_type": "stream",
     "text": [
      "\r",
      "  5%|███▊                                                                         | 422/8465 [04:16<4:00:31,  1.79s/it]"
     ]
    },
    {
     "name": "stdout",
     "output_type": "stream",
     "text": [
      "Done.\n",
      "Lyrics grabbed for Keep the Streets Empty for Me by Fever Ray\n",
      "Searching for \"Coconut\" by Fever Ray...\n"
     ]
    },
    {
     "name": "stderr",
     "output_type": "stream",
     "text": [
      "\r",
      "  5%|███▊                                                                         | 423/8465 [04:17<3:23:42,  1.52s/it]"
     ]
    },
    {
     "name": "stdout",
     "output_type": "stream",
     "text": [
      "Done.\n",
      "Lyrics grabbed for Coconut by Fever Ray\n",
      "Searching for \"SUPERVILLAIN (INTRO)\" by DOOM...\n"
     ]
    },
    {
     "name": "stderr",
     "output_type": "stream",
     "text": [
      "\r",
      "  5%|███▊                                                                         | 424/8465 [04:18<3:00:45,  1.35s/it]"
     ]
    },
    {
     "name": "stdout",
     "output_type": "stream",
     "text": [
      "Done.\n",
      "Lyrics grabbed for SUPERVILLAIN (INTRO) by DOOM\n",
      "Searching for \"GAZZILLION EAR\" by DOOM...\n"
     ]
    },
    {
     "name": "stderr",
     "output_type": "stream",
     "text": [
      "\r",
      "  5%|███▊                                                                         | 425/8465 [04:20<3:53:58,  1.75s/it]"
     ]
    },
    {
     "name": "stdout",
     "output_type": "stream",
     "text": [
      "Done.\n",
      "Lyrics grabbed for GAZZILLION EAR by DOOM\n",
      "Searching for \"BALLSKIN\" by DOOM...\n"
     ]
    },
    {
     "name": "stderr",
     "output_type": "stream",
     "text": [
      "\r",
      "  5%|███▉                                                                         | 426/8465 [04:22<4:00:56,  1.80s/it]"
     ]
    },
    {
     "name": "stdout",
     "output_type": "stream",
     "text": [
      "Done.\n",
      "Lyrics grabbed for BALLSKIN by DOOM\n",
      "Searching for \"YESSIR!\" by DOOM...\n"
     ]
    },
    {
     "name": "stderr",
     "output_type": "stream",
     "text": [
      "\r",
      "  5%|███▉                                                                         | 427/8465 [04:23<3:26:51,  1.54s/it]"
     ]
    },
    {
     "name": "stdout",
     "output_type": "stream",
     "text": [
      "Done.\n",
      "Lyrics grabbed for YESSIR! by DOOM\n",
      "Searching for \"ABSOLUTELY\" by DOOM...\n"
     ]
    },
    {
     "name": "stderr",
     "output_type": "stream",
     "text": [
      "\r",
      "  5%|███▉                                                                         | 428/8465 [04:25<4:02:25,  1.81s/it]"
     ]
    },
    {
     "name": "stdout",
     "output_type": "stream",
     "text": [
      "Done.\n",
      "Lyrics grabbed for ABSOLUTELY by DOOM\n",
      "Searching for \"RAP AMBUSH\" by DOOM...\n"
     ]
    },
    {
     "name": "stderr",
     "output_type": "stream",
     "text": [
      "\r",
      "  5%|███▉                                                                         | 429/8465 [04:27<3:58:20,  1.78s/it]"
     ]
    },
    {
     "name": "stdout",
     "output_type": "stream",
     "text": [
      "Done.\n",
      "Lyrics grabbed for RAP AMBUSH by DOOM\n",
      "Searching for \"LIGHTWORKS\" by DOOM...\n"
     ]
    },
    {
     "name": "stderr",
     "output_type": "stream",
     "text": [
      "\r",
      "  5%|███▉                                                                         | 430/8465 [04:28<3:25:20,  1.53s/it]"
     ]
    },
    {
     "name": "stdout",
     "output_type": "stream",
     "text": [
      "Done.\n",
      "Lyrics grabbed for LIGHTWORKS by DOOM\n",
      "Searching for \"BATTY BOYZ\" by DOOM...\n"
     ]
    },
    {
     "name": "stderr",
     "output_type": "stream",
     "text": [
      "\r",
      "  5%|███▉                                                                         | 431/8465 [04:29<3:00:49,  1.35s/it]"
     ]
    },
    {
     "name": "stdout",
     "output_type": "stream",
     "text": [
      "Done.\n",
      "Lyrics grabbed for BATTY BOYZ by DOOM\n",
      "Searching for \"ANGELZ\" by DOOM...\n"
     ]
    },
    {
     "name": "stderr",
     "output_type": "stream",
     "text": [
      "\r",
      "  5%|███▉                                                                         | 432/8465 [04:32<3:46:07,  1.69s/it]"
     ]
    },
    {
     "name": "stdout",
     "output_type": "stream",
     "text": [
      "Done.\n",
      "Lyrics grabbed for ANGELZ by DOOM\n",
      "Searching for \"CELLZ\" by DOOM...\n"
     ]
    },
    {
     "name": "stderr",
     "output_type": "stream",
     "text": [
      "\r",
      "  5%|███▉                                                                         | 433/8465 [04:34<4:11:24,  1.88s/it]"
     ]
    },
    {
     "name": "stdout",
     "output_type": "stream",
     "text": [
      "Done.\n",
      "Lyrics grabbed for CELLZ by DOOM\n",
      "Searching for \"STILL DOPE\" by DOOM...\n"
     ]
    },
    {
     "name": "stderr",
     "output_type": "stream",
     "text": [
      "\r",
      "  5%|███▉                                                                         | 434/8465 [04:35<3:38:07,  1.63s/it]"
     ]
    },
    {
     "name": "stdout",
     "output_type": "stream",
     "text": [
      "Done.\n",
      "Lyrics grabbed for STILL DOPE by DOOM\n",
      "Searching for \"MICROWAVE MAYO\" by DOOM...\n"
     ]
    },
    {
     "name": "stderr",
     "output_type": "stream",
     "text": [
      "\r",
      "  5%|███▉                                                                         | 435/8465 [04:37<3:56:30,  1.77s/it]"
     ]
    },
    {
     "name": "stdout",
     "output_type": "stream",
     "text": [
      "Done.\n",
      "Lyrics grabbed for MICROWAVE MAYO by DOOM\n",
      "Searching for \"MORE RHYMIN\" by DOOM...\n"
     ]
    },
    {
     "name": "stderr",
     "output_type": "stream",
     "text": [
      "\r",
      "  5%|███▉                                                                         | 436/8465 [04:39<4:03:14,  1.82s/it]"
     ]
    },
    {
     "name": "stdout",
     "output_type": "stream",
     "text": [
      "Done.\n",
      "Lyrics grabbed for MORE RHYMIN by DOOM\n",
      "Searching for \"THAT'S THAT\" by DOOM...\n"
     ]
    },
    {
     "name": "stderr",
     "output_type": "stream",
     "text": [
      "\r",
      "  5%|███▉                                                                         | 437/8465 [04:42<4:40:03,  2.09s/it]"
     ]
    },
    {
     "name": "stdout",
     "output_type": "stream",
     "text": [
      "Done.\n",
      "Lyrics grabbed for THAT'S THAT by DOOM\n",
      "Searching for \"SUPERVILLAINZ\" by DOOM...\n"
     ]
    },
    {
     "name": "stderr",
     "output_type": "stream",
     "text": [
      "\r",
      "  5%|███▉                                                                         | 438/8465 [04:43<3:54:19,  1.75s/it]"
     ]
    },
    {
     "name": "stdout",
     "output_type": "stream",
     "text": [
      "Done.\n",
      "Lyrics grabbed for SUPERVILLAINZ by DOOM\n",
      "Searching for \"BUMPY'S MESSAGE\" by DOOM...\n"
     ]
    },
    {
     "name": "stderr",
     "output_type": "stream",
     "text": [
      "\r",
      "  5%|███▉                                                                         | 439/8465 [04:44<3:20:51,  1.50s/it]"
     ]
    },
    {
     "name": "stdout",
     "output_type": "stream",
     "text": [
      "Done.\n",
      "Lyrics grabbed for BUMPY'S MESSAGE by DOOM\n",
      "Searching for \"THANK YA\" by DOOM...\n"
     ]
    },
    {
     "name": "stderr",
     "output_type": "stream",
     "text": [
      "\r",
      "  5%|████                                                                         | 440/8465 [04:46<3:47:58,  1.70s/it]"
     ]
    },
    {
     "name": "stdout",
     "output_type": "stream",
     "text": [
      "Done.\n",
      "Lyrics grabbed for THANK YA by DOOM\n",
      "Searching for \"THE.GREEN.WHORE.NET\" by DOOM...\n"
     ]
    },
    {
     "name": "stderr",
     "output_type": "stream",
     "text": [
      "\r",
      "  5%|████                                                                         | 441/8465 [04:48<3:55:10,  1.76s/it]"
     ]
    },
    {
     "name": "stdout",
     "output_type": "stream",
     "text": [
      "Done.\n",
      "Lyrics grabbed for THE.GREEN.WHORE.NET by DOOM\n",
      "Searching for \"GAZZILLION EAR - JNEIRO JAREL / DAVE SITEK REMIX\" by DOOM...\n"
     ]
    },
    {
     "name": "stderr",
     "output_type": "stream",
     "text": [
      "\r",
      "  5%|████                                                                         | 442/8465 [04:48<3:04:32,  1.38s/it]"
     ]
    },
    {
     "name": "stdout",
     "output_type": "stream",
     "text": [
      "Specified song does not contain lyrics. Rejecting.\n",
      "Could not find GAZZILLION EAR - JNEIRO JAREL / DAVE SITEK REMIX by DOOM\n",
      "Searching for \"GAZZILLION EAR - DR WHO DAT? REMIX\" by DOOM...\n"
     ]
    },
    {
     "name": "stderr",
     "output_type": "stream",
     "text": [
      "\r",
      "  5%|████                                                                         | 443/8465 [04:49<2:28:40,  1.11s/it]"
     ]
    },
    {
     "name": "stdout",
     "output_type": "stream",
     "text": [
      "Specified song does not contain lyrics. Rejecting.\n",
      "Could not find GAZZILLION EAR - DR WHO DAT? REMIX by DOOM\n",
      "Searching for \"GAZZILLION EAR - THOM YORKE REMIX\" by DOOM...\n"
     ]
    },
    {
     "name": "stderr",
     "output_type": "stream",
     "text": [
      "\r",
      "  5%|████                                                                         | 444/8465 [04:49<2:04:44,  1.07it/s]"
     ]
    },
    {
     "name": "stdout",
     "output_type": "stream",
     "text": [
      "Specified song does not contain lyrics. Rejecting.\n",
      "Could not find GAZZILLION EAR - THOM YORKE REMIX by DOOM\n",
      "Searching for \"Kafir!\" by Nile...\n"
     ]
    },
    {
     "name": "stderr",
     "output_type": "stream",
     "text": [
      "\r",
      "  5%|████                                                                         | 445/8465 [04:50<2:04:15,  1.08it/s]"
     ]
    },
    {
     "name": "stdout",
     "output_type": "stream",
     "text": [
      "Done.\n",
      "Lyrics grabbed for Kafir! by Nile\n",
      "Searching for \"Hittite Dung Incantation\" by Nile...\n"
     ]
    },
    {
     "name": "stderr",
     "output_type": "stream",
     "text": [
      "\r",
      "  5%|████                                                                         | 446/8465 [04:52<2:35:24,  1.16s/it]"
     ]
    },
    {
     "name": "stdout",
     "output_type": "stream",
     "text": [
      "Done.\n",
      "Lyrics grabbed for Hittite Dung Incantation by Nile\n",
      "Searching for \"Utterances of the Crawling Dead\" by Nile...\n"
     ]
    },
    {
     "name": "stderr",
     "output_type": "stream",
     "text": [
      "\r",
      "  5%|████                                                                         | 447/8465 [04:54<3:02:01,  1.36s/it]"
     ]
    },
    {
     "name": "stdout",
     "output_type": "stream",
     "text": [
      "Done.\n",
      "Lyrics grabbed for Utterances of the Crawling Dead by Nile\n",
      "Searching for \"Those Whom the Gods Detest\" by Nile...\n"
     ]
    },
    {
     "name": "stderr",
     "output_type": "stream",
     "text": [
      "\r",
      "  5%|████                                                                         | 448/8465 [04:55<3:21:25,  1.51s/it]"
     ]
    },
    {
     "name": "stdout",
     "output_type": "stream",
     "text": [
      "Done.\n",
      "Lyrics grabbed for Those Whom the Gods Detest by Nile\n",
      "Searching for \"4th Arra of Dagon\" by Nile...\n"
     ]
    },
    {
     "name": "stderr",
     "output_type": "stream",
     "text": [
      "\r",
      "  5%|████                                                                         | 449/8465 [04:56<2:55:52,  1.32s/it]"
     ]
    },
    {
     "name": "stdout",
     "output_type": "stream",
     "text": [
      "Done.\n",
      "Lyrics grabbed for 4th Arra of Dagon by Nile\n",
      "Searching for \"Permitting the Noble Dead to Descend to the Underworld\" by Nile...\n"
     ]
    },
    {
     "name": "stderr",
     "output_type": "stream",
     "text": [
      "\r",
      "  5%|████                                                                         | 450/8465 [04:58<3:12:28,  1.44s/it]"
     ]
    },
    {
     "name": "stdout",
     "output_type": "stream",
     "text": [
      "Done.\n",
      "Lyrics grabbed for Permitting the Noble Dead to Descend to the Underworld by Nile\n",
      "Searching for \"Yezd Desert Ghul Ritual in the Abandoned Towers of Silence\" by Nile...\n"
     ]
    },
    {
     "name": "stderr",
     "output_type": "stream",
     "text": [
      "\r",
      "  5%|████                                                                         | 451/8465 [04:59<2:33:42,  1.15s/it]"
     ]
    },
    {
     "name": "stdout",
     "output_type": "stream",
     "text": [
      "Specified song does not contain lyrics. Rejecting.\n",
      "Could not find Yezd Desert Ghul Ritual in the Abandoned Towers of Silence by Nile\n",
      "Searching for \"Kem Khefa Kheshef\" by Nile...\n"
     ]
    },
    {
     "name": "stderr",
     "output_type": "stream",
     "text": [
      "\r",
      "  5%|████                                                                         | 452/8465 [05:00<2:53:15,  1.30s/it]"
     ]
    },
    {
     "name": "stdout",
     "output_type": "stream",
     "text": [
      "Done.\n",
      "Lyrics grabbed for Kem Khefa Kheshef by Nile\n",
      "Searching for \"The Eye of Ra\" by Nile...\n"
     ]
    },
    {
     "name": "stderr",
     "output_type": "stream",
     "text": [
      "\r",
      "  5%|████                                                                         | 453/8465 [05:02<3:07:41,  1.41s/it]"
     ]
    },
    {
     "name": "stdout",
     "output_type": "stream",
     "text": [
      "Done.\n",
      "Lyrics grabbed for The Eye of Ra by Nile\n",
      "Searching for \"Iskander D'hul Karnon\" by Nile...\n"
     ]
    },
    {
     "name": "stderr",
     "output_type": "stream",
     "text": [
      "\r",
      "  5%|████▏                                                                        | 454/8465 [05:03<2:49:11,  1.27s/it]"
     ]
    },
    {
     "name": "stdout",
     "output_type": "stream",
     "text": [
      "Done.\n",
      "Lyrics grabbed for Iskander D'hul Karnon by Nile\n",
      "Searching for \"Berzerker\" by After the Burial...\n"
     ]
    },
    {
     "name": "stderr",
     "output_type": "stream",
     "text": [
      "\r",
      "  5%|████▏                                                                        | 455/8465 [05:05<3:12:26,  1.44s/it]"
     ]
    },
    {
     "name": "stdout",
     "output_type": "stream",
     "text": [
      "Done.\n",
      "Lyrics grabbed for Berzerker by After the Burial\n",
      "Searching for \"Drifts\" by After the Burial...\n"
     ]
    },
    {
     "name": "stderr",
     "output_type": "stream",
     "text": [
      "\r",
      "  5%|████▏                                                                        | 456/8465 [05:07<3:42:11,  1.66s/it]"
     ]
    },
    {
     "name": "stdout",
     "output_type": "stream",
     "text": [
      "Done.\n",
      "Lyrics grabbed for Drifts by After the Burial\n",
      "Searching for \"Cursing Akhenaten\" by After the Burial...\n"
     ]
    },
    {
     "name": "stderr",
     "output_type": "stream",
     "text": [
      "\r",
      "  5%|████▏                                                                        | 457/8465 [05:08<3:41:38,  1.66s/it]"
     ]
    },
    {
     "name": "stdout",
     "output_type": "stream",
     "text": [
      "Done.\n",
      "Lyrics grabbed for Cursing Akhenaten by After the Burial\n",
      "Searching for \"Rareform\" by After the Burial...\n"
     ]
    },
    {
     "name": "stderr",
     "output_type": "stream",
     "text": [
      "\r",
      "  5%|████▏                                                                        | 458/8465 [05:09<3:09:10,  1.42s/it]"
     ]
    },
    {
     "name": "stdout",
     "output_type": "stream",
     "text": [
      "Done.\n",
      "Lyrics grabbed for Rareform by After the Burial\n",
      "Searching for \"Aspiration\" by After the Burial...\n"
     ]
    },
    {
     "name": "stderr",
     "output_type": "stream",
     "text": [
      "\r",
      "  5%|████▏                                                                        | 459/8465 [05:11<3:34:06,  1.60s/it]"
     ]
    },
    {
     "name": "stdout",
     "output_type": "stream",
     "text": [
      "Done.\n",
      "Lyrics grabbed for Aspiration by After the Burial\n",
      "Searching for \"The Fractal Effect\" by After the Burial...\n"
     ]
    },
    {
     "name": "stderr",
     "output_type": "stream",
     "text": [
      "\r",
      "  5%|████▏                                                                        | 460/8465 [05:13<3:48:36,  1.71s/it]"
     ]
    },
    {
     "name": "stdout",
     "output_type": "stream",
     "text": [
      "Done.\n",
      "Lyrics grabbed for The Fractal Effect by After the Burial\n",
      "Searching for \"Ometh\" by After the Burial...\n"
     ]
    },
    {
     "name": "stderr",
     "output_type": "stream",
     "text": [
      "\r",
      "  5%|████▏                                                                        | 461/8465 [05:15<4:08:25,  1.86s/it]"
     ]
    },
    {
     "name": "stdout",
     "output_type": "stream",
     "text": [
      "Done.\n",
      "Lyrics grabbed for Ometh by After the Burial\n",
      "Searching for \"A Vicious Reforming Of Features\" by After the Burial...\n"
     ]
    },
    {
     "name": "stderr",
     "output_type": "stream",
     "text": [
      "\r",
      "  5%|████▏                                                                        | 462/8465 [05:18<4:14:10,  1.91s/it]"
     ]
    },
    {
     "name": "stdout",
     "output_type": "stream",
     "text": [
      "Done.\n",
      "Lyrics grabbed for A Vicious Reforming Of Features by After the Burial\n",
      "Searching for \"Leading Towards An End\" by Helvetia...\n"
     ]
    },
    {
     "name": "stderr",
     "output_type": "stream",
     "text": [
      "\r",
      "  5%|████▏                                                                        | 463/8465 [05:19<3:39:50,  1.65s/it]"
     ]
    },
    {
     "name": "stdout",
     "output_type": "stream",
     "text": [
      "Done.\n",
      "Lyrics grabbed for Leading Towards An End by Helvetia\n",
      "Searching for \"Annihilation Party\" by Helvetia...\n"
     ]
    },
    {
     "name": "stderr",
     "output_type": "stream",
     "text": [
      "\r",
      "  5%|████▏                                                                        | 464/8465 [05:20<3:36:58,  1.63s/it]"
     ]
    },
    {
     "name": "stdout",
     "output_type": "stream",
     "text": [
      "Done.\n",
      "Lyrics grabbed for Annihilation Party by Helvetia\n",
      "Searching for \"Junk Shop\" by Helvetia...\n"
     ]
    },
    {
     "name": "stderr",
     "output_type": "stream",
     "text": [
      "\r",
      "  5%|████▏                                                                        | 465/8465 [05:22<3:35:55,  1.62s/it]"
     ]
    },
    {
     "name": "stdout",
     "output_type": "stream",
     "text": [
      "Done.\n",
      "Lyrics grabbed for Junk Shop by Helvetia\n",
      "Searching for \"All the Money Is Gone\" by Helvetia...\n"
     ]
    },
    {
     "name": "stderr",
     "output_type": "stream",
     "text": [
      "\r",
      "  6%|████▏                                                                        | 466/8465 [05:22<2:59:42,  1.35s/it]"
     ]
    },
    {
     "name": "stdout",
     "output_type": "stream",
     "text": [
      "Specified song does not contain lyrics. Rejecting.\n",
      "Could not find All the Money Is Gone by Helvetia\n",
      "Searching for \"Solaris\" by Helvetia...\n"
     ]
    },
    {
     "name": "stderr",
     "output_type": "stream",
     "text": [
      "\r",
      "  6%|████▏                                                                        | 467/8465 [05:24<3:05:46,  1.39s/it]"
     ]
    },
    {
     "name": "stdout",
     "output_type": "stream",
     "text": [
      "Done.\n",
      "Lyrics grabbed for Solaris by Helvetia\n",
      "Searching for \"Find Your Feet\" by Helvetia...\n"
     ]
    },
    {
     "name": "stderr",
     "output_type": "stream",
     "text": [
      "\r",
      "  6%|████▎                                                                        | 468/8465 [05:26<3:27:06,  1.55s/it]"
     ]
    },
    {
     "name": "stdout",
     "output_type": "stream",
     "text": [
      "Done.\n",
      "Lyrics grabbed for Find Your Feet by Helvetia\n",
      "Searching for \"The Sandbags\" by Helvetia...\n"
     ]
    },
    {
     "name": "stderr",
     "output_type": "stream",
     "text": [
      "\r",
      "  6%|████▎                                                                        | 469/8465 [05:26<2:41:20,  1.21s/it]"
     ]
    },
    {
     "name": "stdout",
     "output_type": "stream",
     "text": [
      "No results found for: 'The Sandbags Helvetia'\n",
      "Could not find The Sandbags by Helvetia\n",
      "Searching for \"Down In That Hollow\" by Helvetia...\n"
     ]
    },
    {
     "name": "stderr",
     "output_type": "stream",
     "text": [
      "\r",
      "  6%|████▎                                                                        | 470/8465 [05:27<2:31:18,  1.14s/it]"
     ]
    },
    {
     "name": "stdout",
     "output_type": "stream",
     "text": [
      "Done.\n",
      "Lyrics grabbed for Down In That Hollow by Helvetia\n",
      "Searching for \"Grey Ghost Rides Again\" by Helvetia...\n"
     ]
    },
    {
     "name": "stderr",
     "output_type": "stream",
     "text": [
      "\r",
      "  6%|████▎                                                                        | 471/8465 [05:28<2:00:30,  1.11it/s]"
     ]
    },
    {
     "name": "stdout",
     "output_type": "stream",
     "text": [
      "No results found for: 'Grey Ghost Rides Again Helvetia'\n",
      "Could not find Grey Ghost Rides Again by Helvetia\n",
      "Searching for \"Portugal\" by Helvetia...\n"
     ]
    },
    {
     "name": "stderr",
     "output_type": "stream",
     "text": [
      "\r",
      "  6%|████▎                                                                        | 472/8465 [05:29<2:35:44,  1.17s/it]"
     ]
    },
    {
     "name": "stdout",
     "output_type": "stream",
     "text": [
      "Done.\n",
      "Lyrics grabbed for Portugal by Helvetia\n",
      "Searching for \"This Circle Dissolves Humans\" by Helvetia...\n"
     ]
    },
    {
     "name": "stderr",
     "output_type": "stream",
     "text": [
      "\r",
      "  6%|████▎                                                                        | 473/8465 [05:31<2:35:28,  1.17s/it]"
     ]
    },
    {
     "name": "stdout",
     "output_type": "stream",
     "text": [
      "Done.\n",
      "Lyrics grabbed for This Circle Dissolves Humans by Helvetia\n",
      "Searching for \"Gravity Eye\" by Helvetia...\n"
     ]
    },
    {
     "name": "stderr",
     "output_type": "stream",
     "text": [
      "\r",
      "  6%|████▎                                                                        | 474/8465 [05:34<3:59:58,  1.80s/it]"
     ]
    },
    {
     "name": "stdout",
     "output_type": "stream",
     "text": [
      "Done.\n",
      "Lyrics grabbed for Gravity Eye by Helvetia\n",
      "Searching for \"An End\" by Helvetia...\n"
     ]
    },
    {
     "name": "stderr",
     "output_type": "stream",
     "text": [
      "\r",
      "  6%|████▎                                                                        | 475/8465 [05:35<3:21:28,  1.51s/it]"
     ]
    },
    {
     "name": "stdout",
     "output_type": "stream",
     "text": [
      "Done.\n",
      "Lyrics grabbed for An End by Helvetia\n",
      "Searching for \"No Surrender\" by Kickback...\n"
     ]
    },
    {
     "name": "stderr",
     "output_type": "stream",
     "text": [
      "\r",
      "  6%|████▎                                                                        | 476/8465 [05:36<2:57:37,  1.33s/it]"
     ]
    },
    {
     "name": "stdout",
     "output_type": "stream",
     "text": [
      "Done.\n",
      "Lyrics grabbed for No Surrender by Kickback\n",
      "Searching for \"Deathlust\" by Kickback...\n"
     ]
    },
    {
     "name": "stderr",
     "output_type": "stream",
     "text": [
      "\r",
      "  6%|████▎                                                                        | 477/8465 [05:36<2:19:53,  1.05s/it]"
     ]
    },
    {
     "name": "stdout",
     "output_type": "stream",
     "text": [
      "No results found for: 'Deathlust Kickback'\n",
      "Could not find Deathlust by Kickback\n",
      "Searching for \"Still on the Prowl\" by Kickback...\n"
     ]
    },
    {
     "name": "stderr",
     "output_type": "stream",
     "text": [
      "\r",
      "  6%|████▎                                                                        | 478/8465 [05:38<2:53:56,  1.31s/it]"
     ]
    },
    {
     "name": "stdout",
     "output_type": "stream",
     "text": [
      "Done.\n",
      "Lyrics grabbed for Still on the Prowl by Kickback\n",
      "Searching for \"Aging Disgracefully\" by Kickback...\n"
     ]
    },
    {
     "name": "stderr",
     "output_type": "stream",
     "text": [
      "\r",
      "  6%|████▎                                                                        | 479/8465 [05:38<2:16:47,  1.03s/it]"
     ]
    },
    {
     "name": "stdout",
     "output_type": "stream",
     "text": [
      "No results found for: 'Aging Disgracefully Kickback'\n",
      "Could not find Aging Disgracefully by Kickback\n",
      "Searching for \"Woods Are Wet: Woman Hell\" by Kickback...\n"
     ]
    },
    {
     "name": "stderr",
     "output_type": "stream",
     "text": [
      "\r",
      "  6%|████▎                                                                        | 480/8465 [05:40<2:48:11,  1.26s/it]"
     ]
    },
    {
     "name": "stdout",
     "output_type": "stream",
     "text": [
      "Done.\n",
      "Lyrics grabbed for Woods Are Wet: Woman Hell by Kickback\n",
      "Searching for \"The Law of the Self\" by Kickback...\n"
     ]
    },
    {
     "name": "stderr",
     "output_type": "stream",
     "text": [
      "\r",
      "  6%|████▍                                                                        | 481/8465 [05:42<3:06:49,  1.40s/it]"
     ]
    },
    {
     "name": "stdout",
     "output_type": "stream",
     "text": [
      "Done.\n",
      "Lyrics grabbed for The Law of the Self by Kickback\n",
      "Searching for \"If I Die Tonight\" by Kickback...\n"
     ]
    },
    {
     "name": "stderr",
     "output_type": "stream",
     "text": [
      "\r",
      "  6%|████▍                                                                        | 482/8465 [05:43<3:15:41,  1.47s/it]"
     ]
    },
    {
     "name": "stdout",
     "output_type": "stream",
     "text": [
      "Done.\n",
      "Lyrics grabbed for If I Die Tonight by Kickback\n",
      "Searching for \"Sideshow\" by Kickback...\n"
     ]
    },
    {
     "name": "stderr",
     "output_type": "stream",
     "text": [
      "\r",
      "  6%|████▍                                                                        | 483/8465 [05:45<3:15:19,  1.47s/it]"
     ]
    },
    {
     "name": "stdout",
     "output_type": "stream",
     "text": [
      "Done.\n",
      "Lyrics grabbed for Sideshow by Kickback\n",
      "Searching for \"Unholy Triumph\" by Kickback...\n"
     ]
    },
    {
     "name": "stderr",
     "output_type": "stream",
     "text": [
      "\r",
      "  6%|████▍                                                                        | 484/8465 [05:45<2:31:05,  1.14s/it]"
     ]
    },
    {
     "name": "stdout",
     "output_type": "stream",
     "text": [
      "No results found for: 'Unholy Triumph Kickback'\n",
      "Could not find Unholy Triumph by Kickback\n",
      "Searching for \"The Audience Is the Target\" by Kickback...\n"
     ]
    },
    {
     "name": "stderr",
     "output_type": "stream",
     "text": [
      "\r",
      "  6%|████▍                                                                        | 485/8465 [05:47<3:14:48,  1.46s/it]"
     ]
    },
    {
     "name": "stdout",
     "output_type": "stream",
     "text": [
      "Done.\n",
      "Lyrics grabbed for The Audience Is the Target by Kickback\n",
      "Searching for \"Warpath\" by Kickback...\n"
     ]
    },
    {
     "name": "stderr",
     "output_type": "stream",
     "text": [
      "\r",
      "  6%|████▍                                                                        | 486/8465 [05:49<3:36:11,  1.63s/it]"
     ]
    },
    {
     "name": "stdout",
     "output_type": "stream",
     "text": [
      "Done.\n",
      "Lyrics grabbed for Warpath by Kickback\n",
      "Searching for \"I Gots To Ball\" by Viper...\n"
     ]
    },
    {
     "name": "stderr",
     "output_type": "stream",
     "text": [
      "\r",
      "  6%|████▍                                                                        | 487/8465 [05:51<3:12:15,  1.45s/it]"
     ]
    },
    {
     "name": "stdout",
     "output_type": "stream",
     "text": [
      "Done.\n",
      "Lyrics grabbed for I Gots To Ball by Viper\n",
      "Searching for \"You Wanna See Me Dead Cause Of My Hops\" by Viper...\n"
     ]
    },
    {
     "name": "stderr",
     "output_type": "stream",
     "text": [
      "\r",
      "  6%|████▍                                                                        | 488/8465 [05:53<4:03:17,  1.83s/it]"
     ]
    },
    {
     "name": "stdout",
     "output_type": "stream",
     "text": [
      "Done.\n",
      "Lyrics grabbed for You Wanna See Me Dead Cause Of My Hops by Viper\n",
      "Searching for \"Missing You\" by Viper...\n"
     ]
    },
    {
     "name": "stderr",
     "output_type": "stream",
     "text": [
      "\r",
      "  6%|████▍                                                                        | 489/8465 [05:55<3:51:24,  1.74s/it]"
     ]
    },
    {
     "name": "stdout",
     "output_type": "stream",
     "text": [
      "Done.\n",
      "Lyrics grabbed for Missing You by Viper\n",
      "Searching for \"You Got Yo Gat\" by Viper...\n"
     ]
    },
    {
     "name": "stderr",
     "output_type": "stream",
     "text": [
      "\r",
      "  6%|████▍                                                                        | 490/8465 [05:57<4:02:57,  1.83s/it]"
     ]
    },
    {
     "name": "stdout",
     "output_type": "stream",
     "text": [
      "Done.\n",
      "Lyrics grabbed for You Got Yo Gat by Viper\n",
      "Searching for \"Thug Verses\" by Viper...\n"
     ]
    },
    {
     "name": "stderr",
     "output_type": "stream",
     "text": [
      "\r",
      "  6%|████▍                                                                        | 491/8465 [05:58<3:32:34,  1.60s/it]"
     ]
    },
    {
     "name": "stdout",
     "output_type": "stream",
     "text": [
      "Done.\n",
      "Lyrics grabbed for Thug Verses by Viper\n",
      "Searching for \"Stuck On Grind To Shine\" by Viper...\n"
     ]
    },
    {
     "name": "stderr",
     "output_type": "stream",
     "text": [
      "\r",
      "  6%|████▍                                                                        | 492/8465 [06:00<3:38:51,  1.65s/it]"
     ]
    },
    {
     "name": "stdout",
     "output_type": "stream",
     "text": [
      "Done.\n",
      "Lyrics grabbed for Stuck On Grind To Shine by Viper\n",
      "Searching for \"I Ball Or Die\" by Viper...\n"
     ]
    },
    {
     "name": "stderr",
     "output_type": "stream",
     "text": [
      "\r",
      "  6%|████▍                                                                        | 493/8465 [06:02<4:17:02,  1.93s/it]"
     ]
    },
    {
     "name": "stdout",
     "output_type": "stream",
     "text": [
      "Done.\n",
      "Lyrics grabbed for I Ball Or Die by Viper\n",
      "Searching for \"I'm In A Gang But I Ride Solo, Fool\" by Viper...\n"
     ]
    },
    {
     "name": "stderr",
     "output_type": "stream",
     "text": [
      "\r",
      "  6%|████▍                                                                        | 494/8465 [06:04<4:01:15,  1.82s/it]"
     ]
    },
    {
     "name": "stdout",
     "output_type": "stream",
     "text": [
      "Done.\n",
      "Lyrics grabbed for I'm In A Gang But I Ride Solo, Fool by Viper\n",
      "Searching for \"This Nigga Will Kill Ya\" by Viper...\n"
     ]
    },
    {
     "name": "stderr",
     "output_type": "stream",
     "text": [
      "\r",
      "  6%|████▌                                                                        | 495/8465 [06:05<3:45:33,  1.70s/it]"
     ]
    },
    {
     "name": "stdout",
     "output_type": "stream",
     "text": [
      "Done.\n",
      "Lyrics grabbed for This Nigga Will Kill Ya by Viper\n",
      "Searching for \"I'm A Snake In The Grass - Money Rolls Remix\" by Viper...\n"
     ]
    },
    {
     "name": "stderr",
     "output_type": "stream",
     "text": [
      "\r",
      "  6%|████▌                                                                        | 496/8465 [06:06<3:16:44,  1.48s/it]"
     ]
    },
    {
     "name": "stdout",
     "output_type": "stream",
     "text": [
      "Done.\n",
      "Lyrics grabbed for I'm A Snake In The Grass - Money Rolls Remix by Viper\n",
      "Searching for \"Hey, Maybe One Day You'll See Me Again\" by Viper...\n"
     ]
    },
    {
     "name": "stderr",
     "output_type": "stream",
     "text": [
      "\r",
      "  6%|████▌                                                                        | 497/8465 [06:08<3:28:12,  1.57s/it]"
     ]
    },
    {
     "name": "stdout",
     "output_type": "stream",
     "text": [
      "Done.\n",
      "Lyrics grabbed for Hey, Maybe One Day You'll See Me Again by Viper\n",
      "Searching for \"Quick Blast\" by Viper...\n"
     ]
    },
    {
     "name": "stderr",
     "output_type": "stream",
     "text": [
      "\r",
      "  6%|████▌                                                                        | 498/8465 [06:10<3:49:27,  1.73s/it]"
     ]
    },
    {
     "name": "stdout",
     "output_type": "stream",
     "text": [
      "Done.\n",
      "Lyrics grabbed for Quick Blast by Viper\n",
      "Searching for \"This G They Wanna Be\" by Viper...\n"
     ]
    },
    {
     "name": "stderr",
     "output_type": "stream",
     "text": [
      "\r",
      "  6%|████▌                                                                        | 499/8465 [06:12<3:45:09,  1.70s/it]"
     ]
    },
    {
     "name": "stdout",
     "output_type": "stream",
     "text": [
      "Done.\n",
      "Lyrics grabbed for This G They Wanna Be by Viper\n",
      "Searching for \"Exciting\" by Viper...\n"
     ]
    },
    {
     "name": "stderr",
     "output_type": "stream",
     "text": [
      "\r",
      "  6%|████▌                                                                        | 500/8465 [06:13<3:25:00,  1.54s/it]"
     ]
    },
    {
     "name": "stdout",
     "output_type": "stream",
     "text": [
      "Done.\n",
      "Lyrics grabbed for Exciting by Viper\n",
      "Searching for \"How The Fuck These Buster Rappers Get Blessed\" by Viper...\n"
     ]
    },
    {
     "name": "stderr",
     "output_type": "stream",
     "text": [
      "\r",
      "  6%|████▌                                                                        | 501/8465 [06:14<3:00:49,  1.36s/it]"
     ]
    },
    {
     "name": "stdout",
     "output_type": "stream",
     "text": [
      "Done.\n",
      "Lyrics grabbed for How The Fuck These Buster Rappers Get Blessed by Viper\n",
      "Searching for \"Equivalence\" by Insomnium...\n"
     ]
    },
    {
     "name": "stderr",
     "output_type": "stream",
     "text": [
      "\r",
      "  6%|████▌                                                                        | 502/8465 [06:15<2:43:07,  1.23s/it]"
     ]
    },
    {
     "name": "stdout",
     "output_type": "stream",
     "text": [
      "Done.\n",
      "Lyrics grabbed for Equivalence by Insomnium\n",
      "Searching for \"Down With The Sun\" by Insomnium...\n"
     ]
    },
    {
     "name": "stderr",
     "output_type": "stream",
     "text": [
      "\r",
      "  6%|████▌                                                                        | 503/8465 [06:17<3:07:11,  1.41s/it]"
     ]
    },
    {
     "name": "stdout",
     "output_type": "stream",
     "text": [
      "Done.\n",
      "Lyrics grabbed for Down With The Sun by Insomnium\n",
      "Searching for \"Where The Last Wave Broke\" by Insomnium...\n"
     ]
    },
    {
     "name": "stderr",
     "output_type": "stream",
     "text": [
      "\r",
      "  6%|████▌                                                                        | 504/8465 [06:18<3:26:49,  1.56s/it]"
     ]
    },
    {
     "name": "stdout",
     "output_type": "stream",
     "text": [
      "Done.\n",
      "Lyrics grabbed for Where The Last Wave Broke by Insomnium\n",
      "Searching for \"The Harrowing Years\" by Insomnium...\n"
     ]
    },
    {
     "name": "stderr",
     "output_type": "stream",
     "text": [
      "\r",
      "  6%|████▌                                                                        | 505/8465 [06:20<3:41:09,  1.67s/it]"
     ]
    },
    {
     "name": "stdout",
     "output_type": "stream",
     "text": [
      "Done.\n",
      "Lyrics grabbed for The Harrowing Years by Insomnium\n",
      "Searching for \"Against The Stream\" by Insomnium...\n"
     ]
    },
    {
     "name": "stderr",
     "output_type": "stream",
     "text": [
      "\r",
      "  6%|████▌                                                                        | 506/8465 [06:23<4:13:50,  1.91s/it]"
     ]
    },
    {
     "name": "stdout",
     "output_type": "stream",
     "text": [
      "Done.\n",
      "Lyrics grabbed for Against The Stream by Insomnium\n",
      "Searching for \"The Lay Of Autumn\" by Insomnium...\n"
     ]
    },
    {
     "name": "stderr",
     "output_type": "stream",
     "text": [
      "\r",
      "  6%|████▌                                                                        | 507/8465 [06:24<3:56:01,  1.78s/it]"
     ]
    },
    {
     "name": "stdout",
     "output_type": "stream",
     "text": [
      "Done.\n",
      "Lyrics grabbed for The Lay Of Autumn by Insomnium\n",
      "Searching for \"Into The Woods\" by Insomnium...\n"
     ]
    },
    {
     "name": "stderr",
     "output_type": "stream",
     "text": [
      "\r",
      "  6%|████▌                                                                        | 508/8465 [06:26<4:10:27,  1.89s/it]"
     ]
    },
    {
     "name": "stdout",
     "output_type": "stream",
     "text": [
      "Done.\n",
      "Lyrics grabbed for Into The Woods by Insomnium\n",
      "Searching for \"Weighted Down With Sorrow\" by Insomnium...\n"
     ]
    },
    {
     "name": "stderr",
     "output_type": "stream",
     "text": [
      "\r",
      "  6%|████▋                                                                        | 509/8465 [06:29<4:21:01,  1.97s/it]"
     ]
    },
    {
     "name": "stdout",
     "output_type": "stream",
     "text": [
      "Done.\n",
      "Lyrics grabbed for Weighted Down With Sorrow by Insomnium\n",
      "Searching for \"Paper Scissors Stone\" by Portico Quartet...\n"
     ]
    },
    {
     "name": "stderr",
     "output_type": "stream",
     "text": [
      "\r",
      "  6%|████▋                                                                        | 510/8465 [06:29<3:24:33,  1.54s/it]"
     ]
    },
    {
     "name": "stdout",
     "output_type": "stream",
     "text": [
      "Specified song does not contain lyrics. Rejecting.\n",
      "Could not find Paper Scissors Stone by Portico Quartet\n",
      "Searching for \"The Visitor\" by Portico Quartet...\n"
     ]
    },
    {
     "name": "stderr",
     "output_type": "stream",
     "text": [
      "\r",
      "  6%|████▋                                                                        | 511/8465 [06:31<3:39:25,  1.66s/it]"
     ]
    },
    {
     "name": "stdout",
     "output_type": "stream",
     "text": [
      "Done.\n",
      "Lyrics grabbed for The Visitor by Portico Quartet\n",
      "Searching for \"Dawn Patrol\" by Portico Quartet...\n"
     ]
    },
    {
     "name": "stderr",
     "output_type": "stream",
     "text": [
      "\r",
      "  6%|████▋                                                                        | 512/8465 [06:32<3:17:21,  1.49s/it]"
     ]
    },
    {
     "name": "stdout",
     "output_type": "stream",
     "text": [
      "Done.\n",
      "Lyrics grabbed for Dawn Patrol by Portico Quartet\n",
      "Searching for \"Line\" by Portico Quartet...\n"
     ]
    },
    {
     "name": "stderr",
     "output_type": "stream",
     "text": [
      "\r",
      "  6%|████▋                                                                        | 513/8465 [06:34<3:38:57,  1.65s/it]"
     ]
    },
    {
     "name": "stdout",
     "output_type": "stream",
     "text": [
      "Done.\n",
      "Lyrics grabbed for Line by Portico Quartet\n",
      "Searching for \"Life Mask - Interlude\" by Portico Quartet...\n"
     ]
    },
    {
     "name": "stderr",
     "output_type": "stream",
     "text": [
      "\r",
      "  6%|████▋                                                                        | 514/8465 [06:35<3:08:08,  1.42s/it]"
     ]
    },
    {
     "name": "stdout",
     "output_type": "stream",
     "text": [
      "Done.\n",
      "Lyrics grabbed for Life Mask - Interlude by Portico Quartet\n",
      "Searching for \"Clipper\" by Portico Quartet...\n"
     ]
    },
    {
     "name": "stderr",
     "output_type": "stream",
     "text": [
      "\r",
      "  6%|████▋                                                                        | 515/8465 [06:36<2:47:11,  1.26s/it]"
     ]
    },
    {
     "name": "stdout",
     "output_type": "stream",
     "text": [
      "Done.\n",
      "Lyrics grabbed for Clipper by Portico Quartet\n",
      "Searching for \"Life Mask\" by Portico Quartet...\n"
     ]
    },
    {
     "name": "stderr",
     "output_type": "stream",
     "text": [
      "\r",
      "  6%|████▋                                                                        | 516/8465 [06:37<2:31:58,  1.15s/it]"
     ]
    },
    {
     "name": "stdout",
     "output_type": "stream",
     "text": [
      "Done.\n",
      "Lyrics grabbed for Life Mask by Portico Quartet\n",
      "Searching for \"Isla\" by Portico Quartet...\n"
     ]
    },
    {
     "name": "stderr",
     "output_type": "stream",
     "text": [
      "\r",
      "  6%|████▋                                                                        | 517/8465 [06:38<2:23:18,  1.08s/it]"
     ]
    },
    {
     "name": "stdout",
     "output_type": "stream",
     "text": [
      "Done.\n",
      "Lyrics grabbed for Isla by Portico Quartet\n",
      "Searching for \"Shed Song - Improv No 1\" by Portico Quartet...\n"
     ]
    },
    {
     "name": "stderr",
     "output_type": "stream",
     "text": [
      "\r",
      "  6%|████▋                                                                        | 518/8465 [06:38<1:57:48,  1.12it/s]"
     ]
    },
    {
     "name": "stdout",
     "output_type": "stream",
     "text": [
      "No results found for: 'Shed Song - Improv No 1 Portico Quartet'\n",
      "Could not find Shed Song - Improv No 1 by Portico Quartet\n",
      "Searching for \"Su-Bo's Mental Meltdown\" by Portico Quartet...\n"
     ]
    },
    {
     "name": "stderr",
     "output_type": "stream",
     "text": [
      "\r",
      "  6%|████▋                                                                        | 519/8465 [06:39<1:37:57,  1.35it/s]"
     ]
    },
    {
     "name": "stdout",
     "output_type": "stream",
     "text": [
      "No results found for: 'Su-Bo's Mental Meltdown Portico Quartet'\n",
      "Could not find Su-Bo's Mental Meltdown by Portico Quartet\n",
      "Searching for \"if nobody moves nobody will get hurt (the extinction)\" by The Paper Chase...\n"
     ]
    },
    {
     "name": "stderr",
     "output_type": "stream",
     "text": [
      "\r",
      "  6%|████▋                                                                        | 520/8465 [06:41<2:47:15,  1.26s/it]"
     ]
    },
    {
     "name": "stdout",
     "output_type": "stream",
     "text": [
      "Done.\n",
      "Lyrics grabbed for if nobody moves nobody will get hurt (the extinction) by The Paper Chase\n",
      "Searching for \"im going to heaven with or without you (the forest fire)\" by The Paper Chase...\n"
     ]
    },
    {
     "name": "stderr",
     "output_type": "stream",
     "text": [
      "\r",
      "  6%|████▋                                                                        | 521/8465 [06:42<2:42:16,  1.23s/it]"
     ]
    },
    {
     "name": "stdout",
     "output_type": "stream",
     "text": [
      "Done.\n",
      "Lyrics grabbed for im going to heaven with or without you (the forest fire) by The Paper Chase\n",
      "Searching for \"the common cold (the epidemic)\" by The Paper Chase...\n"
     ]
    },
    {
     "name": "stderr",
     "output_type": "stream",
     "text": [
      "\r",
      "  6%|████▋                                                                        | 522/8465 [06:45<3:42:43,  1.68s/it]"
     ]
    },
    {
     "name": "stdout",
     "output_type": "stream",
     "text": [
      "Done.\n",
      "Lyrics grabbed for the common cold (the epidemic) by The Paper Chase\n",
      "Searching for \"the laying of hands the speaking of tongues (the mass hysteria)\" by The Paper Chase...\n"
     ]
    },
    {
     "name": "stderr",
     "output_type": "stream",
     "text": [
      "\r",
      "  6%|████▊                                                                        | 523/8465 [06:46<3:13:59,  1.47s/it]"
     ]
    },
    {
     "name": "stdout",
     "output_type": "stream",
     "text": [
      "Done.\n",
      "Lyrics grabbed for the laying of hands the speaking of tongues (the mass hysteria) by The Paper Chase\n",
      "Searching for \"your money or your life (the comet)\" by The Paper Chase...\n"
     ]
    },
    {
     "name": "stderr",
     "output_type": "stream",
     "text": [
      "\r",
      "  6%|████▊                                                                        | 524/8465 [06:48<3:28:25,  1.57s/it]"
     ]
    },
    {
     "name": "stdout",
     "output_type": "stream",
     "text": [
      "Done.\n",
      "Lyrics grabbed for your money or your life (the comet) by The Paper Chase\n",
      "Searching for \"What Should We Do\" by The Paper Chase...\n"
     ]
    },
    {
     "name": "stderr",
     "output_type": "stream",
     "text": [
      "\r",
      "  6%|████▊                                                                        | 525/8465 [06:49<3:18:45,  1.50s/it]"
     ]
    },
    {
     "name": "stdout",
     "output_type": "stream",
     "text": [
      "Done.\n",
      "Lyrics grabbed for What Should We Do by The Paper Chase\n",
      "Searching for \"this is a rape (the flood)\" by The Paper Chase...\n"
     ]
    },
    {
     "name": "stderr",
     "output_type": "stream",
     "text": [
      "\r",
      "  6%|████▊                                                                        | 526/8465 [06:50<3:03:02,  1.38s/it]"
     ]
    },
    {
     "name": "stdout",
     "output_type": "stream",
     "text": [
      "Done.\n",
      "Lyrics grabbed for this is a rape (the flood) by The Paper Chase\n",
      "Searching for \"the small of your back the nape of your neck (the blizzard)\" by The Paper Chase...\n"
     ]
    },
    {
     "name": "stderr",
     "output_type": "stream",
     "text": [
      "\r",
      "  6%|████▊                                                                        | 527/8465 [06:52<3:15:57,  1.48s/it]"
     ]
    },
    {
     "name": "stdout",
     "output_type": "stream",
     "text": [
      "Done.\n",
      "Lyrics grabbed for the small of your back the nape of your neck (the blizzard) by The Paper Chase\n",
      "Searching for \"this is only a test (the tornado)\" by The Paper Chase...\n"
     ]
    },
    {
     "name": "stderr",
     "output_type": "stream",
     "text": [
      "\r",
      "  6%|████▊                                                                        | 528/8465 [06:54<3:32:56,  1.61s/it]"
     ]
    },
    {
     "name": "stdout",
     "output_type": "stream",
     "text": [
      "Done.\n",
      "Lyrics grabbed for this is only a test (the tornado) by The Paper Chase\n",
      "Searching for \"we have ways to make you talk (the human condition)\" by The Paper Chase...\n"
     ]
    },
    {
     "name": "stderr",
     "output_type": "stream",
     "text": [
      "\r",
      "  6%|████▊                                                                        | 529/8465 [06:56<3:55:23,  1.78s/it]"
     ]
    },
    {
     "name": "stdout",
     "output_type": "stream",
     "text": [
      "Done.\n",
      "Lyrics grabbed for we have ways to make you talk (the human condition) by The Paper Chase\n",
      "Searching for \"Desert Flight\" by Gazpacho...\n"
     ]
    },
    {
     "name": "stderr",
     "output_type": "stream",
     "text": [
      "\r",
      "  6%|████▊                                                                        | 530/8465 [06:58<3:50:38,  1.74s/it]"
     ]
    },
    {
     "name": "stdout",
     "output_type": "stream",
     "text": [
      "Done.\n",
      "Lyrics grabbed for Desert Flight by Gazpacho\n",
      "Searching for \"The Walk Part I\" by Gazpacho...\n"
     ]
    },
    {
     "name": "stderr",
     "output_type": "stream",
     "text": [
      "\r",
      "  6%|████▊                                                                        | 531/8465 [06:59<3:43:47,  1.69s/it]"
     ]
    },
    {
     "name": "stdout",
     "output_type": "stream",
     "text": [
      "Done.\n",
      "Lyrics grabbed for The Walk Part I by Gazpacho\n",
      "Searching for \"The Walk Part II\" by Gazpacho...\n"
     ]
    },
    {
     "name": "stderr",
     "output_type": "stream",
     "text": [
      "\r",
      "  6%|████▊                                                                        | 532/8465 [07:01<3:34:10,  1.62s/it]"
     ]
    },
    {
     "name": "stdout",
     "output_type": "stream",
     "text": [
      "Done.\n",
      "Lyrics grabbed for The Walk Part II by Gazpacho\n",
      "Searching for \"Tick Tock Part I\" by Gazpacho...\n"
     ]
    },
    {
     "name": "stderr",
     "output_type": "stream",
     "text": [
      "\r",
      "  6%|████▊                                                                        | 533/8465 [07:02<3:04:34,  1.40s/it]"
     ]
    },
    {
     "name": "stdout",
     "output_type": "stream",
     "text": [
      "Done.\n",
      "Lyrics grabbed for Tick Tock Part I by Gazpacho\n",
      "Searching for \"Tick Tock Part II\" by Gazpacho...\n"
     ]
    },
    {
     "name": "stderr",
     "output_type": "stream",
     "text": [
      "\r",
      "  6%|████▊                                                                        | 534/8465 [07:02<2:22:40,  1.08s/it]"
     ]
    },
    {
     "name": "stdout",
     "output_type": "stream",
     "text": [
      "No results found for: 'Tick Tock Part II Gazpacho'\n",
      "Could not find Tick Tock Part II by Gazpacho\n",
      "Searching for \"Tick Tock Part III\" by Gazpacho...\n"
     ]
    },
    {
     "name": "stderr",
     "output_type": "stream",
     "text": [
      "\r",
      "  6%|████▊                                                                        | 535/8465 [07:02<1:53:38,  1.16it/s]"
     ]
    },
    {
     "name": "stdout",
     "output_type": "stream",
     "text": [
      "No results found for: 'Tick Tock Part III Gazpacho'\n",
      "Could not find Tick Tock Part III by Gazpacho\n",
      "Searching for \"Winter Is Never\" by Gazpacho...\n"
     ]
    },
    {
     "name": "stderr",
     "output_type": "stream",
     "text": [
      "\r",
      "  6%|████▉                                                                        | 536/8465 [07:03<1:55:34,  1.14it/s]"
     ]
    },
    {
     "name": "stdout",
     "output_type": "stream",
     "text": [
      "Done.\n",
      "Lyrics grabbed for Winter Is Never by Gazpacho\n",
      "Searching for \"Independence Day (Outtake/Demo)\" by Gazpacho...\n"
     ]
    },
    {
     "name": "stderr",
     "output_type": "stream",
     "text": [
      "\r",
      "  6%|████▉                                                                        | 537/8465 [07:04<1:36:09,  1.37it/s]"
     ]
    },
    {
     "name": "stdout",
     "output_type": "stream",
     "text": [
      "No results found for: 'Independence Day (Outtake/Demo) Gazpacho'\n",
      "Could not find Independence Day (Outtake/Demo) by Gazpacho\n",
      "Searching for \"Surf Solar\" by Fuck Buttons...\n"
     ]
    },
    {
     "name": "stderr",
     "output_type": "stream",
     "text": [
      "\r",
      "  6%|████▉                                                                        | 538/8465 [07:04<1:30:28,  1.46it/s]"
     ]
    },
    {
     "name": "stdout",
     "output_type": "stream",
     "text": [
      "Specified song does not contain lyrics. Rejecting.\n",
      "Could not find Surf Solar by Fuck Buttons\n",
      "Searching for \"Rough Steez\" by Fuck Buttons...\n"
     ]
    },
    {
     "name": "stderr",
     "output_type": "stream",
     "text": [
      "\r",
      "  6%|████▉                                                                        | 539/8465 [07:05<1:26:26,  1.53it/s]"
     ]
    },
    {
     "name": "stdout",
     "output_type": "stream",
     "text": [
      "Specified song does not contain lyrics. Rejecting.\n",
      "Could not find Rough Steez by Fuck Buttons\n",
      "Searching for \"The Lisbon Maru\" by Fuck Buttons...\n"
     ]
    },
    {
     "name": "stderr",
     "output_type": "stream",
     "text": [
      "\r",
      "  6%|████▉                                                                        | 540/8465 [07:05<1:24:39,  1.56it/s]"
     ]
    },
    {
     "name": "stdout",
     "output_type": "stream",
     "text": [
      "Specified song does not contain lyrics. Rejecting.\n",
      "Could not find The Lisbon Maru by Fuck Buttons\n",
      "Searching for \"Olympians\" by Fuck Buttons...\n"
     ]
    },
    {
     "name": "stderr",
     "output_type": "stream",
     "text": [
      "\r",
      "  6%|████▉                                                                        | 541/8465 [07:06<1:23:22,  1.58it/s]"
     ]
    },
    {
     "name": "stdout",
     "output_type": "stream",
     "text": [
      "Specified song does not contain lyrics. Rejecting.\n",
      "Could not find Olympians by Fuck Buttons\n",
      "Searching for \"Phantom Limb\" by Fuck Buttons...\n"
     ]
    },
    {
     "name": "stderr",
     "output_type": "stream",
     "text": [
      "\r",
      "  6%|████▉                                                                        | 542/8465 [07:07<1:21:18,  1.62it/s]"
     ]
    },
    {
     "name": "stdout",
     "output_type": "stream",
     "text": [
      "Specified song does not contain lyrics. Rejecting.\n",
      "Could not find Phantom Limb by Fuck Buttons\n",
      "Searching for \"Space Mountain\" by Fuck Buttons...\n"
     ]
    },
    {
     "name": "stderr",
     "output_type": "stream",
     "text": [
      "\r",
      "  6%|████▉                                                                        | 543/8465 [07:07<1:20:29,  1.64it/s]"
     ]
    },
    {
     "name": "stdout",
     "output_type": "stream",
     "text": [
      "Specified song does not contain lyrics. Rejecting.\n",
      "Could not find Space Mountain by Fuck Buttons\n",
      "Searching for \"Flight Of The Feathered Serpent\" by Fuck Buttons...\n"
     ]
    },
    {
     "name": "stderr",
     "output_type": "stream",
     "text": [
      "\r",
      "  6%|████▉                                                                        | 544/8465 [07:08<1:22:55,  1.59it/s]"
     ]
    },
    {
     "name": "stdout",
     "output_type": "stream",
     "text": [
      "Specified song does not contain lyrics. Rejecting.\n",
      "Could not find Flight Of The Feathered Serpent by Fuck Buttons\n",
      "Searching for \"Simulacrum\" by Fall of Efrafa...\n"
     ]
    },
    {
     "name": "stderr",
     "output_type": "stream",
     "text": [
      "\r",
      "  6%|████▉                                                                        | 545/8465 [07:09<1:29:33,  1.47it/s]"
     ]
    },
    {
     "name": "stdout",
     "output_type": "stream",
     "text": [
      "Done.\n",
      "Lyrics grabbed for Simulacrum by Fall of Efrafa\n",
      "Searching for \"Fu Inle\" by Fall of Efrafa...\n"
     ]
    },
    {
     "name": "stderr",
     "output_type": "stream",
     "text": [
      "\r",
      "  6%|████▉                                                                        | 546/8465 [07:10<1:56:06,  1.14it/s]"
     ]
    },
    {
     "name": "stdout",
     "output_type": "stream",
     "text": [
      "Done.\n",
      "Lyrics grabbed for Fu Inle by Fall of Efrafa\n",
      "Searching for \"Republic of Heaven\" by Fall of Efrafa...\n"
     ]
    },
    {
     "name": "stderr",
     "output_type": "stream",
     "text": [
      "\r",
      "  6%|████▉                                                                        | 547/8465 [07:11<1:50:06,  1.20it/s]"
     ]
    },
    {
     "name": "stdout",
     "output_type": "stream",
     "text": [
      "Done.\n",
      "Lyrics grabbed for Republic of Heaven by Fall of Efrafa\n",
      "Searching for \"The Burial\" by Fall of Efrafa...\n"
     ]
    },
    {
     "name": "stderr",
     "output_type": "stream",
     "text": [
      "\r",
      "  6%|████▉                                                                        | 548/8465 [07:11<1:46:39,  1.24it/s]"
     ]
    },
    {
     "name": "stdout",
     "output_type": "stream",
     "text": [
      "Done.\n",
      "Lyrics grabbed for The Burial by Fall of Efrafa\n",
      "Searching for \"Woundwort\" by Fall of Efrafa...\n"
     ]
    },
    {
     "name": "stderr",
     "output_type": "stream",
     "text": [
      "\r",
      "  6%|████▉                                                                        | 549/8465 [07:12<1:44:18,  1.26it/s]"
     ]
    },
    {
     "name": "stdout",
     "output_type": "stream",
     "text": [
      "Done.\n",
      "Lyrics grabbed for Woundwort by Fall of Efrafa\n",
      "Searching for \"The Sky Suspended\" by Fall of Efrafa...\n"
     ]
    },
    {
     "name": "stderr",
     "output_type": "stream",
     "text": [
      "\r",
      "  6%|█████                                                                        | 550/8465 [07:13<1:34:47,  1.39it/s]"
     ]
    },
    {
     "name": "stdout",
     "output_type": "stream",
     "text": [
      "Specified song does not contain lyrics. Rejecting.\n",
      "Could not find The Sky Suspended by Fall of Efrafa\n",
      "Searching for \"Warren of Snares\" by Fall of Efrafa...\n"
     ]
    },
    {
     "name": "stderr",
     "output_type": "stream",
     "text": [
      "\r",
      "  7%|█████                                                                        | 551/8465 [07:14<1:55:50,  1.14it/s]"
     ]
    },
    {
     "name": "stdout",
     "output_type": "stream",
     "text": [
      "Done.\n",
      "Lyrics grabbed for Warren of Snares by Fall of Efrafa\n",
      "Searching for \"Dormouse - A Theme\" by Phideaux...\n"
     ]
    },
    {
     "name": "stderr",
     "output_type": "stream",
     "text": [
      "\r",
      "  7%|█████                                                                        | 552/8465 [07:14<1:36:31,  1.37it/s]"
     ]
    },
    {
     "name": "stdout",
     "output_type": "stream",
     "text": [
      "No results found for: 'Dormouse - A Theme Phideaux'\n",
      "Could not find Dormouse - A Theme by Phideaux\n",
      "Searching for \"Waiting For the Axe To Fall\" by Phideaux...\n"
     ]
    },
    {
     "name": "stderr",
     "output_type": "stream",
     "text": [
      "\r",
      "  7%|█████                                                                        | 553/8465 [07:16<2:06:41,  1.04it/s]"
     ]
    },
    {
     "name": "stdout",
     "output_type": "stream",
     "text": [
      "Done.\n",
      "Lyrics grabbed for Waiting For the Axe To Fall by Phideaux\n",
      "Searching for \"Darkness At Noon\" by Phideaux...\n"
     ]
    },
    {
     "name": "stderr",
     "output_type": "stream",
     "text": [
      "\r",
      "  7%|█████                                                                        | 554/8465 [07:17<2:19:47,  1.06s/it]"
     ]
    },
    {
     "name": "stdout",
     "output_type": "stream",
     "text": [
      "Done.\n",
      "Lyrics grabbed for Darkness At Noon by Phideaux\n",
      "Searching for \"Gift of the Flame\" by Phideaux...\n"
     ]
    },
    {
     "name": "stderr",
     "output_type": "stream",
     "text": [
      "\r",
      "  7%|█████                                                                        | 555/8465 [07:19<2:37:37,  1.20s/it]"
     ]
    },
    {
     "name": "stdout",
     "output_type": "stream",
     "text": [
      "Done.\n",
      "Lyrics grabbed for Gift of the Flame by Phideaux\n",
      "Searching for \"Interview With a Dormouse\" by Phideaux...\n"
     ]
    },
    {
     "name": "stderr",
     "output_type": "stream",
     "text": [
      "\r",
      "  7%|█████                                                                        | 556/8465 [07:19<2:18:23,  1.05s/it]"
     ]
    },
    {
     "name": "stdout",
     "output_type": "stream",
     "text": [
      "Specified song does not contain lyrics. Rejecting.\n",
      "Could not find Interview With a Dormouse by Phideaux\n",
      "Searching for \"Thermonuclear Cheese\" by Phideaux...\n"
     ]
    },
    {
     "name": "stderr",
     "output_type": "stream",
     "text": [
      "\r",
      "  7%|█████                                                                        | 557/8465 [07:20<1:50:38,  1.19it/s]"
     ]
    },
    {
     "name": "stdout",
     "output_type": "stream",
     "text": [
      "No results found for: 'Thermonuclear Cheese Phideaux'\n",
      "Could not find Thermonuclear Cheese by Phideaux\n",
      "Searching for \"The Search For Terrestrial Life\" by Phideaux...\n"
     ]
    },
    {
     "name": "stderr",
     "output_type": "stream",
     "text": [
      "\r",
      "  7%|█████                                                                        | 558/8465 [07:21<1:51:40,  1.18it/s]"
     ]
    },
    {
     "name": "stdout",
     "output_type": "stream",
     "text": [
      "Done.\n",
      "Lyrics grabbed for The Search For Terrestrial Life by Phideaux\n",
      "Searching for \"Love Theme From \"Number Seven\"\" by Phideaux...\n"
     ]
    },
    {
     "name": "stderr",
     "output_type": "stream",
     "text": [
      "\r",
      "  7%|█████                                                                        | 559/8465 [07:22<2:29:05,  1.13s/it]"
     ]
    },
    {
     "name": "stdout",
     "output_type": "stream",
     "text": [
      "Done.\n",
      "Lyrics grabbed for Love Theme From \"Number Seven\" by Phideaux\n",
      "Searching for \"Infinite Supply\" by Phideaux...\n"
     ]
    },
    {
     "name": "stderr",
     "output_type": "stream",
     "text": [
      "\r",
      "  7%|█████                                                                        | 560/8465 [07:23<2:25:10,  1.10s/it]"
     ]
    },
    {
     "name": "stdout",
     "output_type": "stream",
     "text": [
      "Done.\n",
      "Lyrics grabbed for Infinite Supply by Phideaux\n",
      "Searching for \"Dormouse - An End\" by Phideaux...\n"
     ]
    },
    {
     "name": "stderr",
     "output_type": "stream",
     "text": [
      "\r",
      "  7%|█████                                                                        | 561/8465 [07:25<2:40:30,  1.22s/it]"
     ]
    },
    {
     "name": "stdout",
     "output_type": "stream",
     "text": [
      "Done.\n",
      "Lyrics grabbed for Dormouse - An End by Phideaux\n",
      "Searching for \"Fired from the Vogue Pt. 1\" by Ovens...\n"
     ]
    },
    {
     "name": "stderr",
     "output_type": "stream",
     "text": [
      "\r",
      "  7%|█████                                                                        | 562/8465 [07:27<3:17:31,  1.50s/it]"
     ]
    },
    {
     "name": "stdout",
     "output_type": "stream",
     "text": [
      "Done.\n",
      "Lyrics grabbed for Fired from the Vogue Pt. 1 by Ovens\n",
      "Searching for \"Fired from the Vogue Pt. 2\" by Ovens...\n"
     ]
    },
    {
     "name": "stderr",
     "output_type": "stream",
     "text": [
      "\r",
      "  7%|█████                                                                        | 563/8465 [07:28<2:57:02,  1.34s/it]"
     ]
    },
    {
     "name": "stdout",
     "output_type": "stream",
     "text": [
      "Done.\n",
      "Lyrics grabbed for Fired from the Vogue Pt. 2 by Ovens\n",
      "Searching for \"Same Shit Different Day\" by Ovens...\n"
     ]
    },
    {
     "name": "stderr",
     "output_type": "stream",
     "text": [
      "\r",
      "  7%|█████▏                                                                       | 564/8465 [07:30<3:19:40,  1.52s/it]"
     ]
    },
    {
     "name": "stdout",
     "output_type": "stream",
     "text": [
      "Done.\n",
      "Lyrics grabbed for Same Shit Different Day by Ovens\n",
      "Searching for \"Pcp Song\" by Ovens...\n"
     ]
    },
    {
     "name": "stderr",
     "output_type": "stream",
     "text": [
      "\r",
      "  7%|█████▏                                                                       | 565/8465 [07:31<2:55:49,  1.34s/it]"
     ]
    },
    {
     "name": "stdout",
     "output_type": "stream",
     "text": [
      "Done.\n",
      "Lyrics grabbed for Pcp Song by Ovens\n",
      "Searching for \"Everything's the Same\" by Ovens...\n"
     ]
    },
    {
     "name": "stderr",
     "output_type": "stream",
     "text": [
      "\r",
      "  7%|█████▏                                                                       | 566/8465 [07:33<3:14:47,  1.48s/it]"
     ]
    },
    {
     "name": "stdout",
     "output_type": "stream",
     "text": [
      "Done.\n",
      "Lyrics grabbed for Everything's the Same by Ovens\n",
      "Searching for \"Bad Scene\" by Ovens...\n"
     ]
    },
    {
     "name": "stderr",
     "output_type": "stream",
     "text": [
      "\r",
      "  7%|█████▏                                                                       | 567/8465 [07:34<2:49:26,  1.29s/it]"
     ]
    },
    {
     "name": "stdout",
     "output_type": "stream",
     "text": [
      "Done.\n",
      "Lyrics grabbed for Bad Scene by Ovens\n",
      "Searching for \"Your Ego Will Grow\" by Ovens...\n"
     ]
    },
    {
     "name": "stderr",
     "output_type": "stream",
     "text": [
      "\r",
      "  7%|█████▏                                                                       | 568/8465 [07:35<3:08:48,  1.43s/it]"
     ]
    },
    {
     "name": "stdout",
     "output_type": "stream",
     "text": [
      "Done.\n",
      "Lyrics grabbed for Your Ego Will Grow by Ovens\n",
      "Searching for \"Glazed Concept\" by Ovens...\n"
     ]
    },
    {
     "name": "stderr",
     "output_type": "stream",
     "text": [
      "\r",
      "  7%|█████▏                                                                       | 569/8465 [07:37<3:10:59,  1.45s/it]"
     ]
    },
    {
     "name": "stdout",
     "output_type": "stream",
     "text": [
      "Done.\n",
      "Lyrics grabbed for Glazed Concept by Ovens\n",
      "Searching for \"Movin' On\" by Ovens...\n"
     ]
    },
    {
     "name": "stderr",
     "output_type": "stream",
     "text": [
      "\r",
      "  7%|█████▏                                                                       | 570/8465 [07:38<3:02:20,  1.39s/it]"
     ]
    },
    {
     "name": "stdout",
     "output_type": "stream",
     "text": [
      "Done.\n",
      "Lyrics grabbed for Movin' On by Ovens\n",
      "Searching for \"Alone\" by Ovens...\n"
     ]
    },
    {
     "name": "stderr",
     "output_type": "stream",
     "text": [
      "\r",
      "  7%|█████▏                                                                       | 571/8465 [07:40<3:25:23,  1.56s/it]"
     ]
    },
    {
     "name": "stdout",
     "output_type": "stream",
     "text": [
      "Done.\n",
      "Lyrics grabbed for Alone by Ovens\n",
      "Searching for \"I Can't Hang\" by Ovens...\n"
     ]
    },
    {
     "name": "stderr",
     "output_type": "stream",
     "text": [
      "\r",
      "  7%|█████▏                                                                       | 572/8465 [07:42<3:33:31,  1.62s/it]"
     ]
    },
    {
     "name": "stdout",
     "output_type": "stream",
     "text": [
      "Done.\n",
      "Lyrics grabbed for I Can't Hang by Ovens\n",
      "Searching for \"The Legend of Chris Gardini's Mustache\" by Ovens...\n"
     ]
    },
    {
     "name": "stderr",
     "output_type": "stream",
     "text": [
      "\r",
      "  7%|█████▏                                                                       | 573/8465 [07:42<2:53:48,  1.32s/it]"
     ]
    },
    {
     "name": "stdout",
     "output_type": "stream",
     "text": [
      "Specified song does not contain lyrics. Rejecting.\n",
      "Could not find The Legend of Chris Gardini's Mustache by Ovens\n",
      "Searching for \"Punch You in the Face\" by Ovens...\n"
     ]
    },
    {
     "name": "stderr",
     "output_type": "stream",
     "text": [
      "\r",
      "  7%|█████▏                                                                       | 574/8465 [07:43<2:40:15,  1.22s/it]"
     ]
    },
    {
     "name": "stdout",
     "output_type": "stream",
     "text": [
      "Done.\n",
      "Lyrics grabbed for Punch You in the Face by Ovens\n",
      "Searching for \"Lame Sesh\" by Ovens...\n"
     ]
    },
    {
     "name": "stderr",
     "output_type": "stream",
     "text": [
      "\r",
      "  7%|█████▏                                                                       | 575/8465 [07:45<3:11:47,  1.46s/it]"
     ]
    },
    {
     "name": "stdout",
     "output_type": "stream",
     "text": [
      "Done.\n",
      "Lyrics grabbed for Lame Sesh by Ovens\n",
      "Searching for \"Castillejo Scene\" by Ovens...\n"
     ]
    },
    {
     "name": "stderr",
     "output_type": "stream",
     "text": [
      "\r",
      "  7%|█████▏                                                                       | 576/8465 [07:49<4:26:11,  2.02s/it]"
     ]
    },
    {
     "name": "stdout",
     "output_type": "stream",
     "text": [
      "Done.\n",
      "Lyrics grabbed for Castillejo Scene by Ovens\n",
      "Searching for \"Drunk Shit\" by Ovens...\n"
     ]
    },
    {
     "name": "stderr",
     "output_type": "stream",
     "text": [
      "\r",
      "  7%|█████▏                                                                       | 577/8465 [07:51<4:26:59,  2.03s/it]"
     ]
    },
    {
     "name": "stdout",
     "output_type": "stream",
     "text": [
      "Done.\n",
      "Lyrics grabbed for Drunk Shit by Ovens\n",
      "Searching for \"Good Idea\" by Ovens...\n"
     ]
    },
    {
     "name": "stderr",
     "output_type": "stream",
     "text": [
      "\r",
      "  7%|█████▎                                                                       | 578/8465 [07:52<3:50:51,  1.76s/it]"
     ]
    },
    {
     "name": "stdout",
     "output_type": "stream",
     "text": [
      "Done.\n",
      "Lyrics grabbed for Good Idea by Ovens\n",
      "Searching for \"Bad Day\" by Ovens...\n"
     ]
    },
    {
     "name": "stderr",
     "output_type": "stream",
     "text": [
      "\r",
      "  7%|█████▎                                                                       | 579/8465 [07:53<3:23:59,  1.55s/it]"
     ]
    },
    {
     "name": "stdout",
     "output_type": "stream",
     "text": [
      "Done.\n",
      "Lyrics grabbed for Bad Day by Ovens\n",
      "Searching for \"Ovens Theme Pt. 1\" by Ovens...\n"
     ]
    },
    {
     "name": "stderr",
     "output_type": "stream",
     "text": [
      "\r",
      "  7%|█████▎                                                                       | 580/8465 [07:54<2:50:07,  1.29s/it]"
     ]
    },
    {
     "name": "stdout",
     "output_type": "stream",
     "text": [
      "Specified song does not contain lyrics. Rejecting.\n",
      "Could not find Ovens Theme Pt. 1 by Ovens\n",
      "Searching for \"Losin' Touch\" by Ovens...\n"
     ]
    },
    {
     "name": "stderr",
     "output_type": "stream",
     "text": [
      "\r",
      "  7%|█████▎                                                                       | 581/8465 [07:56<3:24:51,  1.56s/it]"
     ]
    },
    {
     "name": "stdout",
     "output_type": "stream",
     "text": [
      "Done.\n",
      "Lyrics grabbed for Losin' Touch by Ovens\n",
      "Searching for \"Song for Friends\" by Ovens...\n"
     ]
    },
    {
     "name": "stderr",
     "output_type": "stream",
     "text": [
      "\r",
      "  7%|█████▎                                                                       | 582/8465 [07:58<3:56:39,  1.80s/it]"
     ]
    },
    {
     "name": "stdout",
     "output_type": "stream",
     "text": [
      "Done.\n",
      "Lyrics grabbed for Song for Friends by Ovens\n",
      "Searching for \"Headache\" by Ovens...\n"
     ]
    },
    {
     "name": "stderr",
     "output_type": "stream",
     "text": [
      "\r",
      "  7%|█████▎                                                                       | 583/8465 [08:01<4:22:22,  2.00s/it]"
     ]
    },
    {
     "name": "stdout",
     "output_type": "stream",
     "text": [
      "Done.\n",
      "Lyrics grabbed for Headache by Ovens\n",
      "Searching for \"I'm a Creep\" by Ovens...\n"
     ]
    },
    {
     "name": "stderr",
     "output_type": "stream",
     "text": [
      "\r",
      "  7%|█████▎                                                                       | 584/8465 [08:02<4:08:22,  1.89s/it]"
     ]
    },
    {
     "name": "stdout",
     "output_type": "stream",
     "text": [
      "Done.\n",
      "Lyrics grabbed for I'm a Creep by Ovens\n",
      "Searching for \"Long Walk Home\" by Ovens...\n"
     ]
    },
    {
     "name": "stderr",
     "output_type": "stream",
     "text": [
      "\r",
      "  7%|█████▎                                                                       | 585/8465 [08:03<3:37:20,  1.65s/it]"
     ]
    },
    {
     "name": "stdout",
     "output_type": "stream",
     "text": [
      "Done.\n",
      "Lyrics grabbed for Long Walk Home by Ovens\n",
      "Searching for \"Ovens Theme Pt. 2\" by Ovens...\n"
     ]
    },
    {
     "name": "stderr",
     "output_type": "stream",
     "text": [
      "\r",
      "  7%|█████▎                                                                       | 586/8465 [08:04<2:53:07,  1.32s/it]"
     ]
    },
    {
     "name": "stdout",
     "output_type": "stream",
     "text": [
      "Specified song does not contain lyrics. Rejecting.\n",
      "Could not find Ovens Theme Pt. 2 by Ovens\n",
      "Searching for \"Lame Song #224\" by Ovens...\n"
     ]
    },
    {
     "name": "stderr",
     "output_type": "stream",
     "text": [
      "\r",
      "  7%|█████▎                                                                       | 587/8465 [08:05<2:34:24,  1.18s/it]"
     ]
    },
    {
     "name": "stdout",
     "output_type": "stream",
     "text": [
      "Done.\n",
      "Lyrics grabbed for Lame Song #224 by Ovens\n",
      "Searching for \"Sailin' Along\" by Ovens...\n"
     ]
    },
    {
     "name": "stderr",
     "output_type": "stream",
     "text": [
      "\r",
      "  7%|█████▎                                                                       | 588/8465 [08:06<2:23:37,  1.09s/it]"
     ]
    },
    {
     "name": "stdout",
     "output_type": "stream",
     "text": [
      "Done.\n",
      "Lyrics grabbed for Sailin' Along by Ovens\n",
      "Searching for \"Running in Place\" by Ovens...\n"
     ]
    },
    {
     "name": "stderr",
     "output_type": "stream",
     "text": [
      "\r",
      "  7%|█████▎                                                                       | 589/8465 [08:07<2:22:26,  1.09s/it]"
     ]
    },
    {
     "name": "stdout",
     "output_type": "stream",
     "text": [
      "Done.\n",
      "Lyrics grabbed for Running in Place by Ovens\n",
      "Searching for \"Abduction\" by Ovens...\n"
     ]
    },
    {
     "name": "stderr",
     "output_type": "stream",
     "text": [
      "\r",
      "  7%|█████▎                                                                       | 590/8465 [08:09<2:59:58,  1.37s/it]"
     ]
    },
    {
     "name": "stdout",
     "output_type": "stream",
     "text": [
      "Done.\n",
      "Lyrics grabbed for Abduction by Ovens\n",
      "Searching for \"We Know We Suck\" by Ovens...\n"
     ]
    },
    {
     "name": "stderr",
     "output_type": "stream",
     "text": [
      "\r",
      "  7%|█████▍                                                                       | 591/8465 [08:11<3:25:58,  1.57s/it]"
     ]
    },
    {
     "name": "stdout",
     "output_type": "stream",
     "text": [
      "Done.\n",
      "Lyrics grabbed for We Know We Suck by Ovens\n",
      "Searching for \"Don't See the Point\" by Ovens...\n"
     ]
    },
    {
     "name": "stderr",
     "output_type": "stream",
     "text": [
      "\r",
      "  7%|█████▍                                                                       | 592/8465 [08:13<3:39:27,  1.67s/it]"
     ]
    },
    {
     "name": "stdout",
     "output_type": "stream",
     "text": [
      "Done.\n",
      "Lyrics grabbed for Don't See the Point by Ovens\n",
      "Searching for \"Down the Drain\" by Ovens...\n"
     ]
    },
    {
     "name": "stderr",
     "output_type": "stream",
     "text": [
      "\r",
      "  7%|█████▍                                                                       | 593/8465 [08:14<3:11:31,  1.46s/it]"
     ]
    },
    {
     "name": "stdout",
     "output_type": "stream",
     "text": [
      "Done.\n",
      "Lyrics grabbed for Down the Drain by Ovens\n",
      "Searching for \"Beau Goes to the Hospital\" by Ovens...\n"
     ]
    },
    {
     "name": "stderr",
     "output_type": "stream",
     "text": [
      "\r",
      "  7%|█████▍                                                                       | 594/8465 [08:16<3:38:16,  1.66s/it]"
     ]
    },
    {
     "name": "stdout",
     "output_type": "stream",
     "text": [
      "Done.\n",
      "Lyrics grabbed for Beau Goes to the Hospital by Ovens\n",
      "Searching for \"Braden's Bleeding Head\" by Ovens...\n"
     ]
    },
    {
     "name": "stderr",
     "output_type": "stream",
     "text": [
      "\r",
      "  7%|█████▍                                                                       | 595/8465 [08:18<3:46:01,  1.72s/it]"
     ]
    },
    {
     "name": "stdout",
     "output_type": "stream",
     "text": [
      "Done.\n",
      "Lyrics grabbed for Braden's Bleeding Head by Ovens\n",
      "Searching for \"Misanthropist\" by Ovens...\n"
     ]
    },
    {
     "name": "stderr",
     "output_type": "stream",
     "text": [
      "\r",
      "  7%|█████▍                                                                       | 596/8465 [08:19<3:45:57,  1.72s/it]"
     ]
    },
    {
     "name": "stdout",
     "output_type": "stream",
     "text": [
      "Done.\n",
      "Lyrics grabbed for Misanthropist by Ovens\n",
      "Searching for \"Puke When I'm Sad\" by Ovens...\n"
     ]
    },
    {
     "name": "stderr",
     "output_type": "stream",
     "text": [
      "\r",
      "  7%|█████▍                                                                       | 597/8465 [08:21<3:45:27,  1.72s/it]"
     ]
    },
    {
     "name": "stdout",
     "output_type": "stream",
     "text": [
      "Done.\n",
      "Lyrics grabbed for Puke When I'm Sad by Ovens\n",
      "Searching for \"Wastin'\" by Ovens...\n"
     ]
    },
    {
     "name": "stderr",
     "output_type": "stream",
     "text": [
      "\r",
      "  7%|█████▍                                                                       | 598/8465 [08:23<3:47:24,  1.73s/it]"
     ]
    },
    {
     "name": "stdout",
     "output_type": "stream",
     "text": [
      "Done.\n",
      "Lyrics grabbed for Wastin' by Ovens\n",
      "Searching for \"Waste of Time\" by Ovens...\n"
     ]
    },
    {
     "name": "stderr",
     "output_type": "stream",
     "text": [
      "\r",
      "  7%|█████▍                                                                       | 599/8465 [08:25<3:44:09,  1.71s/it]"
     ]
    },
    {
     "name": "stdout",
     "output_type": "stream",
     "text": [
      "Done.\n",
      "Lyrics grabbed for Waste of Time by Ovens\n",
      "Searching for \"Cows\" by Ovens...\n"
     ]
    },
    {
     "name": "stderr",
     "output_type": "stream",
     "text": [
      "\r",
      "  7%|█████▍                                                                       | 600/8465 [08:26<3:48:52,  1.75s/it]"
     ]
    },
    {
     "name": "stdout",
     "output_type": "stream",
     "text": [
      "Done.\n",
      "Lyrics grabbed for Cows by Ovens\n",
      "Searching for \"When I Fell off the Roof\" by Ovens...\n"
     ]
    },
    {
     "name": "stderr",
     "output_type": "stream",
     "text": [
      "\r",
      "  7%|█████▍                                                                       | 601/8465 [08:28<3:59:00,  1.82s/it]"
     ]
    },
    {
     "name": "stdout",
     "output_type": "stream",
     "text": [
      "Done.\n",
      "Lyrics grabbed for When I Fell off the Roof by Ovens\n",
      "Searching for \"Nothing More to Say\" by Ovens...\n"
     ]
    },
    {
     "name": "stderr",
     "output_type": "stream",
     "text": [
      "\r",
      "  7%|█████▍                                                                       | 602/8465 [08:30<4:07:31,  1.89s/it]"
     ]
    },
    {
     "name": "stdout",
     "output_type": "stream",
     "text": [
      "Done.\n",
      "Lyrics grabbed for Nothing More to Say by Ovens\n",
      "Searching for \"Look Inside My Brain\" by Ovens...\n"
     ]
    },
    {
     "name": "stderr",
     "output_type": "stream",
     "text": [
      "\r",
      "  7%|█████▍                                                                       | 603/8465 [08:32<3:35:44,  1.65s/it]"
     ]
    },
    {
     "name": "stdout",
     "output_type": "stream",
     "text": [
      "Done.\n",
      "Lyrics grabbed for Look Inside My Brain by Ovens\n",
      "Searching for \"St. Chominski's Dance\" by Ovens...\n"
     ]
    },
    {
     "name": "stderr",
     "output_type": "stream",
     "text": [
      "\r",
      "  7%|█████▍                                                                       | 604/8465 [08:33<3:35:21,  1.64s/it]"
     ]
    },
    {
     "name": "stdout",
     "output_type": "stream",
     "text": [
      "Done.\n",
      "Lyrics grabbed for St. Chominski's Dance by Ovens\n",
      "Searching for \"Stuck\" by Ovens...\n"
     ]
    },
    {
     "name": "stderr",
     "output_type": "stream",
     "text": [
      "\r",
      "  7%|█████▌                                                                       | 605/8465 [08:34<3:10:40,  1.46s/it]"
     ]
    },
    {
     "name": "stdout",
     "output_type": "stream",
     "text": [
      "Done.\n",
      "Lyrics grabbed for Stuck by Ovens\n",
      "Searching for \"These Woods Breathe Evil\" by Swallow the Sun...\n"
     ]
    },
    {
     "name": "stderr",
     "output_type": "stream",
     "text": [
      "\r",
      "  7%|█████▌                                                                       | 606/8465 [08:36<3:27:56,  1.59s/it]"
     ]
    },
    {
     "name": "stdout",
     "output_type": "stream",
     "text": [
      "Done.\n",
      "Lyrics grabbed for These Woods Breathe Evil by Swallow the Sun\n",
      "Searching for \"Falling World\" by Swallow the Sun...\n"
     ]
    },
    {
     "name": "stderr",
     "output_type": "stream",
     "text": [
      "\r",
      "  7%|█████▌                                                                       | 607/8465 [08:37<3:03:56,  1.40s/it]"
     ]
    },
    {
     "name": "stdout",
     "output_type": "stream",
     "text": [
      "Done.\n",
      "Lyrics grabbed for Falling World by Swallow the Sun\n",
      "Searching for \"Sleepless Swans\" by Swallow the Sun...\n"
     ]
    },
    {
     "name": "stderr",
     "output_type": "stream",
     "text": [
      "\r",
      "  7%|█████▌                                                                       | 608/8465 [08:38<2:46:52,  1.27s/it]"
     ]
    },
    {
     "name": "stdout",
     "output_type": "stream",
     "text": [
      "Done.\n",
      "Lyrics grabbed for Sleepless Swans by Swallow the Sun\n",
      "Searching for \"...and Heavens Cried Blood\" by Swallow the Sun...\n"
     ]
    },
    {
     "name": "stderr",
     "output_type": "stream",
     "text": [
      "\r",
      "  7%|█████▌                                                                       | 609/8465 [08:40<2:59:21,  1.37s/it]"
     ]
    },
    {
     "name": "stdout",
     "output_type": "stream",
     "text": [
      "Done.\n",
      "Lyrics grabbed for ...and Heavens Cried Blood by Swallow the Sun\n",
      "Searching for \"Lights on the Lake (Horror Pt. III)\" by Swallow the Sun...\n"
     ]
    },
    {
     "name": "stderr",
     "output_type": "stream",
     "text": [
      "\r",
      "  7%|█████▌                                                                       | 610/8465 [08:42<3:21:22,  1.54s/it]"
     ]
    },
    {
     "name": "stdout",
     "output_type": "stream",
     "text": [
      "Done.\n",
      "Lyrics grabbed for Lights on the Lake (Horror Pt. III) by Swallow the Sun\n",
      "Searching for \"New Moon\" by Swallow the Sun...\n"
     ]
    },
    {
     "name": "stderr",
     "output_type": "stream",
     "text": [
      "\r",
      "  7%|█████▌                                                                       | 611/8465 [08:42<2:54:33,  1.33s/it]"
     ]
    },
    {
     "name": "stdout",
     "output_type": "stream",
     "text": [
      "Done.\n",
      "Lyrics grabbed for New Moon by Swallow the Sun\n",
      "Searching for \"Servant of Sorrow\" by Swallow the Sun...\n"
     ]
    },
    {
     "name": "stderr",
     "output_type": "stream",
     "text": [
      "\r",
      "  7%|█████▌                                                                       | 612/8465 [08:44<3:08:22,  1.44s/it]"
     ]
    },
    {
     "name": "stdout",
     "output_type": "stream",
     "text": [
      "Done.\n",
      "Lyrics grabbed for Servant of Sorrow by Swallow the Sun\n",
      "Searching for \"Weight of the Dead\" by Swallow the Sun...\n"
     ]
    },
    {
     "name": "stderr",
     "output_type": "stream",
     "text": [
      "\r",
      "  7%|█████▌                                                                       | 613/8465 [08:46<3:23:58,  1.56s/it]"
     ]
    },
    {
     "name": "stdout",
     "output_type": "stream",
     "text": [
      "Done.\n",
      "Lyrics grabbed for Weight of the Dead by Swallow the Sun\n",
      "Searching for \"Before the Beginning\" by John Frusciante...\n"
     ]
    },
    {
     "name": "stderr",
     "output_type": "stream",
     "text": [
      "\r",
      "  7%|█████▌                                                                       | 614/8465 [08:46<2:42:24,  1.24s/it]"
     ]
    },
    {
     "name": "stdout",
     "output_type": "stream",
     "text": [
      "Specified song does not contain lyrics. Rejecting.\n",
      "Could not find Before the Beginning by John Frusciante\n",
      "Searching for \"Song To The Siren\" by John Frusciante...\n"
     ]
    },
    {
     "name": "stderr",
     "output_type": "stream",
     "text": [
      "\r",
      "  7%|█████▌                                                                       | 615/8465 [08:47<2:23:44,  1.10s/it]"
     ]
    },
    {
     "name": "stdout",
     "output_type": "stream",
     "text": [
      "Done.\n",
      "Lyrics grabbed for Song To The Siren by John Frusciante\n",
      "Searching for \"Unreachable\" by John Frusciante...\n"
     ]
    },
    {
     "name": "stderr",
     "output_type": "stream",
     "text": [
      "\r",
      "  7%|█████▌                                                                       | 616/8465 [08:49<2:41:40,  1.24s/it]"
     ]
    },
    {
     "name": "stdout",
     "output_type": "stream",
     "text": [
      "Done.\n",
      "Lyrics grabbed for Unreachable by John Frusciante\n",
      "Searching for \"God\" by John Frusciante...\n"
     ]
    },
    {
     "name": "stderr",
     "output_type": "stream",
     "text": [
      "\r",
      "  7%|█████▌                                                                       | 617/8465 [08:50<2:54:19,  1.33s/it]"
     ]
    },
    {
     "name": "stdout",
     "output_type": "stream",
     "text": [
      "Done.\n",
      "Lyrics grabbed for God by John Frusciante\n",
      "Searching for \"Dark/Light\" by John Frusciante...\n"
     ]
    },
    {
     "name": "stderr",
     "output_type": "stream",
     "text": [
      "\r",
      "  7%|█████▌                                                                       | 618/8465 [08:51<2:37:10,  1.20s/it]"
     ]
    },
    {
     "name": "stdout",
     "output_type": "stream",
     "text": [
      "Done.\n",
      "Lyrics grabbed for Dark/Light by John Frusciante\n",
      "Searching for \"Heaven\" by John Frusciante...\n"
     ]
    },
    {
     "name": "stderr",
     "output_type": "stream",
     "text": [
      "\r",
      "  7%|█████▋                                                                       | 619/8465 [08:53<2:56:06,  1.35s/it]"
     ]
    },
    {
     "name": "stdout",
     "output_type": "stream",
     "text": [
      "Done.\n",
      "Lyrics grabbed for Heaven by John Frusciante\n",
      "Searching for \"Enough Of Me\" by John Frusciante...\n"
     ]
    },
    {
     "name": "stderr",
     "output_type": "stream",
     "text": [
      "\r",
      "  7%|█████▋                                                                       | 620/8465 [08:55<3:30:25,  1.61s/it]"
     ]
    },
    {
     "name": "stdout",
     "output_type": "stream",
     "text": [
      "Done.\n",
      "Lyrics grabbed for Enough Of Me by John Frusciante\n",
      "Searching for \"Central\" by John Frusciante...\n"
     ]
    },
    {
     "name": "stderr",
     "output_type": "stream",
     "text": [
      "\r",
      "  7%|█████▋                                                                       | 621/8465 [08:56<2:58:26,  1.36s/it]"
     ]
    },
    {
     "name": "stdout",
     "output_type": "stream",
     "text": [
      "Done.\n",
      "Lyrics grabbed for Central by John Frusciante\n",
      "Searching for \"One More Of Me\" by John Frusciante...\n"
     ]
    },
    {
     "name": "stderr",
     "output_type": "stream",
     "text": [
      "\r",
      "  7%|█████▋                                                                       | 622/8465 [08:57<2:38:53,  1.22s/it]"
     ]
    },
    {
     "name": "stdout",
     "output_type": "stream",
     "text": [
      "Done.\n",
      "Lyrics grabbed for One More Of Me by John Frusciante\n",
      "Searching for \"After the Ending\" by John Frusciante...\n"
     ]
    },
    {
     "name": "stderr",
     "output_type": "stream",
     "text": [
      "\r",
      "  7%|█████▋                                                                       | 623/8465 [08:59<3:21:17,  1.54s/it]"
     ]
    },
    {
     "name": "stdout",
     "output_type": "stream",
     "text": [
      "Done.\n",
      "Lyrics grabbed for After the Ending by John Frusciante\n",
      "Searching for \"Ah Yom\" by John Frusciante...\n"
     ]
    },
    {
     "name": "stderr",
     "output_type": "stream",
     "text": [
      "\r",
      "  7%|█████▋                                                                       | 624/8465 [09:00<3:15:18,  1.49s/it]"
     ]
    },
    {
     "name": "stdout",
     "output_type": "stream",
     "text": [
      "Done.\n",
      "Lyrics grabbed for Ah Yom by John Frusciante\n",
      "Searching for \"Here, Air\" by John Frusciante...\n"
     ]
    },
    {
     "name": "stderr",
     "output_type": "stream",
     "text": [
      "\r",
      "  7%|█████▋                                                                       | 625/8465 [09:02<3:11:11,  1.46s/it]"
     ]
    },
    {
     "name": "stdout",
     "output_type": "stream",
     "text": [
      "Done.\n",
      "Lyrics grabbed for Here, Air by John Frusciante\n",
      "Searching for \"awakening at daybreak\" by susquatch...\n"
     ]
    },
    {
     "name": "stderr",
     "output_type": "stream",
     "text": [
      "\r",
      "  7%|█████▋                                                                       | 626/8465 [09:03<2:43:06,  1.25s/it]"
     ]
    },
    {
     "name": "stdout",
     "output_type": "stream",
     "text": [
      "Done.\n",
      "Lyrics grabbed for awakening at daybreak by susquatch\n",
      "Searching for \"Ghost\" by susquatch...\n"
     ]
    },
    {
     "name": "stderr",
     "output_type": "stream",
     "text": [
      "\r",
      "  7%|█████▋                                                                       | 627/8465 [09:03<2:08:45,  1.01it/s]"
     ]
    },
    {
     "name": "stdout",
     "output_type": "stream",
     "text": [
      "No results found for: 'Ghost susquatch'\n",
      "Could not find Ghost by susquatch\n",
      "Searching for \"glass marbles\" by susquatch...\n"
     ]
    },
    {
     "name": "stderr",
     "output_type": "stream",
     "text": [
      "\r",
      "  7%|█████▋                                                                       | 628/8465 [09:05<2:30:49,  1.15s/it]"
     ]
    },
    {
     "name": "stdout",
     "output_type": "stream",
     "text": [
      "Done.\n",
      "Lyrics grabbed for glass marbles by susquatch\n",
      "Searching for \"Return of Spring\" by susquatch...\n"
     ]
    },
    {
     "name": "stderr",
     "output_type": "stream",
     "text": [
      "\r",
      "  7%|█████▋                                                                       | 629/8465 [09:05<2:18:01,  1.06s/it]"
     ]
    },
    {
     "name": "stdout",
     "output_type": "stream",
     "text": [
      "Done.\n",
      "Lyrics grabbed for Return of Spring by susquatch\n",
      "Searching for \"the gulf lab\" by susquatch...\n"
     ]
    },
    {
     "name": "stderr",
     "output_type": "stream",
     "text": [
      "\r",
      "  7%|█████▋                                                                       | 630/8465 [09:06<1:54:20,  1.14it/s]"
     ]
    },
    {
     "name": "stdout",
     "output_type": "stream",
     "text": [
      "No results found for: 'the gulf lab susquatch'\n",
      "Could not find the gulf lab by susquatch\n",
      "Searching for \"A Gremlin\" by susquatch...\n"
     ]
    },
    {
     "name": "stderr",
     "output_type": "stream",
     "text": [
      "\r",
      "  7%|█████▋                                                                       | 631/8465 [09:06<1:33:39,  1.39it/s]"
     ]
    },
    {
     "name": "stdout",
     "output_type": "stream",
     "text": [
      "No results found for: 'A Gremlin susquatch'\n",
      "Could not find A Gremlin by susquatch\n",
      "Searching for \"matsuri\" by susquatch...\n"
     ]
    },
    {
     "name": "stderr",
     "output_type": "stream",
     "text": [
      "\r",
      "  7%|█████▋                                                                       | 632/8465 [09:06<1:19:35,  1.64it/s]"
     ]
    },
    {
     "name": "stdout",
     "output_type": "stream",
     "text": [
      "No results found for: 'matsuri susquatch'\n",
      "Could not find matsuri by susquatch\n",
      "Searching for \"after the thaw\" by susquatch...\n"
     ]
    },
    {
     "name": "stderr",
     "output_type": "stream",
     "text": [
      "\r",
      "  7%|█████▊                                                                       | 633/8465 [09:08<2:03:11,  1.06it/s]"
     ]
    },
    {
     "name": "stdout",
     "output_type": "stream",
     "text": [
      "Done.\n",
      "Lyrics grabbed for after the thaw by susquatch\n",
      "Searching for \"Spin The Words\" by susquatch...\n"
     ]
    },
    {
     "name": "stderr",
     "output_type": "stream",
     "text": [
      "\r",
      "  7%|█████▊                                                                       | 634/8465 [09:09<1:40:17,  1.30it/s]"
     ]
    },
    {
     "name": "stdout",
     "output_type": "stream",
     "text": [
      "No results found for: 'Spin The Words susquatch'\n",
      "Could not find Spin The Words by susquatch\n",
      "Searching for \"summer end\" by susquatch...\n"
     ]
    },
    {
     "name": "stderr",
     "output_type": "stream",
     "text": [
      "\r",
      "  8%|█████▊                                                                       | 635/8465 [09:09<1:22:26,  1.58it/s]"
     ]
    },
    {
     "name": "stdout",
     "output_type": "stream",
     "text": [
      "No results found for: 'summer end susquatch'\n",
      "Could not find summer end by susquatch\n",
      "Searching for \"Jeszcze I Jeszcze\" by Furia...\n"
     ]
    },
    {
     "name": "stderr",
     "output_type": "stream",
     "text": [
      "\r",
      "  8%|█████▊                                                                       | 636/8465 [09:11<2:03:52,  1.05it/s]"
     ]
    },
    {
     "name": "stdout",
     "output_type": "stream",
     "text": [
      "Done.\n",
      "Lyrics grabbed for Jeszcze I Jeszcze by Furia\n",
      "Searching for \"Zgnilem\" by Furia...\n"
     ]
    },
    {
     "name": "stderr",
     "output_type": "stream",
     "text": [
      "\r",
      "  8%|█████▊                                                                       | 637/8465 [09:12<2:24:34,  1.11s/it]"
     ]
    },
    {
     "name": "stdout",
     "output_type": "stream",
     "text": [
      "Done.\n",
      "Lyrics grabbed for Zgnilem by Furia\n",
      "Searching for \"Przechrzczony\" by Furia...\n"
     ]
    },
    {
     "name": "stderr",
     "output_type": "stream",
     "text": [
      "\r",
      "  8%|█████▊                                                                       | 638/8465 [09:14<2:49:11,  1.30s/it]"
     ]
    },
    {
     "name": "stdout",
     "output_type": "stream",
     "text": [
      "Done.\n",
      "Lyrics grabbed for Przechrzczony by Furia\n",
      "Searching for \"Zmierzch Za Zmierzchem\" by Furia...\n"
     ]
    },
    {
     "name": "stderr",
     "output_type": "stream",
     "text": [
      "\r",
      "  8%|█████▊                                                                       | 639/8465 [09:16<3:24:32,  1.57s/it]"
     ]
    },
    {
     "name": "stdout",
     "output_type": "stream",
     "text": [
      "Done.\n",
      "Lyrics grabbed for Zmierzch Za Zmierzchem by Furia\n",
      "Searching for \"‚Ä¶\" by Furia...\n"
     ]
    },
    {
     "name": "stderr",
     "output_type": "stream",
     "text": [
      "\r",
      "  8%|█████▊                                                                       | 640/8465 [09:21<5:40:43,  2.61s/it]"
     ]
    },
    {
     "name": "stdout",
     "output_type": "stream",
     "text": [
      "Done.\n",
      "Lyrics grabbed for ‚Ä¶ by Furia\n",
      "Searching for \"U Krza Stoi Olsza\" by Furia...\n"
     ]
    },
    {
     "name": "stderr",
     "output_type": "stream",
     "text": [
      "\r",
      "  8%|█████▊                                                                       | 641/8465 [09:23<5:18:22,  2.44s/it]"
     ]
    },
    {
     "name": "stdout",
     "output_type": "stream",
     "text": [
      "Done.\n",
      "Lyrics grabbed for U Krza Stoi Olsza by Furia\n",
      "Searching for \"Kim Jestes?\" by Furia...\n"
     ]
    },
    {
     "name": "stderr",
     "output_type": "stream",
     "text": [
      "\r",
      "  8%|█████▊                                                                       | 642/8465 [09:25<4:41:45,  2.16s/it]"
     ]
    },
    {
     "name": "stdout",
     "output_type": "stream",
     "text": [
      "Done.\n",
      "Lyrics grabbed for Kim Jestes? by Furia\n",
      "Searching for \"Convinced of the Hex\" by The Flaming Lips...\n"
     ]
    },
    {
     "name": "stderr",
     "output_type": "stream",
     "text": [
      "\r",
      "  8%|█████▊                                                                       | 643/8465 [09:27<4:37:39,  2.13s/it]"
     ]
    },
    {
     "name": "stdout",
     "output_type": "stream",
     "text": [
      "Done.\n",
      "Lyrics grabbed for Convinced of the Hex by The Flaming Lips\n",
      "Searching for \"The Sparrow Looks up at the Machine\" by The Flaming Lips...\n"
     ]
    },
    {
     "name": "stderr",
     "output_type": "stream",
     "text": [
      "\r",
      "  8%|█████▊                                                                       | 644/8465 [09:28<4:21:25,  2.01s/it]"
     ]
    },
    {
     "name": "stdout",
     "output_type": "stream",
     "text": [
      "Done.\n",
      "Lyrics grabbed for The Sparrow Looks up at the Machine by The Flaming Lips\n",
      "Searching for \"Evil\" by The Flaming Lips...\n"
     ]
    },
    {
     "name": "stderr",
     "output_type": "stream",
     "text": [
      "\r",
      "  8%|█████▊                                                                       | 645/8465 [09:30<4:16:15,  1.97s/it]"
     ]
    },
    {
     "name": "stdout",
     "output_type": "stream",
     "text": [
      "Done.\n",
      "Lyrics grabbed for Evil by The Flaming Lips\n",
      "Searching for \"Aquarius Sabotage\" by The Flaming Lips...\n"
     ]
    },
    {
     "name": "stderr",
     "output_type": "stream",
     "text": [
      "\r",
      "  8%|█████▉                                                                       | 646/8465 [09:31<3:17:54,  1.52s/it]"
     ]
    },
    {
     "name": "stdout",
     "output_type": "stream",
     "text": [
      "Specified song does not contain lyrics. Rejecting.\n",
      "Could not find Aquarius Sabotage by The Flaming Lips\n",
      "Searching for \"See the Leaves\" by The Flaming Lips...\n"
     ]
    },
    {
     "name": "stderr",
     "output_type": "stream",
     "text": [
      "\r",
      "  8%|█████▉                                                                       | 647/8465 [09:33<3:29:00,  1.60s/it]"
     ]
    },
    {
     "name": "stdout",
     "output_type": "stream",
     "text": [
      "Done.\n",
      "Lyrics grabbed for See the Leaves by The Flaming Lips\n",
      "Searching for \"If\" by The Flaming Lips...\n"
     ]
    },
    {
     "name": "stderr",
     "output_type": "stream",
     "text": [
      "\r",
      "  8%|█████▉                                                                       | 648/8465 [09:33<3:03:27,  1.41s/it]"
     ]
    },
    {
     "name": "stdout",
     "output_type": "stream",
     "text": [
      "Done.\n",
      "Lyrics grabbed for If by The Flaming Lips\n",
      "Searching for \"Gemini Syringes\" by The Flaming Lips...\n"
     ]
    },
    {
     "name": "stderr",
     "output_type": "stream",
     "text": [
      "\r",
      "  8%|█████▉                                                                       | 649/8465 [09:35<3:12:31,  1.48s/it]"
     ]
    },
    {
     "name": "stdout",
     "output_type": "stream",
     "text": [
      "Done.\n",
      "Lyrics grabbed for Gemini Syringes by The Flaming Lips\n",
      "Searching for \"Your Bats\" by The Flaming Lips...\n"
     ]
    },
    {
     "name": "stderr",
     "output_type": "stream",
     "text": [
      "\r",
      "  8%|█████▉                                                                       | 650/8465 [09:37<3:31:50,  1.63s/it]"
     ]
    },
    {
     "name": "stdout",
     "output_type": "stream",
     "text": [
      "Done.\n",
      "Lyrics grabbed for Your Bats by The Flaming Lips\n",
      "Searching for \"Powerless\" by The Flaming Lips...\n"
     ]
    },
    {
     "name": "stderr",
     "output_type": "stream",
     "text": [
      "\r",
      "  8%|█████▉                                                                       | 651/8465 [09:39<3:42:06,  1.71s/it]"
     ]
    },
    {
     "name": "stdout",
     "output_type": "stream",
     "text": [
      "Done.\n",
      "Lyrics grabbed for Powerless by The Flaming Lips\n",
      "Searching for \"The Ego's Last Stand\" by The Flaming Lips...\n"
     ]
    },
    {
     "name": "stderr",
     "output_type": "stream",
     "text": [
      "\r",
      "  8%|█████▉                                                                       | 652/8465 [09:41<3:42:32,  1.71s/it]"
     ]
    },
    {
     "name": "stdout",
     "output_type": "stream",
     "text": [
      "Done.\n",
      "Lyrics grabbed for The Ego's Last Stand by The Flaming Lips\n",
      "Searching for \"I Can Be a Frog\" by The Flaming Lips...\n"
     ]
    },
    {
     "name": "stderr",
     "output_type": "stream",
     "text": [
      "\r",
      "  8%|█████▉                                                                       | 653/8465 [09:42<3:12:18,  1.48s/it]"
     ]
    },
    {
     "name": "stdout",
     "output_type": "stream",
     "text": [
      "Done.\n",
      "Lyrics grabbed for I Can Be a Frog by The Flaming Lips\n",
      "Searching for \"Sagittarius Silver Announcement\" by The Flaming Lips...\n"
     ]
    },
    {
     "name": "stderr",
     "output_type": "stream",
     "text": [
      "\r",
      "  8%|█████▉                                                                       | 654/8465 [09:43<3:22:07,  1.55s/it]"
     ]
    },
    {
     "name": "stdout",
     "output_type": "stream",
     "text": [
      "Done.\n",
      "Lyrics grabbed for Sagittarius Silver Announcement by The Flaming Lips\n",
      "Searching for \"Worm Mountain\" by The Flaming Lips...\n"
     ]
    },
    {
     "name": "stderr",
     "output_type": "stream",
     "text": [
      "\r",
      "  8%|█████▉                                                                       | 655/8465 [09:45<3:38:36,  1.68s/it]"
     ]
    },
    {
     "name": "stdout",
     "output_type": "stream",
     "text": [
      "Done.\n",
      "Lyrics grabbed for Worm Mountain by The Flaming Lips\n",
      "Searching for \"Scorpio Sword\" by The Flaming Lips...\n"
     ]
    },
    {
     "name": "stderr",
     "output_type": "stream",
     "text": [
      "\r",
      "  8%|█████▉                                                                       | 656/8465 [09:46<2:57:49,  1.37s/it]"
     ]
    },
    {
     "name": "stdout",
     "output_type": "stream",
     "text": [
      "Specified song does not contain lyrics. Rejecting.\n",
      "Could not find Scorpio Sword by The Flaming Lips\n",
      "Searching for \"The Impulse\" by The Flaming Lips...\n"
     ]
    },
    {
     "name": "stderr",
     "output_type": "stream",
     "text": [
      "\r",
      "  8%|█████▉                                                                       | 657/8465 [09:48<3:17:47,  1.52s/it]"
     ]
    },
    {
     "name": "stdout",
     "output_type": "stream",
     "text": [
      "Done.\n",
      "Lyrics grabbed for The Impulse by The Flaming Lips\n",
      "Searching for \"Silver Trembling Hands\" by The Flaming Lips...\n"
     ]
    },
    {
     "name": "stderr",
     "output_type": "stream",
     "text": [
      "\r",
      "  8%|█████▉                                                                       | 658/8465 [09:50<3:29:09,  1.61s/it]"
     ]
    },
    {
     "name": "stdout",
     "output_type": "stream",
     "text": [
      "Done.\n",
      "Lyrics grabbed for Silver Trembling Hands by The Flaming Lips\n",
      "Searching for \"Virgo Self-Esteem Broadcast\" by The Flaming Lips...\n"
     ]
    },
    {
     "name": "stderr",
     "output_type": "stream",
     "text": [
      "\r",
      "  8%|█████▉                                                                       | 659/8465 [09:51<3:27:59,  1.60s/it]"
     ]
    },
    {
     "name": "stdout",
     "output_type": "stream",
     "text": [
      "Done.\n",
      "Lyrics grabbed for Virgo Self-Esteem Broadcast by The Flaming Lips\n",
      "Searching for \"Watching the Planets\" by The Flaming Lips...\n"
     ]
    },
    {
     "name": "stderr",
     "output_type": "stream",
     "text": [
      "\r",
      "  8%|██████                                                                       | 660/8465 [09:53<3:52:20,  1.79s/it]"
     ]
    },
    {
     "name": "stdout",
     "output_type": "stream",
     "text": [
      "Done.\n",
      "Lyrics grabbed for Watching the Planets by The Flaming Lips\n",
      "Searching for \"U.F.O.'s Over Baghdad\" by The Flaming Lips...\n"
     ]
    },
    {
     "name": "stderr",
     "output_type": "stream",
     "text": [
      "\r",
      "  8%|██████                                                                       | 661/8465 [09:55<3:45:27,  1.73s/it]"
     ]
    },
    {
     "name": "stdout",
     "output_type": "stream",
     "text": [
      "Done.\n",
      "Lyrics grabbed for U.F.O.'s Over Baghdad by The Flaming Lips\n",
      "Searching for \"What Does It Mean?\" by The Flaming Lips...\n"
     ]
    },
    {
     "name": "stderr",
     "output_type": "stream",
     "text": [
      "\r",
      "  8%|██████                                                                       | 662/8465 [09:57<3:51:00,  1.78s/it]"
     ]
    },
    {
     "name": "stdout",
     "output_type": "stream",
     "text": [
      "Done.\n",
      "Lyrics grabbed for What Does It Mean? by The Flaming Lips\n",
      "Searching for \"Ingesting Death\" by Obliteration...\n"
     ]
    },
    {
     "name": "stderr",
     "output_type": "stream",
     "text": [
      "\r",
      "  8%|██████                                                                       | 663/8465 [09:58<3:22:20,  1.56s/it]"
     ]
    },
    {
     "name": "stdout",
     "output_type": "stream",
     "text": [
      "Done.\n",
      "Lyrics grabbed for Ingesting Death by Obliteration\n",
      "Searching for \"Catacombs of Horror\" by Obliteration...\n"
     ]
    },
    {
     "name": "stderr",
     "output_type": "stream",
     "text": [
      "\r",
      "  8%|██████                                                                       | 664/8465 [09:58<2:35:32,  1.20s/it]"
     ]
    },
    {
     "name": "stdout",
     "output_type": "stream",
     "text": [
      "No results found for: 'Catacombs of Horror Obliteration'\n",
      "Could not find Catacombs of Horror by Obliteration\n",
      "Searching for \"Exterminate\" by Obliteration...\n"
     ]
    },
    {
     "name": "stderr",
     "output_type": "stream",
     "text": [
      "\r",
      "  8%|██████                                                                       | 665/8465 [09:59<2:22:37,  1.10s/it]"
     ]
    },
    {
     "name": "stdout",
     "output_type": "stream",
     "text": [
      "Done.\n",
      "Lyrics grabbed for Exterminate by Obliteration\n",
      "Searching for \"The Spawn of a Dying Kind\" by Obliteration...\n"
     ]
    },
    {
     "name": "stderr",
     "output_type": "stream",
     "text": [
      "\r",
      "  8%|██████                                                                       | 666/8465 [10:01<2:41:26,  1.24s/it]"
     ]
    },
    {
     "name": "stdout",
     "output_type": "stream",
     "text": [
      "Done.\n",
      "Lyrics grabbed for The Spawn of a Dying Kind by Obliteration\n",
      "Searching for \"Nekropsalms Evoke the Frozen Age\" by Obliteration...\n"
     ]
    },
    {
     "name": "stderr",
     "output_type": "stream",
     "text": [
      "\r",
      "  8%|██████                                                                       | 667/8465 [10:01<2:06:56,  1.02it/s]"
     ]
    },
    {
     "name": "stdout",
     "output_type": "stream",
     "text": [
      "No results found for: 'Nekropsalms Evoke the Frozen Age Obliteration'\n",
      "Could not find Nekropsalms Evoke the Frozen Age by Obliteration\n",
      "Searching for \"Styxerian Path (Into Darkness)\" by Obliteration...\n"
     ]
    },
    {
     "name": "stderr",
     "output_type": "stream",
     "text": [
      "\r",
      "  8%|██████                                                                       | 668/8465 [10:02<1:46:29,  1.22it/s]"
     ]
    },
    {
     "name": "stdout",
     "output_type": "stream",
     "text": [
      "No results found for: 'Styxerian Path (Into Darkness) Obliteration'\n",
      "Could not find Styxerian Path (Into Darkness) by Obliteration\n",
      "Searching for \"The Worm That Gnaws in the Night\" by Obliteration...\n"
     ]
    },
    {
     "name": "stderr",
     "output_type": "stream",
     "text": [
      "\r",
      "  8%|██████                                                                       | 669/8465 [10:03<1:51:48,  1.16it/s]"
     ]
    },
    {
     "name": "stdout",
     "output_type": "stream",
     "text": [
      "Done.\n",
      "Lyrics grabbed for The Worm That Gnaws in the Night by Obliteration\n",
      "Searching for \"Egyptian Fantasy\" by Allen Toussaint...\n"
     ]
    },
    {
     "name": "stderr",
     "output_type": "stream",
     "text": [
      "\r",
      "  8%|██████                                                                       | 670/8465 [10:03<1:36:46,  1.34it/s]"
     ]
    },
    {
     "name": "stdout",
     "output_type": "stream",
     "text": [
      "No results found for: 'Egyptian Fantasy Allen Toussaint'\n",
      "Could not find Egyptian Fantasy by Allen Toussaint\n",
      "Searching for \"A Dear Old Southland\" by Allen Toussaint...\n"
     ]
    },
    {
     "name": "stderr",
     "output_type": "stream",
     "text": [
      "\r",
      "  8%|██████                                                                       | 671/8465 [10:03<1:23:48,  1.55it/s]"
     ]
    },
    {
     "name": "stdout",
     "output_type": "stream",
     "text": [
      "No results found for: 'A Dear Old Southland Allen Toussaint'\n",
      "Could not find A Dear Old Southland by Allen Toussaint\n",
      "Searching for \"St. James Infirmary\" by Allen Toussaint...\n"
     ]
    },
    {
     "name": "stderr",
     "output_type": "stream",
     "text": [
      "\r",
      "  8%|██████                                                                       | 672/8465 [10:04<1:16:52,  1.69it/s]"
     ]
    },
    {
     "name": "stdout",
     "output_type": "stream",
     "text": [
      "Specified song does not contain lyrics. Rejecting.\n",
      "Could not find St. James Infirmary by Allen Toussaint\n",
      "Searching for \"Singin' the Blues\" by Allen Toussaint...\n"
     ]
    },
    {
     "name": "stderr",
     "output_type": "stream",
     "text": [
      "\r",
      "  8%|██████                                                                       | 673/8465 [10:05<1:27:44,  1.48it/s]"
     ]
    },
    {
     "name": "stdout",
     "output_type": "stream",
     "text": [
      "Done.\n",
      "Lyrics grabbed for Singin' the Blues by Allen Toussaint\n",
      "Searching for \"Winin' Boy Blues\" by Allen Toussaint...\n"
     ]
    },
    {
     "name": "stderr",
     "output_type": "stream",
     "text": [
      "\r",
      "  8%|██████▏                                                                      | 674/8465 [10:05<1:15:26,  1.72it/s]"
     ]
    },
    {
     "name": "stdout",
     "output_type": "stream",
     "text": [
      "No results found for: 'Winin' Boy Blues Allen Toussaint'\n",
      "Could not find Winin' Boy Blues by Allen Toussaint\n",
      "Searching for \"West End Blues\" by Allen Toussaint...\n"
     ]
    },
    {
     "name": "stderr",
     "output_type": "stream",
     "text": [
      "\r",
      "  8%|██████▏                                                                      | 675/8465 [10:06<1:43:20,  1.26it/s]"
     ]
    },
    {
     "name": "stdout",
     "output_type": "stream",
     "text": [
      "Done.\n",
      "Lyrics grabbed for West End Blues by Allen Toussaint\n",
      "Searching for \"Blue Drag\" by Allen Toussaint...\n"
     ]
    },
    {
     "name": "stderr",
     "output_type": "stream",
     "text": [
      "\r",
      "  8%|██████▏                                                                      | 676/8465 [10:07<1:48:24,  1.20it/s]"
     ]
    },
    {
     "name": "stdout",
     "output_type": "stream",
     "text": [
      "Done.\n",
      "Lyrics grabbed for Blue Drag by Allen Toussaint\n",
      "Searching for \"Just a Closer Walk with Thee\" by Allen Toussaint...\n"
     ]
    },
    {
     "name": "stderr",
     "output_type": "stream",
     "text": [
      "\r",
      "  8%|██████▏                                                                      | 677/8465 [10:08<1:48:32,  1.20it/s]"
     ]
    },
    {
     "name": "stdout",
     "output_type": "stream",
     "text": [
      "Done.\n",
      "Lyrics grabbed for Just a Closer Walk with Thee by Allen Toussaint\n",
      "Searching for \"Bright Mississippi\" by Allen Toussaint...\n"
     ]
    },
    {
     "name": "stderr",
     "output_type": "stream",
     "text": [
      "\r",
      "  8%|██████▏                                                                      | 678/8465 [10:09<1:34:27,  1.37it/s]"
     ]
    },
    {
     "name": "stdout",
     "output_type": "stream",
     "text": [
      "No results found for: 'Bright Mississippi Allen Toussaint'\n",
      "Could not find Bright Mississippi by Allen Toussaint\n",
      "Searching for \"Day Dream\" by Allen Toussaint...\n"
     ]
    },
    {
     "name": "stderr",
     "output_type": "stream",
     "text": [
      "\r",
      "  8%|██████▏                                                                      | 679/8465 [10:10<1:41:08,  1.28it/s]"
     ]
    },
    {
     "name": "stdout",
     "output_type": "stream",
     "text": [
      "Done.\n",
      "Lyrics grabbed for Day Dream by Allen Toussaint\n",
      "Searching for \"Long, Long Journey\" by Allen Toussaint...\n"
     ]
    },
    {
     "name": "stderr",
     "output_type": "stream",
     "text": [
      "\r",
      "  8%|██████▏                                                                      | 680/8465 [10:11<1:49:14,  1.19it/s]"
     ]
    },
    {
     "name": "stdout",
     "output_type": "stream",
     "text": [
      "Done.\n",
      "Lyrics grabbed for Long, Long Journey by Allen Toussaint\n",
      "Searching for \"Solitude\" by Allen Toussaint...\n"
     ]
    },
    {
     "name": "stderr",
     "output_type": "stream",
     "text": [
      "\r",
      "  8%|██████▏                                                                      | 681/8465 [10:11<1:51:23,  1.16it/s]"
     ]
    },
    {
     "name": "stdout",
     "output_type": "stream",
     "text": [
      "Done.\n",
      "Lyrics grabbed for Solitude by Allen Toussaint\n",
      "Searching for \"Burning the Altar\" by YOB...\n"
     ]
    },
    {
     "name": "stderr",
     "output_type": "stream",
     "text": [
      "\r",
      "  8%|██████▏                                                                      | 682/8465 [10:13<2:17:43,  1.06s/it]"
     ]
    },
    {
     "name": "stdout",
     "output_type": "stream",
     "text": [
      "Done.\n",
      "Lyrics grabbed for Burning the Altar by YOB\n",
      "Searching for \"The Lie that is Sin\" by YOB...\n"
     ]
    },
    {
     "name": "stderr",
     "output_type": "stream",
     "text": [
      "\r",
      "  8%|██████▏                                                                      | 683/8465 [10:15<2:37:52,  1.22s/it]"
     ]
    },
    {
     "name": "stdout",
     "output_type": "stream",
     "text": [
      "Done.\n",
      "Lyrics grabbed for The Lie that is Sin by YOB\n",
      "Searching for \"Silence of Heaven\" by YOB...\n"
     ]
    },
    {
     "name": "stderr",
     "output_type": "stream",
     "text": [
      "\r",
      "  8%|██████▏                                                                      | 684/8465 [10:16<2:56:11,  1.36s/it]"
     ]
    },
    {
     "name": "stdout",
     "output_type": "stream",
     "text": [
      "Done.\n",
      "Lyrics grabbed for Silence of Heaven by YOB\n",
      "Searching for \"Breathing from the Shallows\" by YOB...\n"
     ]
    },
    {
     "name": "stderr",
     "output_type": "stream",
     "text": [
      "\r",
      "  8%|██████▏                                                                      | 685/8465 [10:17<2:41:26,  1.25s/it]"
     ]
    },
    {
     "name": "stdout",
     "output_type": "stream",
     "text": [
      "Done.\n",
      "Lyrics grabbed for Breathing from the Shallows by YOB\n",
      "Searching for \"The Great Cessation\" by YOB...\n"
     ]
    },
    {
     "name": "stderr",
     "output_type": "stream",
     "text": [
      "\r",
      "  8%|██████▏                                                                      | 686/8465 [10:19<2:55:42,  1.36s/it]"
     ]
    },
    {
     "name": "stdout",
     "output_type": "stream",
     "text": [
      "Done.\n",
      "Lyrics grabbed for The Great Cessation by YOB\n",
      "Searching for \"Blessed by Nothing (Bonus Track)\" by YOB...\n"
     ]
    },
    {
     "name": "stderr",
     "output_type": "stream",
     "text": [
      "\r",
      "  8%|██████▏                                                                      | 687/8465 [10:19<2:15:57,  1.05s/it]"
     ]
    },
    {
     "name": "stdout",
     "output_type": "stream",
     "text": [
      "No results found for: 'Blessed by Nothing (Bonus Track) YOB'\n",
      "Could not find Blessed by Nothing (Bonus Track) by YOB\n",
      "Searching for \"Pain like Sugar (Bonus Track)\" by YOB...\n"
     ]
    },
    {
     "name": "stderr",
     "output_type": "stream",
     "text": [
      "\r",
      "  8%|██████▎                                                                      | 688/8465 [10:20<1:48:28,  1.19it/s]"
     ]
    },
    {
     "name": "stdout",
     "output_type": "stream",
     "text": [
      "No results found for: 'Pain like Sugar (Bonus Track) YOB'\n",
      "Could not find Pain like Sugar (Bonus Track) by YOB\n",
      "Searching for \"The Ballad of John Henry\" by Joe Bonamassa...\n"
     ]
    },
    {
     "name": "stderr",
     "output_type": "stream",
     "text": [
      "\r",
      "  8%|██████▎                                                                      | 689/8465 [10:20<1:45:07,  1.23it/s]"
     ]
    },
    {
     "name": "stdout",
     "output_type": "stream",
     "text": [
      "Done.\n",
      "Lyrics grabbed for The Ballad of John Henry by Joe Bonamassa\n",
      "Searching for \"Stop!\" by Joe Bonamassa...\n"
     ]
    },
    {
     "name": "stderr",
     "output_type": "stream",
     "text": [
      "\r",
      "  8%|██████▎                                                                      | 690/8465 [10:21<1:50:56,  1.17it/s]"
     ]
    },
    {
     "name": "stdout",
     "output_type": "stream",
     "text": [
      "Done.\n",
      "Lyrics grabbed for Stop! by Joe Bonamassa\n",
      "Searching for \"Last Kiss\" by Joe Bonamassa...\n"
     ]
    },
    {
     "name": "stderr",
     "output_type": "stream",
     "text": [
      "\r",
      "  8%|██████▎                                                                      | 691/8465 [10:22<1:51:02,  1.17it/s]"
     ]
    },
    {
     "name": "stdout",
     "output_type": "stream",
     "text": [
      "Done.\n",
      "Lyrics grabbed for Last Kiss by Joe Bonamassa\n",
      "Searching for \"Jockey Full of Bourbon\" by Joe Bonamassa...\n"
     ]
    },
    {
     "name": "stderr",
     "output_type": "stream",
     "text": [
      "\r",
      "  8%|██████▎                                                                      | 692/8465 [10:23<1:49:59,  1.18it/s]"
     ]
    },
    {
     "name": "stdout",
     "output_type": "stream",
     "text": [
      "Done.\n",
      "Lyrics grabbed for Jockey Full of Bourbon by Joe Bonamassa\n",
      "Searching for \"Story Of A Quarryman\" by Joe Bonamassa...\n"
     ]
    },
    {
     "name": "stderr",
     "output_type": "stream",
     "text": [
      "\r",
      "  8%|██████▎                                                                      | 693/8465 [10:24<1:47:46,  1.20it/s]"
     ]
    },
    {
     "name": "stdout",
     "output_type": "stream",
     "text": [
      "Done.\n",
      "Lyrics grabbed for Story Of A Quarryman by Joe Bonamassa\n",
      "Searching for \"Lonesome Road Blues\" by Joe Bonamassa...\n"
     ]
    },
    {
     "name": "stderr",
     "output_type": "stream",
     "text": [
      "\r",
      "  8%|██████▎                                                                      | 694/8465 [10:25<1:55:50,  1.12it/s]"
     ]
    },
    {
     "name": "stdout",
     "output_type": "stream",
     "text": [
      "Done.\n",
      "Lyrics grabbed for Lonesome Road Blues by Joe Bonamassa\n",
      "Searching for \"Happier Times\" by Joe Bonamassa...\n"
     ]
    },
    {
     "name": "stderr",
     "output_type": "stream",
     "text": [
      "\r",
      "  8%|██████▎                                                                      | 695/8465 [10:26<1:52:14,  1.15it/s]"
     ]
    },
    {
     "name": "stdout",
     "output_type": "stream",
     "text": [
      "Done.\n",
      "Lyrics grabbed for Happier Times by Joe Bonamassa\n",
      "Searching for \"Feelin Good\" by Joe Bonamassa...\n"
     ]
    },
    {
     "name": "stderr",
     "output_type": "stream",
     "text": [
      "\r",
      "  8%|██████▎                                                                      | 696/8465 [10:26<1:52:14,  1.15it/s]"
     ]
    },
    {
     "name": "stdout",
     "output_type": "stream",
     "text": [
      "Done.\n",
      "Lyrics grabbed for Feelin Good by Joe Bonamassa\n",
      "Searching for \"Funkier Than A Mosquito's Tweeter\" by Joe Bonamassa...\n"
     ]
    },
    {
     "name": "stderr",
     "output_type": "stream",
     "text": [
      "\r",
      "  8%|██████▎                                                                      | 697/8465 [10:27<1:50:09,  1.18it/s]"
     ]
    },
    {
     "name": "stdout",
     "output_type": "stream",
     "text": [
      "Done.\n",
      "Lyrics grabbed for Funkier Than A Mosquito's Tweeter by Joe Bonamassa\n",
      "Searching for \"The Great Flood\" by Joe Bonamassa...\n"
     ]
    },
    {
     "name": "stderr",
     "output_type": "stream",
     "text": [
      "\r",
      "  8%|██████▎                                                                      | 698/8465 [10:28<1:50:15,  1.17it/s]"
     ]
    },
    {
     "name": "stdout",
     "output_type": "stream",
     "text": [
      "Done.\n",
      "Lyrics grabbed for The Great Flood by Joe Bonamassa\n",
      "Searching for \"From The Valley\" by Joe Bonamassa...\n"
     ]
    },
    {
     "name": "stderr",
     "output_type": "stream",
     "text": [
      "\r",
      "  8%|██████▎                                                                      | 699/8465 [10:29<1:38:00,  1.32it/s]"
     ]
    },
    {
     "name": "stdout",
     "output_type": "stream",
     "text": [
      "Specified song does not contain lyrics. Rejecting.\n",
      "Could not find From The Valley by Joe Bonamassa\n",
      "Searching for \"As The Crow Flies\" by Joe Bonamassa...\n"
     ]
    },
    {
     "name": "stderr",
     "output_type": "stream",
     "text": [
      "\r",
      "  8%|██████▎                                                                      | 700/8465 [10:30<1:43:14,  1.25it/s]"
     ]
    },
    {
     "name": "stdout",
     "output_type": "stream",
     "text": [
      "Done.\n",
      "Lyrics grabbed for As The Crow Flies by Joe Bonamassa\n",
      "Searching for \"Bitter The Surface\" by Abandon...\n"
     ]
    },
    {
     "name": "stderr",
     "output_type": "stream",
     "text": [
      "\r",
      "  8%|██████▍                                                                      | 701/8465 [10:31<2:16:09,  1.05s/it]"
     ]
    },
    {
     "name": "stdout",
     "output_type": "stream",
     "text": [
      "Done.\n",
      "Lyrics grabbed for Bitter The Surface by Abandon\n",
      "Searching for \"Pitch Black Hole\" by Abandon...\n"
     ]
    },
    {
     "name": "stderr",
     "output_type": "stream",
     "text": [
      "\r",
      "  8%|██████▍                                                                      | 702/8465 [10:33<2:41:22,  1.25s/it]"
     ]
    },
    {
     "name": "stdout",
     "output_type": "stream",
     "text": [
      "Done.\n",
      "Lyrics grabbed for Pitch Black Hole by Abandon\n",
      "Searching for \"Lost We Are\" by Abandon...\n"
     ]
    },
    {
     "name": "stderr",
     "output_type": "stream",
     "text": [
      "\r",
      "  8%|██████▍                                                                      | 703/8465 [10:35<3:04:14,  1.42s/it]"
     ]
    },
    {
     "name": "stdout",
     "output_type": "stream",
     "text": [
      "Done.\n",
      "Lyrics grabbed for Lost We Are by Abandon\n",
      "Searching for \"Falling Into Place\" by Abandon...\n"
     ]
    },
    {
     "name": "stderr",
     "output_type": "stream",
     "text": [
      "\r",
      "  8%|██████▍                                                                      | 704/8465 [10:37<3:41:39,  1.71s/it]"
     ]
    },
    {
     "name": "stdout",
     "output_type": "stream",
     "text": [
      "Done.\n",
      "Lyrics grabbed for Falling Into Place by Abandon\n",
      "Searching for \"Eulogy (I)\" by Abandon...\n"
     ]
    },
    {
     "name": "stderr",
     "output_type": "stream",
     "text": [
      "\r",
      "  8%|██████▍                                                                      | 705/8465 [10:38<3:09:14,  1.46s/it]"
     ]
    },
    {
     "name": "stdout",
     "output_type": "stream",
     "text": [
      "Done.\n",
      "Lyrics grabbed for Eulogy (I) by Abandon\n",
      "Searching for \"In Reality Suffer\" by Abandon...\n"
     ]
    },
    {
     "name": "stderr",
     "output_type": "stream",
     "text": [
      "\r",
      "  8%|██████▍                                                                      | 706/8465 [10:40<3:16:50,  1.52s/it]"
     ]
    },
    {
     "name": "stdout",
     "output_type": "stream",
     "text": [
      "Done.\n",
      "Lyrics grabbed for In Reality Suffer by Abandon\n",
      "Searching for \"For Crumbs We Crawl\" by Abandon...\n"
     ]
    },
    {
     "name": "stderr",
     "output_type": "stream",
     "text": [
      "\r",
      "  8%|██████▍                                                                      | 707/8465 [10:40<2:50:25,  1.32s/it]"
     ]
    },
    {
     "name": "stdout",
     "output_type": "stream",
     "text": [
      "Done.\n",
      "Lyrics grabbed for For Crumbs We Crawl by Abandon\n",
      "Searching for \"The Dead End\" by Abandon...\n"
     ]
    },
    {
     "name": "stderr",
     "output_type": "stream",
     "text": [
      "\r",
      "  8%|██████▍                                                                      | 708/8465 [10:41<2:35:23,  1.20s/it]"
     ]
    },
    {
     "name": "stdout",
     "output_type": "stream",
     "text": [
      "Done.\n",
      "Lyrics grabbed for The Dead End by Abandon\n",
      "Searching for \"It's All Gone\" by Abandon...\n"
     ]
    },
    {
     "name": "stderr",
     "output_type": "stream",
     "text": [
      "\r",
      "  8%|██████▍                                                                      | 709/8465 [10:43<2:47:09,  1.29s/it]"
     ]
    },
    {
     "name": "stdout",
     "output_type": "stream",
     "text": [
      "Done.\n",
      "Lyrics grabbed for It's All Gone by Abandon\n",
      "Searching for \"There Is No Escape\" by Abandon...\n"
     ]
    },
    {
     "name": "stderr",
     "output_type": "stream",
     "text": [
      "\r",
      "  8%|██████▍                                                                      | 710/8465 [10:45<3:08:58,  1.46s/it]"
     ]
    },
    {
     "name": "stdout",
     "output_type": "stream",
     "text": [
      "Done.\n",
      "Lyrics grabbed for There Is No Escape by Abandon\n",
      "Searching for \"Eulogy (II)\" by Abandon...\n"
     ]
    },
    {
     "name": "stderr",
     "output_type": "stream",
     "text": [
      "\r",
      "  8%|██████▍                                                                      | 711/8465 [10:46<2:45:22,  1.28s/it]"
     ]
    },
    {
     "name": "stdout",
     "output_type": "stream",
     "text": [
      "Done.\n",
      "Lyrics grabbed for Eulogy (II) by Abandon\n",
      "Searching for \"78 Days In The Desert\" by Sólstafir...\n"
     ]
    },
    {
     "name": "stderr",
     "output_type": "stream",
     "text": [
      "\r",
      "  8%|██████▍                                                                      | 712/8465 [10:46<2:14:48,  1.04s/it]"
     ]
    },
    {
     "name": "stdout",
     "output_type": "stream",
     "text": [
      "Specified song does not contain lyrics. Rejecting.\n",
      "Could not find 78 Days In The Desert by Sólstafir\n",
      "Searching for \"Köld\" by Sólstafir...\n"
     ]
    },
    {
     "name": "stderr",
     "output_type": "stream",
     "text": [
      "\r",
      "  8%|██████▍                                                                      | 713/8465 [10:48<2:36:20,  1.21s/it]"
     ]
    },
    {
     "name": "stdout",
     "output_type": "stream",
     "text": [
      "Done.\n",
      "Lyrics grabbed for Köld by Sólstafir\n",
      "Searching for \"Pale Rider\" by Sólstafir...\n"
     ]
    },
    {
     "name": "stderr",
     "output_type": "stream",
     "text": [
      "\r",
      "  8%|██████▍                                                                      | 714/8465 [10:49<2:47:11,  1.29s/it]"
     ]
    },
    {
     "name": "stdout",
     "output_type": "stream",
     "text": [
      "Done.\n",
      "Lyrics grabbed for Pale Rider by Sólstafir\n",
      "Searching for \"She Destroys Again\" by Sólstafir...\n"
     ]
    },
    {
     "name": "stderr",
     "output_type": "stream",
     "text": [
      "\r",
      "  8%|██████▌                                                                      | 715/8465 [10:51<3:14:33,  1.51s/it]"
     ]
    },
    {
     "name": "stdout",
     "output_type": "stream",
     "text": [
      "Done.\n",
      "Lyrics grabbed for She Destroys Again by Sólstafir\n",
      "Searching for \"Necrologue\" by Sólstafir...\n"
     ]
    },
    {
     "name": "stderr",
     "output_type": "stream",
     "text": [
      "\r",
      "  8%|██████▌                                                                      | 716/8465 [10:52<2:52:19,  1.33s/it]"
     ]
    },
    {
     "name": "stdout",
     "output_type": "stream",
     "text": [
      "Done.\n",
      "Lyrics grabbed for Necrologue by Sólstafir\n",
      "Searching for \"World Void Of Souls\" by Sólstafir...\n"
     ]
    },
    {
     "name": "stderr",
     "output_type": "stream",
     "text": [
      "\r",
      "  8%|██████▌                                                                      | 717/8465 [10:54<3:23:01,  1.57s/it]"
     ]
    },
    {
     "name": "stdout",
     "output_type": "stream",
     "text": [
      "Done.\n",
      "Lyrics grabbed for World Void Of Souls by Sólstafir\n",
      "Searching for \"Love Is The Devil (And I Am In Love)\" by Sólstafir...\n"
     ]
    },
    {
     "name": "stderr",
     "output_type": "stream",
     "text": [
      "\r",
      "  8%|██████▌                                                                      | 718/8465 [10:56<3:29:05,  1.62s/it]"
     ]
    },
    {
     "name": "stdout",
     "output_type": "stream",
     "text": [
      "Done.\n",
      "Lyrics grabbed for Love Is The Devil (And I Am In Love) by Sólstafir\n",
      "Searching for \"Goddess Of The Ages\" by Sólstafir...\n"
     ]
    },
    {
     "name": "stderr",
     "output_type": "stream",
     "text": [
      "\r",
      "  8%|██████▌                                                                      | 719/8465 [10:58<3:33:41,  1.66s/it]"
     ]
    },
    {
     "name": "stdout",
     "output_type": "stream",
     "text": [
      "Done.\n",
      "Lyrics grabbed for Goddess Of The Ages by Sólstafir\n",
      "Searching for \"Dandelion Wine\" by Gregory Alan Isakov...\n"
     ]
    },
    {
     "name": "stderr",
     "output_type": "stream",
     "text": [
      "\r",
      "  9%|██████▌                                                                      | 720/8465 [11:00<3:45:40,  1.75s/it]"
     ]
    },
    {
     "name": "stdout",
     "output_type": "stream",
     "text": [
      "Done.\n",
      "Lyrics grabbed for Dandelion Wine by Gregory Alan Isakov\n",
      "Searching for \"Light Year\" by Gregory Alan Isakov...\n"
     ]
    },
    {
     "name": "stderr",
     "output_type": "stream",
     "text": [
      "\r",
      "  9%|██████▌                                                                      | 721/8465 [11:01<3:37:10,  1.68s/it]"
     ]
    },
    {
     "name": "stdout",
     "output_type": "stream",
     "text": [
      "Done.\n",
      "Lyrics grabbed for Light Year by Gregory Alan Isakov\n",
      "Searching for \"That Moon Song\" by Gregory Alan Isakov...\n"
     ]
    },
    {
     "name": "stderr",
     "output_type": "stream",
     "text": [
      "\r",
      "  9%|██████▌                                                                      | 722/8465 [11:02<3:02:22,  1.41s/it]"
     ]
    },
    {
     "name": "stdout",
     "output_type": "stream",
     "text": [
      "Done.\n",
      "Lyrics grabbed for That Moon Song by Gregory Alan Isakov\n",
      "Searching for \"Evelyn\" by Gregory Alan Isakov...\n"
     ]
    },
    {
     "name": "stderr",
     "output_type": "stream",
     "text": [
      "\r",
      "  9%|██████▌                                                                      | 723/8465 [11:04<3:09:17,  1.47s/it]"
     ]
    },
    {
     "name": "stdout",
     "output_type": "stream",
     "text": [
      "Done.\n",
      "Lyrics grabbed for Evelyn by Gregory Alan Isakov\n",
      "Searching for \"Virginia May\" by Gregory Alan Isakov...\n"
     ]
    },
    {
     "name": "stderr",
     "output_type": "stream",
     "text": [
      "\r",
      "  9%|██████▌                                                                      | 724/8465 [11:04<2:45:49,  1.29s/it]"
     ]
    },
    {
     "name": "stdout",
     "output_type": "stream",
     "text": [
      "Done.\n",
      "Lyrics grabbed for Virginia May by Gregory Alan Isakov\n",
      "Searching for \"Big Black Car\" by Gregory Alan Isakov...\n"
     ]
    },
    {
     "name": "stderr",
     "output_type": "stream",
     "text": [
      "\r",
      "  9%|██████▌                                                                      | 725/8465 [11:05<2:25:34,  1.13s/it]"
     ]
    },
    {
     "name": "stdout",
     "output_type": "stream",
     "text": [
      "Done.\n",
      "Lyrics grabbed for Big Black Car by Gregory Alan Isakov\n",
      "Searching for \"Master & A Hound\" by Gregory Alan Isakov...\n"
     ]
    },
    {
     "name": "stderr",
     "output_type": "stream",
     "text": [
      "\r",
      "  9%|██████▌                                                                      | 726/8465 [11:06<2:12:00,  1.02s/it]"
     ]
    },
    {
     "name": "stdout",
     "output_type": "stream",
     "text": [
      "Done.\n",
      "Lyrics grabbed for Master & A Hound by Gregory Alan Isakov\n",
      "Searching for \"This Empty Northern Hemisphere\" by Gregory Alan Isakov...\n"
     ]
    },
    {
     "name": "stderr",
     "output_type": "stream",
     "text": [
      "\r",
      "  9%|██████▌                                                                      | 727/8465 [11:08<2:35:55,  1.21s/it]"
     ]
    },
    {
     "name": "stdout",
     "output_type": "stream",
     "text": [
      "Done.\n",
      "Lyrics grabbed for This Empty Northern Hemisphere by Gregory Alan Isakov\n",
      "Searching for \"Idaho\" by Gregory Alan Isakov...\n"
     ]
    },
    {
     "name": "stderr",
     "output_type": "stream",
     "text": [
      "\r",
      "  9%|██████▌                                                                      | 728/8465 [11:09<2:49:39,  1.32s/it]"
     ]
    },
    {
     "name": "stdout",
     "output_type": "stream",
     "text": [
      "Done.\n",
      "Lyrics grabbed for Idaho by Gregory Alan Isakov\n",
      "Searching for \"Words\" by Gregory Alan Isakov...\n"
     ]
    },
    {
     "name": "stderr",
     "output_type": "stream",
     "text": [
      "\r",
      "  9%|██████▋                                                                      | 729/8465 [11:10<2:29:21,  1.16s/it]"
     ]
    },
    {
     "name": "stdout",
     "output_type": "stream",
     "text": [
      "Done.\n",
      "Lyrics grabbed for Words by Gregory Alan Isakov\n",
      "Searching for \"Fire Escape\" by Gregory Alan Isakov...\n"
     ]
    },
    {
     "name": "stderr",
     "output_type": "stream",
     "text": [
      "\r",
      "  9%|██████▋                                                                      | 730/8465 [11:11<2:18:48,  1.08s/it]"
     ]
    },
    {
     "name": "stdout",
     "output_type": "stream",
     "text": [
      "Done.\n",
      "Lyrics grabbed for Fire Escape by Gregory Alan Isakov\n",
      "Searching for \"If I Go, I'm Goin\" by Gregory Alan Isakov...\n"
     ]
    },
    {
     "name": "stderr",
     "output_type": "stream",
     "text": [
      "\r",
      "  9%|██████▋                                                                      | 731/8465 [11:12<2:06:56,  1.02it/s]"
     ]
    },
    {
     "name": "stdout",
     "output_type": "stream",
     "text": [
      "Done.\n",
      "Lyrics grabbed for If I Go, I'm Goin by Gregory Alan Isakov\n",
      "Searching for \"One of Us Cannot Be Wrong\" by Gregory Alan Isakov...\n"
     ]
    },
    {
     "name": "stderr",
     "output_type": "stream",
     "text": [
      "\r",
      "  9%|██████▋                                                                      | 732/8465 [11:12<2:00:15,  1.07it/s]"
     ]
    },
    {
     "name": "stdout",
     "output_type": "stream",
     "text": [
      "Done.\n",
      "Lyrics grabbed for One of Us Cannot Be Wrong by Gregory Alan Isakov\n",
      "Searching for \"An Excerpt From 6,000,000,000,000 Miles Before the First, Or, The Revisitation of the Blue Ghost\" by maudlin of the Well...\n"
     ]
    },
    {
     "name": "stderr",
     "output_type": "stream",
     "text": [
      "\r",
      "  9%|██████▋                                                                      | 733/8465 [11:13<1:38:21,  1.31it/s]"
     ]
    },
    {
     "name": "stdout",
     "output_type": "stream",
     "text": [
      "No results found for: 'An Excerpt From 6,000,000,000,000 Miles Before the First, Or, The Revisitation of the Blue Ghost maudlin of the Well'\n",
      "Could not find An Excerpt From 6,000,000,000,000 Miles Before the First, Or, The Revisitation of the Blue Ghost by maudlin of the Well\n",
      "Searching for \"Another Excerpt: Keep Light Near You, Even When Dying\" by maudlin of the Well...\n"
     ]
    },
    {
     "name": "stderr",
     "output_type": "stream",
     "text": [
      "\r",
      "  9%|██████▋                                                                      | 734/8465 [11:15<2:44:51,  1.28s/it]"
     ]
    },
    {
     "name": "stdout",
     "output_type": "stream",
     "text": [
      "Done.\n",
      "Lyrics grabbed for Another Excerpt: Keep Light Near You, Even When Dying by maudlin of the Well\n",
      "Searching for \"Rose Quartz Turning To Glass\" by maudlin of the Well...\n"
     ]
    },
    {
     "name": "stderr",
     "output_type": "stream",
     "text": [
      "\r",
      "  9%|██████▋                                                                      | 735/8465 [11:17<2:55:04,  1.36s/it]"
     ]
    },
    {
     "name": "stdout",
     "output_type": "stream",
     "text": [
      "Done.\n",
      "Lyrics grabbed for Rose Quartz Turning To Glass by maudlin of the Well\n",
      "Searching for \"Clover Garland Island\" by maudlin of the Well...\n"
     ]
    },
    {
     "name": "stderr",
     "output_type": "stream",
     "text": [
      "\r",
      "  9%|██████▋                                                                      | 736/8465 [11:19<3:05:52,  1.44s/it]"
     ]
    },
    {
     "name": "stdout",
     "output_type": "stream",
     "text": [
      "Done.\n",
      "Lyrics grabbed for Clover Garland Island by maudlin of the Well\n",
      "Searching for \"Laboratories of the Invisible World (Rollerskating the Cosmic Palmistric Postborder)\" by maudlin of the Well...\n"
     ]
    },
    {
     "name": "stderr",
     "output_type": "stream",
     "text": [
      "\r",
      "  9%|██████▋                                                                      | 737/8465 [11:20<3:07:58,  1.46s/it]"
     ]
    },
    {
     "name": "stdout",
     "output_type": "stream",
     "text": [
      "Done.\n",
      "Lyrics grabbed for Laboratories of the Invisible World (Rollerskating the Cosmic Palmistric Postborder) by maudlin of the Well\n",
      "Searching for \"ソルティック・パインアップル\" by Ikd-sj...\n"
     ]
    },
    {
     "name": "stderr",
     "output_type": "stream",
     "text": [
      "\r",
      "  9%|██████▋                                                                      | 738/8465 [11:21<3:00:34,  1.40s/it]"
     ]
    },
    {
     "name": "stdout",
     "output_type": "stream",
     "text": [
      "Done.\n",
      "Lyrics grabbed for ソルティック・パインアップル by Ikd-sj\n",
      "Searching for \"Celeb Hunter\" by Ikd-sj...\n"
     ]
    },
    {
     "name": "stderr",
     "output_type": "stream",
     "text": [
      "\r",
      "  9%|██████▋                                                                      | 739/8465 [11:23<3:07:12,  1.45s/it]"
     ]
    },
    {
     "name": "stdout",
     "output_type": "stream",
     "text": [
      "Done.\n",
      "Lyrics grabbed for Celeb Hunter by Ikd-sj\n",
      "Searching for \"Ichigo-philia\" by Ikd-sj...\n"
     ]
    },
    {
     "name": "stderr",
     "output_type": "stream",
     "text": [
      "\r",
      "  9%|██████▋                                                                      | 740/8465 [11:23<2:29:06,  1.16s/it]"
     ]
    },
    {
     "name": "stdout",
     "output_type": "stream",
     "text": [
      "No results found for: 'Ichigo-philia Ikd-sj'\n",
      "Could not find Ichigo-philia by Ikd-sj\n",
      "Searching for \"Black Apartment\" by Ikd-sj...\n"
     ]
    },
    {
     "name": "stderr",
     "output_type": "stream",
     "text": [
      "\r",
      "  9%|██████▋                                                                      | 741/8465 [11:24<1:57:01,  1.10it/s]"
     ]
    },
    {
     "name": "stdout",
     "output_type": "stream",
     "text": [
      "No results found for: 'Black Apartment Ikd-sj'\n",
      "Could not find Black Apartment by Ikd-sj\n",
      "Searching for \"Brigade I.K.D.\" by Ikd-sj...\n"
     ]
    },
    {
     "name": "stderr",
     "output_type": "stream",
     "text": [
      "\r",
      "  9%|██████▋                                                                      | 742/8465 [11:25<2:13:34,  1.04s/it]"
     ]
    },
    {
     "name": "stdout",
     "output_type": "stream",
     "text": [
      "Done.\n",
      "Lyrics grabbed for Brigade I.K.D. by Ikd-sj\n",
      "Searching for \"Fullmetal Gunslinger\" by Ikd-sj...\n"
     ]
    },
    {
     "name": "stderr",
     "output_type": "stream",
     "text": [
      "\r",
      "  9%|██████▊                                                                      | 743/8465 [11:26<2:27:34,  1.15s/it]"
     ]
    },
    {
     "name": "stdout",
     "output_type": "stream",
     "text": [
      "Done.\n",
      "Lyrics grabbed for Fullmetal Gunslinger by Ikd-sj\n",
      "Searching for \"きみよし\" by Ikd-sj...\n"
     ]
    },
    {
     "name": "stderr",
     "output_type": "stream",
     "text": [
      "\r",
      "  9%|██████▊                                                                      | 744/8465 [11:28<2:29:16,  1.16s/it]"
     ]
    },
    {
     "name": "stdout",
     "output_type": "stream",
     "text": [
      "Done.\n",
      "Lyrics grabbed for きみよし by Ikd-sj\n",
      "Searching for \"Иine Inch Knife\" by Ikd-sj...\n"
     ]
    },
    {
     "name": "stderr",
     "output_type": "stream",
     "text": [
      "\r",
      "  9%|██████▊                                                                      | 745/8465 [11:28<1:57:20,  1.10it/s]"
     ]
    },
    {
     "name": "stdout",
     "output_type": "stream",
     "text": [
      "No results found for: 'Иine Inch Knife Ikd-sj'\n",
      "Could not find Иine Inch Knife by Ikd-sj\n",
      "Searching for \"赤いメロン\" by Ikd-sj...\n"
     ]
    },
    {
     "name": "stderr",
     "output_type": "stream",
     "text": [
      "\r",
      "  9%|██████▊                                                                      | 746/8465 [11:28<1:34:40,  1.36it/s]"
     ]
    },
    {
     "name": "stdout",
     "output_type": "stream",
     "text": [
      "No results found for: '赤いメロン Ikd-sj'\n",
      "Could not find 赤いメロン by Ikd-sj\n",
      "Searching for \"Fruit Basket\" by Ikd-sj...\n"
     ]
    },
    {
     "name": "stderr",
     "output_type": "stream",
     "text": [
      "\r",
      "  9%|██████▊                                                                      | 747/8465 [11:30<1:55:17,  1.12it/s]"
     ]
    },
    {
     "name": "stdout",
     "output_type": "stream",
     "text": [
      "Done.\n",
      "Lyrics grabbed for Fruit Basket by Ikd-sj\n",
      "Searching for \"Last / Exodus\" by Ikd-sj...\n"
     ]
    },
    {
     "name": "stderr",
     "output_type": "stream",
     "text": [
      "\r",
      "  9%|██████▊                                                                      | 748/8465 [11:31<2:21:32,  1.10s/it]"
     ]
    },
    {
     "name": "stdout",
     "output_type": "stream",
     "text": [
      "Done.\n",
      "Lyrics grabbed for Last / Exodus by Ikd-sj\n",
      "Searching for \"Impotent Kids\" by Ikd-sj...\n"
     ]
    },
    {
     "name": "stderr",
     "output_type": "stream",
     "text": [
      "\r",
      "  9%|██████▊                                                                      | 749/8465 [11:32<2:28:40,  1.16s/it]"
     ]
    },
    {
     "name": "stdout",
     "output_type": "stream",
     "text": [
      "Done.\n",
      "Lyrics grabbed for Impotent Kids by Ikd-sj\n",
      "Searching for \"Oddeyヨ\" by Ikd-sj...\n"
     ]
    },
    {
     "name": "stderr",
     "output_type": "stream",
     "text": [
      "\r",
      "  9%|██████▊                                                                      | 750/8465 [11:34<2:41:43,  1.26s/it]"
     ]
    },
    {
     "name": "stdout",
     "output_type": "stream",
     "text": [
      "Done.\n",
      "Lyrics grabbed for Oddeyヨ by Ikd-sj\n",
      "Searching for \"白痴\" by Ikd-sj...\n"
     ]
    },
    {
     "name": "stderr",
     "output_type": "stream",
     "text": [
      "\r",
      "  9%|██████▊                                                                      | 751/8465 [11:34<2:04:46,  1.03it/s]"
     ]
    },
    {
     "name": "stdout",
     "output_type": "stream",
     "text": [
      "No results found for: '白痴 Ikd-sj'\n",
      "Could not find 白痴 by Ikd-sj\n",
      "Searching for \"Lemon Lumpen\" by Ikd-sj...\n"
     ]
    },
    {
     "name": "stderr",
     "output_type": "stream",
     "text": [
      "\r",
      "  9%|██████▊                                                                      | 752/8465 [11:36<2:22:48,  1.11s/it]"
     ]
    },
    {
     "name": "stdout",
     "output_type": "stream",
     "text": [
      "Done.\n",
      "Lyrics grabbed for Lemon Lumpen by Ikd-sj\n",
      "Searching for \"Beautiful Slaughter\" by Ikd-sj...\n"
     ]
    },
    {
     "name": "stderr",
     "output_type": "stream",
     "text": [
      "\r",
      "  9%|██████▊                                                                      | 753/8465 [11:37<2:40:55,  1.25s/it]"
     ]
    },
    {
     "name": "stdout",
     "output_type": "stream",
     "text": [
      "Done.\n",
      "Lyrics grabbed for Beautiful Slaughter by Ikd-sj\n",
      "Searching for \"World's End\" by Ikd-sj...\n"
     ]
    },
    {
     "name": "stderr",
     "output_type": "stream",
     "text": [
      "\r",
      "  9%|██████▊                                                                      | 754/8465 [11:39<2:46:51,  1.30s/it]"
     ]
    },
    {
     "name": "stdout",
     "output_type": "stream",
     "text": [
      "Done.\n",
      "Lyrics grabbed for World's End by Ikd-sj\n",
      "Searching for \"The Furthest Shore\" by While Heaven Wept...\n"
     ]
    },
    {
     "name": "stderr",
     "output_type": "stream",
     "text": [
      "\r",
      "  9%|██████▊                                                                      | 755/8465 [11:40<2:36:10,  1.22s/it]"
     ]
    },
    {
     "name": "stdout",
     "output_type": "stream",
     "text": [
      "Done.\n",
      "Lyrics grabbed for The Furthest Shore by While Heaven Wept\n",
      "Searching for \"To Wander the Void\" by While Heaven Wept...\n"
     ]
    },
    {
     "name": "stderr",
     "output_type": "stream",
     "text": [
      "\r",
      "  9%|██████▉                                                                      | 756/8465 [11:41<2:57:39,  1.38s/it]"
     ]
    },
    {
     "name": "stdout",
     "output_type": "stream",
     "text": [
      "Done.\n",
      "Lyrics grabbed for To Wander the Void by While Heaven Wept\n",
      "Searching for \"Living Sepulchre/Vessel\" by While Heaven Wept...\n"
     ]
    },
    {
     "name": "stderr",
     "output_type": "stream",
     "text": [
      "\r",
      "  9%|██████▉                                                                      | 757/8465 [11:42<2:38:38,  1.23s/it]"
     ]
    },
    {
     "name": "stdout",
     "output_type": "stream",
     "text": [
      "Done.\n",
      "Lyrics grabbed for Living Sepulchre/Vessel by While Heaven Wept\n",
      "Searching for \"Vast Oceans Lachrymose/Epilogue\" by While Heaven Wept...\n"
     ]
    },
    {
     "name": "stderr",
     "output_type": "stream",
     "text": [
      "\r",
      "  9%|██████▉                                                                      | 758/8465 [11:43<2:05:24,  1.02it/s]"
     ]
    },
    {
     "name": "stdout",
     "output_type": "stream",
     "text": [
      "No results found for: 'Vast Oceans Lachrymose/Epilogue While Heaven Wept'\n",
      "Could not find Vast Oceans Lachrymose/Epilogue by While Heaven Wept\n",
      "Searching for \"The Furthest Shore (Parts 1-3)\" by While Heaven Wept...\n"
     ]
    },
    {
     "name": "stderr",
     "output_type": "stream",
     "text": [
      "\r",
      "  9%|██████▉                                                                      | 759/8465 [11:45<2:59:31,  1.40s/it]"
     ]
    },
    {
     "name": "stdout",
     "output_type": "stream",
     "text": [
      "Done.\n",
      "Lyrics grabbed for The Furthest Shore (Parts 1-3) by While Heaven Wept\n",
      "Searching for \"The Furthest Shore (Parts 6-7)\" by While Heaven Wept...\n",
      "Done.\n",
      "Lyrics grabbed for The Furthest Shore (Parts 6-7) by While Heaven Wept\n"
     ]
    },
    {
     "name": "stderr",
     "output_type": "stream",
     "text": [
      "\r",
      "  9%|██████▉                                                                      | 760/8465 [11:47<3:03:44,  1.43s/it]"
     ]
    },
    {
     "name": "stdout",
     "output_type": "stream",
     "text": [
      "Searching for \"Living Sepulchre (Single Version)\" by While Heaven Wept...\n"
     ]
    },
    {
     "name": "stderr",
     "output_type": "stream",
     "text": [
      "\r",
      "  9%|██████▉                                                                      | 761/8465 [11:48<2:57:15,  1.38s/it]"
     ]
    },
    {
     "name": "stdout",
     "output_type": "stream",
     "text": [
      "Done.\n",
      "Lyrics grabbed for Living Sepulchre (Single Version) by While Heaven Wept\n",
      "Searching for \"Vessel (Single Version)\" by While Heaven Wept...\n"
     ]
    },
    {
     "name": "stderr",
     "output_type": "stream",
     "text": [
      "\r",
      "  9%|██████▉                                                                      | 762/8465 [11:49<2:59:49,  1.40s/it]"
     ]
    },
    {
     "name": "stdout",
     "output_type": "stream",
     "text": [
      "Done.\n",
      "Lyrics grabbed for Vessel (Single Version) by While Heaven Wept\n",
      "Searching for \"Vast Oceans Lachrymose (Single Version)\" by While Heaven Wept...\n"
     ]
    },
    {
     "name": "stderr",
     "output_type": "stream",
     "text": [
      "\r",
      "  9%|██████▉                                                                      | 763/8465 [11:50<2:20:43,  1.10s/it]"
     ]
    },
    {
     "name": "stdout",
     "output_type": "stream",
     "text": [
      "No results found for: 'Vast Oceans Lachrymose (Single Version) While Heaven Wept'\n",
      "Could not find Vast Oceans Lachrymose (Single Version) by While Heaven Wept\n",
      "Searching for \"Epilogue (Single Version)\" by While Heaven Wept...\n"
     ]
    },
    {
     "name": "stderr",
     "output_type": "stream",
     "text": [
      "\r",
      "  9%|██████▉                                                                      | 764/8465 [11:51<2:40:58,  1.25s/it]"
     ]
    },
    {
     "name": "stdout",
     "output_type": "stream",
     "text": [
      "Done.\n",
      "Lyrics grabbed for Epilogue (Single Version) by While Heaven Wept\n",
      "Searching for \"Southern Point\" by Grizzly Bear...\n"
     ]
    },
    {
     "name": "stderr",
     "output_type": "stream",
     "text": [
      "\r",
      "  9%|██████▉                                                                      | 765/8465 [11:53<3:03:12,  1.43s/it]"
     ]
    },
    {
     "name": "stdout",
     "output_type": "stream",
     "text": [
      "Done.\n",
      "Lyrics grabbed for Southern Point by Grizzly Bear\n",
      "Searching for \"Two Weeks\" by Grizzly Bear...\n"
     ]
    },
    {
     "name": "stderr",
     "output_type": "stream",
     "text": [
      "\r",
      "  9%|██████▉                                                                      | 766/8465 [11:56<4:02:19,  1.89s/it]"
     ]
    },
    {
     "name": "stdout",
     "output_type": "stream",
     "text": [
      "Done.\n",
      "Lyrics grabbed for Two Weeks by Grizzly Bear\n",
      "Searching for \"All We Ask\" by Grizzly Bear...\n"
     ]
    },
    {
     "name": "stderr",
     "output_type": "stream",
     "text": [
      "\r",
      "  9%|██████▉                                                                      | 767/8465 [11:57<3:34:53,  1.67s/it]"
     ]
    },
    {
     "name": "stdout",
     "output_type": "stream",
     "text": [
      "Done.\n",
      "Lyrics grabbed for All We Ask by Grizzly Bear\n",
      "Searching for \"Fine For Now\" by Grizzly Bear...\n"
     ]
    },
    {
     "name": "stderr",
     "output_type": "stream",
     "text": [
      "\r",
      "  9%|██████▉                                                                      | 768/8465 [11:59<3:40:30,  1.72s/it]"
     ]
    },
    {
     "name": "stdout",
     "output_type": "stream",
     "text": [
      "Done.\n",
      "Lyrics grabbed for Fine For Now by Grizzly Bear\n",
      "Searching for \"Cheerleader\" by Grizzly Bear...\n"
     ]
    },
    {
     "name": "stderr",
     "output_type": "stream",
     "text": [
      "\r",
      "  9%|██████▉                                                                      | 769/8465 [12:00<3:12:36,  1.50s/it]"
     ]
    },
    {
     "name": "stdout",
     "output_type": "stream",
     "text": [
      "Done.\n",
      "Lyrics grabbed for Cheerleader by Grizzly Bear\n",
      "Searching for \"Dory\" by Grizzly Bear...\n",
      "Done.\n",
      "Lyrics grabbed for Dory by Grizzly Bear\n"
     ]
    },
    {
     "name": "stderr",
     "output_type": "stream",
     "text": [
      "\r",
      "  9%|███████                                                                      | 770/8465 [12:03<3:59:28,  1.87s/it]"
     ]
    },
    {
     "name": "stdout",
     "output_type": "stream",
     "text": [
      "Searching for \"Ready, Able\" by Grizzly Bear...\n"
     ]
    },
    {
     "name": "stderr",
     "output_type": "stream",
     "text": [
      "\r",
      "  9%|███████                                                                      | 771/8465 [12:04<3:36:05,  1.69s/it]"
     ]
    },
    {
     "name": "stdout",
     "output_type": "stream",
     "text": [
      "Done.\n",
      "Lyrics grabbed for Ready, Able by Grizzly Bear\n",
      "Searching for \"About Face\" by Grizzly Bear...\n"
     ]
    },
    {
     "name": "stderr",
     "output_type": "stream",
     "text": [
      "\r",
      "  9%|███████                                                                      | 772/8465 [12:05<3:21:02,  1.57s/it]"
     ]
    },
    {
     "name": "stdout",
     "output_type": "stream",
     "text": [
      "Done.\n",
      "Lyrics grabbed for About Face by Grizzly Bear\n",
      "Searching for \"Hold Still\" by Grizzly Bear...\n"
     ]
    },
    {
     "name": "stderr",
     "output_type": "stream",
     "text": [
      "\r",
      "  9%|███████                                                                      | 773/8465 [12:06<2:59:09,  1.40s/it]"
     ]
    },
    {
     "name": "stdout",
     "output_type": "stream",
     "text": [
      "Done.\n",
      "Lyrics grabbed for Hold Still by Grizzly Bear\n",
      "Searching for \"While You Wait For The Others\" by Grizzly Bear...\n"
     ]
    },
    {
     "name": "stderr",
     "output_type": "stream",
     "text": [
      "\r",
      "  9%|███████                                                                      | 774/8465 [12:08<3:07:53,  1.47s/it]"
     ]
    },
    {
     "name": "stdout",
     "output_type": "stream",
     "text": [
      "Done.\n",
      "Lyrics grabbed for While You Wait For The Others by Grizzly Bear\n",
      "Searching for \"I Live With You\" by Grizzly Bear...\n"
     ]
    },
    {
     "name": "stderr",
     "output_type": "stream",
     "text": [
      "\r",
      "  9%|███████                                                                      | 775/8465 [12:09<2:43:41,  1.28s/it]"
     ]
    },
    {
     "name": "stdout",
     "output_type": "stream",
     "text": [
      "Specified song does not contain lyrics. Rejecting.\n",
      "Could not find I Live With You by Grizzly Bear\n",
      "Searching for \"Foreground\" by Grizzly Bear...\n"
     ]
    },
    {
     "name": "stderr",
     "output_type": "stream",
     "text": [
      "\r",
      "  9%|███████                                                                      | 776/8465 [12:10<2:31:27,  1.18s/it]"
     ]
    },
    {
     "name": "stdout",
     "output_type": "stream",
     "text": [
      "Done.\n",
      "Lyrics grabbed for Foreground by Grizzly Bear\n",
      "Searching for \"Alive in the Tone\" by Pretend...\n"
     ]
    },
    {
     "name": "stderr",
     "output_type": "stream",
     "text": [
      "\r",
      "  9%|███████                                                                      | 777/8465 [12:10<2:11:39,  1.03s/it]"
     ]
    },
    {
     "name": "stdout",
     "output_type": "stream",
     "text": [
      "Specified song does not contain lyrics. Rejecting.\n",
      "Could not find Alive in the Tone by Pretend\n",
      "Searching for \"Dream Shiver\" by Pretend...\n"
     ]
    },
    {
     "name": "stderr",
     "output_type": "stream",
     "text": [
      "\r",
      "  9%|███████                                                                      | 778/8465 [12:11<2:08:47,  1.01s/it]"
     ]
    },
    {
     "name": "stdout",
     "output_type": "stream",
     "text": [
      "Done.\n",
      "Lyrics grabbed for Dream Shiver by Pretend\n",
      "Searching for \"Flairs\" by Pretend...\n"
     ]
    },
    {
     "name": "stderr",
     "output_type": "stream",
     "text": [
      "\r",
      "  9%|███████                                                                      | 779/8465 [12:14<2:58:27,  1.39s/it]"
     ]
    },
    {
     "name": "stdout",
     "output_type": "stream",
     "text": [
      "Done.\n",
      "Lyrics grabbed for Flairs by Pretend\n",
      "Searching for \"Guided Spirits-Guilded Souls\" by Pretend...\n",
      "Done.\n",
      "Lyrics grabbed for Guided Spirits-Guilded Souls by Pretend\n"
     ]
    },
    {
     "name": "stderr",
     "output_type": "stream",
     "text": [
      "\r",
      "  9%|███████                                                                      | 780/8465 [12:15<3:02:12,  1.42s/it]"
     ]
    },
    {
     "name": "stdout",
     "output_type": "stream",
     "text": [
      "Searching for \"Those Luminous Noises Are God\" by Pretend...\n"
     ]
    },
    {
     "name": "stderr",
     "output_type": "stream",
     "text": [
      "\r",
      "  9%|███████                                                                      | 781/8465 [12:16<2:44:26,  1.28s/it]"
     ]
    },
    {
     "name": "stdout",
     "output_type": "stream",
     "text": [
      "Done.\n",
      "Lyrics grabbed for Those Luminous Noises Are God by Pretend\n",
      "Searching for \"Legs to Walk Us, to Drop Us\" by Pretend...\n"
     ]
    },
    {
     "name": "stderr",
     "output_type": "stream",
     "text": [
      "\r",
      "  9%|███████                                                                      | 782/8465 [12:17<2:36:20,  1.22s/it]"
     ]
    },
    {
     "name": "stdout",
     "output_type": "stream",
     "text": [
      "Done.\n",
      "Lyrics grabbed for Legs to Walk Us, to Drop Us by Pretend\n",
      "Searching for \"Bones in the Soil, Rust in the Oil\" by Pretend...\n"
     ]
    },
    {
     "name": "stderr",
     "output_type": "stream",
     "text": [
      "\r",
      "  9%|███████                                                                      | 783/8465 [12:19<2:56:38,  1.38s/it]"
     ]
    },
    {
     "name": "stdout",
     "output_type": "stream",
     "text": [
      "Done.\n",
      "Lyrics grabbed for Bones in the Soil, Rust in the Oil by Pretend\n",
      "Searching for \"Holy Destination\" by Pretend...\n"
     ]
    },
    {
     "name": "stderr",
     "output_type": "stream",
     "text": [
      "\r",
      "  9%|███████▏                                                                     | 784/8465 [12:20<2:28:24,  1.16s/it]"
     ]
    },
    {
     "name": "stdout",
     "output_type": "stream",
     "text": [
      "Specified song does not contain lyrics. Rejecting.\n",
      "Could not find Holy Destination by Pretend\n",
      "Searching for \"Two-Too High\" by Pretend...\n"
     ]
    },
    {
     "name": "stderr",
     "output_type": "stream",
     "text": [
      "\r",
      "  9%|███████▏                                                                     | 785/8465 [12:20<2:05:02,  1.02it/s]"
     ]
    },
    {
     "name": "stdout",
     "output_type": "stream",
     "text": [
      "Specified song does not contain lyrics. Rejecting.\n",
      "Could not find Two-Too High by Pretend\n",
      "Searching for \"Spiral Born Black Into the Upwards Night\" by Pretend...\n"
     ]
    },
    {
     "name": "stderr",
     "output_type": "stream",
     "text": [
      "\r",
      "  9%|███████▏                                                                     | 786/8465 [12:22<2:28:39,  1.16s/it]"
     ]
    },
    {
     "name": "stdout",
     "output_type": "stream",
     "text": [
      "Done.\n",
      "Lyrics grabbed for Spiral Born Black Into the Upwards Night by Pretend\n",
      "Searching for \"The Haywain\" by Wobbler...\n"
     ]
    },
    {
     "name": "stderr",
     "output_type": "stream",
     "text": [
      "\r",
      "  9%|███████▏                                                                     | 787/8465 [12:22<2:03:06,  1.04it/s]"
     ]
    },
    {
     "name": "stdout",
     "output_type": "stream",
     "text": [
      "Specified song does not contain lyrics. Rejecting.\n",
      "Could not find The Haywain by Wobbler\n",
      "Searching for \"Imperial Winter White\" by Wobbler...\n"
     ]
    },
    {
     "name": "stderr",
     "output_type": "stream",
     "text": [
      "\r",
      "  9%|███████▏                                                                     | 788/8465 [12:24<2:44:09,  1.28s/it]"
     ]
    },
    {
     "name": "stdout",
     "output_type": "stream",
     "text": [
      "Done.\n",
      "Lyrics grabbed for Imperial Winter White by Wobbler\n",
      "Searching for \"Interlude\" by Wobbler...\n"
     ]
    },
    {
     "name": "stderr",
     "output_type": "stream",
     "text": [
      "\r",
      "  9%|███████▏                                                                     | 789/8465 [12:25<2:15:54,  1.06s/it]"
     ]
    },
    {
     "name": "stdout",
     "output_type": "stream",
     "text": [
      "Specified song does not contain lyrics. Rejecting.\n",
      "Could not find Interlude by Wobbler\n",
      "Searching for \"In Taberna\" by Wobbler...\n",
      "Specified song does not contain lyrics. Rejecting.\n",
      "Could not find In Taberna by Wobbler\n"
     ]
    },
    {
     "name": "stderr",
     "output_type": "stream",
     "text": [
      "\r",
      "  9%|███████▏                                                                     | 790/8465 [12:26<2:05:50,  1.02it/s]"
     ]
    },
    {
     "name": "stdout",
     "output_type": "stream",
     "text": [
      "Searching for \"Armoury\" by Wobbler...\n"
     ]
    },
    {
     "name": "stderr",
     "output_type": "stream",
     "text": [
      "\r",
      "  9%|███████▏                                                                     | 791/8465 [12:26<1:48:10,  1.18it/s]"
     ]
    },
    {
     "name": "stdout",
     "output_type": "stream",
     "text": [
      "Specified song does not contain lyrics. Rejecting.\n",
      "Could not find Armoury by Wobbler\n",
      "Searching for \"Urquell\" by Finsterforst...\n"
     ]
    },
    {
     "name": "stderr",
     "output_type": "stream",
     "text": [
      "\r",
      "  9%|███████▏                                                                     | 792/8465 [12:28<2:09:07,  1.01s/it]"
     ]
    },
    {
     "name": "stdout",
     "output_type": "stream",
     "text": [
      "Done.\n",
      "Lyrics grabbed for Urquell by Finsterforst\n",
      "Searching for \"Das große Erwachen\" by Finsterforst...\n"
     ]
    },
    {
     "name": "stderr",
     "output_type": "stream",
     "text": [
      "\r",
      "  9%|███████▏                                                                     | 793/8465 [12:29<2:32:03,  1.19s/it]"
     ]
    },
    {
     "name": "stdout",
     "output_type": "stream",
     "text": [
      "Done.\n",
      "Lyrics grabbed for Das große Erwachen by Finsterforst\n",
      "Searching for \"Seines Glückes Schmied\" by Finsterforst...\n"
     ]
    },
    {
     "name": "stderr",
     "output_type": "stream",
     "text": [
      "\r",
      "  9%|███████▏                                                                     | 794/8465 [12:30<2:35:21,  1.22s/it]"
     ]
    },
    {
     "name": "stdout",
     "output_type": "stream",
     "text": [
      "Done.\n",
      "Lyrics grabbed for Seines Glückes Schmied by Finsterforst\n",
      "Searching for \"Sturmes Ernte\" by Finsterforst...\n"
     ]
    },
    {
     "name": "stderr",
     "output_type": "stream",
     "text": [
      "\r",
      "  9%|███████▏                                                                     | 795/8465 [12:32<2:58:40,  1.40s/it]"
     ]
    },
    {
     "name": "stdout",
     "output_type": "stream",
     "text": [
      "Done.\n",
      "Lyrics grabbed for Sturmes Ernte by Finsterforst\n",
      "Searching for \"Untergang\" by Finsterforst...\n"
     ]
    },
    {
     "name": "stderr",
     "output_type": "stream",
     "text": [
      "\r",
      "  9%|███████▏                                                                     | 796/8465 [12:34<3:17:27,  1.54s/it]"
     ]
    },
    {
     "name": "stdout",
     "output_type": "stream",
     "text": [
      "Done.\n",
      "Lyrics grabbed for Untergang by Finsterforst\n",
      "Searching for \"Hall of the Dead\" by Isis...\n"
     ]
    },
    {
     "name": "stderr",
     "output_type": "stream",
     "text": [
      "\r",
      "  9%|███████▏                                                                     | 797/8465 [12:37<3:50:54,  1.81s/it]"
     ]
    },
    {
     "name": "stdout",
     "output_type": "stream",
     "text": [
      "Done.\n",
      "Lyrics grabbed for Hall of the Dead by Isis\n",
      "Searching for \"Ghost Key\" by Isis...\n"
     ]
    },
    {
     "name": "stderr",
     "output_type": "stream",
     "text": [
      "\r",
      "  9%|███████▎                                                                     | 798/8465 [12:39<4:11:05,  1.96s/it]"
     ]
    },
    {
     "name": "stdout",
     "output_type": "stream",
     "text": [
      "Done.\n",
      "Lyrics grabbed for Ghost Key by Isis\n",
      "Searching for \"Hand of the Host\" by Isis...\n"
     ]
    },
    {
     "name": "stderr",
     "output_type": "stream",
     "text": [
      "\r",
      "  9%|███████▎                                                                     | 799/8465 [12:40<3:39:04,  1.71s/it]"
     ]
    },
    {
     "name": "stdout",
     "output_type": "stream",
     "text": [
      "Done.\n",
      "Lyrics grabbed for Hand of the Host by Isis\n",
      "Searching for \"Wavering Radiant\" by Isis...\n",
      "Specified song does not contain lyrics. Rejecting.\n",
      "Could not find Wavering Radiant by Isis\n"
     ]
    },
    {
     "name": "stderr",
     "output_type": "stream",
     "text": [
      "\r",
      "  9%|███████▎                                                                     | 800/8465 [12:41<3:13:44,  1.52s/it]"
     ]
    },
    {
     "name": "stdout",
     "output_type": "stream",
     "text": [
      "Searching for \"Stone to Wake a Serpent\" by Isis...\n"
     ]
    },
    {
     "name": "stderr",
     "output_type": "stream",
     "text": [
      "\r",
      "  9%|███████▎                                                                     | 801/8465 [12:42<2:50:19,  1.33s/it]"
     ]
    },
    {
     "name": "stdout",
     "output_type": "stream",
     "text": [
      "Done.\n",
      "Lyrics grabbed for Stone to Wake a Serpent by Isis\n",
      "Searching for \"20 Minutes / 40 Years\" by Isis...\n"
     ]
    },
    {
     "name": "stderr",
     "output_type": "stream",
     "text": [
      "\r",
      "  9%|███████▎                                                                     | 802/8465 [12:43<2:34:18,  1.21s/it]"
     ]
    },
    {
     "name": "stdout",
     "output_type": "stream",
     "text": [
      "Done.\n",
      "Lyrics grabbed for 20 Minutes / 40 Years by Isis\n",
      "Searching for \"Threshold of Transformation\" by Isis...\n"
     ]
    },
    {
     "name": "stderr",
     "output_type": "stream",
     "text": [
      "\r",
      "  9%|███████▎                                                                     | 803/8465 [12:45<3:04:49,  1.45s/it]"
     ]
    },
    {
     "name": "stdout",
     "output_type": "stream",
     "text": [
      "Done.\n",
      "Lyrics grabbed for Threshold of Transformation by Isis\n",
      "Searching for \"Intro\" by Fashawn...\n"
     ]
    },
    {
     "name": "stderr",
     "output_type": "stream",
     "text": [
      "\r",
      "  9%|███████▎                                                                     | 804/8465 [12:47<3:48:36,  1.79s/it]"
     ]
    },
    {
     "name": "stdout",
     "output_type": "stream",
     "text": [
      "Done.\n",
      "Lyrics grabbed for Intro by Fashawn\n",
      "Searching for \"Freedom\" by Fashawn...\n"
     ]
    },
    {
     "name": "stderr",
     "output_type": "stream",
     "text": [
      "\r",
      " 10%|███████▎                                                                     | 805/8465 [12:50<4:11:49,  1.97s/it]"
     ]
    },
    {
     "name": "stdout",
     "output_type": "stream",
     "text": [
      "Done.\n",
      "Lyrics grabbed for Freedom by Fashawn\n",
      "Searching for \"Hey Young World (feat. Aloe Blacc, Devoya)\" by Fashawn...\n"
     ]
    },
    {
     "name": "stderr",
     "output_type": "stream",
     "text": [
      "\r",
      " 10%|███████▎                                                                     | 806/8465 [12:52<4:12:06,  1.97s/it]"
     ]
    },
    {
     "name": "stdout",
     "output_type": "stream",
     "text": [
      "Done.\n",
      "Lyrics grabbed for Hey Young World (feat. Aloe Blacc, Devoya) by Fashawn\n",
      "Searching for \"Stars\" by Fashawn...\n"
     ]
    },
    {
     "name": "stderr",
     "output_type": "stream",
     "text": [
      "\r",
      " 10%|███████▎                                                                     | 807/8465 [12:54<4:02:39,  1.90s/it]"
     ]
    },
    {
     "name": "stdout",
     "output_type": "stream",
     "text": [
      "Done.\n",
      "Lyrics grabbed for Stars by Fashawn\n",
      "Searching for \"Life As A Shorty (feat. J. Mitchell)\" by Fashawn...\n"
     ]
    },
    {
     "name": "stderr",
     "output_type": "stream",
     "text": [
      "\r",
      " 10%|███████▎                                                                     | 808/8465 [12:56<4:04:46,  1.92s/it]"
     ]
    },
    {
     "name": "stdout",
     "output_type": "stream",
     "text": [
      "Done.\n",
      "Lyrics grabbed for Life As A Shorty (feat. J. Mitchell) by Fashawn\n",
      "Searching for \"The Ecology\" by Fashawn...\n"
     ]
    },
    {
     "name": "stderr",
     "output_type": "stream",
     "text": [
      "\r",
      " 10%|███████▎                                                                     | 809/8465 [12:57<3:59:37,  1.88s/it]"
     ]
    },
    {
     "name": "stdout",
     "output_type": "stream",
     "text": [
      "Done.\n",
      "Lyrics grabbed for The Ecology by Fashawn\n",
      "Searching for \"Our Way (feat. Evidence)\" by Fashawn...\n",
      "Done.\n",
      "Lyrics grabbed for Our Way (feat. Evidence) by Fashawn\n"
     ]
    },
    {
     "name": "stderr",
     "output_type": "stream",
     "text": [
      "\r",
      " 10%|███████▎                                                                     | 810/8465 [13:00<4:22:36,  2.06s/it]"
     ]
    },
    {
     "name": "stdout",
     "output_type": "stream",
     "text": [
      "Searching for \"Why\" by Fashawn...\n"
     ]
    },
    {
     "name": "stderr",
     "output_type": "stream",
     "text": [
      "\r",
      " 10%|███████▍                                                                     | 811/8465 [13:02<4:26:37,  2.09s/it]"
     ]
    },
    {
     "name": "stdout",
     "output_type": "stream",
     "text": [
      "Done.\n",
      "Lyrics grabbed for Why by Fashawn\n",
      "Searching for \"Samsonite Man (feat. Blu)\" by Fashawn...\n"
     ]
    },
    {
     "name": "stderr",
     "output_type": "stream",
     "text": [
      "\r",
      " 10%|███████▍                                                                     | 812/8465 [13:05<4:57:41,  2.33s/it]"
     ]
    },
    {
     "name": "stdout",
     "output_type": "stream",
     "text": [
      "Done.\n",
      "Lyrics grabbed for Samsonite Man (feat. Blu) by Fashawn\n",
      "Searching for \"The Score (feat. Planet Asia)\" by Fashawn...\n"
     ]
    },
    {
     "name": "stderr",
     "output_type": "stream",
     "text": [
      "\r",
      " 10%|███████▍                                                                     | 813/8465 [13:06<4:13:31,  1.99s/it]"
     ]
    },
    {
     "name": "stdout",
     "output_type": "stream",
     "text": [
      "Done.\n",
      "Lyrics grabbed for The Score (feat. Planet Asia) by Fashawn\n",
      "Searching for \"Breathe (feat. Bravo)\" by Fashawn...\n"
     ]
    },
    {
     "name": "stderr",
     "output_type": "stream",
     "text": [
      "\r",
      " 10%|███████▍                                                                     | 814/8465 [13:09<4:41:40,  2.21s/it]"
     ]
    },
    {
     "name": "stdout",
     "output_type": "stream",
     "text": [
      "Done.\n",
      "Lyrics grabbed for Breathe (feat. Bravo) by Fashawn\n",
      "Searching for \"Father\" by Fashawn...\n"
     ]
    },
    {
     "name": "stderr",
     "output_type": "stream",
     "text": [
      "\r",
      " 10%|███████▍                                                                     | 815/8465 [13:10<4:21:00,  2.05s/it]"
     ]
    },
    {
     "name": "stdout",
     "output_type": "stream",
     "text": [
      "Done.\n",
      "Lyrics grabbed for Father by Fashawn\n",
      "Searching for \"Sunny CA (feat. Co$$, Mistah F.A.B.)\" by Fashawn...\n"
     ]
    },
    {
     "name": "stderr",
     "output_type": "stream",
     "text": [
      "\r",
      " 10%|███████▍                                                                     | 816/8465 [13:11<3:16:11,  1.54s/it]"
     ]
    },
    {
     "name": "stdout",
     "output_type": "stream",
     "text": [
      "No results found for: 'Sunny CA (feat. Co$$, Mistah F.A.B.) Fashawn'\n",
      "Could not find Sunny CA (feat. Co$$, Mistah F.A.B.) by Fashawn\n",
      "Searching for \"Bo Jackson (feat. Exile)\" by Fashawn...\n"
     ]
    },
    {
     "name": "stderr",
     "output_type": "stream",
     "text": [
      "\r",
      " 10%|███████▍                                                                     | 817/8465 [13:13<3:40:18,  1.73s/it]"
     ]
    },
    {
     "name": "stdout",
     "output_type": "stream",
     "text": [
      "Done.\n",
      "Lyrics grabbed for Bo Jackson (feat. Exile) by Fashawn\n",
      "Searching for \"Lupita\" by Fashawn...\n"
     ]
    },
    {
     "name": "stderr",
     "output_type": "stream",
     "text": [
      "\r",
      " 10%|███████▍                                                                     | 818/8465 [13:14<3:08:47,  1.48s/it]"
     ]
    },
    {
     "name": "stdout",
     "output_type": "stream",
     "text": [
      "Done.\n",
      "Lyrics grabbed for Lupita by Fashawn\n",
      "Searching for \"When She Calls\" by Fashawn...\n"
     ]
    },
    {
     "name": "stderr",
     "output_type": "stream",
     "text": [
      "\r",
      " 10%|███████▍                                                                     | 819/8465 [13:17<4:22:03,  2.06s/it]"
     ]
    },
    {
     "name": "stdout",
     "output_type": "stream",
     "text": [
      "Done.\n",
      "Lyrics grabbed for When She Calls by Fashawn\n",
      "Searching for \"Boy Meets World\" by Fashawn...\n",
      "Done.\n",
      "Lyrics grabbed for Boy Meets World by Fashawn\n"
     ]
    },
    {
     "name": "stderr",
     "output_type": "stream",
     "text": [
      "\r",
      " 10%|███████▍                                                                     | 820/8465 [13:20<4:31:02,  2.13s/it]"
     ]
    },
    {
     "name": "stdout",
     "output_type": "stream",
     "text": [
      "Searching for \"Into the Jaws of Hell\" by Tribulation...\n"
     ]
    },
    {
     "name": "stderr",
     "output_type": "stream",
     "text": [
      "\r",
      " 10%|███████▍                                                                     | 821/8465 [13:20<3:33:25,  1.68s/it]"
     ]
    },
    {
     "name": "stdout",
     "output_type": "stream",
     "text": [
      "Specified song does not contain lyrics. Rejecting.\n",
      "Could not find Into the Jaws of Hell by Tribulation\n",
      "Searching for \"Crypt of Thanatophilia\" by Tribulation...\n"
     ]
    },
    {
     "name": "stderr",
     "output_type": "stream",
     "text": [
      "\r",
      " 10%|███████▍                                                                     | 822/8465 [13:22<3:32:47,  1.67s/it]"
     ]
    },
    {
     "name": "stdout",
     "output_type": "stream",
     "text": [
      "Done.\n",
      "Lyrics grabbed for Crypt of Thanatophilia by Tribulation\n",
      "Searching for \"Curse of Resurrection\" by Tribulation...\n"
     ]
    },
    {
     "name": "stderr",
     "output_type": "stream",
     "text": [
      "\r",
      " 10%|███████▍                                                                     | 823/8465 [13:24<3:42:35,  1.75s/it]"
     ]
    },
    {
     "name": "stdout",
     "output_type": "stream",
     "text": [
      "Done.\n",
      "Lyrics grabbed for Curse of Resurrection by Tribulation\n",
      "Searching for \"Beyond the Horror\" by Tribulation...\n"
     ]
    },
    {
     "name": "stderr",
     "output_type": "stream",
     "text": [
      "\r",
      " 10%|███████▍                                                                     | 824/8465 [13:25<3:36:57,  1.70s/it]"
     ]
    },
    {
     "name": "stdout",
     "output_type": "stream",
     "text": [
      "Done.\n",
      "Lyrics grabbed for Beyond the Horror by Tribulation\n",
      "Searching for \"The Vampyre\" by Tribulation...\n"
     ]
    },
    {
     "name": "stderr",
     "output_type": "stream",
     "text": [
      "\r",
      " 10%|███████▌                                                                     | 825/8465 [13:27<3:29:32,  1.65s/it]"
     ]
    },
    {
     "name": "stdout",
     "output_type": "stream",
     "text": [
      "Done.\n",
      "Lyrics grabbed for The Vampyre by Tribulation\n",
      "Searching for \"Sacrilegious Darkness\" by Tribulation...\n"
     ]
    },
    {
     "name": "stderr",
     "output_type": "stream",
     "text": [
      "\r",
      " 10%|███████▌                                                                     | 826/8465 [13:29<3:31:38,  1.66s/it]"
     ]
    },
    {
     "name": "stdout",
     "output_type": "stream",
     "text": [
      "Done.\n",
      "Lyrics grabbed for Sacrilegious Darkness by Tribulation\n",
      "Searching for \"Spawn of the Jackal\" by Tribulation...\n"
     ]
    },
    {
     "name": "stderr",
     "output_type": "stream",
     "text": [
      "\r",
      " 10%|███████▌                                                                     | 827/8465 [13:30<3:27:54,  1.63s/it]"
     ]
    },
    {
     "name": "stdout",
     "output_type": "stream",
     "text": [
      "Done.\n",
      "Lyrics grabbed for Spawn of the Jackal by Tribulation\n",
      "Searching for \"Seduced by the Smell of Rotten Flesh\" by Tribulation...\n"
     ]
    },
    {
     "name": "stderr",
     "output_type": "stream",
     "text": [
      "\r",
      " 10%|███████▌                                                                     | 828/8465 [13:32<3:26:50,  1.63s/it]"
     ]
    },
    {
     "name": "stdout",
     "output_type": "stream",
     "text": [
      "Done.\n",
      "Lyrics grabbed for Seduced by the Smell of Rotten Flesh by Tribulation\n",
      "Searching for \"Graveyard Ghouls\" by Tribulation...\n"
     ]
    },
    {
     "name": "stderr",
     "output_type": "stream",
     "text": [
      "\r",
      " 10%|███████▌                                                                     | 829/8465 [13:33<3:23:24,  1.60s/it]"
     ]
    },
    {
     "name": "stdout",
     "output_type": "stream",
     "text": [
      "Done.\n",
      "Lyrics grabbed for Graveyard Ghouls by Tribulation\n",
      "Searching for \"Fire On the Moon\" by Steve Hackett...\n"
     ]
    },
    {
     "name": "stderr",
     "output_type": "stream",
     "text": [
      "\r",
      " 10%|███████▌                                                                     | 830/8465 [13:36<3:47:11,  1.79s/it]"
     ]
    },
    {
     "name": "stdout",
     "output_type": "stream",
     "text": [
      "Done.\n",
      "Lyrics grabbed for Fire On the Moon by Steve Hackett\n",
      "Searching for \"Nomads\" by Steve Hackett...\n"
     ]
    },
    {
     "name": "stderr",
     "output_type": "stream",
     "text": [
      "\r",
      " 10%|███████▌                                                                     | 831/8465 [13:38<4:02:30,  1.91s/it]"
     ]
    },
    {
     "name": "stdout",
     "output_type": "stream",
     "text": [
      "Done.\n",
      "Lyrics grabbed for Nomads by Steve Hackett\n",
      "Searching for \"Emerald and Ash\" by Steve Hackett...\n"
     ]
    },
    {
     "name": "stderr",
     "output_type": "stream",
     "text": [
      "\r",
      " 10%|███████▌                                                                     | 832/8465 [13:39<3:23:38,  1.60s/it]"
     ]
    },
    {
     "name": "stdout",
     "output_type": "stream",
     "text": [
      "Done.\n",
      "Lyrics grabbed for Emerald and Ash by Steve Hackett\n",
      "Searching for \"Tubehead\" by Steve Hackett...\n"
     ]
    },
    {
     "name": "stderr",
     "output_type": "stream",
     "text": [
      "\r",
      " 10%|███████▌                                                                     | 833/8465 [13:39<2:54:05,  1.37s/it]"
     ]
    },
    {
     "name": "stdout",
     "output_type": "stream",
     "text": [
      "Specified song does not contain lyrics. Rejecting.\n",
      "Could not find Tubehead by Steve Hackett\n",
      "Searching for \"Sleepers\" by Steve Hackett...\n"
     ]
    },
    {
     "name": "stderr",
     "output_type": "stream",
     "text": [
      "\r",
      " 10%|███████▌                                                                     | 834/8465 [13:41<3:11:34,  1.51s/it]"
     ]
    },
    {
     "name": "stdout",
     "output_type": "stream",
     "text": [
      "Done.\n",
      "Lyrics grabbed for Sleepers by Steve Hackett\n",
      "Searching for \"Ghost In the Glass\" by Steve Hackett...\n"
     ]
    },
    {
     "name": "stderr",
     "output_type": "stream",
     "text": [
      "\r",
      " 10%|███████▌                                                                     | 835/8465 [13:42<2:39:07,  1.25s/it]"
     ]
    },
    {
     "name": "stdout",
     "output_type": "stream",
     "text": [
      "Specified song does not contain lyrics. Rejecting.\n",
      "Could not find Ghost In the Glass by Steve Hackett\n",
      "Searching for \"Still Waters\" by Steve Hackett...\n"
     ]
    },
    {
     "name": "stderr",
     "output_type": "stream",
     "text": [
      "\r",
      " 10%|███████▌                                                                     | 836/8465 [13:44<2:56:53,  1.39s/it]"
     ]
    },
    {
     "name": "stdout",
     "output_type": "stream",
     "text": [
      "Done.\n",
      "Lyrics grabbed for Still Waters by Steve Hackett\n",
      "Searching for \"Last Train to Istanbul\" by Steve Hackett...\n"
     ]
    },
    {
     "name": "stderr",
     "output_type": "stream",
     "text": [
      "\r",
      " 10%|███████▌                                                                     | 837/8465 [13:46<3:23:39,  1.60s/it]"
     ]
    },
    {
     "name": "stdout",
     "output_type": "stream",
     "text": [
      "Done.\n",
      "Lyrics grabbed for Last Train to Istanbul by Steve Hackett\n",
      "Searching for \"Blood on the Rooftops\" by Steve Hackett...\n"
     ]
    },
    {
     "name": "stderr",
     "output_type": "stream",
     "text": [
      "\r",
      " 10%|███████▌                                                                     | 838/8465 [13:48<3:31:29,  1.66s/it]"
     ]
    },
    {
     "name": "stdout",
     "output_type": "stream",
     "text": [
      "Done.\n",
      "Lyrics grabbed for Blood on the Rooftops by Steve Hackett\n",
      "Searching for \"A Tower Struck Down\" by Steve Hackett...\n"
     ]
    },
    {
     "name": "stderr",
     "output_type": "stream",
     "text": [
      "\r",
      " 10%|███████▋                                                                     | 839/8465 [13:48<2:48:57,  1.33s/it]"
     ]
    },
    {
     "name": "stdout",
     "output_type": "stream",
     "text": [
      "Specified song does not contain lyrics. Rejecting.\n",
      "Could not find A Tower Struck Down by Steve Hackett\n",
      "Searching for \"Firth of Fifth\" by Steve Hackett...\n"
     ]
    },
    {
     "name": "stderr",
     "output_type": "stream",
     "text": [
      "\r",
      " 10%|███████▋                                                                     | 840/8465 [13:50<3:29:45,  1.65s/it]"
     ]
    },
    {
     "name": "stdout",
     "output_type": "stream",
     "text": [
      "Done.\n",
      "Lyrics grabbed for Firth of Fifth by Steve Hackett\n",
      "Searching for \"Fly On a Windshield (Genesis)\" by Steve Hackett...\n"
     ]
    },
    {
     "name": "stderr",
     "output_type": "stream",
     "text": [
      "\r",
      " 10%|███████▋                                                                     | 841/8465 [13:51<2:40:29,  1.26s/it]"
     ]
    },
    {
     "name": "stdout",
     "output_type": "stream",
     "text": [
      "No results found for: 'Fly On a Windshield (Genesis) Steve Hackett'\n",
      "Could not find Fly On a Windshield (Genesis) by Steve Hackett\n",
      "Searching for \"Broadway Melody of 1974 (Genesis)\" by Steve Hackett...\n"
     ]
    },
    {
     "name": "stderr",
     "output_type": "stream",
     "text": [
      "\r",
      " 10%|███████▋                                                                     | 842/8465 [13:51<2:07:09,  1.00s/it]"
     ]
    },
    {
     "name": "stdout",
     "output_type": "stream",
     "text": [
      "No results found for: 'Broadway Melody of 1974 (Genesis) Steve Hackett'\n",
      "Could not find Broadway Melody of 1974 (Genesis) by Steve Hackett\n",
      "Searching for \"Every Star In the Night Sky\" by Steve Hackett...\n"
     ]
    },
    {
     "name": "stderr",
     "output_type": "stream",
     "text": [
      "\r",
      " 10%|███████▋                                                                     | 843/8465 [13:52<2:04:12,  1.02it/s]"
     ]
    },
    {
     "name": "stdout",
     "output_type": "stream",
     "text": [
      "Done.\n",
      "Lyrics grabbed for Every Star In the Night Sky by Steve Hackett\n",
      "Searching for \"The Lover Of Beirut\" by Anouar Brahem...\n"
     ]
    },
    {
     "name": "stderr",
     "output_type": "stream",
     "text": [
      "\r",
      " 10%|███████▋                                                                     | 844/8465 [13:53<1:46:44,  1.19it/s]"
     ]
    },
    {
     "name": "stdout",
     "output_type": "stream",
     "text": [
      "Specified song does not contain lyrics. Rejecting.\n",
      "Could not find The Lover Of Beirut by Anouar Brahem\n",
      "Searching for \"Dance With Waves\" by Anouar Brahem...\n"
     ]
    },
    {
     "name": "stderr",
     "output_type": "stream",
     "text": [
      "\r",
      " 10%|███████▋                                                                     | 845/8465 [13:53<1:36:08,  1.32it/s]"
     ]
    },
    {
     "name": "stdout",
     "output_type": "stream",
     "text": [
      "Specified song does not contain lyrics. Rejecting.\n",
      "Could not find Dance With Waves by Anouar Brahem\n",
      "Searching for \"Stopover At Djibouti\" by Anouar Brahem...\n"
     ]
    },
    {
     "name": "stderr",
     "output_type": "stream",
     "text": [
      "\r",
      " 10%|███████▋                                                                     | 846/8465 [13:54<1:24:59,  1.49it/s]"
     ]
    },
    {
     "name": "stdout",
     "output_type": "stream",
     "text": [
      "Specified song does not contain lyrics. Rejecting.\n",
      "Could not find Stopover At Djibouti by Anouar Brahem\n",
      "Searching for \"The Astounding Eyes Of Rita\" by Anouar Brahem...\n"
     ]
    },
    {
     "name": "stderr",
     "output_type": "stream",
     "text": [
      "\r",
      " 10%|███████▋                                                                     | 847/8465 [13:54<1:19:38,  1.59it/s]"
     ]
    },
    {
     "name": "stdout",
     "output_type": "stream",
     "text": [
      "Specified song does not contain lyrics. Rejecting.\n",
      "Could not find The Astounding Eyes Of Rita by Anouar Brahem\n",
      "Searching for \"Al Birwa\" by Anouar Brahem...\n"
     ]
    },
    {
     "name": "stderr",
     "output_type": "stream",
     "text": [
      "\r",
      " 10%|███████▋                                                                     | 848/8465 [13:55<1:11:17,  1.78it/s]"
     ]
    },
    {
     "name": "stdout",
     "output_type": "stream",
     "text": [
      "Specified song does not contain lyrics. Rejecting.\n",
      "Could not find Al Birwa by Anouar Brahem\n",
      "Searching for \"Galilée mon amour\" by Anouar Brahem...\n"
     ]
    },
    {
     "name": "stderr",
     "output_type": "stream",
     "text": [
      "\r",
      " 10%|███████▋                                                                     | 849/8465 [13:55<1:07:03,  1.89it/s]"
     ]
    },
    {
     "name": "stdout",
     "output_type": "stream",
     "text": [
      "Specified song does not contain lyrics. Rejecting.\n",
      "Could not find Galilée mon amour by Anouar Brahem\n",
      "Searching for \"Waking State\" by Anouar Brahem...\n"
     ]
    },
    {
     "name": "stderr",
     "output_type": "stream",
     "text": [
      "\r",
      " 10%|███████▋                                                                     | 850/8465 [13:56<1:08:53,  1.84it/s]"
     ]
    },
    {
     "name": "stdout",
     "output_type": "stream",
     "text": [
      "Specified song does not contain lyrics. Rejecting.\n",
      "Could not find Waking State by Anouar Brahem\n",
      "Searching for \"For No Apparent Reason\" by Anouar Brahem...\n"
     ]
    },
    {
     "name": "stderr",
     "output_type": "stream",
     "text": [
      "\r",
      " 10%|███████▋                                                                     | 851/8465 [13:56<1:04:52,  1.96it/s]"
     ]
    },
    {
     "name": "stdout",
     "output_type": "stream",
     "text": [
      "Specified song does not contain lyrics. Rejecting.\n",
      "Could not find For No Apparent Reason by Anouar Brahem\n",
      "Searching for \"A Once And Meaningful Life\" by Celer...\n"
     ]
    },
    {
     "name": "stderr",
     "output_type": "stream",
     "text": [
      "\r",
      " 10%|███████▊                                                                     | 852/8465 [13:57<1:24:34,  1.50it/s]"
     ]
    },
    {
     "name": "stdout",
     "output_type": "stream",
     "text": [
      "Done.\n",
      "Lyrics grabbed for A Once And Meaningful Life by Celer\n",
      "Searching for \"Remaining Stretches\" by Celer...\n"
     ]
    },
    {
     "name": "stderr",
     "output_type": "stream",
     "text": [
      "\r",
      " 10%|███████▊                                                                     | 853/8465 [14:00<2:50:57,  1.35s/it]"
     ]
    },
    {
     "name": "stdout",
     "output_type": "stream",
     "text": [
      "Done.\n",
      "Lyrics grabbed for Remaining Stretches by Celer\n",
      "Searching for \"Separations And Reactions\" by Celer...\n"
     ]
    },
    {
     "name": "stderr",
     "output_type": "stream",
     "text": [
      "\r",
      " 10%|███████▊                                                                     | 854/8465 [14:01<2:42:25,  1.28s/it]"
     ]
    },
    {
     "name": "stdout",
     "output_type": "stream",
     "text": [
      "Done.\n",
      "Lyrics grabbed for Separations And Reactions by Celer\n",
      "Searching for \"Doubts Of Words\" by Celer...\n"
     ]
    },
    {
     "name": "stderr",
     "output_type": "stream",
     "text": [
      "\r",
      " 10%|███████▊                                                                     | 855/8465 [14:03<3:17:08,  1.55s/it]"
     ]
    },
    {
     "name": "stdout",
     "output_type": "stream",
     "text": [
      "Done.\n",
      "Lyrics grabbed for Doubts Of Words by Celer\n",
      "Searching for \"Unless They Were Beautiful\" by Celer...\n"
     ]
    },
    {
     "name": "stderr",
     "output_type": "stream",
     "text": [
      "\r",
      " 10%|███████▊                                                                     | 856/8465 [14:05<3:33:38,  1.68s/it]"
     ]
    },
    {
     "name": "stdout",
     "output_type": "stream",
     "text": [
      "Done.\n",
      "Lyrics grabbed for Unless They Were Beautiful by Celer\n",
      "Searching for \"What Our Mouths Make Them\" by Celer...\n"
     ]
    },
    {
     "name": "stderr",
     "output_type": "stream",
     "text": [
      "\r",
      " 10%|███████▊                                                                     | 857/8465 [14:07<3:46:21,  1.79s/it]"
     ]
    },
    {
     "name": "stdout",
     "output_type": "stream",
     "text": [
      "Done.\n",
      "Lyrics grabbed for What Our Mouths Make Them by Celer\n",
      "Searching for \"Hanging Herself On The Lonely Fifth Column (Gramophones That Remind Us Of What Sounds Once Were)\" by Celer...\n"
     ]
    },
    {
     "name": "stderr",
     "output_type": "stream",
     "text": [
      "\r",
      " 10%|███████▊                                                                     | 858/8465 [14:09<3:24:13,  1.61s/it]"
     ]
    },
    {
     "name": "stdout",
     "output_type": "stream",
     "text": [
      "Done.\n",
      "Lyrics grabbed for Hanging Herself On The Lonely Fifth Column (Gramophones That Remind Us Of What Sounds Once Were) by Celer\n",
      "Searching for \"Openings Of Love (Fireworks)\" by Celer...\n"
     ]
    },
    {
     "name": "stderr",
     "output_type": "stream",
     "text": [
      "\r",
      " 10%|███████▊                                                                     | 859/8465 [14:11<3:39:26,  1.73s/it]"
     ]
    },
    {
     "name": "stdout",
     "output_type": "stream",
     "text": [
      "Done.\n",
      "Lyrics grabbed for Openings Of Love (Fireworks) by Celer\n",
      "Searching for \"Extended Sways Of Silence\" by Celer...\n"
     ]
    },
    {
     "name": "stderr",
     "output_type": "stream",
     "text": [
      "\r",
      " 10%|███████▊                                                                     | 860/8465 [14:12<3:22:40,  1.60s/it]"
     ]
    },
    {
     "name": "stdout",
     "output_type": "stream",
     "text": [
      "Done.\n",
      "Lyrics grabbed for Extended Sways Of Silence by Celer\n",
      "Searching for \"Samadhi - Prelude\" by Epica...\n"
     ]
    },
    {
     "name": "stderr",
     "output_type": "stream",
     "text": [
      "\r",
      " 10%|███████▊                                                                     | 861/8465 [14:14<3:34:52,  1.70s/it]"
     ]
    },
    {
     "name": "stdout",
     "output_type": "stream",
     "text": [
      "Done.\n",
      "Lyrics grabbed for Samadhi - Prelude by Epica\n",
      "Searching for \"Resign to Surrender ~ A New Age Dawns, Pt. 4\" by Epica...\n"
     ]
    },
    {
     "name": "stderr",
     "output_type": "stream",
     "text": [
      "\r",
      " 10%|███████▊                                                                     | 862/8465 [14:15<3:17:47,  1.56s/it]"
     ]
    },
    {
     "name": "stdout",
     "output_type": "stream",
     "text": [
      "Done.\n",
      "Lyrics grabbed for Resign to Surrender ~ A New Age Dawns, Pt. 4 by Epica\n",
      "Searching for \"Unleashed\" by Epica...\n"
     ]
    },
    {
     "name": "stderr",
     "output_type": "stream",
     "text": [
      "\r",
      " 10%|███████▊                                                                     | 863/8465 [14:16<2:55:19,  1.38s/it]"
     ]
    },
    {
     "name": "stdout",
     "output_type": "stream",
     "text": [
      "Done.\n",
      "Lyrics grabbed for Unleashed by Epica\n",
      "Searching for \"Martyr of the Free Word\" by Epica...\n"
     ]
    },
    {
     "name": "stderr",
     "output_type": "stream",
     "text": [
      "\r",
      " 10%|███████▊                                                                     | 864/8465 [14:17<2:47:46,  1.32s/it]"
     ]
    },
    {
     "name": "stdout",
     "output_type": "stream",
     "text": [
      "Done.\n",
      "Lyrics grabbed for Martyr of the Free Word by Epica\n",
      "Searching for \"Our Destiny\" by Epica...\n"
     ]
    },
    {
     "name": "stderr",
     "output_type": "stream",
     "text": [
      "\r",
      " 10%|███████▊                                                                     | 865/8465 [14:18<2:33:41,  1.21s/it]"
     ]
    },
    {
     "name": "stdout",
     "output_type": "stream",
     "text": [
      "Done.\n",
      "Lyrics grabbed for Our Destiny by Epica\n",
      "Searching for \"Kingdom of Heaven ~ A New Age Dawns, Pt. 5\" by Epica...\n"
     ]
    },
    {
     "name": "stderr",
     "output_type": "stream",
     "text": [
      "\r",
      " 10%|███████▉                                                                     | 866/8465 [14:19<2:01:50,  1.04it/s]"
     ]
    },
    {
     "name": "stdout",
     "output_type": "stream",
     "text": [
      "No results found for: 'Kingdom of Heaven ~ A New Age Dawns, Pt. 5 Epica'\n",
      "Could not find Kingdom of Heaven ~ A New Age Dawns, Pt. 5 by Epica\n",
      "Searching for \"The Price of Freedom - Interlude\" by Epica...\n"
     ]
    },
    {
     "name": "stderr",
     "output_type": "stream",
     "text": [
      "\r",
      " 10%|███████▉                                                                     | 867/8465 [14:20<2:04:57,  1.01it/s]"
     ]
    },
    {
     "name": "stdout",
     "output_type": "stream",
     "text": [
      "Done.\n",
      "Lyrics grabbed for The Price of Freedom - Interlude by Epica\n",
      "Searching for \"Burn to a Cinder\" by Epica...\n"
     ]
    },
    {
     "name": "stderr",
     "output_type": "stream",
     "text": [
      "\r",
      " 10%|███████▉                                                                     | 868/8465 [14:21<2:31:17,  1.19s/it]"
     ]
    },
    {
     "name": "stdout",
     "output_type": "stream",
     "text": [
      "Done.\n",
      "Lyrics grabbed for Burn to a Cinder by Epica\n",
      "Searching for \"Tides of Time\" by Epica...\n"
     ]
    },
    {
     "name": "stderr",
     "output_type": "stream",
     "text": [
      "\r",
      " 10%|███████▉                                                                     | 869/8465 [14:22<2:25:27,  1.15s/it]"
     ]
    },
    {
     "name": "stdout",
     "output_type": "stream",
     "text": [
      "Done.\n",
      "Lyrics grabbed for Tides of Time by Epica\n",
      "Searching for \"Deconstruct\" by Epica...\n"
     ]
    },
    {
     "name": "stderr",
     "output_type": "stream",
     "text": [
      "\r",
      " 10%|███████▉                                                                     | 870/8465 [14:23<2:22:00,  1.12s/it]"
     ]
    },
    {
     "name": "stdout",
     "output_type": "stream",
     "text": [
      "Done.\n",
      "Lyrics grabbed for Deconstruct by Epica\n",
      "Searching for \"Semblance of Liberty\" by Epica...\n"
     ]
    },
    {
     "name": "stderr",
     "output_type": "stream",
     "text": [
      "\r",
      " 10%|███████▉                                                                     | 871/8465 [14:25<2:59:05,  1.41s/it]"
     ]
    },
    {
     "name": "stdout",
     "output_type": "stream",
     "text": [
      "Done.\n",
      "Lyrics grabbed for Semblance of Liberty by Epica\n",
      "Searching for \"White Waters\" by Epica...\n"
     ]
    },
    {
     "name": "stderr",
     "output_type": "stream",
     "text": [
      "\r",
      " 10%|███████▉                                                                     | 872/8465 [14:27<3:01:22,  1.43s/it]"
     ]
    },
    {
     "name": "stdout",
     "output_type": "stream",
     "text": [
      "Done.\n",
      "Lyrics grabbed for White Waters by Epica\n",
      "Searching for \"Design Your Universe ~ A New Age Dawns, Pt. 6\" by Epica...\n"
     ]
    },
    {
     "name": "stderr",
     "output_type": "stream",
     "text": [
      "\r",
      " 10%|███████▉                                                                     | 873/8465 [14:28<2:42:00,  1.28s/it]"
     ]
    },
    {
     "name": "stdout",
     "output_type": "stream",
     "text": [
      "Done.\n",
      "Lyrics grabbed for Design Your Universe ~ A New Age Dawns, Pt. 6 by Epica\n",
      "Searching for \"Incentive\" by Epica...\n"
     ]
    },
    {
     "name": "stderr",
     "output_type": "stream",
     "text": [
      "\r",
      " 10%|███████▉                                                                     | 874/8465 [14:29<2:30:41,  1.19s/it]"
     ]
    },
    {
     "name": "stdout",
     "output_type": "stream",
     "text": [
      "Done.\n",
      "Lyrics grabbed for Incentive by Epica\n",
      "Searching for \"Unleashed - Duet Version\" by Epica...\n"
     ]
    },
    {
     "name": "stderr",
     "output_type": "stream",
     "text": [
      "\r",
      " 10%|███████▉                                                                     | 875/8465 [14:31<2:52:34,  1.36s/it]"
     ]
    },
    {
     "name": "stdout",
     "output_type": "stream",
     "text": [
      "Done.\n",
      "Lyrics grabbed for Unleashed - Duet Version by Epica\n",
      "Searching for \"overture\" by Kalafina...\n"
     ]
    },
    {
     "name": "stderr",
     "output_type": "stream",
     "text": [
      "\r",
      " 10%|███████▉                                                                     | 876/8465 [14:31<2:20:40,  1.11s/it]"
     ]
    },
    {
     "name": "stdout",
     "output_type": "stream",
     "text": [
      "Specified song does not contain lyrics. Rejecting.\n",
      "Could not find overture by Kalafina\n",
      "Searching for \"oblivious\" by Kalafina...\n"
     ]
    },
    {
     "name": "stderr",
     "output_type": "stream",
     "text": [
      "\r",
      " 10%|███████▉                                                                     | 877/8465 [14:33<3:04:19,  1.46s/it]"
     ]
    },
    {
     "name": "stdout",
     "output_type": "stream",
     "text": [
      "Done.\n",
      "Lyrics grabbed for oblivious by Kalafina\n",
      "Searching for \"love come down\" by Kalafina...\n"
     ]
    },
    {
     "name": "stderr",
     "output_type": "stream",
     "text": [
      "\r",
      " 10%|███████▉                                                                     | 878/8465 [14:35<3:13:12,  1.53s/it]"
     ]
    },
    {
     "name": "stdout",
     "output_type": "stream",
     "text": [
      "Done.\n",
      "Lyrics grabbed for love come down by Kalafina\n",
      "Searching for \"夏の林檎\" by Kalafina...\n"
     ]
    },
    {
     "name": "stderr",
     "output_type": "stream",
     "text": [
      "\r",
      " 10%|███████▉                                                                     | 879/8465 [14:37<3:18:39,  1.57s/it]"
     ]
    },
    {
     "name": "stdout",
     "output_type": "stream",
     "text": [
      "Done.\n",
      "Lyrics grabbed for 夏の林檎 by Kalafina\n",
      "Searching for \"fairytale\" by Kalafina...\n",
      "Done.\n",
      "Lyrics grabbed for fairytale by Kalafina\n"
     ]
    },
    {
     "name": "stderr",
     "output_type": "stream",
     "text": [
      "\r",
      " 10%|████████                                                                     | 880/8465 [14:39<3:56:23,  1.87s/it]"
     ]
    },
    {
     "name": "stdout",
     "output_type": "stream",
     "text": [
      "Searching for \"ARIA\" by Kalafina...\n"
     ]
    },
    {
     "name": "stderr",
     "output_type": "stream",
     "text": [
      "\r",
      " 10%|████████                                                                     | 881/8465 [14:41<4:03:28,  1.93s/it]"
     ]
    },
    {
     "name": "stdout",
     "output_type": "stream",
     "text": [
      "Done.\n",
      "Lyrics grabbed for ARIA by Kalafina\n",
      "Searching for \"また風が強くなった\" by Kalafina...\n"
     ]
    },
    {
     "name": "stderr",
     "output_type": "stream",
     "text": [
      "\r",
      " 10%|████████                                                                     | 882/8465 [14:43<3:45:29,  1.78s/it]"
     ]
    },
    {
     "name": "stdout",
     "output_type": "stream",
     "text": [
      "Done.\n",
      "Lyrics grabbed for また風が強くなった by Kalafina\n",
      "Searching for \"傷跡\" by Kalafina...\n"
     ]
    },
    {
     "name": "stderr",
     "output_type": "stream",
     "text": [
      "\r",
      " 10%|████████                                                                     | 883/8465 [14:44<3:30:50,  1.67s/it]"
     ]
    },
    {
     "name": "stdout",
     "output_type": "stream",
     "text": [
      "Done.\n",
      "Lyrics grabbed for 傷跡 by Kalafina\n",
      "Searching for \"serenato\" by Kalafina...\n"
     ]
    },
    {
     "name": "stderr",
     "output_type": "stream",
     "text": [
      "\r",
      " 10%|████████                                                                     | 884/8465 [14:46<3:27:34,  1.64s/it]"
     ]
    },
    {
     "name": "stdout",
     "output_type": "stream",
     "text": [
      "Done.\n",
      "Lyrics grabbed for serenato by Kalafina\n",
      "Searching for \"音楽\" by Kalafina...\n"
     ]
    },
    {
     "name": "stderr",
     "output_type": "stream",
     "text": [
      "\r",
      " 10%|████████                                                                     | 885/8465 [14:47<3:12:26,  1.52s/it]"
     ]
    },
    {
     "name": "stdout",
     "output_type": "stream",
     "text": [
      "Done.\n",
      "Lyrics grabbed for 音楽 by Kalafina\n",
      "Searching for \"明日の景色\" by Kalafina...\n"
     ]
    },
    {
     "name": "stderr",
     "output_type": "stream",
     "text": [
      "\r",
      " 10%|████████                                                                     | 886/8465 [14:48<3:08:31,  1.49s/it]"
     ]
    },
    {
     "name": "stdout",
     "output_type": "stream",
     "text": [
      "Done.\n",
      "Lyrics grabbed for 明日の景色 by Kalafina\n",
      "Searching for \"sprinter\" by Kalafina...\n"
     ]
    },
    {
     "name": "stderr",
     "output_type": "stream",
     "text": [
      "\r",
      " 10%|████████                                                                     | 887/8465 [14:51<3:40:57,  1.75s/it]"
     ]
    },
    {
     "name": "stdout",
     "output_type": "stream",
     "text": [
      "Done.\n",
      "Lyrics grabbed for sprinter by Kalafina\n",
      "Searching for \"君が光に変えて行く\" by Kalafina...\n"
     ]
    },
    {
     "name": "stderr",
     "output_type": "stream",
     "text": [
      "\r",
      " 10%|████████                                                                     | 888/8465 [14:52<3:29:38,  1.66s/it]"
     ]
    },
    {
     "name": "stdout",
     "output_type": "stream",
     "text": [
      "Done.\n",
      "Lyrics grabbed for 君が光に変えて行く by Kalafina\n",
      "Searching for \"seventh heaven\" by Kalafina...\n"
     ]
    },
    {
     "name": "stderr",
     "output_type": "stream",
     "text": [
      "\r",
      " 11%|████████                                                                     | 889/8465 [14:54<3:49:17,  1.82s/it]"
     ]
    },
    {
     "name": "stdout",
     "output_type": "stream",
     "text": [
      "Done.\n",
      "Lyrics grabbed for seventh heaven by Kalafina\n",
      "Searching for \"Hanuman\" by Rodrigo y Gabriela...\n"
     ]
    },
    {
     "name": "stderr",
     "output_type": "stream",
     "text": [
      "\r",
      " 11%|████████                                                                     | 890/8465 [14:55<3:08:18,  1.49s/it]"
     ]
    },
    {
     "name": "stdout",
     "output_type": "stream",
     "text": [
      "Specified song does not contain lyrics. Rejecting.\n",
      "Could not find Hanuman by Rodrigo y Gabriela\n",
      "Searching for \"Buster Voodoo\" by Rodrigo y Gabriela...\n"
     ]
    },
    {
     "name": "stderr",
     "output_type": "stream",
     "text": [
      "\r",
      " 11%|████████                                                                     | 891/8465 [14:56<2:28:11,  1.17s/it]"
     ]
    },
    {
     "name": "stdout",
     "output_type": "stream",
     "text": [
      "Specified song does not contain lyrics. Rejecting.\n",
      "Could not find Buster Voodoo by Rodrigo y Gabriela\n",
      "Searching for \"Triveni\" by Rodrigo y Gabriela...\n"
     ]
    },
    {
     "name": "stderr",
     "output_type": "stream",
     "text": [
      "\r",
      " 11%|████████                                                                     | 892/8465 [14:56<2:01:19,  1.04it/s]"
     ]
    },
    {
     "name": "stdout",
     "output_type": "stream",
     "text": [
      "Specified song does not contain lyrics. Rejecting.\n",
      "Could not find Triveni by Rodrigo y Gabriela\n",
      "Searching for \"Logos\" by Rodrigo y Gabriela...\n"
     ]
    },
    {
     "name": "stderr",
     "output_type": "stream",
     "text": [
      "\r",
      " 11%|████████                                                                     | 893/8465 [14:57<1:43:52,  1.21it/s]"
     ]
    },
    {
     "name": "stdout",
     "output_type": "stream",
     "text": [
      "Specified song does not contain lyrics. Rejecting.\n",
      "Could not find Logos by Rodrigo y Gabriela\n",
      "Searching for \"Santo Domingo\" by Rodrigo y Gabriela...\n"
     ]
    },
    {
     "name": "stderr",
     "output_type": "stream",
     "text": [
      "\r",
      " 11%|████████▏                                                                    | 894/8465 [14:57<1:32:41,  1.36it/s]"
     ]
    },
    {
     "name": "stdout",
     "output_type": "stream",
     "text": [
      "Specified song does not contain lyrics. Rejecting.\n",
      "Could not find Santo Domingo by Rodrigo y Gabriela\n",
      "Searching for \"Master Maqui\" by Rodrigo y Gabriela...\n"
     ]
    },
    {
     "name": "stderr",
     "output_type": "stream",
     "text": [
      "\r",
      " 11%|████████▏                                                                    | 895/8465 [14:58<1:24:54,  1.49it/s]"
     ]
    },
    {
     "name": "stdout",
     "output_type": "stream",
     "text": [
      "Specified song does not contain lyrics. Rejecting.\n",
      "Could not find Master Maqui by Rodrigo y Gabriela\n",
      "Searching for \"Savitri\" by Rodrigo y Gabriela...\n"
     ]
    },
    {
     "name": "stderr",
     "output_type": "stream",
     "text": [
      "\r",
      " 11%|████████▏                                                                    | 896/8465 [14:58<1:16:41,  1.65it/s]"
     ]
    },
    {
     "name": "stdout",
     "output_type": "stream",
     "text": [
      "Specified song does not contain lyrics. Rejecting.\n",
      "Could not find Savitri by Rodrigo y Gabriela\n",
      "Searching for \"Hora Zero\" by Rodrigo y Gabriela...\n"
     ]
    },
    {
     "name": "stderr",
     "output_type": "stream",
     "text": [
      "\r",
      " 11%|████████▏                                                                    | 897/8465 [14:59<1:09:08,  1.82it/s]"
     ]
    },
    {
     "name": "stdout",
     "output_type": "stream",
     "text": [
      "Specified song does not contain lyrics. Rejecting.\n",
      "Could not find Hora Zero by Rodrigo y Gabriela\n",
      "Searching for \"Chac Mool\" by Rodrigo y Gabriela...\n"
     ]
    },
    {
     "name": "stderr",
     "output_type": "stream",
     "text": [
      "\r",
      " 11%|████████▏                                                                    | 898/8465 [14:59<1:06:02,  1.91it/s]"
     ]
    },
    {
     "name": "stdout",
     "output_type": "stream",
     "text": [
      "Specified song does not contain lyrics. Rejecting.\n",
      "Could not find Chac Mool by Rodrigo y Gabriela\n",
      "Searching for \"Atman\" by Rodrigo y Gabriela...\n"
     ]
    },
    {
     "name": "stderr",
     "output_type": "stream",
     "text": [
      "\r",
      " 11%|████████▏                                                                    | 899/8465 [14:59<1:03:57,  1.97it/s]"
     ]
    },
    {
     "name": "stdout",
     "output_type": "stream",
     "text": [
      "Specified song does not contain lyrics. Rejecting.\n",
      "Could not find Atman by Rodrigo y Gabriela\n",
      "Searching for \"11:11\" by Rodrigo y Gabriela...\n"
     ]
    },
    {
     "name": "stderr",
     "output_type": "stream",
     "text": [
      "\r",
      " 11%|████████▏                                                                    | 900/8465 [15:00<1:13:24,  1.72it/s]"
     ]
    },
    {
     "name": "stdout",
     "output_type": "stream",
     "text": [
      "Specified song does not contain lyrics. Rejecting.\n",
      "Could not find 11:11 by Rodrigo y Gabriela\n",
      "Searching for \"My Lonesome Only Friend\" by Rx Bandits...\n"
     ]
    },
    {
     "name": "stderr",
     "output_type": "stream",
     "text": [
      "\r",
      " 11%|████████▏                                                                    | 901/8465 [15:01<1:23:42,  1.51it/s]"
     ]
    },
    {
     "name": "stdout",
     "output_type": "stream",
     "text": [
      "Done.\n",
      "Lyrics grabbed for My Lonesome Only Friend by Rx Bandits\n",
      "Searching for \"It's Only Another Parsec…\" by Rx Bandits...\n"
     ]
    },
    {
     "name": "stderr",
     "output_type": "stream",
     "text": [
      "\r",
      " 11%|████████▏                                                                    | 902/8465 [15:02<1:28:49,  1.42it/s]"
     ]
    },
    {
     "name": "stdout",
     "output_type": "stream",
     "text": [
      "Done.\n",
      "Lyrics grabbed for It's Only Another Parsec… by Rx Bandits\n",
      "Searching for \"Hope Is A Butterfly, No Net Its Captor…(The Virus Of Silence)\" by Rx Bandits...\n"
     ]
    },
    {
     "name": "stderr",
     "output_type": "stream",
     "text": [
      "\r",
      " 11%|████████▏                                                                    | 903/8465 [15:02<1:16:04,  1.66it/s]"
     ]
    },
    {
     "name": "stdout",
     "output_type": "stream",
     "text": [
      "No results found for: 'Hope Is A Butterfly, No Net Its Captor…(The Virus Of Silence) Rx Bandits'\n",
      "Could not find Hope Is A Butterfly, No Net Its Captor…(The Virus Of Silence) by Rx Bandits\n",
      "Searching for \"Hearts That Hanker For Mistake\" by Rx Bandits...\n"
     ]
    },
    {
     "name": "stderr",
     "output_type": "stream",
     "text": [
      "\r",
      " 11%|████████▏                                                                    | 904/8465 [15:04<1:55:14,  1.09it/s]"
     ]
    },
    {
     "name": "stdout",
     "output_type": "stream",
     "text": [
      "Done.\n",
      "Lyrics grabbed for Hearts That Hanker For Mistake by Rx Bandits\n",
      "Searching for \"Mientras La Veo Soñar\" by Rx Bandits...\n"
     ]
    },
    {
     "name": "stderr",
     "output_type": "stream",
     "text": [
      "\r",
      " 11%|████████▏                                                                    | 905/8465 [15:05<2:17:22,  1.09s/it]"
     ]
    },
    {
     "name": "stdout",
     "output_type": "stream",
     "text": [
      "Done.\n",
      "Lyrics grabbed for Mientras La Veo Soñar by Rx Bandits\n",
      "Searching for \"March Of The Caterpillar\" by Rx Bandits...\n"
     ]
    },
    {
     "name": "stderr",
     "output_type": "stream",
     "text": [
      "\r",
      " 11%|████████▏                                                                    | 906/8465 [15:07<2:39:39,  1.27s/it]"
     ]
    },
    {
     "name": "stdout",
     "output_type": "stream",
     "text": [
      "Done.\n",
      "Lyrics grabbed for March Of The Caterpillar by Rx Bandits\n",
      "Searching for \"White Lies\" by Rx Bandits...\n"
     ]
    },
    {
     "name": "stderr",
     "output_type": "stream",
     "text": [
      "\r",
      " 11%|████████▎                                                                    | 907/8465 [15:09<2:52:02,  1.37s/it]"
     ]
    },
    {
     "name": "stdout",
     "output_type": "stream",
     "text": [
      "Done.\n",
      "Lyrics grabbed for White Lies by Rx Bandits\n",
      "Searching for \"Bury It Down Low\" by Rx Bandits...\n"
     ]
    },
    {
     "name": "stderr",
     "output_type": "stream",
     "text": [
      "\r",
      " 11%|████████▎                                                                    | 908/8465 [15:10<3:01:41,  1.44s/it]"
     ]
    },
    {
     "name": "stdout",
     "output_type": "stream",
     "text": [
      "Done.\n",
      "Lyrics grabbed for Bury It Down Low by Rx Bandits\n",
      "Searching for \"Breakfast Cat\" by Rx Bandits...\n"
     ]
    },
    {
     "name": "stderr",
     "output_type": "stream",
     "text": [
      "\r",
      " 11%|████████▎                                                                    | 909/8465 [15:12<3:19:49,  1.59s/it]"
     ]
    },
    {
     "name": "stdout",
     "output_type": "stream",
     "text": [
      "Done.\n",
      "Lyrics grabbed for Breakfast Cat by Rx Bandits\n",
      "Searching for \"Bled To Be Free (The Operation)\" by Rx Bandits...\n"
     ]
    },
    {
     "name": "stderr",
     "output_type": "stream",
     "text": [
      "\r",
      " 11%|████████▎                                                                    | 910/8465 [15:14<3:44:17,  1.78s/it]"
     ]
    },
    {
     "name": "stdout",
     "output_type": "stream",
     "text": [
      "Done.\n",
      "Lyrics grabbed for Bled To Be Free (The Operation) by Rx Bandits\n",
      "Searching for \"Bring Our Children Home Or Everything Is Nothing\" by Rx Bandits...\n"
     ]
    },
    {
     "name": "stderr",
     "output_type": "stream",
     "text": [
      "\r",
      " 11%|████████▎                                                                    | 911/8465 [15:15<3:11:15,  1.52s/it]"
     ]
    },
    {
     "name": "stdout",
     "output_type": "stream",
     "text": [
      "Done.\n",
      "Lyrics grabbed for Bring Our Children Home Or Everything Is Nothing by Rx Bandits\n",
      "Searching for \"Scapegoat - 2022 Remaster\" by Kylesa...\n"
     ]
    },
    {
     "name": "stderr",
     "output_type": "stream",
     "text": [
      "\r",
      " 11%|████████▎                                                                    | 912/8465 [15:16<2:27:20,  1.17s/it]"
     ]
    },
    {
     "name": "stdout",
     "output_type": "stream",
     "text": [
      "No results found for: 'Scapegoat - 2022 Remaster Kylesa'\n",
      "Could not find Scapegoat - 2022 Remaster by Kylesa\n",
      "Searching for \"Insomnia For Months - 2022 Remaster\" by Kylesa...\n"
     ]
    },
    {
     "name": "stderr",
     "output_type": "stream",
     "text": [
      "\r",
      " 11%|████████▎                                                                    | 913/8465 [15:16<1:56:36,  1.08it/s]"
     ]
    },
    {
     "name": "stdout",
     "output_type": "stream",
     "text": [
      "No results found for: 'Insomnia For Months - 2022 Remaster Kylesa'\n",
      "Could not find Insomnia For Months - 2022 Remaster by Kylesa\n",
      "Searching for \"Said And Done - 2022 Remaster\" by Kylesa...\n"
     ]
    },
    {
     "name": "stderr",
     "output_type": "stream",
     "text": [
      "\r",
      " 11%|████████▎                                                                    | 914/8465 [15:17<1:56:07,  1.08it/s]"
     ]
    },
    {
     "name": "stdout",
     "output_type": "stream",
     "text": [
      "Done.\n",
      "Lyrics grabbed for Said And Done - 2022 Remaster by Kylesa\n",
      "Searching for \"Unknown Awareness - 2022 Remaster\" by Kylesa...\n"
     ]
    },
    {
     "name": "stderr",
     "output_type": "stream",
     "text": [
      "\r",
      " 11%|████████▎                                                                    | 915/8465 [15:17<1:34:31,  1.33it/s]"
     ]
    },
    {
     "name": "stdout",
     "output_type": "stream",
     "text": [
      "No results found for: 'Unknown Awareness - 2022 Remaster Kylesa'\n",
      "Could not find Unknown Awareness - 2022 Remaster by Kylesa\n",
      "Searching for \"Running Red - 2022 Remaster\" by Kylesa...\n"
     ]
    },
    {
     "name": "stderr",
     "output_type": "stream",
     "text": [
      "\r",
      " 11%|████████▎                                                                    | 916/8465 [15:18<1:42:38,  1.23it/s]"
     ]
    },
    {
     "name": "stdout",
     "output_type": "stream",
     "text": [
      "Done.\n",
      "Lyrics grabbed for Running Red - 2022 Remaster by Kylesa\n",
      "Searching for \"Nature's Predators - 2022 Remaster\" by Kylesa...\n"
     ]
    },
    {
     "name": "stderr",
     "output_type": "stream",
     "text": [
      "\r",
      " 11%|████████▎                                                                    | 917/8465 [15:19<1:25:27,  1.47it/s]"
     ]
    },
    {
     "name": "stdout",
     "output_type": "stream",
     "text": [
      "No results found for: 'Nature's Predators - 2022 Remaster Kylesa'\n",
      "Could not find Nature's Predators - 2022 Remaster by Kylesa\n",
      "Searching for \"Almost Lost - 2022 Remaster\" by Kylesa...\n"
     ]
    },
    {
     "name": "stderr",
     "output_type": "stream",
     "text": [
      "\r",
      " 11%|████████▎                                                                    | 918/8465 [15:20<1:32:04,  1.37it/s]"
     ]
    },
    {
     "name": "stdout",
     "output_type": "stream",
     "text": [
      "Done.\n",
      "Lyrics grabbed for Almost Lost - 2022 Remaster by Kylesa\n",
      "Searching for \"Only One - 2022 Remaster\" by Kylesa...\n"
     ]
    },
    {
     "name": "stderr",
     "output_type": "stream",
     "text": [
      "\r",
      " 11%|████████▎                                                                    | 919/8465 [15:20<1:38:47,  1.27it/s]"
     ]
    },
    {
     "name": "stdout",
     "output_type": "stream",
     "text": [
      "Done.\n",
      "Lyrics grabbed for Only One - 2022 Remaster by Kylesa\n",
      "Searching for \"Perception - 2022 Remaster\" by Kylesa...\n"
     ]
    },
    {
     "name": "stderr",
     "output_type": "stream",
     "text": [
      "\r",
      " 11%|████████▎                                                                    | 920/8465 [15:21<1:48:07,  1.16it/s]"
     ]
    },
    {
     "name": "stdout",
     "output_type": "stream",
     "text": [
      "Done.\n",
      "Lyrics grabbed for Perception - 2022 Remaster by Kylesa\n",
      "Searching for \"To Walk Alone - 2022 Remaster\" by Kylesa...\n"
     ]
    },
    {
     "name": "stderr",
     "output_type": "stream",
     "text": [
      "\r",
      " 11%|████████▍                                                                    | 921/8465 [15:22<1:47:26,  1.17it/s]"
     ]
    },
    {
     "name": "stdout",
     "output_type": "stream",
     "text": [
      "Done.\n",
      "Lyrics grabbed for To Walk Alone - 2022 Remaster by Kylesa\n",
      "Searching for \"Peel\" by Redemption...\n"
     ]
    },
    {
     "name": "stderr",
     "output_type": "stream",
     "text": [
      "\r",
      " 11%|████████▍                                                                    | 922/8465 [15:23<1:50:54,  1.13it/s]"
     ]
    },
    {
     "name": "stdout",
     "output_type": "stream",
     "text": [
      "Done.\n",
      "Lyrics grabbed for Peel by Redemption\n",
      "Searching for \"Walls\" by Redemption...\n"
     ]
    },
    {
     "name": "stderr",
     "output_type": "stream",
     "text": [
      "\r",
      " 11%|████████▍                                                                    | 923/8465 [15:25<2:29:19,  1.19s/it]"
     ]
    },
    {
     "name": "stdout",
     "output_type": "stream",
     "text": [
      "Done.\n",
      "Lyrics grabbed for Walls by Redemption\n",
      "Searching for \"Leviathan Rising\" by Redemption...\n"
     ]
    },
    {
     "name": "stderr",
     "output_type": "stream",
     "text": [
      "\r",
      " 11%|████████▍                                                                    | 924/8465 [15:26<2:17:58,  1.10s/it]"
     ]
    },
    {
     "name": "stdout",
     "output_type": "stream",
     "text": [
      "Done.\n",
      "Lyrics grabbed for Leviathan Rising by Redemption\n",
      "Searching for \"Black and White World\" by Redemption...\n"
     ]
    },
    {
     "name": "stderr",
     "output_type": "stream",
     "text": [
      "\r",
      " 11%|████████▍                                                                    | 925/8465 [15:28<2:53:00,  1.38s/it]"
     ]
    },
    {
     "name": "stdout",
     "output_type": "stream",
     "text": [
      "Done.\n",
      "Lyrics grabbed for Black and White World by Redemption\n",
      "Searching for \"Unformed\" by Redemption...\n"
     ]
    },
    {
     "name": "stderr",
     "output_type": "stream",
     "text": [
      "\r",
      " 11%|████████▍                                                                    | 926/8465 [15:30<3:07:16,  1.49s/it]"
     ]
    },
    {
     "name": "stdout",
     "output_type": "stream",
     "text": [
      "Done.\n",
      "Lyrics grabbed for Unformed by Redemption\n",
      "Searching for \"Keep Breathing\" by Redemption...\n"
     ]
    },
    {
     "name": "stderr",
     "output_type": "stream",
     "text": [
      "\r",
      " 11%|████████▍                                                                    | 927/8465 [15:31<3:13:20,  1.54s/it]"
     ]
    },
    {
     "name": "stdout",
     "output_type": "stream",
     "text": [
      "Done.\n",
      "Lyrics grabbed for Keep Breathing by Redemption\n",
      "Searching for \"Another Day Dies\" by Redemption...\n"
     ]
    },
    {
     "name": "stderr",
     "output_type": "stream",
     "text": [
      "\r",
      " 11%|████████▍                                                                    | 928/8465 [15:33<3:19:44,  1.59s/it]"
     ]
    },
    {
     "name": "stdout",
     "output_type": "stream",
     "text": [
      "Done.\n",
      "Lyrics grabbed for Another Day Dies by Redemption\n",
      "Searching for \"What Will You Say\" by Redemption...\n"
     ]
    },
    {
     "name": "stderr",
     "output_type": "stream",
     "text": [
      "\r",
      " 11%|████████▍                                                                    | 929/8465 [15:35<3:26:37,  1.65s/it]"
     ]
    },
    {
     "name": "stdout",
     "output_type": "stream",
     "text": [
      "Done.\n",
      "Lyrics grabbed for What Will You Say by Redemption\n",
      "Searching for \"Fistful of Sand\" by Redemption...\n"
     ]
    },
    {
     "name": "stderr",
     "output_type": "stream",
     "text": [
      "\r",
      " 11%|████████▍                                                                    | 930/8465 [15:37<3:39:27,  1.75s/it]"
     ]
    },
    {
     "name": "stdout",
     "output_type": "stream",
     "text": [
      "Done.\n",
      "Lyrics grabbed for Fistful of Sand by Redemption\n",
      "Searching for \"Love Kills Us All / Life in One Day\" by Redemption...\n"
     ]
    },
    {
     "name": "stderr",
     "output_type": "stream",
     "text": [
      "\r",
      " 11%|████████▍                                                                    | 931/8465 [15:39<3:42:42,  1.77s/it]"
     ]
    },
    {
     "name": "stdout",
     "output_type": "stream",
     "text": [
      "Done.\n",
      "Lyrics grabbed for Love Kills Us All / Life in One Day by Redemption\n",
      "Searching for \"Thebes\" by Om...\n"
     ]
    },
    {
     "name": "stderr",
     "output_type": "stream",
     "text": [
      "\r",
      " 11%|████████▍                                                                    | 932/8465 [15:41<3:55:21,  1.87s/it]"
     ]
    },
    {
     "name": "stdout",
     "output_type": "stream",
     "text": [
      "Done.\n",
      "Lyrics grabbed for Thebes by Om\n",
      "Searching for \"Meditation is the Practice of Death\" by Om...\n"
     ]
    },
    {
     "name": "stderr",
     "output_type": "stream",
     "text": [
      "\r",
      " 11%|████████▍                                                                    | 933/8465 [15:42<3:22:36,  1.61s/it]"
     ]
    },
    {
     "name": "stdout",
     "output_type": "stream",
     "text": [
      "Done.\n",
      "Lyrics grabbed for Meditation is the Practice of Death by Om\n",
      "Searching for \"Cremation Ghat I\" by Om...\n"
     ]
    },
    {
     "name": "stderr",
     "output_type": "stream",
     "text": [
      "\r",
      " 11%|████████▍                                                                    | 934/8465 [15:43<2:59:37,  1.43s/it]"
     ]
    },
    {
     "name": "stdout",
     "output_type": "stream",
     "text": [
      "Done.\n",
      "Lyrics grabbed for Cremation Ghat I by Om\n",
      "Searching for \"Cremation Ghat II\" by Om...\n"
     ]
    },
    {
     "name": "stderr",
     "output_type": "stream",
     "text": [
      "\r",
      " 11%|████████▌                                                                    | 935/8465 [15:44<2:38:43,  1.26s/it]"
     ]
    },
    {
     "name": "stdout",
     "output_type": "stream",
     "text": [
      "Done.\n",
      "Lyrics grabbed for Cremation Ghat II by Om\n",
      "Searching for \"In The Constellation Of The Black Widow\" by Anaal Nathrakh...\n"
     ]
    },
    {
     "name": "stderr",
     "output_type": "stream",
     "text": [
      "\r",
      " 11%|████████▌                                                                    | 936/8465 [15:45<2:24:24,  1.15s/it]"
     ]
    },
    {
     "name": "stdout",
     "output_type": "stream",
     "text": [
      "Done.\n",
      "Lyrics grabbed for In The Constellation Of The Black Widow by Anaal Nathrakh\n",
      "Searching for \"I Am The Wrath Of Gods And The Desolation Of The Earth Music\" by Anaal Nathrakh...\n"
     ]
    },
    {
     "name": "stderr",
     "output_type": "stream",
     "text": [
      "\r",
      " 11%|████████▌                                                                    | 937/8465 [15:45<1:55:23,  1.09it/s]"
     ]
    },
    {
     "name": "stdout",
     "output_type": "stream",
     "text": [
      "No results found for: 'I Am The Wrath Of Gods And The Desolation Of The Earth Music Anaal Nathrakh'\n",
      "Could not find I Am The Wrath Of Gods And The Desolation Of The Earth Music by Anaal Nathrakh\n",
      "Searching for \"More Of Fire Than Blood\" by Anaal Nathrakh...\n"
     ]
    },
    {
     "name": "stderr",
     "output_type": "stream",
     "text": [
      "\r",
      " 11%|████████▌                                                                    | 938/8465 [15:47<2:38:08,  1.26s/it]"
     ]
    },
    {
     "name": "stdout",
     "output_type": "stream",
     "text": [
      "Done.\n",
      "Lyrics grabbed for More Of Fire Than Blood by Anaal Nathrakh\n",
      "Searching for \"The Unbearable Filth Of The Soul\" by Anaal Nathrakh...\n"
     ]
    },
    {
     "name": "stderr",
     "output_type": "stream",
     "text": [
      "\r",
      " 11%|████████▌                                                                    | 939/8465 [15:49<2:53:20,  1.38s/it]"
     ]
    },
    {
     "name": "stdout",
     "output_type": "stream",
     "text": [
      "Done.\n",
      "Lyrics grabbed for The Unbearable Filth Of The Soul by Anaal Nathrakh\n",
      "Searching for \"Terror In The Mind Of God\" by Anaal Nathrakh...\n"
     ]
    },
    {
     "name": "stderr",
     "output_type": "stream",
     "text": [
      "\r",
      " 11%|████████▌                                                                    | 940/8465 [15:50<2:41:06,  1.28s/it]"
     ]
    },
    {
     "name": "stdout",
     "output_type": "stream",
     "text": [
      "Done.\n",
      "Lyrics grabbed for Terror In The Mind Of God by Anaal Nathrakh\n",
      "Searching for \"So Be It\" by Anaal Nathrakh...\n"
     ]
    },
    {
     "name": "stderr",
     "output_type": "stream",
     "text": [
      "\r",
      " 11%|████████▌                                                                    | 941/8465 [15:51<2:26:48,  1.17s/it]"
     ]
    },
    {
     "name": "stdout",
     "output_type": "stream",
     "text": [
      "Done.\n",
      "Lyrics grabbed for So Be It by Anaal Nathrakh\n",
      "Searching for \"The Lucifer Effect\" by Anaal Nathrakh...\n"
     ]
    },
    {
     "name": "stderr",
     "output_type": "stream",
     "text": [
      "\r",
      " 11%|████████▌                                                                    | 942/8465 [15:52<2:13:23,  1.06s/it]"
     ]
    },
    {
     "name": "stdout",
     "output_type": "stream",
     "text": [
      "Done.\n",
      "Lyrics grabbed for The Lucifer Effect by Anaal Nathrakh\n",
      "Searching for \"Oil Upon The Sores Of Lepers\" by Anaal Nathrakh...\n"
     ]
    },
    {
     "name": "stderr",
     "output_type": "stream",
     "text": [
      "\r",
      " 11%|████████▌                                                                    | 943/8465 [15:52<2:02:31,  1.02it/s]"
     ]
    },
    {
     "name": "stdout",
     "output_type": "stream",
     "text": [
      "Done.\n",
      "Lyrics grabbed for Oil Upon The Sores Of Lepers by Anaal Nathrakh\n",
      "Searching for \"Satanarchrist\" by Anaal Nathrakh...\n"
     ]
    },
    {
     "name": "stderr",
     "output_type": "stream",
     "text": [
      "\r",
      " 11%|████████▌                                                                    | 944/8465 [15:53<1:55:49,  1.08it/s]"
     ]
    },
    {
     "name": "stdout",
     "output_type": "stream",
     "text": [
      "Done.\n",
      "Lyrics grabbed for Satanarchrist by Anaal Nathrakh\n",
      "Searching for \"Blood Eagles Carved On The Backs Of Innocents\" by Anaal Nathrakh...\n"
     ]
    },
    {
     "name": "stderr",
     "output_type": "stream",
     "text": [
      "\r",
      " 11%|████████▌                                                                    | 945/8465 [15:54<1:50:52,  1.13it/s]"
     ]
    },
    {
     "name": "stdout",
     "output_type": "stream",
     "text": [
      "Done.\n",
      "Lyrics grabbed for Blood Eagles Carved On The Backs Of Innocents by Anaal Nathrakh\n",
      "Searching for \"Overture\" by Madness...\n"
     ]
    },
    {
     "name": "stderr",
     "output_type": "stream",
     "text": [
      "\r",
      " 11%|████████▌                                                                    | 946/8465 [15:56<2:50:40,  1.36s/it]"
     ]
    },
    {
     "name": "stdout",
     "output_type": "stream",
     "text": [
      "Done.\n",
      "Lyrics grabbed for Overture by Madness\n",
      "Searching for \"We Are London\" by Madness...\n"
     ]
    },
    {
     "name": "stderr",
     "output_type": "stream",
     "text": [
      "\r",
      " 11%|████████▌                                                                    | 947/8465 [15:58<2:56:55,  1.41s/it]"
     ]
    },
    {
     "name": "stdout",
     "output_type": "stream",
     "text": [
      "Done.\n",
      "Lyrics grabbed for We Are London by Madness\n",
      "Searching for \"Sugar And Spice\" by Madness...\n"
     ]
    },
    {
     "name": "stderr",
     "output_type": "stream",
     "text": [
      "\r",
      " 11%|████████▌                                                                    | 948/8465 [16:00<3:06:36,  1.49s/it]"
     ]
    },
    {
     "name": "stdout",
     "output_type": "stream",
     "text": [
      "Done.\n",
      "Lyrics grabbed for Sugar And Spice by Madness\n",
      "Searching for \"Forever Young\" by Madness...\n"
     ]
    },
    {
     "name": "stderr",
     "output_type": "stream",
     "text": [
      "\r",
      " 11%|████████▋                                                                    | 949/8465 [16:02<3:25:55,  1.64s/it]"
     ]
    },
    {
     "name": "stdout",
     "output_type": "stream",
     "text": [
      "Done.\n",
      "Lyrics grabbed for Forever Young by Madness\n",
      "Searching for \"Dust Devil\" by Madness...\n"
     ]
    },
    {
     "name": "stderr",
     "output_type": "stream",
     "text": [
      "\r",
      " 11%|████████▋                                                                    | 950/8465 [16:04<3:49:26,  1.83s/it]"
     ]
    },
    {
     "name": "stdout",
     "output_type": "stream",
     "text": [
      "Done.\n",
      "Lyrics grabbed for Dust Devil by Madness\n",
      "Searching for \"Rainbows\" by Madness...\n"
     ]
    },
    {
     "name": "stderr",
     "output_type": "stream",
     "text": [
      "\r",
      " 11%|████████▋                                                                    | 951/8465 [16:06<3:52:30,  1.86s/it]"
     ]
    },
    {
     "name": "stdout",
     "output_type": "stream",
     "text": [
      "Done.\n",
      "Lyrics grabbed for Rainbows by Madness\n",
      "Searching for \"That Close\" by Madness...\n"
     ]
    },
    {
     "name": "stderr",
     "output_type": "stream",
     "text": [
      "\r",
      " 11%|████████▋                                                                    | 952/8465 [16:07<3:46:26,  1.81s/it]"
     ]
    },
    {
     "name": "stdout",
     "output_type": "stream",
     "text": [
      "Done.\n",
      "Lyrics grabbed for That Close by Madness\n",
      "Searching for \"MKII\" by Madness...\n"
     ]
    },
    {
     "name": "stderr",
     "output_type": "stream",
     "text": [
      "\r",
      " 11%|████████▋                                                                    | 953/8465 [16:09<3:33:36,  1.71s/it]"
     ]
    },
    {
     "name": "stdout",
     "output_type": "stream",
     "text": [
      "Done.\n",
      "Lyrics grabbed for MKII by Madness\n",
      "Searching for \"On The Town\" by Madness...\n"
     ]
    },
    {
     "name": "stderr",
     "output_type": "stream",
     "text": [
      "\r",
      " 11%|████████▋                                                                    | 954/8465 [16:11<3:34:20,  1.71s/it]"
     ]
    },
    {
     "name": "stdout",
     "output_type": "stream",
     "text": [
      "Done.\n",
      "Lyrics grabbed for On The Town by Madness\n",
      "Searching for \"Bingo\" by Madness...\n"
     ]
    },
    {
     "name": "stderr",
     "output_type": "stream",
     "text": [
      "\r",
      " 11%|████████▋                                                                    | 955/8465 [16:12<3:37:48,  1.74s/it]"
     ]
    },
    {
     "name": "stdout",
     "output_type": "stream",
     "text": [
      "Done.\n",
      "Lyrics grabbed for Bingo by Madness\n",
      "Searching for \"Idiot Child\" by Madness...\n"
     ]
    },
    {
     "name": "stderr",
     "output_type": "stream",
     "text": [
      "\r",
      " 11%|████████▋                                                                    | 956/8465 [16:14<3:35:09,  1.72s/it]"
     ]
    },
    {
     "name": "stdout",
     "output_type": "stream",
     "text": [
      "Done.\n",
      "Lyrics grabbed for Idiot Child by Madness\n",
      "Searching for \"Africa\" by Madness...\n"
     ]
    },
    {
     "name": "stderr",
     "output_type": "stream",
     "text": [
      "\r",
      " 11%|████████▋                                                                    | 957/8465 [16:16<3:43:04,  1.78s/it]"
     ]
    },
    {
     "name": "stdout",
     "output_type": "stream",
     "text": [
      "Done.\n",
      "Lyrics grabbed for Africa by Madness\n",
      "Searching for \"NW5 - 2009 Remaster\" by Madness...\n"
     ]
    },
    {
     "name": "stderr",
     "output_type": "stream",
     "text": [
      "\r",
      " 11%|████████▋                                                                    | 958/8465 [16:16<2:49:02,  1.35s/it]"
     ]
    },
    {
     "name": "stdout",
     "output_type": "stream",
     "text": [
      "No results found for: 'NW5 - 2009 Remaster Madness'\n",
      "Could not find NW5 - 2009 Remaster by Madness\n",
      "Searching for \"Clerkenwell Polka\" by Madness...\n"
     ]
    },
    {
     "name": "stderr",
     "output_type": "stream",
     "text": [
      "\r",
      " 11%|████████▋                                                                    | 959/8465 [16:18<2:50:21,  1.36s/it]"
     ]
    },
    {
     "name": "stdout",
     "output_type": "stream",
     "text": [
      "Done.\n",
      "Lyrics grabbed for Clerkenwell Polka by Madness\n",
      "Searching for \"The Liberty Of Norton Folgate\" by Madness...\n"
     ]
    },
    {
     "name": "stderr",
     "output_type": "stream",
     "text": [
      "\r",
      " 11%|████████▋                                                                    | 960/8465 [16:20<3:07:37,  1.50s/it]"
     ]
    },
    {
     "name": "stdout",
     "output_type": "stream",
     "text": [
      "Done.\n",
      "Lyrics grabbed for The Liberty Of Norton Folgate by Madness\n",
      "Searching for \"Dust Devil - Radio Edit\" by Madness...\n"
     ]
    },
    {
     "name": "stderr",
     "output_type": "stream",
     "text": [
      "\r",
      " 11%|████████▋                                                                    | 961/8465 [16:21<2:46:24,  1.33s/it]"
     ]
    },
    {
     "name": "stdout",
     "output_type": "stream",
     "text": [
      "Done.\n",
      "Lyrics grabbed for Dust Devil - Radio Edit by Madness\n",
      "Searching for \"Suggs & Bedders Track By Track\" by Madness...\n"
     ]
    },
    {
     "name": "stderr",
     "output_type": "stream",
     "text": [
      "\r",
      " 11%|████████▊                                                                    | 962/8465 [16:21<2:09:31,  1.04s/it]"
     ]
    },
    {
     "name": "stdout",
     "output_type": "stream",
     "text": [
      "No results found for: 'Suggs & Bedders Track By Track Madness'\n",
      "Could not find Suggs & Bedders Track By Track by Madness\n",
      "Searching for \"If I Ever Die\" by Candlemass...\n"
     ]
    },
    {
     "name": "stderr",
     "output_type": "stream",
     "text": [
      "\r",
      " 11%|████████▊                                                                    | 963/8465 [16:23<2:43:21,  1.31s/it]"
     ]
    },
    {
     "name": "stdout",
     "output_type": "stream",
     "text": [
      "Done.\n",
      "Lyrics grabbed for If I Ever Die by Candlemass\n",
      "Searching for \"Hammer of Doom\" by Candlemass...\n"
     ]
    },
    {
     "name": "stderr",
     "output_type": "stream",
     "text": [
      "\r",
      " 11%|████████▊                                                                    | 964/8465 [16:24<2:25:46,  1.17s/it]"
     ]
    },
    {
     "name": "stdout",
     "output_type": "stream",
     "text": [
      "Done.\n",
      "Lyrics grabbed for Hammer of Doom by Candlemass\n",
      "Searching for \"The Bleeding Baroness\" by Candlemass...\n"
     ]
    },
    {
     "name": "stderr",
     "output_type": "stream",
     "text": [
      "\r",
      " 11%|████████▊                                                                    | 965/8465 [16:25<2:50:16,  1.36s/it]"
     ]
    },
    {
     "name": "stdout",
     "output_type": "stream",
     "text": [
      "Done.\n",
      "Lyrics grabbed for The Bleeding Baroness by Candlemass\n",
      "Searching for \"Demon of the Deep\" by Candlemass...\n"
     ]
    },
    {
     "name": "stderr",
     "output_type": "stream",
     "text": [
      "\r",
      " 11%|████████▊                                                                    | 966/8465 [16:28<3:18:30,  1.59s/it]"
     ]
    },
    {
     "name": "stdout",
     "output_type": "stream",
     "text": [
      "Done.\n",
      "Lyrics grabbed for Demon of the Deep by Candlemass\n",
      "Searching for \"House of 1000 Voices\" by Candlemass...\n"
     ]
    },
    {
     "name": "stderr",
     "output_type": "stream",
     "text": [
      "\r",
      " 11%|████████▊                                                                    | 967/8465 [16:29<3:23:59,  1.63s/it]"
     ]
    },
    {
     "name": "stdout",
     "output_type": "stream",
     "text": [
      "Done.\n",
      "Lyrics grabbed for House of 1000 Voices by Candlemass\n",
      "Searching for \"Dead Angel\" by Candlemass...\n"
     ]
    },
    {
     "name": "stderr",
     "output_type": "stream",
     "text": [
      "\r",
      " 11%|████████▊                                                                    | 968/8465 [16:31<3:26:51,  1.66s/it]"
     ]
    },
    {
     "name": "stdout",
     "output_type": "stream",
     "text": [
      "Done.\n",
      "Lyrics grabbed for Dead Angel by Candlemass\n",
      "Searching for \"Clouds of Dementia\" by Candlemass...\n"
     ]
    },
    {
     "name": "stderr",
     "output_type": "stream",
     "text": [
      "\r",
      " 11%|████████▊                                                                    | 969/8465 [16:33<3:21:15,  1.61s/it]"
     ]
    },
    {
     "name": "stdout",
     "output_type": "stream",
     "text": [
      "Done.\n",
      "Lyrics grabbed for Clouds of Dementia by Candlemass\n",
      "Searching for \"My Funeral Dreams\" by Candlemass...\n"
     ]
    },
    {
     "name": "stderr",
     "output_type": "stream",
     "text": [
      "\r",
      " 11%|████████▊                                                                    | 970/8465 [16:35<3:48:39,  1.83s/it]"
     ]
    },
    {
     "name": "stdout",
     "output_type": "stream",
     "text": [
      "Done.\n",
      "Lyrics grabbed for My Funeral Dreams by Candlemass\n",
      "Searching for \"Lucifer Rising - Album Outtake\" by Candlemass...\n"
     ]
    },
    {
     "name": "stderr",
     "output_type": "stream",
     "text": [
      "\r",
      " 11%|████████▊                                                                    | 971/8465 [16:35<2:53:40,  1.39s/it]"
     ]
    },
    {
     "name": "stdout",
     "output_type": "stream",
     "text": [
      "No results found for: 'Lucifer Rising - Album Outtake Candlemass'\n",
      "Could not find Lucifer Rising - Album Outtake by Candlemass\n",
      "Searching for \"Suffocated\" by Ghost Brigade...\n"
     ]
    },
    {
     "name": "stderr",
     "output_type": "stream",
     "text": [
      "\r",
      " 11%|████████▊                                                                    | 972/8465 [16:36<2:33:15,  1.23s/it]"
     ]
    },
    {
     "name": "stdout",
     "output_type": "stream",
     "text": [
      "Done.\n",
      "Lyrics grabbed for Suffocated by Ghost Brigade\n",
      "Searching for \"My Heart Is a Tomb\" by Ghost Brigade...\n"
     ]
    },
    {
     "name": "stderr",
     "output_type": "stream",
     "text": [
      "\r",
      " 11%|████████▊                                                                    | 973/8465 [16:37<2:20:51,  1.13s/it]"
     ]
    },
    {
     "name": "stdout",
     "output_type": "stream",
     "text": [
      "Done.\n",
      "Lyrics grabbed for My Heart Is a Tomb by Ghost Brigade\n",
      "Searching for \"Into The Black Light\" by Ghost Brigade...\n"
     ]
    },
    {
     "name": "stderr",
     "output_type": "stream",
     "text": [
      "\r",
      " 12%|████████▊                                                                    | 974/8465 [16:39<3:00:22,  1.44s/it]"
     ]
    },
    {
     "name": "stdout",
     "output_type": "stream",
     "text": [
      "Done.\n",
      "Lyrics grabbed for Into The Black Light by Ghost Brigade\n",
      "Searching for \"Lost In a Loop\" by Ghost Brigade...\n"
     ]
    },
    {
     "name": "stderr",
     "output_type": "stream",
     "text": [
      "\r",
      " 12%|████████▊                                                                    | 975/8465 [16:41<3:09:40,  1.52s/it]"
     ]
    },
    {
     "name": "stdout",
     "output_type": "stream",
     "text": [
      "Done.\n",
      "Lyrics grabbed for Lost In a Loop by Ghost Brigade\n",
      "Searching for \"22:22 - Nihil\" by Ghost Brigade...\n"
     ]
    },
    {
     "name": "stderr",
     "output_type": "stream",
     "text": [
      "\r",
      " 12%|████████▉                                                                    | 976/8465 [16:41<2:30:11,  1.20s/it]"
     ]
    },
    {
     "name": "stdout",
     "output_type": "stream",
     "text": [
      "Specified song does not contain lyrics. Rejecting.\n",
      "Could not find 22:22 - Nihil by Ghost Brigade\n",
      "Searching for \"Architect of New Beginnings\" by Ghost Brigade...\n"
     ]
    },
    {
     "name": "stderr",
     "output_type": "stream",
     "text": [
      "\r",
      " 12%|████████▉                                                                    | 977/8465 [16:43<2:49:45,  1.36s/it]"
     ]
    },
    {
     "name": "stdout",
     "output_type": "stream",
     "text": [
      "Done.\n",
      "Lyrics grabbed for Architect of New Beginnings by Ghost Brigade\n",
      "Searching for \"Birth\" by Ghost Brigade...\n"
     ]
    },
    {
     "name": "stderr",
     "output_type": "stream",
     "text": [
      "\r",
      " 12%|████████▉                                                                    | 978/8465 [16:45<3:00:11,  1.44s/it]"
     ]
    },
    {
     "name": "stdout",
     "output_type": "stream",
     "text": [
      "Done.\n",
      "Lyrics grabbed for Birth by Ghost Brigade\n",
      "Searching for \"Concealed Revulsions\" by Ghost Brigade...\n"
     ]
    },
    {
     "name": "stderr",
     "output_type": "stream",
     "text": [
      "\r",
      " 12%|████████▉                                                                    | 979/8465 [16:46<3:04:23,  1.48s/it]"
     ]
    },
    {
     "name": "stdout",
     "output_type": "stream",
     "text": [
      "Done.\n",
      "Lyrics grabbed for Concealed Revulsions by Ghost Brigade\n",
      "Searching for \"Secrets of the Earth\" by Ghost Brigade...\n"
     ]
    },
    {
     "name": "stderr",
     "output_type": "stream",
     "text": [
      "\r",
      " 12%|████████▉                                                                    | 980/8465 [16:47<2:50:38,  1.37s/it]"
     ]
    },
    {
     "name": "stdout",
     "output_type": "stream",
     "text": [
      "Done.\n",
      "Lyrics grabbed for Secrets of the Earth by Ghost Brigade\n",
      "Searching for \"A Storm Inside\" by Ghost Brigade...\n"
     ]
    },
    {
     "name": "stderr",
     "output_type": "stream",
     "text": [
      "\r",
      " 12%|████████▉                                                                    | 981/8465 [16:49<2:56:26,  1.41s/it]"
     ]
    },
    {
     "name": "stdout",
     "output_type": "stream",
     "text": [
      "Done.\n",
      "Lyrics grabbed for A Storm Inside by Ghost Brigade\n",
      "Searching for \"Liar\" by Ghost Brigade...\n"
     ]
    },
    {
     "name": "stderr",
     "output_type": "stream",
     "text": [
      "\r",
      " 12%|████████▉                                                                    | 982/8465 [16:51<3:08:47,  1.51s/it]"
     ]
    },
    {
     "name": "stdout",
     "output_type": "stream",
     "text": [
      "Done.\n",
      "Lyrics grabbed for Liar by Ghost Brigade\n",
      "Searching for \"Deliberate\" by Alpinist...\n"
     ]
    },
    {
     "name": "stderr",
     "output_type": "stream",
     "text": [
      "\r",
      " 12%|████████▉                                                                    | 983/8465 [16:52<3:04:53,  1.48s/it]"
     ]
    },
    {
     "name": "stdout",
     "output_type": "stream",
     "text": [
      "Done.\n",
      "Lyrics grabbed for Deliberate by Alpinist\n",
      "Searching for \"Rogen\" by Alpinist...\n"
     ]
    },
    {
     "name": "stderr",
     "output_type": "stream",
     "text": [
      "\r",
      " 12%|████████▉                                                                    | 984/8465 [16:54<3:03:23,  1.47s/it]"
     ]
    },
    {
     "name": "stdout",
     "output_type": "stream",
     "text": [
      "Done.\n",
      "Lyrics grabbed for Rogen by Alpinist\n",
      "Searching for \"AIDT\" by Alpinist...\n"
     ]
    },
    {
     "name": "stderr",
     "output_type": "stream",
     "text": [
      "\r",
      " 12%|████████▉                                                                    | 985/8465 [16:55<3:10:30,  1.53s/it]"
     ]
    },
    {
     "name": "stdout",
     "output_type": "stream",
     "text": [
      "Done.\n",
      "Lyrics grabbed for AIDT by Alpinist\n",
      "Searching for \"Light\" by Alpinist...\n"
     ]
    },
    {
     "name": "stderr",
     "output_type": "stream",
     "text": [
      "\r",
      " 12%|████████▉                                                                    | 986/8465 [16:57<3:14:19,  1.56s/it]"
     ]
    },
    {
     "name": "stdout",
     "output_type": "stream",
     "text": [
      "Done.\n",
      "Lyrics grabbed for Light by Alpinist\n",
      "Searching for \"Yarncarrier and Break\" by Alpinist...\n"
     ]
    },
    {
     "name": "stderr",
     "output_type": "stream",
     "text": [
      "\r",
      " 12%|████████▉                                                                    | 987/8465 [16:58<3:15:38,  1.57s/it]"
     ]
    },
    {
     "name": "stdout",
     "output_type": "stream",
     "text": [
      "Done.\n",
      "Lyrics grabbed for Yarncarrier and Break by Alpinist\n",
      "Searching for \"Neverest\" by Alpinist...\n"
     ]
    },
    {
     "name": "stderr",
     "output_type": "stream",
     "text": [
      "\r",
      " 12%|████████▉                                                                    | 988/8465 [17:00<3:11:21,  1.54s/it]"
     ]
    },
    {
     "name": "stdout",
     "output_type": "stream",
     "text": [
      "Done.\n",
      "Lyrics grabbed for Neverest by Alpinist\n",
      "Searching for \"Project Fatigue\" by Alpinist...\n"
     ]
    },
    {
     "name": "stderr",
     "output_type": "stream",
     "text": [
      "\r",
      " 12%|████████▉                                                                    | 989/8465 [17:02<3:15:46,  1.57s/it]"
     ]
    },
    {
     "name": "stdout",
     "output_type": "stream",
     "text": [
      "Done.\n",
      "Lyrics grabbed for Project Fatigue by Alpinist\n",
      "Searching for \"The Cursed Word Open-minded\" by Alpinist...\n",
      "Done.\n",
      "Lyrics grabbed for The Cursed Word Open-minded by Alpinist\n"
     ]
    },
    {
     "name": "stderr",
     "output_type": "stream",
     "text": [
      "\r",
      " 12%|█████████                                                                    | 990/8465 [17:03<3:26:02,  1.65s/it]"
     ]
    },
    {
     "name": "stdout",
     "output_type": "stream",
     "text": [
      "Searching for \"Hak Nam\" by Alpinist...\n"
     ]
    },
    {
     "name": "stderr",
     "output_type": "stream",
     "text": [
      "\r",
      " 12%|█████████                                                                    | 991/8465 [17:05<3:13:04,  1.55s/it]"
     ]
    },
    {
     "name": "stdout",
     "output_type": "stream",
     "text": [
      "Done.\n",
      "Lyrics grabbed for Hak Nam by Alpinist\n",
      "Searching for \"Lærm\" by Alpinist...\n"
     ]
    },
    {
     "name": "stderr",
     "output_type": "stream",
     "text": [
      "\r",
      " 12%|█████████                                                                    | 992/8465 [17:06<2:47:24,  1.34s/it]"
     ]
    },
    {
     "name": "stdout",
     "output_type": "stream",
     "text": [
      "Done.\n",
      "Lyrics grabbed for Lærm by Alpinist\n",
      "Searching for \"Nighttime Poet Daytime Dead\" by Alpinist...\n"
     ]
    },
    {
     "name": "stderr",
     "output_type": "stream",
     "text": [
      "\r",
      " 12%|█████████                                                                    | 993/8465 [17:07<2:56:49,  1.42s/it]"
     ]
    },
    {
     "name": "stdout",
     "output_type": "stream",
     "text": [
      "Done.\n",
      "Lyrics grabbed for Nighttime Poet Daytime Dead by Alpinist\n",
      "Searching for \"Schalterhygiene\" by Alpinist...\n"
     ]
    },
    {
     "name": "stderr",
     "output_type": "stream",
     "text": [
      "\r",
      " 12%|█████████                                                                    | 994/8465 [17:08<2:34:38,  1.24s/it]"
     ]
    },
    {
     "name": "stdout",
     "output_type": "stream",
     "text": [
      "Done.\n",
      "Lyrics grabbed for Schalterhygiene by Alpinist\n",
      "Searching for \"A is for Army of Slaves\" by Alpinist...\n"
     ]
    },
    {
     "name": "stderr",
     "output_type": "stream",
     "text": [
      "\r",
      " 12%|█████████                                                                    | 995/8465 [17:10<2:54:04,  1.40s/it]"
     ]
    },
    {
     "name": "stdout",
     "output_type": "stream",
     "text": [
      "Done.\n",
      "Lyrics grabbed for A is for Army of Slaves by Alpinist\n",
      "Searching for \"Rost\" by Alpinist...\n"
     ]
    },
    {
     "name": "stderr",
     "output_type": "stream",
     "text": [
      "\r",
      " 12%|█████████                                                                    | 996/8465 [17:11<2:57:03,  1.42s/it]"
     ]
    },
    {
     "name": "stdout",
     "output_type": "stream",
     "text": [
      "Done.\n",
      "Lyrics grabbed for Rost by Alpinist\n",
      "Searching for \"2TE Klasse Bahnabteil\" by Alpinist...\n"
     ]
    },
    {
     "name": "stderr",
     "output_type": "stream",
     "text": [
      "\r",
      " 12%|█████████                                                                    | 997/8465 [17:13<2:59:02,  1.44s/it]"
     ]
    },
    {
     "name": "stdout",
     "output_type": "stream",
     "text": [
      "Done.\n",
      "Lyrics grabbed for 2TE Klasse Bahnabteil by Alpinist\n",
      "Searching for \"Amuse Yourself to Death\" by Alpinist...\n"
     ]
    },
    {
     "name": "stderr",
     "output_type": "stream",
     "text": [
      "\r",
      " 12%|█████████                                                                    | 998/8465 [17:14<2:58:55,  1.44s/it]"
     ]
    },
    {
     "name": "stdout",
     "output_type": "stream",
     "text": [
      "Done.\n",
      "Lyrics grabbed for Amuse Yourself to Death by Alpinist\n",
      "Searching for \"Delta Flood of Ignorance\" by Alpinist...\n"
     ]
    },
    {
     "name": "stderr",
     "output_type": "stream",
     "text": [
      "\r",
      " 12%|█████████                                                                    | 999/8465 [17:16<3:10:59,  1.53s/it]"
     ]
    },
    {
     "name": "stdout",
     "output_type": "stream",
     "text": [
      "Done.\n",
      "Lyrics grabbed for Delta Flood of Ignorance by Alpinist\n",
      "Searching for \"The Charme of Dominating\" by Alpinist...\n",
      "Done.\n",
      "Lyrics grabbed for The Charme of Dominating by Alpinist\n"
     ]
    },
    {
     "name": "stderr",
     "output_type": "stream",
     "text": [
      "\r",
      " 12%|████████▉                                                                   | 1000/8465 [17:18<3:16:33,  1.58s/it]"
     ]
    },
    {
     "name": "stdout",
     "output_type": "stream",
     "text": [
      "Searching for \"From Groveling to Running in Less Than a Second\" by Alpinist...\n"
     ]
    },
    {
     "name": "stderr",
     "output_type": "stream",
     "text": [
      "\r",
      " 12%|████████▉                                                                   | 1001/8465 [17:19<3:22:40,  1.63s/it]"
     ]
    },
    {
     "name": "stdout",
     "output_type": "stream",
     "text": [
      "Done.\n",
      "Lyrics grabbed for From Groveling to Running in Less Than a Second by Alpinist\n",
      "Searching for \"This Song Will Not Save Your Life\" by Alpinist...\n"
     ]
    },
    {
     "name": "stderr",
     "output_type": "stream",
     "text": [
      "\r",
      " 12%|████████▉                                                                   | 1002/8465 [17:21<3:16:14,  1.58s/it]"
     ]
    },
    {
     "name": "stdout",
     "output_type": "stream",
     "text": [
      "Done.\n",
      "Lyrics grabbed for This Song Will Not Save Your Life by Alpinist\n",
      "Searching for \"Outro\" by Alpinist...\n"
     ]
    },
    {
     "name": "stderr",
     "output_type": "stream",
     "text": [
      "\r",
      " 12%|█████████                                                                   | 1003/8465 [17:21<2:43:16,  1.31s/it]"
     ]
    },
    {
     "name": "stdout",
     "output_type": "stream",
     "text": [
      "Specified song does not contain lyrics. Rejecting.\n",
      "Could not find Outro by Alpinist\n",
      "Searching for \"Pieces\" by Dinosaur Jr....\n"
     ]
    },
    {
     "name": "stderr",
     "output_type": "stream",
     "text": [
      "\r",
      " 12%|█████████                                                                   | 1004/8465 [17:22<2:30:54,  1.21s/it]"
     ]
    },
    {
     "name": "stdout",
     "output_type": "stream",
     "text": [
      "Done.\n",
      "Lyrics grabbed for Pieces by Dinosaur Jr.\n",
      "Searching for \"I Want You To Know\" by Dinosaur Jr....\n"
     ]
    },
    {
     "name": "stderr",
     "output_type": "stream",
     "text": [
      "\r",
      " 12%|█████████                                                                   | 1005/8465 [17:24<2:44:25,  1.32s/it]"
     ]
    },
    {
     "name": "stdout",
     "output_type": "stream",
     "text": [
      "Done.\n",
      "Lyrics grabbed for I Want You To Know by Dinosaur Jr.\n",
      "Searching for \"Ocean In The Way\" by Dinosaur Jr....\n"
     ]
    },
    {
     "name": "stderr",
     "output_type": "stream",
     "text": [
      "\r",
      " 12%|█████████                                                                   | 1006/8465 [17:25<2:32:32,  1.23s/it]"
     ]
    },
    {
     "name": "stdout",
     "output_type": "stream",
     "text": [
      "Done.\n",
      "Lyrics grabbed for Ocean In The Way by Dinosaur Jr.\n",
      "Searching for \"Plans\" by Dinosaur Jr....\n"
     ]
    },
    {
     "name": "stderr",
     "output_type": "stream",
     "text": [
      "\r",
      " 12%|█████████                                                                   | 1007/8465 [17:27<2:46:33,  1.34s/it]"
     ]
    },
    {
     "name": "stdout",
     "output_type": "stream",
     "text": [
      "Done.\n",
      "Lyrics grabbed for Plans by Dinosaur Jr.\n",
      "Searching for \"Your Weather\" by Dinosaur Jr....\n"
     ]
    },
    {
     "name": "stderr",
     "output_type": "stream",
     "text": [
      "\r",
      " 12%|█████████                                                                   | 1008/8465 [17:29<3:17:22,  1.59s/it]"
     ]
    },
    {
     "name": "stdout",
     "output_type": "stream",
     "text": [
      "Done.\n",
      "Lyrics grabbed for Your Weather by Dinosaur Jr.\n",
      "Searching for \"Over It\" by Dinosaur Jr....\n"
     ]
    },
    {
     "name": "stderr",
     "output_type": "stream",
     "text": [
      "\r",
      " 12%|█████████                                                                   | 1009/8465 [17:30<2:51:56,  1.38s/it]"
     ]
    },
    {
     "name": "stdout",
     "output_type": "stream",
     "text": [
      "Done.\n",
      "Lyrics grabbed for Over It by Dinosaur Jr.\n",
      "Searching for \"Friends\" by Dinosaur Jr....\n",
      "Done.\n",
      "Lyrics grabbed for Friends by Dinosaur Jr.\n"
     ]
    },
    {
     "name": "stderr",
     "output_type": "stream",
     "text": [
      "\r",
      " 12%|█████████                                                                   | 1010/8465 [17:32<3:28:03,  1.67s/it]"
     ]
    },
    {
     "name": "stdout",
     "output_type": "stream",
     "text": [
      "Searching for \"Said The People\" by Dinosaur Jr....\n"
     ]
    },
    {
     "name": "stderr",
     "output_type": "stream",
     "text": [
      "\r",
      " 12%|█████████                                                                   | 1011/8465 [17:34<3:30:02,  1.69s/it]"
     ]
    },
    {
     "name": "stdout",
     "output_type": "stream",
     "text": [
      "Done.\n",
      "Lyrics grabbed for Said The People by Dinosaur Jr.\n",
      "Searching for \"There's No Here\" by Dinosaur Jr....\n"
     ]
    },
    {
     "name": "stderr",
     "output_type": "stream",
     "text": [
      "\r",
      " 12%|█████████                                                                   | 1012/8465 [17:36<3:33:45,  1.72s/it]"
     ]
    },
    {
     "name": "stdout",
     "output_type": "stream",
     "text": [
      "Done.\n",
      "Lyrics grabbed for There's No Here by Dinosaur Jr.\n",
      "Searching for \"See You\" by Dinosaur Jr....\n"
     ]
    },
    {
     "name": "stderr",
     "output_type": "stream",
     "text": [
      "\r",
      " 12%|█████████                                                                   | 1013/8465 [17:37<3:06:10,  1.50s/it]"
     ]
    },
    {
     "name": "stdout",
     "output_type": "stream",
     "text": [
      "Done.\n",
      "Lyrics grabbed for See You by Dinosaur Jr.\n",
      "Searching for \"I Don't Wanna Go There\" by Dinosaur Jr....\n"
     ]
    },
    {
     "name": "stderr",
     "output_type": "stream",
     "text": [
      "\r",
      " 12%|█████████                                                                   | 1014/8465 [17:38<3:06:41,  1.50s/it]"
     ]
    },
    {
     "name": "stdout",
     "output_type": "stream",
     "text": [
      "Done.\n",
      "Lyrics grabbed for I Don't Wanna Go There by Dinosaur Jr.\n",
      "Searching for \"Imagination Blind\" by Dinosaur Jr....\n"
     ]
    },
    {
     "name": "stderr",
     "output_type": "stream",
     "text": [
      "\r",
      " 12%|█████████                                                                   | 1015/8465 [17:39<2:42:56,  1.31s/it]"
     ]
    },
    {
     "name": "stdout",
     "output_type": "stream",
     "text": [
      "Done.\n",
      "Lyrics grabbed for Imagination Blind by Dinosaur Jr.\n",
      "Searching for \"Lost Swines\" by Wormrot...\n"
     ]
    },
    {
     "name": "stderr",
     "output_type": "stream",
     "text": [
      "\r",
      " 12%|█████████                                                                   | 1016/8465 [17:41<2:53:20,  1.40s/it]"
     ]
    },
    {
     "name": "stdout",
     "output_type": "stream",
     "text": [
      "Done.\n",
      "Lyrics grabbed for Lost Swines by Wormrot\n",
      "Searching for \"Exterminate\" by Wormrot...\n"
     ]
    },
    {
     "name": "stderr",
     "output_type": "stream",
     "text": [
      "\r",
      " 12%|█████████▏                                                                  | 1017/8465 [17:42<2:55:45,  1.42s/it]"
     ]
    },
    {
     "name": "stdout",
     "output_type": "stream",
     "text": [
      "Done.\n",
      "Lyrics grabbed for Exterminate by Wormrot\n",
      "Searching for \"Double-Feeding\" by Wormrot...\n"
     ]
    },
    {
     "name": "stderr",
     "output_type": "stream",
     "text": [
      "\r",
      " 12%|█████████▏                                                                  | 1018/8465 [17:44<3:03:25,  1.48s/it]"
     ]
    },
    {
     "name": "stdout",
     "output_type": "stream",
     "text": [
      "Done.\n",
      "Lyrics grabbed for Double-Feeding by Wormrot\n",
      "Searching for \"Born Stupid\" by Wormrot...\n"
     ]
    },
    {
     "name": "stderr",
     "output_type": "stream",
     "text": [
      "\r",
      " 12%|█████████▏                                                                  | 1019/8465 [17:45<3:04:46,  1.49s/it]"
     ]
    },
    {
     "name": "stdout",
     "output_type": "stream",
     "text": [
      "Done.\n",
      "Lyrics grabbed for Born Stupid by Wormrot\n",
      "Searching for \"Sledgehammer\" by Wormrot...\n"
     ]
    },
    {
     "name": "stderr",
     "output_type": "stream",
     "text": [
      "\r",
      " 12%|█████████▏                                                                  | 1020/8465 [17:47<3:13:24,  1.56s/it]"
     ]
    },
    {
     "name": "stdout",
     "output_type": "stream",
     "text": [
      "Done.\n",
      "Lyrics grabbed for Sledgehammer by Wormrot\n",
      "Searching for \"So Fierce For Fuck!?\" by Wormrot...\n"
     ]
    },
    {
     "name": "stderr",
     "output_type": "stream",
     "text": [
      "\r",
      " 12%|█████████▏                                                                  | 1021/8465 [17:49<3:25:13,  1.65s/it]"
     ]
    },
    {
     "name": "stdout",
     "output_type": "stream",
     "text": [
      "Done.\n",
      "Lyrics grabbed for So Fierce For Fuck!? by Wormrot\n",
      "Searching for \"Dis-Appointing\" by Wormrot...\n"
     ]
    },
    {
     "name": "stderr",
     "output_type": "stream",
     "text": [
      "\r",
      " 12%|█████████▏                                                                  | 1022/8465 [17:49<2:42:18,  1.31s/it]"
     ]
    },
    {
     "name": "stdout",
     "output_type": "stream",
     "text": [
      "No results found for: 'Dis-Appointing Wormrot'\n",
      "Could not find Dis-Appointing by Wormrot\n",
      "Searching for \"Good Times\" by Wormrot...\n"
     ]
    },
    {
     "name": "stderr",
     "output_type": "stream",
     "text": [
      "\r",
      " 12%|█████████▏                                                                  | 1023/8465 [17:50<2:27:09,  1.19s/it]"
     ]
    },
    {
     "name": "stdout",
     "output_type": "stream",
     "text": [
      "Done.\n",
      "Lyrics grabbed for Good Times by Wormrot\n",
      "Searching for \"Freedom to Act\" by Wormrot...\n"
     ]
    },
    {
     "name": "stderr",
     "output_type": "stream",
     "text": [
      "\r",
      " 12%|█████████▏                                                                  | 1024/8465 [17:52<2:48:16,  1.36s/it]"
     ]
    },
    {
     "name": "stdout",
     "output_type": "stream",
     "text": [
      "Done.\n",
      "Lyrics grabbed for Freedom to Act by Wormrot\n",
      "Searching for \"Indonesia\" by Wormrot...\n"
     ]
    },
    {
     "name": "stderr",
     "output_type": "stream",
     "text": [
      "\r",
      " 12%|█████████▏                                                                  | 1025/8465 [17:53<2:26:05,  1.18s/it]"
     ]
    },
    {
     "name": "stdout",
     "output_type": "stream",
     "text": [
      "Done.\n",
      "Lyrics grabbed for Indonesia by Wormrot\n",
      "Searching for \"Shitlack\" by Wormrot...\n"
     ]
    },
    {
     "name": "stderr",
     "output_type": "stream",
     "text": [
      "\r",
      " 12%|█████████▏                                                                  | 1026/8465 [17:53<1:55:41,  1.07it/s]"
     ]
    },
    {
     "name": "stdout",
     "output_type": "stream",
     "text": [
      "No results found for: 'Shitlack Wormrot'\n",
      "Could not find Shitlack by Wormrot\n",
      "Searching for \"Condemnation\" by Wormrot...\n"
     ]
    },
    {
     "name": "stderr",
     "output_type": "stream",
     "text": [
      "\r",
      " 12%|█████████▏                                                                  | 1027/8465 [17:53<1:37:42,  1.27it/s]"
     ]
    },
    {
     "name": "stdout",
     "output_type": "stream",
     "text": [
      "No results found for: 'Condemnation Wormrot'\n",
      "Could not find Condemnation by Wormrot\n",
      "Searching for \"One Round Away\" by Wormrot...\n"
     ]
    },
    {
     "name": "stderr",
     "output_type": "stream",
     "text": [
      "\r",
      " 12%|█████████▏                                                                  | 1028/8465 [17:55<2:01:43,  1.02it/s]"
     ]
    },
    {
     "name": "stdout",
     "output_type": "stream",
     "text": [
      "Done.\n",
      "Lyrics grabbed for One Round Away by Wormrot\n",
      "Searching for \"Fuck... I'm Drunk\" by Wormrot...\n"
     ]
    },
    {
     "name": "stderr",
     "output_type": "stream",
     "text": [
      "\r",
      " 12%|█████████▏                                                                  | 1029/8465 [17:55<1:36:47,  1.28it/s]"
     ]
    },
    {
     "name": "stdout",
     "output_type": "stream",
     "text": [
      "No results found for: 'Fuck... I'm Drunk Wormrot'\n",
      "Could not find Fuck... I'm Drunk by Wormrot\n",
      "Searching for \"Operation Grindcore\" by Wormrot...\n",
      "Done.\n",
      "Lyrics grabbed for Operation Grindcore by Wormrot\n"
     ]
    },
    {
     "name": "stderr",
     "output_type": "stream",
     "text": [
      "\r",
      " 12%|█████████▏                                                                  | 1030/8465 [17:57<2:21:03,  1.14s/it]"
     ]
    },
    {
     "name": "stdout",
     "output_type": "stream",
     "text": [
      "Searching for \"Rich\" by Wormrot...\n"
     ]
    },
    {
     "name": "stderr",
     "output_type": "stream",
     "text": [
      "\r",
      " 12%|█████████▎                                                                  | 1031/8465 [17:58<2:09:42,  1.05s/it]"
     ]
    },
    {
     "name": "stdout",
     "output_type": "stream",
     "text": [
      "Done.\n",
      "Lyrics grabbed for Rich by Wormrot\n",
      "Searching for \"Overgrown Asshole\" by Wormrot...\n"
     ]
    },
    {
     "name": "stderr",
     "output_type": "stream",
     "text": [
      "\r",
      " 12%|█████████▎                                                                  | 1032/8465 [18:02<3:54:11,  1.89s/it]"
     ]
    },
    {
     "name": "stdout",
     "output_type": "stream",
     "text": [
      "Done.\n",
      "Lyrics grabbed for Overgrown Asshole by Wormrot\n",
      "Searching for \"Blasphemy My Ass\" by Wormrot...\n"
     ]
    },
    {
     "name": "stderr",
     "output_type": "stream",
     "text": [
      "\r",
      " 12%|█████████▎                                                                  | 1033/8465 [18:04<3:45:55,  1.82s/it]"
     ]
    },
    {
     "name": "stdout",
     "output_type": "stream",
     "text": [
      "Done.\n",
      "Lyrics grabbed for Blasphemy My Ass by Wormrot\n",
      "Searching for \"Fix Your Broken Mind\" by Wormrot...\n"
     ]
    },
    {
     "name": "stderr",
     "output_type": "stream",
     "text": [
      "\r",
      " 12%|█████████▎                                                                  | 1034/8465 [18:05<3:35:29,  1.74s/it]"
     ]
    },
    {
     "name": "stdout",
     "output_type": "stream",
     "text": [
      "Done.\n",
      "Lyrics grabbed for Fix Your Broken Mind by Wormrot\n",
      "Searching for \"Newkiller Nuclear\" by Wormrot...\n"
     ]
    },
    {
     "name": "stderr",
     "output_type": "stream",
     "text": [
      "\r",
      " 12%|█████████▎                                                                  | 1035/8465 [18:05<2:44:06,  1.33s/it]"
     ]
    },
    {
     "name": "stdout",
     "output_type": "stream",
     "text": [
      "No results found for: 'Newkiller Nuclear Wormrot'\n",
      "Could not find Newkiller Nuclear by Wormrot\n",
      "Searching for \"Uncovered and Proud As Fuck\" by Wormrot...\n"
     ]
    },
    {
     "name": "stderr",
     "output_type": "stream",
     "text": [
      "\r",
      " 12%|█████████▎                                                                  | 1036/8465 [18:06<2:09:18,  1.04s/it]"
     ]
    },
    {
     "name": "stdout",
     "output_type": "stream",
     "text": [
      "No results found for: 'Uncovered and Proud As Fuck Wormrot'\n",
      "Could not find Uncovered and Proud As Fuck by Wormrot\n",
      "Searching for \"Murder\" by Wormrot...\n"
     ]
    },
    {
     "name": "stderr",
     "output_type": "stream",
     "text": [
      "\r",
      " 12%|█████████▎                                                                  | 1037/8465 [18:07<2:06:34,  1.02s/it]"
     ]
    },
    {
     "name": "stdout",
     "output_type": "stream",
     "text": [
      "Done.\n",
      "Lyrics grabbed for Murder by Wormrot\n",
      "Searching for \"Scum Infestation and Last Song\" by Wormrot...\n"
     ]
    },
    {
     "name": "stderr",
     "output_type": "stream",
     "text": [
      "\r",
      " 12%|█████████▎                                                                  | 1038/8465 [18:09<2:44:58,  1.33s/it]"
     ]
    },
    {
     "name": "stdout",
     "output_type": "stream",
     "text": [
      "Done.\n",
      "Lyrics grabbed for Scum Infestation and Last Song by Wormrot\n",
      "Searching for \"Mass Disruption\" by Wormrot...\n"
     ]
    },
    {
     "name": "stderr",
     "output_type": "stream",
     "text": [
      "\r",
      " 12%|█████████▎                                                                  | 1039/8465 [18:09<2:08:06,  1.04s/it]"
     ]
    },
    {
     "name": "stdout",
     "output_type": "stream",
     "text": [
      "No results found for: 'Mass Disruption Wormrot'\n",
      "Could not find Mass Disruption by Wormrot\n",
      "Searching for \"Why We Fight\" by Wormrot...\n",
      "No results found for: 'Why We Fight Wormrot'\n",
      "Could not find Why We Fight by Wormrot\n"
     ]
    },
    {
     "name": "stderr",
     "output_type": "stream",
     "text": [
      "\r",
      " 12%|█████████▎                                                                  | 1040/8465 [18:10<1:49:03,  1.13it/s]"
     ]
    },
    {
     "name": "stdout",
     "output_type": "stream",
     "text": [
      "Searching for \"Tight Shirt, Tighter Jeans\" by Wormrot...\n"
     ]
    },
    {
     "name": "stderr",
     "output_type": "stream",
     "text": [
      "\r",
      " 12%|█████████▎                                                                  | 1041/8465 [18:10<1:29:27,  1.38it/s]"
     ]
    },
    {
     "name": "stdout",
     "output_type": "stream",
     "text": [
      "No results found for: 'Tight Shirt, Tighter Jeans Wormrot'\n",
      "Could not find Tight Shirt, Tighter Jeans by Wormrot\n",
      "Searching for \"Rapid Abortions of Ridiculous Proportions\" by Wormrot...\n"
     ]
    },
    {
     "name": "stderr",
     "output_type": "stream",
     "text": [
      "\r",
      " 12%|█████████▎                                                                  | 1042/8465 [18:10<1:17:36,  1.59it/s]"
     ]
    },
    {
     "name": "stdout",
     "output_type": "stream",
     "text": [
      "No results found for: 'Rapid Abortions of Ridiculous Proportions Wormrot'\n",
      "Could not find Rapid Abortions of Ridiculous Proportions by Wormrot\n",
      "Searching for \"Set to Kill - 2008 Diseptic Split\" by Wormrot...\n"
     ]
    },
    {
     "name": "stderr",
     "output_type": "stream",
     "text": [
      "\r",
      " 12%|█████████▎                                                                  | 1043/8465 [18:11<1:07:07,  1.84it/s]"
     ]
    },
    {
     "name": "stdout",
     "output_type": "stream",
     "text": [
      "No results found for: 'Set to Kill - 2008 Diseptic Split Wormrot'\n",
      "Could not find Set to Kill - 2008 Diseptic Split by Wormrot\n",
      "Searching for \"Now It's Time - 2008 Diseptic Split\" by Wormrot...\n"
     ]
    },
    {
     "name": "stderr",
     "output_type": "stream",
     "text": [
      "\r",
      " 12%|█████████▎                                                                  | 1044/8465 [18:11<1:01:59,  2.00it/s]"
     ]
    },
    {
     "name": "stdout",
     "output_type": "stream",
     "text": [
      "No results found for: 'Now It's Time - 2008 Diseptic Split Wormrot'\n",
      "Could not find Now It's Time - 2008 Diseptic Split by Wormrot\n",
      "Searching for \"Left to Rot - 2008 Diseptic Split\" by Wormrot...\n"
     ]
    },
    {
     "name": "stderr",
     "output_type": "stream",
     "text": [
      "\r",
      " 12%|█████████▋                                                                    | 1045/8465 [18:12<56:29,  2.19it/s]"
     ]
    },
    {
     "name": "stdout",
     "output_type": "stream",
     "text": [
      "No results found for: 'Left to Rot - 2008 Diseptic Split Wormrot'\n",
      "Could not find Left to Rot - 2008 Diseptic Split by Wormrot\n",
      "Searching for \"Beer or Nothing - 2008 Diseptic Split\" by Wormrot...\n"
     ]
    },
    {
     "name": "stderr",
     "output_type": "stream",
     "text": [
      "\r",
      " 12%|█████████▋                                                                    | 1046/8465 [18:12<52:16,  2.37it/s]"
     ]
    },
    {
     "name": "stdout",
     "output_type": "stream",
     "text": [
      "No results found for: 'Beer or Nothing - 2008 Diseptic Split Wormrot'\n",
      "Could not find Beer or Nothing - 2008 Diseptic Split by Wormrot\n",
      "Searching for \"Saw Throat - 2008 Diseptic Split\" by Wormrot...\n"
     ]
    },
    {
     "name": "stderr",
     "output_type": "stream",
     "text": [
      "\r",
      " 12%|█████████▋                                                                    | 1047/8465 [18:12<49:24,  2.50it/s]"
     ]
    },
    {
     "name": "stdout",
     "output_type": "stream",
     "text": [
      "No results found for: 'Saw Throat - 2008 Diseptic Split Wormrot'\n",
      "Could not find Saw Throat - 2008 Diseptic Split by Wormrot\n",
      "Searching for \"False Grind Sodomy - 2008 Diseptic Split\" by Wormrot...\n"
     ]
    },
    {
     "name": "stderr",
     "output_type": "stream",
     "text": [
      "\r",
      " 12%|█████████▋                                                                    | 1048/8465 [18:13<48:26,  2.55it/s]"
     ]
    },
    {
     "name": "stdout",
     "output_type": "stream",
     "text": [
      "No results found for: 'False Grind Sodomy - 2008 Diseptic Split Wormrot'\n",
      "Could not find False Grind Sodomy - 2008 Diseptic Split by Wormrot\n",
      "Searching for \"Refuse - 2008 Diseptic Split\" by Wormrot...\n"
     ]
    },
    {
     "name": "stderr",
     "output_type": "stream",
     "text": [
      "\r",
      " 12%|█████████▋                                                                    | 1049/8465 [18:13<49:25,  2.50it/s]"
     ]
    },
    {
     "name": "stdout",
     "output_type": "stream",
     "text": [
      "No results found for: 'Refuse - 2008 Diseptic Split Wormrot'\n",
      "Could not find Refuse - 2008 Diseptic Split by Wormrot\n",
      "Searching for \"Propagrinda - 2008 Dead EP\" by Wormrot...\n",
      "No results found for: 'Propagrinda - 2008 Dead EP Wormrot'\n",
      "Could not find Propagrinda - 2008 Dead EP by Wormrot\n"
     ]
    },
    {
     "name": "stderr",
     "output_type": "stream",
     "text": [
      "\r",
      " 12%|█████████▋                                                                    | 1050/8465 [18:14<55:05,  2.24it/s]"
     ]
    },
    {
     "name": "stdout",
     "output_type": "stream",
     "text": [
      "Searching for \"Condemnation - 2008 Dead EP\" by Wormrot...\n"
     ]
    },
    {
     "name": "stderr",
     "output_type": "stream",
     "text": [
      "\r",
      " 12%|█████████▋                                                                    | 1051/8465 [18:14<51:32,  2.40it/s]"
     ]
    },
    {
     "name": "stdout",
     "output_type": "stream",
     "text": [
      "No results found for: 'Condemnation - 2008 Dead EP Wormrot'\n",
      "Could not find Condemnation - 2008 Dead EP by Wormrot\n",
      "Searching for \"Power and Terror Maximator - 2008 Dead EP\" by Wormrot...\n"
     ]
    },
    {
     "name": "stderr",
     "output_type": "stream",
     "text": [
      "\r",
      " 12%|█████████▋                                                                    | 1052/8465 [18:14<51:32,  2.40it/s]"
     ]
    },
    {
     "name": "stdout",
     "output_type": "stream",
     "text": [
      "No results found for: 'Power and Terror Maximator - 2008 Dead EP Wormrot'\n",
      "Could not find Power and Terror Maximator - 2008 Dead EP by Wormrot\n",
      "Searching for \"Wall of Shit - 2008 Dead EP\" by Wormrot...\n"
     ]
    },
    {
     "name": "stderr",
     "output_type": "stream",
     "text": [
      "\r",
      " 12%|█████████▍                                                                  | 1053/8465 [18:15<1:04:43,  1.91it/s]"
     ]
    },
    {
     "name": "stdout",
     "output_type": "stream",
     "text": [
      "Done.\n",
      "Lyrics grabbed for Wall of Shit - 2008 Dead EP by Wormrot\n",
      "Searching for \"Fuck... I'm Drunk - 2008 Dead EP\" by Wormrot...\n"
     ]
    },
    {
     "name": "stderr",
     "output_type": "stream",
     "text": [
      "\r",
      " 12%|█████████▋                                                                    | 1054/8465 [18:15<57:06,  2.16it/s]"
     ]
    },
    {
     "name": "stdout",
     "output_type": "stream",
     "text": [
      "No results found for: 'Fuck... I'm Drunk - 2008 Dead EP Wormrot'\n",
      "Could not find Fuck... I'm Drunk - 2008 Dead EP by Wormrot\n",
      "Searching for \"Uncovered and Proud As Fuck - 2008 Dead EP\" by Wormrot...\n"
     ]
    },
    {
     "name": "stderr",
     "output_type": "stream",
     "text": [
      "\r",
      " 12%|█████████▋                                                                    | 1055/8465 [18:16<54:28,  2.27it/s]"
     ]
    },
    {
     "name": "stdout",
     "output_type": "stream",
     "text": [
      "No results found for: 'Uncovered and Proud As Fuck - 2008 Dead EP Wormrot'\n",
      "Could not find Uncovered and Proud As Fuck - 2008 Dead EP by Wormrot\n",
      "Searching for \"Violate the Dead - 2008 Dead EP\" by Wormrot...\n"
     ]
    },
    {
     "name": "stderr",
     "output_type": "stream",
     "text": [
      "\r",
      " 12%|█████████▋                                                                    | 1056/8465 [18:16<50:51,  2.43it/s]"
     ]
    },
    {
     "name": "stdout",
     "output_type": "stream",
     "text": [
      "No results found for: 'Violate the Dead - 2008 Dead EP Wormrot'\n",
      "Could not find Violate the Dead - 2008 Dead EP by Wormrot\n",
      "Searching for \"Castrate Matrep - 2008 Dead EP\" by Wormrot...\n"
     ]
    },
    {
     "name": "stderr",
     "output_type": "stream",
     "text": [
      "\r",
      " 12%|█████████▋                                                                    | 1057/8465 [18:17<50:30,  2.44it/s]"
     ]
    },
    {
     "name": "stdout",
     "output_type": "stream",
     "text": [
      "No results found for: 'Castrate Matrep - 2008 Dead EP Wormrot'\n",
      "Could not find Castrate Matrep - 2008 Dead EP by Wormrot\n",
      "Searching for \"Amsterdamned - 2008 Dead EP\" by Wormrot...\n"
     ]
    },
    {
     "name": "stderr",
     "output_type": "stream",
     "text": [
      "\r",
      " 12%|█████████▋                                                                    | 1058/8465 [18:17<48:03,  2.57it/s]"
     ]
    },
    {
     "name": "stdout",
     "output_type": "stream",
     "text": [
      "No results found for: 'Amsterdamned - 2008 Dead EP Wormrot'\n",
      "Could not find Amsterdamned - 2008 Dead EP by Wormrot\n",
      "Searching for \"Mass Disruption - 2008 Dead EP\" by Wormrot...\n"
     ]
    },
    {
     "name": "stderr",
     "output_type": "stream",
     "text": [
      "\r",
      " 13%|█████████▊                                                                    | 1059/8465 [18:17<49:39,  2.49it/s]"
     ]
    },
    {
     "name": "stdout",
     "output_type": "stream",
     "text": [
      "No results found for: 'Mass Disruption - 2008 Dead EP Wormrot'\n",
      "Could not find Mass Disruption - 2008 Dead EP by Wormrot\n",
      "Searching for \"Operation Grindcore - 2008 Dead EP\" by Wormrot...\n",
      "No results found for: 'Operation Grindcore - 2008 Dead EP Wormrot'\n",
      "Could not find Operation Grindcore - 2008 Dead EP by Wormrot\n"
     ]
    },
    {
     "name": "stderr",
     "output_type": "stream",
     "text": [
      "\r",
      " 13%|█████████▌                                                                  | 1060/8465 [18:18<1:02:37,  1.97it/s]"
     ]
    },
    {
     "name": "stdout",
     "output_type": "stream",
     "text": [
      "Searching for \"Newkiller Nuclear - 2008 Dead EP\" by Wormrot...\n"
     ]
    },
    {
     "name": "stderr",
     "output_type": "stream",
     "text": [
      "\r",
      " 13%|█████████▊                                                                    | 1061/8465 [18:18<57:04,  2.16it/s]"
     ]
    },
    {
     "name": "stdout",
     "output_type": "stream",
     "text": [
      "No results found for: 'Newkiller Nuclear - 2008 Dead EP Wormrot'\n",
      "Could not find Newkiller Nuclear - 2008 Dead EP by Wormrot\n",
      "Searching for \"Freedom to Act - 2008 Dead EP\" by Wormrot...\n"
     ]
    },
    {
     "name": "stderr",
     "output_type": "stream",
     "text": [
      "\r",
      " 13%|█████████▊                                                                    | 1062/8465 [18:19<52:06,  2.37it/s]"
     ]
    },
    {
     "name": "stdout",
     "output_type": "stream",
     "text": [
      "No results found for: 'Freedom to Act - 2008 Dead EP Wormrot'\n",
      "Could not find Freedom to Act - 2008 Dead EP by Wormrot\n",
      "Searching for \"Why We Fight - 2008 Dead EP\" by Wormrot...\n"
     ]
    },
    {
     "name": "stderr",
     "output_type": "stream",
     "text": [
      "\r",
      " 13%|█████████▊                                                                    | 1063/8465 [18:19<48:06,  2.56it/s]"
     ]
    },
    {
     "name": "stdout",
     "output_type": "stream",
     "text": [
      "No results found for: 'Why We Fight - 2008 Dead EP Wormrot'\n",
      "Could not find Why We Fight - 2008 Dead EP by Wormrot\n",
      "Searching for \"Propagrinda - 2007 Demo\" by Wormrot...\n"
     ]
    },
    {
     "name": "stderr",
     "output_type": "stream",
     "text": [
      "\r",
      " 13%|█████████▊                                                                    | 1064/8465 [18:19<46:22,  2.66it/s]"
     ]
    },
    {
     "name": "stdout",
     "output_type": "stream",
     "text": [
      "No results found for: 'Propagrinda - 2007 Demo Wormrot'\n",
      "Could not find Propagrinda - 2007 Demo by Wormrot\n",
      "Searching for \"Condemnation - 2007 Demo\" by Wormrot...\n"
     ]
    },
    {
     "name": "stderr",
     "output_type": "stream",
     "text": [
      "\r",
      " 13%|█████████▊                                                                    | 1065/8465 [18:20<45:02,  2.74it/s]"
     ]
    },
    {
     "name": "stdout",
     "output_type": "stream",
     "text": [
      "No results found for: 'Condemnation - 2007 Demo Wormrot'\n",
      "Could not find Condemnation - 2007 Demo by Wormrot\n",
      "Searching for \"Gin\" by Cobalt...\n"
     ]
    },
    {
     "name": "stderr",
     "output_type": "stream",
     "text": [
      "\r",
      " 13%|█████████▌                                                                  | 1066/8465 [18:22<1:54:50,  1.07it/s]"
     ]
    },
    {
     "name": "stdout",
     "output_type": "stream",
     "text": [
      "Done.\n",
      "Lyrics grabbed for Gin by Cobalt\n",
      "Searching for \"Dry Body\" by Cobalt...\n"
     ]
    },
    {
     "name": "stderr",
     "output_type": "stream",
     "text": [
      "\r",
      " 13%|█████████▌                                                                  | 1067/8465 [18:24<2:23:23,  1.16s/it]"
     ]
    },
    {
     "name": "stdout",
     "output_type": "stream",
     "text": [
      "Done.\n",
      "Lyrics grabbed for Dry Body by Cobalt\n",
      "Searching for \"Arsonry\" by Cobalt...\n"
     ]
    },
    {
     "name": "stderr",
     "output_type": "stream",
     "text": [
      "\r",
      " 13%|█████████▌                                                                  | 1068/8465 [18:25<2:33:27,  1.24s/it]"
     ]
    },
    {
     "name": "stdout",
     "output_type": "stream",
     "text": [
      "Done.\n",
      "Lyrics grabbed for Arsonry by Cobalt\n",
      "Searching for \"Throat\" by Cobalt...\n"
     ]
    },
    {
     "name": "stderr",
     "output_type": "stream",
     "text": [
      "\r",
      " 13%|█████████▌                                                                  | 1069/8465 [18:26<2:11:28,  1.07s/it]"
     ]
    },
    {
     "name": "stdout",
     "output_type": "stream",
     "text": [
      "Specified song does not contain lyrics. Rejecting.\n",
      "Could not find Throat by Cobalt\n",
      "Searching for \"Stomach\" by Cobalt...\n"
     ]
    }
   ],
   "source": [
    "# Loading Data and adding lyrics for each track\n",
    "\n",
    "# Counter to slow down the API calls\n",
    "sleeper = defaultdict(lambda: 0.5)\n",
    "\n",
    "\n",
    "for order in all_paths.keys():\n",
    "    \n",
    "    # Search for a specific category\n",
    "    if order != 'top':\n",
    "        continue\n",
    "    \n",
    "    # Iterating through all the file paths in that category\n",
    "    for j_file in all_paths[order]:\n",
    "        counter = 0\n",
    "        \n",
    "        # Getting the year from the file path\n",
    "        year = j_file[-9:-5]\n",
    "        \n",
    "        # Look for a specific year\n",
    "        if int(year) not in [2015,2014]:\n",
    "            continue\n",
    "        \n",
    "        # Opening a file \n",
    "        with open(j_file) as f:\n",
    "            data_dict = json.load(f)\n",
    "            \n",
    "        # Appending the new dictionaries with added information into new_vals\n",
    "        new_vals = []\n",
    "\n",
    "        # Iterating through each entry in the original dictionary\n",
    "        for entry in tqdm.tqdm(data_dict):\n",
    "            counter +=1 \n",
    "\n",
    "            # Sleeper to reduce timeout\n",
    "#                 time.sleep(sleeper['search'])\n",
    "\n",
    "            # Getting the track lyrics\n",
    "            try:\n",
    "                song = {}\n",
    "                song['lyrics'] = genius.search_song(title = entry['spotify track name'], artist = entry['Artist Name'])\n",
    "                if song['lyrics'] == None:\n",
    "                    print(f\"Could not find {entry['spotify track name']} by {entry['Artist Name']}\")\n",
    "                else:\n",
    "                    print(f\"Lyrics grabbed for {entry['spotify track name']} by {entry['Artist Name']}\")\n",
    "            except Exception as e:\n",
    "                print(e)\n",
    "                song['lyrics'] = None\n",
    "                print(f\"Exception for {entry['spotify track name']} by {entry['Artist Name']}\")\n",
    "\n",
    "            if song['lyrics'] and not(isinstance(song['lyrics'],str)):\n",
    "                song['lyrics'] = song['lyrics'].lyrics\n",
    "            # Creating a new dictionary with added information\n",
    "            dup_entry = copy.deepcopy(entry)\n",
    "            dup_entry.update(song)\n",
    "            new_vals.append(dup_entry)\n",
    "            \n",
    "            if counter%10 == 0:\n",
    "                path = f\"data/genius_lyrics/{order}/{year}.json\"\n",
    "                # File to write to       \n",
    "                with open(path, 'w') as file:\n",
    "                    json.dump(new_vals, file)\n",
    "\n",
    "        path = f\"data/genius_lyrics/{order}/{year}.json\"\n",
    "        # File to write to       \n",
    "        with open(path, 'w') as file:\n",
    "            json.dump(new_vals, file)"
   ]
  },
  {
   "cell_type": "code",
   "execution_count": null,
   "metadata": {},
   "outputs": [],
   "source": []
  }
 ],
 "metadata": {
  "colab": {
   "provenance": []
  },
  "kernelspec": {
   "display_name": "Python 3",
   "language": "python",
   "name": "python3"
  },
  "language_info": {
   "codemirror_mode": {
    "name": "ipython",
    "version": 3
   },
   "file_extension": ".py",
   "mimetype": "text/x-python",
   "name": "python",
   "nbconvert_exporter": "python",
   "pygments_lexer": "ipython3",
   "version": "3.8.5"
  }
 },
 "nbformat": 4,
 "nbformat_minor": 1
}

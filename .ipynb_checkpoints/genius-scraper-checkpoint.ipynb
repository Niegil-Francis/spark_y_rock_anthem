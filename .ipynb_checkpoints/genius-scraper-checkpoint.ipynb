{
 "cells": [
  {
   "cell_type": "code",
   "execution_count": 5,
   "metadata": {
    "id": "27vpd1k8BUkS"
   },
   "outputs": [],
   "source": [
    "import lyricsgenius as lg\n",
    "import glob\n",
    "from collections import defaultdict\n",
    "import json\n",
    "import tqdm\n",
    "import time\n",
    "import copy"
   ]
  },
  {
   "cell_type": "code",
   "execution_count": 6,
   "metadata": {
    "id": "3YI-LKj9BmpV"
   },
   "outputs": [],
   "source": [
    "genius = lg.Genius('dr9AIkEJTZUG-ZwCXB4GRZ5Ns9WhHrvTdVobwkus-9xNTvkxhClixI2p5zhRacuV', skip_non_songs=True, excluded_terms=[\"(Remix)\", \"(Live)\"], remove_section_headers=True, timeout = 20)"
   ]
  },
  {
   "cell_type": "code",
   "execution_count": 15,
   "metadata": {},
   "outputs": [],
   "source": [
    "# Loading the spotify data\n",
    "# Getting all the file names scraped from rate your music\n",
    "rating = ['top','bottom','popular','esoteric','diverse']\n",
    "path = \"data/spotify_song_data/{}/\"\n",
    "all_paths = {}\n",
    "for order in rating:\n",
    "    temp = path.format(order)\n",
    "    all_paths[order] = []\n",
    "    for file in glob.glob(temp+\"*.json\"):\n",
    "        all_paths[order].append(file)"
   ]
  },
  {
   "cell_type": "code",
   "execution_count": null,
   "metadata": {},
   "outputs": [
    {
     "name": "stderr",
     "output_type": "stream",
     "text": [
      "\r",
      "  0%|                                                                                         | 0/8465 [00:00<?, ?it/s]"
     ]
    },
    {
     "name": "stdout",
     "output_type": "stream",
     "text": [
      "Searching for \"Conservation of Two - 2021 Remaster\" by Sweet Trip...\n"
     ]
    },
    {
     "name": "stderr",
     "output_type": "stream",
     "text": [
      "\r",
      "  0%|                                                                               | 1/8465 [00:00<1:39:47,  1.41it/s]"
     ]
    },
    {
     "name": "stdout",
     "output_type": "stream",
     "text": [
      "Done.\n",
      "Lyrics grabbed for Conservation of Two - 2021 Remaster by Sweet Trip\n",
      "Searching for \"Air Supply - 2021 Remaster\" by Sweet Trip...\n"
     ]
    },
    {
     "name": "stderr",
     "output_type": "stream",
     "text": [
      "\r",
      "  0%|                                                                               | 2/8465 [00:01<1:35:25,  1.48it/s]"
     ]
    },
    {
     "name": "stdout",
     "output_type": "stream",
     "text": [
      "Done.\n",
      "Lyrics grabbed for Air Supply - 2021 Remaster by Sweet Trip\n",
      "Searching for \"Forever - 2021 Remaster\" by Sweet Trip...\n"
     ]
    },
    {
     "name": "stderr",
     "output_type": "stream",
     "text": [
      "\r",
      "  0%|                                                                               | 3/8465 [00:01<1:28:07,  1.60it/s]"
     ]
    },
    {
     "name": "stdout",
     "output_type": "stream",
     "text": [
      "Done.\n",
      "Lyrics grabbed for Forever - 2021 Remaster by Sweet Trip\n",
      "Searching for \"Acting - 2021 Remaster\" by Sweet Trip...\n"
     ]
    },
    {
     "name": "stderr",
     "output_type": "stream",
     "text": [
      "\r",
      "  0%|                                                                               | 4/8465 [00:02<1:29:07,  1.58it/s]"
     ]
    },
    {
     "name": "stdout",
     "output_type": "stream",
     "text": [
      "Done.\n",
      "Lyrics grabbed for Acting - 2021 Remaster by Sweet Trip\n",
      "Searching for \"Milk - 2021 Remaster\" by Sweet Trip...\n"
     ]
    },
    {
     "name": "stderr",
     "output_type": "stream",
     "text": [
      "\r",
      "  0%|                                                                               | 5/8465 [00:03<1:23:03,  1.70it/s]"
     ]
    },
    {
     "name": "stdout",
     "output_type": "stream",
     "text": [
      "Done.\n",
      "Lyrics grabbed for Milk - 2021 Remaster by Sweet Trip\n",
      "Searching for \"Darkness - 2021 Remaster\" by Sweet Trip...\n"
     ]
    },
    {
     "name": "stderr",
     "output_type": "stream",
     "text": [
      "\r",
      "  0%|                                                                               | 6/8465 [00:03<1:20:24,  1.75it/s]"
     ]
    },
    {
     "name": "stdout",
     "output_type": "stream",
     "text": [
      "Done.\n",
      "Lyrics grabbed for Darkness - 2021 Remaster by Sweet Trip\n",
      "Searching for \"To the Moon - 2021 Remaster\" by Sweet Trip...\n"
     ]
    },
    {
     "name": "stderr",
     "output_type": "stream",
     "text": [
      "\r",
      "  0%|                                                                               | 7/8465 [00:04<1:20:06,  1.76it/s]"
     ]
    },
    {
     "name": "stdout",
     "output_type": "stream",
     "text": [
      "Done.\n",
      "Lyrics grabbed for To the Moon - 2021 Remaster by Sweet Trip\n",
      "Searching for \"Song About a Sea - 2021 Remaster\" by Sweet Trip...\n"
     ]
    },
    {
     "name": "stderr",
     "output_type": "stream",
     "text": [
      "\r",
      "  0%|                                                                               | 8/8465 [00:04<1:21:55,  1.72it/s]"
     ]
    },
    {
     "name": "stdout",
     "output_type": "stream",
     "text": [
      "Done.\n",
      "Lyrics grabbed for Song About a Sea - 2021 Remaster by Sweet Trip\n",
      "Searching for \"Song About a Sun - 2021 Remaster\" by Sweet Trip...\n"
     ]
    },
    {
     "name": "stderr",
     "output_type": "stream",
     "text": [
      "\r",
      "  0%|                                                                               | 9/8465 [00:05<1:22:27,  1.71it/s]"
     ]
    },
    {
     "name": "stdout",
     "output_type": "stream",
     "text": [
      "Done.\n",
      "Lyrics grabbed for Song About a Sun - 2021 Remaster by Sweet Trip\n",
      "Searching for \"No Words to Be Found - 2021 Remaster\" by Sweet Trip...\n"
     ]
    },
    {
     "name": "stderr",
     "output_type": "stream",
     "text": [
      "\r",
      "  0%|                                                                              | 10/8465 [00:05<1:23:04,  1.70it/s]"
     ]
    },
    {
     "name": "stdout",
     "output_type": "stream",
     "text": [
      "Done.\n",
      "Lyrics grabbed for No Words to Be Found - 2021 Remaster by Sweet Trip\n",
      "Searching for \"Pretending - 2021 Remaster\" by Sweet Trip...\n"
     ]
    },
    {
     "name": "stderr",
     "output_type": "stream",
     "text": [
      "\r",
      "  0%|                                                                              | 11/8465 [00:06<1:24:54,  1.66it/s]"
     ]
    },
    {
     "name": "stdout",
     "output_type": "stream",
     "text": [
      "Done.\n",
      "Lyrics grabbed for Pretending - 2021 Remaster by Sweet Trip\n",
      "Searching for \"Misfortunes Are Cruel - 2021 Remaster\" by Sweet Trip...\n"
     ]
    },
    {
     "name": "stderr",
     "output_type": "stream",
     "text": [
      "\r",
      "  0%|                                                                              | 12/8465 [00:07<1:29:25,  1.58it/s]"
     ]
    },
    {
     "name": "stdout",
     "output_type": "stream",
     "text": [
      "Done.\n",
      "Lyrics grabbed for Misfortunes Are Cruel - 2021 Remaster by Sweet Trip\n",
      "Searching for \"Your World is Eternally Complete - 2021 Remaster\" by Sweet Trip...\n"
     ]
    },
    {
     "name": "stderr",
     "output_type": "stream",
     "text": [
      "\r",
      "  0%|                                                                              | 13/8465 [00:07<1:26:18,  1.63it/s]"
     ]
    },
    {
     "name": "stdout",
     "output_type": "stream",
     "text": [
      "Done.\n",
      "Lyrics grabbed for Your World is Eternally Complete - 2021 Remaster by Sweet Trip\n",
      "Searching for \"Female Lover - 2021 Remaster\" by Sweet Trip...\n"
     ]
    },
    {
     "name": "stderr",
     "output_type": "stream",
     "text": [
      "\r",
      "  0%|▏                                                                             | 14/8465 [00:08<1:30:01,  1.56it/s]"
     ]
    },
    {
     "name": "stdout",
     "output_type": "stream",
     "text": [
      "Done.\n",
      "Lyrics grabbed for Female Lover - 2021 Remaster by Sweet Trip\n",
      "Searching for \"Silence - 2021 Remaster\" by Sweet Trip...\n"
     ]
    },
    {
     "name": "stderr",
     "output_type": "stream",
     "text": [
      "\r",
      "  0%|▏                                                                             | 15/8465 [00:09<1:24:54,  1.66it/s]"
     ]
    },
    {
     "name": "stdout",
     "output_type": "stream",
     "text": [
      "Done.\n",
      "Lyrics grabbed for Silence - 2021 Remaster by Sweet Trip\n",
      "Searching for \"Where the Sunrise Dies, So Does the Echo of Your Voice - 2021 Remaster\" by Sweet Trip...\n"
     ]
    },
    {
     "name": "stderr",
     "output_type": "stream",
     "text": [
      "\r",
      "  0%|▏                                                                             | 16/8465 [00:09<1:09:53,  2.01it/s]"
     ]
    },
    {
     "name": "stdout",
     "output_type": "stream",
     "text": [
      "No results found for: 'Where the Sunrise Dies, So Does the Echo of Your Voice - 2021 Remaster Sweet Trip'\n",
      "Could not find Where the Sunrise Dies, So Does the Echo of Your Voice - 2021 Remaster by Sweet Trip\n",
      "Searching for \"Things to Ponder While Falling - 2021 Re-Record\" by Sweet Trip...\n"
     ]
    },
    {
     "name": "stderr",
     "output_type": "stream",
     "text": [
      "\r",
      "  0%|▏                                                                               | 17/8465 [00:09<58:56,  2.39it/s]"
     ]
    },
    {
     "name": "stdout",
     "output_type": "stream",
     "text": [
      "No results found for: 'Things to Ponder While Falling - 2021 Re-Record Sweet Trip'\n",
      "Could not find Things to Ponder While Falling - 2021 Re-Record by Sweet Trip\n",
      "Searching for \"Daughters of Darkness\" by Natural Snow Buildings...\n"
     ]
    },
    {
     "name": "stderr",
     "output_type": "stream",
     "text": [
      "\r",
      "  0%|▏                                                                               | 18/8465 [00:09<51:14,  2.75it/s]"
     ]
    },
    {
     "name": "stdout",
     "output_type": "stream",
     "text": [
      "Specified song does not contain lyrics. Rejecting.\n",
      "Could not find Daughters of Darkness by Natural Snow Buildings\n",
      "Searching for \"Satanic Demona, Pt. 1\" by Natural Snow Buildings...\n"
     ]
    },
    {
     "name": "stderr",
     "output_type": "stream",
     "text": [
      "\r",
      "  0%|▏                                                                               | 19/8465 [00:10<45:52,  3.07it/s]"
     ]
    },
    {
     "name": "stdout",
     "output_type": "stream",
     "text": [
      "Specified song does not contain lyrics. Rejecting.\n",
      "Could not find Satanic Demona, Pt. 1 by Natural Snow Buildings\n",
      "Searching for \"Satanic Demona, Pt. 2\" by Natural Snow Buildings...\n"
     ]
    },
    {
     "name": "stderr",
     "output_type": "stream",
     "text": [
      "\r",
      "  0%|▏                                                                               | 20/8465 [00:10<43:33,  3.23it/s]"
     ]
    },
    {
     "name": "stdout",
     "output_type": "stream",
     "text": [
      "Specified song does not contain lyrics. Rejecting.\n",
      "Could not find Satanic Demona, Pt. 2 by Natural Snow Buildings\n",
      "Searching for \"Curare\" by Natural Snow Buildings...\n"
     ]
    },
    {
     "name": "stderr",
     "output_type": "stream",
     "text": [
      "\r",
      "  0%|▏                                                                               | 21/8465 [00:10<40:27,  3.48it/s]"
     ]
    },
    {
     "name": "stdout",
     "output_type": "stream",
     "text": [
      "Specified song does not contain lyrics. Rejecting.\n",
      "Could not find Curare by Natural Snow Buildings\n",
      "Searching for \"Carnal Flowers\" by Natural Snow Buildings...\n"
     ]
    },
    {
     "name": "stderr",
     "output_type": "stream",
     "text": [
      "\r",
      "  0%|▏                                                                               | 22/8465 [00:10<38:17,  3.67it/s]"
     ]
    },
    {
     "name": "stdout",
     "output_type": "stream",
     "text": [
      "Specified song does not contain lyrics. Rejecting.\n",
      "Could not find Carnal Flowers by Natural Snow Buildings\n",
      "Searching for \"Her Face is Not Her Real Face\" by Natural Snow Buildings...\n"
     ]
    },
    {
     "name": "stderr",
     "output_type": "stream",
     "text": [
      "\r",
      "  0%|▏                                                                               | 23/8465 [00:11<37:26,  3.76it/s]"
     ]
    },
    {
     "name": "stdout",
     "output_type": "stream",
     "text": [
      "Specified song does not contain lyrics. Rejecting.\n",
      "Could not find Her Face is Not Her Real Face by Natural Snow Buildings\n",
      "Searching for \"Body Double\" by Natural Snow Buildings...\n"
     ]
    },
    {
     "name": "stderr",
     "output_type": "stream",
     "text": [
      "\r",
      "  0%|▏                                                                               | 24/8465 [00:11<36:17,  3.88it/s]"
     ]
    },
    {
     "name": "stdout",
     "output_type": "stream",
     "text": [
      "Specified song does not contain lyrics. Rejecting.\n",
      "Could not find Body Double by Natural Snow Buildings\n",
      "Searching for \"The Source\" by Natural Snow Buildings...\n"
     ]
    },
    {
     "name": "stderr",
     "output_type": "stream",
     "text": [
      "\r",
      "  0%|▏                                                                               | 25/8465 [00:11<35:20,  3.98it/s]"
     ]
    },
    {
     "name": "stdout",
     "output_type": "stream",
     "text": [
      "Specified song does not contain lyrics. Rejecting.\n",
      "Could not find The Source by Natural Snow Buildings\n",
      "Searching for \"Santa Sangre, Pt. 1\" by Natural Snow Buildings...\n"
     ]
    },
    {
     "name": "stderr",
     "output_type": "stream",
     "text": [
      "\r",
      "  0%|▏                                                                               | 26/8465 [00:11<35:24,  3.97it/s]"
     ]
    },
    {
     "name": "stdout",
     "output_type": "stream",
     "text": [
      "Specified song does not contain lyrics. Rejecting.\n",
      "Could not find Santa Sangre, Pt. 1 by Natural Snow Buildings\n",
      "Searching for \"Santa Sangre, Pt. 2\" by Natural Snow Buildings...\n"
     ]
    },
    {
     "name": "stderr",
     "output_type": "stream",
     "text": [
      "\r",
      "  0%|▎                                                                               | 27/8465 [00:12<34:34,  4.07it/s]"
     ]
    },
    {
     "name": "stdout",
     "output_type": "stream",
     "text": [
      "Specified song does not contain lyrics. Rejecting.\n",
      "Could not find Santa Sangre, Pt. 2 by Natural Snow Buildings\n",
      "Searching for \"A Thousand Demons Invocation\" by Natural Snow Buildings...\n"
     ]
    },
    {
     "name": "stderr",
     "output_type": "stream",
     "text": [
      "\r",
      "  0%|▎                                                                               | 28/8465 [00:12<34:10,  4.12it/s]"
     ]
    },
    {
     "name": "stdout",
     "output_type": "stream",
     "text": [
      "Specified song does not contain lyrics. Rejecting.\n",
      "Could not find A Thousand Demons Invocation by Natural Snow Buildings\n",
      "Searching for \"Slaves for the Afterlife\" by Natural Snow Buildings...\n"
     ]
    },
    {
     "name": "stderr",
     "output_type": "stream",
     "text": [
      "\r",
      "  0%|▎                                                                               | 29/8465 [00:12<34:37,  4.06it/s]"
     ]
    },
    {
     "name": "stdout",
     "output_type": "stream",
     "text": [
      "Specified song does not contain lyrics. Rejecting.\n",
      "Could not find Slaves for the Afterlife by Natural Snow Buildings\n",
      "Searching for \"Black Pastures\" by Natural Snow Buildings...\n"
     ]
    },
    {
     "name": "stderr",
     "output_type": "stream",
     "text": [
      "\r",
      "  0%|▎                                                                               | 30/8465 [00:12<35:04,  4.01it/s]"
     ]
    },
    {
     "name": "stdout",
     "output_type": "stream",
     "text": [
      "Specified song does not contain lyrics. Rejecting.\n",
      "Could not find Black Pastures by Natural Snow Buildings\n",
      "Searching for \"Will You Die for Me?\" by Natural Snow Buildings...\n"
     ]
    },
    {
     "name": "stderr",
     "output_type": "stream",
     "text": [
      "\r",
      "  0%|▎                                                                               | 31/8465 [00:13<34:59,  4.02it/s]"
     ]
    },
    {
     "name": "stdout",
     "output_type": "stream",
     "text": [
      "Specified song does not contain lyrics. Rejecting.\n",
      "Could not find Will You Die for Me? by Natural Snow Buildings\n",
      "Searching for \"Devil's Fork\" by Natural Snow Buildings...\n"
     ]
    },
    {
     "name": "stderr",
     "output_type": "stream",
     "text": [
      "\r",
      "  0%|▎                                                                               | 32/8465 [00:13<34:24,  4.09it/s]"
     ]
    },
    {
     "name": "stdout",
     "output_type": "stream",
     "text": [
      "Specified song does not contain lyrics. Rejecting.\n",
      "Could not find Devil's Fork by Natural Snow Buildings\n",
      "Searching for \"Blood in the Ground Linking Us All\" by Natural Snow Buildings...\n"
     ]
    },
    {
     "name": "stderr",
     "output_type": "stream",
     "text": [
      "\r",
      "  0%|▎                                                                               | 33/8465 [00:13<34:42,  4.05it/s]"
     ]
    },
    {
     "name": "stdout",
     "output_type": "stream",
     "text": [
      "Specified song does not contain lyrics. Rejecting.\n",
      "Could not find Blood in the Ground Linking Us All by Natural Snow Buildings\n",
      "Searching for \"The Invisibles\" by Natural Snow Buildings...\n"
     ]
    },
    {
     "name": "stderr",
     "output_type": "stream",
     "text": [
      "\r",
      "  0%|▎                                                                               | 34/8465 [00:13<34:20,  4.09it/s]"
     ]
    },
    {
     "name": "stdout",
     "output_type": "stream",
     "text": [
      "Specified song does not contain lyrics. Rejecting.\n",
      "Could not find The Invisibles by Natural Snow Buildings\n",
      "Searching for \"Psychic Navigation\" by Natural Snow Buildings...\n"
     ]
    },
    {
     "name": "stderr",
     "output_type": "stream",
     "text": [
      "\r",
      "  0%|▎                                                                               | 35/8465 [00:14<35:20,  3.98it/s]"
     ]
    },
    {
     "name": "stdout",
     "output_type": "stream",
     "text": [
      "Specified song does not contain lyrics. Rejecting.\n",
      "Could not find Psychic Navigation by Natural Snow Buildings\n",
      "Searching for \"Oblivion\" by Mastodon...\n"
     ]
    },
    {
     "name": "stderr",
     "output_type": "stream",
     "text": [
      "\r",
      "  0%|▎                                                                               | 36/8465 [00:14<50:18,  2.79it/s]"
     ]
    },
    {
     "name": "stdout",
     "output_type": "stream",
     "text": [
      "Done.\n",
      "Lyrics grabbed for Oblivion by Mastodon\n",
      "Searching for \"Divinations\" by Mastodon...\n"
     ]
    },
    {
     "name": "stderr",
     "output_type": "stream",
     "text": [
      "\r",
      "  0%|▎                                                                             | 37/8465 [00:15<1:02:45,  2.24it/s]"
     ]
    },
    {
     "name": "stdout",
     "output_type": "stream",
     "text": [
      "Done.\n",
      "Lyrics grabbed for Divinations by Mastodon\n",
      "Searching for \"Quintessence\" by Mastodon...\n"
     ]
    },
    {
     "name": "stderr",
     "output_type": "stream",
     "text": [
      "\r",
      "  0%|▎                                                                             | 38/8465 [00:15<1:08:33,  2.05it/s]"
     ]
    },
    {
     "name": "stdout",
     "output_type": "stream",
     "text": [
      "Done.\n",
      "Lyrics grabbed for Quintessence by Mastodon\n",
      "Searching for \"The Czar: Usurper / Escape / Martyr / Spiral\" by Mastodon...\n"
     ]
    },
    {
     "name": "stderr",
     "output_type": "stream",
     "text": [
      "\r",
      "  0%|▎                                                                               | 39/8465 [00:16<59:36,  2.36it/s]"
     ]
    },
    {
     "name": "stdout",
     "output_type": "stream",
     "text": [
      "Specified song does not contain lyrics. Rejecting.\n",
      "Could not find The Czar: Usurper / Escape / Martyr / Spiral by Mastodon\n",
      "Searching for \"Ghost of Karelia\" by Mastodon...\n"
     ]
    },
    {
     "name": "stderr",
     "output_type": "stream",
     "text": [
      "\r",
      "  0%|▎                                                                             | 40/8465 [00:16<1:07:31,  2.08it/s]"
     ]
    },
    {
     "name": "stdout",
     "output_type": "stream",
     "text": [
      "Done.\n",
      "Lyrics grabbed for Ghost of Karelia by Mastodon\n",
      "Searching for \"Crack the Skye\" by Mastodon...\n"
     ]
    },
    {
     "name": "stderr",
     "output_type": "stream",
     "text": [
      "\r",
      "  0%|▍                                                                             | 41/8465 [00:17<1:12:56,  1.92it/s]"
     ]
    },
    {
     "name": "stdout",
     "output_type": "stream",
     "text": [
      "Done.\n",
      "Lyrics grabbed for Crack the Skye by Mastodon\n",
      "Searching for \"The Last Baron\" by Mastodon...\n"
     ]
    },
    {
     "name": "stderr",
     "output_type": "stream",
     "text": [
      "\r",
      "  0%|▍                                                                             | 42/8465 [00:17<1:16:25,  1.84it/s]"
     ]
    },
    {
     "name": "stdout",
     "output_type": "stream",
     "text": [
      "Done.\n",
      "Lyrics grabbed for The Last Baron by Mastodon\n",
      "Searching for \"In The Flowers\" by Animal Collective...\n"
     ]
    },
    {
     "name": "stderr",
     "output_type": "stream",
     "text": [
      "\r",
      "  1%|▍                                                                             | 43/8465 [00:18<1:20:30,  1.74it/s]"
     ]
    },
    {
     "name": "stdout",
     "output_type": "stream",
     "text": [
      "Done.\n",
      "Lyrics grabbed for In The Flowers by Animal Collective\n",
      "Searching for \"My Girls\" by Animal Collective...\n"
     ]
    },
    {
     "name": "stderr",
     "output_type": "stream",
     "text": [
      "\r",
      "  1%|▍                                                                             | 44/8465 [00:19<1:23:27,  1.68it/s]"
     ]
    },
    {
     "name": "stdout",
     "output_type": "stream",
     "text": [
      "Done.\n",
      "Lyrics grabbed for My Girls by Animal Collective\n",
      "Searching for \"Also Frightened\" by Animal Collective...\n"
     ]
    },
    {
     "name": "stderr",
     "output_type": "stream",
     "text": [
      "\r",
      "  1%|▍                                                                             | 45/8465 [00:19<1:23:41,  1.68it/s]"
     ]
    },
    {
     "name": "stdout",
     "output_type": "stream",
     "text": [
      "Done.\n",
      "Lyrics grabbed for Also Frightened by Animal Collective\n",
      "Searching for \"Summertime Clothes\" by Animal Collective...\n"
     ]
    },
    {
     "name": "stderr",
     "output_type": "stream",
     "text": [
      "\r",
      "  1%|▍                                                                             | 46/8465 [00:20<1:24:46,  1.66it/s]"
     ]
    },
    {
     "name": "stdout",
     "output_type": "stream",
     "text": [
      "Done.\n",
      "Lyrics grabbed for Summertime Clothes by Animal Collective\n",
      "Searching for \"Daily Routine\" by Animal Collective...\n"
     ]
    },
    {
     "name": "stderr",
     "output_type": "stream",
     "text": [
      "\r",
      "  1%|▍                                                                             | 47/8465 [00:21<1:25:04,  1.65it/s]"
     ]
    },
    {
     "name": "stdout",
     "output_type": "stream",
     "text": [
      "Done.\n",
      "Lyrics grabbed for Daily Routine by Animal Collective\n",
      "Searching for \"Bluish\" by Animal Collective...\n"
     ]
    },
    {
     "name": "stderr",
     "output_type": "stream",
     "text": [
      "\r",
      "  1%|▍                                                                             | 48/8465 [00:21<1:24:15,  1.66it/s]"
     ]
    },
    {
     "name": "stdout",
     "output_type": "stream",
     "text": [
      "Done.\n",
      "Lyrics grabbed for Bluish by Animal Collective\n",
      "Searching for \"Guys Eyes\" by Animal Collective...\n"
     ]
    },
    {
     "name": "stderr",
     "output_type": "stream",
     "text": [
      "\r",
      "  1%|▍                                                                             | 49/8465 [00:22<1:23:43,  1.68it/s]"
     ]
    },
    {
     "name": "stdout",
     "output_type": "stream",
     "text": [
      "Done.\n",
      "Lyrics grabbed for Guys Eyes by Animal Collective\n",
      "Searching for \"Taste\" by Animal Collective...\n"
     ]
    },
    {
     "name": "stderr",
     "output_type": "stream",
     "text": [
      "\r",
      "  1%|▍                                                                             | 50/8465 [00:22<1:24:19,  1.66it/s]"
     ]
    },
    {
     "name": "stdout",
     "output_type": "stream",
     "text": [
      "Done.\n",
      "Lyrics grabbed for Taste by Animal Collective\n",
      "Searching for \"Lion In A Coma\" by Animal Collective...\n"
     ]
    },
    {
     "name": "stderr",
     "output_type": "stream",
     "text": [
      "\r",
      "  1%|▍                                                                             | 51/8465 [00:23<1:25:15,  1.64it/s]"
     ]
    },
    {
     "name": "stdout",
     "output_type": "stream",
     "text": [
      "Done.\n",
      "Lyrics grabbed for Lion In A Coma by Animal Collective\n",
      "Searching for \"No More Runnin\" by Animal Collective...\n"
     ]
    },
    {
     "name": "stderr",
     "output_type": "stream",
     "text": [
      "\r",
      "  1%|▍                                                                             | 52/8465 [00:24<1:25:24,  1.64it/s]"
     ]
    },
    {
     "name": "stdout",
     "output_type": "stream",
     "text": [
      "Done.\n",
      "Lyrics grabbed for No More Runnin by Animal Collective\n",
      "Searching for \"Brother Sport\" by Animal Collective...\n"
     ]
    },
    {
     "name": "stderr",
     "output_type": "stream",
     "text": [
      "\r",
      "  1%|▍                                                                             | 53/8465 [00:24<1:25:32,  1.64it/s]"
     ]
    },
    {
     "name": "stdout",
     "output_type": "stream",
     "text": [
      "Done.\n",
      "Lyrics grabbed for Brother Sport by Animal Collective\n",
      "Searching for \"Black Future\" by Vektor...\n"
     ]
    },
    {
     "name": "stderr",
     "output_type": "stream",
     "text": [
      "\r",
      "  1%|▍                                                                             | 54/8465 [00:25<1:26:06,  1.63it/s]"
     ]
    },
    {
     "name": "stdout",
     "output_type": "stream",
     "text": [
      "Done.\n",
      "Lyrics grabbed for Black Future by Vektor\n",
      "Searching for \"Oblivion\" by Vektor...\n"
     ]
    },
    {
     "name": "stderr",
     "output_type": "stream",
     "text": [
      "\r",
      "  1%|▌                                                                             | 55/8465 [00:25<1:24:18,  1.66it/s]"
     ]
    },
    {
     "name": "stdout",
     "output_type": "stream",
     "text": [
      "Done.\n",
      "Lyrics grabbed for Oblivion by Vektor\n",
      "Searching for \"Destroying the Cosmos\" by Vektor...\n"
     ]
    },
    {
     "name": "stderr",
     "output_type": "stream",
     "text": [
      "\r",
      "  1%|▌                                                                             | 56/8465 [00:26<1:23:40,  1.67it/s]"
     ]
    },
    {
     "name": "stdout",
     "output_type": "stream",
     "text": [
      "Done.\n",
      "Lyrics grabbed for Destroying the Cosmos by Vektor\n",
      "Searching for \"Forests of Legend\" by Vektor...\n"
     ]
    },
    {
     "name": "stderr",
     "output_type": "stream",
     "text": [
      "\r",
      "  1%|▌                                                                             | 57/8465 [00:27<1:24:15,  1.66it/s]"
     ]
    },
    {
     "name": "stdout",
     "output_type": "stream",
     "text": [
      "Done.\n",
      "Lyrics grabbed for Forests of Legend by Vektor\n",
      "Searching for \"Hunger for Violence\" by Vektor...\n"
     ]
    },
    {
     "name": "stderr",
     "output_type": "stream",
     "text": [
      "\r",
      "  1%|▌                                                                             | 58/8465 [00:27<1:24:33,  1.66it/s]"
     ]
    },
    {
     "name": "stdout",
     "output_type": "stream",
     "text": [
      "Done.\n",
      "Lyrics grabbed for Hunger for Violence by Vektor\n",
      "Searching for \"Deoxyribonucleic Acid\" by Vektor...\n"
     ]
    },
    {
     "name": "stderr",
     "output_type": "stream",
     "text": [
      "\r",
      "  1%|▌                                                                             | 59/8465 [00:28<1:25:28,  1.64it/s]"
     ]
    },
    {
     "name": "stdout",
     "output_type": "stream",
     "text": [
      "Done.\n",
      "Lyrics grabbed for Deoxyribonucleic Acid by Vektor\n",
      "Searching for \"Asteroid\" by Vektor...\n"
     ]
    },
    {
     "name": "stderr",
     "output_type": "stream",
     "text": [
      "\r",
      "  1%|▌                                                                             | 60/8465 [00:28<1:26:30,  1.62it/s]"
     ]
    },
    {
     "name": "stdout",
     "output_type": "stream",
     "text": [
      "Done.\n",
      "Lyrics grabbed for Asteroid by Vektor\n",
      "Searching for \"Dark Nebula\" by Vektor...\n"
     ]
    },
    {
     "name": "stderr",
     "output_type": "stream",
     "text": [
      "\r",
      "  1%|▌                                                                             | 61/8465 [00:29<1:26:40,  1.62it/s]"
     ]
    },
    {
     "name": "stdout",
     "output_type": "stream",
     "text": [
      "Done.\n",
      "Lyrics grabbed for Dark Nebula by Vektor\n",
      "Searching for \"Accelerating Universe\" by Vektor...\n"
     ]
    },
    {
     "name": "stderr",
     "output_type": "stream",
     "text": [
      "\r",
      "  1%|▌                                                                             | 62/8465 [00:30<1:26:37,  1.62it/s]"
     ]
    },
    {
     "name": "stdout",
     "output_type": "stream",
     "text": [
      "Done.\n",
      "Lyrics grabbed for Accelerating Universe by Vektor\n",
      "Searching for \"Dark Horse\" by Converge...\n"
     ]
    },
    {
     "name": "stderr",
     "output_type": "stream",
     "text": [
      "\r",
      "  1%|▌                                                                             | 63/8465 [00:30<1:30:42,  1.54it/s]"
     ]
    },
    {
     "name": "stdout",
     "output_type": "stream",
     "text": [
      "Done.\n",
      "Lyrics grabbed for Dark Horse by Converge\n",
      "Searching for \"Reap What You Sow\" by Converge...\n"
     ]
    },
    {
     "name": "stderr",
     "output_type": "stream",
     "text": [
      "\r",
      "  1%|▌                                                                             | 64/8465 [00:31<1:28:48,  1.58it/s]"
     ]
    },
    {
     "name": "stdout",
     "output_type": "stream",
     "text": [
      "Done.\n",
      "Lyrics grabbed for Reap What You Sow by Converge\n",
      "Searching for \"Axe To Fall\" by Converge...\n"
     ]
    },
    {
     "name": "stderr",
     "output_type": "stream",
     "text": [
      "\r",
      "  1%|▌                                                                             | 65/8465 [00:32<1:27:10,  1.61it/s]"
     ]
    },
    {
     "name": "stdout",
     "output_type": "stream",
     "text": [
      "Done.\n",
      "Lyrics grabbed for Axe To Fall by Converge\n",
      "Searching for \"Effigy\" by Converge...\n"
     ]
    },
    {
     "name": "stderr",
     "output_type": "stream",
     "text": [
      "\r",
      "  1%|▌                                                                             | 66/8465 [00:32<1:28:26,  1.58it/s]"
     ]
    },
    {
     "name": "stdout",
     "output_type": "stream",
     "text": [
      "Done.\n",
      "Lyrics grabbed for Effigy by Converge\n",
      "Searching for \"Worms Will Feed / Rats Will Feast\" by Converge...\n"
     ]
    },
    {
     "name": "stderr",
     "output_type": "stream",
     "text": [
      "\r",
      "  1%|▌                                                                             | 67/8465 [00:33<1:28:00,  1.59it/s]"
     ]
    },
    {
     "name": "stdout",
     "output_type": "stream",
     "text": [
      "Done.\n",
      "Lyrics grabbed for Worms Will Feed / Rats Will Feast by Converge\n",
      "Searching for \"Wishing Well\" by Converge...\n"
     ]
    },
    {
     "name": "stderr",
     "output_type": "stream",
     "text": [
      "\r",
      "  1%|▋                                                                             | 68/8465 [00:34<1:28:33,  1.58it/s]"
     ]
    },
    {
     "name": "stdout",
     "output_type": "stream",
     "text": [
      "Done.\n",
      "Lyrics grabbed for Wishing Well by Converge\n",
      "Searching for \"Damages\" by Converge...\n"
     ]
    },
    {
     "name": "stderr",
     "output_type": "stream",
     "text": [
      "\r",
      "  1%|▋                                                                             | 69/8465 [00:34<1:27:32,  1.60it/s]"
     ]
    },
    {
     "name": "stdout",
     "output_type": "stream",
     "text": [
      "Done.\n",
      "Lyrics grabbed for Damages by Converge\n",
      "Searching for \"Losing Battle\" by Converge...\n"
     ]
    },
    {
     "name": "stderr",
     "output_type": "stream",
     "text": [
      "\r",
      "  1%|▋                                                                             | 70/8465 [00:35<1:29:48,  1.56it/s]"
     ]
    },
    {
     "name": "stdout",
     "output_type": "stream",
     "text": [
      "Done.\n",
      "Lyrics grabbed for Losing Battle by Converge\n",
      "Searching for \"Dead Beat\" by Converge...\n"
     ]
    },
    {
     "name": "stderr",
     "output_type": "stream",
     "text": [
      "\r",
      "  1%|▋                                                                             | 71/8465 [00:35<1:29:03,  1.57it/s]"
     ]
    },
    {
     "name": "stdout",
     "output_type": "stream",
     "text": [
      "Done.\n",
      "Lyrics grabbed for Dead Beat by Converge\n",
      "Searching for \"Cutter\" by Converge...\n"
     ]
    },
    {
     "name": "stderr",
     "output_type": "stream",
     "text": [
      "\r",
      "  1%|▋                                                                             | 72/8465 [00:36<1:29:08,  1.57it/s]"
     ]
    },
    {
     "name": "stdout",
     "output_type": "stream",
     "text": [
      "Done.\n",
      "Lyrics grabbed for Cutter by Converge\n",
      "Searching for \"Slave Driver\" by Converge...\n"
     ]
    },
    {
     "name": "stderr",
     "output_type": "stream",
     "text": [
      "\r",
      "  1%|▋                                                                             | 73/8465 [00:37<1:27:55,  1.59it/s]"
     ]
    },
    {
     "name": "stdout",
     "output_type": "stream",
     "text": [
      "Done.\n",
      "Lyrics grabbed for Slave Driver by Converge\n",
      "Searching for \"Cruel Bloom\" by Converge...\n"
     ]
    },
    {
     "name": "stderr",
     "output_type": "stream",
     "text": [
      "\r",
      "  1%|▋                                                                             | 74/8465 [00:37<1:28:19,  1.58it/s]"
     ]
    },
    {
     "name": "stdout",
     "output_type": "stream",
     "text": [
      "Done.\n",
      "Lyrics grabbed for Cruel Bloom by Converge\n",
      "Searching for \"Wretched World\" by Converge...\n"
     ]
    },
    {
     "name": "stderr",
     "output_type": "stream",
     "text": [
      "\r",
      "  1%|▋                                                                             | 75/8465 [00:38<1:26:47,  1.61it/s]"
     ]
    },
    {
     "name": "stdout",
     "output_type": "stream",
     "text": [
      "Done.\n",
      "Lyrics grabbed for Wretched World by Converge\n",
      "Searching for \"Drown Within\" by Ulcerate...\n"
     ]
    },
    {
     "name": "stderr",
     "output_type": "stream",
     "text": [
      "\r",
      "  1%|▋                                                                             | 76/8465 [00:39<1:26:06,  1.62it/s]"
     ]
    },
    {
     "name": "stdout",
     "output_type": "stream",
     "text": [
      "Done.\n",
      "Lyrics grabbed for Drown Within by Ulcerate\n",
      "Searching for \"We Are Nil\" by Ulcerate...\n"
     ]
    },
    {
     "name": "stderr",
     "output_type": "stream",
     "text": [
      "\r",
      "  1%|▋                                                                             | 77/8465 [00:39<1:24:55,  1.65it/s]"
     ]
    },
    {
     "name": "stdout",
     "output_type": "stream",
     "text": [
      "Done.\n",
      "Lyrics grabbed for We Are Nil by Ulcerate\n",
      "Searching for \"Withered And Obsolete\" by Ulcerate...\n"
     ]
    },
    {
     "name": "stderr",
     "output_type": "stream",
     "text": [
      "\r",
      "  1%|▋                                                                             | 78/8465 [00:40<1:25:56,  1.63it/s]"
     ]
    },
    {
     "name": "stdout",
     "output_type": "stream",
     "text": [
      "Done.\n",
      "Lyrics grabbed for Withered And Obsolete by Ulcerate\n",
      "Searching for \"Caecus\" by Ulcerate...\n"
     ]
    },
    {
     "name": "stderr",
     "output_type": "stream",
     "text": [
      "\r",
      "  1%|▋                                                                             | 79/8465 [00:40<1:25:55,  1.63it/s]"
     ]
    },
    {
     "name": "stdout",
     "output_type": "stream",
     "text": [
      "Done.\n",
      "Lyrics grabbed for Caecus by Ulcerate\n",
      "Searching for \"Tyranny\" by Ulcerate...\n"
     ]
    },
    {
     "name": "stderr",
     "output_type": "stream",
     "text": [
      "\r",
      "  1%|▋                                                                             | 80/8465 [00:41<1:25:56,  1.63it/s]"
     ]
    },
    {
     "name": "stdout",
     "output_type": "stream",
     "text": [
      "Done.\n",
      "Lyrics grabbed for Tyranny by Ulcerate\n",
      "Searching for \"The Earth At Its Knees\" by Ulcerate...\n"
     ]
    },
    {
     "name": "stderr",
     "output_type": "stream",
     "text": [
      "\r",
      "  1%|▋                                                                             | 81/8465 [00:42<1:25:29,  1.63it/s]"
     ]
    },
    {
     "name": "stdout",
     "output_type": "stream",
     "text": [
      "Done.\n",
      "Lyrics grabbed for The Earth At Its Knees by Ulcerate\n",
      "Searching for \"Soullessness Embraced\" by Ulcerate...\n"
     ]
    },
    {
     "name": "stderr",
     "output_type": "stream",
     "text": [
      "\r",
      "  1%|▊                                                                             | 82/8465 [00:42<1:25:11,  1.64it/s]"
     ]
    },
    {
     "name": "stdout",
     "output_type": "stream",
     "text": [
      "Done.\n",
      "Lyrics grabbed for Soullessness Embraced by Ulcerate\n",
      "Searching for \"Everything Is Fire\" by Ulcerate...\n"
     ]
    },
    {
     "name": "stderr",
     "output_type": "stream",
     "text": [
      "\r",
      "  1%|▊                                                                             | 83/8465 [00:43<1:25:45,  1.63it/s]"
     ]
    },
    {
     "name": "stdout",
     "output_type": "stream",
     "text": [
      "Done.\n",
      "Lyrics grabbed for Everything Is Fire by Ulcerate\n",
      "Searching for \"Boiled Angel\" by Dragged Into Sunlight...\n"
     ]
    },
    {
     "name": "stderr",
     "output_type": "stream",
     "text": [
      "\r",
      "  1%|▊                                                                             | 84/8465 [00:44<1:28:48,  1.57it/s]"
     ]
    },
    {
     "name": "stdout",
     "output_type": "stream",
     "text": [
      "Done.\n",
      "Lyrics grabbed for Boiled Angel by Dragged Into Sunlight\n",
      "Searching for \"Buried With Leeches\" by Dragged Into Sunlight...\n"
     ]
    },
    {
     "name": "stderr",
     "output_type": "stream",
     "text": [
      "\r",
      "  1%|▊                                                                             | 85/8465 [00:44<1:27:28,  1.60it/s]"
     ]
    },
    {
     "name": "stdout",
     "output_type": "stream",
     "text": [
      "Done.\n",
      "Lyrics grabbed for Buried With Leeches by Dragged Into Sunlight\n",
      "Searching for \"Volcanic Birth\" by Dragged Into Sunlight...\n"
     ]
    },
    {
     "name": "stderr",
     "output_type": "stream",
     "text": [
      "\r",
      "  1%|▊                                                                             | 86/8465 [00:45<1:27:14,  1.60it/s]"
     ]
    },
    {
     "name": "stdout",
     "output_type": "stream",
     "text": [
      "Done.\n",
      "Lyrics grabbed for Volcanic Birth by Dragged Into Sunlight\n",
      "Searching for \"To Hieron\" by Dragged Into Sunlight...\n"
     ]
    },
    {
     "name": "stderr",
     "output_type": "stream",
     "text": [
      "\r",
      "  1%|▊                                                                             | 87/8465 [00:45<1:25:45,  1.63it/s]"
     ]
    },
    {
     "name": "stdout",
     "output_type": "stream",
     "text": [
      "Done.\n",
      "Lyrics grabbed for To Hieron by Dragged Into Sunlight\n",
      "Searching for \"Lashed to the Grinder and Stoned to Death\" by Dragged Into Sunlight...\n"
     ]
    },
    {
     "name": "stderr",
     "output_type": "stream",
     "text": [
      "\r",
      "  1%|▊                                                                             | 88/8465 [00:46<1:24:54,  1.64it/s]"
     ]
    },
    {
     "name": "stdout",
     "output_type": "stream",
     "text": [
      "Done.\n",
      "Lyrics grabbed for Lashed to the Grinder and Stoned to Death by Dragged Into Sunlight\n",
      "Searching for \"I, Aurora\" by Dragged Into Sunlight...\n"
     ]
    },
    {
     "name": "stderr",
     "output_type": "stream",
     "text": [
      "\r",
      "  1%|▊                                                                             | 89/8465 [00:47<1:24:17,  1.66it/s]"
     ]
    },
    {
     "name": "stdout",
     "output_type": "stream",
     "text": [
      "Done.\n",
      "Lyrics grabbed for I, Aurora by Dragged Into Sunlight\n",
      "Searching for \"Totem of Skulls\" by Dragged Into Sunlight...\n"
     ]
    },
    {
     "name": "stderr",
     "output_type": "stream",
     "text": [
      "\r",
      "  1%|▊                                                                             | 90/8465 [00:47<1:11:37,  1.95it/s]"
     ]
    },
    {
     "name": "stdout",
     "output_type": "stream",
     "text": [
      "Specified song does not contain lyrics. Rejecting.\n",
      "Could not find Totem of Skulls by Dragged Into Sunlight\n",
      "Searching for \"ハカイヨノユメ\" by Ling Tosite Sigure 凛として時雨...\n"
     ]
    },
    {
     "name": "stderr",
     "output_type": "stream",
     "text": [
      "\r",
      "  1%|▊                                                                             | 91/8465 [00:47<1:15:36,  1.85it/s]"
     ]
    },
    {
     "name": "stdout",
     "output_type": "stream",
     "text": [
      "Done.\n",
      "Lyrics grabbed for ハカイヨノユメ by Ling Tosite Sigure 凛として時雨\n",
      "Searching for \"Hysteric phase show\" by Ling Tosite Sigure 凛として時雨...\n"
     ]
    },
    {
     "name": "stderr",
     "output_type": "stream",
     "text": [
      "\r",
      "  1%|▊                                                                             | 92/8465 [00:48<1:17:35,  1.80it/s]"
     ]
    },
    {
     "name": "stdout",
     "output_type": "stream",
     "text": [
      "Done.\n",
      "Lyrics grabbed for Hysteric phase show by Ling Tosite Sigure 凛として時雨\n",
      "Searching for \"Tremolo+A\" by Ling Tosite Sigure 凛として時雨...\n"
     ]
    },
    {
     "name": "stderr",
     "output_type": "stream",
     "text": [
      "\r",
      "  1%|▊                                                                             | 93/8465 [00:49<1:22:11,  1.70it/s]"
     ]
    },
    {
     "name": "stdout",
     "output_type": "stream",
     "text": [
      "Done.\n",
      "Lyrics grabbed for Tremolo+A by Ling Tosite Sigure 凛として時雨\n",
      "Searching for \"JPOP Xfile\" by Ling Tosite Sigure 凛として時雨...\n"
     ]
    },
    {
     "name": "stderr",
     "output_type": "stream",
     "text": [
      "\r",
      "  1%|▊                                                                             | 94/8465 [00:49<1:23:06,  1.68it/s]"
     ]
    },
    {
     "name": "stdout",
     "output_type": "stream",
     "text": [
      "Done.\n",
      "Lyrics grabbed for JPOP Xfile by Ling Tosite Sigure 凛として時雨\n",
      "Searching for \"a 7days wonder\" by Ling Tosite Sigure 凛として時雨...\n"
     ]
    },
    {
     "name": "stderr",
     "output_type": "stream",
     "text": [
      "\r",
      "  1%|▉                                                                             | 95/8465 [00:50<1:23:28,  1.67it/s]"
     ]
    },
    {
     "name": "stdout",
     "output_type": "stream",
     "text": [
      "Done.\n",
      "Lyrics grabbed for a 7days wonder by Ling Tosite Sigure 凛として時雨\n",
      "Searching for \"a over die\" by Ling Tosite Sigure 凛として時雨...\n"
     ]
    },
    {
     "name": "stderr",
     "output_type": "stream",
     "text": [
      "\r",
      "  1%|▉                                                                             | 96/8465 [00:50<1:22:23,  1.69it/s]"
     ]
    },
    {
     "name": "stdout",
     "output_type": "stream",
     "text": [
      "Done.\n",
      "Lyrics grabbed for a over die by Ling Tosite Sigure 凛として時雨\n",
      "Searching for \"Telecastic fake show\" by Ling Tosite Sigure 凛として時雨...\n"
     ]
    },
    {
     "name": "stderr",
     "output_type": "stream",
     "text": [
      "\r",
      "  1%|▉                                                                             | 97/8465 [00:51<1:23:47,  1.66it/s]"
     ]
    },
    {
     "name": "stdout",
     "output_type": "stream",
     "text": [
      "Done.\n",
      "Lyrics grabbed for Telecastic fake show by Ling Tosite Sigure 凛として時雨\n",
      "Searching for \"seacret cm\" by Ling Tosite Sigure 凛として時雨...\n"
     ]
    },
    {
     "name": "stderr",
     "output_type": "stream",
     "text": [
      "\r",
      "  1%|▉                                                                             | 98/8465 [00:52<1:25:17,  1.63it/s]"
     ]
    },
    {
     "name": "stdout",
     "output_type": "stream",
     "text": [
      "Done.\n",
      "Lyrics grabbed for seacret cm by Ling Tosite Sigure 凛として時雨\n",
      "Searching for \"moment A rhythm (short ver. / remastered at METROPOLIS)\" by Ling Tosite Sigure 凛として時雨...\n"
     ]
    },
    {
     "name": "stderr",
     "output_type": "stream",
     "text": [
      "\r",
      "  1%|▉                                                                             | 99/8465 [00:52<1:10:48,  1.97it/s]"
     ]
    },
    {
     "name": "stdout",
     "output_type": "stream",
     "text": [
      "No results found for: 'moment A rhythm (short ver. / remastered at METROPOLIS) Ling Tosite Sigure 凛として時雨'\n",
      "Could not find moment A rhythm (short ver. / remastered at METROPOLIS) by Ling Tosite Sigure 凛として時雨\n",
      "Searching for \"mib126\" by Ling Tosite Sigure 凛として時雨...\n"
     ]
    },
    {
     "name": "stderr",
     "output_type": "stream",
     "text": [
      "\r",
      "  1%|▉                                                                            | 100/8465 [00:53<1:16:51,  1.81it/s]"
     ]
    },
    {
     "name": "stdout",
     "output_type": "stream",
     "text": [
      "Done.\n",
      "Lyrics grabbed for mib126 by Ling Tosite Sigure 凛として時雨\n",
      "Searching for \"ここには何もかもがあるし、何もかもがない\" by toe...\n"
     ]
    },
    {
     "name": "stderr",
     "output_type": "stream",
     "text": [
      "\r",
      "  1%|▉                                                                            | 101/8465 [00:53<1:05:38,  2.12it/s]"
     ]
    },
    {
     "name": "stdout",
     "output_type": "stream",
     "text": [
      "No results found for: 'ここには何もかもがあるし、何もかもがない toe'\n",
      "Could not find ここには何もかもがあるし、何もかもがない by toe\n",
      "Searching for \"ショウシツ点よ笛\" by toe...\n"
     ]
    },
    {
     "name": "stderr",
     "output_type": "stream",
     "text": [
      "\r",
      "  1%|▉                                                                              | 102/8465 [00:53<59:38,  2.34it/s]"
     ]
    },
    {
     "name": "stdout",
     "output_type": "stream",
     "text": [
      "Specified song does not contain lyrics. Rejecting.\n",
      "Could not find ショウシツ点よ笛 by toe\n",
      "Searching for \"after image\" by toe...\n"
     ]
    },
    {
     "name": "stderr",
     "output_type": "stream",
     "text": [
      "\r",
      "  1%|▉                                                                            | 103/8465 [00:54<1:07:06,  2.08it/s]"
     ]
    },
    {
     "name": "stdout",
     "output_type": "stream",
     "text": [
      "Done.\n",
      "Lyrics grabbed for after image by toe\n",
      "Searching for \"エソテリック\" by toe...\n"
     ]
    },
    {
     "name": "stderr",
     "output_type": "stream",
     "text": [
      "\r",
      "  1%|▉                                                                              | 104/8465 [00:54<58:34,  2.38it/s]"
     ]
    },
    {
     "name": "stdout",
     "output_type": "stream",
     "text": [
      "Specified song does not contain lyrics. Rejecting.\n",
      "Could not find エソテリック by toe\n",
      "Searching for \"say it ain't so\" by toe...\n"
     ]
    },
    {
     "name": "stderr",
     "output_type": "stream",
     "text": [
      "\r",
      "  1%|▉                                                                            | 105/8465 [00:55<1:06:06,  2.11it/s]"
     ]
    },
    {
     "name": "stdout",
     "output_type": "stream",
     "text": [
      "Done.\n",
      "Lyrics grabbed for say it ain't so by toe\n",
      "Searching for \"two moons\" by toe...\n"
     ]
    },
    {
     "name": "stderr",
     "output_type": "stream",
     "text": [
      "\r",
      "  1%|▉                                                                              | 106/8465 [00:55<57:39,  2.42it/s]"
     ]
    },
    {
     "name": "stdout",
     "output_type": "stream",
     "text": [
      "Specified song does not contain lyrics. Rejecting.\n",
      "Could not find two moons by toe\n",
      "Searching for \"モスキートンはもう聞こえない#1\" by toe...\n"
     ]
    },
    {
     "name": "stderr",
     "output_type": "stream",
     "text": [
      "\r",
      "  1%|▉                                                                              | 107/8465 [00:55<51:56,  2.68it/s]"
     ]
    },
    {
     "name": "stdout",
     "output_type": "stream",
     "text": [
      "Specified song does not contain lyrics. Rejecting.\n",
      "Could not find モスキートンはもう聞こえない#1 by toe\n",
      "Searching for \"モスキートンはもう聞こえない#2\" by toe...\n"
     ]
    },
    {
     "name": "stderr",
     "output_type": "stream",
     "text": [
      "\r",
      "  1%|█                                                                              | 108/8465 [00:56<48:06,  2.90it/s]"
     ]
    },
    {
     "name": "stdout",
     "output_type": "stream",
     "text": [
      "Specified song does not contain lyrics. Rejecting.\n",
      "Could not find モスキートンはもう聞こえない#2 by toe\n",
      "Searching for \"ラストナイト -album version-\" by toe...\n"
     ]
    },
    {
     "name": "stderr",
     "output_type": "stream",
     "text": [
      "\r",
      "  1%|█                                                                              | 109/8465 [00:56<45:59,  3.03it/s]"
     ]
    },
    {
     "name": "stdout",
     "output_type": "stream",
     "text": [
      "No results found for: 'ラストナイト -album version- toe'\n",
      "Could not find ラストナイト -album version- by toe\n",
      "Searching for \"グッドバイ -album version-\" by toe...\n"
     ]
    },
    {
     "name": "stderr",
     "output_type": "stream",
     "text": [
      "\r",
      "  1%|█                                                                              | 110/8465 [00:56<45:09,  3.08it/s]"
     ]
    },
    {
     "name": "stdout",
     "output_type": "stream",
     "text": [
      "No results found for: 'グッドバイ -album version- toe'\n",
      "Could not find グッドバイ -album version- by toe\n",
      "Searching for \"you go\" by toe...\n"
     ]
    },
    {
     "name": "stderr",
     "output_type": "stream",
     "text": [
      "\r",
      "  1%|█                                                                              | 111/8465 [00:56<43:29,  3.20it/s]"
     ]
    },
    {
     "name": "stdout",
     "output_type": "stream",
     "text": [
      "Specified song does not contain lyrics. Rejecting.\n",
      "Could not find you go by toe\n",
      "Searching for \"our next movement\" by toe...\n"
     ]
    },
    {
     "name": "stderr",
     "output_type": "stream",
     "text": [
      "\r",
      "  1%|█                                                                              | 112/8465 [00:57<42:06,  3.31it/s]"
     ]
    },
    {
     "name": "stdout",
     "output_type": "stream",
     "text": [
      "Specified song does not contain lyrics. Rejecting.\n",
      "Could not find our next movement by toe\n",
      "Searching for \"long tomorrow\" by toe...\n"
     ]
    },
    {
     "name": "stderr",
     "output_type": "stream",
     "text": [
      "\r",
      "  1%|█                                                                              | 113/8465 [00:57<41:06,  3.39it/s]"
     ]
    },
    {
     "name": "stdout",
     "output_type": "stream",
     "text": [
      "Specified song does not contain lyrics. Rejecting.\n",
      "Could not find long tomorrow by toe\n",
      "Searching for \"Ëmëhntëhtt-Ré I\" by Magma...\n"
     ]
    },
    {
     "name": "stderr",
     "output_type": "stream",
     "text": [
      "\r",
      "  1%|█                                                                              | 114/8465 [00:58<54:45,  2.54it/s]"
     ]
    },
    {
     "name": "stdout",
     "output_type": "stream",
     "text": [
      "Done.\n",
      "Lyrics grabbed for Ëmëhntëhtt-Ré I by Magma\n",
      "Searching for \"Ëmëhntëhtt-Ré II\" by Magma...\n"
     ]
    },
    {
     "name": "stderr",
     "output_type": "stream",
     "text": [
      "\r",
      "  1%|█                                                                            | 115/8465 [00:58<1:04:02,  2.17it/s]"
     ]
    },
    {
     "name": "stdout",
     "output_type": "stream",
     "text": [
      "Done.\n",
      "Lyrics grabbed for Ëmëhntëhtt-Ré II by Magma\n",
      "Searching for \"Emëhntëhtt-Ré III\" by Magma...\n"
     ]
    },
    {
     "name": "stderr",
     "output_type": "stream",
     "text": [
      "\r",
      "  1%|█                                                                              | 116/8465 [00:59<56:20,  2.47it/s]"
     ]
    },
    {
     "name": "stdout",
     "output_type": "stream",
     "text": [
      "No results found for: 'Emëhntëhtt-Ré III Magma'\n",
      "Could not find Emëhntëhtt-Ré III by Magma\n",
      "Searching for \"Emëhntëhtt-Ré IV\" by Magma...\n"
     ]
    },
    {
     "name": "stderr",
     "output_type": "stream",
     "text": [
      "\r",
      "  1%|█                                                                              | 117/8465 [00:59<50:29,  2.76it/s]"
     ]
    },
    {
     "name": "stdout",
     "output_type": "stream",
     "text": [
      "No results found for: 'Emëhntëhtt-Ré IV Magma'\n",
      "Could not find Emëhntëhtt-Ré IV by Magma\n",
      "Searching for \"Funëhrarïum Kanht\" by Magma...\n"
     ]
    },
    {
     "name": "stderr",
     "output_type": "stream",
     "text": [
      "\r",
      "  1%|█                                                                            | 118/8465 [00:59<1:02:37,  2.22it/s]"
     ]
    },
    {
     "name": "stdout",
     "output_type": "stream",
     "text": [
      "Done.\n",
      "Lyrics grabbed for Funëhrarïum Kanht by Magma\n",
      "Searching for \"Sêhë\" by Magma...\n"
     ]
    },
    {
     "name": "stderr",
     "output_type": "stream",
     "text": [
      "\r",
      "  1%|█                                                                            | 119/8465 [01:00<1:10:14,  1.98it/s]"
     ]
    },
    {
     "name": "stdout",
     "output_type": "stream",
     "text": [
      "Done.\n",
      "Lyrics grabbed for Sêhë by Magma\n",
      "Searching for \"Jim Cain\" by Bill Callahan...\n"
     ]
    },
    {
     "name": "stderr",
     "output_type": "stream",
     "text": [
      "\r",
      "  1%|█                                                                            | 120/8465 [01:01<1:16:38,  1.81it/s]"
     ]
    },
    {
     "name": "stdout",
     "output_type": "stream",
     "text": [
      "Done.\n",
      "Lyrics grabbed for Jim Cain by Bill Callahan\n",
      "Searching for \"Eid Ma Clack Shaw\" by Bill Callahan...\n"
     ]
    },
    {
     "name": "stderr",
     "output_type": "stream",
     "text": [
      "\r",
      "  1%|█                                                                            | 121/8465 [01:01<1:20:14,  1.73it/s]"
     ]
    },
    {
     "name": "stdout",
     "output_type": "stream",
     "text": [
      "Done.\n",
      "Lyrics grabbed for Eid Ma Clack Shaw by Bill Callahan\n",
      "Searching for \"The Wind and The Dove\" by Bill Callahan...\n"
     ]
    },
    {
     "name": "stderr",
     "output_type": "stream",
     "text": [
      "\r",
      "  1%|█                                                                            | 122/8465 [01:02<1:21:20,  1.71it/s]"
     ]
    },
    {
     "name": "stdout",
     "output_type": "stream",
     "text": [
      "Done.\n",
      "Lyrics grabbed for The Wind and The Dove by Bill Callahan\n",
      "Searching for \"Rococo Zephyr\" by Bill Callahan...\n"
     ]
    },
    {
     "name": "stderr",
     "output_type": "stream",
     "text": [
      "\r",
      "  1%|█                                                                            | 123/8465 [01:03<1:21:04,  1.71it/s]"
     ]
    },
    {
     "name": "stdout",
     "output_type": "stream",
     "text": [
      "Done.\n",
      "Lyrics grabbed for Rococo Zephyr by Bill Callahan\n",
      "Searching for \"Too Many Birds\" by Bill Callahan...\n"
     ]
    },
    {
     "name": "stderr",
     "output_type": "stream",
     "text": [
      "\r",
      "  1%|█▏                                                                           | 124/8465 [01:03<1:22:09,  1.69it/s]"
     ]
    },
    {
     "name": "stdout",
     "output_type": "stream",
     "text": [
      "Done.\n",
      "Lyrics grabbed for Too Many Birds by Bill Callahan\n",
      "Searching for \"My Friend\" by Bill Callahan...\n"
     ]
    },
    {
     "name": "stderr",
     "output_type": "stream",
     "text": [
      "\r",
      "  1%|█▏                                                                           | 125/8465 [01:04<1:23:22,  1.67it/s]"
     ]
    },
    {
     "name": "stdout",
     "output_type": "stream",
     "text": [
      "Done.\n",
      "Lyrics grabbed for My Friend by Bill Callahan\n",
      "Searching for \"All Thoughts Are Prey To Some Beast\" by Bill Callahan...\n"
     ]
    },
    {
     "name": "stderr",
     "output_type": "stream",
     "text": [
      "\r",
      "  1%|█▏                                                                           | 126/8465 [01:04<1:23:12,  1.67it/s]"
     ]
    },
    {
     "name": "stdout",
     "output_type": "stream",
     "text": [
      "Done.\n",
      "Lyrics grabbed for All Thoughts Are Prey To Some Beast by Bill Callahan\n",
      "Searching for \"Invocation of Ratiocination\" by Bill Callahan...\n"
     ]
    },
    {
     "name": "stderr",
     "output_type": "stream",
     "text": [
      "\r",
      "  2%|█▏                                                                           | 127/8465 [01:05<1:09:15,  2.01it/s]"
     ]
    },
    {
     "name": "stdout",
     "output_type": "stream",
     "text": [
      "Specified song does not contain lyrics. Rejecting.\n",
      "Could not find Invocation of Ratiocination by Bill Callahan\n",
      "Searching for \"Faith/Void\" by Bill Callahan...\n"
     ]
    },
    {
     "name": "stderr",
     "output_type": "stream",
     "text": [
      "\r",
      "  2%|█▏                                                                           | 128/8465 [01:05<1:15:04,  1.85it/s]"
     ]
    },
    {
     "name": "stdout",
     "output_type": "stream",
     "text": [
      "Done.\n",
      "Lyrics grabbed for Faith/Void by Bill Callahan\n",
      "Searching for \"Cold Chillin' Cold Chillin'\" by Bomb the Music Industry!...\n"
     ]
    },
    {
     "name": "stderr",
     "output_type": "stream",
     "text": [
      "\r",
      "  2%|█▏                                                                           | 129/8465 [01:06<1:19:54,  1.74it/s]"
     ]
    },
    {
     "name": "stdout",
     "output_type": "stream",
     "text": [
      "Done.\n",
      "Lyrics grabbed for Cold Chillin' Cold Chillin' by Bomb the Music Industry!\n",
      "Searching for \"Stuff That I Like\" by Bomb the Music Industry!...\n"
     ]
    },
    {
     "name": "stderr",
     "output_type": "stream",
     "text": [
      "\r",
      "  2%|█▏                                                                           | 130/8465 [01:07<1:25:35,  1.62it/s]"
     ]
    },
    {
     "name": "stdout",
     "output_type": "stream",
     "text": [
      "Done.\n",
      "Lyrics grabbed for Stuff That I Like by Bomb the Music Industry!\n",
      "Searching for \"It Shits!!!\" by Bomb the Music Industry!...\n"
     ]
    },
    {
     "name": "stderr",
     "output_type": "stream",
     "text": [
      "\r",
      "  2%|█▏                                                                           | 131/8465 [01:07<1:24:30,  1.64it/s]"
     ]
    },
    {
     "name": "stdout",
     "output_type": "stream",
     "text": [
      "Done.\n",
      "Lyrics grabbed for It Shits!!! by Bomb the Music Industry!\n",
      "Searching for \"Fresh Attitude, Young Body\" by Bomb the Music Industry!...\n"
     ]
    },
    {
     "name": "stderr",
     "output_type": "stream",
     "text": [
      "\r",
      "  2%|█▏                                                                           | 132/8465 [01:08<1:24:26,  1.64it/s]"
     ]
    },
    {
     "name": "stdout",
     "output_type": "stream",
     "text": [
      "Done.\n",
      "Lyrics grabbed for Fresh Attitude, Young Body by Bomb the Music Industry!\n",
      "Searching for \"Wednesday Night Drinkball\" by Bomb the Music Industry!...\n"
     ]
    },
    {
     "name": "stderr",
     "output_type": "stream",
     "text": [
      "\r",
      "  2%|█▏                                                                           | 133/8465 [01:09<1:27:30,  1.59it/s]"
     ]
    },
    {
     "name": "stdout",
     "output_type": "stream",
     "text": [
      "Done.\n",
      "Lyrics grabbed for Wednesday Night Drinkball by Bomb the Music Industry!\n",
      "Searching for \"25!\" by Bomb the Music Industry!...\n"
     ]
    },
    {
     "name": "stderr",
     "output_type": "stream",
     "text": [
      "\r",
      "  2%|█▏                                                                           | 134/8465 [01:09<1:26:05,  1.61it/s]"
     ]
    },
    {
     "name": "stdout",
     "output_type": "stream",
     "text": [
      "Done.\n",
      "Lyrics grabbed for 25! by Bomb the Music Industry!\n",
      "Searching for \"$2,400,000\" by Bomb the Music Industry!...\n"
     ]
    },
    {
     "name": "stderr",
     "output_type": "stream",
     "text": [
      "\r",
      "  2%|█▏                                                                           | 135/8465 [01:10<1:23:51,  1.66it/s]"
     ]
    },
    {
     "name": "stdout",
     "output_type": "stream",
     "text": [
      "Done.\n",
      "Lyrics grabbed for $2,400,000 by Bomb the Music Industry!\n",
      "Searching for \"Gang of Four Meets the Stooges (But Boring)\" by Bomb the Music Industry!...\n"
     ]
    },
    {
     "name": "stderr",
     "output_type": "stream",
     "text": [
      "\r",
      "  2%|█▏                                                                           | 136/8465 [01:10<1:23:59,  1.65it/s]"
     ]
    },
    {
     "name": "stdout",
     "output_type": "stream",
     "text": [
      "Done.\n",
      "Lyrics grabbed for Gang of Four Meets the Stooges (But Boring) by Bomb the Music Industry!\n",
      "Searching for \"9/11 Fever!!!\" by Bomb the Music Industry!...\n"
     ]
    },
    {
     "name": "stderr",
     "output_type": "stream",
     "text": [
      "\r",
      "  2%|█▏                                                                           | 137/8465 [01:11<1:26:22,  1.61it/s]"
     ]
    },
    {
     "name": "stdout",
     "output_type": "stream",
     "text": [
      "Done.\n",
      "Lyrics grabbed for 9/11 Fever!!! by Bomb the Music Industry!\n",
      "Searching for \"(Shut) Up the Punx!!!\" by Bomb the Music Industry!...\n"
     ]
    },
    {
     "name": "stderr",
     "output_type": "stream",
     "text": [
      "\r",
      "  2%|█▎                                                                           | 138/8465 [01:12<1:27:56,  1.58it/s]"
     ]
    },
    {
     "name": "stdout",
     "output_type": "stream",
     "text": [
      "Done.\n",
      "Lyrics grabbed for (Shut) Up the Punx!!! by Bomb the Music Industry!\n",
      "Searching for \"Can I Pay My Rent in Fun?\" by Bomb the Music Industry!...\n"
     ]
    },
    {
     "name": "stderr",
     "output_type": "stream",
     "text": [
      "\r",
      "  2%|█▎                                                                           | 139/8465 [01:12<1:26:55,  1.60it/s]"
     ]
    },
    {
     "name": "stdout",
     "output_type": "stream",
     "text": [
      "Done.\n",
      "Lyrics grabbed for Can I Pay My Rent in Fun? by Bomb the Music Industry!\n",
      "Searching for \"Saddr Weirdr\" by Bomb the Music Industry!...\n"
     ]
    },
    {
     "name": "stderr",
     "output_type": "stream",
     "text": [
      "\r",
      "  2%|█▎                                                                           | 140/8465 [01:13<1:28:28,  1.57it/s]"
     ]
    },
    {
     "name": "stdout",
     "output_type": "stream",
     "text": [
      "Done.\n",
      "Lyrics grabbed for Saddr Weirdr by Bomb the Music Industry!\n",
      "Searching for \"Sort of Like Being Pumped\" by Bomb the Music Industry!...\n"
     ]
    },
    {
     "name": "stderr",
     "output_type": "stream",
     "text": [
      "\r",
      "  2%|█▎                                                                           | 141/8465 [01:14<1:27:56,  1.58it/s]"
     ]
    },
    {
     "name": "stdout",
     "output_type": "stream",
     "text": [
      "Done.\n",
      "Lyrics grabbed for Sort of Like Being Pumped by Bomb the Music Industry!\n",
      "Searching for \"Entering a Superior Dimension\" by The Chasm...\n"
     ]
    },
    {
     "name": "stderr",
     "output_type": "stream",
     "text": [
      "\r",
      "  2%|█▎                                                                           | 142/8465 [01:14<1:26:22,  1.61it/s]"
     ]
    },
    {
     "name": "stdout",
     "output_type": "stream",
     "text": [
      "Done.\n",
      "Lyrics grabbed for Entering a Superior Dimension by The Chasm\n",
      "Searching for \"Callous Spectre/Vehement Opposition\" by The Chasm...\n"
     ]
    },
    {
     "name": "stderr",
     "output_type": "stream",
     "text": [
      "\r",
      "  2%|█▎                                                                           | 143/8465 [01:14<1:12:20,  1.92it/s]"
     ]
    },
    {
     "name": "stdout",
     "output_type": "stream",
     "text": [
      "No results found for: 'Callous Spectre/Vehement Opposition The Chasm'\n",
      "Could not find Callous Spectre/Vehement Opposition by The Chasm\n",
      "Searching for \"Fiery Rebirth\" by The Chasm...\n"
     ]
    },
    {
     "name": "stderr",
     "output_type": "stream",
     "text": [
      "\r",
      "  2%|█▎                                                                           | 144/8465 [01:15<1:16:39,  1.81it/s]"
     ]
    },
    {
     "name": "stdout",
     "output_type": "stream",
     "text": [
      "Done.\n",
      "Lyrics grabbed for Fiery Rebirth by The Chasm\n",
      "Searching for \"Farseeing\" by The Chasm...\n"
     ]
    },
    {
     "name": "stderr",
     "output_type": "stream",
     "text": [
      "\r",
      "  2%|█▎                                                                           | 145/8465 [01:16<1:23:30,  1.66it/s]"
     ]
    },
    {
     "name": "stdout",
     "output_type": "stream",
     "text": [
      "Done.\n",
      "Lyrics grabbed for Farseeing by The Chasm\n",
      "Searching for \"Structure of the Seance\" by The Chasm...\n"
     ]
    },
    {
     "name": "stderr",
     "output_type": "stream",
     "text": [
      "\r",
      "  2%|█▎                                                                           | 146/8465 [01:16<1:25:34,  1.62it/s]"
     ]
    },
    {
     "name": "stdout",
     "output_type": "stream",
     "text": [
      "Done.\n",
      "Lyrics grabbed for Structure of the Seance by The Chasm\n",
      "Searching for \"Vault to the Voyage\" by The Chasm...\n"
     ]
    },
    {
     "name": "stderr",
     "output_type": "stream",
     "text": [
      "\r",
      "  2%|█▎                                                                           | 147/8465 [01:17<1:27:47,  1.58it/s]"
     ]
    },
    {
     "name": "stdout",
     "output_type": "stream",
     "text": [
      "Done.\n",
      "Lyrics grabbed for Vault to the Voyage by The Chasm\n",
      "Searching for \"The Promised Ravage\" by The Chasm...\n"
     ]
    },
    {
     "name": "stderr",
     "output_type": "stream",
     "text": [
      "\r",
      "  2%|█▎                                                                           | 148/8465 [01:18<1:26:17,  1.61it/s]"
     ]
    },
    {
     "name": "stdout",
     "output_type": "stream",
     "text": [
      "Done.\n",
      "Lyrics grabbed for The Promised Ravage by The Chasm\n",
      "Searching for \"The Mission/Arrival to Hopeless Shores (Calling the Paranormal Abysm)\" by The Chasm...\n"
     ]
    },
    {
     "name": "stderr",
     "output_type": "stream",
     "text": [
      "\r",
      "  2%|█▎                                                                           | 149/8465 [01:18<1:25:43,  1.62it/s]"
     ]
    },
    {
     "name": "stdout",
     "output_type": "stream",
     "text": [
      "Done.\n",
      "Lyrics grabbed for The Mission/Arrival to Hopeless Shores (Calling the Paranormal Abysm) by The Chasm\n",
      "Searching for \"Perish Beneath\" by Funebrarum...\n"
     ]
    },
    {
     "name": "stderr",
     "output_type": "stream",
     "text": [
      "\r",
      "  2%|█▎                                                                           | 150/8465 [01:19<1:13:03,  1.90it/s]"
     ]
    },
    {
     "name": "stdout",
     "output_type": "stream",
     "text": [
      "No results found for: 'Perish Beneath Funebrarum'\n",
      "Could not find Perish Beneath by Funebrarum\n",
      "Searching for \"Grave Reaper\" by Funebrarum...\n"
     ]
    },
    {
     "name": "stderr",
     "output_type": "stream",
     "text": [
      "\r",
      "  2%|█▎                                                                           | 151/8465 [01:19<1:03:22,  2.19it/s]"
     ]
    },
    {
     "name": "stdout",
     "output_type": "stream",
     "text": [
      "No results found for: 'Grave Reaper Funebrarum'\n",
      "Could not find Grave Reaper by Funebrarum\n",
      "Searching for \". Beyond Recognition\" by Funebrarum...\n"
     ]
    },
    {
     "name": "stderr",
     "output_type": "stream",
     "text": [
      "\r",
      "  2%|█▍                                                                             | 152/8465 [01:19<56:02,  2.47it/s]"
     ]
    },
    {
     "name": "stdout",
     "output_type": "stream",
     "text": [
      "No results found for: '. Beyond Recognition Funebrarum'\n",
      "Could not find . Beyond Recognition by Funebrarum\n",
      "Searching for \"Cursed Eternity\" by Funebrarum...\n"
     ]
    },
    {
     "name": "stderr",
     "output_type": "stream",
     "text": [
      "\r",
      "  2%|█▍                                                                             | 153/8465 [01:19<51:37,  2.68it/s]"
     ]
    },
    {
     "name": "stdout",
     "output_type": "stream",
     "text": [
      "No results found for: 'Cursed Eternity Funebrarum'\n",
      "Could not find Cursed Eternity by Funebrarum\n",
      "Searching for \"Incineration of Mortal Flesh\" by Funebrarum...\n"
     ]
    },
    {
     "name": "stderr",
     "output_type": "stream",
     "text": [
      "\r",
      "  2%|█▍                                                                             | 154/8465 [01:20<47:41,  2.90it/s]"
     ]
    },
    {
     "name": "stdout",
     "output_type": "stream",
     "text": [
      "No results found for: 'Incineration of Mortal Flesh Funebrarum'\n",
      "Could not find Incineration of Mortal Flesh by Funebrarum\n",
      "Searching for \". Nex Monumentum\" by Funebrarum...\n"
     ]
    },
    {
     "name": "stderr",
     "output_type": "stream",
     "text": [
      "\r",
      "  2%|█▍                                                                             | 155/8465 [01:20<45:00,  3.08it/s]"
     ]
    },
    {
     "name": "stdout",
     "output_type": "stream",
     "text": [
      "No results found for: '. Nex Monumentum Funebrarum'\n",
      "Could not find . Nex Monumentum by Funebrarum\n",
      "Searching for \"Among The Exiled\" by Funebrarum...\n"
     ]
    },
    {
     "name": "stderr",
     "output_type": "stream",
     "text": [
      "\r",
      "  2%|█▍                                                                             | 156/8465 [01:20<42:35,  3.25it/s]"
     ]
    },
    {
     "name": "stdout",
     "output_type": "stream",
     "text": [
      "No results found for: 'Among The Exiled Funebrarum'\n",
      "Could not find Among The Exiled by Funebrarum\n",
      "Searching for \"Mirrors\" by Between the Buried and Me...\n"
     ]
    },
    {
     "name": "stderr",
     "output_type": "stream",
     "text": [
      "\r",
      "  2%|█▍                                                                             | 157/8465 [01:21<55:04,  2.51it/s]"
     ]
    },
    {
     "name": "stdout",
     "output_type": "stream",
     "text": [
      "Done.\n",
      "Lyrics grabbed for Mirrors by Between the Buried and Me\n",
      "Searching for \"Obfuscation\" by Between the Buried and Me...\n"
     ]
    },
    {
     "name": "stderr",
     "output_type": "stream",
     "text": [
      "\r",
      "  2%|█▍                                                                           | 158/8465 [01:22<1:03:15,  2.19it/s]"
     ]
    },
    {
     "name": "stdout",
     "output_type": "stream",
     "text": [
      "Done.\n",
      "Lyrics grabbed for Obfuscation by Between the Buried and Me\n",
      "Searching for \"Disease, Injury, Madness\" by Between the Buried and Me...\n"
     ]
    },
    {
     "name": "stderr",
     "output_type": "stream",
     "text": [
      "\r",
      "  2%|█▍                                                                           | 159/8465 [01:22<1:10:35,  1.96it/s]"
     ]
    },
    {
     "name": "stdout",
     "output_type": "stream",
     "text": [
      "Done.\n",
      "Lyrics grabbed for Disease, Injury, Madness by Between the Buried and Me\n",
      "Searching for \"Fossil Genera (A Feed From Cloud Mountain)\" by Between the Buried and Me...\n"
     ]
    },
    {
     "name": "stderr",
     "output_type": "stream",
     "text": [
      "\r",
      "  2%|█▍                                                                           | 160/8465 [01:23<1:16:00,  1.82it/s]"
     ]
    },
    {
     "name": "stdout",
     "output_type": "stream",
     "text": [
      "Done.\n",
      "Lyrics grabbed for Fossil Genera (A Feed From Cloud Mountain) by Between the Buried and Me\n",
      "Searching for \"Desert Of Song\" by Between the Buried and Me...\n"
     ]
    },
    {
     "name": "stderr",
     "output_type": "stream",
     "text": [
      "\r",
      "  2%|█▍                                                                           | 161/8465 [01:23<1:18:47,  1.76it/s]"
     ]
    },
    {
     "name": "stdout",
     "output_type": "stream",
     "text": [
      "Done.\n",
      "Lyrics grabbed for Desert Of Song by Between the Buried and Me\n",
      "Searching for \"Swim To The Moon\" by Between the Buried and Me...\n"
     ]
    },
    {
     "name": "stderr",
     "output_type": "stream",
     "text": [
      "\r",
      "  2%|█▍                                                                           | 162/8465 [01:24<1:20:37,  1.72it/s]"
     ]
    },
    {
     "name": "stdout",
     "output_type": "stream",
     "text": [
      "Done.\n",
      "Lyrics grabbed for Swim To The Moon by Between the Buried and Me\n",
      "Searching for \"Acceptance - Aske\" by Blut aus Nord...\n"
     ]
    },
    {
     "name": "stderr",
     "output_type": "stream",
     "text": [
      "\r",
      "  2%|█▍                                                                           | 163/8465 [01:25<1:34:11,  1.47it/s]"
     ]
    },
    {
     "name": "stdout",
     "output_type": "stream",
     "text": [
      "Done.\n",
      "Lyrics grabbed for Acceptance - Aske by Blut aus Nord\n",
      "Searching for \"Disciple's Libration - Lost in the Nine Worlds\" by Blut aus Nord...\n"
     ]
    },
    {
     "name": "stderr",
     "output_type": "stream",
     "text": [
      "\r",
      "  2%|█▍                                                                           | 164/8465 [01:26<1:32:29,  1.50it/s]"
     ]
    },
    {
     "name": "stdout",
     "output_type": "stream",
     "text": [
      "Done.\n",
      "Lyrics grabbed for Disciple's Libration - Lost in the Nine Worlds by Blut aus Nord\n",
      "Searching for \"The Cosmic Echoes of Non-Matter - Immaterial Voices of the Fathers\" by Blut aus Nord...\n"
     ]
    },
    {
     "name": "stderr",
     "output_type": "stream",
     "text": [
      "\r",
      "  2%|█▌                                                                           | 165/8465 [01:26<1:16:02,  1.82it/s]"
     ]
    },
    {
     "name": "stdout",
     "output_type": "stream",
     "text": [
      "No results found for: 'The Cosmic Echoes of Non-Matter - Immaterial Voices of the Fathers Blut aus Nord'\n",
      "Could not find The Cosmic Echoes of Non-Matter - Immaterial Voices of the Fathers by Blut aus Nord\n",
      "Searching for \"Translucent Body of Air - Sutta Anapanasati\" by Blut aus Nord...\n"
     ]
    },
    {
     "name": "stderr",
     "output_type": "stream",
     "text": [
      "\r",
      "  2%|█▌                                                                           | 166/8465 [01:26<1:04:59,  2.13it/s]"
     ]
    },
    {
     "name": "stdout",
     "output_type": "stream",
     "text": [
      "No results found for: 'Translucent Body of Air - Sutta Anapanasati Blut aus Nord'\n",
      "Could not find Translucent Body of Air - Sutta Anapanasati by Blut aus Nord\n",
      "Searching for \"The Formless Sphere - Beyond the Reason\" by Blut aus Nord...\n"
     ]
    },
    {
     "name": "stderr",
     "output_type": "stream",
     "text": [
      "\r",
      "  2%|█▌                                                                           | 167/8465 [01:27<1:23:50,  1.65it/s]"
     ]
    },
    {
     "name": "stdout",
     "output_type": "stream",
     "text": [
      "Done.\n",
      "Lyrics grabbed for The Formless Sphere - Beyond the Reason by Blut aus Nord\n",
      "Searching for \"...the Meditant - Dialogue with the Stars\" by Blut aus Nord...\n"
     ]
    },
    {
     "name": "stderr",
     "output_type": "stream",
     "text": [
      "\r",
      "  2%|█▌                                                                           | 168/8465 [01:28<1:26:59,  1.59it/s]"
     ]
    },
    {
     "name": "stdout",
     "output_type": "stream",
     "text": [
      "Done.\n",
      "Lyrics grabbed for ...the Meditant - Dialogue with the Stars by Blut aus Nord\n",
      "Searching for \"The Alcove of Angels - Vipassana\" by Blut aus Nord...\n"
     ]
    },
    {
     "name": "stderr",
     "output_type": "stream",
     "text": [
      "\r",
      "  2%|█▌                                                                           | 169/8465 [01:28<1:12:33,  1.91it/s]"
     ]
    },
    {
     "name": "stdout",
     "output_type": "stream",
     "text": [
      "No results found for: 'The Alcove of Angels - Vipassana Blut aus Nord'\n",
      "Could not find The Alcove of Angels - Vipassana by Blut aus Nord\n",
      "Searching for \"Antithesis of the Flesh - ...and Then Arises a New Essence\" by Blut aus Nord...\n"
     ]
    },
    {
     "name": "stderr",
     "output_type": "stream",
     "text": [
      "\r",
      "  2%|█▌                                                                           | 170/8465 [01:28<1:04:10,  2.15it/s]"
     ]
    },
    {
     "name": "stdout",
     "output_type": "stream",
     "text": [
      "No results found for: 'Antithesis of the Flesh - ...and Then Arises a New Essence Blut aus Nord'\n",
      "Could not find Antithesis of the Flesh - ...and Then Arises a New Essence by Blut aus Nord\n",
      "Searching for \"Elevation\" by Blut aus Nord...\n"
     ]
    },
    {
     "name": "stderr",
     "output_type": "stream",
     "text": [
      "\r",
      "  2%|█▌                                                                           | 171/8465 [01:29<1:10:46,  1.95it/s]"
     ]
    },
    {
     "name": "stdout",
     "output_type": "stream",
     "text": [
      "Done.\n",
      "Lyrics grabbed for Elevation by Blut aus Nord\n",
      "Searching for \"To a Generation of Destroyers\" by ROME...\n"
     ]
    },
    {
     "name": "stderr",
     "output_type": "stream",
     "text": [
      "\r",
      "  2%|█▌                                                                           | 172/8465 [01:30<1:15:21,  1.83it/s]"
     ]
    },
    {
     "name": "stdout",
     "output_type": "stream",
     "text": [
      "Done.\n",
      "Lyrics grabbed for To a Generation of Destroyers by ROME\n",
      "Searching for \"The Accidents of Gesture\" by ROME...\n"
     ]
    },
    {
     "name": "stderr",
     "output_type": "stream",
     "text": [
      "\r",
      "  2%|█▌                                                                           | 173/8465 [01:30<1:18:51,  1.75it/s]"
     ]
    },
    {
     "name": "stdout",
     "output_type": "stream",
     "text": [
      "Done.\n",
      "Lyrics grabbed for The Accidents of Gesture by ROME\n",
      "Searching for \"Odessa\" by ROME...\n"
     ]
    },
    {
     "name": "stderr",
     "output_type": "stream",
     "text": [
      "\r",
      "  2%|█▌                                                                           | 174/8465 [01:31<1:18:33,  1.76it/s]"
     ]
    },
    {
     "name": "stdout",
     "output_type": "stream",
     "text": [
      "Done.\n",
      "Lyrics grabbed for Odessa by ROME\n",
      "Searching for \"The Secret Sons of Europe\" by ROME...\n"
     ]
    },
    {
     "name": "stderr",
     "output_type": "stream",
     "text": [
      "\r",
      "  2%|█▌                                                                           | 175/8465 [01:31<1:19:57,  1.73it/s]"
     ]
    },
    {
     "name": "stdout",
     "output_type": "stream",
     "text": [
      "Done.\n",
      "Lyrics grabbed for The Secret Sons of Europe by ROME\n",
      "Searching for \"The Hollow Self\" by ROME...\n"
     ]
    },
    {
     "name": "stderr",
     "output_type": "stream",
     "text": [
      "\r",
      "  2%|█▌                                                                           | 176/8465 [01:32<1:20:19,  1.72it/s]"
     ]
    },
    {
     "name": "stdout",
     "output_type": "stream",
     "text": [
      "Done.\n",
      "Lyrics grabbed for The Hollow Self by ROME\n",
      "Searching for \"A Legacy of Unrest\" by ROME...\n"
     ]
    },
    {
     "name": "stderr",
     "output_type": "stream",
     "text": [
      "\r",
      "  2%|█▌                                                                           | 177/8465 [01:33<1:27:24,  1.58it/s]"
     ]
    },
    {
     "name": "stdout",
     "output_type": "stream",
     "text": [
      "Done.\n",
      "Lyrics grabbed for A Legacy of Unrest by ROME\n",
      "Searching for \"To Die Among Strangers\" by ROME...\n"
     ]
    },
    {
     "name": "stderr",
     "output_type": "stream",
     "text": [
      "\r",
      "  2%|█▌                                                                           | 178/8465 [01:33<1:26:09,  1.60it/s]"
     ]
    },
    {
     "name": "stdout",
     "output_type": "stream",
     "text": [
      "Done.\n",
      "Lyrics grabbed for To Die Among Strangers by ROME\n",
      "Searching for \"A Culture of Fragments\" by ROME...\n"
     ]
    },
    {
     "name": "stderr",
     "output_type": "stream",
     "text": [
      "\r",
      "  2%|█▋                                                                           | 179/8465 [01:34<1:25:53,  1.61it/s]"
     ]
    },
    {
     "name": "stdout",
     "output_type": "stream",
     "text": [
      "Done.\n",
      "Lyrics grabbed for A Culture of Fragments by ROME\n",
      "Searching for \"We Who Fell in Love with the Sea\" by ROME...\n"
     ]
    },
    {
     "name": "stderr",
     "output_type": "stream",
     "text": [
      "\r",
      "  2%|█▋                                                                           | 180/8465 [01:35<1:27:11,  1.58it/s]"
     ]
    },
    {
     "name": "stdout",
     "output_type": "stream",
     "text": [
      "Done.\n",
      "Lyrics grabbed for We Who Fell in Love with the Sea by ROME\n",
      "Searching for \"Swords to Rust - Hearts to Dust\" by ROME...\n"
     ]
    },
    {
     "name": "stderr",
     "output_type": "stream",
     "text": [
      "\r",
      "  2%|█▋                                                                           | 181/8465 [01:35<1:26:10,  1.60it/s]"
     ]
    },
    {
     "name": "stdout",
     "output_type": "stream",
     "text": [
      "Done.\n",
      "Lyrics grabbed for Swords to Rust - Hearts to Dust by ROME\n",
      "Searching for \"Flowers from Exile\" by ROME...\n"
     ]
    },
    {
     "name": "stderr",
     "output_type": "stream",
     "text": [
      "\r",
      "  2%|█▋                                                                           | 182/8465 [01:36<1:28:56,  1.55it/s]"
     ]
    },
    {
     "name": "stdout",
     "output_type": "stream",
     "text": [
      "Done.\n",
      "Lyrics grabbed for Flowers from Exile by ROME\n",
      "Searching for \"Flight in Formation\" by ROME...\n"
     ]
    },
    {
     "name": "stderr",
     "output_type": "stream",
     "text": [
      "\r",
      "  2%|█▋                                                                           | 183/8465 [01:36<1:27:56,  1.57it/s]"
     ]
    },
    {
     "name": "stdout",
     "output_type": "stream",
     "text": [
      "Done.\n",
      "Lyrics grabbed for Flight in Formation by ROME\n",
      "Searching for \"(I Know) A Girl Called Jonny\" by Rowland S. Howard...\n"
     ]
    },
    {
     "name": "stderr",
     "output_type": "stream",
     "text": [
      "\r",
      "  2%|█▋                                                                           | 184/8465 [01:37<1:27:05,  1.58it/s]"
     ]
    },
    {
     "name": "stdout",
     "output_type": "stream",
     "text": [
      "Done.\n",
      "Lyrics grabbed for (I Know) A Girl Called Jonny by Rowland S. Howard\n",
      "Searching for \"Shut Me Down\" by Rowland S. Howard...\n"
     ]
    },
    {
     "name": "stderr",
     "output_type": "stream",
     "text": [
      "\r",
      "  2%|█▋                                                                           | 185/8465 [01:38<1:26:15,  1.60it/s]"
     ]
    },
    {
     "name": "stdout",
     "output_type": "stream",
     "text": [
      "Done.\n",
      "Lyrics grabbed for Shut Me Down by Rowland S. Howard\n",
      "Searching for \"Life's What You Make It\" by Rowland S. Howard...\n"
     ]
    },
    {
     "name": "stderr",
     "output_type": "stream",
     "text": [
      "\r",
      "  2%|█▋                                                                           | 186/8465 [01:38<1:25:23,  1.62it/s]"
     ]
    },
    {
     "name": "stdout",
     "output_type": "stream",
     "text": [
      "Done.\n",
      "Lyrics grabbed for Life's What You Make It by Rowland S. Howard\n",
      "Searching for \"Pop Crimes\" by Rowland S. Howard...\n"
     ]
    },
    {
     "name": "stderr",
     "output_type": "stream",
     "text": [
      "\r",
      "  2%|█▋                                                                           | 187/8465 [01:39<1:25:17,  1.62it/s]"
     ]
    },
    {
     "name": "stdout",
     "output_type": "stream",
     "text": [
      "Done.\n",
      "Lyrics grabbed for Pop Crimes by Rowland S. Howard\n",
      "Searching for \"Nothin'\" by Rowland S. Howard...\n"
     ]
    },
    {
     "name": "stderr",
     "output_type": "stream",
     "text": [
      "\r",
      "  2%|█▋                                                                           | 188/8465 [01:40<1:26:23,  1.60it/s]"
     ]
    },
    {
     "name": "stdout",
     "output_type": "stream",
     "text": [
      "Done.\n",
      "Lyrics grabbed for Nothin' by Rowland S. Howard\n",
      "Searching for \"Wayward Man\" by Rowland S. Howard...\n"
     ]
    },
    {
     "name": "stderr",
     "output_type": "stream",
     "text": [
      "\r",
      "  2%|█▋                                                                           | 189/8465 [01:40<1:25:53,  1.61it/s]"
     ]
    },
    {
     "name": "stdout",
     "output_type": "stream",
     "text": [
      "Done.\n",
      "Lyrics grabbed for Wayward Man by Rowland S. Howard\n",
      "Searching for \"Ava Maria\" by Rowland S. Howard...\n"
     ]
    },
    {
     "name": "stderr",
     "output_type": "stream",
     "text": [
      "\r",
      "  2%|█▋                                                                           | 190/8465 [01:41<1:13:33,  1.87it/s]"
     ]
    },
    {
     "name": "stdout",
     "output_type": "stream",
     "text": [
      "No results found for: 'Ava Maria Rowland S. Howard'\n",
      "Could not find Ava Maria by Rowland S. Howard\n",
      "Searching for \"The Golden Age of Bloodshed\" by Rowland S. Howard...\n"
     ]
    },
    {
     "name": "stderr",
     "output_type": "stream",
     "text": [
      "\r",
      "  2%|█▋                                                                           | 191/8465 [01:41<1:16:42,  1.80it/s]"
     ]
    },
    {
     "name": "stdout",
     "output_type": "stream",
     "text": [
      "Done.\n",
      "Lyrics grabbed for The Golden Age of Bloodshed by Rowland S. Howard\n",
      "Searching for \"The Protocols Of Anti-Sound\" by Magrudergrind...\n"
     ]
    },
    {
     "name": "stderr",
     "output_type": "stream",
     "text": [
      "\r",
      "  2%|█▋                                                                           | 192/8465 [01:42<1:19:17,  1.74it/s]"
     ]
    },
    {
     "name": "stdout",
     "output_type": "stream",
     "text": [
      "Done.\n",
      "Lyrics grabbed for The Protocols Of Anti-Sound by Magrudergrind\n",
      "Searching for \"Pulverizing Hate Mongers\" by Magrudergrind...\n"
     ]
    },
    {
     "name": "stderr",
     "output_type": "stream",
     "text": [
      "\r",
      "  2%|█▊                                                                           | 193/8465 [01:42<1:20:06,  1.72it/s]"
     ]
    },
    {
     "name": "stdout",
     "output_type": "stream",
     "text": [
      "Done.\n",
      "Lyrics grabbed for Pulverizing Hate Mongers by Magrudergrind\n",
      "Searching for \"Rejecting The Militant Promise\" by Magrudergrind...\n"
     ]
    },
    {
     "name": "stderr",
     "output_type": "stream",
     "text": [
      "\r",
      "  2%|█▊                                                                           | 194/8465 [01:43<1:22:30,  1.67it/s]"
     ]
    },
    {
     "name": "stdout",
     "output_type": "stream",
     "text": [
      "Done.\n",
      "Lyrics grabbed for Rejecting The Militant Promise by Magrudergrind\n",
      "Searching for \"Assimilated Pollutants\" by Magrudergrind...\n"
     ]
    },
    {
     "name": "stderr",
     "output_type": "stream",
     "text": [
      "\r",
      "  2%|█▊                                                                           | 195/8465 [01:44<1:23:37,  1.65it/s]"
     ]
    },
    {
     "name": "stdout",
     "output_type": "stream",
     "text": [
      "Done.\n",
      "Lyrics grabbed for Assimilated Pollutants by Magrudergrind\n",
      "Searching for \"Abuse Of Philanthropic Self Gain\" by Magrudergrind...\n"
     ]
    },
    {
     "name": "stderr",
     "output_type": "stream",
     "text": [
      "\r",
      "  2%|█▊                                                                           | 196/8465 [01:44<1:22:50,  1.66it/s]"
     ]
    },
    {
     "name": "stdout",
     "output_type": "stream",
     "text": [
      "Done.\n",
      "Lyrics grabbed for Abuse Of Philanthropic Self Gain by Magrudergrind\n",
      "Searching for \"Fools Of Contradiction\" by Magrudergrind...\n"
     ]
    },
    {
     "name": "stderr",
     "output_type": "stream",
     "text": [
      "\r",
      "  2%|█▊                                                                           | 197/8465 [01:45<1:22:50,  1.66it/s]"
     ]
    },
    {
     "name": "stdout",
     "output_type": "stream",
     "text": [
      "Done.\n",
      "Lyrics grabbed for Fools Of Contradiction by Magrudergrind\n",
      "Searching for \"Heretics\" by Magrudergrind...\n"
     ]
    },
    {
     "name": "stderr",
     "output_type": "stream",
     "text": [
      "\r",
      "  2%|█▊                                                                           | 198/8465 [01:45<1:21:58,  1.68it/s]"
     ]
    },
    {
     "name": "stdout",
     "output_type": "stream",
     "text": [
      "Done.\n",
      "Lyrics grabbed for Heretics by Magrudergrind\n",
      "Searching for \"Bridge Burner\" by Magrudergrind...\n"
     ]
    },
    {
     "name": "stderr",
     "output_type": "stream",
     "text": [
      "\r",
      "  2%|█▊                                                                           | 199/8465 [01:46<1:30:24,  1.52it/s]"
     ]
    },
    {
     "name": "stdout",
     "output_type": "stream",
     "text": [
      "Done.\n",
      "Lyrics grabbed for Bridge Burner by Magrudergrind\n",
      "Searching for \"Cranial Media Parasite\" by Magrudergrind...\n"
     ]
    },
    {
     "name": "stderr",
     "output_type": "stream",
     "text": [
      "\r",
      "  2%|█▊                                                                           | 200/8465 [01:47<1:32:55,  1.48it/s]"
     ]
    },
    {
     "name": "stdout",
     "output_type": "stream",
     "text": [
      "Done.\n",
      "Lyrics grabbed for Cranial Media Parasite by Magrudergrind\n",
      "Searching for \"Excommunicated\" by Magrudergrind...\n"
     ]
    },
    {
     "name": "stderr",
     "output_type": "stream",
     "text": [
      "\r",
      "  2%|█▊                                                                           | 201/8465 [01:48<1:37:17,  1.42it/s]"
     ]
    },
    {
     "name": "stdout",
     "output_type": "stream",
     "text": [
      "Done.\n",
      "Lyrics grabbed for Excommunicated by Magrudergrind\n",
      "Searching for \"The Price Of Living By Delinquent Ideals\" by Magrudergrind...\n"
     ]
    },
    {
     "name": "stderr",
     "output_type": "stream",
     "text": [
      "\r",
      "  2%|█▊                                                                           | 202/8465 [01:48<1:33:09,  1.48it/s]"
     ]
    },
    {
     "name": "stdout",
     "output_type": "stream",
     "text": [
      "Done.\n",
      "Lyrics grabbed for The Price Of Living By Delinquent Ideals by Magrudergrind\n",
      "Searching for \"Built To Blast\" by Magrudergrind...\n"
     ]
    },
    {
     "name": "stderr",
     "output_type": "stream",
     "text": [
      "\r",
      "  2%|█▊                                                                           | 203/8465 [01:49<1:30:09,  1.53it/s]"
     ]
    },
    {
     "name": "stdout",
     "output_type": "stream",
     "text": [
      "Done.\n",
      "Lyrics grabbed for Built To Blast by Magrudergrind\n",
      "Searching for \"Lyrical Ammunition For Scene Warfare\" by Magrudergrind...\n"
     ]
    },
    {
     "name": "stderr",
     "output_type": "stream",
     "text": [
      "\r",
      "  2%|█▊                                                                           | 204/8465 [01:50<1:28:02,  1.56it/s]"
     ]
    },
    {
     "name": "stdout",
     "output_type": "stream",
     "text": [
      "Done.\n",
      "Lyrics grabbed for Lyrical Ammunition For Scene Warfare by Magrudergrind\n",
      "Searching for \"Rise And Fall Of Empires Past\" by Magrudergrind...\n"
     ]
    },
    {
     "name": "stderr",
     "output_type": "stream",
     "text": [
      "\r",
      "  2%|█▊                                                                           | 205/8465 [01:50<1:26:04,  1.60it/s]"
     ]
    },
    {
     "name": "stdout",
     "output_type": "stream",
     "text": [
      "Done.\n",
      "Lyrics grabbed for Rise And Fall Of Empires Past by Magrudergrind\n",
      "Searching for \"Heavier Bombing\" by Magrudergrind...\n"
     ]
    },
    {
     "name": "stderr",
     "output_type": "stream",
     "text": [
      "\r",
      "  2%|█▊                                                                           | 206/8465 [01:51<1:26:24,  1.59it/s]"
     ]
    },
    {
     "name": "stdout",
     "output_type": "stream",
     "text": [
      "Done.\n",
      "Lyrics grabbed for Heavier Bombing by Magrudergrind\n",
      "Searching for \"Martyrs Of The Shoah\" by Magrudergrind...\n"
     ]
    },
    {
     "name": "stderr",
     "output_type": "stream",
     "text": [
      "\r",
      "  2%|█▉                                                                           | 207/8465 [01:51<1:28:12,  1.56it/s]"
     ]
    },
    {
     "name": "stdout",
     "output_type": "stream",
     "text": [
      "Done.\n",
      "Lyrics grabbed for Martyrs Of The Shoah by Magrudergrind\n",
      "Searching for \"Untitled\" by Magrudergrind...\n"
     ]
    },
    {
     "name": "stderr",
     "output_type": "stream",
     "text": [
      "\r",
      "  2%|█▉                                                                           | 208/8465 [01:52<1:12:42,  1.89it/s]"
     ]
    },
    {
     "name": "stdout",
     "output_type": "stream",
     "text": [
      "No results found for: 'Untitled Magrudergrind'\n",
      "Could not find Untitled by Magrudergrind\n",
      "Searching for \"As the Dawn Breaks\" by Richard Hawley...\n"
     ]
    },
    {
     "name": "stderr",
     "output_type": "stream",
     "text": [
      "\r",
      "  2%|█▉                                                                           | 209/8465 [01:52<1:15:56,  1.81it/s]"
     ]
    },
    {
     "name": "stdout",
     "output_type": "stream",
     "text": [
      "Done.\n",
      "Lyrics grabbed for As the Dawn Breaks by Richard Hawley\n",
      "Searching for \"Open up Your Door\" by Richard Hawley...\n"
     ]
    },
    {
     "name": "stderr",
     "output_type": "stream",
     "text": [
      "\r",
      "  2%|█▉                                                                           | 210/8465 [01:53<1:21:05,  1.70it/s]"
     ]
    },
    {
     "name": "stdout",
     "output_type": "stream",
     "text": [
      "Done.\n",
      "Lyrics grabbed for Open up Your Door by Richard Hawley\n",
      "Searching for \"Ashes on the Fire\" by Richard Hawley...\n"
     ]
    },
    {
     "name": "stderr",
     "output_type": "stream",
     "text": [
      "\r",
      "  2%|█▉                                                                           | 211/8465 [01:54<1:22:48,  1.66it/s]"
     ]
    },
    {
     "name": "stdout",
     "output_type": "stream",
     "text": [
      "Done.\n",
      "Lyrics grabbed for Ashes on the Fire by Richard Hawley\n",
      "Searching for \"Remorse Code\" by Richard Hawley...\n"
     ]
    },
    {
     "name": "stderr",
     "output_type": "stream",
     "text": [
      "\r",
      "  3%|█▉                                                                           | 212/8465 [01:54<1:23:32,  1.65it/s]"
     ]
    },
    {
     "name": "stdout",
     "output_type": "stream",
     "text": [
      "Done.\n",
      "Lyrics grabbed for Remorse Code by Richard Hawley\n",
      "Searching for \"Don't Get Hung up in Your Soul\" by Richard Hawley...\n"
     ]
    },
    {
     "name": "stderr",
     "output_type": "stream",
     "text": [
      "\r",
      "  3%|█▉                                                                           | 213/8465 [01:55<1:23:23,  1.65it/s]"
     ]
    },
    {
     "name": "stdout",
     "output_type": "stream",
     "text": [
      "Done.\n",
      "Lyrics grabbed for Don't Get Hung up in Your Soul by Richard Hawley\n",
      "Searching for \"Soldier On\" by Richard Hawley...\n"
     ]
    },
    {
     "name": "stderr",
     "output_type": "stream",
     "text": [
      "\r",
      "  3%|█▉                                                                           | 214/8465 [01:55<1:23:05,  1.65it/s]"
     ]
    },
    {
     "name": "stdout",
     "output_type": "stream",
     "text": [
      "Done.\n",
      "Lyrics grabbed for Soldier On by Richard Hawley\n",
      "Searching for \"For Your Lover Give Some Time\" by Richard Hawley...\n"
     ]
    },
    {
     "name": "stderr",
     "output_type": "stream",
     "text": [
      "\r",
      "  3%|█▉                                                                           | 215/8465 [01:56<1:23:46,  1.64it/s]"
     ]
    },
    {
     "name": "stdout",
     "output_type": "stream",
     "text": [
      "Done.\n",
      "Lyrics grabbed for For Your Lover Give Some Time by Richard Hawley\n",
      "Searching for \"Don't You Cry\" by Richard Hawley...\n"
     ]
    },
    {
     "name": "stderr",
     "output_type": "stream",
     "text": [
      "\r",
      "  3%|█▉                                                                           | 216/8465 [01:57<1:23:15,  1.65it/s]"
     ]
    },
    {
     "name": "stdout",
     "output_type": "stream",
     "text": [
      "Done.\n",
      "Lyrics grabbed for Don't You Cry by Richard Hawley\n",
      "Searching for \"Bird's Nest\" by Jordaan Mason & The Horse Museum...\n"
     ]
    },
    {
     "name": "stderr",
     "output_type": "stream",
     "text": [
      "\r",
      "  3%|█▉                                                                           | 217/8465 [01:57<1:24:12,  1.63it/s]"
     ]
    },
    {
     "name": "stdout",
     "output_type": "stream",
     "text": [
      "Done.\n",
      "Lyrics grabbed for Bird's Nest by Jordaan Mason & The Horse Museum\n",
      "Searching for \"Organs For Oceans\" by Jordaan Mason & The Horse Museum...\n"
     ]
    },
    {
     "name": "stderr",
     "output_type": "stream",
     "text": [
      "\r",
      "  3%|█▉                                                                           | 218/8465 [01:58<1:26:11,  1.59it/s]"
     ]
    },
    {
     "name": "stdout",
     "output_type": "stream",
     "text": [
      "Done.\n",
      "Lyrics grabbed for Organs For Oceans by Jordaan Mason & The Horse Museum\n",
      "Searching for \"Avalanches\" by Jordaan Mason & The Horse Museum...\n"
     ]
    },
    {
     "name": "stderr",
     "output_type": "stream",
     "text": [
      "\r",
      "  3%|█▉                                                                           | 219/8465 [01:58<1:24:24,  1.63it/s]"
     ]
    },
    {
     "name": "stdout",
     "output_type": "stream",
     "text": [
      "Done.\n",
      "Lyrics grabbed for Avalanches by Jordaan Mason & The Horse Museum\n",
      "Searching for \"Racehorse: Get Married!\" by Jordaan Mason & The Horse Museum...\n"
     ]
    },
    {
     "name": "stderr",
     "output_type": "stream",
     "text": [
      "\r",
      "  3%|██                                                                           | 220/8465 [01:59<1:25:59,  1.60it/s]"
     ]
    },
    {
     "name": "stdout",
     "output_type": "stream",
     "text": [
      "Done.\n",
      "Lyrics grabbed for Racehorse: Get Married! by Jordaan Mason & The Horse Museum\n",
      "Searching for \"The Wrong Parts (Vivian Sisters Singing)\" by Jordaan Mason & The Horse Museum...\n"
     ]
    },
    {
     "name": "stderr",
     "output_type": "stream",
     "text": [
      "\r",
      "  3%|██                                                                           | 221/8465 [02:00<1:24:59,  1.62it/s]"
     ]
    },
    {
     "name": "stdout",
     "output_type": "stream",
     "text": [
      "Done.\n",
      "Lyrics grabbed for The Wrong Parts (Vivian Sisters Singing) by Jordaan Mason & The Horse Museum\n",
      "Searching for \"Prayer\" by Jordaan Mason & The Horse Museum...\n"
     ]
    },
    {
     "name": "stderr",
     "output_type": "stream",
     "text": [
      "\r",
      "  3%|██                                                                           | 222/8465 [02:00<1:27:15,  1.57it/s]"
     ]
    },
    {
     "name": "stdout",
     "output_type": "stream",
     "text": [
      "Done.\n",
      "Lyrics grabbed for Prayer by Jordaan Mason & The Horse Museum\n",
      "Searching for \"O Jarhead! O Wife!\" by Jordaan Mason & The Horse Museum...\n"
     ]
    },
    {
     "name": "stderr",
     "output_type": "stream",
     "text": [
      "\r",
      "  3%|██                                                                           | 223/8465 [02:01<1:26:44,  1.58it/s]"
     ]
    },
    {
     "name": "stdout",
     "output_type": "stream",
     "text": [
      "Done.\n",
      "Lyrics grabbed for O Jarhead! O Wife! by Jordaan Mason & The Horse Museum\n",
      "Searching for \"Hymn / Her\" by Jordaan Mason & The Horse Museum...\n"
     ]
    },
    {
     "name": "stderr",
     "output_type": "stream",
     "text": [
      "\r",
      "  3%|██                                                                           | 224/8465 [02:02<1:26:57,  1.58it/s]"
     ]
    },
    {
     "name": "stdout",
     "output_type": "stream",
     "text": [
      "Done.\n",
      "Lyrics grabbed for Hymn / Her by Jordaan Mason & The Horse Museum\n",
      "Searching for \"____ Is Water\" by Jordaan Mason & The Horse Museum...\n"
     ]
    },
    {
     "name": "stderr",
     "output_type": "stream",
     "text": [
      "\r",
      "  3%|██                                                                           | 225/8465 [02:02<1:23:24,  1.65it/s]"
     ]
    },
    {
     "name": "stdout",
     "output_type": "stream",
     "text": [
      "Done.\n",
      "Lyrics grabbed for ____ Is Water by Jordaan Mason & The Horse Museum\n",
      "Searching for \"(s)mother\" by Jordaan Mason & The Horse Museum...\n"
     ]
    },
    {
     "name": "stderr",
     "output_type": "stream",
     "text": [
      "\r",
      "  3%|██                                                                           | 226/8465 [02:03<1:21:36,  1.68it/s]"
     ]
    },
    {
     "name": "stdout",
     "output_type": "stream",
     "text": [
      "Done.\n",
      "Lyrics grabbed for (s)mother by Jordaan Mason & The Horse Museum\n",
      "Searching for \"Wild Dogs: Divorce!\" by Jordaan Mason & The Horse Museum...\n"
     ]
    },
    {
     "name": "stderr",
     "output_type": "stream",
     "text": [
      "\r",
      "  3%|██                                                                           | 227/8465 [02:03<1:19:48,  1.72it/s]"
     ]
    },
    {
     "name": "stdout",
     "output_type": "stream",
     "text": [
      "Done.\n",
      "Lyrics grabbed for Wild Dogs: Divorce! by Jordaan Mason & The Horse Museum\n",
      "Searching for \"After The Glandolinian War\" by Jordaan Mason & The Horse Museum...\n"
     ]
    },
    {
     "name": "stderr",
     "output_type": "stream",
     "text": [
      "\r",
      "  3%|██                                                                           | 228/8465 [02:04<1:07:10,  2.04it/s]"
     ]
    },
    {
     "name": "stdout",
     "output_type": "stream",
     "text": [
      "Specified song does not contain lyrics. Rejecting.\n",
      "Could not find After The Glandolinian War by Jordaan Mason & The Horse Museum\n",
      "Searching for \"Carpenter / Rebuild The Body Out Of Birds\" by Jordaan Mason & The Horse Museum...\n"
     ]
    },
    {
     "name": "stderr",
     "output_type": "stream",
     "text": [
      "\r",
      "  3%|██                                                                           | 229/8465 [02:04<1:11:12,  1.93it/s]"
     ]
    },
    {
     "name": "stdout",
     "output_type": "stream",
     "text": [
      "Done.\n",
      "Lyrics grabbed for Carpenter / Rebuild The Body Out Of Birds by Jordaan Mason & The Horse Museum\n",
      "Searching for \"1990 Was A Long Year And We Are All Out Of Hot Water\" by Jordaan Mason & The Horse Museum...\n"
     ]
    },
    {
     "name": "stderr",
     "output_type": "stream",
     "text": [
      "\r",
      "  3%|██                                                                           | 230/8465 [02:05<1:21:30,  1.68it/s]"
     ]
    },
    {
     "name": "stdout",
     "output_type": "stream",
     "text": [
      "Done.\n",
      "Lyrics grabbed for 1990 Was A Long Year And We Are All Out Of Hot Water by Jordaan Mason & The Horse Museum\n",
      "Searching for \"Forget And Not Slow Down\" by Relient K...\n"
     ]
    },
    {
     "name": "stderr",
     "output_type": "stream",
     "text": [
      "\r",
      "  3%|██                                                                           | 231/8465 [02:06<1:21:55,  1.67it/s]"
     ]
    },
    {
     "name": "stdout",
     "output_type": "stream",
     "text": [
      "Done.\n",
      "Lyrics grabbed for Forget And Not Slow Down by Relient K\n",
      "Searching for \"I Don't Need A Soul\" by Relient K...\n"
     ]
    },
    {
     "name": "stderr",
     "output_type": "stream",
     "text": [
      "\r",
      "  3%|██                                                                           | 232/8465 [02:07<1:40:16,  1.37it/s]"
     ]
    },
    {
     "name": "stdout",
     "output_type": "stream",
     "text": [
      "Done.\n",
      "Lyrics grabbed for I Don't Need A Soul by Relient K\n",
      "Searching for \"Candlelight\" by Relient K...\n"
     ]
    },
    {
     "name": "stderr",
     "output_type": "stream",
     "text": [
      "\r",
      "  3%|██                                                                           | 233/8465 [02:07<1:37:40,  1.40it/s]"
     ]
    },
    {
     "name": "stdout",
     "output_type": "stream",
     "text": [
      "Done.\n",
      "Lyrics grabbed for Candlelight by Relient K\n",
      "Searching for \"Flare\" by Relient K...\n"
     ]
    },
    {
     "name": "stderr",
     "output_type": "stream",
     "text": [
      "\r",
      "  3%|██▏                                                                          | 234/8465 [02:08<1:35:14,  1.44it/s]"
     ]
    },
    {
     "name": "stdout",
     "output_type": "stream",
     "text": [
      "Done.\n",
      "Lyrics grabbed for Flare by Relient K\n",
      "Searching for \"Part Of It\" by Relient K...\n"
     ]
    },
    {
     "name": "stderr",
     "output_type": "stream",
     "text": [
      "\r",
      "  3%|██▏                                                                          | 235/8465 [02:09<1:31:20,  1.50it/s]"
     ]
    },
    {
     "name": "stdout",
     "output_type": "stream",
     "text": [
      "Done.\n",
      "Lyrics grabbed for Part Of It by Relient K\n",
      "Searching for \"Outro\" by Relient K...\n"
     ]
    },
    {
     "name": "stderr",
     "output_type": "stream",
     "text": [
      "\r",
      "  3%|██▏                                                                          | 236/8465 [02:09<1:30:21,  1.52it/s]"
     ]
    },
    {
     "name": "stdout",
     "output_type": "stream",
     "text": [
      "Done.\n",
      "Lyrics grabbed for Outro by Relient K\n",
      "Searching for \"Therapy\" by Relient K...\n"
     ]
    },
    {
     "name": "stderr",
     "output_type": "stream",
     "text": [
      "\r",
      "  3%|██▏                                                                          | 237/8465 [02:10<1:29:35,  1.53it/s]"
     ]
    },
    {
     "name": "stdout",
     "output_type": "stream",
     "text": [
      "Done.\n",
      "Lyrics grabbed for Therapy by Relient K\n",
      "Searching for \"Over It\" by Relient K...\n"
     ]
    },
    {
     "name": "stderr",
     "output_type": "stream",
     "text": [
      "\r",
      "  3%|██▏                                                                          | 238/8465 [02:10<1:29:51,  1.53it/s]"
     ]
    },
    {
     "name": "stdout",
     "output_type": "stream",
     "text": [
      "Done.\n",
      "Lyrics grabbed for Over It by Relient K\n",
      "Searching for \"Sahara\" by Relient K...\n"
     ]
    },
    {
     "name": "stderr",
     "output_type": "stream",
     "text": [
      "\r",
      "  3%|██▏                                                                          | 239/8465 [02:11<1:28:58,  1.54it/s]"
     ]
    },
    {
     "name": "stdout",
     "output_type": "stream",
     "text": [
      "Done.\n",
      "Lyrics grabbed for Sahara by Relient K\n",
      "Searching for \"Oasis\" by Relient K...\n"
     ]
    },
    {
     "name": "stderr",
     "output_type": "stream",
     "text": [
      "\r",
      "  3%|██▏                                                                          | 240/8465 [02:12<1:30:40,  1.51it/s]"
     ]
    },
    {
     "name": "stdout",
     "output_type": "stream",
     "text": [
      "Done.\n",
      "Lyrics grabbed for Oasis by Relient K\n",
      "Searching for \"Savannah\" by Relient K...\n"
     ]
    },
    {
     "name": "stderr",
     "output_type": "stream",
     "text": [
      "\r",
      "  3%|██▏                                                                          | 241/8465 [02:12<1:28:32,  1.55it/s]"
     ]
    },
    {
     "name": "stdout",
     "output_type": "stream",
     "text": [
      "Done.\n",
      "Lyrics grabbed for Savannah by Relient K\n",
      "Searching for \"Baby\" by Relient K...\n"
     ]
    },
    {
     "name": "stderr",
     "output_type": "stream",
     "text": [
      "\r",
      "  3%|██▏                                                                          | 242/8465 [02:13<1:27:40,  1.56it/s]"
     ]
    },
    {
     "name": "stdout",
     "output_type": "stream",
     "text": [
      "Done.\n",
      "Lyrics grabbed for Baby by Relient K\n",
      "Searching for \"If You Believe Me\" by Relient K...\n"
     ]
    },
    {
     "name": "stderr",
     "output_type": "stream",
     "text": [
      "\r",
      "  3%|██▏                                                                          | 243/8465 [02:14<1:28:16,  1.55it/s]"
     ]
    },
    {
     "name": "stdout",
     "output_type": "stream",
     "text": [
      "Done.\n",
      "Lyrics grabbed for If You Believe Me by Relient K\n",
      "Searching for \"This Is The End\" by Relient K...\n"
     ]
    },
    {
     "name": "stderr",
     "output_type": "stream",
     "text": [
      "\r",
      "  3%|██▏                                                                          | 244/8465 [02:14<1:27:49,  1.56it/s]"
     ]
    },
    {
     "name": "stdout",
     "output_type": "stream",
     "text": [
      "Done.\n",
      "Lyrics grabbed for This Is The End by Relient K\n",
      "Searching for \"(If You Want It)\" by Relient K...\n"
     ]
    },
    {
     "name": "stderr",
     "output_type": "stream",
     "text": [
      "\r",
      "  3%|██▏                                                                          | 245/8465 [02:15<1:26:41,  1.58it/s]"
     ]
    },
    {
     "name": "stdout",
     "output_type": "stream",
     "text": [
      "Done.\n",
      "Lyrics grabbed for (If You Want It) by Relient K\n",
      "Searching for \"Sex With a Stranger\" by Admiral Angry...\n"
     ]
    },
    {
     "name": "stderr",
     "output_type": "stream",
     "text": [
      "\r",
      "  3%|██▏                                                                          | 246/8465 [02:16<1:26:12,  1.59it/s]"
     ]
    },
    {
     "name": "stdout",
     "output_type": "stream",
     "text": [
      "Done.\n",
      "Lyrics grabbed for Sex With a Stranger by Admiral Angry\n",
      "Searching for \"Circling the Drain\" by Admiral Angry...\n"
     ]
    },
    {
     "name": "stderr",
     "output_type": "stream",
     "text": [
      "\r",
      "  3%|██▏                                                                          | 247/8465 [02:16<1:24:27,  1.62it/s]"
     ]
    },
    {
     "name": "stdout",
     "output_type": "stream",
     "text": [
      "Done.\n",
      "Lyrics grabbed for Circling the Drain by Admiral Angry\n",
      "Searching for \"Kill Yourself\" by Admiral Angry...\n"
     ]
    },
    {
     "name": "stderr",
     "output_type": "stream",
     "text": [
      "\r",
      "  3%|██▎                                                                          | 248/8465 [02:17<1:24:59,  1.61it/s]"
     ]
    },
    {
     "name": "stdout",
     "output_type": "stream",
     "text": [
      "Done.\n",
      "Lyrics grabbed for Kill Yourself by Admiral Angry\n",
      "Searching for \"Plastic Bath\" by Admiral Angry...\n"
     ]
    },
    {
     "name": "stderr",
     "output_type": "stream",
     "text": [
      "\r",
      "  3%|██▎                                                                          | 249/8465 [02:17<1:24:21,  1.62it/s]"
     ]
    },
    {
     "name": "stdout",
     "output_type": "stream",
     "text": [
      "Done.\n",
      "Lyrics grabbed for Plastic Bath by Admiral Angry\n",
      "Searching for \"Blow Down\" by Admiral Angry...\n"
     ]
    },
    {
     "name": "stderr",
     "output_type": "stream",
     "text": [
      "\r",
      "  3%|██▎                                                                          | 250/8465 [02:18<1:30:04,  1.52it/s]"
     ]
    },
    {
     "name": "stdout",
     "output_type": "stream",
     "text": [
      "Done.\n",
      "Lyrics grabbed for Blow Down by Admiral Angry\n",
      "Searching for \"Android\" by Admiral Angry...\n"
     ]
    },
    {
     "name": "stderr",
     "output_type": "stream",
     "text": [
      "\r",
      "  3%|██▎                                                                          | 251/8465 [02:19<1:28:48,  1.54it/s]"
     ]
    },
    {
     "name": "stdout",
     "output_type": "stream",
     "text": [
      "Done.\n",
      "Lyrics grabbed for Android by Admiral Angry\n",
      "Searching for \"Specimen On\" by Admiral Angry...\n"
     ]
    },
    {
     "name": "stderr",
     "output_type": "stream",
     "text": [
      "\r",
      "  3%|██▎                                                                          | 252/8465 [02:19<1:27:01,  1.57it/s]"
     ]
    },
    {
     "name": "stdout",
     "output_type": "stream",
     "text": [
      "Done.\n",
      "Lyrics grabbed for Specimen On by Admiral Angry\n",
      "Searching for \"Bug Vomit\" by Admiral Angry...\n"
     ]
    },
    {
     "name": "stderr",
     "output_type": "stream",
     "text": [
      "\r",
      "  3%|██▎                                                                          | 253/8465 [02:20<1:24:37,  1.62it/s]"
     ]
    },
    {
     "name": "stdout",
     "output_type": "stream",
     "text": [
      "Done.\n",
      "Lyrics grabbed for Bug Vomit by Admiral Angry\n",
      "Searching for \"The Illusion of Strength\" by Admiral Angry...\n"
     ]
    },
    {
     "name": "stderr",
     "output_type": "stream",
     "text": [
      "\r",
      "  3%|██▎                                                                          | 254/8465 [02:21<1:25:38,  1.60it/s]"
     ]
    },
    {
     "name": "stdout",
     "output_type": "stream",
     "text": [
      "Done.\n",
      "Lyrics grabbed for The Illusion of Strength by Admiral Angry\n",
      "Searching for \"Hyperactive\" by Riverside...\n"
     ]
    },
    {
     "name": "stderr",
     "output_type": "stream",
     "text": [
      "\r",
      "  3%|██▎                                                                          | 255/8465 [02:21<1:27:23,  1.57it/s]"
     ]
    },
    {
     "name": "stdout",
     "output_type": "stream",
     "text": [
      "Done.\n",
      "Lyrics grabbed for Hyperactive by Riverside\n",
      "Searching for \"Driven to Destruction\" by Riverside...\n"
     ]
    },
    {
     "name": "stderr",
     "output_type": "stream",
     "text": [
      "\r",
      "  3%|██▎                                                                          | 256/8465 [02:22<1:25:26,  1.60it/s]"
     ]
    },
    {
     "name": "stdout",
     "output_type": "stream",
     "text": [
      "Done.\n",
      "Lyrics grabbed for Driven to Destruction by Riverside\n",
      "Searching for \"Egoist Hedonist\" by Riverside...\n"
     ]
    },
    {
     "name": "stderr",
     "output_type": "stream",
     "text": [
      "\r",
      "  3%|██▎                                                                          | 257/8465 [02:22<1:24:14,  1.62it/s]"
     ]
    },
    {
     "name": "stdout",
     "output_type": "stream",
     "text": [
      "Done.\n",
      "Lyrics grabbed for Egoist Hedonist by Riverside\n",
      "Searching for \"Left Out\" by Riverside...\n"
     ]
    },
    {
     "name": "stderr",
     "output_type": "stream",
     "text": [
      "\r",
      "  3%|██▎                                                                          | 258/8465 [02:23<1:24:41,  1.62it/s]"
     ]
    },
    {
     "name": "stdout",
     "output_type": "stream",
     "text": [
      "Done.\n",
      "Lyrics grabbed for Left Out by Riverside\n",
      "Searching for \"Hybrid Times\" by Riverside...\n"
     ]
    },
    {
     "name": "stderr",
     "output_type": "stream",
     "text": [
      "\r",
      "  3%|██▎                                                                          | 259/8465 [02:24<1:23:54,  1.63it/s]"
     ]
    },
    {
     "name": "stdout",
     "output_type": "stream",
     "text": [
      "Done.\n",
      "Lyrics grabbed for Hybrid Times by Riverside\n",
      "Searching for \"Evening Star\" by Big Big Train...\n"
     ]
    },
    {
     "name": "stderr",
     "output_type": "stream",
     "text": [
      "\r",
      "  3%|██▎                                                                          | 260/8465 [02:24<1:12:05,  1.90it/s]"
     ]
    },
    {
     "name": "stdout",
     "output_type": "stream",
     "text": [
      "Specified song does not contain lyrics. Rejecting.\n",
      "Could not find Evening Star by Big Big Train\n",
      "Searching for \"Master James of St George\" by Big Big Train...\n"
     ]
    },
    {
     "name": "stderr",
     "output_type": "stream",
     "text": [
      "\r",
      "  3%|██▎                                                                          | 261/8465 [02:25<1:16:18,  1.79it/s]"
     ]
    },
    {
     "name": "stdout",
     "output_type": "stream",
     "text": [
      "Done.\n",
      "Lyrics grabbed for Master James of St George by Big Big Train\n",
      "Searching for \"Victorian Brickwork\" by Big Big Train...\n"
     ]
    },
    {
     "name": "stderr",
     "output_type": "stream",
     "text": [
      "\r",
      "  3%|██▍                                                                          | 262/8465 [02:25<1:21:19,  1.68it/s]"
     ]
    },
    {
     "name": "stdout",
     "output_type": "stream",
     "text": [
      "Done.\n",
      "Lyrics grabbed for Victorian Brickwork by Big Big Train\n",
      "Searching for \"Last Train\" by Big Big Train...\n"
     ]
    },
    {
     "name": "stderr",
     "output_type": "stream",
     "text": [
      "\r",
      "  3%|██▍                                                                          | 263/8465 [02:26<1:22:08,  1.66it/s]"
     ]
    },
    {
     "name": "stdout",
     "output_type": "stream",
     "text": [
      "Done.\n",
      "Lyrics grabbed for Last Train by Big Big Train\n",
      "Searching for \"Winchester Diver\" by Big Big Train...\n"
     ]
    },
    {
     "name": "stderr",
     "output_type": "stream",
     "text": [
      "\r",
      "  3%|██▍                                                                          | 264/8465 [02:27<1:22:08,  1.66it/s]"
     ]
    },
    {
     "name": "stdout",
     "output_type": "stream",
     "text": [
      "Done.\n",
      "Lyrics grabbed for Winchester Diver by Big Big Train\n",
      "Searching for \"The Underfall Yard\" by Big Big Train...\n"
     ]
    },
    {
     "name": "stderr",
     "output_type": "stream",
     "text": [
      "\r",
      "  3%|██▍                                                                          | 265/8465 [02:27<1:24:00,  1.63it/s]"
     ]
    },
    {
     "name": "stdout",
     "output_type": "stream",
     "text": [
      "Done.\n",
      "Lyrics grabbed for The Underfall Yard by Big Big Train\n",
      "Searching for \"Songs from the Shoreline\" by Big Big Train...\n"
     ]
    },
    {
     "name": "stderr",
     "output_type": "stream",
     "text": [
      "\r",
      "  3%|██▍                                                                          | 266/8465 [02:28<1:23:08,  1.64it/s]"
     ]
    },
    {
     "name": "stdout",
     "output_type": "stream",
     "text": [
      "Done.\n",
      "Lyrics grabbed for Songs from the Shoreline by Big Big Train\n",
      "Searching for \"Prelude to the Underfall Yard\" by Big Big Train...\n"
     ]
    },
    {
     "name": "stderr",
     "output_type": "stream",
     "text": [
      "\r",
      "  3%|██▍                                                                          | 267/8465 [02:28<1:09:41,  1.96it/s]"
     ]
    },
    {
     "name": "stdout",
     "output_type": "stream",
     "text": [
      "Specified song does not contain lyrics. Rejecting.\n",
      "Could not find Prelude to the Underfall Yard by Big Big Train\n",
      "Searching for \"The Underfall Yard (2020)\" by Big Big Train...\n"
     ]
    },
    {
     "name": "stderr",
     "output_type": "stream",
     "text": [
      "\r",
      "  3%|██▍                                                                          | 268/8465 [02:29<1:13:14,  1.87it/s]"
     ]
    },
    {
     "name": "stdout",
     "output_type": "stream",
     "text": [
      "Done.\n",
      "Lyrics grabbed for The Underfall Yard (2020) by Big Big Train\n",
      "Searching for \"Brew and Burgh\" by Big Big Train...\n"
     ]
    },
    {
     "name": "stderr",
     "output_type": "stream",
     "text": [
      "\r",
      "  3%|██▍                                                                          | 269/8465 [02:29<1:16:03,  1.80it/s]"
     ]
    },
    {
     "name": "stdout",
     "output_type": "stream",
     "text": [
      "Done.\n",
      "Lyrics grabbed for Brew and Burgh by Big Big Train\n",
      "Searching for \"Passing\" by Leprous...\n"
     ]
    },
    {
     "name": "stderr",
     "output_type": "stream",
     "text": [
      "\r",
      "  3%|██▍                                                                          | 270/8465 [02:30<1:22:08,  1.66it/s]"
     ]
    },
    {
     "name": "stdout",
     "output_type": "stream",
     "text": [
      "Done.\n",
      "Lyrics grabbed for Passing by Leprous\n",
      "Searching for \"Phantom Pain\" by Leprous...\n"
     ]
    },
    {
     "name": "stderr",
     "output_type": "stream",
     "text": [
      "\r",
      "  3%|██▍                                                                          | 271/8465 [02:31<1:23:42,  1.63it/s]"
     ]
    },
    {
     "name": "stdout",
     "output_type": "stream",
     "text": [
      "Done.\n",
      "Lyrics grabbed for Phantom Pain by Leprous\n",
      "Searching for \"Dare You\" by Leprous...\n"
     ]
    },
    {
     "name": "stderr",
     "output_type": "stream",
     "text": [
      "\r",
      "  3%|██▍                                                                          | 272/8465 [02:31<1:22:21,  1.66it/s]"
     ]
    },
    {
     "name": "stdout",
     "output_type": "stream",
     "text": [
      "Done.\n",
      "Lyrics grabbed for Dare You by Leprous\n",
      "Searching for \"Fate\" by Leprous...\n"
     ]
    },
    {
     "name": "stderr",
     "output_type": "stream",
     "text": [
      "\r",
      "  3%|██▍                                                                          | 273/8465 [02:32<1:35:36,  1.43it/s]"
     ]
    },
    {
     "name": "stdout",
     "output_type": "stream",
     "text": [
      "Done.\n",
      "Lyrics grabbed for Fate by Leprous\n",
      "Searching for \"He Will Kill Again\" by Leprous...\n"
     ]
    },
    {
     "name": "stderr",
     "output_type": "stream",
     "text": [
      "\r",
      "  3%|██▍                                                                          | 274/8465 [02:33<1:31:50,  1.49it/s]"
     ]
    },
    {
     "name": "stdout",
     "output_type": "stream",
     "text": [
      "Done.\n",
      "Lyrics grabbed for He Will Kill Again by Leprous\n",
      "Searching for \"Not Even A Name\" by Leprous...\n"
     ]
    },
    {
     "name": "stderr",
     "output_type": "stream",
     "text": [
      "\r",
      "  3%|██▌                                                                          | 275/8465 [02:33<1:29:38,  1.52it/s]"
     ]
    },
    {
     "name": "stdout",
     "output_type": "stream",
     "text": [
      "Done.\n",
      "Lyrics grabbed for Not Even A Name by Leprous\n",
      "Searching for \"Tall Poppy Syndrome\" by Leprous...\n"
     ]
    },
    {
     "name": "stderr",
     "output_type": "stream",
     "text": [
      "\r",
      "  3%|██▌                                                                          | 276/8465 [02:34<1:29:37,  1.52it/s]"
     ]
    },
    {
     "name": "stdout",
     "output_type": "stream",
     "text": [
      "Done.\n",
      "Lyrics grabbed for Tall Poppy Syndrome by Leprous\n",
      "Searching for \"White\" by Leprous...\n"
     ]
    },
    {
     "name": "stderr",
     "output_type": "stream",
     "text": [
      "\r",
      "  3%|██▌                                                                          | 277/8465 [02:35<1:29:40,  1.52it/s]"
     ]
    },
    {
     "name": "stdout",
     "output_type": "stream",
     "text": [
      "Done.\n",
      "Lyrics grabbed for White by Leprous\n",
      "Searching for \"In My Dreams (Cudder Anthem)\" by Kid Cudi...\n"
     ]
    },
    {
     "name": "stderr",
     "output_type": "stream",
     "text": [
      "\r",
      "  3%|██▌                                                                          | 278/8465 [02:35<1:29:47,  1.52it/s]"
     ]
    },
    {
     "name": "stdout",
     "output_type": "stream",
     "text": [
      "Done.\n",
      "Lyrics grabbed for In My Dreams (Cudder Anthem) by Kid Cudi\n",
      "Searching for \"Soundtrack 2 My Life\" by Kid Cudi...\n"
     ]
    },
    {
     "name": "stderr",
     "output_type": "stream",
     "text": [
      "\r",
      "  3%|██▌                                                                          | 279/8465 [02:36<1:31:12,  1.50it/s]"
     ]
    },
    {
     "name": "stdout",
     "output_type": "stream",
     "text": [
      "Done.\n",
      "Lyrics grabbed for Soundtrack 2 My Life by Kid Cudi\n",
      "Searching for \"Simple As...\" by Kid Cudi...\n"
     ]
    },
    {
     "name": "stderr",
     "output_type": "stream",
     "text": [
      "\r",
      "  3%|██▌                                                                          | 280/8465 [02:37<1:29:48,  1.52it/s]"
     ]
    },
    {
     "name": "stdout",
     "output_type": "stream",
     "text": [
      "Done.\n",
      "Lyrics grabbed for Simple As... by Kid Cudi\n",
      "Searching for \"Solo Dolo (Nightmare)\" by Kid Cudi...\n"
     ]
    },
    {
     "name": "stderr",
     "output_type": "stream",
     "text": [
      "\r",
      "  3%|██▌                                                                          | 281/8465 [02:39<2:38:38,  1.16s/it]"
     ]
    },
    {
     "name": "stdout",
     "output_type": "stream",
     "text": [
      "Done.\n",
      "Lyrics grabbed for Solo Dolo (Nightmare) by Kid Cudi\n",
      "Searching for \"Heart Of A Lion (Kid Cudi Theme Music)\" by Kid Cudi...\n"
     ]
    },
    {
     "name": "stderr",
     "output_type": "stream",
     "text": [
      "\r",
      "  3%|██▌                                                                          | 282/8465 [02:40<2:15:58,  1.00it/s]"
     ]
    },
    {
     "name": "stdout",
     "output_type": "stream",
     "text": [
      "Done.\n",
      "Lyrics grabbed for Heart Of A Lion (Kid Cudi Theme Music) by Kid Cudi\n",
      "Searching for \"My World\" by Kid Cudi...\n"
     ]
    },
    {
     "name": "stderr",
     "output_type": "stream",
     "text": [
      "\r",
      "  3%|██▌                                                                          | 283/8465 [02:40<2:01:47,  1.12it/s]"
     ]
    },
    {
     "name": "stdout",
     "output_type": "stream",
     "text": [
      "Done.\n",
      "Lyrics grabbed for My World by Kid Cudi\n",
      "Searching for \"Day 'N' Nite (nightmare)\" by Kid Cudi...\n"
     ]
    },
    {
     "name": "stderr",
     "output_type": "stream",
     "text": [
      "\r",
      "  3%|██▌                                                                          | 284/8465 [02:44<4:08:57,  1.83s/it]"
     ]
    },
    {
     "name": "stdout",
     "output_type": "stream",
     "text": [
      "Done.\n",
      "Lyrics grabbed for Day 'N' Nite (nightmare) by Kid Cudi\n",
      "Searching for \"Sky Might Fall\" by Kid Cudi...\n"
     ]
    },
    {
     "name": "stderr",
     "output_type": "stream",
     "text": [
      "\r",
      "  3%|██▌                                                                          | 285/8465 [02:45<3:20:03,  1.47s/it]"
     ]
    },
    {
     "name": "stdout",
     "output_type": "stream",
     "text": [
      "Done.\n",
      "Lyrics grabbed for Sky Might Fall by Kid Cudi\n",
      "Searching for \"Enter Galactic (Love Connection Part I)\" by Kid Cudi...\n"
     ]
    },
    {
     "name": "stderr",
     "output_type": "stream",
     "text": [
      "\r",
      "  3%|██▌                                                                          | 286/8465 [02:46<2:52:06,  1.26s/it]"
     ]
    },
    {
     "name": "stdout",
     "output_type": "stream",
     "text": [
      "Done.\n",
      "Lyrics grabbed for Enter Galactic (Love Connection Part I) by Kid Cudi\n",
      "Searching for \"Alive (Nightmare)\" by Kid Cudi...\n"
     ]
    },
    {
     "name": "stderr",
     "output_type": "stream",
     "text": [
      "\r",
      "  3%|██▌                                                                          | 287/8465 [02:46<2:11:32,  1.04it/s]"
     ]
    },
    {
     "name": "stdout",
     "output_type": "stream",
     "text": [
      "Specified song does not contain lyrics. Rejecting.\n",
      "Could not find Alive (Nightmare) by Kid Cudi\n",
      "Searching for \"Cudi Zone\" by Kid Cudi...\n"
     ]
    },
    {
     "name": "stderr",
     "output_type": "stream",
     "text": [
      "\r",
      "  3%|██▌                                                                          | 288/8465 [02:47<1:58:09,  1.15it/s]"
     ]
    },
    {
     "name": "stdout",
     "output_type": "stream",
     "text": [
      "Done.\n",
      "Lyrics grabbed for Cudi Zone by Kid Cudi\n",
      "Searching for \"Make Her Say\" by Kid Cudi...\n"
     ]
    },
    {
     "name": "stderr",
     "output_type": "stream",
     "text": [
      "\r",
      "  3%|██▋                                                                          | 289/8465 [02:47<1:48:54,  1.25it/s]"
     ]
    },
    {
     "name": "stdout",
     "output_type": "stream",
     "text": [
      "Done.\n",
      "Lyrics grabbed for Make Her Say by Kid Cudi\n",
      "Searching for \"Pursuit Of Happiness (Nightmare)\" by Kid Cudi...\n"
     ]
    },
    {
     "name": "stderr",
     "output_type": "stream",
     "text": [
      "\r",
      "  3%|██▋                                                                          | 290/8465 [02:48<1:46:57,  1.27it/s]"
     ]
    },
    {
     "name": "stdout",
     "output_type": "stream",
     "text": [
      "Done.\n",
      "Lyrics grabbed for Pursuit Of Happiness (Nightmare) by Kid Cudi\n",
      "Searching for \"Hyyerr\" by Kid Cudi...\n"
     ]
    },
    {
     "name": "stderr",
     "output_type": "stream",
     "text": [
      "\r",
      "  3%|██▋                                                                          | 291/8465 [02:49<1:41:53,  1.34it/s]"
     ]
    },
    {
     "name": "stdout",
     "output_type": "stream",
     "text": [
      "Done.\n",
      "Lyrics grabbed for Hyyerr by Kid Cudi\n",
      "Searching for \"Up Up & Away\" by Kid Cudi...\n"
     ]
    },
    {
     "name": "stderr",
     "output_type": "stream",
     "text": [
      "\r",
      "  3%|██▋                                                                          | 292/8465 [02:49<1:38:26,  1.38it/s]"
     ]
    },
    {
     "name": "stdout",
     "output_type": "stream",
     "text": [
      "Done.\n",
      "Lyrics grabbed for Up Up & Away by Kid Cudi\n",
      "Searching for \"Man On The Moon\" by Kid Cudi...\n"
     ]
    },
    {
     "name": "stderr",
     "output_type": "stream",
     "text": [
      "\r",
      "  3%|██▋                                                                          | 293/8465 [02:50<1:33:56,  1.45it/s]"
     ]
    },
    {
     "name": "stdout",
     "output_type": "stream",
     "text": [
      "Done.\n",
      "Lyrics grabbed for Man On The Moon by Kid Cudi\n",
      "Searching for \"T.G.I.F.\" by Kid Cudi...\n"
     ]
    },
    {
     "name": "stderr",
     "output_type": "stream",
     "text": [
      "\r",
      "  3%|██▋                                                                          | 294/8465 [02:51<1:32:02,  1.48it/s]"
     ]
    },
    {
     "name": "stdout",
     "output_type": "stream",
     "text": [
      "Done.\n",
      "Lyrics grabbed for T.G.I.F. by Kid Cudi\n",
      "Searching for \"Is There Any Love\" by Kid Cudi...\n"
     ]
    },
    {
     "name": "stderr",
     "output_type": "stream",
     "text": [
      "\r",
      "  3%|██▋                                                                          | 295/8465 [02:51<1:30:24,  1.51it/s]"
     ]
    },
    {
     "name": "stdout",
     "output_type": "stream",
     "text": [
      "Done.\n",
      "Lyrics grabbed for Is There Any Love by Kid Cudi\n",
      "Searching for \"Simple Boy\" by Karnivool...\n"
     ]
    },
    {
     "name": "stderr",
     "output_type": "stream",
     "text": [
      "\r",
      "  3%|██▋                                                                          | 296/8465 [02:52<1:29:49,  1.52it/s]"
     ]
    },
    {
     "name": "stdout",
     "output_type": "stream",
     "text": [
      "Done.\n",
      "Lyrics grabbed for Simple Boy by Karnivool\n",
      "Searching for \"Goliath\" by Karnivool...\n"
     ]
    },
    {
     "name": "stderr",
     "output_type": "stream",
     "text": [
      "\r",
      "  4%|██▋                                                                          | 297/8465 [02:52<1:28:56,  1.53it/s]"
     ]
    },
    {
     "name": "stdout",
     "output_type": "stream",
     "text": [
      "Done.\n",
      "Lyrics grabbed for Goliath by Karnivool\n",
      "Searching for \"New Day\" by Karnivool...\n"
     ]
    },
    {
     "name": "stderr",
     "output_type": "stream",
     "text": [
      "\r",
      "  4%|██▋                                                                          | 298/8465 [02:53<1:26:42,  1.57it/s]"
     ]
    },
    {
     "name": "stdout",
     "output_type": "stream",
     "text": [
      "Done.\n",
      "Lyrics grabbed for New Day by Karnivool\n",
      "Searching for \"Set Fire to the Hive\" by Karnivool...\n"
     ]
    },
    {
     "name": "stderr",
     "output_type": "stream",
     "text": [
      "\r",
      "  4%|██▋                                                                          | 299/8465 [02:54<1:25:20,  1.59it/s]"
     ]
    },
    {
     "name": "stdout",
     "output_type": "stream",
     "text": [
      "Done.\n",
      "Lyrics grabbed for Set Fire to the Hive by Karnivool\n",
      "Searching for \"Umbra\" by Karnivool...\n"
     ]
    },
    {
     "name": "stderr",
     "output_type": "stream",
     "text": [
      "\r",
      "  4%|██▋                                                                          | 300/8465 [02:54<1:26:49,  1.57it/s]"
     ]
    },
    {
     "name": "stdout",
     "output_type": "stream",
     "text": [
      "Done.\n",
      "Lyrics grabbed for Umbra by Karnivool\n",
      "Searching for \"All I Know\" by Karnivool...\n"
     ]
    },
    {
     "name": "stderr",
     "output_type": "stream",
     "text": [
      "\r",
      "  4%|██▋                                                                          | 301/8465 [02:55<1:26:19,  1.58it/s]"
     ]
    },
    {
     "name": "stdout",
     "output_type": "stream",
     "text": [
      "Done.\n",
      "Lyrics grabbed for All I Know by Karnivool\n",
      "Searching for \"The Medicine Wears Off\" by Karnivool...\n"
     ]
    },
    {
     "name": "stderr",
     "output_type": "stream",
     "text": [
      "\r",
      "  4%|██▋                                                                          | 302/8465 [02:56<1:25:09,  1.60it/s]"
     ]
    },
    {
     "name": "stdout",
     "output_type": "stream",
     "text": [
      "Done.\n",
      "Lyrics grabbed for The Medicine Wears Off by Karnivool\n",
      "Searching for \"The Caudal Lure\" by Karnivool...\n"
     ]
    },
    {
     "name": "stderr",
     "output_type": "stream",
     "text": [
      "\r",
      "  4%|██▊                                                                          | 303/8465 [02:56<1:26:15,  1.58it/s]"
     ]
    },
    {
     "name": "stdout",
     "output_type": "stream",
     "text": [
      "Done.\n",
      "Lyrics grabbed for The Caudal Lure by Karnivool\n",
      "Searching for \"Illumine\" by Karnivool...\n"
     ]
    },
    {
     "name": "stderr",
     "output_type": "stream",
     "text": [
      "\r",
      "  4%|██▊                                                                          | 304/8465 [02:57<1:26:36,  1.57it/s]"
     ]
    },
    {
     "name": "stdout",
     "output_type": "stream",
     "text": [
      "Done.\n",
      "Lyrics grabbed for Illumine by Karnivool\n",
      "Searching for \"Deadman\" by Karnivool...\n"
     ]
    },
    {
     "name": "stderr",
     "output_type": "stream",
     "text": [
      "\r",
      "  4%|██▊                                                                          | 305/8465 [02:58<1:26:52,  1.57it/s]"
     ]
    },
    {
     "name": "stdout",
     "output_type": "stream",
     "text": [
      "Done.\n",
      "Lyrics grabbed for Deadman by Karnivool\n",
      "Searching for \"Change\" by Karnivool...\n"
     ]
    },
    {
     "name": "stderr",
     "output_type": "stream",
     "text": [
      "\r",
      "  4%|██▊                                                                          | 306/8465 [02:58<1:26:04,  1.58it/s]"
     ]
    },
    {
     "name": "stdout",
     "output_type": "stream",
     "text": [
      "Done.\n",
      "Lyrics grabbed for Change by Karnivool\n",
      "Searching for \"Roquefort (with Empire Horns)\" by Karnivool...\n"
     ]
    },
    {
     "name": "stderr",
     "output_type": "stream",
     "text": [
      "\r",
      "  4%|██▊                                                                          | 307/8465 [02:59<1:24:51,  1.60it/s]"
     ]
    },
    {
     "name": "stdout",
     "output_type": "stream",
     "text": [
      "Done.\n",
      "Lyrics grabbed for Roquefort (with Empire Horns) by Karnivool\n",
      "Searching for \"Szervetlen\" by Thy Catafalque...\n"
     ]
    },
    {
     "name": "stderr",
     "output_type": "stream",
     "text": [
      "\r",
      "  4%|██▊                                                                          | 308/8465 [02:59<1:25:18,  1.59it/s]"
     ]
    },
    {
     "name": "stdout",
     "output_type": "stream",
     "text": [
      "Done.\n",
      "Lyrics grabbed for Szervetlen by Thy Catafalque\n",
      "Searching for \"Molekuláris Gépezetek\" by Thy Catafalque...\n"
     ]
    },
    {
     "name": "stderr",
     "output_type": "stream",
     "text": [
      "\r",
      "  4%|██▊                                                                          | 309/8465 [03:00<1:25:20,  1.59it/s]"
     ]
    },
    {
     "name": "stdout",
     "output_type": "stream",
     "text": [
      "Done.\n",
      "Lyrics grabbed for Molekuláris Gépezetek by Thy Catafalque\n",
      "Searching for \"Köd Utánam\" by Thy Catafalque...\n"
     ]
    },
    {
     "name": "stderr",
     "output_type": "stream",
     "text": [
      "\r",
      "  4%|██▊                                                                          | 310/8465 [03:01<1:27:04,  1.56it/s]"
     ]
    },
    {
     "name": "stdout",
     "output_type": "stream",
     "text": [
      "Done.\n",
      "Lyrics grabbed for Köd Utánam by Thy Catafalque\n",
      "Searching for \"Űrhajók Makón\" by Thy Catafalque...\n"
     ]
    },
    {
     "name": "stderr",
     "output_type": "stream",
     "text": [
      "\r",
      "  4%|██▊                                                                          | 311/8465 [03:01<1:24:44,  1.60it/s]"
     ]
    },
    {
     "name": "stdout",
     "output_type": "stream",
     "text": [
      "Done.\n",
      "Lyrics grabbed for Űrhajók Makón by Thy Catafalque\n",
      "Searching for \"Piroshátú\" by Thy Catafalque...\n"
     ]
    },
    {
     "name": "stderr",
     "output_type": "stream",
     "text": [
      "\r",
      "  4%|██▊                                                                          | 312/8465 [03:02<1:10:08,  1.94it/s]"
     ]
    },
    {
     "name": "stdout",
     "output_type": "stream",
     "text": [
      "Specified song does not contain lyrics. Rejecting.\n",
      "Could not find Piroshátú by Thy Catafalque\n",
      "Searching for \"Esőlámpás\" by Thy Catafalque...\n"
     ]
    },
    {
     "name": "stderr",
     "output_type": "stream",
     "text": [
      "\r",
      "  4%|██▊                                                                          | 313/8465 [03:02<1:14:43,  1.82it/s]"
     ]
    },
    {
     "name": "stdout",
     "output_type": "stream",
     "text": [
      "Done.\n",
      "Lyrics grabbed for Esőlámpás by Thy Catafalque\n",
      "Searching for \"Kabócák, Bodobácsok\" by Thy Catafalque...\n"
     ]
    },
    {
     "name": "stderr",
     "output_type": "stream",
     "text": [
      "\r",
      "  4%|██▊                                                                          | 314/8465 [03:03<1:17:32,  1.75it/s]"
     ]
    },
    {
     "name": "stdout",
     "output_type": "stream",
     "text": [
      "Done.\n",
      "Lyrics grabbed for Kabócák, Bodobácsok by Thy Catafalque\n",
      "Searching for \"Őszi Varázslók\" by Thy Catafalque...\n"
     ]
    },
    {
     "name": "stderr",
     "output_type": "stream",
     "text": [
      "\r",
      "  4%|██▊                                                                          | 315/8465 [03:03<1:21:07,  1.67it/s]"
     ]
    },
    {
     "name": "stdout",
     "output_type": "stream",
     "text": [
      "Done.\n",
      "Lyrics grabbed for Őszi Varázslók by Thy Catafalque\n",
      "Searching for \"Fehér Berek\" by Thy Catafalque...\n"
     ]
    },
    {
     "name": "stderr",
     "output_type": "stream",
     "text": [
      "\r",
      "  4%|██▊                                                                          | 316/8465 [03:04<1:21:23,  1.67it/s]"
     ]
    },
    {
     "name": "stdout",
     "output_type": "stream",
     "text": [
      "Done.\n",
      "Lyrics grabbed for Fehér Berek by Thy Catafalque\n",
      "Searching for \"Sampo\" by Amorphis...\n"
     ]
    },
    {
     "name": "stderr",
     "output_type": "stream",
     "text": [
      "\r",
      "  4%|██▉                                                                          | 317/8465 [03:05<1:24:31,  1.61it/s]"
     ]
    },
    {
     "name": "stdout",
     "output_type": "stream",
     "text": [
      "Done.\n",
      "Lyrics grabbed for Sampo by Amorphis\n",
      "Searching for \"Silver Bride\" by Amorphis...\n"
     ]
    },
    {
     "name": "stderr",
     "output_type": "stream",
     "text": [
      "\r",
      "  4%|██▉                                                                          | 318/8465 [03:05<1:25:04,  1.60it/s]"
     ]
    },
    {
     "name": "stdout",
     "output_type": "stream",
     "text": [
      "Done.\n",
      "Lyrics grabbed for Silver Bride by Amorphis\n",
      "Searching for \"From The Heaven Of My Heart\" by Amorphis...\n"
     ]
    },
    {
     "name": "stderr",
     "output_type": "stream",
     "text": [
      "\r",
      "  4%|██▉                                                                          | 319/8465 [03:06<1:24:25,  1.61it/s]"
     ]
    },
    {
     "name": "stdout",
     "output_type": "stream",
     "text": [
      "Done.\n",
      "Lyrics grabbed for From The Heaven Of My Heart by Amorphis\n",
      "Searching for \"Sky Is Mine\" by Amorphis...\n"
     ]
    },
    {
     "name": "stderr",
     "output_type": "stream",
     "text": [
      "\r",
      "  4%|██▉                                                                          | 320/8465 [03:07<1:26:09,  1.58it/s]"
     ]
    },
    {
     "name": "stdout",
     "output_type": "stream",
     "text": [
      "Done.\n",
      "Lyrics grabbed for Sky Is Mine by Amorphis\n",
      "Searching for \"Majestic Beast\" by Amorphis...\n"
     ]
    },
    {
     "name": "stderr",
     "output_type": "stream",
     "text": [
      "\r",
      "  4%|██▉                                                                          | 321/8465 [03:07<1:26:04,  1.58it/s]"
     ]
    },
    {
     "name": "stdout",
     "output_type": "stream",
     "text": [
      "Done.\n",
      "Lyrics grabbed for Majestic Beast by Amorphis\n",
      "Searching for \"My Sun\" by Amorphis...\n"
     ]
    },
    {
     "name": "stderr",
     "output_type": "stream",
     "text": [
      "\r",
      "  4%|██▉                                                                          | 322/8465 [03:08<1:25:24,  1.59it/s]"
     ]
    },
    {
     "name": "stdout",
     "output_type": "stream",
     "text": [
      "Done.\n",
      "Lyrics grabbed for My Sun by Amorphis\n",
      "Searching for \"Highest Star\" by Amorphis...\n"
     ]
    },
    {
     "name": "stderr",
     "output_type": "stream",
     "text": [
      "\r",
      "  4%|██▉                                                                          | 323/8465 [03:09<1:26:18,  1.57it/s]"
     ]
    },
    {
     "name": "stdout",
     "output_type": "stream",
     "text": [
      "Done.\n",
      "Lyrics grabbed for Highest Star by Amorphis\n",
      "Searching for \"Skyforger\" by Amorphis...\n"
     ]
    },
    {
     "name": "stderr",
     "output_type": "stream",
     "text": [
      "\r",
      "  4%|██▉                                                                          | 324/8465 [03:09<1:26:23,  1.57it/s]"
     ]
    },
    {
     "name": "stdout",
     "output_type": "stream",
     "text": [
      "Done.\n",
      "Lyrics grabbed for Skyforger by Amorphis\n",
      "Searching for \"Course Of Fate\" by Amorphis...\n"
     ]
    },
    {
     "name": "stderr",
     "output_type": "stream",
     "text": [
      "\r",
      "  4%|██▉                                                                          | 325/8465 [03:10<1:26:28,  1.57it/s]"
     ]
    },
    {
     "name": "stdout",
     "output_type": "stream",
     "text": [
      "Done.\n",
      "Lyrics grabbed for Course Of Fate by Amorphis\n",
      "Searching for \"From Earth I Rose\" by Amorphis...\n"
     ]
    },
    {
     "name": "stderr",
     "output_type": "stream",
     "text": [
      "\r",
      "  4%|██▉                                                                          | 326/8465 [03:10<1:26:26,  1.57it/s]"
     ]
    },
    {
     "name": "stdout",
     "output_type": "stream",
     "text": [
      "Done.\n",
      "Lyrics grabbed for From Earth I Rose by Amorphis\n",
      "Searching for \"So Nice\" by Tomasz Stanko Quintet...\n"
     ]
    },
    {
     "name": "stderr",
     "output_type": "stream",
     "text": [
      "\r",
      "  4%|██▉                                                                          | 327/8465 [03:11<1:11:53,  1.89it/s]"
     ]
    },
    {
     "name": "stdout",
     "output_type": "stream",
     "text": [
      "No results found for: 'So Nice Tomasz Stanko Quintet'\n",
      "Could not find So Nice by Tomasz Stanko Quintet\n",
      "Searching for \"Terminal 7\" by Tomasz Stanko Quintet...\n"
     ]
    },
    {
     "name": "stderr",
     "output_type": "stream",
     "text": [
      "\r",
      "  4%|██▉                                                                          | 328/8465 [03:11<1:01:44,  2.20it/s]"
     ]
    },
    {
     "name": "stdout",
     "output_type": "stream",
     "text": [
      "No results found for: 'Terminal 7 Tomasz Stanko Quintet'\n",
      "Could not find Terminal 7 by Tomasz Stanko Quintet\n",
      "Searching for \"The Dark Eyes Of Martha Hirsch\" by Tomasz Stanko Quintet...\n"
     ]
    },
    {
     "name": "stderr",
     "output_type": "stream",
     "text": [
      "\r",
      "  4%|███                                                                            | 329/8465 [03:11<54:40,  2.48it/s]"
     ]
    },
    {
     "name": "stdout",
     "output_type": "stream",
     "text": [
      "No results found for: 'The Dark Eyes Of Martha Hirsch Tomasz Stanko Quintet'\n",
      "Could not find The Dark Eyes Of Martha Hirsch by Tomasz Stanko Quintet\n",
      "Searching for \"Grand Central\" by Tomasz Stanko Quintet...\n"
     ]
    },
    {
     "name": "stderr",
     "output_type": "stream",
     "text": [
      "\r",
      "  4%|███                                                                            | 330/8465 [03:12<52:13,  2.60it/s]"
     ]
    },
    {
     "name": "stdout",
     "output_type": "stream",
     "text": [
      "No results found for: 'Grand Central Tomasz Stanko Quintet'\n",
      "Could not find Grand Central by Tomasz Stanko Quintet\n",
      "Searching for \"Amsterdam Avenue\" by Tomasz Stanko Quintet...\n"
     ]
    },
    {
     "name": "stderr",
     "output_type": "stream",
     "text": [
      "\r",
      "  4%|███                                                                            | 331/8465 [03:12<47:19,  2.86it/s]"
     ]
    },
    {
     "name": "stdout",
     "output_type": "stream",
     "text": [
      "No results found for: 'Amsterdam Avenue Tomasz Stanko Quintet'\n",
      "Could not find Amsterdam Avenue by Tomasz Stanko Quintet\n",
      "Searching for \"Samba Nova\" by Tomasz Stanko Quintet...\n"
     ]
    },
    {
     "name": "stderr",
     "output_type": "stream",
     "text": [
      "\r",
      "  4%|███                                                                            | 332/8465 [03:12<44:33,  3.04it/s]"
     ]
    },
    {
     "name": "stdout",
     "output_type": "stream",
     "text": [
      "No results found for: 'Samba Nova Tomasz Stanko Quintet'\n",
      "Could not find Samba Nova by Tomasz Stanko Quintet\n",
      "Searching for \"Dirge For Europe\" by Tomasz Stanko Quintet...\n"
     ]
    },
    {
     "name": "stderr",
     "output_type": "stream",
     "text": [
      "\r",
      "  4%|███                                                                            | 333/8465 [03:12<42:31,  3.19it/s]"
     ]
    },
    {
     "name": "stdout",
     "output_type": "stream",
     "text": [
      "No results found for: 'Dirge For Europe Tomasz Stanko Quintet'\n",
      "Could not find Dirge For Europe by Tomasz Stanko Quintet\n",
      "Searching for \"May Sun\" by Tomasz Stanko Quintet...\n"
     ]
    },
    {
     "name": "stderr",
     "output_type": "stream",
     "text": [
      "\r",
      "  4%|███                                                                            | 334/8465 [03:13<41:02,  3.30it/s]"
     ]
    },
    {
     "name": "stdout",
     "output_type": "stream",
     "text": [
      "No results found for: 'May Sun Tomasz Stanko Quintet'\n",
      "Could not find May Sun by Tomasz Stanko Quintet\n",
      "Searching for \"Last Song\" by Tomasz Stanko Quintet...\n"
     ]
    },
    {
     "name": "stderr",
     "output_type": "stream",
     "text": [
      "\r",
      "  4%|███▏                                                                           | 335/8465 [03:13<39:33,  3.42it/s]"
     ]
    },
    {
     "name": "stdout",
     "output_type": "stream",
     "text": [
      "No results found for: 'Last Song Tomasz Stanko Quintet'\n",
      "Could not find Last Song by Tomasz Stanko Quintet\n",
      "Searching for \"Etiuda Baletowa No. 3\" by Tomasz Stanko Quintet...\n"
     ]
    },
    {
     "name": "stderr",
     "output_type": "stream",
     "text": [
      "\r",
      "  4%|███▏                                                                           | 336/8465 [03:13<38:28,  3.52it/s]"
     ]
    },
    {
     "name": "stdout",
     "output_type": "stream",
     "text": [
      "No results found for: 'Etiuda Baletowa No. 3 Tomasz Stanko Quintet'\n",
      "Could not find Etiuda Baletowa No. 3 by Tomasz Stanko Quintet\n",
      "Searching for \"The Strangers\" by St. Vincent...\n"
     ]
    },
    {
     "name": "stderr",
     "output_type": "stream",
     "text": [
      "\r",
      "  4%|███▏                                                                           | 337/8465 [03:14<52:01,  2.60it/s]"
     ]
    },
    {
     "name": "stdout",
     "output_type": "stream",
     "text": [
      "Done.\n",
      "Lyrics grabbed for The Strangers by St. Vincent\n",
      "Searching for \"Save Me from What I Want\" by St. Vincent...\n"
     ]
    },
    {
     "name": "stderr",
     "output_type": "stream",
     "text": [
      "\r",
      "  4%|███                                                                          | 338/8465 [03:15<1:02:18,  2.17it/s]"
     ]
    },
    {
     "name": "stdout",
     "output_type": "stream",
     "text": [
      "Done.\n",
      "Lyrics grabbed for Save Me from What I Want by St. Vincent\n",
      "Searching for \"The Neighbors\" by St. Vincent...\n"
     ]
    },
    {
     "name": "stderr",
     "output_type": "stream",
     "text": [
      "\r",
      "  4%|███                                                                          | 339/8465 [03:15<1:08:56,  1.96it/s]"
     ]
    },
    {
     "name": "stdout",
     "output_type": "stream",
     "text": [
      "Done.\n",
      "Lyrics grabbed for The Neighbors by St. Vincent\n",
      "Searching for \"Actor Out of Work\" by St. Vincent...\n"
     ]
    },
    {
     "name": "stderr",
     "output_type": "stream",
     "text": [
      "\r",
      "  4%|███                                                                          | 340/8465 [03:16<1:16:42,  1.77it/s]"
     ]
    },
    {
     "name": "stdout",
     "output_type": "stream",
     "text": [
      "Done.\n",
      "Lyrics grabbed for Actor Out of Work by St. Vincent\n",
      "Searching for \"Black Rainbow\" by St. Vincent...\n"
     ]
    },
    {
     "name": "stderr",
     "output_type": "stream",
     "text": [
      "\r",
      "  4%|███                                                                          | 341/8465 [03:16<1:20:25,  1.68it/s]"
     ]
    },
    {
     "name": "stdout",
     "output_type": "stream",
     "text": [
      "Done.\n",
      "Lyrics grabbed for Black Rainbow by St. Vincent\n",
      "Searching for \"Laughing with a Mouth of Blood\" by St. Vincent...\n"
     ]
    },
    {
     "name": "stderr",
     "output_type": "stream",
     "text": [
      "\r",
      "  4%|███                                                                          | 342/8465 [03:17<1:22:18,  1.64it/s]"
     ]
    },
    {
     "name": "stdout",
     "output_type": "stream",
     "text": [
      "Done.\n",
      "Lyrics grabbed for Laughing with a Mouth of Blood by St. Vincent\n",
      "Searching for \"Marrow\" by St. Vincent...\n"
     ]
    },
    {
     "name": "stderr",
     "output_type": "stream",
     "text": [
      "\r",
      "  4%|███                                                                          | 343/8465 [03:18<1:25:40,  1.58it/s]"
     ]
    },
    {
     "name": "stdout",
     "output_type": "stream",
     "text": [
      "Done.\n",
      "Lyrics grabbed for Marrow by St. Vincent\n",
      "Searching for \"The Bed\" by St. Vincent...\n"
     ]
    },
    {
     "name": "stderr",
     "output_type": "stream",
     "text": [
      "\r",
      "  4%|███▏                                                                         | 344/8465 [03:18<1:24:33,  1.60it/s]"
     ]
    },
    {
     "name": "stdout",
     "output_type": "stream",
     "text": [
      "Done.\n",
      "Lyrics grabbed for The Bed by St. Vincent\n",
      "Searching for \"The Party\" by St. Vincent...\n"
     ]
    },
    {
     "name": "stderr",
     "output_type": "stream",
     "text": [
      "\r",
      "  4%|███▏                                                                         | 345/8465 [03:19<1:23:49,  1.61it/s]"
     ]
    },
    {
     "name": "stdout",
     "output_type": "stream",
     "text": [
      "Done.\n",
      "Lyrics grabbed for The Party by St. Vincent\n",
      "Searching for \"Just the Same But Brand New\" by St. Vincent...\n"
     ]
    },
    {
     "name": "stderr",
     "output_type": "stream",
     "text": [
      "\r",
      "  4%|███▏                                                                         | 346/8465 [03:20<1:23:25,  1.62it/s]"
     ]
    },
    {
     "name": "stdout",
     "output_type": "stream",
     "text": [
      "Done.\n",
      "Lyrics grabbed for Just the Same But Brand New by St. Vincent\n",
      "Searching for \"The Sequel\" by St. Vincent...\n"
     ]
    },
    {
     "name": "stderr",
     "output_type": "stream",
     "text": [
      "\r",
      "  4%|███▏                                                                         | 347/8465 [03:20<1:24:02,  1.61it/s]"
     ]
    },
    {
     "name": "stdout",
     "output_type": "stream",
     "text": [
      "Done.\n",
      "Lyrics grabbed for The Sequel by St. Vincent\n",
      "Searching for \"Take off\" by Perfume...\n"
     ]
    },
    {
     "name": "stderr",
     "output_type": "stream",
     "text": [
      "\r",
      "  4%|███▏                                                                         | 348/8465 [03:21<1:23:37,  1.62it/s]"
     ]
    },
    {
     "name": "stdout",
     "output_type": "stream",
     "text": [
      "Done.\n",
      "Lyrics grabbed for Take off by Perfume\n",
      "Searching for \"love the world\" by Perfume...\n"
     ]
    },
    {
     "name": "stderr",
     "output_type": "stream",
     "text": [
      "\r",
      "  4%|███▏                                                                         | 349/8465 [03:22<1:24:00,  1.61it/s]"
     ]
    },
    {
     "name": "stdout",
     "output_type": "stream",
     "text": [
      "Done.\n",
      "Lyrics grabbed for love the world by Perfume\n",
      "Searching for \"Dream Fighter\" by Perfume...\n"
     ]
    },
    {
     "name": "stderr",
     "output_type": "stream",
     "text": [
      "\r",
      "  4%|███▏                                                                         | 350/8465 [03:22<1:26:21,  1.57it/s]"
     ]
    },
    {
     "name": "stdout",
     "output_type": "stream",
     "text": [
      "Done.\n",
      "Lyrics grabbed for Dream Fighter by Perfume\n",
      "Searching for \"edge - Triangle-mix\" by Perfume...\n"
     ]
    },
    {
     "name": "stderr",
     "output_type": "stream",
     "text": [
      "\r",
      "  4%|███▏                                                                         | 351/8465 [03:22<1:11:42,  1.89it/s]"
     ]
    },
    {
     "name": "stdout",
     "output_type": "stream",
     "text": [
      "No results found for: 'edge - Triangle-mix Perfume'\n",
      "Could not find edge - Triangle-mix by Perfume\n",
      "Searching for \"NIGHT FLIGHT\" by Perfume...\n"
     ]
    },
    {
     "name": "stderr",
     "output_type": "stream",
     "text": [
      "\r",
      "  4%|███▏                                                                         | 352/8465 [03:23<1:16:47,  1.76it/s]"
     ]
    }
   ],
   "source": [
    "# Loading Data and adding lyrics for each track\n",
    "\n",
    "# Counter to slow down the API calls\n",
    "sleeper = defaultdict(lambda: 0.5)\n",
    "\n",
    "\n",
    "for order in all_paths.keys():\n",
    "    \n",
    "    # Search for a specific category\n",
    "    if order != 'top':\n",
    "        continue\n",
    "    \n",
    "    # Iterating through all the file paths in that category\n",
    "    for j_file in all_paths[order]:\n",
    "        counter = 0\n",
    "        \n",
    "        # Getting the year from the file path\n",
    "        year = j_file[-9:-5]\n",
    "        \n",
    "        # Look for a specific year\n",
    "        if int(year) in [2001,2013,2008,2007,2006,2005]:\n",
    "            continue\n",
    "        \n",
    "        # Opening a file \n",
    "        with open(j_file) as f:\n",
    "            data_dict = json.load(f)\n",
    "            \n",
    "        # Appending the new dictionaries with added information into new_vals\n",
    "        new_vals = []\n",
    "\n",
    "        # Iterating through each entry in the original dictionary\n",
    "        for entry in tqdm.tqdm(data_dict):\n",
    "            counter +=1 \n",
    "\n",
    "            # Sleeper to reduce timeout\n",
    "#                 time.sleep(sleeper['search'])\n",
    "\n",
    "            # Getting the track lyrics\n",
    "            try:\n",
    "                song = {}\n",
    "                song['lyrics'] = genius.search_song(title = entry['spotify track name'], artist = entry['Artist Name'])\n",
    "                if song['lyrics'] == None:\n",
    "                    print(f\"Could not find {entry['spotify track name']} by {entry['Artist Name']}\")\n",
    "                else:\n",
    "                    print(f\"Lyrics grabbed for {entry['spotify track name']} by {entry['Artist Name']}\")\n",
    "            except Exception as e:\n",
    "                print(e)\n",
    "                song['lyrics'] = None\n",
    "                print(f\"Exception for {entry['spotify track name']} by {entry['Artist Name']}\")\n",
    "\n",
    "            if song['lyrics'] and not(isinstance(song['lyrics'],str)):\n",
    "                song['lyrics'] = song['lyrics'].lyrics\n",
    "            # Creating a new dictionary with added information\n",
    "            dup_entry = copy.deepcopy(entry)\n",
    "            dup_entry.update(song)\n",
    "            new_vals.append(dup_entry)\n",
    "            \n",
    "            if counter%10 == 0:\n",
    "                path = f\"data/genius_lyrics/{order}/{year}.json\"\n",
    "                # File to write to       \n",
    "                with open(path, 'w') as file:\n",
    "                    json.dump(new_vals, file)\n",
    "\n",
    "        path = f\"data/genius_lyrics/{order}/{year}.json\"\n",
    "        # File to write to       \n",
    "        with open(path, 'w') as file:\n",
    "            json.dump(new_vals, file)"
   ]
  },
  {
   "cell_type": "code",
   "execution_count": null,
   "metadata": {},
   "outputs": [],
   "source": []
  }
 ],
 "metadata": {
  "colab": {
   "provenance": []
  },
  "kernelspec": {
   "display_name": "Python 3",
   "language": "python",
   "name": "python3"
  },
  "language_info": {
   "codemirror_mode": {
    "name": "ipython",
    "version": 3
   },
   "file_extension": ".py",
   "mimetype": "text/x-python",
   "name": "python",
   "nbconvert_exporter": "python",
   "pygments_lexer": "ipython3",
   "version": "3.8.5"
  }
 },
 "nbformat": 4,
 "nbformat_minor": 1
}

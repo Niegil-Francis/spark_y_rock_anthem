{
 "cells": [
  {
   "cell_type": "code",
   "execution_count": 1,
   "metadata": {},
   "outputs": [],
   "source": [
    "#import packages\n",
    "from selenium import webdriver\n",
    "import time\n",
    "import pandas as pd\n",
    "import numpy as np\n",
    "from selenium.common.exceptions import NoSuchElementException \n",
    "import tqdm\n",
    "from selenium.webdriver.chrome.service import Service\n",
    "from webdriver_manager.chrome import ChromeDriverManager\n",
    "import os \n",
    "from selenium.webdriver.support.ui import WebDriverWait, Select\n",
    "from selenium.webdriver.support import expected_conditions as EC\n",
    "from selenium.webdriver.common.by import By\n",
    "from selenium.common.exceptions import TimeoutException, NoSuchElementException\n",
    "from selenium.webdriver.common.action_chains import ActionChains\n",
    "from selenium.webdriver.common.keys import Keys\n",
    "from warnings import filterwarnings\n",
    "import json"
   ]
  },
  {
   "cell_type": "code",
   "execution_count": 22,
   "metadata": {},
   "outputs": [
    {
     "name": "stderr",
     "output_type": "stream",
     "text": [
      "[WDM] - Downloading:  97%|██████████████████████████████████████████████████████▍ | 6.60M/6.80M [00:01<00:00, 6.60MB/s]"
     ]
    }
   ],
   "source": [
    "#initialize chrome driver\n",
    "driver = webdriver.Chrome(service=Service(ChromeDriverManager().install()))\n",
    "driver.set_window_size(1120, 1000)"
   ]
  },
  {
   "cell_type": "code",
   "execution_count": 23,
   "metadata": {},
   "outputs": [],
   "source": [
    "#function for requesting number of albums\n",
    "def get_albums(num_albums, verbose, url):\n",
    "    \n",
    "    '''Gathers albums as a dataframe, scraped from rateyourmusic.com'''   \n",
    "    \n",
    "    driver.get(url)\n",
    "    \n",
    "    #wait for browser to open\n",
    "    time.sleep(10)\n",
    "    \n",
    "    #initialize albums array\n",
    "    albums = []\n",
    "    \n",
    "    #for loop to go through ranked albums \n",
    "    for position in range(1,num_albums+1):\n",
    "            \n",
    "        #xpath to specify album ranking\n",
    "        xpath = './/div[@id=\"pos'\n",
    "        xpath += str(position)\n",
    "        xpath += '\"]'\n",
    "        \n",
    "        #initialize variable to break while loop\n",
    "        collected_successfully = False\n",
    "        \n",
    "        # counter to break out of loop\n",
    "        cnt = 3\n",
    "        \n",
    "        #runs until collected_successfully = True\n",
    "        while not collected_successfully:\n",
    "            \n",
    "            #try to find items for scraping\n",
    "                try:\n",
    "                    ranking = position\n",
    "                    album_name = driver.find_element(\"xpath\",'{}//div[@class=\"page_charts_section_charts_item_title\"]'.format(xpath)).text\n",
    "                    artist_name = driver.find_element(\"xpath\",'{}//div[@class=\"page_charts_section_charts_item_credited_links_primary\"]'.format(xpath)).text\n",
    "                    release_date = driver.find_element(\"xpath\",'{}//div[@class=\"page_charts_section_charts_item_date\"]'.format(xpath)).text\n",
    "                except:\n",
    "                    #if page hasn't loaded yet wait 5 seconds\n",
    "                    time.sleep(5)\n",
    "                    \n",
    "                    # Try waiting for the page for 3 times (15 seconds)\n",
    "                    if cnt == 0:\n",
    "                        break\n",
    "                    cnt -= 1\n",
    "                    continue\n",
    "\n",
    "                    \n",
    "                try:\n",
    "                    genres = driver.find_element(\"xpath\",'{}//div[@class=\"page_charts_section_charts_item_genres_primary\"]'.format(xpath)).text\n",
    "                except:\n",
    "                    genres = None\n",
    "                try:\n",
    "                    rating = driver.find_element(\"xpath\",'{}//span[@class=\"page_charts_section_charts_item_details_average_num\"]'.format(xpath)).text\n",
    "                except:\n",
    "                    rating = None\n",
    "\n",
    "                try:\n",
    "                    descriptors = driver.find_element(\"xpath\",'{}//div[@class=\"page_charts_section_charts_item_genre_descriptors\"]'.format(xpath)).text\n",
    "                except:\n",
    "                    descriptors = None\n",
    "                \n",
    "\n",
    "                \n",
    "                #set true to break while loop\n",
    "                collected_successfully = True\n",
    "                \n",
    "        if collected_successfully == True:\n",
    "            #append scraped information to albums array\n",
    "            albums.append({\"Ranking\" : ranking,\n",
    "                           \"Album\" : album_name,\n",
    "                           \"Artist Name\": artist_name,\n",
    "                           \"Release Date\" : release_date,\n",
    "                           \"Genres\" : genres,\n",
    "                           \"Descriptors\" : descriptors,\n",
    "                           \"Average Rating\" : rating})\n",
    "        \n",
    "        \n",
    "        #if at album ranking that is divisible by 40 (since there are 40 albums per page) then click on \"next page\" button\n",
    "        if position%40 == 0:\n",
    "            \n",
    "            try:\n",
    "                driver.find_element(\"xpath\",'.//a[@class=\"ui_pagination_btn ui_pagination_next\"]').click()            \n",
    "                time.sleep(5)\n",
    "            \n",
    "            #if on last page then break from if condition\n",
    "            except NoSuchElementException:\n",
    "                break\n",
    "        \n",
    "    #return requested albums as a dataframe\n",
    "    return albums\n"
   ]
  },
  {
   "cell_type": "code",
   "execution_count": 26,
   "metadata": {},
   "outputs": [],
   "source": [
    "base_url = \"https://rateyourmusic.com/charts/{}/album/{}/#results\"\n",
    "years = [str(i) for i in range(2023,1929,-1)]\n",
    "rating = ['top','bottom','popular','esoteric','diverse']"
   ]
  },
  {
   "cell_type": "code",
   "execution_count": null,
   "metadata": {},
   "outputs": [
    {
     "name": "stderr",
     "output_type": "stream",
     "text": [
      "\r",
      "  0%|                                                                                           | 0/24 [00:00<?, ?it/s]"
     ]
    }
   ],
   "source": [
    "num_albums = 1040\n",
    "verbose = 1\n",
    "for order in rating[4:]:\n",
    "    for year in tqdm.tqdm(years[:24]):\n",
    "            year_url = base_url.format(order,year)\n",
    "            temp = get_albums(num_albums, verbose, year_url)\n",
    "            \n",
    "            # Save each category - prevents restart\n",
    "            location = \"data/rate_your_music_data/{}/{}\".format(order,year+\".json\")\n",
    "            with open(location, 'w') as file:\n",
    "                json.dump(temp, file)\n",
    "            \n",
    "        "
   ]
  },
  {
   "cell_type": "code",
   "execution_count": null,
   "metadata": {},
   "outputs": [],
   "source": []
  }
 ],
 "metadata": {
  "kernelspec": {
   "display_name": "Python 3",
   "language": "python",
   "name": "python3"
  },
  "language_info": {
   "codemirror_mode": {
    "name": "ipython",
    "version": 3
   },
   "file_extension": ".py",
   "mimetype": "text/x-python",
   "name": "python",
   "nbconvert_exporter": "python",
   "pygments_lexer": "ipython3",
   "version": "3.8.5"
  }
 },
 "nbformat": 4,
 "nbformat_minor": 4
}

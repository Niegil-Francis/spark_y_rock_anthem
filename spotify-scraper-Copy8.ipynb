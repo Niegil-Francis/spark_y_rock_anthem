{
 "cells": [
  {
   "cell_type": "code",
   "execution_count": 1,
   "id": "66ac76f1",
   "metadata": {},
   "outputs": [],
   "source": [
    "import pandas as pd\n",
    "import spotipy\n",
    "from spotipy.oauth2 import SpotifyClientCredentials\n",
    "from bs4 import BeautifulSoup\n",
    "import requests\n",
    "import glob\n",
    "import json\n",
    "import copy\n",
    "import tqdm\n",
    "import time\n",
    "import base64\n",
    "from requests import post, get\n",
    "from collections import defaultdict"
   ]
  },
  {
   "cell_type": "code",
   "execution_count": 2,
   "id": "cabab0cf",
   "metadata": {},
   "outputs": [],
   "source": [
    "# Client ID\n",
    "cid = ''\n",
    "\n",
    "# Client secret\n",
    "secret = ''"
   ]
  },
  {
   "cell_type": "code",
   "execution_count": 3,
   "metadata": {},
   "outputs": [],
   "source": [
    "# Getting all the file names scraped from rate your music\n",
    "rating = ['top','bottom','popular','esoteric','diverse']\n",
    "path = \"data/rate_your_music_data/{}/\"\n",
    "all_paths = {}\n",
    "for order in rating:\n",
    "    temp = path.format(order)\n",
    "    all_paths[order] = []\n",
    "    for file in glob.glob(temp+\"*.json\"):\n",
    "        all_paths[order].append(file)"
   ]
  },
  {
   "cell_type": "code",
   "execution_count": 4,
   "metadata": {},
   "outputs": [],
   "source": [
    "# Getting the authorization token\n",
    "def get_token():\n",
    "    auth_string = cid + \":\" + secret\n",
    "    auth_bytes = auth_string.encode(\"utf-8\")\n",
    "    auth_base64 = str(base64.b64encode(auth_bytes),\"utf-8\")\n",
    "    \n",
    "    url = \"https://accounts.spotify.com/api/token\"\n",
    "    \n",
    "    headers = {\n",
    "        \"Authorization\": \"Basic \" + auth_base64,\n",
    "        \"Content-Type\": \"application/x-www-form-urlencoded\"\n",
    "    }\n",
    "    data = {\"grant_type\":\"client_credentials\"}\n",
    "    \n",
    "    result = post(url, headers = headers, data = data)\n",
    "    res = json.loads(result.content)\n",
    "    token = res[\"access_token\"]\n",
    "    return token"
   ]
  },
  {
   "cell_type": "code",
   "execution_count": 5,
   "metadata": {},
   "outputs": [],
   "source": [
    "# Storing the token\n",
    "token = get_token()"
   ]
  },
  {
   "cell_type": "code",
   "execution_count": 6,
   "metadata": {},
   "outputs": [],
   "source": [
    "# Function to get the authentication headers\n",
    "def get_auth_header(token):\n",
    "    return {\"Authorization\":\"Bearer \"+ token}"
   ]
  },
  {
   "cell_type": "code",
   "execution_count": 7,
   "metadata": {},
   "outputs": [],
   "source": [
    "# Function to get uri's of album and artist\n",
    "def api_get_uri(album,artist):\n",
    "    url = \"https://api.spotify.com/v1/search?\"\n",
    "    headers = get_auth_header(token)\n",
    "    query = f\"q=album:{album} artist:{artist}&type=album&limit=1\"\n",
    "    result = get(url+query, headers = headers)\n",
    "    \n",
    "    # Returns -1 if rate limit of spotify is hit\n",
    "    if result.status_code == 429:\n",
    "        print(\"Limit Reached\")\n",
    "        return -1, -1\n",
    "    else:\n",
    "        result = json.loads(result.content)\n",
    "        if result['albums']['items']:\n",
    "            album_uri = result['albums']['items'][0]['uri']\n",
    "            artist_uri = result['albums']['items'][0]['artists'][0]['uri']\n",
    "            return album_uri, artist_uri\n",
    "        else:\n",
    "            return None, None\n",
    "    \n",
    "    \n",
    "    "
   ]
  },
  {
   "cell_type": "code",
   "execution_count": 8,
   "metadata": {},
   "outputs": [],
   "source": [
    "# Function to get artist data\n",
    "def api_get_artist_data(uri):\n",
    "    id_ = uri.split(\":\")[-1]\n",
    "    url = f\"https://api.spotify.com/v1/artists/{id_}\"\n",
    "    headers = get_auth_header(token)\n",
    "    result = get(url, headers = headers)\n",
    "    \n",
    "    if result.status_code == 429:\n",
    "        print(\"Limit Reached\")\n",
    "        return -1\n",
    "    else:\n",
    "        one = json.loads(result.content)\n",
    "        return one\n",
    "\n",
    "    "
   ]
  },
  {
   "cell_type": "code",
   "execution_count": 9,
   "metadata": {},
   "outputs": [],
   "source": [
    "# Function to get track features\n",
    "def api_get_audio_feat(uri):\n",
    "    id_ = uri.split(\":\")[-1]\n",
    "    url = f\"https://api.spotify.com/v1/audio-features/{id_}\"\n",
    "    headers = get_auth_header(token)\n",
    "    \n",
    "    time.sleep(sleeper['feat'])\n",
    "    result = get(url, headers = headers)\n",
    "    if result.status_code == 429:\n",
    "        print(\"Limit Reached\")\n",
    "        sleeper['feat']+=0.5\n",
    "        return -1\n",
    "    else:\n",
    "        one = json.loads(result.content)\n",
    "        return one"
   ]
  },
  {
   "cell_type": "code",
   "execution_count": 10,
   "metadata": {},
   "outputs": [],
   "source": [
    "# Function to get track data\n",
    "def api_get_track_data(uri):\n",
    "    id_ = uri.split(\":\")[-1]\n",
    "    \n",
    "    url = f\"https://api.spotify.com/v1/tracks/{id_}\"\n",
    "    headers = get_auth_header(token)\n",
    "    \n",
    "    time.sleep(sleeper['tracks'])\n",
    "    result = get(url, headers = headers)\n",
    "    \n",
    "    if result.status_code == 429:\n",
    "        print(\"Limit Reached\")\n",
    "        sleeper['tracks']+=0.5\n",
    "        return -1\n",
    "    else:\n",
    "        one = json.loads(result.content)\n",
    "        return one"
   ]
  },
  {
   "cell_type": "code",
   "execution_count": 11,
   "metadata": {},
   "outputs": [],
   "source": [
    "# Function to get tracks of each album and its features\n",
    "def api_get_album_tracks(uri):\n",
    "    url = \"https://api.spotify.com/v1\"\n",
    "    \n",
    "    headers = get_auth_header(token)\n",
    "    id_ = uri.split(\":\")[-1]\n",
    "    query = \"/albums/{}/tracks?offset=0&limit=50\".format(id_)\n",
    "    result = get(url+query,headers = headers)\n",
    "    \n",
    "    if result.status_code == 429:\n",
    "        print(\"Limit Reached\")\n",
    "        return -1\n",
    "    else:\n",
    "        one = json.loads(result.content)\n",
    "        data = pd.DataFrame(one)\n",
    "        tracks = []\n",
    "        for i, x in data['items'].items():\n",
    "            track = {}\n",
    "            track['spotify track uri'] = x['uri']\n",
    "            track['spotify track name'] = x['name']\n",
    "            track['spotify track number'] = x['track_number']\n",
    "            track['spotify disc number'] = x['disc_number']\n",
    "            \n",
    "            \n",
    "            track_data = api_get_track_data(x['uri'])\n",
    "            if track_data == -1:\n",
    "                track['spotify track popularity'] = None\n",
    "                track['spotify track duration'] = None\n",
    "            else:\n",
    "                track['spotify track popularity'] = track_data['popularity']\n",
    "                track['spotify track duration'] = track_data['duration_ms']\n",
    "            \n",
    "            features = api_get_audio_feat(x['uri'])\n",
    "            if features != None and features != -1:\n",
    "                 track['spotify track features'] = {\n",
    "                'acousticness': features['acousticness'],\n",
    "                'danceability': features['danceability'],\n",
    "                'energy': features['energy'],\n",
    "                'instrumentalness': features['instrumentalness'],\n",
    "                'liveness': features['liveness'],\n",
    "                'loudness': features['loudness'],\n",
    "                'speechiness': features['speechiness'],\n",
    "                'tempo': features['tempo'],\n",
    "                'valence': features['valence']}\n",
    "            else:\n",
    "                track['spotify track features'] = None\n",
    "\n",
    "\n",
    "\n",
    "\n",
    "            tracks.append(track)\n",
    "        return tracks\n",
    "    \n",
    "    "
   ]
  },
  {
   "cell_type": "code",
   "execution_count": 12,
   "metadata": {},
   "outputs": [
    {
     "name": "stderr",
     "output_type": "stream",
     "text": [
      " 81%|██████████████████████████████████████████████████████████████▌              | 845/1040 [3:41:59<46:09, 14.20s/it]"
     ]
    },
    {
     "name": "stdout",
     "output_type": "stream",
     "text": [
      "Limit Reached\n"
     ]
    },
    {
     "name": "stderr",
     "output_type": "stream",
     "text": [
      "\r",
      " 81%|██████████████████████████████████████████████████████████████▋              | 846/1040 [3:42:01<34:05, 10.54s/it]"
     ]
    },
    {
     "name": "stdout",
     "output_type": "stream",
     "text": [
      "Limit Reached\n",
      "Limit Reached\n"
     ]
    },
    {
     "name": "stderr",
     "output_type": "stream",
     "text": [
      "\r",
      " 81%|██████████████████████████████████████████████████████████████▋              | 847/1040 [3:42:04<26:37,  8.28s/it]"
     ]
    },
    {
     "name": "stdout",
     "output_type": "stream",
     "text": [
      "Limit Reached\n"
     ]
    },
    {
     "name": "stderr",
     "output_type": "stream",
     "text": [
      "\r",
      " 82%|██████████████████████████████████████████████████████████████▊              | 848/1040 [3:42:05<19:10,  5.99s/it]"
     ]
    },
    {
     "name": "stdout",
     "output_type": "stream",
     "text": [
      "Limit Reached\n"
     ]
    },
    {
     "name": "stderr",
     "output_type": "stream",
     "text": [
      "\r",
      " 82%|██████████████████████████████████████████████████████████████▊              | 849/1040 [3:42:09<17:10,  5.39s/it]"
     ]
    },
    {
     "name": "stdout",
     "output_type": "stream",
     "text": [
      "Limit Reached\n",
      "Limit Reached\n"
     ]
    },
    {
     "name": "stderr",
     "output_type": "stream",
     "text": [
      "\r",
      " 82%|██████████████████████████████████████████████████████████████▉              | 850/1040 [3:42:14<16:41,  5.27s/it]"
     ]
    },
    {
     "name": "stdout",
     "output_type": "stream",
     "text": [
      "Limit Reached\n",
      "Limit Reached\n"
     ]
    },
    {
     "name": "stderr",
     "output_type": "stream",
     "text": [
      "\r",
      " 82%|███████████████████████████████████████████████████████████████              | 851/1040 [3:42:20<17:15,  5.48s/it]"
     ]
    },
    {
     "name": "stdout",
     "output_type": "stream",
     "text": [
      "Limit Reached\n"
     ]
    },
    {
     "name": "stderr",
     "output_type": "stream",
     "text": [
      "\r",
      " 82%|███████████████████████████████████████████████████████████████              | 852/1040 [3:42:20<12:36,  4.03s/it]"
     ]
    },
    {
     "name": "stdout",
     "output_type": "stream",
     "text": [
      "Limit Reached\n"
     ]
    },
    {
     "name": "stderr",
     "output_type": "stream",
     "text": [
      "\r",
      " 82%|███████████████████████████████████████████████████████████████▏             | 853/1040 [3:42:27<15:18,  4.91s/it]"
     ]
    },
    {
     "name": "stdout",
     "output_type": "stream",
     "text": [
      "Limit Reached\n"
     ]
    },
    {
     "name": "stderr",
     "output_type": "stream",
     "text": [
      "\r",
      " 82%|███████████████████████████████████████████████████████████████▏             | 854/1040 [3:42:28<11:19,  3.65s/it]"
     ]
    },
    {
     "name": "stdout",
     "output_type": "stream",
     "text": [
      "Limit Reached\n"
     ]
    },
    {
     "name": "stderr",
     "output_type": "stream",
     "text": [
      "\r",
      " 82%|███████████████████████████████████████████████████████████████▎             | 855/1040 [3:42:36<15:17,  4.96s/it]"
     ]
    },
    {
     "name": "stdout",
     "output_type": "stream",
     "text": [
      "Limit Reached\n",
      "Limit Reached\n"
     ]
    },
    {
     "name": "stderr",
     "output_type": "stream",
     "text": [
      "\r",
      " 82%|███████████████████████████████████████████████████████████████▍             | 856/1040 [3:42:45<18:56,  6.18s/it]"
     ]
    },
    {
     "name": "stdout",
     "output_type": "stream",
     "text": [
      "Limit Reached\n",
      "Limit Reached\n"
     ]
    },
    {
     "name": "stderr",
     "output_type": "stream",
     "text": [
      "\r",
      " 82%|███████████████████████████████████████████████████████████████▍             | 857/1040 [3:42:55<22:20,  7.32s/it]"
     ]
    },
    {
     "name": "stdout",
     "output_type": "stream",
     "text": [
      "Limit Reached\n",
      "Limit Reached\n"
     ]
    },
    {
     "name": "stderr",
     "output_type": "stream",
     "text": [
      "\r",
      " 82%|███████████████████████████████████████████████████████████████▌             | 858/1040 [3:43:06<25:36,  8.44s/it]"
     ]
    },
    {
     "name": "stdout",
     "output_type": "stream",
     "text": [
      "Limit Reached\n",
      "Limit Reached\n"
     ]
    },
    {
     "name": "stderr",
     "output_type": "stream",
     "text": [
      "\r",
      " 83%|███████████████████████████████████████████████████████████████▌             | 859/1040 [3:43:18<28:39,  9.50s/it]"
     ]
    },
    {
     "name": "stdout",
     "output_type": "stream",
     "text": [
      "Limit Reached\n"
     ]
    },
    {
     "name": "stderr",
     "output_type": "stream",
     "text": [
      " 83%|███████████████████████████████████████████████████████████████▋             | 861/1040 [3:43:19<14:51,  4.98s/it]"
     ]
    },
    {
     "name": "stdout",
     "output_type": "stream",
     "text": [
      "Limit Reached\n"
     ]
    },
    {
     "name": "stderr",
     "output_type": "stream",
     "text": [
      "\r",
      " 83%|███████████████████████████████████████████████████████████████▊             | 862/1040 [3:43:32<21:56,  7.40s/it]"
     ]
    },
    {
     "name": "stdout",
     "output_type": "stream",
     "text": [
      "Limit Reached\n",
      "Limit Reached\n"
     ]
    },
    {
     "name": "stderr",
     "output_type": "stream",
     "text": [
      "\r",
      " 83%|███████████████████████████████████████████████████████████████▉             | 863/1040 [3:43:46<27:38,  9.37s/it]"
     ]
    },
    {
     "name": "stdout",
     "output_type": "stream",
     "text": [
      "Limit Reached\n"
     ]
    },
    {
     "name": "stderr",
     "output_type": "stream",
     "text": [
      " 83%|████████████████████████████████████████████████████████████████             | 865/1040 [3:43:48<14:24,  4.94s/it]"
     ]
    },
    {
     "name": "stdout",
     "output_type": "stream",
     "text": [
      "Limit Reached\n"
     ]
    },
    {
     "name": "stderr",
     "output_type": "stream",
     "text": [
      "\r",
      " 83%|████████████████████████████████████████████████████████████████             | 866/1040 [3:44:03<23:04,  7.96s/it]"
     ]
    },
    {
     "name": "stdout",
     "output_type": "stream",
     "text": [
      "Limit Reached\n"
     ]
    },
    {
     "name": "stderr",
     "output_type": "stream",
     "text": [
      "\r",
      " 83%|████████████████████████████████████████████████████████████████▏            | 867/1040 [3:44:03<16:36,  5.76s/it]"
     ]
    },
    {
     "name": "stdout",
     "output_type": "stream",
     "text": [
      "Limit Reached\n"
     ]
    },
    {
     "name": "stderr",
     "output_type": "stream",
     "text": [
      "\r",
      " 83%|████████████████████████████████████████████████████████████████▎            | 868/1040 [3:44:20<25:23,  8.86s/it]"
     ]
    },
    {
     "name": "stdout",
     "output_type": "stream",
     "text": [
      "Limit Reached\n",
      "Limit Reached\n"
     ]
    },
    {
     "name": "stderr",
     "output_type": "stream",
     "text": [
      "\r",
      " 84%|████████████████████████████████████████████████████████████████▎            | 869/1040 [3:44:37<32:10, 11.29s/it]"
     ]
    },
    {
     "name": "stdout",
     "output_type": "stream",
     "text": [
      "Limit Reached\n",
      "Limit Reached\n"
     ]
    },
    {
     "name": "stderr",
     "output_type": "stream",
     "text": [
      "\r",
      " 84%|████████████████████████████████████████████████████████████████▍            | 870/1040 [3:44:54<37:40, 13.30s/it]"
     ]
    },
    {
     "name": "stdout",
     "output_type": "stream",
     "text": [
      "Limit Reached\n"
     ]
    },
    {
     "name": "stderr",
     "output_type": "stream",
     "text": [
      "\r",
      " 84%|████████████████████████████████████████████████████████████████▍            | 871/1040 [3:44:55<26:46,  9.51s/it]"
     ]
    },
    {
     "name": "stdout",
     "output_type": "stream",
     "text": [
      "Limit Reached\n"
     ]
    },
    {
     "name": "stderr",
     "output_type": "stream",
     "text": [
      "\r",
      " 84%|████████████████████████████████████████████████████████████████▌            | 872/1040 [3:45:14<34:34, 12.35s/it]"
     ]
    },
    {
     "name": "stdout",
     "output_type": "stream",
     "text": [
      "Limit Reached\n",
      "Limit Reached\n"
     ]
    },
    {
     "name": "stderr",
     "output_type": "stream",
     "text": [
      "\r",
      " 84%|████████████████████████████████████████████████████████████████▋            | 873/1040 [3:45:34<40:44, 14.64s/it]"
     ]
    },
    {
     "name": "stdout",
     "output_type": "stream",
     "text": [
      "Limit Reached\n",
      "Limit Reached\n"
     ]
    },
    {
     "name": "stderr",
     "output_type": "stream",
     "text": [
      "\r",
      " 84%|████████████████████████████████████████████████████████████████▋            | 874/1040 [3:45:55<45:44, 16.53s/it]"
     ]
    },
    {
     "name": "stdout",
     "output_type": "stream",
     "text": [
      "Limit Reached\n",
      "Limit Reached\n"
     ]
    },
    {
     "name": "stderr",
     "output_type": "stream",
     "text": [
      "\r",
      " 84%|████████████████████████████████████████████████████████████████▊            | 875/1040 [3:46:17<49:56, 18.16s/it]"
     ]
    },
    {
     "name": "stdout",
     "output_type": "stream",
     "text": [
      "Limit Reached\n"
     ]
    },
    {
     "name": "stderr",
     "output_type": "stream",
     "text": [
      "\r",
      " 84%|████████████████████████████████████████████████████████████████▊            | 876/1040 [3:46:18<35:16, 12.91s/it]"
     ]
    },
    {
     "name": "stdout",
     "output_type": "stream",
     "text": [
      "Limit Reached\n"
     ]
    },
    {
     "name": "stderr",
     "output_type": "stream",
     "text": [
      "\r",
      " 84%|████████████████████████████████████████████████████████████████▉            | 877/1040 [3:46:41<43:16, 15.93s/it]"
     ]
    },
    {
     "name": "stdout",
     "output_type": "stream",
     "text": [
      "Limit Reached\n"
     ]
    },
    {
     "name": "stderr",
     "output_type": "stream",
     "text": [
      "\r",
      " 84%|█████████████████████████████████████████████████████████████████            | 878/1040 [3:46:41<30:38, 11.35s/it]"
     ]
    },
    {
     "name": "stdout",
     "output_type": "stream",
     "text": [
      "Limit Reached\n"
     ]
    },
    {
     "name": "stderr",
     "output_type": "stream",
     "text": [
      "\r",
      " 85%|█████████████████████████████████████████████████████████████████            | 879/1040 [3:47:05<40:37, 15.14s/it]"
     ]
    },
    {
     "name": "stdout",
     "output_type": "stream",
     "text": [
      "Limit Reached\n"
     ]
    },
    {
     "name": "stderr",
     "output_type": "stream",
     "text": [
      "\r",
      " 85%|█████████████████████████████████████████████████████████████████▏           | 880/1040 [3:47:06<28:46, 10.79s/it]"
     ]
    },
    {
     "name": "stdout",
     "output_type": "stream",
     "text": [
      "Limit Reached\n"
     ]
    },
    {
     "name": "stderr",
     "output_type": "stream",
     "text": [
      "\r",
      " 85%|█████████████████████████████████████████████████████████████████▏           | 881/1040 [3:47:31<39:51, 15.04s/it]"
     ]
    },
    {
     "name": "stdout",
     "output_type": "stream",
     "text": [
      "Limit Reached\n",
      "Limit Reached\n"
     ]
    },
    {
     "name": "stderr",
     "output_type": "stream",
     "text": [
      "\r",
      " 85%|█████████████████████████████████████████████████████████████████▎           | 882/1040 [3:47:57<48:16, 18.33s/it]"
     ]
    },
    {
     "name": "stdout",
     "output_type": "stream",
     "text": [
      "Limit Reached\n",
      "Limit Reached\n"
     ]
    },
    {
     "name": "stderr",
     "output_type": "stream",
     "text": [
      "\r",
      " 85%|█████████████████████████████████████████████████████████████████▍           | 883/1040 [3:48:24<54:50, 20.96s/it]"
     ]
    },
    {
     "name": "stdout",
     "output_type": "stream",
     "text": [
      "Limit Reached\n"
     ]
    },
    {
     "name": "stderr",
     "output_type": "stream",
     "text": [
      "\r",
      " 85%|█████████████████████████████████████████████████████████████████▍           | 884/1040 [3:48:25<38:39, 14.87s/it]"
     ]
    },
    {
     "name": "stdout",
     "output_type": "stream",
     "text": [
      "Limit Reached\n"
     ]
    },
    {
     "name": "stderr",
     "output_type": "stream",
     "text": [
      "\r",
      " 85%|█████████████████████████████████████████████████████████████████▌           | 885/1040 [3:48:53<48:34, 18.80s/it]"
     ]
    },
    {
     "name": "stdout",
     "output_type": "stream",
     "text": [
      "Limit Reached\n"
     ]
    },
    {
     "name": "stderr",
     "output_type": "stream",
     "text": [
      "\r",
      " 85%|█████████████████████████████████████████████████████████████████▌           | 886/1040 [3:48:53<34:18, 13.37s/it]"
     ]
    },
    {
     "name": "stdout",
     "output_type": "stream",
     "text": [
      "Limit Reached\n"
     ]
    },
    {
     "name": "stderr",
     "output_type": "stream",
     "text": [
      "\r",
      " 85%|█████████████████████████████████████████████████████████████████▋           | 887/1040 [3:49:22<46:00, 18.04s/it]"
     ]
    },
    {
     "name": "stdout",
     "output_type": "stream",
     "text": [
      "Limit Reached\n",
      "Limit Reached\n"
     ]
    },
    {
     "name": "stderr",
     "output_type": "stream",
     "text": [
      "\r",
      " 85%|█████████████████████████████████████████████████████████████████▋           | 888/1040 [3:49:52<54:48, 21.63s/it]"
     ]
    },
    {
     "name": "stdout",
     "output_type": "stream",
     "text": [
      "Limit Reached\n"
     ]
    },
    {
     "name": "stderr",
     "output_type": "stream",
     "text": [
      " 86%|█████████████████████████████████████████████████████████████████▉           | 890/1040 [3:49:54<27:20, 10.94s/it]"
     ]
    },
    {
     "name": "stdout",
     "output_type": "stream",
     "text": [
      "Limit Reached\n"
     ]
    },
    {
     "name": "stderr",
     "output_type": "stream",
     "text": [
      "\r",
      " 86%|█████████████████████████████████████████████████████████████████▉           | 891/1040 [3:50:25<42:08, 16.97s/it]"
     ]
    },
    {
     "name": "stdout",
     "output_type": "stream",
     "text": [
      "Limit Reached\n"
     ]
    },
    {
     "name": "stderr",
     "output_type": "stream",
     "text": [
      "\r",
      " 86%|██████████████████████████████████████████████████████████████████           | 892/1040 [3:50:25<29:49, 12.09s/it]"
     ]
    },
    {
     "name": "stdout",
     "output_type": "stream",
     "text": [
      "Limit Reached\n"
     ]
    },
    {
     "name": "stderr",
     "output_type": "stream",
     "text": [
      "\r",
      " 86%|██████████████████████████████████████████████████████████████████           | 893/1040 [3:50:57<44:16, 18.07s/it]"
     ]
    },
    {
     "name": "stdout",
     "output_type": "stream",
     "text": [
      "Limit Reached\n"
     ]
    },
    {
     "name": "stderr",
     "output_type": "stream",
     "text": [
      "\r",
      " 86%|██████████████████████████████████████████████████████████████████▏          | 894/1040 [3:50:58<31:15, 12.84s/it]"
     ]
    },
    {
     "name": "stdout",
     "output_type": "stream",
     "text": [
      "Limit Reached\n"
     ]
    },
    {
     "name": "stderr",
     "output_type": "stream",
     "text": [
      "\r",
      " 86%|██████████████████████████████████████████████████████████████████▎          | 895/1040 [3:51:31<45:37, 18.88s/it]"
     ]
    },
    {
     "name": "stdout",
     "output_type": "stream",
     "text": [
      "Limit Reached\n",
      "Limit Reached\n"
     ]
    },
    {
     "name": "stderr",
     "output_type": "stream",
     "text": [
      "\r",
      " 86%|██████████████████████████████████████████████████████████████████▎          | 896/1040 [3:52:05<56:13, 23.42s/it]"
     ]
    },
    {
     "name": "stdout",
     "output_type": "stream",
     "text": [
      "Limit Reached\n",
      "Limit Reached\n"
     ]
    },
    {
     "name": "stderr",
     "output_type": "stream",
     "text": [
      "\r",
      " 86%|████████████████████████████████████████████████████████████████▋          | 897/1040 [3:52:40<1:04:04, 26.88s/it]"
     ]
    },
    {
     "name": "stdout",
     "output_type": "stream",
     "text": [
      "Limit Reached\n",
      "Limit Reached\n"
     ]
    },
    {
     "name": "stderr",
     "output_type": "stream",
     "text": [
      "\r",
      " 86%|████████████████████████████████████████████████████████████████▊          | 898/1040 [3:53:16<1:10:05, 29.62s/it]"
     ]
    },
    {
     "name": "stdout",
     "output_type": "stream",
     "text": [
      "Limit Reached\n",
      "Limit Reached\n"
     ]
    },
    {
     "name": "stderr",
     "output_type": "stream",
     "text": [
      "\r",
      " 86%|████████████████████████████████████████████████████████████████▊          | 899/1040 [3:53:53<1:14:47, 31.83s/it]"
     ]
    },
    {
     "name": "stdout",
     "output_type": "stream",
     "text": [
      "Limit Reached\n"
     ]
    },
    {
     "name": "stderr",
     "output_type": "stream",
     "text": [
      "\r",
      " 87%|██████████████████████████████████████████████████████████████████▋          | 900/1040 [3:53:54<52:26, 22.47s/it]"
     ]
    },
    {
     "name": "stdout",
     "output_type": "stream",
     "text": [
      "Limit Reached\n"
     ]
    },
    {
     "name": "stderr",
     "output_type": "stream",
     "text": [
      "\r",
      " 87%|████████████████████████████████████████████████████████████████▉          | 901/1040 [3:54:32<1:02:54, 27.15s/it]"
     ]
    },
    {
     "name": "stdout",
     "output_type": "stream",
     "text": [
      "Limit Reached\n",
      "Limit Reached\n"
     ]
    },
    {
     "name": "stderr",
     "output_type": "stream",
     "text": [
      "\r",
      " 87%|█████████████████████████████████████████████████████████████████          | 902/1040 [3:55:11<1:10:39, 30.72s/it]"
     ]
    },
    {
     "name": "stdout",
     "output_type": "stream",
     "text": [
      "Limit Reached\n"
     ]
    },
    {
     "name": "stderr",
     "output_type": "stream",
     "text": [
      "\r",
      " 87%|██████████████████████████████████████████████████████████████████▊          | 903/1040 [3:55:11<49:32, 21.70s/it]"
     ]
    },
    {
     "name": "stdout",
     "output_type": "stream",
     "text": [
      "Limit Reached\n"
     ]
    },
    {
     "name": "stderr",
     "output_type": "stream",
     "text": [
      "\r",
      " 87%|█████████████████████████████████████████████████████████████████▏         | 904/1040 [3:55:51<1:01:39, 27.20s/it]"
     ]
    },
    {
     "name": "stdout",
     "output_type": "stream",
     "text": [
      "Limit Reached\n"
     ]
    },
    {
     "name": "stderr",
     "output_type": "stream",
     "text": [
      "\r",
      " 87%|███████████████████████████████████████████████████████████████████          | 905/1040 [3:55:52<43:17, 19.24s/it]"
     ]
    },
    {
     "name": "stdout",
     "output_type": "stream",
     "text": [
      "Limit Reached\n"
     ]
    },
    {
     "name": "stderr",
     "output_type": "stream",
     "text": [
      "\r",
      " 87%|███████████████████████████████████████████████████████████████████          | 906/1040 [3:56:33<57:32, 25.77s/it]"
     ]
    },
    {
     "name": "stdout",
     "output_type": "stream",
     "text": [
      "Limit Reached\n",
      "Limit Reached\n"
     ]
    },
    {
     "name": "stderr",
     "output_type": "stream",
     "text": [
      "\r",
      " 87%|█████████████████████████████████████████████████████████████████▍         | 907/1040 [3:57:15<1:07:54, 30.63s/it]"
     ]
    },
    {
     "name": "stdout",
     "output_type": "stream",
     "text": [
      "Limit Reached\n",
      "Limit Reached\n"
     ]
    },
    {
     "name": "stderr",
     "output_type": "stream",
     "text": [
      "\r",
      " 87%|█████████████████████████████████████████████████████████████████▍         | 908/1040 [3:57:58<1:15:32, 34.34s/it]"
     ]
    },
    {
     "name": "stdout",
     "output_type": "stream",
     "text": [
      "Limit Reached\n",
      "Limit Reached\n"
     ]
    },
    {
     "name": "stderr",
     "output_type": "stream",
     "text": [
      "\r",
      " 87%|█████████████████████████████████████████████████████████████████▌         | 909/1040 [3:58:42<1:21:17, 37.23s/it]"
     ]
    },
    {
     "name": "stdout",
     "output_type": "stream",
     "text": [
      "Limit Reached\n",
      "Limit Reached\n"
     ]
    },
    {
     "name": "stderr",
     "output_type": "stream",
     "text": [
      "\r",
      " 88%|█████████████████████████████████████████████████████████████████▋         | 910/1040 [3:59:27<1:25:41, 39.55s/it]"
     ]
    },
    {
     "name": "stdout",
     "output_type": "stream",
     "text": [
      "Limit Reached\n"
     ]
    },
    {
     "name": "stderr",
     "output_type": "stream",
     "text": [
      "\r",
      " 88%|███████████████████████████████████████████████████████████████████▍         | 911/1040 [3:59:28<59:57, 27.89s/it]"
     ]
    },
    {
     "name": "stdout",
     "output_type": "stream",
     "text": [
      "Limit Reached\n"
     ]
    },
    {
     "name": "stderr",
     "output_type": "stream",
     "text": [
      "\r",
      " 88%|█████████████████████████████████████████████████████████████████▊         | 912/1040 [4:00:14<1:11:03, 33.31s/it]"
     ]
    },
    {
     "name": "stdout",
     "output_type": "stream",
     "text": [
      "Limit Reached\n"
     ]
    },
    {
     "name": "stderr",
     "output_type": "stream",
     "text": [
      "\r",
      " 88%|███████████████████████████████████████████████████████████████████▌         | 913/1040 [4:00:14<49:48, 23.53s/it]"
     ]
    },
    {
     "name": "stdout",
     "output_type": "stream",
     "text": [
      "Limit Reached\n"
     ]
    },
    {
     "name": "stderr",
     "output_type": "stream",
     "text": [
      "\r",
      " 88%|█████████████████████████████████████████████████████████████████▉         | 914/1040 [4:01:01<1:04:11, 30.57s/it]"
     ]
    },
    {
     "name": "stdout",
     "output_type": "stream",
     "text": [
      "Limit Reached\n",
      "Limit Reached\n"
     ]
    },
    {
     "name": "stderr",
     "output_type": "stream",
     "text": [
      "\r",
      " 88%|█████████████████████████████████████████████████████████████████▉         | 915/1040 [4:01:49<1:14:34, 35.80s/it]"
     ]
    },
    {
     "name": "stdout",
     "output_type": "stream",
     "text": [
      "Limit Reached\n",
      "Limit Reached\n"
     ]
    },
    {
     "name": "stderr",
     "output_type": "stream",
     "text": [
      "\r",
      " 88%|██████████████████████████████████████████████████████████████████         | 916/1040 [4:02:38<1:22:10, 39.76s/it]"
     ]
    },
    {
     "name": "stdout",
     "output_type": "stream",
     "text": [
      "Limit Reached\n",
      "Limit Reached\n"
     ]
    },
    {
     "name": "stderr",
     "output_type": "stream",
     "text": [
      "\r",
      " 88%|██████████████████████████████████████████████████████████████████▏        | 917/1040 [4:03:28<1:27:48, 42.83s/it]"
     ]
    },
    {
     "name": "stdout",
     "output_type": "stream",
     "text": [
      "Limit Reached\n",
      "Limit Reached\n"
     ]
    },
    {
     "name": "stderr",
     "output_type": "stream",
     "text": [
      "\r",
      " 88%|██████████████████████████████████████████████████████████████████▏        | 918/1040 [4:04:19<1:32:02, 45.27s/it]"
     ]
    },
    {
     "name": "stdout",
     "output_type": "stream",
     "text": [
      "Limit Reached\n",
      "Limit Reached\n"
     ]
    },
    {
     "name": "stderr",
     "output_type": "stream",
     "text": [
      "\r",
      " 88%|██████████████████████████████████████████████████████████████████▎        | 919/1040 [4:05:11<1:35:21, 47.28s/it]"
     ]
    },
    {
     "name": "stdout",
     "output_type": "stream",
     "text": [
      "Limit Reached\n",
      "Limit Reached\n"
     ]
    },
    {
     "name": "stderr",
     "output_type": "stream",
     "text": [
      "\r",
      " 88%|██████████████████████████████████████████████████████████████████▎        | 920/1040 [4:06:04<1:38:02, 49.02s/it]"
     ]
    },
    {
     "name": "stdout",
     "output_type": "stream",
     "text": [
      "Limit Reached\n"
     ]
    },
    {
     "name": "stderr",
     "output_type": "stream",
     "text": [
      "\r",
      " 89%|██████████████████████████████████████████████████████████████████▍        | 921/1040 [4:06:05<1:08:25, 34.50s/it]"
     ]
    },
    {
     "name": "stdout",
     "output_type": "stream",
     "text": [
      "Limit Reached\n"
     ]
    },
    {
     "name": "stderr",
     "output_type": "stream",
     "text": [
      "\r",
      " 89%|██████████████████████████████████████████████████████████████████▍        | 922/1040 [4:06:59<1:19:21, 40.35s/it]"
     ]
    },
    {
     "name": "stdout",
     "output_type": "stream",
     "text": [
      "Limit Reached\n",
      "Limit Reached\n"
     ]
    },
    {
     "name": "stderr",
     "output_type": "stream",
     "text": [
      "\r",
      " 89%|██████████████████████████████████████████████████████████████████▌        | 923/1040 [4:07:54<1:27:14, 44.74s/it]"
     ]
    },
    {
     "name": "stdout",
     "output_type": "stream",
     "text": [
      "Limit Reached\n",
      "Limit Reached\n",
      "Limit Reached\n",
      "Limit Reached\n",
      "Limit Reached\n",
      "Limit Reached\n",
      "Limit Reached\n",
      "Limit Reached\n",
      "Limit Reached\n",
      "Limit Reached\n",
      "Limit Reached\n",
      "Limit Reached\n",
      "Limit Reached\n",
      "Limit Reached\n"
     ]
    },
    {
     "name": "stderr",
     "output_type": "stream",
     "text": [
      "\r",
      " 89%|██████████████████████████████████████████████████████████████████▋        | 924/1040 [4:09:39<2:01:45, 62.98s/it]"
     ]
    },
    {
     "name": "stdout",
     "output_type": "stream",
     "text": [
      "Limit Reached\n"
     ]
    },
    {
     "name": "stderr",
     "output_type": "stream",
     "text": [
      "\r",
      " 89%|██████████████████████████████████████████████████████████████████▋        | 925/1040 [4:10:36<1:56:58, 61.03s/it]"
     ]
    },
    {
     "name": "stdout",
     "output_type": "stream",
     "text": [
      "Limit Reached\n",
      "Limit Reached\n"
     ]
    },
    {
     "name": "stderr",
     "output_type": "stream",
     "text": [
      "\r",
      " 89%|██████████████████████████████████████████████████████████████████▊        | 926/1040 [4:11:33<1:53:56, 59.97s/it]"
     ]
    },
    {
     "name": "stdout",
     "output_type": "stream",
     "text": [
      "Limit Reached\n",
      "Limit Reached\n"
     ]
    },
    {
     "name": "stderr",
     "output_type": "stream",
     "text": [
      "\r",
      " 89%|██████████████████████████████████████████████████████████████████▊        | 927/1040 [4:12:32<1:52:06, 59.53s/it]"
     ]
    },
    {
     "name": "stdout",
     "output_type": "stream",
     "text": [
      "Limit Reached\n",
      "Limit Reached\n"
     ]
    },
    {
     "name": "stderr",
     "output_type": "stream",
     "text": [
      "\r",
      " 89%|██████████████████████████████████████████████████████████████████▉        | 928/1040 [4:13:32<1:51:07, 59.53s/it]"
     ]
    },
    {
     "name": "stdout",
     "output_type": "stream",
     "text": [
      "Limit Reached\n",
      "Limit Reached\n"
     ]
    },
    {
     "name": "stderr",
     "output_type": "stream",
     "text": [
      "\r",
      " 89%|██████████████████████████████████████████████████████████████████▉        | 929/1040 [4:14:32<1:50:38, 59.81s/it]"
     ]
    },
    {
     "name": "stdout",
     "output_type": "stream",
     "text": [
      "Limit Reached\n",
      "Limit Reached\n"
     ]
    },
    {
     "name": "stderr",
     "output_type": "stream",
     "text": [
      "\r",
      " 89%|███████████████████████████████████████████████████████████████████        | 930/1040 [4:15:33<1:50:34, 60.31s/it]"
     ]
    },
    {
     "name": "stdout",
     "output_type": "stream",
     "text": [
      "Limit Reached\n"
     ]
    },
    {
     "name": "stderr",
     "output_type": "stream",
     "text": [
      "\r",
      " 90%|███████████████████████████████████████████████████████████████████▏       | 931/1040 [4:15:34<1:17:03, 42.42s/it]"
     ]
    },
    {
     "name": "stdout",
     "output_type": "stream",
     "text": [
      "Limit Reached\n"
     ]
    },
    {
     "name": "stderr",
     "output_type": "stream",
     "text": [
      "\r",
      " 90%|███████████████████████████████████████████████████████████████████▏       | 932/1040 [4:16:37<1:27:12, 48.45s/it]"
     ]
    },
    {
     "name": "stdout",
     "output_type": "stream",
     "text": [
      "Limit Reached\n",
      "Limit Reached\n"
     ]
    },
    {
     "name": "stderr",
     "output_type": "stream",
     "text": [
      "\r",
      " 90%|███████████████████████████████████████████████████████████████████▎       | 933/1040 [4:17:40<1:34:26, 52.96s/it]"
     ]
    },
    {
     "name": "stdout",
     "output_type": "stream",
     "text": [
      "Limit Reached\n",
      "Limit Reached\n"
     ]
    },
    {
     "name": "stderr",
     "output_type": "stream",
     "text": [
      "\r",
      " 90%|███████████████████████████████████████████████████████████████████▎       | 934/1040 [4:18:45<1:39:55, 56.57s/it]"
     ]
    },
    {
     "name": "stdout",
     "output_type": "stream",
     "text": [
      "Limit Reached\n"
     ]
    },
    {
     "name": "stderr",
     "output_type": "stream",
     "text": [
      "\r",
      " 90%|███████████████████████████████████████████████████████████████████▍       | 935/1040 [4:18:46<1:09:38, 39.79s/it]"
     ]
    },
    {
     "name": "stdout",
     "output_type": "stream",
     "text": [
      "Limit Reached\n"
     ]
    },
    {
     "name": "stderr",
     "output_type": "stream",
     "text": [
      "\r",
      " 90%|███████████████████████████████████████████████████████████████████▌       | 936/1040 [4:19:51<1:22:19, 47.49s/it]"
     ]
    },
    {
     "name": "stdout",
     "output_type": "stream",
     "text": [
      "Limit Reached\n"
     ]
    },
    {
     "name": "stderr",
     "output_type": "stream",
     "text": [
      " 90%|█████████████████████████████████████████████████████████████████████▍       | 938/1040 [4:19:53<40:07, 23.60s/it]"
     ]
    },
    {
     "name": "stdout",
     "output_type": "stream",
     "text": [
      "Limit Reached\n"
     ]
    },
    {
     "name": "stderr",
     "output_type": "stream",
     "text": [
      "\r",
      " 90%|███████████████████████████████████████████████████████████████████▋       | 939/1040 [4:20:59<1:01:23, 36.47s/it]"
     ]
    },
    {
     "name": "stdout",
     "output_type": "stream",
     "text": [
      "Limit Reached\n"
     ]
    },
    {
     "name": "stderr",
     "output_type": "stream",
     "text": [
      " 90%|█████████████████████████████████████████████████████████████████████▋       | 941/1040 [4:21:00<30:02, 18.20s/it]"
     ]
    },
    {
     "name": "stdout",
     "output_type": "stream",
     "text": [
      "Limit Reached\n"
     ]
    },
    {
     "name": "stderr",
     "output_type": "stream",
     "text": [
      "\r",
      " 91%|█████████████████████████████████████████████████████████████████████▋       | 942/1040 [4:22:08<53:54, 33.00s/it]"
     ]
    },
    {
     "name": "stdout",
     "output_type": "stream",
     "text": [
      "Limit Reached\n",
      "Limit Reached\n"
     ]
    },
    {
     "name": "stderr",
     "output_type": "stream",
     "text": [
      "\r",
      " 91%|████████████████████████████████████████████████████████████████████       | 943/1040 [4:23:16<1:10:34, 43.65s/it]"
     ]
    },
    {
     "name": "stdout",
     "output_type": "stream",
     "text": [
      "Limit Reached\n"
     ]
    },
    {
     "name": "stderr",
     "output_type": "stream",
     "text": [
      "\r",
      " 91%|█████████████████████████████████████████████████████████████████████▉       | 944/1040 [4:23:17<49:12, 30.75s/it]"
     ]
    },
    {
     "name": "stdout",
     "output_type": "stream",
     "text": [
      "Limit Reached\n"
     ]
    },
    {
     "name": "stderr",
     "output_type": "stream",
     "text": [
      "\r",
      " 91%|████████████████████████████████████████████████████████████████████▏      | 945/1040 [4:24:26<1:07:05, 42.37s/it]"
     ]
    },
    {
     "name": "stdout",
     "output_type": "stream",
     "text": [
      "Limit Reached\n"
     ]
    },
    {
     "name": "stderr",
     "output_type": "stream",
     "text": [
      "\r",
      " 91%|██████████████████████████████████████████████████████████████████████       | 946/1040 [4:24:27<46:46, 29.85s/it]"
     ]
    },
    {
     "name": "stdout",
     "output_type": "stream",
     "text": [
      "Limit Reached\n"
     ]
    },
    {
     "name": "stderr",
     "output_type": "stream",
     "text": [
      "\r",
      " 91%|████████████████████████████████████████████████████████████████████▎      | 947/1040 [4:25:38<1:05:09, 42.04s/it]"
     ]
    },
    {
     "name": "stdout",
     "output_type": "stream",
     "text": [
      "Limit Reached\n",
      "Limit Reached\n"
     ]
    },
    {
     "name": "stderr",
     "output_type": "stream",
     "text": [
      "\r",
      " 91%|████████████████████████████████████████████████████████████████████▎      | 948/1040 [4:26:49<1:17:59, 50.87s/it]"
     ]
    },
    {
     "name": "stdout",
     "output_type": "stream",
     "text": [
      "Limit Reached\n",
      "Limit Reached\n"
     ]
    },
    {
     "name": "stderr",
     "output_type": "stream",
     "text": [
      "\r",
      " 91%|████████████████████████████████████████████████████████████████████▍      | 949/1040 [4:28:02<1:27:00, 57.37s/it]"
     ]
    },
    {
     "name": "stdout",
     "output_type": "stream",
     "text": [
      "Limit Reached\n",
      "Limit Reached\n"
     ]
    },
    {
     "name": "stderr",
     "output_type": "stream",
     "text": [
      "\r",
      " 91%|████████████████████████████████████████████████████████████████████▌      | 950/1040 [4:29:15<1:33:18, 62.20s/it]"
     ]
    },
    {
     "name": "stdout",
     "output_type": "stream",
     "text": [
      "Limit Reached\n",
      "Limit Reached\n"
     ]
    },
    {
     "name": "stderr",
     "output_type": "stream",
     "text": [
      "\r",
      " 91%|████████████████████████████████████████████████████████████████████▌      | 951/1040 [4:30:30<1:37:45, 65.91s/it]"
     ]
    },
    {
     "name": "stdout",
     "output_type": "stream",
     "text": [
      "Limit Reached\n"
     ]
    },
    {
     "name": "stderr",
     "output_type": "stream",
     "text": [
      "\r",
      " 92%|████████████████████████████████████████████████████████████████████▋      | 952/1040 [4:30:30<1:07:57, 46.34s/it]"
     ]
    },
    {
     "name": "stdout",
     "output_type": "stream",
     "text": [
      "Limit Reached\n"
     ]
    },
    {
     "name": "stderr",
     "output_type": "stream",
     "text": [
      "\r",
      " 92%|████████████████████████████████████████████████████████████████████▋      | 953/1040 [4:31:46<1:19:52, 55.09s/it]"
     ]
    },
    {
     "name": "stdout",
     "output_type": "stream",
     "text": [
      "Limit Reached\n"
     ]
    },
    {
     "name": "stderr",
     "output_type": "stream",
     "text": [
      "\r",
      " 92%|██████████████████████████████████████████████████████████████████████▋      | 954/1040 [4:31:46<55:33, 38.76s/it]"
     ]
    },
    {
     "name": "stdout",
     "output_type": "stream",
     "text": [
      "Limit Reached\n"
     ]
    },
    {
     "name": "stderr",
     "output_type": "stream",
     "text": [
      "\r",
      " 92%|████████████████████████████████████████████████████████████████████▊      | 955/1040 [4:33:03<1:10:57, 50.09s/it]"
     ]
    },
    {
     "name": "stdout",
     "output_type": "stream",
     "text": [
      "Limit Reached\n"
     ]
    },
    {
     "name": "stderr",
     "output_type": "stream",
     "text": [
      " 92%|██████████████████████████████████████████████████████████████████████▊      | 957/1040 [4:33:04<34:24, 24.87s/it]"
     ]
    },
    {
     "name": "stdout",
     "output_type": "stream",
     "text": [
      "Limit Reached\n"
     ]
    },
    {
     "name": "stderr",
     "output_type": "stream",
     "text": [
      "\r",
      " 92%|██████████████████████████████████████████████████████████████████████▉      | 958/1040 [4:34:22<55:33, 40.65s/it]"
     ]
    },
    {
     "name": "stdout",
     "output_type": "stream",
     "text": [
      "Limit Reached\n",
      "Limit Reached\n"
     ]
    },
    {
     "name": "stderr",
     "output_type": "stream",
     "text": [
      "\r",
      " 92%|█████████████████████████████████████████████████████████████████████▏     | 959/1040 [4:35:40<1:10:14, 52.03s/it]"
     ]
    },
    {
     "name": "stdout",
     "output_type": "stream",
     "text": [
      "Limit Reached\n"
     ]
    },
    {
     "name": "stderr",
     "output_type": "stream",
     "text": [
      "\r",
      " 92%|███████████████████████████████████████████████████████████████████████      | 960/1040 [4:35:41<48:49, 36.62s/it]"
     ]
    },
    {
     "name": "stdout",
     "output_type": "stream",
     "text": [
      "Limit Reached\n"
     ]
    },
    {
     "name": "stderr",
     "output_type": "stream",
     "text": [
      "\r",
      " 92%|█████████████████████████████████████████████████████████████████████▎     | 961/1040 [4:37:00<1:05:08, 49.48s/it]"
     ]
    },
    {
     "name": "stdout",
     "output_type": "stream",
     "text": [
      "Limit Reached\n",
      "Limit Reached\n"
     ]
    },
    {
     "name": "stderr",
     "output_type": "stream",
     "text": [
      "\r",
      " 92%|█████████████████████████████████████████████████████████████████████▍     | 962/1040 [4:38:21<1:16:25, 58.79s/it]"
     ]
    },
    {
     "name": "stdout",
     "output_type": "stream",
     "text": [
      "Limit Reached\n"
     ]
    },
    {
     "name": "stderr",
     "output_type": "stream",
     "text": [
      "\r",
      " 93%|███████████████████████████████████████████████████████████████████████▎     | 963/1040 [4:38:22<53:03, 41.35s/it]"
     ]
    },
    {
     "name": "stdout",
     "output_type": "stream",
     "text": [
      "Limit Reached\n"
     ]
    },
    {
     "name": "stderr",
     "output_type": "stream",
     "text": [
      "100%|████████████████████████████████████████████████████████████████████████████| 1040/1040 [4:40:29<00:00, 16.18s/it]\n"
     ]
    }
   ],
   "source": [
    "# Loading Data and adding tracks for each album\n",
    "# Counter to slow down the API calls\n",
    "sleeper = defaultdict(lambda: 0.5)\n",
    "# Path to store file names, album and artist if the data was not pulled\n",
    "t = int(time.time()*100)\n",
    "path_for_no_data = f\"data/spotify_song_data/no_data/no_data_{t}.json\"\n",
    "\n",
    "# Counter used to store data\n",
    "counter = 1\n",
    "\n",
    "# Storing the API calls that did not work\n",
    "not_work = []\n",
    "\n",
    "for order in all_paths.keys():\n",
    "    \n",
    "    # Search for a specific category\n",
    "    if order != 'top':\n",
    "        continue\n",
    "    \n",
    "    # Iterating through all the file paths in that category\n",
    "    for j_file in all_paths[order]:\n",
    "        \n",
    "        # Getting the year from the file path\n",
    "        year = j_file[-9:-5]\n",
    "        \n",
    "        # Look for a specific year\n",
    "        if int(year) not in [2000]:\n",
    "            continue\n",
    "        \n",
    "        # Opening a file \n",
    "        with open(j_file) as f:\n",
    "            data_dict = json.load(f)\n",
    "        \n",
    "        # Appending the new dictionaries with added information into new_vals\n",
    "        new_vals = []\n",
    "        \n",
    "        # Iterating through each entry in the original dictionary\n",
    "        for entry in tqdm.tqdm(data_dict):\n",
    "            \n",
    "            # Sleeper to reduce timeout\n",
    "            time.sleep(sleeper['search'])\n",
    "            \n",
    "            # Checking for errors other than the limit reached\n",
    "            try:\n",
    "                # Getting the URI's of the album and artist\n",
    "                entry[\"spotify album uri\"],entry[\"spotify artist uri\"] =  api_get_uri(entry['Album'],entry['Artist Name'])\n",
    "            except:\n",
    "                \n",
    "                # If the info is not retrieved save the file name, album name and artist name to a file\n",
    "                not_work.append({\"file\":j_file,\"album\":entry['Album'],\"artist\":entry['Artist Name']})\n",
    "                with open(path_for_no_data, 'w') as file:\n",
    "                    json.dump(not_work, file)\n",
    "                continue\n",
    "                \n",
    "            \n",
    "            # Checking to see whether limit has reached (if limit has reached all functions return -1)\n",
    "            if entry[\"spotify album uri\"] == -1:\n",
    "                \n",
    "                # Increase the sleep time if limit has reached\n",
    "                sleeper['search']+=0.5\n",
    "                \n",
    "                # Appending the file name, album and artist since the data retrieval did not work\n",
    "                not_work.append({\"file\":j_file,\"album\":entry['Album'],\"artist\":entry['Artist Name']})\n",
    "                with open(path_for_no_data, 'w') as file:\n",
    "                    json.dump(not_work, file)\n",
    "                continue\n",
    "            \n",
    "            # To store artist data - we run through the same steps as for uri retrieval\n",
    "            artist_data = {}\n",
    "            if entry['spotify artist uri'] != None:\n",
    "                \n",
    "                time.sleep(sleeper['artist'])\n",
    "                \n",
    "                try:\n",
    "                    artist = api_get_artist_data(entry['spotify artist uri'])\n",
    "                    if artist == -1:\n",
    "                        sleeper['artist']+=0.5\n",
    "                    else:\n",
    "                        artist_data = {\n",
    "                        'spotify artist name': artist['name'],\n",
    "                        'spotify artist popularity': artist['popularity'],\n",
    "                        'spotify artist followers': artist['followers']['total'],\n",
    "                        'spotify artist genres': artist['genres']}\n",
    "                except:\n",
    "                    not_work.append({\"file\":j_file,\"album\":entry['Album'],\"artist\":entry['Artist Name']})\n",
    "                    with open(path_for_no_data, 'w') as file:\n",
    "                        json.dump(not_work, file)\n",
    "                \n",
    "\n",
    "            # To get album track data - we run through the same steps as for uri retrieval\n",
    "            if entry['spotify album uri'] != None:\n",
    "                \n",
    "                time.sleep(sleeper['album'])\n",
    "                try:\n",
    "                    # Getting the tracks, track data and features\n",
    "                    result = api_get_album_tracks(entry['spotify album uri'])\n",
    "\n",
    "                    if result == -1:\n",
    "                        sleeper['album']+=0.5\n",
    "                        not_work.append({\"file\":j_file,\"album\":entry['Album'],\"artist\":entry['Artist Name']})\n",
    "                        with open(path_for_no_data, 'w') as file:\n",
    "                            json.dump(not_work, file)\n",
    "                        continue\n",
    "                        \n",
    "                    # Checkin to see if the number of tracks returned is not 0\n",
    "                    if len(result)!=0:\n",
    "                        for res in result:\n",
    "                            # Creating a new dictionary with added information\n",
    "                            dup_entry = copy.deepcopy(entry)\n",
    "                            dup_entry.update(res)\n",
    "                            dup_entry.update(artist_data)\n",
    "                            \n",
    "                            # Appending to the main list\n",
    "                            new_vals.append(dup_entry) \n",
    "                    else:\n",
    "                        not_work.append({\"file\":j_file,\"album\":entry['Album'],\"artist\":entry['Artist Name']})\n",
    "                        with open(path_for_no_data, 'w') as file:\n",
    "                            json.dump(not_work, file)\n",
    "                except:\n",
    "                    not_work.append({\"file\":j_file,\"album\":entry['Album'],\"artist\":entry['Artist Name']})\n",
    "                    with open(path_for_no_data, 'w') as file:\n",
    "                        json.dump(not_work, file)\n",
    "                    \n",
    "                # For every 10 counts we save the data - to prevent losing all information in case of rate limit reached\n",
    "                if counter%10 == 0:\n",
    "                    store_path = \"data/spotify_song_data/{}/{}\".format(order,year+\".json\")\n",
    "                    with open(store_path, 'w') as file:\n",
    "                            json.dump(new_vals, file)\n",
    "                            \n",
    "                # Getting a new token every 40 iterations\n",
    "                if counter%40 == 0:\n",
    "                    token = get_token()\n",
    "                counter+=1\n",
    "            else:\n",
    "                not_work.append({\"file\":j_file,\"album\":entry['Album'],\"artist\":entry['Artist Name']})\n",
    "                with open(path_for_no_data, 'w') as file:\n",
    "                    json.dump(not_work, file)\n",
    "                    \n",
    "        # Store all the data into the year for the particular chart if all iterations are completed\n",
    "        store_path = \"data/spotify_song_data/{}/{}\".format(order,year+\".json\")            \n",
    "        with open(store_path, 'w') as file:\n",
    "            json.dump(new_vals, file)\n",
    "                "
   ]
  },
  {
   "cell_type": "code",
   "execution_count": null,
   "metadata": {},
   "outputs": [],
   "source": []
  }
 ],
 "metadata": {
  "kernelspec": {
   "display_name": "Python 3",
   "language": "python",
   "name": "python3"
  },
  "language_info": {
   "codemirror_mode": {
    "name": "ipython",
    "version": 3
   },
   "file_extension": ".py",
   "mimetype": "text/x-python",
   "name": "python",
   "nbconvert_exporter": "python",
   "pygments_lexer": "ipython3",
   "version": "3.8.5"
  }
 },
 "nbformat": 4,
 "nbformat_minor": 5
}

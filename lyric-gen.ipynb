{
  "cells": [
    {
      "cell_type": "markdown",
      "source": [
        "# Importing the necessary libraries"
      ],
      "metadata": {
        "id": "NbMyXKHIjwGT"
      }
    },
    {
      "cell_type": "code",
      "execution_count": null,
      "metadata": {
        "id": "nQdPMraEcJ1K",
        "colab": {
          "base_uri": "https://localhost:8080/"
        },
        "outputId": "7bed6720-cc8b-47be-f3ea-ba47c9277a35"
      },
      "outputs": [
        {
          "output_type": "stream",
          "name": "stdout",
          "text": [
            "\u001b[2K     \u001b[90m━━━━━━━━━━━━━━━━━━━━━━━━━━━━━━━━━━━━━━━\u001b[0m \u001b[32m281.3/281.3 MB\u001b[0m \u001b[31m4.3 MB/s\u001b[0m eta \u001b[36m0:00:00\u001b[0m\n",
            "\u001b[?25h  Preparing metadata (setup.py) ... \u001b[?25l\u001b[?25hdone\n",
            "\u001b[2K     \u001b[90m━━━━━━━━━━━━━━━━━━━━━━━━━━━━━━━━━━━━━━\u001b[0m \u001b[32m473.2/473.2 kB\u001b[0m \u001b[31m51.2 MB/s\u001b[0m eta \u001b[36m0:00:00\u001b[0m\n",
            "\u001b[2K     \u001b[90m━━━━━━━━━━━━━━━━━━━━━━━━━━━━━━━━━━━━━━\u001b[0m \u001b[32m199.7/199.7 kB\u001b[0m \u001b[31m26.7 MB/s\u001b[0m eta \u001b[36m0:00:00\u001b[0m\n",
            "\u001b[?25h  Building wheel for pyspark (setup.py) ... \u001b[?25l\u001b[?25hdone\n"
          ]
        }
      ],
      "source": [
        "! pip install -q pyspark==3.3.0 spark-nlp==4.3.2"
      ]
    },
    {
      "cell_type": "code",
      "execution_count": null,
      "metadata": {
        "id": "4dun3ggxcLzd"
      },
      "outputs": [],
      "source": [
        "\n",
        "import sparknlp\n",
        "\n",
        "from sparknlp.base import *\n",
        "from sparknlp.annotator import *\n",
        "\n",
        "from pyspark.sql import SparkSession\n",
        "from pyspark.sql import functions as F\n",
        "from pyspark.ml import Pipeline,PipelineModel\n",
        "from glob import glob\n",
        "from termcolor import colored,cprint"
      ]
    },
    {
      "cell_type": "code",
      "source": [
        "import pyspark\n",
        "import tqdm\n",
        "import os\n",
        "from glob import glob\n",
        "from pyspark.sql.functions import *\n",
        "import pandas as pd\n",
        "import numpy as np\n",
        "from pyspark.sql import functions as func\n",
        "from pyspark.sql.types import *\n",
        "import warnings\n",
        "import json\n",
        "warnings.filterwarnings(\"ignore\")\n",
        "pd.set_option('display.max_rows', None)"
      ],
      "metadata": {
        "id": "kexC4sGLATGT"
      },
      "execution_count": null,
      "outputs": []
    },
    {
      "cell_type": "code",
      "source": [
        "from google.colab import drive\n",
        "drive.mount('/content/drive')"
      ],
      "metadata": {
        "colab": {
          "base_uri": "https://localhost:8080/"
        },
        "id": "GvlwMlPQ-Faz",
        "outputId": "b77b83ad-c739-4565-bf33-f35c5902cbad"
      },
      "execution_count": null,
      "outputs": [
        {
          "output_type": "stream",
          "name": "stdout",
          "text": [
            "Mounted at /content/drive\n"
          ]
        }
      ]
    },
    {
      "cell_type": "code",
      "execution_count": null,
      "metadata": {
        "colab": {
          "base_uri": "https://localhost:8080/",
          "height": 254
        },
        "id": "1pOvWR6oybqR",
        "outputId": "e8b816da-9118-4e55-cf30-96e158601a2a"
      },
      "outputs": [
        {
          "output_type": "stream",
          "name": "stdout",
          "text": [
            "Spark NLP version 4.3.2\n",
            "Apache Spark version: 3.3.0\n"
          ]
        },
        {
          "output_type": "execute_result",
          "data": {
            "text/plain": [
              "<pyspark.sql.session.SparkSession at 0x7f4523834fa0>"
            ],
            "text/html": [
              "\n",
              "            <div>\n",
              "                <p><b>SparkSession - in-memory</b></p>\n",
              "                \n",
              "        <div>\n",
              "            <p><b>SparkContext</b></p>\n",
              "\n",
              "            <p><a href=\"http://0e8ad2df1aee:4040\">Spark UI</a></p>\n",
              "\n",
              "            <dl>\n",
              "              <dt>Version</dt>\n",
              "                <dd><code>v3.3.0</code></dd>\n",
              "              <dt>Master</dt>\n",
              "                <dd><code>local[*]</code></dd>\n",
              "              <dt>AppName</dt>\n",
              "                <dd><code>Spark NLP</code></dd>\n",
              "            </dl>\n",
              "        </div>\n",
              "        \n",
              "            </div>\n",
              "        "
            ]
          },
          "metadata": {},
          "execution_count": 5
        }
      ],
      "source": [
        "\n",
        "# Comment out this line  and uncomment the next one to enable GPU mode and High RAM\n",
        "# spark = sparknlp.start()\n",
        "\n",
        "spark = sparknlp.start(gpu=True)\n",
        "\n",
        "print(\"Spark NLP version\", sparknlp.version())\n",
        "print(\"Apache Spark version:\", spark.version)\n",
        "\n",
        "spark"
      ]
    },
    {
      "cell_type": "markdown",
      "source": [
        "# Loading our database into spark"
      ],
      "metadata": {
        "id": "140NycLCj1sQ"
      }
    },
    {
      "cell_type": "code",
      "source": [
        "# Getting all the file names scraped from rate your music\n",
        "rating = ['top','bottom','popular','esoteric','diverse']\n",
        "# path = \"data/genius_lyrics/{}/\"\n",
        "path = \"/content/drive/MyDrive/Big_Data_Project/spark_y_rock_anthem/data/genius_lyrics/{}/\"\n",
        "all_paths = {}\n",
        "for order in rating:\n",
        "    temp = path.format(order)\n",
        "    all_paths[order] = []\n",
        "    for file in glob(temp+\"*.json\"):\n",
        "        all_paths[order].append(file)"
      ],
      "metadata": {
        "id": "vZuFs9h-_Z92"
      },
      "execution_count": null,
      "outputs": []
    },
    {
      "cell_type": "code",
      "source": [
        "# Writing the schema for read\n",
        "schema = StructType([\n",
        "            StructField('Ranking', IntegerType()),\n",
        "            StructField('Album', StringType()),\n",
        "            StructField('Artist Name', StringType()),\n",
        "            StructField('Release Date', StringType()),\n",
        "            StructField('Genres', StringType()),\n",
        "            StructField('Descriptors', StringType()),\n",
        "            StructField('Average Rating', StringType()),\n",
        "            StructField('spotify album uri', StringType()),\n",
        "            StructField('spotify artist uri', StringType()),\n",
        "            StructField('spotify track uri', StringType()),\n",
        "            StructField('spotify track name', StringType()),\n",
        "            StructField('spotify track number', IntegerType()),\n",
        "            StructField('spotify disc number', IntegerType()),\n",
        "            StructField('spotify track popularity', IntegerType()),\n",
        "            StructField('spotify track duration', IntegerType()),\n",
        "            StructField('spotify track features', MapType(StringType(), StringType())),\n",
        "            StructField('spotify artist name', StringType()),\n",
        "            StructField('spotify artist popularity', IntegerType()),\n",
        "            StructField('spotify artist followers', IntegerType()),\n",
        "            StructField('spotify artist genres', ArrayType(StringType())),\n",
        "            StructField('lyrics', StringType())\n",
        "            ])"
      ],
      "metadata": {
        "id": "ckqvQn_1ANgg"
      },
      "execution_count": null,
      "outputs": []
    },
    {
      "cell_type": "code",
      "source": [
        "# Reading the dataframe\n",
        "counter = 0\n",
        "for order in all_paths.keys():\n",
        "    \n",
        "    # Search for a specific category - comment the next two lines if you want to include all categories\n",
        "    # if order != 'top':\n",
        "    #     continue\n",
        "    \n",
        "    # Iterating through all the file paths in that category\n",
        "    for j_file in tqdm.tqdm(all_paths[order]):\n",
        "        \n",
        "        # Getting the year from the file path\n",
        "        year = j_file[-9:-5]\n",
        "        \n",
        "        # Look for a specific year -  comment the next two lines if you want to include all years+\n",
        "        if int(year) < 2000:\n",
        "            continue\n",
        "        \n",
        "        counter+=1\n",
        "\n",
        "        # Opening a file \n",
        "        with open(j_file) as f:\n",
        "            data_dict = json.load(f)\n",
        "\n",
        "        if counter == 1:\n",
        "            # creating a dataframe\n",
        "            df = spark.createDataFrame(data_dict, schema = schema)\n",
        "        else:\n",
        "            try:\n",
        "              df = df.unionAll(spark.createDataFrame(data_dict, schema = schema))\n",
        "            except:\n",
        "              print(\"Issue Reading\")\n",
        "              continue\n"
      ],
      "metadata": {
        "colab": {
          "base_uri": "https://localhost:8080/"
        },
        "id": "MsjM38hdAZQd",
        "outputId": "60b5b17c-6095-4e1f-ca2c-592b72e10465"
      },
      "execution_count": null,
      "outputs": [
        {
          "output_type": "stream",
          "name": "stderr",
          "text": [
            "100%|██████████| 25/25 [01:07<00:00,  2.72s/it]\n",
            "100%|██████████| 23/23 [00:18<00:00,  1.25it/s]\n",
            "100%|██████████| 24/24 [00:56<00:00,  2.35s/it]\n",
            "100%|██████████| 49/49 [01:32<00:00,  1.90s/it]\n",
            "100%|██████████| 37/37 [01:05<00:00,  1.77s/it]\n"
          ]
        }
      ]
    },
    {
      "cell_type": "markdown",
      "source": [
        "# Searching by album, artist or song to generate lyrics"
      ],
      "metadata": {
        "id": "X3vUTJfKjlRS"
      }
    },
    {
      "cell_type": "code",
      "source": [
        "temp = df.where(\"lyrics != 'None'\")"
      ],
      "metadata": {
        "id": "IIM2Y8opJR0Z"
      },
      "execution_count": null,
      "outputs": []
    },
    {
      "cell_type": "markdown",
      "source": [
        "## Searching by album name"
      ],
      "metadata": {
        "id": "azb7lXc6hR88"
      }
    },
    {
      "cell_type": "code",
      "source": [
        "inp = input(\"Enter the album name: \")"
      ],
      "metadata": {
        "colab": {
          "base_uri": "https://localhost:8080/"
        },
        "id": "KJWtgFbNhWuB",
        "outputId": "4c845d15-ca78-41f6-cff5-d20613af1376"
      },
      "execution_count": null,
      "outputs": [
        {
          "name": "stdout",
          "output_type": "stream",
          "text": [
            "Enter the album name: melodrama\n"
          ]
        }
      ]
    },
    {
      "cell_type": "code",
      "source": [
        "temp1 = temp.filter(lower(col(\"Album\")).contains(inp.lower())).sample(False, 0.1, seed = 0).limit(1)"
      ],
      "metadata": {
        "id": "K8J4AgtCdNL2"
      },
      "execution_count": null,
      "outputs": []
    },
    {
      "cell_type": "code",
      "source": [
        "print_data = temp1.toPandas()"
      ],
      "metadata": {
        "id": "8PWPv9NageIN"
      },
      "execution_count": null,
      "outputs": []
    },
    {
      "cell_type": "code",
      "source": [
        "try:\n",
        "  print(f\"Getting AI generated lyrics for {print_data['spotify track name'][0]} by {print_data['Artist Name'][0]} from the album {print_data['Album'][0]}\")\n",
        "except:\n",
        "  print(\"No song found!\")"
      ],
      "metadata": {
        "colab": {
          "base_uri": "https://localhost:8080/"
        },
        "id": "TQa870zeeGtI",
        "outputId": "a85c10d7-cef5-4d65-dfdc-ffbaa8b54aaa"
      },
      "execution_count": null,
      "outputs": [
        {
          "output_type": "stream",
          "name": "stdout",
          "text": [
            "Getting AI generated lyrics for Hard Feelings/Loveless by Lorde from the album Melodrama\n"
          ]
        }
      ]
    },
    {
      "cell_type": "markdown",
      "source": [
        "## Searching by artist name"
      ],
      "metadata": {
        "id": "ir5rAqrGihos"
      }
    },
    {
      "cell_type": "code",
      "source": [
        "inp = input(\"Enter the artist name: \")"
      ],
      "metadata": {
        "colab": {
          "base_uri": "https://localhost:8080/"
        },
        "outputId": "2c4f277a-c837-4766-f133-072ae714677f",
        "id": "Nbf1n0NvitvV"
      },
      "execution_count": null,
      "outputs": [
        {
          "name": "stdout",
          "output_type": "stream",
          "text": [
            "Enter the artist name: katy perry\n"
          ]
        }
      ]
    },
    {
      "cell_type": "code",
      "source": [
        "temp1 = temp.filter(lower(col(\"Artist Name\")).contains(inp.lower())).sample(False, 0.1, seed = 0).limit(1)"
      ],
      "metadata": {
        "id": "VvwTNxAditvV"
      },
      "execution_count": null,
      "outputs": []
    },
    {
      "cell_type": "code",
      "source": [
        "print_data = temp1.toPandas()"
      ],
      "metadata": {
        "id": "HBAK8WhvitvV"
      },
      "execution_count": null,
      "outputs": []
    },
    {
      "cell_type": "code",
      "source": [
        "try:\n",
        "  print(f\"Getting AI generated lyrics for {print_data['spotify track name'][0]} by {print_data['Artist Name'][0]} from the album {print_data['Album'][0]}\")\n",
        "except:\n",
        "  print(\"No song found!\")"
      ],
      "metadata": {
        "colab": {
          "base_uri": "https://localhost:8080/"
        },
        "outputId": "4f870e0c-4fe6-455d-c9b6-629b47c25108",
        "id": "65DstnloitvW"
      },
      "execution_count": null,
      "outputs": [
        {
          "output_type": "stream",
          "name": "stdout",
          "text": [
            "Getting AI generated lyrics for Teenage Dream by Katy Perry from the album Teenage Dream\n"
          ]
        }
      ]
    },
    {
      "cell_type": "markdown",
      "source": [
        "## Searching by song name"
      ],
      "metadata": {
        "id": "FQSD0eH5jLUu"
      }
    },
    {
      "cell_type": "code",
      "source": [
        "inp = input(\"Enter the song name: \")"
      ],
      "metadata": {
        "colab": {
          "base_uri": "https://localhost:8080/"
        },
        "outputId": "b5833d8b-bdd4-465c-fb4a-a12223fcffd5",
        "id": "-J9HKZ97jLU0"
      },
      "execution_count": null,
      "outputs": [
        {
          "name": "stdout",
          "output_type": "stream",
          "text": [
            "Enter the song name: pink + white\n"
          ]
        }
      ]
    },
    {
      "cell_type": "code",
      "source": [
        "temp1 = temp.filter(lower(col(\"spotify track name\")).contains(inp.lower())).sample(False, 1.0, seed=0).limit(1)"
      ],
      "metadata": {
        "id": "p4YfxAK2jLU0"
      },
      "execution_count": null,
      "outputs": []
    },
    {
      "cell_type": "code",
      "source": [
        "print_data = temp1.toPandas()"
      ],
      "metadata": {
        "id": "GAAL4od1jLU0"
      },
      "execution_count": null,
      "outputs": []
    },
    {
      "cell_type": "code",
      "source": [
        "try:\n",
        "  print(f\"Getting AI generated lyrics for {print_data['spotify track name'][0]} by {print_data['Artist Name'][0]} from the album {print_data['Album'][0]}\")\n",
        "except:\n",
        "  print(\"No song found!\")"
      ],
      "metadata": {
        "colab": {
          "base_uri": "https://localhost:8080/"
        },
        "outputId": "cb2d70aa-4532-4a64-f508-19fa59659bf3",
        "id": "MLR8D_YHjLU0"
      },
      "execution_count": null,
      "outputs": [
        {
          "output_type": "stream",
          "name": "stdout",
          "text": [
            "Getting AI generated lyrics for Pink + White by Frank Ocean from the album Blonde\n"
          ]
        }
      ]
    },
    {
      "cell_type": "markdown",
      "source": [
        "# Cleaning and preparing the data"
      ],
      "metadata": {
        "id": "7LNH6g9mjrME"
      }
    },
    {
      "cell_type": "code",
      "source": [
        "# Cleaning the data\n",
        "@udf(returnType=StringType())\n",
        "def clean_lyrics(data):\n",
        "    res = data.split(\"Lyrics\",1)[1]\n",
        "    res = res.split(\"Embed\")[0][:-1]\n",
        "    res = \"\\n\".join([i for i in res.split(\"\\n\") if i!=''])\n",
        "    return res"
      ],
      "metadata": {
        "id": "86vHlLeLAxS0"
      },
      "execution_count": null,
      "outputs": []
    },
    {
      "cell_type": "code",
      "source": [
        "# Truncating the input\n",
        "@udf(returnType=StringType())\n",
        "def truncate_lyrics(data):\n",
        "    res = data.split(\"\\n\")[0:8]\n",
        "    res = \"\\n\".join(res)\n",
        "    return res"
      ],
      "metadata": {
        "id": "R-c0YieCmryJ"
      },
      "execution_count": null,
      "outputs": []
    },
    {
      "cell_type": "code",
      "source": [
        "temp2 = temp1.select(clean_lyrics(\"lyrics\").alias('cleaned lyrics'))\n",
        "data = temp2.select('cleaned lyrics',truncate_lyrics('cleaned lyrics')).toDF(\"original\",\"text\")"
      ],
      "metadata": {
        "id": "IqeYDb_zAy_c"
      },
      "execution_count": null,
      "outputs": []
    },
    {
      "cell_type": "markdown",
      "metadata": {
        "id": "7-Un073ccDYi"
      },
      "source": [
        "# GPT2 Pipeline "
      ]
    },
    {
      "cell_type": "markdown",
      "metadata": {
        "id": "MR8j4syuq-Nr"
      },
      "source": [
        "Creating a Spark NLP Pipeline with `gpt2` model and checking the results."
      ]
    },
    {
      "cell_type": "code",
      "source": [
        "documentAssembler = DocumentAssembler() \\\n",
        "    .setInputCol(\"text\") \\\n",
        "    .setOutputCol(\"documents\")\n"
      ],
      "metadata": {
        "id": "1UIriHCmEnbN"
      },
      "execution_count": null,
      "outputs": []
    },
    {
      "cell_type": "code",
      "source": [
        "# The below code is to load gpt2_base model from spark nlp \n",
        "gpt2 = GPT2Transformer.load(\"/content/drive/MyDrive/Big_Data_Project/spark_y_rock_anthem/models/gpt2_en_3.4.0_3.0_1638510926608/\") \\\n",
        "    .setInputCols([\"documents\"]) \\\n",
        "    .setTask(\"Is it true that\") \\\n",
        "    .setMaxOutputLength(1000) \\\n",
        "    .setMinOutputLength(25) \\\n",
        "    .setOutputCol(\"generation\")\n",
        "\n",
        "# The below code is to load gpt2_medium model from spark nlp - doesn't fit in RAM of colab\n",
        "# gpt2 = GPT2Transformer.load(\"/content/drive/MyDrive/Big_Data_Project/spark_y_rock_anthem/models/gpt2_medium_en_3.4.0_3.0_1638517188768/\") \\\n",
        "#     .setInputCols([\"documents\"]) \\\n",
        "#     .setTask(\"Is it true that\") \\\n",
        "#     .setMaxOutputLength(1000) \\\n",
        "#     .setMinOutputLength(25) \\\n",
        "#     .setOutputCol(\"generation\")"
      ],
      "metadata": {
        "id": "p4uxxPTJF9YU"
      },
      "execution_count": null,
      "outputs": []
    },
    {
      "cell_type": "code",
      "source": [
        "pipeline = Pipeline().setStages([documentAssembler,gpt2]).fit(data)"
      ],
      "metadata": {
        "id": "HEVTPdPcNGGP"
      },
      "execution_count": null,
      "outputs": []
    },
    {
      "cell_type": "code",
      "execution_count": null,
      "metadata": {
        "id": "IfRKHG-AumPo"
      },
      "outputs": [],
      "source": [
        "result = pipeline.transform(data)"
      ]
    },
    {
      "cell_type": "code",
      "source": [
        "res = result.select(\"generation.result\").toPandas()"
      ],
      "metadata": {
        "id": "Hek5ppz_kdbf"
      },
      "execution_count": null,
      "outputs": []
    },
    {
      "cell_type": "code",
      "source": [
        "to_print = data.toPandas()"
      ],
      "metadata": {
        "id": "9zweVHEwj1im"
      },
      "execution_count": null,
      "outputs": []
    },
    {
      "cell_type": "code",
      "source": [
        "to_print"
      ],
      "metadata": {
        "colab": {
          "base_uri": "https://localhost:8080/"
        },
        "id": "SazO34v_R2sy",
        "outputId": "0a68e959-4fdb-4c66-8e83-91fd94c0fe6b"
      },
      "execution_count": null,
      "outputs": [
        {
          "output_type": "execute_result",
          "data": {
            "text/plain": [
              "                                            original  \\\n",
              "0  Yeah, yeah, um (Woo)\\nYeah, yeah, yeah\\nThat's...   \n",
              "\n",
              "                                                text  \n",
              "0  Yeah, yeah, um (Woo)\\nYeah, yeah, yeah\\nThat's...  "
            ],
            "text/html": [
              "\n",
              "  <div id=\"df-f68fe2ba-e06d-4649-9855-0fc59cf9f1f0\">\n",
              "    <div class=\"colab-df-container\">\n",
              "      <div>\n",
              "<style scoped>\n",
              "    .dataframe tbody tr th:only-of-type {\n",
              "        vertical-align: middle;\n",
              "    }\n",
              "\n",
              "    .dataframe tbody tr th {\n",
              "        vertical-align: top;\n",
              "    }\n",
              "\n",
              "    .dataframe thead th {\n",
              "        text-align: right;\n",
              "    }\n",
              "</style>\n",
              "<table border=\"1\" class=\"dataframe\">\n",
              "  <thead>\n",
              "    <tr style=\"text-align: right;\">\n",
              "      <th></th>\n",
              "      <th>original</th>\n",
              "      <th>text</th>\n",
              "    </tr>\n",
              "  </thead>\n",
              "  <tbody>\n",
              "    <tr>\n",
              "      <th>0</th>\n",
              "      <td>Yeah, yeah, um (Woo)\\nYeah, yeah, yeah\\nThat's...</td>\n",
              "      <td>Yeah, yeah, um (Woo)\\nYeah, yeah, yeah\\nThat's...</td>\n",
              "    </tr>\n",
              "  </tbody>\n",
              "</table>\n",
              "</div>\n",
              "      <button class=\"colab-df-convert\" onclick=\"convertToInteractive('df-f68fe2ba-e06d-4649-9855-0fc59cf9f1f0')\"\n",
              "              title=\"Convert this dataframe to an interactive table.\"\n",
              "              style=\"display:none;\">\n",
              "        \n",
              "  <svg xmlns=\"http://www.w3.org/2000/svg\" height=\"24px\"viewBox=\"0 0 24 24\"\n",
              "       width=\"24px\">\n",
              "    <path d=\"M0 0h24v24H0V0z\" fill=\"none\"/>\n",
              "    <path d=\"M18.56 5.44l.94 2.06.94-2.06 2.06-.94-2.06-.94-.94-2.06-.94 2.06-2.06.94zm-11 1L8.5 8.5l.94-2.06 2.06-.94-2.06-.94L8.5 2.5l-.94 2.06-2.06.94zm10 10l.94 2.06.94-2.06 2.06-.94-2.06-.94-.94-2.06-.94 2.06-2.06.94z\"/><path d=\"M17.41 7.96l-1.37-1.37c-.4-.4-.92-.59-1.43-.59-.52 0-1.04.2-1.43.59L10.3 9.45l-7.72 7.72c-.78.78-.78 2.05 0 2.83L4 21.41c.39.39.9.59 1.41.59.51 0 1.02-.2 1.41-.59l7.78-7.78 2.81-2.81c.8-.78.8-2.07 0-2.86zM5.41 20L4 18.59l7.72-7.72 1.47 1.35L5.41 20z\"/>\n",
              "  </svg>\n",
              "      </button>\n",
              "      \n",
              "  <style>\n",
              "    .colab-df-container {\n",
              "      display:flex;\n",
              "      flex-wrap:wrap;\n",
              "      gap: 12px;\n",
              "    }\n",
              "\n",
              "    .colab-df-convert {\n",
              "      background-color: #E8F0FE;\n",
              "      border: none;\n",
              "      border-radius: 50%;\n",
              "      cursor: pointer;\n",
              "      display: none;\n",
              "      fill: #1967D2;\n",
              "      height: 32px;\n",
              "      padding: 0 0 0 0;\n",
              "      width: 32px;\n",
              "    }\n",
              "\n",
              "    .colab-df-convert:hover {\n",
              "      background-color: #E2EBFA;\n",
              "      box-shadow: 0px 1px 2px rgba(60, 64, 67, 0.3), 0px 1px 3px 1px rgba(60, 64, 67, 0.15);\n",
              "      fill: #174EA6;\n",
              "    }\n",
              "\n",
              "    [theme=dark] .colab-df-convert {\n",
              "      background-color: #3B4455;\n",
              "      fill: #D2E3FC;\n",
              "    }\n",
              "\n",
              "    [theme=dark] .colab-df-convert:hover {\n",
              "      background-color: #434B5C;\n",
              "      box-shadow: 0px 1px 3px 1px rgba(0, 0, 0, 0.15);\n",
              "      filter: drop-shadow(0px 1px 2px rgba(0, 0, 0, 0.3));\n",
              "      fill: #FFFFFF;\n",
              "    }\n",
              "  </style>\n",
              "\n",
              "      <script>\n",
              "        const buttonEl =\n",
              "          document.querySelector('#df-f68fe2ba-e06d-4649-9855-0fc59cf9f1f0 button.colab-df-convert');\n",
              "        buttonEl.style.display =\n",
              "          google.colab.kernel.accessAllowed ? 'block' : 'none';\n",
              "\n",
              "        async function convertToInteractive(key) {\n",
              "          const element = document.querySelector('#df-f68fe2ba-e06d-4649-9855-0fc59cf9f1f0');\n",
              "          const dataTable =\n",
              "            await google.colab.kernel.invokeFunction('convertToInteractive',\n",
              "                                                     [key], {});\n",
              "          if (!dataTable) return;\n",
              "\n",
              "          const docLinkHtml = 'Like what you see? Visit the ' +\n",
              "            '<a target=\"_blank\" href=https://colab.research.google.com/notebooks/data_table.ipynb>data table notebook</a>'\n",
              "            + ' to learn more about interactive tables.';\n",
              "          element.innerHTML = '';\n",
              "          dataTable['output_type'] = 'display_data';\n",
              "          await google.colab.output.renderOutput(dataTable, element);\n",
              "          const docLink = document.createElement('div');\n",
              "          docLink.innerHTML = docLinkHtml;\n",
              "          element.appendChild(docLink);\n",
              "        }\n",
              "      </script>\n",
              "    </div>\n",
              "  </div>\n",
              "  "
            ]
          },
          "metadata": {},
          "execution_count": 119
        }
      ]
    },
    {
      "cell_type": "code",
      "source": [
        "red = '\\033[91m'\n",
        "green = '\\033[92m'\n",
        "bold = '\\033[1m'\n",
        "reset = \"\\033[0;0m\"\n",
        "\n",
        "print(bold + \"Input text:\" + reset)\n",
        "print(red + to_print.text[0] + reset)\n",
        "\n",
        "print(\"%-120s  %-120s\" %(bold+\"GPT Result:\",\"Original Song:\"+reset))\n",
        "\n",
        "\n",
        "print_1 = to_print.text[0]  \n",
        "print_2 = res.result[0][0].split(\"Is it true that \")[1].split(to_print.text[0])[1]\n",
        "print_3 = to_print.original[0]\n",
        "\n",
        "p1_l = print_1.split(\"\\n\")\n",
        "p1_l = [red + s + reset for s in p1_l]\n",
        "p2_l = print_2.split(\"\\n\")\n",
        "p2_l = [green + s + reset for s in p2_l]\n",
        "p1 = p1_l+p2_l\n",
        "p1 = [i for i in p1 if i]\n",
        "\n",
        "p3_l = print_3.split(\"\\n\")\n",
        "p3_l = [red + s + reset for s in p3_l]\n",
        "p3_l = [i for i in p3_l if i]\n",
        "\n",
        "if len(p1)>=len(p3_l):\n",
        "  for i in range(len(p1)):\n",
        "    try:\n",
        "      print(\"%-120s  %-120s\" %(p1[i],p3_l[i]))\n",
        "    except:\n",
        "      print(\"%-120s\" %(p1[i]))\n",
        "else:\n",
        "    for i in range(len(p3_l)):\n",
        "      try:\n",
        "        print(\"%-120s  %-120s\" %(p1[i],p3_l[i]))\n",
        "      except:\n",
        "        print(\"%-120s %s\" %(\" \",p3_l[i]))\n",
        "\n"
      ],
      "metadata": {
        "colab": {
          "base_uri": "https://localhost:8080/"
        },
        "id": "Js3eE1TJpdPo",
        "outputId": "22d9ccf6-472b-478c-bac8-87dfb0e84639"
      },
      "execution_count": null,
      "outputs": [
        {
          "output_type": "stream",
          "name": "stdout",
          "text": [
            "\u001b[1mInput text:\u001b[0;0m\n",
            "\u001b[91mYeah, yeah, um (Woo)\n",
            "Yeah, yeah, yeah\n",
            "That's the way every day goes\n",
            "Every time we've no control\n",
            "If the sky is pink and white\n",
            "If the ground is black and yellow\n",
            "It's the same way you showed me\n",
            "Nod my head, don't close my eyes\u001b[0;0m\n",
            "\u001b[1mGPT Result:                                                                                                           Original Song:\u001b[0;0m                                                                                                    \n",
            "\u001b[91mYeah, yeah, um (Woo)\u001b[0;0m                                                                                           \u001b[91mYeah, yeah, um (Woo)\u001b[0;0m                                                                                         \n",
            "\u001b[91mYeah, yeah, yeah\u001b[0;0m                                                                                               \u001b[91mYeah, yeah, yeah\u001b[0;0m                                                                                             \n",
            "\u001b[91mThat's the way every day goes\u001b[0;0m                                                                                  \u001b[91mThat's the way every day goes\u001b[0;0m                                                                                \n",
            "\u001b[91mEvery time we've no control\u001b[0;0m                                                                                    \u001b[91mEvery time we've no control\u001b[0;0m                                                                                  \n",
            "\u001b[91mIf the sky is pink and white\u001b[0;0m                                                                                   \u001b[91mIf the sky is pink and white\u001b[0;0m                                                                                 \n",
            "\u001b[91mIf the ground is black and yellow\u001b[0;0m                                                                              \u001b[91mIf the ground is black and yellow\u001b[0;0m                                                                            \n",
            "\u001b[91mIt's the same way you showed me\u001b[0;0m                                                                                \u001b[91mIt's the same way you showed me\u001b[0;0m                                                                              \n",
            "\u001b[91mNod my head, don't close my eyes\u001b[0;0m                                                                               \u001b[91mNod my head, don't close my eyes\u001b[0;0m                                                                             \n",
            "\u001b[92m\u001b[0;0m                                                                                                               \u001b[91mHalfway on a slow move\u001b[0;0m                                                                                       \n",
            "\u001b[92mI'm not going to let you go\u001b[0;0m                                                                                    \u001b[91mIt's the same way you showed me\u001b[0;0m                                                                              \n",
            "\u001b[92mI'll be there for you, I'll be with you\u001b[0;0m                                                                        \u001b[91mIf you could fly, then you'd feel south\u001b[0;0m                                                                      \n",
            "\u001b[92mI will be there with you, and I'll make you happy\u001b[0;0m                                                              \u001b[91mUp north's getting cold soon\u001b[0;0m                                                                                 \n",
            "\u001b[92mI won't let you leave\u001b[0;0m                                                                                          \u001b[91mThe way it is, we're on land\u001b[0;0m                                                                                 \n",
            "\u001b[92mI don't want to leave\u001b[0;0m                                                                                          \u001b[91mStill, I'm someone to hold true\u001b[0;0m                                                                              \n",
            "\u001b[92mYou're my friend, I don't care if you're a girl or a boy\u001b[0;0m                                                       \u001b[91mKeep you cool when it's still alive\u001b[0;0m                                                                          \n",
            "\u001b[92mI want you to be my friend\u001b[0;0m                                                                                     \u001b[91mWon't let you down when it's all ruin\u001b[0;0m                                                                        \n",
            "\u001b[92mI love you, you're my best friend\u001b[0;0m                                                                              \u001b[91mJust the same way you showed me, showed me\u001b[0;0m                                                                   \n",
            "\u001b[92mYou'll be my best girl\u001b[0;0m                                                                                         \u001b[91mYou showed me love\u001b[0;0m                                                                                           \n",
            "\u001b[92mI know you're going to be a girl, I know you'll be a boy, I'm going to make you a girl\u001b[0;0m                         \u001b[91mGlory from above\u001b[0;0m                                                                                             \n",
            "\u001b[92mYou know I'm not a girl anymore\u001b[0;0m                                                                                \u001b[91mRegard, my dear\u001b[0;0m                                                                                              \n",
            "\u001b[92mI've got to be the best girl I can be\u001b[0;0m                                                                          \u001b[91mIt's all downhill from here\u001b[0;0m                                                                                  \n",
            "\u001b[92mI can't be the girl anymore, I can't let go\u001b[0;0m                                                                    \u001b[91mYou might also like\u001b[0;0m                                                                                          \n",
            "\u001b[92mYou can't leave\u001b[0;0m                                                                                                \u001b[91mIn the wake of a hurricane\u001b[0;0m                                                                                   \n",
            "\u001b[92mIt'll be okay, it'll be alright\u001b[0;0m                                                                                \u001b[91mDark skin of a summer shade\u001b[0;0m                                                                                  \n",
            "\u001b[92mI just want you, it's okay, I just want to be with You\u001b[0;0m                                                         \u001b[91mNosedive into flood lines\u001b[0;0m                                                                                    \n",
            "\u001b[92mI wanna be with ya, I wanna be in your arms\u001b[0;0m                                                                    \u001b[91mTall tower of milk crates\u001b[0;0m                                                                                    \n",
            "\u001b[92mI gotta be with Ya, I gotta be in Ya\u001b[0;0m                                                                           \u001b[91mIt's the same way you showed me\u001b[0;0m                                                                              \n",
            "\u001b[92mI got to make ya happy, I got to give you a chance\u001b[0;0m                                                             \u001b[91mCannonball off the porch side\u001b[0;0m                                                                                \n",
            "\u001b[92mI get to make Ya happy, and you're gonna be happy\u001b[0;0m                                                              \u001b[91mOlder kids trying off the rooves\u001b[0;0m                                                                             \n",
            "\u001b[92mYou got to love me, I get to love Ya, and Ya's gonna be Happy\u001b[0;0m                                                  \u001b[91mJust the same way you showed me (You showed)\u001b[0;0m                                                                 \n",
            "\u001b[92mI have to be in you, my best friends, I have to love you\u001b[0;0m                                                       \u001b[91mIf you could die and come back to life\u001b[0;0m                                                                       \n",
            "\u001b[92mYou have to make me happy, you have to give me a chance, I've got a chance to make You happy\u001b[0;0m                   \u001b[91mUp for air from the swimming pool\u001b[0;0m                                                                            \n",
            "\u001b[92mYeah yeah, I want you\u001b[0;0m                                                                                          \u001b[91mYou'd kneel down to the dry land\u001b[0;0m                                                                             \n",
            "\u001b[92mYeah I want ya, and ya's gonna make me Happy\u001b[0;0m                                                                   \u001b[91mKiss the earth that birthed you\u001b[0;0m                                                                              \n",
            "\u001b[92mYeah Yeah, I love you and I love Ya\u001b[0;0m                                                                            \u001b[91mGave you tools just to stay alive\u001b[0;0m                                                                            \n",
            "\u001b[92mYeah\u001b[0;0m                                                                                                           \u001b[91mAnd make it out when the sun is ruined\u001b[0;0m                                                                       \n",
            "\u001b[92mYeah (WOO)\u001b[0;0m                                                                                                     \u001b[91mThat's the same way you showed me, showed me\u001b[0;0m                                                                 \n",
            "\u001b[92mI like you, but I don' want you back\u001b[0;0m                                                                           \u001b[91mYou showed me love\u001b[0;0m                                                                                           \n",
            "\u001b[92mI hate you, don' care if I'm a girl and a boy or a girl\u001b[0;0m                                                        \u001b[91mGlory from above\u001b[0;0m                                                                                             \n",
            "                                                                                                                         \u001b[91mRegard, my dear\u001b[0;0m\n",
            "                                                                                                                         \u001b[91mIt's all downhill from here\u001b[0;0m\n",
            "                                                                                                                         \u001b[91mRemember life, remember how it was\u001b[0;0m\n",
            "                                                                                                                         \u001b[91mClimb trees, Michael Jackson, all ends here\u001b[0;0m\n",
            "                                                                                                                         \u001b[91mSay what up to Matthew, to Shoob\u001b[0;0m\n",
            "                                                                                                                         \u001b[91mSay what up to Danny\u001b[0;0m\n",
            "                                                                                                                         \u001b[91mSay what up to life immortality\u001b[0;0m\n",
            "                                                                                                                         \u001b[91mBending up my Nikes\u001b[0;0m\n",
            "                                                                                                                         \u001b[91mRunning out of melpomene, nicotine\u001b[0;0m\n",
            "                                                                                                                         \u001b[91mStealing granny cigs (Take it easy)\u001b[0;0m\n",
            "                                                                                                                         \u001b[91mGimme something sweet\u001b[0;0m\n",
            "                                                                                                                         \u001b[91mBitch, I might like immortality\u001b[0;0m\n",
            "                                                                                                                         \u001b[91mThis is life, life immortality15\u001b[0;0m\n"
          ]
        }
      ]
    },
    {
      "cell_type": "code",
      "source": [],
      "metadata": {
        "id": "AYv-0gJt69cu"
      },
      "execution_count": null,
      "outputs": []
    }
  ],
  "metadata": {
    "accelerator": "GPU",
    "colab": {
      "machine_shape": "hm",
      "provenance": [],
      "gpuType": "T4"
    },
    "gpuClass": "standard",
    "kernelspec": {
      "display_name": "base",
      "language": "python",
      "name": "python3"
    },
    "language_info": {
      "name": "python",
      "version": "3.9.7 (default, Sep 16 2021, 16:59:28) [MSC v.1916 64 bit (AMD64)]"
    },
    "vscode": {
      "interpreter": {
        "hash": "f010810051e06cddae797e33c19bccd53b76a478bc9d8b87772ec093102f0765"
      }
    }
  },
  "nbformat": 4,
  "nbformat_minor": 0
}
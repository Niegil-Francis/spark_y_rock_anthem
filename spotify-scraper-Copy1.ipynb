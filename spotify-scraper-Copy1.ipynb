{
 "cells": [
  {
   "cell_type": "code",
   "execution_count": 13,
   "id": "66ac76f1",
   "metadata": {},
   "outputs": [],
   "source": [
    "import pandas as pd\n",
    "import spotipy\n",
    "from spotipy.oauth2 import SpotifyClientCredentials\n",
    "from bs4 import BeautifulSoup\n",
    "import requests\n",
    "import glob\n",
    "import json\n",
    "import copy\n",
    "import tqdm\n",
    "import time\n",
    "import base64\n",
    "from requests import post, get\n",
    "from collections import defaultdict"
   ]
  },
  {
   "cell_type": "code",
   "execution_count": 14,
   "id": "cabab0cf",
   "metadata": {},
   "outputs": [],
   "source": [
    "# Client ID\n",
    "cid = ''\n",
    "\n",
    "# Client secret\n",
    "secret = ''"
   ]
  },
  {
   "cell_type": "code",
   "execution_count": 15,
   "metadata": {},
   "outputs": [],
   "source": [
    "# Getting all the file names scraped from rate your music\n",
    "rating = ['top','bottom','popular','esoteric','diverse']\n",
    "path = \"data/rate_your_music_data/{}/\"\n",
    "all_paths = {}\n",
    "for order in rating:\n",
    "    temp = path.format(order)\n",
    "    all_paths[order] = []\n",
    "    for file in glob.glob(temp+\"*.json\"):\n",
    "        all_paths[order].append(file)"
   ]
  },
  {
   "cell_type": "code",
   "execution_count": 16,
   "metadata": {},
   "outputs": [],
   "source": [
    "# Getting the authorization token\n",
    "def get_token():\n",
    "    auth_string = cid + \":\" + secret\n",
    "    auth_bytes = auth_string.encode(\"utf-8\")\n",
    "    auth_base64 = str(base64.b64encode(auth_bytes),\"utf-8\")\n",
    "    \n",
    "    url = \"https://accounts.spotify.com/api/token\"\n",
    "    \n",
    "    headers = {\n",
    "        \"Authorization\": \"Basic \" + auth_base64,\n",
    "        \"Content-Type\": \"application/x-www-form-urlencoded\"\n",
    "    }\n",
    "    data = {\"grant_type\":\"client_credentials\"}\n",
    "    \n",
    "    result = post(url, headers = headers, data = data)\n",
    "    res = json.loads(result.content)\n",
    "    token = res[\"access_token\"]\n",
    "    return token"
   ]
  },
  {
   "cell_type": "code",
   "execution_count": 17,
   "metadata": {},
   "outputs": [],
   "source": [
    "# Storing the token\n",
    "token = get_token()"
   ]
  },
  {
   "cell_type": "code",
   "execution_count": 18,
   "metadata": {},
   "outputs": [],
   "source": [
    "# Function to get the authentication headers\n",
    "def get_auth_header(token):\n",
    "    return {\"Authorization\":\"Bearer \"+ token}"
   ]
  },
  {
   "cell_type": "code",
   "execution_count": 19,
   "metadata": {},
   "outputs": [],
   "source": [
    "# Function to get uri's of album and artist\n",
    "def api_get_uri(album,artist):\n",
    "    url = \"https://api.spotify.com/v1/search?\"\n",
    "    headers = get_auth_header(token)\n",
    "    query = f\"q=album:{album} artist:{artist}&type=album&limit=1\"\n",
    "    result = get(url+query, headers = headers)\n",
    "    \n",
    "    # Returns -1 if rate limit of spotify is hit\n",
    "    if result.status_code == 429:\n",
    "        print(\"Limit Reached\")\n",
    "        return -1, -1\n",
    "    else:\n",
    "        result = json.loads(result.content)\n",
    "        if result['albums']['items']:\n",
    "            album_uri = result['albums']['items'][0]['uri']\n",
    "            artist_uri = result['albums']['items'][0]['artists'][0]['uri']\n",
    "            return album_uri, artist_uri\n",
    "        else:\n",
    "            return None, None\n",
    "    \n",
    "    \n",
    "    "
   ]
  },
  {
   "cell_type": "code",
   "execution_count": 20,
   "metadata": {},
   "outputs": [],
   "source": [
    "# Function to get artist data\n",
    "def api_get_artist_data(uri):\n",
    "    id_ = uri.split(\":\")[-1]\n",
    "    url = f\"https://api.spotify.com/v1/artists/{id_}\"\n",
    "    headers = get_auth_header(token)\n",
    "    result = get(url, headers = headers)\n",
    "    \n",
    "    if result.status_code == 429:\n",
    "        print(\"Limit Reached\")\n",
    "        return -1\n",
    "    else:\n",
    "        one = json.loads(result.content)\n",
    "        return one\n",
    "\n",
    "    "
   ]
  },
  {
   "cell_type": "code",
   "execution_count": 21,
   "metadata": {},
   "outputs": [],
   "source": [
    "# Function to get track features\n",
    "def api_get_audio_feat(uri):\n",
    "    id_ = uri.split(\":\")[-1]\n",
    "    url = f\"https://api.spotify.com/v1/audio-features/{id_}\"\n",
    "    headers = get_auth_header(token)\n",
    "    \n",
    "    time.sleep(sleeper['feat'])\n",
    "    result = get(url, headers = headers)\n",
    "    if result.status_code == 429:\n",
    "        print(\"Limit Reached\")\n",
    "        sleeper['feat']+=0.5\n",
    "        return -1\n",
    "    else:\n",
    "        one = json.loads(result.content)\n",
    "        return one"
   ]
  },
  {
   "cell_type": "code",
   "execution_count": 22,
   "metadata": {},
   "outputs": [],
   "source": [
    "# Function to get track data\n",
    "def api_get_track_data(uri):\n",
    "    id_ = uri.split(\":\")[-1]\n",
    "    \n",
    "    url = f\"https://api.spotify.com/v1/tracks/{id_}\"\n",
    "    headers = get_auth_header(token)\n",
    "    \n",
    "    time.sleep(sleeper['tracks'])\n",
    "    result = get(url, headers = headers)\n",
    "    \n",
    "    if result.status_code == 429:\n",
    "        print(\"Limit Reached\")\n",
    "        sleeper['tracks']+=0.5\n",
    "        return -1\n",
    "    else:\n",
    "        one = json.loads(result.content)\n",
    "        return one"
   ]
  },
  {
   "cell_type": "code",
   "execution_count": 23,
   "metadata": {},
   "outputs": [],
   "source": [
    "# Function to get tracks of each album and its features\n",
    "def api_get_album_tracks(uri):\n",
    "    url = \"https://api.spotify.com/v1\"\n",
    "    \n",
    "    headers = get_auth_header(token)\n",
    "    id_ = uri.split(\":\")[-1]\n",
    "    query = \"/albums/{}/tracks?offset=0&limit=50\".format(id_)\n",
    "    result = get(url+query,headers = headers)\n",
    "    \n",
    "    if result.status_code == 429:\n",
    "        print(\"Limit Reached\")\n",
    "        return -1\n",
    "    else:\n",
    "        one = json.loads(result.content)\n",
    "        data = pd.DataFrame(one)\n",
    "        tracks = []\n",
    "        for i, x in data['items'].items():\n",
    "            track = {}\n",
    "            track['spotify track uri'] = x['uri']\n",
    "            track['spotify track name'] = x['name']\n",
    "            track['spotify track number'] = x['track_number']\n",
    "            track['spotify disc number'] = x['disc_number']\n",
    "            \n",
    "            \n",
    "            track_data = api_get_track_data(x['uri'])\n",
    "            if track_data == -1:\n",
    "                track['spotify track popularity'] = None\n",
    "                track['spotify track duration'] = None\n",
    "            else:\n",
    "                track['spotify track popularity'] = track_data['popularity']\n",
    "                track['spotify track duration'] = track_data['duration_ms']\n",
    "            \n",
    "            features = api_get_audio_feat(x['uri'])\n",
    "            if features != None and features != -1:\n",
    "                 track['spotify track features'] = {\n",
    "                'acousticness': features['acousticness'],\n",
    "                'danceability': features['danceability'],\n",
    "                'energy': features['energy'],\n",
    "                'instrumentalness': features['instrumentalness'],\n",
    "                'liveness': features['liveness'],\n",
    "                'loudness': features['loudness'],\n",
    "                'speechiness': features['speechiness'],\n",
    "                'tempo': features['tempo'],\n",
    "                'valence': features['valence']}\n",
    "            else:\n",
    "                track['spotify track features'] = None\n",
    "\n",
    "\n",
    "\n",
    "\n",
    "            tracks.append(track)\n",
    "        return tracks\n",
    "    \n",
    "    "
   ]
  },
  {
   "cell_type": "code",
   "execution_count": 24,
   "metadata": {},
   "outputs": [
    {
     "name": "stderr",
     "output_type": "stream",
     "text": [
      " 82%|█████████████████████████████████████████████████████████████▌             | 853/1040 [3:47:23<1:04:22, 20.65s/it]"
     ]
    },
    {
     "name": "stdout",
     "output_type": "stream",
     "text": [
      "Limit Reached\n",
      "Limit Reached\n",
      "Limit Reached\n",
      "Limit Reached\n",
      "Limit Reached\n",
      "Limit Reached\n",
      "Limit Reached\n",
      "Limit Reached\n"
     ]
    },
    {
     "name": "stderr",
     "output_type": "stream",
     "text": [
      "\r",
      " 82%|█████████████████████████████████████████████████████████████▌             | 854/1040 [3:47:54<1:13:12, 23.61s/it]"
     ]
    },
    {
     "name": "stdout",
     "output_type": "stream",
     "text": [
      "Limit Reached\n"
     ]
    },
    {
     "name": "stderr",
     "output_type": "stream",
     "text": [
      "\r",
      " 82%|███████████████████████████████████████████████████████████████▎             | 855/1040 [3:47:56<52:48, 17.13s/it]"
     ]
    },
    {
     "name": "stdout",
     "output_type": "stream",
     "text": [
      "Limit Reached\n",
      "Limit Reached\n"
     ]
    },
    {
     "name": "stderr",
     "output_type": "stream",
     "text": [
      "\r",
      " 82%|███████████████████████████████████████████████████████████████▍             | 856/1040 [3:47:59<39:33, 12.90s/it]"
     ]
    },
    {
     "name": "stdout",
     "output_type": "stream",
     "text": [
      "Limit Reached\n",
      "Limit Reached\n"
     ]
    },
    {
     "name": "stderr",
     "output_type": "stream",
     "text": [
      "\r",
      " 82%|███████████████████████████████████████████████████████████████▍             | 857/1040 [3:48:03<31:12, 10.23s/it]"
     ]
    },
    {
     "name": "stdout",
     "output_type": "stream",
     "text": [
      "Limit Reached\n",
      "Limit Reached\n"
     ]
    },
    {
     "name": "stderr",
     "output_type": "stream",
     "text": [
      "\r",
      " 82%|███████████████████████████████████████████████████████████████▌             | 858/1040 [3:48:08<26:15,  8.66s/it]"
     ]
    },
    {
     "name": "stdout",
     "output_type": "stream",
     "text": [
      "Limit Reached\n",
      "Limit Reached\n"
     ]
    },
    {
     "name": "stderr",
     "output_type": "stream",
     "text": [
      "\r",
      " 83%|███████████████████████████████████████████████████████████████▌             | 859/1040 [3:48:14<23:42,  7.86s/it]"
     ]
    },
    {
     "name": "stdout",
     "output_type": "stream",
     "text": [
      "Limit Reached\n"
     ]
    },
    {
     "name": "stderr",
     "output_type": "stream",
     "text": [
      "\r",
      " 83%|███████████████████████████████████████████████████████████████▋             | 860/1040 [3:48:14<17:05,  5.70s/it]"
     ]
    },
    {
     "name": "stdout",
     "output_type": "stream",
     "text": [
      "Limit Reached\n"
     ]
    },
    {
     "name": "stderr",
     "output_type": "stream",
     "text": [
      "\r",
      " 83%|███████████████████████████████████████████████████████████████▋             | 861/1040 [3:48:21<18:11,  6.10s/it]"
     ]
    },
    {
     "name": "stdout",
     "output_type": "stream",
     "text": [
      "Limit Reached\n",
      "Limit Reached\n"
     ]
    },
    {
     "name": "stderr",
     "output_type": "stream",
     "text": [
      "\r",
      " 83%|███████████████████████████████████████████████████████████████▊             | 862/1040 [3:48:29<19:44,  6.66s/it]"
     ]
    },
    {
     "name": "stdout",
     "output_type": "stream",
     "text": [
      "Limit Reached\n",
      "Limit Reached\n"
     ]
    },
    {
     "name": "stderr",
     "output_type": "stream",
     "text": [
      "\r",
      " 83%|███████████████████████████████████████████████████████████████▉             | 863/1040 [3:48:38<21:41,  7.35s/it]"
     ]
    },
    {
     "name": "stdout",
     "output_type": "stream",
     "text": [
      "Limit Reached\n",
      "Limit Reached\n"
     ]
    },
    {
     "name": "stderr",
     "output_type": "stream",
     "text": [
      "\r",
      " 83%|███████████████████████████████████████████████████████████████▉             | 864/1040 [3:48:48<23:53,  8.14s/it]"
     ]
    },
    {
     "name": "stdout",
     "output_type": "stream",
     "text": [
      "Limit Reached\n",
      "Limit Reached\n"
     ]
    },
    {
     "name": "stderr",
     "output_type": "stream",
     "text": [
      "\r",
      " 83%|████████████████████████████████████████████████████████████████             | 865/1040 [3:48:59<26:16,  9.01s/it]"
     ]
    },
    {
     "name": "stdout",
     "output_type": "stream",
     "text": [
      "Limit Reached\n"
     ]
    },
    {
     "name": "stderr",
     "output_type": "stream",
     "text": [
      "\r",
      " 83%|████████████████████████████████████████████████████████████████             | 866/1040 [3:49:00<18:51,  6.50s/it]"
     ]
    },
    {
     "name": "stdout",
     "output_type": "stream",
     "text": [
      "Limit Reached\n"
     ]
    },
    {
     "name": "stderr",
     "output_type": "stream",
     "text": [
      "\r",
      " 83%|████████████████████████████████████████████████████████████████▏            | 867/1040 [3:49:12<23:30,  8.15s/it]"
     ]
    },
    {
     "name": "stdout",
     "output_type": "stream",
     "text": [
      "Limit Reached\n",
      "Limit Reached\n"
     ]
    },
    {
     "name": "stderr",
     "output_type": "stream",
     "text": [
      "\r",
      " 83%|████████████████████████████████████████████████████████████████▎            | 868/1040 [3:49:25<27:32,  9.61s/it]"
     ]
    },
    {
     "name": "stdout",
     "output_type": "stream",
     "text": [
      "Limit Reached\n",
      "Limit Reached\n"
     ]
    },
    {
     "name": "stderr",
     "output_type": "stream",
     "text": [
      "\r",
      " 84%|████████████████████████████████████████████████████████████████▎            | 869/1040 [3:49:39<31:09, 10.93s/it]"
     ]
    },
    {
     "name": "stdout",
     "output_type": "stream",
     "text": [
      "Limit Reached\n",
      "Limit Reached\n"
     ]
    },
    {
     "name": "stderr",
     "output_type": "stream",
     "text": [
      "\r",
      " 84%|████████████████████████████████████████████████████████████████▍            | 870/1040 [3:49:54<34:26, 12.15s/it]"
     ]
    },
    {
     "name": "stdout",
     "output_type": "stream",
     "text": [
      "Limit Reached\n",
      "Limit Reached\n"
     ]
    },
    {
     "name": "stderr",
     "output_type": "stream",
     "text": [
      "\r",
      " 84%|████████████████████████████████████████████████████████████████▍            | 871/1040 [3:50:10<37:27, 13.30s/it]"
     ]
    },
    {
     "name": "stdout",
     "output_type": "stream",
     "text": [
      "Limit Reached\n",
      "Limit Reached\n"
     ]
    },
    {
     "name": "stderr",
     "output_type": "stream",
     "text": [
      "\r",
      " 84%|████████████████████████████████████████████████████████████████▌            | 872/1040 [3:50:27<40:21, 14.41s/it]"
     ]
    },
    {
     "name": "stdout",
     "output_type": "stream",
     "text": [
      "Limit Reached\n"
     ]
    },
    {
     "name": "stderr",
     "output_type": "stream",
     "text": [
      "\r",
      " 84%|████████████████████████████████████████████████████████████████▋            | 873/1040 [3:50:28<28:36, 10.28s/it]"
     ]
    },
    {
     "name": "stdout",
     "output_type": "stream",
     "text": [
      "Limit Reached\n"
     ]
    },
    {
     "name": "stderr",
     "output_type": "stream",
     "text": [
      "\r",
      " 84%|████████████████████████████████████████████████████████████████▋            | 874/1040 [3:50:46<34:51, 12.60s/it]"
     ]
    },
    {
     "name": "stdout",
     "output_type": "stream",
     "text": [
      "Limit Reached\n",
      "Limit Reached\n"
     ]
    },
    {
     "name": "stderr",
     "output_type": "stream",
     "text": [
      "\r",
      " 84%|████████████████████████████████████████████████████████████████▊            | 875/1040 [3:51:05<39:53, 14.50s/it]"
     ]
    },
    {
     "name": "stdout",
     "output_type": "stream",
     "text": [
      "Limit Reached\n",
      "Limit Reached\n"
     ]
    },
    {
     "name": "stderr",
     "output_type": "stream",
     "text": [
      "\r",
      " 84%|████████████████████████████████████████████████████████████████▊            | 876/1040 [3:51:25<44:06, 16.14s/it]"
     ]
    },
    {
     "name": "stdout",
     "output_type": "stream",
     "text": [
      "Limit Reached\n",
      "Limit Reached\n"
     ]
    },
    {
     "name": "stderr",
     "output_type": "stream",
     "text": [
      "\r",
      " 84%|████████████████████████████████████████████████████████████████▉            | 877/1040 [3:51:46<47:47, 17.59s/it]"
     ]
    },
    {
     "name": "stdout",
     "output_type": "stream",
     "text": [
      "Limit Reached\n"
     ]
    },
    {
     "name": "stderr",
     "output_type": "stream",
     "text": [
      "\r",
      " 84%|█████████████████████████████████████████████████████████████████            | 878/1040 [3:51:46<33:46, 12.51s/it]"
     ]
    },
    {
     "name": "stdout",
     "output_type": "stream",
     "text": [
      "Limit Reached\n"
     ]
    },
    {
     "name": "stderr",
     "output_type": "stream",
     "text": [
      "\r",
      " 85%|█████████████████████████████████████████████████████████████████            | 879/1040 [3:52:08<41:14, 15.37s/it]"
     ]
    },
    {
     "name": "stdout",
     "output_type": "stream",
     "text": [
      "Limit Reached\n"
     ]
    },
    {
     "name": "stderr",
     "output_type": "stream",
     "text": [
      "\r",
      " 85%|█████████████████████████████████████████████████████████████████▏           | 880/1040 [3:52:09<29:13, 10.96s/it]"
     ]
    },
    {
     "name": "stdout",
     "output_type": "stream",
     "text": [
      "Limit Reached\n"
     ]
    },
    {
     "name": "stderr",
     "output_type": "stream",
     "text": [
      "\r",
      " 85%|█████████████████████████████████████████████████████████████████▏           | 881/1040 [3:52:32<38:39, 14.59s/it]"
     ]
    },
    {
     "name": "stdout",
     "output_type": "stream",
     "text": [
      "Limit Reached\n",
      "Limit Reached\n"
     ]
    },
    {
     "name": "stderr",
     "output_type": "stream",
     "text": [
      "\r",
      " 85%|█████████████████████████████████████████████████████████████████▎           | 882/1040 [3:52:56<45:54, 17.43s/it]"
     ]
    },
    {
     "name": "stdout",
     "output_type": "stream",
     "text": [
      "Limit Reached\n"
     ]
    },
    {
     "name": "stderr",
     "output_type": "stream",
     "text": [
      "\r",
      " 85%|█████████████████████████████████████████████████████████████████▍           | 883/1040 [3:52:57<32:26, 12.40s/it]"
     ]
    },
    {
     "name": "stdout",
     "output_type": "stream",
     "text": [
      "Limit Reached\n"
     ]
    },
    {
     "name": "stderr",
     "output_type": "stream",
     "text": [
      "\r",
      " 85%|█████████████████████████████████████████████████████████████████▍           | 884/1040 [3:53:22<42:09, 16.21s/it]"
     ]
    },
    {
     "name": "stdout",
     "output_type": "stream",
     "text": [
      "Limit Reached\n",
      "Limit Reached\n"
     ]
    },
    {
     "name": "stderr",
     "output_type": "stream",
     "text": [
      "\r",
      " 85%|█████████████████████████████████████████████████████████████████▌           | 885/1040 [3:53:48<49:31, 19.17s/it]"
     ]
    },
    {
     "name": "stdout",
     "output_type": "stream",
     "text": [
      "Limit Reached\n"
     ]
    },
    {
     "name": "stderr",
     "output_type": "stream",
     "text": [
      "\r",
      " 85%|█████████████████████████████████████████████████████████████████▌           | 886/1040 [3:53:49<34:57, 13.62s/it]"
     ]
    },
    {
     "name": "stdout",
     "output_type": "stream",
     "text": [
      "Limit Reached\n"
     ]
    },
    {
     "name": "stderr",
     "output_type": "stream",
     "text": [
      "\r",
      " 85%|█████████████████████████████████████████████████████████████████▋           | 887/1040 [3:54:16<45:00, 17.65s/it]"
     ]
    },
    {
     "name": "stdout",
     "output_type": "stream",
     "text": [
      "Limit Reached\n",
      "Limit Reached\n"
     ]
    },
    {
     "name": "stderr",
     "output_type": "stream",
     "text": [
      "\r",
      " 85%|█████████████████████████████████████████████████████████████████▋           | 888/1040 [3:54:44<52:36, 20.77s/it]"
     ]
    },
    {
     "name": "stdout",
     "output_type": "stream",
     "text": [
      "Limit Reached\n"
     ]
    },
    {
     "name": "stderr",
     "output_type": "stream",
     "text": [
      "\r",
      " 85%|█████████████████████████████████████████████████████████████████▊           | 889/1040 [3:54:44<37:04, 14.73s/it]"
     ]
    },
    {
     "name": "stdout",
     "output_type": "stream",
     "text": [
      "Limit Reached\n"
     ]
    },
    {
     "name": "stderr",
     "output_type": "stream",
     "text": [
      "\r",
      " 86%|█████████████████████████████████████████████████████████████████▉           | 890/1040 [3:55:13<47:32, 19.02s/it]"
     ]
    },
    {
     "name": "stdout",
     "output_type": "stream",
     "text": [
      "Limit Reached\n",
      "Limit Reached\n"
     ]
    },
    {
     "name": "stderr",
     "output_type": "stream",
     "text": [
      "\r",
      " 86%|█████████████████████████████████████████████████████████████████▉           | 891/1040 [3:55:43<55:24, 22.31s/it]"
     ]
    },
    {
     "name": "stdout",
     "output_type": "stream",
     "text": [
      "Limit Reached\n",
      "Limit Reached\n"
     ]
    },
    {
     "name": "stderr",
     "output_type": "stream",
     "text": [
      "\r",
      " 86%|████████████████████████████████████████████████████████████████▎          | 892/1040 [3:56:14<1:01:27, 24.92s/it]"
     ]
    },
    {
     "name": "stdout",
     "output_type": "stream",
     "text": [
      "Limit Reached\n",
      "Limit Reached\n"
     ]
    },
    {
     "name": "stderr",
     "output_type": "stream",
     "text": [
      "\r",
      " 86%|████████████████████████████████████████████████████████████████▍          | 893/1040 [3:56:46<1:06:16, 27.05s/it]"
     ]
    },
    {
     "name": "stdout",
     "output_type": "stream",
     "text": [
      "Limit Reached\n"
     ]
    },
    {
     "name": "stderr",
     "output_type": "stream",
     "text": [
      "\r",
      " 86%|██████████████████████████████████████████████████████████████████▏          | 894/1040 [3:56:47<46:36, 19.16s/it]"
     ]
    },
    {
     "name": "stdout",
     "output_type": "stream",
     "text": [
      "Limit Reached\n"
     ]
    },
    {
     "name": "stderr",
     "output_type": "stream",
     "text": [
      "\r",
      " 86%|██████████████████████████████████████████████████████████████████▎          | 895/1040 [3:57:20<56:18, 23.30s/it]"
     ]
    },
    {
     "name": "stdout",
     "output_type": "stream",
     "text": [
      "Limit Reached\n"
     ]
    },
    {
     "name": "stderr",
     "output_type": "stream",
     "text": [
      "\r",
      " 86%|██████████████████████████████████████████████████████████████████▎          | 896/1040 [3:57:21<39:37, 16.51s/it]"
     ]
    },
    {
     "name": "stdout",
     "output_type": "stream",
     "text": [
      "Limit Reached\n"
     ]
    },
    {
     "name": "stderr",
     "output_type": "stream",
     "text": [
      "\r",
      " 86%|██████████████████████████████████████████████████████████████████▍          | 897/1040 [3:57:55<51:50, 21.75s/it]"
     ]
    },
    {
     "name": "stdout",
     "output_type": "stream",
     "text": [
      "Limit Reached\n",
      "Limit Reached\n"
     ]
    },
    {
     "name": "stderr",
     "output_type": "stream",
     "text": [
      "\r",
      " 86%|████████████████████████████████████████████████████████████████▊          | 898/1040 [3:58:30<1:01:01, 25.79s/it]"
     ]
    },
    {
     "name": "stdout",
     "output_type": "stream",
     "text": [
      "Limit Reached\n",
      "Limit Reached\n"
     ]
    },
    {
     "name": "stderr",
     "output_type": "stream",
     "text": [
      "\r",
      " 86%|████████████████████████████████████████████████████████████████▊          | 899/1040 [3:59:06<1:07:47, 28.85s/it]"
     ]
    },
    {
     "name": "stdout",
     "output_type": "stream",
     "text": [
      "Limit Reached\n",
      "Limit Reached\n"
     ]
    },
    {
     "name": "stderr",
     "output_type": "stream",
     "text": [
      "\r",
      " 87%|████████████████████████████████████████████████████████████████▉          | 900/1040 [3:59:43<1:13:04, 31.32s/it]"
     ]
    },
    {
     "name": "stdout",
     "output_type": "stream",
     "text": [
      "Limit Reached\n",
      "Limit Reached\n"
     ]
    },
    {
     "name": "stderr",
     "output_type": "stream",
     "text": [
      "\r",
      " 87%|████████████████████████████████████████████████████████████████▉          | 901/1040 [4:00:21<1:17:23, 33.41s/it]"
     ]
    },
    {
     "name": "stdout",
     "output_type": "stream",
     "text": [
      "Limit Reached\n"
     ]
    },
    {
     "name": "stderr",
     "output_type": "stream",
     "text": [
      "\r",
      " 87%|██████████████████████████████████████████████████████████████████▊          | 902/1040 [4:00:22<54:14, 23.58s/it]"
     ]
    },
    {
     "name": "stdout",
     "output_type": "stream",
     "text": [
      "Limit Reached\n"
     ]
    },
    {
     "name": "stderr",
     "output_type": "stream",
     "text": [
      "\r",
      " 87%|█████████████████████████████████████████████████████████████████          | 903/1040 [4:01:01<1:04:24, 28.21s/it]"
     ]
    },
    {
     "name": "stdout",
     "output_type": "stream",
     "text": [
      "Limit Reached\n",
      "Limit Reached\n"
     ]
    },
    {
     "name": "stderr",
     "output_type": "stream",
     "text": [
      "\r",
      " 87%|█████████████████████████████████████████████████████████████████▏         | 904/1040 [4:01:41<1:12:00, 31.76s/it]"
     ]
    },
    {
     "name": "stdout",
     "output_type": "stream",
     "text": [
      "Limit Reached\n"
     ]
    },
    {
     "name": "stderr",
     "output_type": "stream",
     "text": [
      "\r",
      " 87%|███████████████████████████████████████████████████████████████████          | 905/1040 [4:01:42<50:28, 22.43s/it]"
     ]
    },
    {
     "name": "stdout",
     "output_type": "stream",
     "text": [
      "Limit Reached\n"
     ]
    },
    {
     "name": "stderr",
     "output_type": "stream",
     "text": [
      "\r",
      " 87%|█████████████████████████████████████████████████████████████████▎         | 906/1040 [4:02:23<1:02:30, 27.99s/it]"
     ]
    },
    {
     "name": "stdout",
     "output_type": "stream",
     "text": [
      "Limit Reached\n"
     ]
    },
    {
     "name": "stderr",
     "output_type": "stream",
     "text": [
      "\r",
      " 87%|███████████████████████████████████████████████████████████████████▏         | 907/1040 [4:02:23<43:53, 19.80s/it]"
     ]
    },
    {
     "name": "stdout",
     "output_type": "stream",
     "text": [
      "Limit Reached\n"
     ]
    },
    {
     "name": "stderr",
     "output_type": "stream",
     "text": [
      "\r",
      " 87%|███████████████████████████████████████████████████████████████████▏         | 908/1040 [4:03:05<58:20, 26.52s/it]"
     ]
    },
    {
     "name": "stdout",
     "output_type": "stream",
     "text": [
      "Limit Reached\n",
      "Limit Reached\n"
     ]
    },
    {
     "name": "stderr",
     "output_type": "stream",
     "text": [
      "\r",
      " 87%|█████████████████████████████████████████████████████████████████▌         | 909/1040 [4:03:48<1:08:41, 31.46s/it]"
     ]
    },
    {
     "name": "stdout",
     "output_type": "stream",
     "text": [
      "Limit Reached\n",
      "Limit Reached\n"
     ]
    },
    {
     "name": "stderr",
     "output_type": "stream",
     "text": [
      "\r",
      " 88%|█████████████████████████████████████████████████████████████████▋         | 910/1040 [4:04:33<1:16:22, 35.25s/it]"
     ]
    },
    {
     "name": "stdout",
     "output_type": "stream",
     "text": [
      "Limit Reached\n",
      "Limit Reached\n"
     ]
    },
    {
     "name": "stderr",
     "output_type": "stream",
     "text": [
      "\r",
      " 88%|█████████████████████████████████████████████████████████████████▋         | 911/1040 [4:05:18<1:22:08, 38.20s/it]"
     ]
    },
    {
     "name": "stdout",
     "output_type": "stream",
     "text": [
      "Limit Reached\n"
     ]
    },
    {
     "name": "stderr",
     "output_type": "stream",
     "text": [
      "\r",
      " 88%|███████████████████████████████████████████████████████████████████▌         | 912/1040 [4:05:18<57:31, 26.97s/it]"
     ]
    },
    {
     "name": "stdout",
     "output_type": "stream",
     "text": [
      "Limit Reached\n"
     ]
    },
    {
     "name": "stderr",
     "output_type": "stream",
     "text": [
      "\r",
      " 88%|█████████████████████████████████████████████████████████████████▊         | 913/1040 [4:06:04<1:09:12, 32.70s/it]"
     ]
    },
    {
     "name": "stdout",
     "output_type": "stream",
     "text": [
      "Limit Reached\n",
      "Limit Reached\n"
     ]
    },
    {
     "name": "stderr",
     "output_type": "stream",
     "text": [
      "\r",
      " 88%|█████████████████████████████████████████████████████████████████▉         | 914/1040 [4:06:51<1:17:41, 36.99s/it]"
     ]
    },
    {
     "name": "stdout",
     "output_type": "stream",
     "text": [
      "Limit Reached\n",
      "Limit Reached\n"
     ]
    },
    {
     "name": "stderr",
     "output_type": "stream",
     "text": [
      "\r",
      " 88%|█████████████████████████████████████████████████████████████████▉         | 915/1040 [4:07:39<1:23:57, 40.30s/it]"
     ]
    },
    {
     "name": "stdout",
     "output_type": "stream",
     "text": [
      "Limit Reached\n",
      "Limit Reached\n"
     ]
    },
    {
     "name": "stderr",
     "output_type": "stream",
     "text": [
      "\r",
      " 88%|██████████████████████████████████████████████████████████████████         | 916/1040 [4:08:29<1:28:44, 42.94s/it]"
     ]
    },
    {
     "name": "stdout",
     "output_type": "stream",
     "text": [
      "Limit Reached\n",
      "Limit Reached\n"
     ]
    },
    {
     "name": "stderr",
     "output_type": "stream",
     "text": [
      "\r",
      " 88%|██████████████████████████████████████████████████████████████████▏        | 917/1040 [4:09:19<1:32:22, 45.06s/it]"
     ]
    },
    {
     "name": "stdout",
     "output_type": "stream",
     "text": [
      "Limit Reached\n",
      "Limit Reached\n"
     ]
    },
    {
     "name": "stderr",
     "output_type": "stream",
     "text": [
      "\r",
      " 88%|██████████████████████████████████████████████████████████████████▏        | 918/1040 [4:10:10<1:35:14, 46.84s/it]"
     ]
    },
    {
     "name": "stdout",
     "output_type": "stream",
     "text": [
      "Limit Reached\n"
     ]
    },
    {
     "name": "stderr",
     "output_type": "stream",
     "text": [
      "\r",
      " 88%|██████████████████████████████████████████████████████████████████▎        | 919/1040 [4:10:10<1:06:30, 32.98s/it]"
     ]
    },
    {
     "name": "stdout",
     "output_type": "stream",
     "text": [
      "Limit Reached\n"
     ]
    },
    {
     "name": "stderr",
     "output_type": "stream",
     "text": [
      "\r",
      " 88%|██████████████████████████████████████████████████████████████████▎        | 920/1040 [4:11:02<1:17:24, 38.70s/it]"
     ]
    },
    {
     "name": "stdout",
     "output_type": "stream",
     "text": [
      "Limit Reached\n",
      "Limit Reached\n"
     ]
    },
    {
     "name": "stderr",
     "output_type": "stream",
     "text": [
      "\r",
      " 89%|██████████████████████████████████████████████████████████████████▍        | 921/1040 [4:11:56<1:25:25, 43.07s/it]"
     ]
    },
    {
     "name": "stdout",
     "output_type": "stream",
     "text": [
      "Limit Reached\n",
      "Limit Reached\n"
     ]
    },
    {
     "name": "stderr",
     "output_type": "stream",
     "text": [
      "\r",
      " 89%|██████████████████████████████████████████████████████████████████▍        | 922/1040 [4:12:50<1:31:08, 46.35s/it]"
     ]
    },
    {
     "name": "stdout",
     "output_type": "stream",
     "text": [
      "Limit Reached\n",
      "Limit Reached\n"
     ]
    },
    {
     "name": "stderr",
     "output_type": "stream",
     "text": [
      "\r",
      " 89%|██████████████████████████████████████████████████████████████████▌        | 923/1040 [4:13:45<1:35:25, 48.94s/it]"
     ]
    },
    {
     "name": "stdout",
     "output_type": "stream",
     "text": [
      "Limit Reached\n"
     ]
    },
    {
     "name": "stderr",
     "output_type": "stream",
     "text": [
      "\r",
      " 89%|██████████████████████████████████████████████████████████████████▋        | 924/1040 [4:13:45<1:06:36, 34.45s/it]"
     ]
    },
    {
     "name": "stdout",
     "output_type": "stream",
     "text": [
      "Limit Reached\n"
     ]
    },
    {
     "name": "stderr",
     "output_type": "stream",
     "text": [
      "\r",
      " 89%|██████████████████████████████████████████████████████████████████▋        | 925/1040 [4:14:41<1:18:26, 40.93s/it]"
     ]
    },
    {
     "name": "stdout",
     "output_type": "stream",
     "text": [
      "Limit Reached\n",
      "Limit Reached\n"
     ]
    },
    {
     "name": "stderr",
     "output_type": "stream",
     "text": [
      "\r",
      " 89%|██████████████████████████████████████████████████████████████████▊        | 926/1040 [4:15:38<1:26:54, 45.74s/it]"
     ]
    },
    {
     "name": "stdout",
     "output_type": "stream",
     "text": [
      "Limit Reached\n",
      "Limit Reached\n"
     ]
    },
    {
     "name": "stderr",
     "output_type": "stream",
     "text": [
      "\r",
      " 89%|██████████████████████████████████████████████████████████████████▊        | 927/1040 [4:16:36<1:33:05, 49.43s/it]"
     ]
    },
    {
     "name": "stdout",
     "output_type": "stream",
     "text": [
      "Limit Reached\n",
      "Limit Reached\n"
     ]
    },
    {
     "name": "stderr",
     "output_type": "stream",
     "text": [
      "\r",
      " 89%|██████████████████████████████████████████████████████████████████▉        | 928/1040 [4:17:35<1:37:36, 52.29s/it]"
     ]
    },
    {
     "name": "stdout",
     "output_type": "stream",
     "text": [
      "Limit Reached\n"
     ]
    },
    {
     "name": "stderr",
     "output_type": "stream",
     "text": [
      " 90%|█████████████████████████████████████████████████████████████████████        | 932/1040 [4:17:38<23:30, 13.06s/it]"
     ]
    },
    {
     "name": "stdout",
     "output_type": "stream",
     "text": [
      "Limit Reached\n"
     ]
    },
    {
     "name": "stderr",
     "output_type": "stream",
     "text": [
      "\r",
      " 90%|█████████████████████████████████████████████████████████████████████        | 933/1040 [4:18:38<48:23, 27.14s/it]"
     ]
    },
    {
     "name": "stdout",
     "output_type": "stream",
     "text": [
      "Limit Reached\n",
      "Limit Reached\n"
     ]
    },
    {
     "name": "stderr",
     "output_type": "stream",
     "text": [
      "\r",
      " 90%|███████████████████████████████████████████████████████████████████▎       | 934/1040 [4:19:39<1:05:53, 37.30s/it]"
     ]
    },
    {
     "name": "stdout",
     "output_type": "stream",
     "text": [
      "Limit Reached\n"
     ]
    },
    {
     "name": "stderr",
     "output_type": "stream",
     "text": [
      "\r",
      " 90%|█████████████████████████████████████████████████████████████████████▏       | 935/1040 [4:19:39<46:01, 26.30s/it]"
     ]
    },
    {
     "name": "stdout",
     "output_type": "stream",
     "text": [
      "Limit Reached\n"
     ]
    },
    {
     "name": "stderr",
     "output_type": "stream",
     "text": [
      "\r",
      " 90%|███████████████████████████████████████████████████████████████████▌       | 936/1040 [4:20:41<1:04:08, 37.00s/it]"
     ]
    },
    {
     "name": "stdout",
     "output_type": "stream",
     "text": [
      "Limit Reached\n",
      "Limit Reached\n"
     ]
    },
    {
     "name": "stderr",
     "output_type": "stream",
     "text": [
      "\r",
      " 90%|███████████████████████████████████████████████████████████████████▌       | 937/1040 [4:21:44<1:16:54, 44.80s/it]"
     ]
    },
    {
     "name": "stdout",
     "output_type": "stream",
     "text": [
      "Limit Reached\n"
     ]
    },
    {
     "name": "stderr",
     "output_type": "stream",
     "text": [
      " 90%|█████████████████████████████████████████████████████████████████████▌       | 939/1040 [4:21:46<37:30, 22.28s/it]"
     ]
    },
    {
     "name": "stdout",
     "output_type": "stream",
     "text": [
      "Limit Reached\n"
     ]
    },
    {
     "name": "stderr",
     "output_type": "stream",
     "text": [
      "\r",
      " 90%|█████████████████████████████████████████████████████████████████████▌       | 940/1040 [4:22:50<58:00, 34.81s/it]"
     ]
    },
    {
     "name": "stdout",
     "output_type": "stream",
     "text": [
      "Limit Reached\n"
     ]
    },
    {
     "name": "stderr",
     "output_type": "stream",
     "text": [
      "\r",
      " 90%|█████████████████████████████████████████████████████████████████████▋       | 941/1040 [4:22:50<40:32, 24.57s/it]"
     ]
    },
    {
     "name": "stdout",
     "output_type": "stream",
     "text": [
      "Limit Reached\n"
     ]
    },
    {
     "name": "stderr",
     "output_type": "stream",
     "text": [
      "\r",
      " 91%|█████████████████████████████████████████████████████████████████████▋       | 942/1040 [4:23:56<59:58, 36.72s/it]"
     ]
    },
    {
     "name": "stdout",
     "output_type": "stream",
     "text": [
      "Limit Reached\n"
     ]
    },
    {
     "name": "stderr",
     "output_type": "stream",
     "text": [
      " 91%|█████████████████████████████████████████████████████████████████████▉       | 944/1040 [4:23:57<29:21, 18.35s/it]"
     ]
    },
    {
     "name": "stdout",
     "output_type": "stream",
     "text": [
      "Limit Reached\n",
      "Limit Reached\n",
      "Limit Reached\n",
      "Limit Reached\n",
      "Limit Reached\n",
      "Limit Reached\n",
      "Limit Reached\n",
      "Limit Reached\n",
      "Limit Reached\n",
      "Limit Reached\n",
      "Limit Reached\n",
      "Limit Reached\n",
      "Limit Reached\n",
      "Limit Reached\n",
      "Limit Reached\n",
      "Limit Reached\n",
      "Limit Reached\n",
      "Limit Reached\n",
      "Limit Reached\n",
      "Limit Reached\n",
      "Limit Reached\n",
      "Limit Reached\n",
      "Limit Reached\n",
      "Limit Reached\n",
      "Limit Reached\n",
      "Limit Reached\n",
      "Limit Reached\n",
      "Limit Reached\n",
      "Limit Reached\n",
      "Limit Reached\n",
      "Limit Reached\n",
      "Limit Reached\n",
      "Limit Reached\n",
      "Limit Reached\n",
      "Limit Reached\n",
      "Limit Reached\n",
      "Limit Reached\n",
      "Limit Reached\n",
      "Limit Reached\n",
      "Limit Reached\n",
      "Limit Reached\n",
      "Limit Reached\n",
      "Limit Reached\n",
      "Limit Reached\n",
      "Limit Reached\n",
      "Limit Reached\n"
     ]
    },
    {
     "name": "stderr",
     "output_type": "stream",
     "text": [
      "100%|████████████████████████████████████████████████████████████████████████████| 1040/1040 [4:38:45<00:00, 16.08s/it]\n"
     ]
    }
   ],
   "source": [
    "# Loading Data and adding tracks for each album\n",
    "# Counter to slow down the API calls\n",
    "sleeper = defaultdict(lambda: 0.5)\n",
    "# Path to store file names, album and artist if the data was not pulled\n",
    "t = int(time.time()*100)\n",
    "path_for_no_data = f\"data/spotify_song_data/no_data/no_data_{t}.json\"\n",
    "\n",
    "# Counter used to store data\n",
    "counter = 1\n",
    "\n",
    "# Storing the API calls that did not work\n",
    "not_work = []\n",
    "\n",
    "for order in all_paths.keys():\n",
    "    \n",
    "    # Search for a specific category\n",
    "    if order != 'top':\n",
    "        continue\n",
    "    \n",
    "    # Iterating through all the file paths in that category\n",
    "    for j_file in all_paths[order]:\n",
    "        \n",
    "        # Getting the year from the file path\n",
    "        year = j_file[-9:-5]\n",
    "        \n",
    "        # Look for a specific year\n",
    "        if int(year) not in [1997]:\n",
    "            continue\n",
    "        \n",
    "        # Opening a file \n",
    "        with open(j_file) as f:\n",
    "            data_dict = json.load(f)\n",
    "        \n",
    "        # Appending the new dictionaries with added information into new_vals\n",
    "        new_vals = []\n",
    "        \n",
    "        # Iterating through each entry in the original dictionary\n",
    "        for entry in tqdm.tqdm(data_dict):\n",
    "            \n",
    "            # Sleeper to reduce timeout\n",
    "            time.sleep(sleeper['search'])\n",
    "            \n",
    "            # Checking for errors other than the limit reached\n",
    "            try:\n",
    "                # Getting the URI's of the album and artist\n",
    "                entry[\"spotify album uri\"],entry[\"spotify artist uri\"] =  api_get_uri(entry['Album'],entry['Artist Name'])\n",
    "            except:\n",
    "                \n",
    "                # If the info is not retrieved save the file name, album name and artist name to a file\n",
    "                not_work.append({\"file\":j_file,\"album\":entry['Album'],\"artist\":entry['Artist Name']})\n",
    "                with open(path_for_no_data, 'w') as file:\n",
    "                    json.dump(not_work, file)\n",
    "                continue\n",
    "                \n",
    "            \n",
    "            # Checking to see whether limit has reached (if limit has reached all functions return -1)\n",
    "            if entry[\"spotify album uri\"] == -1:\n",
    "                \n",
    "                # Increase the sleep time if limit has reached\n",
    "                sleeper['search']+=0.5\n",
    "                \n",
    "                # Appending the file name, album and artist since the data retrieval did not work\n",
    "                not_work.append({\"file\":j_file,\"album\":entry['Album'],\"artist\":entry['Artist Name']})\n",
    "                with open(path_for_no_data, 'w') as file:\n",
    "                    json.dump(not_work, file)\n",
    "                continue\n",
    "            \n",
    "            # To store artist data - we run through the same steps as for uri retrieval\n",
    "            artist_data = {}\n",
    "            if entry['spotify artist uri'] != None:\n",
    "                \n",
    "                time.sleep(sleeper['artist'])\n",
    "                \n",
    "                try:\n",
    "                    artist = api_get_artist_data(entry['spotify artist uri'])\n",
    "                    if artist == -1:\n",
    "                        sleeper['artist']+=0.5\n",
    "                    else:\n",
    "                        artist_data = {\n",
    "                        'spotify artist name': artist['name'],\n",
    "                        'spotify artist popularity': artist['popularity'],\n",
    "                        'spotify artist followers': artist['followers']['total'],\n",
    "                        'spotify artist genres': artist['genres']}\n",
    "                except:\n",
    "                    not_work.append({\"file\":j_file,\"album\":entry['Album'],\"artist\":entry['Artist Name']})\n",
    "                    with open(path_for_no_data, 'w') as file:\n",
    "                        json.dump(not_work, file)\n",
    "                \n",
    "\n",
    "            # To get album track data - we run through the same steps as for uri retrieval\n",
    "            if entry['spotify album uri'] != None:\n",
    "                \n",
    "                time.sleep(sleeper['album'])\n",
    "                try:\n",
    "                    # Getting the tracks, track data and features\n",
    "                    result = api_get_album_tracks(entry['spotify album uri'])\n",
    "\n",
    "                    if result == -1:\n",
    "                        sleeper['album']+=0.5\n",
    "                        not_work.append({\"file\":j_file,\"album\":entry['Album'],\"artist\":entry['Artist Name']})\n",
    "                        with open(path_for_no_data, 'w') as file:\n",
    "                            json.dump(not_work, file)\n",
    "                        continue\n",
    "                        \n",
    "                    # Checkin to see if the number of tracks returned is not 0\n",
    "                    if len(result)!=0:\n",
    "                        for res in result:\n",
    "                            # Creating a new dictionary with added information\n",
    "                            dup_entry = copy.deepcopy(entry)\n",
    "                            dup_entry.update(res)\n",
    "                            dup_entry.update(artist_data)\n",
    "                            \n",
    "                            # Appending to the main list\n",
    "                            new_vals.append(dup_entry) \n",
    "                    else:\n",
    "                        not_work.append({\"file\":j_file,\"album\":entry['Album'],\"artist\":entry['Artist Name']})\n",
    "                        with open(path_for_no_data, 'w') as file:\n",
    "                            json.dump(not_work, file)\n",
    "                except:\n",
    "                    not_work.append({\"file\":j_file,\"album\":entry['Album'],\"artist\":entry['Artist Name']})\n",
    "                    with open(path_for_no_data, 'w') as file:\n",
    "                        json.dump(not_work, file)\n",
    "                    \n",
    "                # For every 10 counts we save the data - to prevent losing all information in case of rate limit reached\n",
    "                if counter%10 == 0:\n",
    "                    store_path = \"data/spotify_song_data/{}/{}\".format(order,year+\".json\")\n",
    "                    with open(store_path, 'w') as file:\n",
    "                            json.dump(new_vals, file)\n",
    "                            \n",
    "                # Getting a new token every 40 iterations\n",
    "                if counter%40 == 0:\n",
    "                    token = get_token()\n",
    "                counter+=1\n",
    "            else:\n",
    "                not_work.append({\"file\":j_file,\"album\":entry['Album'],\"artist\":entry['Artist Name']})\n",
    "                with open(path_for_no_data, 'w') as file:\n",
    "                    json.dump(not_work, file)\n",
    "                    \n",
    "        # Store all the data into the year for the particular chart if all iterations are completed\n",
    "        store_path = \"data/spotify_song_data/{}/{}\".format(order,year+\".json\")            \n",
    "        with open(store_path, 'w') as file:\n",
    "            json.dump(new_vals, file)\n",
    "                "
   ]
  },
  {
   "cell_type": "code",
   "execution_count": null,
   "metadata": {},
   "outputs": [],
   "source": []
  }
 ],
 "metadata": {
  "kernelspec": {
   "display_name": "Python 3",
   "language": "python",
   "name": "python3"
  },
  "language_info": {
   "codemirror_mode": {
    "name": "ipython",
    "version": 3
   },
   "file_extension": ".py",
   "mimetype": "text/x-python",
   "name": "python",
   "nbconvert_exporter": "python",
   "pygments_lexer": "ipython3",
   "version": "3.8.5"
  }
 },
 "nbformat": 4,
 "nbformat_minor": 5
}
